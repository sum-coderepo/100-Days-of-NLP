{
  "nbformat": 4,
  "nbformat_minor": 0,
  "metadata": {
    "colab": {
      "name": "Naive Bayes.ipynb",
      "provenance": [],
      "authorship_tag": "ABX9TyOXrldqm5pKS8qgAyP1jRzq",
      "include_colab_link": true
    },
    "kernelspec": {
      "name": "python3",
      "display_name": "Python 3"
    }
  },
  "cells": [
    {
      "cell_type": "markdown",
      "metadata": {
        "id": "view-in-github",
        "colab_type": "text"
      },
      "source": [
        "<a href=\"https://colab.research.google.com/github/graviraja/100-Days-of-NLP/blob/architectures/architectures/Naive%20Bayes.ipynb\" target=\"_parent\"><img src=\"https://colab.research.google.com/assets/colab-badge.svg\" alt=\"Open In Colab\"/></a>"
      ]
    },
    {
      "cell_type": "markdown",
      "metadata": {
        "id": "Fb0M8LSRB77n",
        "colab_type": "text"
      },
      "source": [
        "### Imports"
      ]
    },
    {
      "cell_type": "code",
      "metadata": {
        "id": "ZALZ8sqr6FzI",
        "colab_type": "code",
        "colab": {
          "base_uri": "https://localhost:8080/",
          "height": 69
        },
        "outputId": "8790578f-7b79-4728-8e1d-2dcd620c4c72"
      },
      "source": [
        "import nltk\n",
        "nltk.download('stopwords')"
      ],
      "execution_count": 98,
      "outputs": [
        {
          "output_type": "stream",
          "text": [
            "[nltk_data] Downloading package stopwords to /root/nltk_data...\n",
            "[nltk_data]   Package stopwords is already up-to-date!\n"
          ],
          "name": "stdout"
        },
        {
          "output_type": "execute_result",
          "data": {
            "text/plain": [
              "True"
            ]
          },
          "metadata": {
            "tags": []
          },
          "execution_count": 98
        }
      ]
    },
    {
      "cell_type": "code",
      "metadata": {
        "id": "y_PrlBV46LY2",
        "colab_type": "code",
        "colab": {}
      },
      "source": [
        "import re\n",
        "import spacy\n",
        "import numpy as np\n",
        "import pandas as pd\n",
        "\n",
        "from nltk.corpus import stopwords\n",
        "\n",
        "from sklearn.datasets import fetch_20newsgroups\n",
        "from sklearn.naive_bayes import MultinomialNB, GaussianNB, BernoulliNB\n",
        "from sklearn.feature_extraction.text import TfidfVectorizer, CountVectorizer, HashingVectorizer\n",
        "from sklearn.model_selection import train_test_split\n",
        "from sklearn import metrics\n",
        "\n",
        "import gensim\n",
        "from gensim.utils import simple_preprocess\n",
        "\n",
        "import matplotlib.pyplot as plt\n",
        "import seaborn as sns\n",
        "from pprint import pprint"
      ],
      "execution_count": 135,
      "outputs": []
    },
    {
      "cell_type": "code",
      "metadata": {
        "id": "riM-aKBn6ZTV",
        "colab_type": "code",
        "colab": {}
      },
      "source": [
        "import warnings\n",
        "warnings.filterwarnings(\"ignore\",category=DeprecationWarning)\n",
        "np.random.seed(42)"
      ],
      "execution_count": 100,
      "outputs": []
    },
    {
      "cell_type": "code",
      "metadata": {
        "id": "bS_u58me6a8z",
        "colab_type": "code",
        "colab": {}
      },
      "source": [
        "stop_words = stopwords.words('english')\n",
        "stop_words.extend(['from', 'subject', 're', 'edu', 'use'])\n",
        "\n",
        "nlp = spacy.load('en', disable=['parser', 'ner'])"
      ],
      "execution_count": 101,
      "outputs": []
    },
    {
      "cell_type": "markdown",
      "metadata": {
        "id": "QDmA8uWbB-9u",
        "colab_type": "text"
      },
      "source": [
        "### Newsgroup Dataset"
      ]
    },
    {
      "cell_type": "code",
      "metadata": {
        "id": "MOThhvNs6gDs",
        "colab_type": "code",
        "colab": {
          "base_uri": "https://localhost:8080/",
          "height": 35
        },
        "outputId": "664da58f-7587-4ec5-eb78-7bdf63e2c40a"
      },
      "source": [
        "train_dataset = fetch_20newsgroups(subset=\"train\", shuffle=True, random_state=42, remove=('headers', 'footers', 'quotes'))\n",
        "test_dataset = fetch_20newsgroups(subset=\"test\", shuffle=True, random_state=42, remove=('headers', 'footers', 'quotes'))\n",
        "len(train_dataset.data), len(test_dataset.data)"
      ],
      "execution_count": 144,
      "outputs": [
        {
          "output_type": "execute_result",
          "data": {
            "text/plain": [
              "(11314, 7532)"
            ]
          },
          "metadata": {
            "tags": []
          },
          "execution_count": 144
        }
      ]
    },
    {
      "cell_type": "code",
      "metadata": {
        "id": "bRsMsKIQ6jyE",
        "colab_type": "code",
        "colab": {
          "base_uri": "https://localhost:8080/",
          "height": 363
        },
        "outputId": "149a9f55-86a6-4711-8644-b8502d3f2645"
      },
      "source": [
        "train_dataset.target_names"
      ],
      "execution_count": 145,
      "outputs": [
        {
          "output_type": "execute_result",
          "data": {
            "text/plain": [
              "['alt.atheism',\n",
              " 'comp.graphics',\n",
              " 'comp.os.ms-windows.misc',\n",
              " 'comp.sys.ibm.pc.hardware',\n",
              " 'comp.sys.mac.hardware',\n",
              " 'comp.windows.x',\n",
              " 'misc.forsale',\n",
              " 'rec.autos',\n",
              " 'rec.motorcycles',\n",
              " 'rec.sport.baseball',\n",
              " 'rec.sport.hockey',\n",
              " 'sci.crypt',\n",
              " 'sci.electronics',\n",
              " 'sci.med',\n",
              " 'sci.space',\n",
              " 'soc.religion.christian',\n",
              " 'talk.politics.guns',\n",
              " 'talk.politics.mideast',\n",
              " 'talk.politics.misc',\n",
              " 'talk.religion.misc']"
            ]
          },
          "metadata": {
            "tags": []
          },
          "execution_count": 145
        }
      ]
    },
    {
      "cell_type": "code",
      "metadata": {
        "id": "toUbJLqf6lNd",
        "colab_type": "code",
        "colab": {
          "base_uri": "https://localhost:8080/",
          "height": 305
        },
        "outputId": "6af67182-eb72-4dda-f27d-f62acddd3269"
      },
      "source": [
        "plt.figure(figsize=(20, 5))\n",
        "sns.countplot(train_dataset.target)"
      ],
      "execution_count": 146,
      "outputs": [
        {
          "output_type": "execute_result",
          "data": {
            "text/plain": [
              "<matplotlib.axes._subplots.AxesSubplot at 0x7f58a3fc0390>"
            ]
          },
          "metadata": {
            "tags": []
          },
          "execution_count": 146
        },
        {
          "output_type": "display_data",
          "data": {
            "image/png": "[encoded data removed]",
            "text/plain": [
              "<Figure size 1440x360 with 1 Axes>"
            ]
          },
          "metadata": {
            "tags": [],
            "needs_background": "light"
          }
        }
      ]
    },
    {
      "cell_type": "markdown",
      "metadata": {
        "id": "A_6tL8U5CBqH",
        "colab_type": "text"
      },
      "source": [
        "### Pre-processing"
      ]
    },
    {
      "cell_type": "code",
      "metadata": {
        "id": "FdMMGxOY6mY3",
        "colab_type": "code",
        "colab": {}
      },
      "source": [
        "def sentence_to_tokens(sent):\n",
        "    # remove emails\n",
        "    sent = re.sub(r'\\S*@\\S*\\s?', '', sent)\n",
        "    # remove newline chars\n",
        "    sent = re.sub(r'\\s+', ' ', sent)\n",
        "    # remove single quotes\n",
        "    sent = re.sub(r\"\\'\", \"\", sent)\n",
        "    # converts to lower case tokens and removes tokens that are\n",
        "    # too small & too long. Also remove accent characters & punct\n",
        "    tokens = simple_preprocess(str(sent), deacc=True)\n",
        "    return tokens"
      ],
      "execution_count": 147,
      "outputs": []
    },
    {
      "cell_type": "code",
      "metadata": {
        "id": "P6v8clad7EKK",
        "colab_type": "code",
        "colab": {
          "base_uri": "https://localhost:8080/",
          "height": 52
        },
        "outputId": "a803e717-8b83-4f85-862f-57c3694e55c7"
      },
      "source": [
        "%%time\n",
        "tokenized_train_data = [sentence_to_tokens(doc) for doc in train_dataset.data]\n",
        "tokenized_test_data = [sentence_to_tokens(doc) for doc in test_dataset.data]"
      ],
      "execution_count": 150,
      "outputs": [
        {
          "output_type": "stream",
          "text": [
            "CPU times: user 9.82 s, sys: 186 ms, total: 10 s\n",
            "Wall time: 10 s\n"
          ],
          "name": "stdout"
        }
      ]
    },
    {
      "cell_type": "code",
      "metadata": {
        "id": "qUMdVj8r7FXo",
        "colab_type": "code",
        "colab": {
          "base_uri": "https://localhost:8080/",
          "height": 87
        },
        "outputId": "4aaeea36-e3d5-4f39-88af-be9b643e7f7c"
      },
      "source": [
        "\" \".join(tokenized_train_data[0])"
      ],
      "execution_count": 151,
      "outputs": [
        {
          "output_type": "execute_result",
          "data": {
            "application/vnd.google.colaboratory.intrinsic+json": {
              "type": "string"
            },
            "text/plain": [
              "'was wondering if anyone out there could enlighten me on this car saw the other day it was door sports car looked to be from the late early it was called bricklin the doors were really small in addition the front bumper was separate from the rest of the body this is all know if anyone can tellme model name engine specs years of production where this car is made history or whatever info you have on this funky looking car please mail'"
            ]
          },
          "metadata": {
            "tags": []
          },
          "execution_count": 151
        }
      ]
    },
    {
      "cell_type": "code",
      "metadata": {
        "id": "nsaTnHta7JQA",
        "colab_type": "code",
        "colab": {
          "base_uri": "https://localhost:8080/",
          "height": 52
        },
        "outputId": "8cd51b7c-bc88-4ba6-85d4-c51bd25fe416"
      },
      "source": [
        "%%time\n",
        "# create bigrams from the tokenized data\n",
        "bigram = gensim.models.Phrases(tokenized_train_data, threshold=50)\n",
        "# make a bigram model\n",
        "bigram_mod = gensim.models.phrases.Phraser(bigram)"
      ],
      "execution_count": 152,
      "outputs": [
        {
          "output_type": "stream",
          "text": [
            "CPU times: user 11 s, sys: 43.8 ms, total: 11 s\n",
            "Wall time: 11 s\n"
          ],
          "name": "stdout"
        }
      ]
    },
    {
      "cell_type": "code",
      "metadata": {
        "id": "z0ZcEHxz7MiA",
        "colab_type": "code",
        "colab": {}
      },
      "source": [
        "def process_words(texts, allowed_postags=[\"NOUN\", \"ADJ\", \"VERB\", \"ADV\"]):\n",
        "    # remove stopwords\n",
        "    stop_free = [[word for word in doc if word not in stop_words] for doc in texts]\n",
        "    # bigrams\n",
        "    bigram_data = [bigram_mod[doc] for doc in stop_free]\n",
        "\n",
        "    texts_out = []\n",
        "    for sent in bigram_data:\n",
        "        doc = nlp(\" \".join(sent))\n",
        "        texts_out.append([token.lemma_ for token in doc if token.pos_ in allowed_postags])\n",
        "    # remove stopwords\n",
        "    texts_out = [[word for word in simple_preprocess(str(doc)) if word not in stop_words] for doc in texts_out]  \n",
        "    # join words into sentence in-order to make it useful to tfidf processing\n",
        "    texts_out = [\" \".join(words) for words in texts_out]\n",
        "    return texts_out"
      ],
      "execution_count": 153,
      "outputs": []
    },
    {
      "cell_type": "code",
      "metadata": {
        "id": "HZwX9SU07N9a",
        "colab_type": "code",
        "colab": {
          "base_uri": "https://localhost:8080/",
          "height": 52
        },
        "outputId": "16f52ce8-cf91-4773-a6e5-0fb38296041a"
      },
      "source": [
        "%%time\n",
        "processed_train_data = process_words(tokenized_train_data)\n",
        "processed_test_data = process_words(tokenized_test_data)"
      ],
      "execution_count": 154,
      "outputs": [
        {
          "output_type": "stream",
          "text": [
            "CPU times: user 2min 19s, sys: 1.58 s, total: 2min 21s\n",
            "Wall time: 2min 21s\n"
          ],
          "name": "stdout"
        }
      ]
    },
    {
      "cell_type": "code",
      "metadata": {
        "id": "P2GRVbiL7PTm",
        "colab_type": "code",
        "colab": {
          "base_uri": "https://localhost:8080/",
          "height": 53
        },
        "outputId": "1897b00e-eaf9-47e7-d028-082109046614"
      },
      "source": [
        "processed_train_data[0]"
      ],
      "execution_count": 155,
      "outputs": [
        {
          "output_type": "execute_result",
          "data": {
            "application/vnd.google.colaboratory.intrinsic+json": {
              "type": "string"
            },
            "text/plain": [
              "'wonder could enlighten car see day door look late early call bricklin door really small addition separate rest body know tellme model name engine year production car make history info funky look car mail'"
            ]
          },
          "metadata": {
            "tags": []
          },
          "execution_count": 155
        }
      ]
    },
    {
      "cell_type": "markdown",
      "metadata": {
        "id": "VyZHOuR8CFk7",
        "colab_type": "text"
      },
      "source": [
        "### Count Vectorization"
      ]
    },
    {
      "cell_type": "code",
      "metadata": {
        "id": "5GhKSWsiAuoB",
        "colab_type": "code",
        "colab": {}
      },
      "source": [
        "count = CountVectorizer()\n",
        "\n",
        "train_data_count_vectorized = count.fit_transform(processed_train_data)\n",
        "test_data_count_vectorized = count.transform(processed_test_data)"
      ],
      "execution_count": 156,
      "outputs": []
    },
    {
      "cell_type": "code",
      "metadata": {
        "id": "GLRvkanGLo2k",
        "colab_type": "code",
        "colab": {}
      },
      "source": [
        "X_train = train_data_count_vectorized\n",
        "y_train = train_dataset.target\n",
        "X_test = test_data_count_vectorized\n",
        "y_test = test_dataset.target"
      ],
      "execution_count": 157,
      "outputs": []
    },
    {
      "cell_type": "code",
      "metadata": {
        "id": "knPgp0uB7_w3",
        "colab_type": "code",
        "colab": {
          "base_uri": "https://localhost:8080/",
          "height": 52
        },
        "outputId": "98c9df99-9617-4b89-83c9-df5b7af80434"
      },
      "source": [
        "print(f\"Number of training samples: {len(y_train)}\")\n",
        "print(f\"Number of testing samples: {len(y_test)}\")"
      ],
      "execution_count": 158,
      "outputs": [
        {
          "output_type": "stream",
          "text": [
            "Number of training samples: 11314\n",
            "Number of testing samples: 7532\n"
          ],
          "name": "stdout"
        }
      ]
    },
    {
      "cell_type": "code",
      "metadata": {
        "id": "IEx6OJmJ8WIN",
        "colab_type": "code",
        "colab": {
          "base_uri": "https://localhost:8080/",
          "height": 324
        },
        "outputId": "6b2cdb6e-b84f-4a4d-d100-4bc45c4f60a5"
      },
      "source": [
        "plt.figure(figsize=(20, 5))\n",
        "sns.countplot(y_train)\n",
        "plt.xlabel(\"Training distribution\", fontsize=18)"
      ],
      "execution_count": 159,
      "outputs": [
        {
          "output_type": "execute_result",
          "data": {
            "text/plain": [
              "Text(0.5, 0, 'Training distribution')"
            ]
          },
          "metadata": {
            "tags": []
          },
          "execution_count": 159
        },
        {
          "output_type": "display_data",
          "data": {
            "image/png": "[encoded data removed]",
            "text/plain": [
              "<Figure size 1440x360 with 1 Axes>"
            ]
          },
          "metadata": {
            "tags": [],
            "needs_background": "light"
          }
        }
      ]
    },
    {
      "cell_type": "code",
      "metadata": {
        "id": "pg9O5lEA83SH",
        "colab_type": "code",
        "colab": {
          "base_uri": "https://localhost:8080/",
          "height": 324
        },
        "outputId": "4f206575-144b-40d5-a23d-032572ceb537"
      },
      "source": [
        "plt.figure(figsize=(20, 5))\n",
        "sns.countplot(y_test)\n",
        "plt.xlabel(\"Testing distribution\", fontsize=18)"
      ],
      "execution_count": 161,
      "outputs": [
        {
          "output_type": "execute_result",
          "data": {
            "text/plain": [
              "Text(0.5, 0, 'Testing distribution')"
            ]
          },
          "metadata": {
            "tags": []
          },
          "execution_count": 161
        },
        {
          "output_type": "display_data",
          "data": {
            "image/png": "[encoded data removed]",
            "text/plain": [
              "<Figure size 1440x360 with 1 Axes>"
            ]
          },
          "metadata": {
            "tags": [],
            "needs_background": "light"
          }
        }
      ]
    },
    {
      "cell_type": "markdown",
      "metadata": {
        "id": "-4NMM9ekCRin",
        "colab_type": "text"
      },
      "source": [
        "### Naive Bayes"
      ]
    },
    {
      "cell_type": "code",
      "metadata": {
        "id": "yMXXU9hyA_Wx",
        "colab_type": "code",
        "colab": {
          "base_uri": "https://localhost:8080/",
          "height": 52
        },
        "outputId": "0f7ce81c-3c8d-4742-c772-d927c366a14a"
      },
      "source": [
        "%%time\n",
        "# Text is discrete data. So the proper model needs to be used is Multinomial Naive Bayes\n",
        "mnb = MultinomialNB(alpha=.01)\n",
        "mnb.fit(X_train, y_train)\n",
        "y_pred = mnb.predict(X_test)"
      ],
      "execution_count": 166,
      "outputs": [
        {
          "output_type": "stream",
          "text": [
            "CPU times: user 59.6 ms, sys: 4 ms, total: 63.5 ms\n",
            "Wall time: 65.2 ms\n"
          ],
          "name": "stdout"
        }
      ]
    },
    {
      "cell_type": "code",
      "metadata": {
        "id": "EumQASKiBHD6",
        "colab_type": "code",
        "colab": {
          "base_uri": "https://localhost:8080/",
          "height": 35
        },
        "outputId": "b2822dc0-7093-4d01-dd17-a94cfabd1f2a"
      },
      "source": [
        "val_acc = metrics.accuracy_score(y_test, y_pred)\n",
        "val_acc"
      ],
      "execution_count": 167,
      "outputs": [
        {
          "output_type": "execute_result",
          "data": {
            "text/plain": [
              "0.5839086563993627"
            ]
          },
          "metadata": {
            "tags": []
          },
          "execution_count": 167
        }
      ]
    },
    {
      "cell_type": "code",
      "metadata": {
        "id": "zzlYmKM-CWgw",
        "colab_type": "code",
        "colab": {
          "base_uri": "https://localhost:8080/",
          "height": 35
        },
        "outputId": "a2659f90-13a7-4a4b-b9c9-b748683e2b0c"
      },
      "source": [
        "# For the continuous variables data, Gaussian Naive Bayes is used.\n",
        "# By using gaussian nb, we are assuming the underlying variables are\n",
        "# with gaussian distribution.\n",
        "gnb = GaussianNB()\n",
        "gnb.fit(X_train.toarray(), y_train)\n",
        "y_pred_2 = gnb.predict(X_test.toarray())\n",
        "metrics.accuracy_score(y_test, y_pred_2) # the accuracy will be less compared to Multinomial NB"
      ],
      "execution_count": 168,
      "outputs": [
        {
          "output_type": "execute_result",
          "data": {
            "text/plain": [
              "0.4528677642060542"
            ]
          },
          "metadata": {
            "tags": []
          },
          "execution_count": 168
        }
      ]
    },
    {
      "cell_type": "markdown",
      "metadata": {
        "id": "1q4ulLIdBq76",
        "colab_type": "text"
      },
      "source": [
        "### Tfidf"
      ]
    },
    {
      "cell_type": "code",
      "metadata": {
        "id": "vfRGQHYf7REg",
        "colab_type": "code",
        "colab": {}
      },
      "source": [
        "tfidf = TfidfVectorizer(sublinear_tf=True, max_df=0.5, stop_words='english')\n",
        "\n",
        "data_train_tfidf_vectorized = tfidf.fit_transform(processed_train_data)\n",
        "data_test_tfidf_vectorized = tfidf.transform(processed_test_data)"
      ],
      "execution_count": 175,
      "outputs": []
    },
    {
      "cell_type": "code",
      "metadata": {
        "id": "BcLsQ6Bl7TVE",
        "colab_type": "code",
        "colab": {}
      },
      "source": [
        "X_train = data_train_tfidf_vectorized\n",
        "y_train = train_dataset.target\n",
        "X_test = data_test_tfidf_vectorized\n",
        "y_test = test_dataset.target"
      ],
      "execution_count": 176,
      "outputs": []
    },
    {
      "cell_type": "code",
      "metadata": {
        "id": "swnHd0gt9Mg9",
        "colab_type": "code",
        "colab": {
          "base_uri": "https://localhost:8080/",
          "height": 52
        },
        "outputId": "8b55493d-317b-49ff-852f-0cf5ff0c9259"
      },
      "source": [
        "%%time\n",
        "mnb = MultinomialNB(alpha=.01)\n",
        "mnb.fit(X_train, y_train)\n",
        "y_pred = mnb.predict(X_test)"
      ],
      "execution_count": 179,
      "outputs": [
        {
          "output_type": "stream",
          "text": [
            "CPU times: user 73.1 ms, sys: 24 ms, total: 97.1 ms\n",
            "Wall time: 99.7 ms\n"
          ],
          "name": "stdout"
        }
      ]
    },
    {
      "cell_type": "code",
      "metadata": {
        "id": "u5QfiHpm9emF",
        "colab_type": "code",
        "colab": {
          "base_uri": "https://localhost:8080/",
          "height": 35
        },
        "outputId": "d74c8ced-c955-41d7-ffce-2ee2f112d24a"
      },
      "source": [
        "val_acc = metrics.accuracy_score(y_test, y_pred)\n",
        "val_acc # seems pretty good for a simple model"
      ],
      "execution_count": 180,
      "outputs": [
        {
          "output_type": "execute_result",
          "data": {
            "text/plain": [
              "0.6125862984599044"
            ]
          },
          "metadata": {
            "tags": []
          },
          "execution_count": 180
        }
      ]
    },
    {
      "cell_type": "markdown",
      "metadata": {
        "id": "2AqzVfYABwPm",
        "colab_type": "text"
      },
      "source": [
        "### Analyzing Results"
      ]
    },
    {
      "cell_type": "code",
      "metadata": {
        "id": "bRHUz5dC90DF",
        "colab_type": "code",
        "colab": {}
      },
      "source": [
        "mat = metrics.confusion_matrix(y_test, y_pred)"
      ],
      "execution_count": 181,
      "outputs": []
    },
    {
      "cell_type": "code",
      "metadata": {
        "id": "waGhp2EC-DjH",
        "colab_type": "code",
        "colab": {
          "base_uri": "https://localhost:8080/",
          "height": 856
        },
        "outputId": "d3a634f4-a647-4c47-983b-0f397e1f931c"
      },
      "source": [
        "plt.figure(figsize=(12, 12))\n",
        "sns.heatmap(mat, square=True, annot=True, fmt='d', cbar=False,\n",
        "            xticklabels=test_dataset.target_names, yticklabels=test_dataset.target_names)\n",
        "plt.xlabel('Truth')\n",
        "plt.ylabel('Predicted')"
      ],
      "execution_count": 182,
      "outputs": [
        {
          "output_type": "execute_result",
          "data": {
            "text/plain": [
              "Text(95.64, 0.5, 'Predicted')"
            ]
          },
          "metadata": {
            "tags": []
          },
          "execution_count": 182
        },
        {
          "output_type": "display_data",
          "data": {
            "image/png": "[encoded data removed]",
            "text/plain": [
              "<Figure size 864x864 with 1 Axes>"
            ]
          },
          "metadata": {
            "tags": [],
            "needs_background": "light"
          }
        }
      ]
    },
    {
      "cell_type": "markdown",
      "metadata": {
        "id": "B2xkNBUZEXtw",
        "colab_type": "text"
      },
      "source": [
        "Looks like religion is the most wrongly predicted class"
      ]
    },
    {
      "cell_type": "code",
      "metadata": {
        "id": "Q2Mr01F9-SDN",
        "colab_type": "code",
        "colab": {}
      },
      "source": [
        "report = metrics.classification_report(y_test, y_pred)"
      ],
      "execution_count": 183,
      "outputs": []
    },
    {
      "cell_type": "code",
      "metadata": {
        "id": "Y0GgamRi-p5A",
        "colab_type": "code",
        "colab": {
          "base_uri": "https://localhost:8080/",
          "height": 466
        },
        "outputId": "eb24e8df-cd43-4f21-da27-c30491bb82ba"
      },
      "source": [
        "pprint(report)"
      ],
      "execution_count": 184,
      "outputs": [
        {
          "output_type": "stream",
          "text": [
            "('              precision    recall  f1-score   support\\n'\n",
            " '\\n'\n",
            " '           0       0.48      0.39      0.43       319\\n'\n",
            " '           1       0.58      0.63      0.60       389\\n'\n",
            " '           2       0.54      0.47      0.50       394\\n'\n",
            " '           3       0.54      0.56      0.55       392\\n'\n",
            " '           4       0.58      0.51      0.54       385\\n'\n",
            " '           5       0.69      0.67      0.68       395\\n'\n",
            " '           6       0.72      0.67      0.70       390\\n'\n",
            " '           7       0.68      0.61      0.65       396\\n'\n",
            " '           8       0.69      0.63      0.66       398\\n'\n",
            " '           9       0.81      0.73      0.76       397\\n'\n",
            " '          10       0.50      0.84      0.63       399\\n'\n",
            " '          11       0.67      0.69      0.68       396\\n'\n",
            " '          12       0.61      0.52      0.57       393\\n'\n",
            " '          13       0.80      0.73      0.76       396\\n'\n",
            " '          14       0.70      0.70      0.70       394\\n'\n",
            " '          15       0.53      0.77      0.63       398\\n'\n",
            " '          16       0.49      0.63      0.55       364\\n'\n",
            " '          17       0.70      0.68      0.69       376\\n'\n",
            " '          18       0.50      0.39      0.44       310\\n'\n",
            " '          19       0.34      0.18      0.23       251\\n'\n",
            " '\\n'\n",
            " '    accuracy                           0.61      7532\\n'\n",
            " '   macro avg       0.61      0.60      0.60      7532\\n'\n",
            " 'weighted avg       0.62      0.61      0.61      7532\\n')\n"
          ],
          "name": "stdout"
        }
      ]
    },
    {
      "cell_type": "code",
      "metadata": {
        "id": "_HZe8wIY-_Ke",
        "colab_type": "code",
        "colab": {}
      },
      "source": [
        ""
      ],
      "execution_count": null,
      "outputs": []
    }
  ]
}