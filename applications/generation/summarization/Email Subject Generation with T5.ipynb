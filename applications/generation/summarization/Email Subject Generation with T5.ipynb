{
  "nbformat": 4,
  "nbformat_minor": 0,
  "metadata": {
    "colab": {
      "name": "Email Subject Generation with T5.ipynb",
      "provenance": [],
      "authorship_tag": "ABX9TyOYKqMJZO5v5rPPBZ13oajK",
      "include_colab_link": true
    },
    "kernelspec": {
      "name": "python3",
      "display_name": "Python 3"
    },
    "accelerator": "GPU"
  },
  "cells": [
    {
      "cell_type": "markdown",
      "metadata": {
        "id": "view-in-github",
        "colab_type": "text"
      },
      "source": [
        "<a href=\"https://colab.research.google.com/github/graviraja/100-Days-of-NLP/blob/applications%2Fgeneration/applications/generation/summarization/Email%20Subject%20Generation%20with%20T5.ipynb\" target=\"_parent\"><img src=\"https://colab.research.google.com/assets/colab-badge.svg\" alt=\"Open In Colab\"/></a>"
      ]
    },
    {
      "cell_type": "markdown",
      "metadata": {
        "id": "FVHZPqxGNOol",
        "colab_type": "text"
      },
      "source": [
        "### Installations"
      ]
    },
    {
      "cell_type": "code",
      "metadata": {
        "id": "RW0umIQQNQvk",
        "colab_type": "code",
        "colab": {
          "base_uri": "https://localhost:8080/",
          "height": 101
        },
        "outputId": "a93d1b5a-c8fd-43d1-a7f2-2892cf960f11"
      },
      "source": [
        "!pip install transformers -q"
      ],
      "execution_count": 1,
      "outputs": [
        {
          "output_type": "stream",
          "text": [
            "\u001b[K     |████████████████████████████████| 778kB 6.9MB/s \n",
            "\u001b[K     |████████████████████████████████| 3.0MB 12.5MB/s \n",
            "\u001b[K     |████████████████████████████████| 890kB 40.6MB/s \n",
            "\u001b[K     |████████████████████████████████| 1.1MB 41.8MB/s \n",
            "\u001b[?25h  Building wheel for sacremoses (setup.py) ... \u001b[?25l\u001b[?25hdone\n"
          ],
          "name": "stdout"
        }
      ]
    },
    {
      "cell_type": "code",
      "metadata": {
        "id": "-7wVsjzDcs7x",
        "colab_type": "code",
        "colab": {
          "base_uri": "https://localhost:8080/",
          "height": 475
        },
        "outputId": "6c4a3a9f-29d3-4251-ffe7-0d6798a735db"
      },
      "source": [
        "!pip install nlp"
      ],
      "execution_count": 2,
      "outputs": [
        {
          "output_type": "stream",
          "text": [
            "Collecting nlp\n",
            "\u001b[?25l  Downloading https://files.pythonhosted.org/packages/e5/77/9b8a06120e85d8057339a87dca967c8b73280fe463702cc4966c30f43960/nlp-0.3.0-py3-none-any.whl (1.1MB)\n",
            "\r\u001b[K     |▎                               | 10kB 16.5MB/s eta 0:00:01\r\u001b[K     |▋                               | 20kB 4.5MB/s eta 0:00:01\r\u001b[K     |█                               | 30kB 5.9MB/s eta 0:00:01\r\u001b[K     |█▎                              | 40kB 6.0MB/s eta 0:00:01\r\u001b[K     |█▌                              | 51kB 5.0MB/s eta 0:00:01\r\u001b[K     |█▉                              | 61kB 5.5MB/s eta 0:00:01\r\u001b[K     |██▏                             | 71kB 6.0MB/s eta 0:00:01\r\u001b[K     |██▌                             | 81kB 6.5MB/s eta 0:00:01\r\u001b[K     |██▉                             | 92kB 6.8MB/s eta 0:00:01\r\u001b[K     |███                             | 102kB 6.9MB/s eta 0:00:01\r\u001b[K     |███▍                            | 112kB 6.9MB/s eta 0:00:01\r\u001b[K     |███▊                            | 122kB 6.9MB/s eta 0:00:01\r\u001b[K     |████                            | 133kB 6.9MB/s eta 0:00:01\r\u001b[K     |████▍                           | 143kB 6.9MB/s eta 0:00:01\r\u001b[K     |████▋                           | 153kB 6.9MB/s eta 0:00:01\r\u001b[K     |█████                           | 163kB 6.9MB/s eta 0:00:01\r\u001b[K     |█████▎                          | 174kB 6.9MB/s eta 0:00:01\r\u001b[K     |█████▋                          | 184kB 6.9MB/s eta 0:00:01\r\u001b[K     |█████▉                          | 194kB 6.9MB/s eta 0:00:01\r\u001b[K     |██████▏                         | 204kB 6.9MB/s eta 0:00:01\r\u001b[K     |██████▌                         | 215kB 6.9MB/s eta 0:00:01\r\u001b[K     |██████▉                         | 225kB 6.9MB/s eta 0:00:01\r\u001b[K     |███████▏                        | 235kB 6.9MB/s eta 0:00:01\r\u001b[K     |███████▍                        | 245kB 6.9MB/s eta 0:00:01\r\u001b[K     |███████▊                        | 256kB 6.9MB/s eta 0:00:01\r\u001b[K     |████████                        | 266kB 6.9MB/s eta 0:00:01\r\u001b[K     |████████▍                       | 276kB 6.9MB/s eta 0:00:01\r\u001b[K     |████████▊                       | 286kB 6.9MB/s eta 0:00:01\r\u001b[K     |█████████                       | 296kB 6.9MB/s eta 0:00:01\r\u001b[K     |█████████▎                      | 307kB 6.9MB/s eta 0:00:01\r\u001b[K     |█████████▋                      | 317kB 6.9MB/s eta 0:00:01\r\u001b[K     |██████████                      | 327kB 6.9MB/s eta 0:00:01\r\u001b[K     |██████████▏                     | 337kB 6.9MB/s eta 0:00:01\r\u001b[K     |██████████▌                     | 348kB 6.9MB/s eta 0:00:01\r\u001b[K     |██████████▉                     | 358kB 6.9MB/s eta 0:00:01\r\u001b[K     |███████████▏                    | 368kB 6.9MB/s eta 0:00:01\r\u001b[K     |███████████▌                    | 378kB 6.9MB/s eta 0:00:01\r\u001b[K     |███████████▊                    | 389kB 6.9MB/s eta 0:00:01\r\u001b[K     |████████████                    | 399kB 6.9MB/s eta 0:00:01\r\u001b[K     |████████████▍                   | 409kB 6.9MB/s eta 0:00:01\r\u001b[K     |████████████▊                   | 419kB 6.9MB/s eta 0:00:01\r\u001b[K     |█████████████                   | 430kB 6.9MB/s eta 0:00:01\r\u001b[K     |█████████████▎                  | 440kB 6.9MB/s eta 0:00:01\r\u001b[K     |█████████████▋                  | 450kB 6.9MB/s eta 0:00:01\r\u001b[K     |██████████████                  | 460kB 6.9MB/s eta 0:00:01\r\u001b[K     |██████████████▎                 | 471kB 6.9MB/s eta 0:00:01\r\u001b[K     |██████████████▌                 | 481kB 6.9MB/s eta 0:00:01\r\u001b[K     |██████████████▉                 | 491kB 6.9MB/s eta 0:00:01\r\u001b[K     |███████████████▏                | 501kB 6.9MB/s eta 0:00:01\r\u001b[K     |███████████████▌                | 512kB 6.9MB/s eta 0:00:01\r\u001b[K     |███████████████▉                | 522kB 6.9MB/s eta 0:00:01\r\u001b[K     |████████████████                | 532kB 6.9MB/s eta 0:00:01\r\u001b[K     |████████████████▍               | 542kB 6.9MB/s eta 0:00:01\r\u001b[K     |████████████████▊               | 552kB 6.9MB/s eta 0:00:01\r\u001b[K     |█████████████████               | 563kB 6.9MB/s eta 0:00:01\r\u001b[K     |█████████████████▍              | 573kB 6.9MB/s eta 0:00:01\r\u001b[K     |█████████████████▋              | 583kB 6.9MB/s eta 0:00:01\r\u001b[K     |██████████████████              | 593kB 6.9MB/s eta 0:00:01\r\u001b[K     |██████████████████▎             | 604kB 6.9MB/s eta 0:00:01\r\u001b[K     |██████████████████▋             | 614kB 6.9MB/s eta 0:00:01\r\u001b[K     |██████████████████▉             | 624kB 6.9MB/s eta 0:00:01\r\u001b[K     |███████████████████▏            | 634kB 6.9MB/s eta 0:00:01\r\u001b[K     |███████████████████▌            | 645kB 6.9MB/s eta 0:00:01\r\u001b[K     |███████████████████▉            | 655kB 6.9MB/s eta 0:00:01\r\u001b[K     |████████████████████▏           | 665kB 6.9MB/s eta 0:00:01\r\u001b[K     |████████████████████▍           | 675kB 6.9MB/s eta 0:00:01\r\u001b[K     |████████████████████▊           | 686kB 6.9MB/s eta 0:00:01\r\u001b[K     |█████████████████████           | 696kB 6.9MB/s eta 0:00:01\r\u001b[K     |█████████████████████▍          | 706kB 6.9MB/s eta 0:00:01\r\u001b[K     |█████████████████████▊          | 716kB 6.9MB/s eta 0:00:01\r\u001b[K     |██████████████████████          | 727kB 6.9MB/s eta 0:00:01\r\u001b[K     |██████████████████████▎         | 737kB 6.9MB/s eta 0:00:01\r\u001b[K     |██████████████████████▋         | 747kB 6.9MB/s eta 0:00:01\r\u001b[K     |███████████████████████         | 757kB 6.9MB/s eta 0:00:01\r\u001b[K     |███████████████████████▏        | 768kB 6.9MB/s eta 0:00:01\r\u001b[K     |███████████████████████▌        | 778kB 6.9MB/s eta 0:00:01\r\u001b[K     |███████████████████████▉        | 788kB 6.9MB/s eta 0:00:01\r\u001b[K     |████████████████████████▏       | 798kB 6.9MB/s eta 0:00:01\r\u001b[K     |████████████████████████▌       | 808kB 6.9MB/s eta 0:00:01\r\u001b[K     |████████████████████████▊       | 819kB 6.9MB/s eta 0:00:01\r\u001b[K     |█████████████████████████       | 829kB 6.9MB/s eta 0:00:01\r\u001b[K     |█████████████████████████▍      | 839kB 6.9MB/s eta 0:00:01\r\u001b[K     |█████████████████████████▊      | 849kB 6.9MB/s eta 0:00:01\r\u001b[K     |██████████████████████████      | 860kB 6.9MB/s eta 0:00:01\r\u001b[K     |██████████████████████████▎     | 870kB 6.9MB/s eta 0:00:01\r\u001b[K     |██████████████████████████▋     | 880kB 6.9MB/s eta 0:00:01\r\u001b[K     |███████████████████████████     | 890kB 6.9MB/s eta 0:00:01\r\u001b[K     |███████████████████████████▎    | 901kB 6.9MB/s eta 0:00:01\r\u001b[K     |███████████████████████████▌    | 911kB 6.9MB/s eta 0:00:01\r\u001b[K     |███████████████████████████▉    | 921kB 6.9MB/s eta 0:00:01\r\u001b[K     |████████████████████████████▏   | 931kB 6.9MB/s eta 0:00:01\r\u001b[K     |████████████████████████████▌   | 942kB 6.9MB/s eta 0:00:01\r\u001b[K     |████████████████████████████▉   | 952kB 6.9MB/s eta 0:00:01\r\u001b[K     |█████████████████████████████   | 962kB 6.9MB/s eta 0:00:01\r\u001b[K     |█████████████████████████████▍  | 972kB 6.9MB/s eta 0:00:01\r\u001b[K     |█████████████████████████████▊  | 983kB 6.9MB/s eta 0:00:01\r\u001b[K     |██████████████████████████████  | 993kB 6.9MB/s eta 0:00:01\r\u001b[K     |██████████████████████████████▍ | 1.0MB 6.9MB/s eta 0:00:01\r\u001b[K     |██████████████████████████████▋ | 1.0MB 6.9MB/s eta 0:00:01\r\u001b[K     |███████████████████████████████ | 1.0MB 6.9MB/s eta 0:00:01\r\u001b[K     |███████████████████████████████▎| 1.0MB 6.9MB/s eta 0:00:01\r\u001b[K     |███████████████████████████████▋| 1.0MB 6.9MB/s eta 0:00:01\r\u001b[K     |███████████████████████████████▉| 1.1MB 6.9MB/s eta 0:00:01\r\u001b[K     |████████████████████████████████| 1.1MB 6.9MB/s \n",
            "\u001b[?25hRequirement already satisfied: dill in /usr/local/lib/python3.6/dist-packages (from nlp) (0.3.2)\n",
            "Requirement already satisfied: filelock in /usr/local/lib/python3.6/dist-packages (from nlp) (3.0.12)\n",
            "Collecting pyarrow>=0.16.0\n",
            "\u001b[?25l  Downloading https://files.pythonhosted.org/packages/ba/3f/6cac1714fff444664603f92cb9fbe91c7ae25375880158b9e9691c4584c8/pyarrow-0.17.1-cp36-cp36m-manylinux2014_x86_64.whl (63.8MB)\n",
            "\u001b[K     |████████████████████████████████| 63.8MB 47kB/s \n",
            "\u001b[?25hRequirement already satisfied: requests>=2.19.0 in /usr/local/lib/python3.6/dist-packages (from nlp) (2.23.0)\n",
            "Requirement already satisfied: dataclasses; python_version < \"3.7\" in /usr/local/lib/python3.6/dist-packages (from nlp) (0.7)\n",
            "Requirement already satisfied: numpy in /usr/local/lib/python3.6/dist-packages (from nlp) (1.18.5)\n",
            "Requirement already satisfied: tqdm>=4.27 in /usr/local/lib/python3.6/dist-packages (from nlp) (4.41.1)\n",
            "Requirement already satisfied: chardet<4,>=3.0.2 in /usr/local/lib/python3.6/dist-packages (from requests>=2.19.0->nlp) (3.0.4)\n",
            "Requirement already satisfied: certifi>=2017.4.17 in /usr/local/lib/python3.6/dist-packages (from requests>=2.19.0->nlp) (2020.6.20)\n",
            "Requirement already satisfied: idna<3,>=2.5 in /usr/local/lib/python3.6/dist-packages (from requests>=2.19.0->nlp) (2.10)\n",
            "Requirement already satisfied: urllib3!=1.25.0,!=1.25.1,<1.26,>=1.21.1 in /usr/local/lib/python3.6/dist-packages (from requests>=2.19.0->nlp) (1.24.3)\n",
            "Installing collected packages: pyarrow, nlp\n",
            "  Found existing installation: pyarrow 0.14.1\n",
            "    Uninstalling pyarrow-0.14.1:\n",
            "      Successfully uninstalled pyarrow-0.14.1\n",
            "Successfully installed nlp-0.3.0 pyarrow-0.17.1\n"
          ],
          "name": "stdout"
        },
        {
          "output_type": "display_data",
          "data": {
            "application/vnd.colab-display-data+json": {
              "pip_warning": {
                "packages": [
                  "pyarrow"
                ]
              }
            }
          },
          "metadata": {
            "tags": []
          }
        }
      ]
    },
    {
      "cell_type": "markdown",
      "metadata": {
        "id": "S7rApsL4NIkU",
        "colab_type": "text"
      },
      "source": [
        "### Imports"
      ]
    },
    {
      "cell_type": "code",
      "metadata": {
        "id": "zPUWFkDyNKFy",
        "colab_type": "code",
        "colab": {
          "base_uri": "https://localhost:8080/",
          "height": 70
        },
        "outputId": "20ca4752-2693-4c3d-cd55-199928506e22"
      },
      "source": [
        "import time\n",
        "import numpy as np\n",
        "import pandas as pd\n",
        "\n",
        "import torch\n",
        "import torch.nn.functional as F\n",
        "from torch.utils.data import Dataset, DataLoader, RandomSampler, SequentialSampler\n",
        "\n",
        "from nlp import load_dataset\n",
        "\n",
        "from transformers import T5Tokenizer, T5ForConditionalGeneration\n",
        "\n",
        "import matplotlib.pyplot as plt\n",
        "import seaborn as sns"
      ],
      "execution_count": 1,
      "outputs": [
        {
          "output_type": "stream",
          "text": [
            "/usr/local/lib/python3.6/dist-packages/statsmodels/tools/_testing.py:19: FutureWarning: pandas.util.testing is deprecated. Use the functions in the public API at pandas.testing instead.\n",
            "  import pandas.util.testing as tm\n"
          ],
          "name": "stderr"
        }
      ]
    },
    {
      "cell_type": "code",
      "metadata": {
        "id": "W2AYr_nRNoQT",
        "colab_type": "code",
        "colab": {
          "base_uri": "https://localhost:8080/",
          "height": 34
        },
        "outputId": "25355510-14a7-4f5e-9657-df93f81bed0d"
      },
      "source": [
        "device = torch.device('cuda' if torch.cuda.is_available() else 'cpu')\n",
        "device"
      ],
      "execution_count": 2,
      "outputs": [
        {
          "output_type": "execute_result",
          "data": {
            "text/plain": [
              "device(type='cuda')"
            ]
          },
          "metadata": {
            "tags": []
          },
          "execution_count": 2
        }
      ]
    },
    {
      "cell_type": "code",
      "metadata": {
        "id": "upwwQOJzWezD",
        "colab_type": "code",
        "colab": {}
      },
      "source": [
        "torch.manual_seed(42)\n",
        "np.random.seed(42)\n",
        "torch.backends.cudnn.deterministic = True"
      ],
      "execution_count": 3,
      "outputs": []
    },
    {
      "cell_type": "code",
      "metadata": {
        "id": "0cZCu3U5c4ha",
        "colab_type": "code",
        "colab": {
          "base_uri": "https://localhost:8080/",
          "height": 34
        },
        "outputId": "a1e79216-1e9e-48b7-cd49-0b6811c66cf3"
      },
      "source": [
        "dataset = load_dataset('aeslc')"
      ],
      "execution_count": 4,
      "outputs": [
        {
          "output_type": "stream",
          "text": [
            "Using custom data configuration default\n"
          ],
          "name": "stderr"
        }
      ]
    },
    {
      "cell_type": "code",
      "metadata": {
        "id": "Ct1F_YEQm5Ls",
        "colab_type": "code",
        "colab": {
          "base_uri": "https://localhost:8080/",
          "height": 34
        },
        "outputId": "5f60ed08-8927-451f-fd2c-42592d78de58"
      },
      "source": [
        "dataset.keys()"
      ],
      "execution_count": 5,
      "outputs": [
        {
          "output_type": "execute_result",
          "data": {
            "text/plain": [
              "dict_keys(['train', 'validation', 'test'])"
            ]
          },
          "metadata": {
            "tags": []
          },
          "execution_count": 5
        }
      ]
    },
    {
      "cell_type": "markdown",
      "metadata": {
        "id": "LMlN9gJOQutu",
        "colab_type": "text"
      },
      "source": [
        "### Data Exploration"
      ]
    },
    {
      "cell_type": "code",
      "metadata": {
        "id": "VpaGQDmMQyc-",
        "colab_type": "code",
        "colab": {
          "base_uri": "https://localhost:8080/",
          "height": 195
        },
        "outputId": "3d38f72d-bbc5-4c84-e6ab-3678c29e4f42"
      },
      "source": [
        "train_df = pd.DataFrame(dataset[\"train\"])\n",
        "valid_df = pd.DataFrame(dataset[\"validation\"])\n",
        "test_df = pd.DataFrame(dataset[\"test\"])\n",
        "train_df.head()"
      ],
      "execution_count": 6,
      "outputs": [
        {
          "output_type": "execute_result",
          "data": {
            "text/html": [
              "<div>\n",
              "<style scoped>\n",
              "    .dataframe tbody tr th:only-of-type {\n",
              "        vertical-align: middle;\n",
              "    }\n",
              "\n",
              "    .dataframe tbody tr th {\n",
              "        vertical-align: top;\n",
              "    }\n",
              "\n",
              "    .dataframe thead th {\n",
              "        text-align: right;\n",
              "    }\n",
              "</style>\n",
              "<table border=\"1\" class=\"dataframe\">\n",
              "  <thead>\n",
              "    <tr style=\"text-align: right;\">\n",
              "      <th></th>\n",
              "      <th>email_body</th>\n",
              "      <th>subject_line</th>\n",
              "    </tr>\n",
              "  </thead>\n",
              "  <tbody>\n",
              "    <tr>\n",
              "      <th>0</th>\n",
              "      <td>Greg/Phillip,  Attached is the Grande Communic...</td>\n",
              "      <td>Service Agreement</td>\n",
              "    </tr>\n",
              "    <tr>\n",
              "      <th>1</th>\n",
              "      <td>Phillip &amp; Keith  Attached is the first draw re...</td>\n",
              "      <td>Bishops Corner</td>\n",
              "    </tr>\n",
              "    <tr>\n",
              "      <th>2</th>\n",
              "      <td>Your Internet Banking accounts are now setup a...</td>\n",
              "      <td>Internet Banking</td>\n",
              "    </tr>\n",
              "    <tr>\n",
              "      <th>3</th>\n",
              "      <td>To our IBS Customers that are still hanging in...</td>\n",
              "      <td>Internet Banking</td>\n",
              "    </tr>\n",
              "    <tr>\n",
              "      <th>4</th>\n",
              "      <td>Phillip Good Morning!\\nI hope you had a wonder...</td>\n",
              "      <td>SMEs for expert stories</td>\n",
              "    </tr>\n",
              "  </tbody>\n",
              "</table>\n",
              "</div>"
            ],
            "text/plain": [
              "                                          email_body             subject_line\n",
              "0  Greg/Phillip,  Attached is the Grande Communic...        Service Agreement\n",
              "1  Phillip & Keith  Attached is the first draw re...           Bishops Corner\n",
              "2  Your Internet Banking accounts are now setup a...         Internet Banking\n",
              "3  To our IBS Customers that are still hanging in...         Internet Banking\n",
              "4  Phillip Good Morning!\\nI hope you had a wonder...  SMEs for expert stories"
            ]
          },
          "metadata": {
            "tags": []
          },
          "execution_count": 6
        }
      ]
    },
    {
      "cell_type": "code",
      "metadata": {
        "id": "MMy2EJ-KkpTZ",
        "colab_type": "code",
        "colab": {
          "base_uri": "https://localhost:8080/",
          "height": 34
        },
        "outputId": "2da25e14-205e-4789-bd56-18941458d45e"
      },
      "source": [
        "len(train_df), len(valid_df), len(test_df)"
      ],
      "execution_count": 7,
      "outputs": [
        {
          "output_type": "execute_result",
          "data": {
            "text/plain": [
              "(14436, 1960, 1906)"
            ]
          },
          "metadata": {
            "tags": []
          },
          "execution_count": 7
        }
      ]
    },
    {
      "cell_type": "code",
      "metadata": {
        "id": "9q-f8R4pkwVa",
        "colab_type": "code",
        "colab": {
          "base_uri": "https://localhost:8080/",
          "height": 154
        },
        "outputId": "3a5cafd4-a2a0-486f-ca65-5d1c041eff59"
      },
      "source": [
        "print(f\"Email: {train_df.iloc[0]['email_body']} \\nSubject Line: {train_df.iloc[0]['subject_line']}\")"
      ],
      "execution_count": 8,
      "outputs": [
        {
          "output_type": "stream",
          "text": [
            "Email: Greg/Phillip,  Attached is the Grande Communications Service Agreement.\n",
            "The business points can be found in Exhibit C.  I Can get the Non-Disturbance agreement after it has been executed by you and Grande.\n",
            "I will fill in the Legal description of the property one I have received it.\n",
            "Please execute and send to:  Grande Communications, 401 Carlson Circle, San Marcos Texas, 78666 Attention Hunter Williams.\n",
            "<<Bishopscontract.doc>>\n",
            " \n",
            "Subject Line: Service Agreement\n"
          ],
          "name": "stdout"
        }
      ]
    },
    {
      "cell_type": "code",
      "metadata": {
        "id": "wOnOBy7kmF6W",
        "colab_type": "code",
        "colab": {
          "base_uri": "https://localhost:8080/",
          "height": 195
        },
        "outputId": "522ff4d8-7991-42da-f86e-58a062cad518"
      },
      "source": [
        "train_df.email_body = \"summarize: \" + train_df.email_body\n",
        "train_df.head()"
      ],
      "execution_count": 9,
      "outputs": [
        {
          "output_type": "execute_result",
          "data": {
            "text/html": [
              "<div>\n",
              "<style scoped>\n",
              "    .dataframe tbody tr th:only-of-type {\n",
              "        vertical-align: middle;\n",
              "    }\n",
              "\n",
              "    .dataframe tbody tr th {\n",
              "        vertical-align: top;\n",
              "    }\n",
              "\n",
              "    .dataframe thead th {\n",
              "        text-align: right;\n",
              "    }\n",
              "</style>\n",
              "<table border=\"1\" class=\"dataframe\">\n",
              "  <thead>\n",
              "    <tr style=\"text-align: right;\">\n",
              "      <th></th>\n",
              "      <th>email_body</th>\n",
              "      <th>subject_line</th>\n",
              "    </tr>\n",
              "  </thead>\n",
              "  <tbody>\n",
              "    <tr>\n",
              "      <th>0</th>\n",
              "      <td>summarize: Greg/Phillip,  Attached is the Gran...</td>\n",
              "      <td>Service Agreement</td>\n",
              "    </tr>\n",
              "    <tr>\n",
              "      <th>1</th>\n",
              "      <td>summarize: Phillip &amp; Keith  Attached is the fi...</td>\n",
              "      <td>Bishops Corner</td>\n",
              "    </tr>\n",
              "    <tr>\n",
              "      <th>2</th>\n",
              "      <td>summarize: Your Internet Banking accounts are ...</td>\n",
              "      <td>Internet Banking</td>\n",
              "    </tr>\n",
              "    <tr>\n",
              "      <th>3</th>\n",
              "      <td>summarize: To our IBS Customers that are still...</td>\n",
              "      <td>Internet Banking</td>\n",
              "    </tr>\n",
              "    <tr>\n",
              "      <th>4</th>\n",
              "      <td>summarize: Phillip Good Morning!\\nI hope you h...</td>\n",
              "      <td>SMEs for expert stories</td>\n",
              "    </tr>\n",
              "  </tbody>\n",
              "</table>\n",
              "</div>"
            ],
            "text/plain": [
              "                                          email_body             subject_line\n",
              "0  summarize: Greg/Phillip,  Attached is the Gran...        Service Agreement\n",
              "1  summarize: Phillip & Keith  Attached is the fi...           Bishops Corner\n",
              "2  summarize: Your Internet Banking accounts are ...         Internet Banking\n",
              "3  summarize: To our IBS Customers that are still...         Internet Banking\n",
              "4  summarize: Phillip Good Morning!\\nI hope you h...  SMEs for expert stories"
            ]
          },
          "metadata": {
            "tags": []
          },
          "execution_count": 9
        }
      ]
    },
    {
      "cell_type": "code",
      "metadata": {
        "id": "2ZsuYex2kSv_",
        "colab_type": "code",
        "colab": {}
      },
      "source": [
        "# using only 50% of the data\n",
        "train_size = 0.5\n",
        "valid_size = 0.5\n",
        "\n",
        "train_df = train_df.sample(frac=train_size, random_state=42).reset_index(drop=True)\n",
        "valid_df = valid_df.sample(frac=valid_size, random_state=42).reset_index(drop=True)\n",
        "test_df = test_df.sample(frac=valid_size, random_state=42).reset_index(drop=True)\n",
        "\n",
        "valid_df.email_body = \"summarize: \" + valid_df.email_body\n",
        "test_df.email_body = \"summarize: \" + test_df.email_body"
      ],
      "execution_count": 10,
      "outputs": []
    },
    {
      "cell_type": "code",
      "metadata": {
        "id": "X0Y5ajOokipi",
        "colab_type": "code",
        "colab": {
          "base_uri": "https://localhost:8080/",
          "height": 34
        },
        "outputId": "e06056d2-8568-49ce-b687-279d44013797"
      },
      "source": [
        "len(train_df), len(valid_df), len(test_df)"
      ],
      "execution_count": 11,
      "outputs": [
        {
          "output_type": "execute_result",
          "data": {
            "text/plain": [
              "(7218, 980, 953)"
            ]
          },
          "metadata": {
            "tags": []
          },
          "execution_count": 11
        }
      ]
    },
    {
      "cell_type": "code",
      "metadata": {
        "id": "Bi5B2QNEsZm9",
        "colab_type": "code",
        "colab": {}
      },
      "source": [
        "emails = train_df.email_body.values\n",
        "email_lens = [len(email.split()) for email in emails]\n",
        "\n",
        "subjects = train_df.subject_line.values\n",
        "subject_lens = [len(subject.split()) for subject in subjects]"
      ],
      "execution_count": 12,
      "outputs": []
    },
    {
      "cell_type": "code",
      "metadata": {
        "id": "EavEzN2bsoRX",
        "colab_type": "code",
        "colab": {
          "base_uri": "https://localhost:8080/",
          "height": 282
        },
        "outputId": "6c5d2742-628b-404e-f749-de81d9257e36"
      },
      "source": [
        "sns.distplot(email_lens)"
      ],
      "execution_count": 13,
      "outputs": [
        {
          "output_type": "execute_result",
          "data": {
            "text/plain": [
              "<matplotlib.axes._subplots.AxesSubplot at 0x7f6f07a18fd0>"
            ]
          },
          "metadata": {
            "tags": []
          },
          "execution_count": 13
        },
        {
          "output_type": "display_data",
          "data": {
            "image/png": "[encoded data removed]",
            "text/plain": [
              "<Figure size 432x288 with 1 Axes>"
            ]
          },
          "metadata": {
            "tags": [],
            "needs_background": "light"
          }
        }
      ]
    },
    {
      "cell_type": "code",
      "metadata": {
        "id": "8i_ImmPTtDMp",
        "colab_type": "code",
        "colab": {
          "base_uri": "https://localhost:8080/",
          "height": 282
        },
        "outputId": "97ef9352-278e-4e59-ce37-3847b82a82ef"
      },
      "source": [
        "sns.distplot(subject_lens)"
      ],
      "execution_count": 14,
      "outputs": [
        {
          "output_type": "execute_result",
          "data": {
            "text/plain": [
              "<matplotlib.axes._subplots.AxesSubplot at 0x7f6f078162e8>"
            ]
          },
          "metadata": {
            "tags": []
          },
          "execution_count": 14
        },
        {
          "output_type": "display_data",
          "data": {
            "image/png": "[encoded data removed]",
            "text/plain": [
              "<Figure size 432x288 with 1 Axes>"
            ]
          },
          "metadata": {
            "tags": [],
            "needs_background": "light"
          }
        }
      ]
    },
    {
      "cell_type": "markdown",
      "metadata": {
        "id": "t5T_hLv0Rgty",
        "colab_type": "text"
      },
      "source": [
        "### Configurations"
      ]
    },
    {
      "cell_type": "code",
      "metadata": {
        "id": "VQAEJPMYRiL2",
        "colab_type": "code",
        "colab": {}
      },
      "source": [
        "MODEL_NAME = \"t5-base\"\n",
        "MODEL_PATH = \"model.pt\"\n",
        "TOKENIZER = T5Tokenizer.from_pretrained(MODEL_NAME)\n",
        "MAX_LEN = 200\n",
        "SUMMARY_LEN = 30\n",
        "TRAIN_BATCH_SIZE = 2\n",
        "VALID_BATCH_SIZE = 2\n",
        "EPOCHS = 2\n",
        "LR = 1e-4"
      ],
      "execution_count": 15,
      "outputs": []
    },
    {
      "cell_type": "markdown",
      "metadata": {
        "id": "kFeOkQq7QqQy",
        "colab_type": "text"
      },
      "source": [
        "### Dataset class"
      ]
    },
    {
      "cell_type": "code",
      "metadata": {
        "id": "l9OGakDYNyPL",
        "colab_type": "code",
        "colab": {}
      },
      "source": [
        "class EmailDataset(Dataset):\n",
        "    def __init__(self, df, tokenizer, source_len, summary_len):\n",
        "        super().__init__()\n",
        "\n",
        "        self.tokenizer = tokenizer\n",
        "        self.data = df\n",
        "        self.source_len = source_len\n",
        "        self.summary_len = summary_len\n",
        "        self.email_body = df.email_body\n",
        "        self.subject_line = df.subject_line\n",
        "    \n",
        "    def __len__(self):\n",
        "        return len(self.subject_line)\n",
        "    \n",
        "    def __getitem__(self, item):\n",
        "        email = str(self.email_body[item])\n",
        "        email = \" \".join(email.split())\n",
        "\n",
        "        subject = str(self.subject_line[item])\n",
        "        subject = \" \".join(subject.split())\n",
        "\n",
        "        source = self.tokenizer.encode_plus(\n",
        "            email,\n",
        "            max_length=self.source_len,\n",
        "            pad_to_max_length=True,\n",
        "            return_attention_mask=True,\n",
        "            truncation=True,\n",
        "            return_tensors='pt')\n",
        "        \n",
        "        target = self.tokenizer.encode_plus(\n",
        "            subject,\n",
        "            max_length=self.summary_len,\n",
        "            pad_to_max_length=True,\n",
        "            return_attention_mask=True,\n",
        "            truncation=True,\n",
        "            return_tensors='pt')\n",
        "\n",
        "        return {\n",
        "            \"source_ids\": source[\"input_ids\"].flatten(),\n",
        "            \"source_mask\": source[\"attention_mask\"].flatten(),\n",
        "            \"target_ids\": target[\"input_ids\"].flatten(),\n",
        "            \"target_mask\": target[\"attention_mask\"].flatten()\n",
        "        }"
      ],
      "execution_count": 16,
      "outputs": []
    },
    {
      "cell_type": "code",
      "metadata": {
        "id": "9hE_pbITRNGl",
        "colab_type": "code",
        "colab": {}
      },
      "source": [
        "train_dataset = EmailDataset(train_df, TOKENIZER, MAX_LEN, SUMMARY_LEN)\n",
        "valid_dataset = EmailDataset(valid_df, TOKENIZER, MAX_LEN, SUMMARY_LEN)\n",
        "test_dataset = EmailDataset(test_df, TOKENIZER, MAX_LEN, SUMMARY_LEN)"
      ],
      "execution_count": 17,
      "outputs": []
    },
    {
      "cell_type": "markdown",
      "metadata": {
        "id": "_rR6qRs7QPR8",
        "colab_type": "text"
      },
      "source": [
        "### DataLoaders"
      ]
    },
    {
      "cell_type": "code",
      "metadata": {
        "id": "dOein1F8QTqe",
        "colab_type": "code",
        "colab": {}
      },
      "source": [
        "train_data_loader = DataLoader(train_dataset, batch_size=TRAIN_BATCH_SIZE, shuffle=True)\n",
        "val_data_loader = DataLoader(valid_dataset, batch_size=VALID_BATCH_SIZE, shuffle=False)\n",
        "test_data_loader = DataLoader(test_dataset, batch_size=VALID_BATCH_SIZE, shuffle=False)"
      ],
      "execution_count": 18,
      "outputs": []
    },
    {
      "cell_type": "code",
      "metadata": {
        "id": "GDfMiXp1Qj_6",
        "colab_type": "code",
        "colab": {
          "base_uri": "https://localhost:8080/",
          "height": 34
        },
        "outputId": "06eeea57-4a1e-439d-e999-25cc8b1771d7"
      },
      "source": [
        "# sample check\n",
        "sample = next(iter(train_data_loader))\n",
        "sample['source_ids'].shape, sample['source_mask'].shape, sample['target_ids'].shape"
      ],
      "execution_count": 19,
      "outputs": [
        {
          "output_type": "execute_result",
          "data": {
            "text/plain": [
              "(torch.Size([2, 200]), torch.Size([2, 200]), torch.Size([2, 30]))"
            ]
          },
          "metadata": {
            "tags": []
          },
          "execution_count": 19
        }
      ]
    },
    {
      "cell_type": "markdown",
      "metadata": {
        "id": "4_nbv8k1Q-D9",
        "colab_type": "text"
      },
      "source": [
        "### Model"
      ]
    },
    {
      "cell_type": "code",
      "metadata": {
        "id": "FOrAYb8pQ-1N",
        "colab_type": "code",
        "colab": {
          "base_uri": "https://localhost:8080/",
          "height": 1000
        },
        "outputId": "0514ba86-90ad-4d5f-86fa-79ae6bc56a07"
      },
      "source": [
        "model = T5ForConditionalGeneration.from_pretrained(MODEL_NAME)\n",
        "model.to(device)"
      ],
      "execution_count": 20,
      "outputs": [
        {
          "output_type": "stream",
          "text": [
            "Some weights of T5ForConditionalGeneration were not initialized from the model checkpoint at t5-base and are newly initialized: ['encoder.embed_tokens.weight', 'decoder.embed_tokens.weight', 'lm_head.weight']\n",
            "You should probably TRAIN this model on a down-stream task to be able to use it for predictions and inference.\n"
          ],
          "name": "stderr"
        },
        {
          "output_type": "execute_result",
          "data": {
            "text/plain": [
              "T5ForConditionalGeneration(\n",
              "  (shared): Embedding(32128, 768)\n",
              "  (encoder): T5Stack(\n",
              "    (embed_tokens): Embedding(32128, 768)\n",
              "    (block): ModuleList(\n",
              "      (0): T5Block(\n",
              "        (layer): ModuleList(\n",
              "          (0): T5LayerSelfAttention(\n",
              "            (SelfAttention): T5Attention(\n",
              "              (q): Linear(in_features=768, out_features=768, bias=False)\n",
              "              (k): Linear(in_features=768, out_features=768, bias=False)\n",
              "              (v): Linear(in_features=768, out_features=768, bias=False)\n",
              "              (o): Linear(in_features=768, out_features=768, bias=False)\n",
              "              (relative_attention_bias): Embedding(32, 12)\n",
              "            )\n",
              "            (layer_norm): T5LayerNorm()\n",
              "            (dropout): Dropout(p=0.1, inplace=False)\n",
              "          )\n",
              "          (1): T5LayerFF(\n",
              "            (DenseReluDense): T5DenseReluDense(\n",
              "              (wi): Linear(in_features=768, out_features=3072, bias=False)\n",
              "              (wo): Linear(in_features=3072, out_features=768, bias=False)\n",
              "              (dropout): Dropout(p=0.1, inplace=False)\n",
              "            )\n",
              "            (layer_norm): T5LayerNorm()\n",
              "            (dropout): Dropout(p=0.1, inplace=False)\n",
              "          )\n",
              "        )\n",
              "      )\n",
              "      (1): T5Block(\n",
              "        (layer): ModuleList(\n",
              "          (0): T5LayerSelfAttention(\n",
              "            (SelfAttention): T5Attention(\n",
              "              (q): Linear(in_features=768, out_features=768, bias=False)\n",
              "              (k): Linear(in_features=768, out_features=768, bias=False)\n",
              "              (v): Linear(in_features=768, out_features=768, bias=False)\n",
              "              (o): Linear(in_features=768, out_features=768, bias=False)\n",
              "            )\n",
              "            (layer_norm): T5LayerNorm()\n",
              "            (dropout): Dropout(p=0.1, inplace=False)\n",
              "          )\n",
              "          (1): T5LayerFF(\n",
              "            (DenseReluDense): T5DenseReluDense(\n",
              "              (wi): Linear(in_features=768, out_features=3072, bias=False)\n",
              "              (wo): Linear(in_features=3072, out_features=768, bias=False)\n",
              "              (dropout): Dropout(p=0.1, inplace=False)\n",
              "            )\n",
              "            (layer_norm): T5LayerNorm()\n",
              "            (dropout): Dropout(p=0.1, inplace=False)\n",
              "          )\n",
              "        )\n",
              "      )\n",
              "      (2): T5Block(\n",
              "        (layer): ModuleList(\n",
              "          (0): T5LayerSelfAttention(\n",
              "            (SelfAttention): T5Attention(\n",
              "              (q): Linear(in_features=768, out_features=768, bias=False)\n",
              "              (k): Linear(in_features=768, out_features=768, bias=False)\n",
              "              (v): Linear(in_features=768, out_features=768, bias=False)\n",
              "              (o): Linear(in_features=768, out_features=768, bias=False)\n",
              "            )\n",
              "            (layer_norm): T5LayerNorm()\n",
              "            (dropout): Dropout(p=0.1, inplace=False)\n",
              "          )\n",
              "          (1): T5LayerFF(\n",
              "            (DenseReluDense): T5DenseReluDense(\n",
              "              (wi): Linear(in_features=768, out_features=3072, bias=False)\n",
              "              (wo): Linear(in_features=3072, out_features=768, bias=False)\n",
              "              (dropout): Dropout(p=0.1, inplace=False)\n",
              "            )\n",
              "            (layer_norm): T5LayerNorm()\n",
              "            (dropout): Dropout(p=0.1, inplace=False)\n",
              "          )\n",
              "        )\n",
              "      )\n",
              "      (3): T5Block(\n",
              "        (layer): ModuleList(\n",
              "          (0): T5LayerSelfAttention(\n",
              "            (SelfAttention): T5Attention(\n",
              "              (q): Linear(in_features=768, out_features=768, bias=False)\n",
              "              (k): Linear(in_features=768, out_features=768, bias=False)\n",
              "              (v): Linear(in_features=768, out_features=768, bias=False)\n",
              "              (o): Linear(in_features=768, out_features=768, bias=False)\n",
              "            )\n",
              "            (layer_norm): T5LayerNorm()\n",
              "            (dropout): Dropout(p=0.1, inplace=False)\n",
              "          )\n",
              "          (1): T5LayerFF(\n",
              "            (DenseReluDense): T5DenseReluDense(\n",
              "              (wi): Linear(in_features=768, out_features=3072, bias=False)\n",
              "              (wo): Linear(in_features=3072, out_features=768, bias=False)\n",
              "              (dropout): Dropout(p=0.1, inplace=False)\n",
              "            )\n",
              "            (layer_norm): T5LayerNorm()\n",
              "            (dropout): Dropout(p=0.1, inplace=False)\n",
              "          )\n",
              "        )\n",
              "      )\n",
              "      (4): T5Block(\n",
              "        (layer): ModuleList(\n",
              "          (0): T5LayerSelfAttention(\n",
              "            (SelfAttention): T5Attention(\n",
              "              (q): Linear(in_features=768, out_features=768, bias=False)\n",
              "              (k): Linear(in_features=768, out_features=768, bias=False)\n",
              "              (v): Linear(in_features=768, out_features=768, bias=False)\n",
              "              (o): Linear(in_features=768, out_features=768, bias=False)\n",
              "            )\n",
              "            (layer_norm): T5LayerNorm()\n",
              "            (dropout): Dropout(p=0.1, inplace=False)\n",
              "          )\n",
              "          (1): T5LayerFF(\n",
              "            (DenseReluDense): T5DenseReluDense(\n",
              "              (wi): Linear(in_features=768, out_features=3072, bias=False)\n",
              "              (wo): Linear(in_features=3072, out_features=768, bias=False)\n",
              "              (dropout): Dropout(p=0.1, inplace=False)\n",
              "            )\n",
              "            (layer_norm): T5LayerNorm()\n",
              "            (dropout): Dropout(p=0.1, inplace=False)\n",
              "          )\n",
              "        )\n",
              "      )\n",
              "      (5): T5Block(\n",
              "        (layer): ModuleList(\n",
              "          (0): T5LayerSelfAttention(\n",
              "            (SelfAttention): T5Attention(\n",
              "              (q): Linear(in_features=768, out_features=768, bias=False)\n",
              "              (k): Linear(in_features=768, out_features=768, bias=False)\n",
              "              (v): Linear(in_features=768, out_features=768, bias=False)\n",
              "              (o): Linear(in_features=768, out_features=768, bias=False)\n",
              "            )\n",
              "            (layer_norm): T5LayerNorm()\n",
              "            (dropout): Dropout(p=0.1, inplace=False)\n",
              "          )\n",
              "          (1): T5LayerFF(\n",
              "            (DenseReluDense): T5DenseReluDense(\n",
              "              (wi): Linear(in_features=768, out_features=3072, bias=False)\n",
              "              (wo): Linear(in_features=3072, out_features=768, bias=False)\n",
              "              (dropout): Dropout(p=0.1, inplace=False)\n",
              "            )\n",
              "            (layer_norm): T5LayerNorm()\n",
              "            (dropout): Dropout(p=0.1, inplace=False)\n",
              "          )\n",
              "        )\n",
              "      )\n",
              "      (6): T5Block(\n",
              "        (layer): ModuleList(\n",
              "          (0): T5LayerSelfAttention(\n",
              "            (SelfAttention): T5Attention(\n",
              "              (q): Linear(in_features=768, out_features=768, bias=False)\n",
              "              (k): Linear(in_features=768, out_features=768, bias=False)\n",
              "              (v): Linear(in_features=768, out_features=768, bias=False)\n",
              "              (o): Linear(in_features=768, out_features=768, bias=False)\n",
              "            )\n",
              "            (layer_norm): T5LayerNorm()\n",
              "            (dropout): Dropout(p=0.1, inplace=False)\n",
              "          )\n",
              "          (1): T5LayerFF(\n",
              "            (DenseReluDense): T5DenseReluDense(\n",
              "              (wi): Linear(in_features=768, out_features=3072, bias=False)\n",
              "              (wo): Linear(in_features=3072, out_features=768, bias=False)\n",
              "              (dropout): Dropout(p=0.1, inplace=False)\n",
              "            )\n",
              "            (layer_norm): T5LayerNorm()\n",
              "            (dropout): Dropout(p=0.1, inplace=False)\n",
              "          )\n",
              "        )\n",
              "      )\n",
              "      (7): T5Block(\n",
              "        (layer): ModuleList(\n",
              "          (0): T5LayerSelfAttention(\n",
              "            (SelfAttention): T5Attention(\n",
              "              (q): Linear(in_features=768, out_features=768, bias=False)\n",
              "              (k): Linear(in_features=768, out_features=768, bias=False)\n",
              "              (v): Linear(in_features=768, out_features=768, bias=False)\n",
              "              (o): Linear(in_features=768, out_features=768, bias=False)\n",
              "            )\n",
              "            (layer_norm): T5LayerNorm()\n",
              "            (dropout): Dropout(p=0.1, inplace=False)\n",
              "          )\n",
              "          (1): T5LayerFF(\n",
              "            (DenseReluDense): T5DenseReluDense(\n",
              "              (wi): Linear(in_features=768, out_features=3072, bias=False)\n",
              "              (wo): Linear(in_features=3072, out_features=768, bias=False)\n",
              "              (dropout): Dropout(p=0.1, inplace=False)\n",
              "            )\n",
              "            (layer_norm): T5LayerNorm()\n",
              "            (dropout): Dropout(p=0.1, inplace=False)\n",
              "          )\n",
              "        )\n",
              "      )\n",
              "      (8): T5Block(\n",
              "        (layer): ModuleList(\n",
              "          (0): T5LayerSelfAttention(\n",
              "            (SelfAttention): T5Attention(\n",
              "              (q): Linear(in_features=768, out_features=768, bias=False)\n",
              "              (k): Linear(in_features=768, out_features=768, bias=False)\n",
              "              (v): Linear(in_features=768, out_features=768, bias=False)\n",
              "              (o): Linear(in_features=768, out_features=768, bias=False)\n",
              "            )\n",
              "            (layer_norm): T5LayerNorm()\n",
              "            (dropout): Dropout(p=0.1, inplace=False)\n",
              "          )\n",
              "          (1): T5LayerFF(\n",
              "            (DenseReluDense): T5DenseReluDense(\n",
              "              (wi): Linear(in_features=768, out_features=3072, bias=False)\n",
              "              (wo): Linear(in_features=3072, out_features=768, bias=False)\n",
              "              (dropout): Dropout(p=0.1, inplace=False)\n",
              "            )\n",
              "            (layer_norm): T5LayerNorm()\n",
              "            (dropout): Dropout(p=0.1, inplace=False)\n",
              "          )\n",
              "        )\n",
              "      )\n",
              "      (9): T5Block(\n",
              "        (layer): ModuleList(\n",
              "          (0): T5LayerSelfAttention(\n",
              "            (SelfAttention): T5Attention(\n",
              "              (q): Linear(in_features=768, out_features=768, bias=False)\n",
              "              (k): Linear(in_features=768, out_features=768, bias=False)\n",
              "              (v): Linear(in_features=768, out_features=768, bias=False)\n",
              "              (o): Linear(in_features=768, out_features=768, bias=False)\n",
              "            )\n",
              "            (layer_norm): T5LayerNorm()\n",
              "            (dropout): Dropout(p=0.1, inplace=False)\n",
              "          )\n",
              "          (1): T5LayerFF(\n",
              "            (DenseReluDense): T5DenseReluDense(\n",
              "              (wi): Linear(in_features=768, out_features=3072, bias=False)\n",
              "              (wo): Linear(in_features=3072, out_features=768, bias=False)\n",
              "              (dropout): Dropout(p=0.1, inplace=False)\n",
              "            )\n",
              "            (layer_norm): T5LayerNorm()\n",
              "            (dropout): Dropout(p=0.1, inplace=False)\n",
              "          )\n",
              "        )\n",
              "      )\n",
              "      (10): T5Block(\n",
              "        (layer): ModuleList(\n",
              "          (0): T5LayerSelfAttention(\n",
              "            (SelfAttention): T5Attention(\n",
              "              (q): Linear(in_features=768, out_features=768, bias=False)\n",
              "              (k): Linear(in_features=768, out_features=768, bias=False)\n",
              "              (v): Linear(in_features=768, out_features=768, bias=False)\n",
              "              (o): Linear(in_features=768, out_features=768, bias=False)\n",
              "            )\n",
              "            (layer_norm): T5LayerNorm()\n",
              "            (dropout): Dropout(p=0.1, inplace=False)\n",
              "          )\n",
              "          (1): T5LayerFF(\n",
              "            (DenseReluDense): T5DenseReluDense(\n",
              "              (wi): Linear(in_features=768, out_features=3072, bias=False)\n",
              "              (wo): Linear(in_features=3072, out_features=768, bias=False)\n",
              "              (dropout): Dropout(p=0.1, inplace=False)\n",
              "            )\n",
              "            (layer_norm): T5LayerNorm()\n",
              "            (dropout): Dropout(p=0.1, inplace=False)\n",
              "          )\n",
              "        )\n",
              "      )\n",
              "      (11): T5Block(\n",
              "        (layer): ModuleList(\n",
              "          (0): T5LayerSelfAttention(\n",
              "            (SelfAttention): T5Attention(\n",
              "              (q): Linear(in_features=768, out_features=768, bias=False)\n",
              "              (k): Linear(in_features=768, out_features=768, bias=False)\n",
              "              (v): Linear(in_features=768, out_features=768, bias=False)\n",
              "              (o): Linear(in_features=768, out_features=768, bias=False)\n",
              "            )\n",
              "            (layer_norm): T5LayerNorm()\n",
              "            (dropout): Dropout(p=0.1, inplace=False)\n",
              "          )\n",
              "          (1): T5LayerFF(\n",
              "            (DenseReluDense): T5DenseReluDense(\n",
              "              (wi): Linear(in_features=768, out_features=3072, bias=False)\n",
              "              (wo): Linear(in_features=3072, out_features=768, bias=False)\n",
              "              (dropout): Dropout(p=0.1, inplace=False)\n",
              "            )\n",
              "            (layer_norm): T5LayerNorm()\n",
              "            (dropout): Dropout(p=0.1, inplace=False)\n",
              "          )\n",
              "        )\n",
              "      )\n",
              "    )\n",
              "    (final_layer_norm): T5LayerNorm()\n",
              "    (dropout): Dropout(p=0.1, inplace=False)\n",
              "  )\n",
              "  (decoder): T5Stack(\n",
              "    (embed_tokens): Embedding(32128, 768)\n",
              "    (block): ModuleList(\n",
              "      (0): T5Block(\n",
              "        (layer): ModuleList(\n",
              "          (0): T5LayerSelfAttention(\n",
              "            (SelfAttention): T5Attention(\n",
              "              (q): Linear(in_features=768, out_features=768, bias=False)\n",
              "              (k): Linear(in_features=768, out_features=768, bias=False)\n",
              "              (v): Linear(in_features=768, out_features=768, bias=False)\n",
              "              (o): Linear(in_features=768, out_features=768, bias=False)\n",
              "              (relative_attention_bias): Embedding(32, 12)\n",
              "            )\n",
              "            (layer_norm): T5LayerNorm()\n",
              "            (dropout): Dropout(p=0.1, inplace=False)\n",
              "          )\n",
              "          (1): T5LayerCrossAttention(\n",
              "            (EncDecAttention): T5Attention(\n",
              "              (q): Linear(in_features=768, out_features=768, bias=False)\n",
              "              (k): Linear(in_features=768, out_features=768, bias=False)\n",
              "              (v): Linear(in_features=768, out_features=768, bias=False)\n",
              "              (o): Linear(in_features=768, out_features=768, bias=False)\n",
              "              (relative_attention_bias): Embedding(32, 12)\n",
              "            )\n",
              "            (layer_norm): T5LayerNorm()\n",
              "            (dropout): Dropout(p=0.1, inplace=False)\n",
              "          )\n",
              "          (2): T5LayerFF(\n",
              "            (DenseReluDense): T5DenseReluDense(\n",
              "              (wi): Linear(in_features=768, out_features=3072, bias=False)\n",
              "              (wo): Linear(in_features=3072, out_features=768, bias=False)\n",
              "              (dropout): Dropout(p=0.1, inplace=False)\n",
              "            )\n",
              "            (layer_norm): T5LayerNorm()\n",
              "            (dropout): Dropout(p=0.1, inplace=False)\n",
              "          )\n",
              "        )\n",
              "      )\n",
              "      (1): T5Block(\n",
              "        (layer): ModuleList(\n",
              "          (0): T5LayerSelfAttention(\n",
              "            (SelfAttention): T5Attention(\n",
              "              (q): Linear(in_features=768, out_features=768, bias=False)\n",
              "              (k): Linear(in_features=768, out_features=768, bias=False)\n",
              "              (v): Linear(in_features=768, out_features=768, bias=False)\n",
              "              (o): Linear(in_features=768, out_features=768, bias=False)\n",
              "            )\n",
              "            (layer_norm): T5LayerNorm()\n",
              "            (dropout): Dropout(p=0.1, inplace=False)\n",
              "          )\n",
              "          (1): T5LayerCrossAttention(\n",
              "            (EncDecAttention): T5Attention(\n",
              "              (q): Linear(in_features=768, out_features=768, bias=False)\n",
              "              (k): Linear(in_features=768, out_features=768, bias=False)\n",
              "              (v): Linear(in_features=768, out_features=768, bias=False)\n",
              "              (o): Linear(in_features=768, out_features=768, bias=False)\n",
              "            )\n",
              "            (layer_norm): T5LayerNorm()\n",
              "            (dropout): Dropout(p=0.1, inplace=False)\n",
              "          )\n",
              "          (2): T5LayerFF(\n",
              "            (DenseReluDense): T5DenseReluDense(\n",
              "              (wi): Linear(in_features=768, out_features=3072, bias=False)\n",
              "              (wo): Linear(in_features=3072, out_features=768, bias=False)\n",
              "              (dropout): Dropout(p=0.1, inplace=False)\n",
              "            )\n",
              "            (layer_norm): T5LayerNorm()\n",
              "            (dropout): Dropout(p=0.1, inplace=False)\n",
              "          )\n",
              "        )\n",
              "      )\n",
              "      (2): T5Block(\n",
              "        (layer): ModuleList(\n",
              "          (0): T5LayerSelfAttention(\n",
              "            (SelfAttention): T5Attention(\n",
              "              (q): Linear(in_features=768, out_features=768, bias=False)\n",
              "              (k): Linear(in_features=768, out_features=768, bias=False)\n",
              "              (v): Linear(in_features=768, out_features=768, bias=False)\n",
              "              (o): Linear(in_features=768, out_features=768, bias=False)\n",
              "            )\n",
              "            (layer_norm): T5LayerNorm()\n",
              "            (dropout): Dropout(p=0.1, inplace=False)\n",
              "          )\n",
              "          (1): T5LayerCrossAttention(\n",
              "            (EncDecAttention): T5Attention(\n",
              "              (q): Linear(in_features=768, out_features=768, bias=False)\n",
              "              (k): Linear(in_features=768, out_features=768, bias=False)\n",
              "              (v): Linear(in_features=768, out_features=768, bias=False)\n",
              "              (o): Linear(in_features=768, out_features=768, bias=False)\n",
              "            )\n",
              "            (layer_norm): T5LayerNorm()\n",
              "            (dropout): Dropout(p=0.1, inplace=False)\n",
              "          )\n",
              "          (2): T5LayerFF(\n",
              "            (DenseReluDense): T5DenseReluDense(\n",
              "              (wi): Linear(in_features=768, out_features=3072, bias=False)\n",
              "              (wo): Linear(in_features=3072, out_features=768, bias=False)\n",
              "              (dropout): Dropout(p=0.1, inplace=False)\n",
              "            )\n",
              "            (layer_norm): T5LayerNorm()\n",
              "            (dropout): Dropout(p=0.1, inplace=False)\n",
              "          )\n",
              "        )\n",
              "      )\n",
              "      (3): T5Block(\n",
              "        (layer): ModuleList(\n",
              "          (0): T5LayerSelfAttention(\n",
              "            (SelfAttention): T5Attention(\n",
              "              (q): Linear(in_features=768, out_features=768, bias=False)\n",
              "              (k): Linear(in_features=768, out_features=768, bias=False)\n",
              "              (v): Linear(in_features=768, out_features=768, bias=False)\n",
              "              (o): Linear(in_features=768, out_features=768, bias=False)\n",
              "            )\n",
              "            (layer_norm): T5LayerNorm()\n",
              "            (dropout): Dropout(p=0.1, inplace=False)\n",
              "          )\n",
              "          (1): T5LayerCrossAttention(\n",
              "            (EncDecAttention): T5Attention(\n",
              "              (q): Linear(in_features=768, out_features=768, bias=False)\n",
              "              (k): Linear(in_features=768, out_features=768, bias=False)\n",
              "              (v): Linear(in_features=768, out_features=768, bias=False)\n",
              "              (o): Linear(in_features=768, out_features=768, bias=False)\n",
              "            )\n",
              "            (layer_norm): T5LayerNorm()\n",
              "            (dropout): Dropout(p=0.1, inplace=False)\n",
              "          )\n",
              "          (2): T5LayerFF(\n",
              "            (DenseReluDense): T5DenseReluDense(\n",
              "              (wi): Linear(in_features=768, out_features=3072, bias=False)\n",
              "              (wo): Linear(in_features=3072, out_features=768, bias=False)\n",
              "              (dropout): Dropout(p=0.1, inplace=False)\n",
              "            )\n",
              "            (layer_norm): T5LayerNorm()\n",
              "            (dropout): Dropout(p=0.1, inplace=False)\n",
              "          )\n",
              "        )\n",
              "      )\n",
              "      (4): T5Block(\n",
              "        (layer): ModuleList(\n",
              "          (0): T5LayerSelfAttention(\n",
              "            (SelfAttention): T5Attention(\n",
              "              (q): Linear(in_features=768, out_features=768, bias=False)\n",
              "              (k): Linear(in_features=768, out_features=768, bias=False)\n",
              "              (v): Linear(in_features=768, out_features=768, bias=False)\n",
              "              (o): Linear(in_features=768, out_features=768, bias=False)\n",
              "            )\n",
              "            (layer_norm): T5LayerNorm()\n",
              "            (dropout): Dropout(p=0.1, inplace=False)\n",
              "          )\n",
              "          (1): T5LayerCrossAttention(\n",
              "            (EncDecAttention): T5Attention(\n",
              "              (q): Linear(in_features=768, out_features=768, bias=False)\n",
              "              (k): Linear(in_features=768, out_features=768, bias=False)\n",
              "              (v): Linear(in_features=768, out_features=768, bias=False)\n",
              "              (o): Linear(in_features=768, out_features=768, bias=False)\n",
              "            )\n",
              "            (layer_norm): T5LayerNorm()\n",
              "            (dropout): Dropout(p=0.1, inplace=False)\n",
              "          )\n",
              "          (2): T5LayerFF(\n",
              "            (DenseReluDense): T5DenseReluDense(\n",
              "              (wi): Linear(in_features=768, out_features=3072, bias=False)\n",
              "              (wo): Linear(in_features=3072, out_features=768, bias=False)\n",
              "              (dropout): Dropout(p=0.1, inplace=False)\n",
              "            )\n",
              "            (layer_norm): T5LayerNorm()\n",
              "            (dropout): Dropout(p=0.1, inplace=False)\n",
              "          )\n",
              "        )\n",
              "      )\n",
              "      (5): T5Block(\n",
              "        (layer): ModuleList(\n",
              "          (0): T5LayerSelfAttention(\n",
              "            (SelfAttention): T5Attention(\n",
              "              (q): Linear(in_features=768, out_features=768, bias=False)\n",
              "              (k): Linear(in_features=768, out_features=768, bias=False)\n",
              "              (v): Linear(in_features=768, out_features=768, bias=False)\n",
              "              (o): Linear(in_features=768, out_features=768, bias=False)\n",
              "            )\n",
              "            (layer_norm): T5LayerNorm()\n",
              "            (dropout): Dropout(p=0.1, inplace=False)\n",
              "          )\n",
              "          (1): T5LayerCrossAttention(\n",
              "            (EncDecAttention): T5Attention(\n",
              "              (q): Linear(in_features=768, out_features=768, bias=False)\n",
              "              (k): Linear(in_features=768, out_features=768, bias=False)\n",
              "              (v): Linear(in_features=768, out_features=768, bias=False)\n",
              "              (o): Linear(in_features=768, out_features=768, bias=False)\n",
              "            )\n",
              "            (layer_norm): T5LayerNorm()\n",
              "            (dropout): Dropout(p=0.1, inplace=False)\n",
              "          )\n",
              "          (2): T5LayerFF(\n",
              "            (DenseReluDense): T5DenseReluDense(\n",
              "              (wi): Linear(in_features=768, out_features=3072, bias=False)\n",
              "              (wo): Linear(in_features=3072, out_features=768, bias=False)\n",
              "              (dropout): Dropout(p=0.1, inplace=False)\n",
              "            )\n",
              "            (layer_norm): T5LayerNorm()\n",
              "            (dropout): Dropout(p=0.1, inplace=False)\n",
              "          )\n",
              "        )\n",
              "      )\n",
              "      (6): T5Block(\n",
              "        (layer): ModuleList(\n",
              "          (0): T5LayerSelfAttention(\n",
              "            (SelfAttention): T5Attention(\n",
              "              (q): Linear(in_features=768, out_features=768, bias=False)\n",
              "              (k): Linear(in_features=768, out_features=768, bias=False)\n",
              "              (v): Linear(in_features=768, out_features=768, bias=False)\n",
              "              (o): Linear(in_features=768, out_features=768, bias=False)\n",
              "            )\n",
              "            (layer_norm): T5LayerNorm()\n",
              "            (dropout): Dropout(p=0.1, inplace=False)\n",
              "          )\n",
              "          (1): T5LayerCrossAttention(\n",
              "            (EncDecAttention): T5Attention(\n",
              "              (q): Linear(in_features=768, out_features=768, bias=False)\n",
              "              (k): Linear(in_features=768, out_features=768, bias=False)\n",
              "              (v): Linear(in_features=768, out_features=768, bias=False)\n",
              "              (o): Linear(in_features=768, out_features=768, bias=False)\n",
              "            )\n",
              "            (layer_norm): T5LayerNorm()\n",
              "            (dropout): Dropout(p=0.1, inplace=False)\n",
              "          )\n",
              "          (2): T5LayerFF(\n",
              "            (DenseReluDense): T5DenseReluDense(\n",
              "              (wi): Linear(in_features=768, out_features=3072, bias=False)\n",
              "              (wo): Linear(in_features=3072, out_features=768, bias=False)\n",
              "              (dropout): Dropout(p=0.1, inplace=False)\n",
              "            )\n",
              "            (layer_norm): T5LayerNorm()\n",
              "            (dropout): Dropout(p=0.1, inplace=False)\n",
              "          )\n",
              "        )\n",
              "      )\n",
              "      (7): T5Block(\n",
              "        (layer): ModuleList(\n",
              "          (0): T5LayerSelfAttention(\n",
              "            (SelfAttention): T5Attention(\n",
              "              (q): Linear(in_features=768, out_features=768, bias=False)\n",
              "              (k): Linear(in_features=768, out_features=768, bias=False)\n",
              "              (v): Linear(in_features=768, out_features=768, bias=False)\n",
              "              (o): Linear(in_features=768, out_features=768, bias=False)\n",
              "            )\n",
              "            (layer_norm): T5LayerNorm()\n",
              "            (dropout): Dropout(p=0.1, inplace=False)\n",
              "          )\n",
              "          (1): T5LayerCrossAttention(\n",
              "            (EncDecAttention): T5Attention(\n",
              "              (q): Linear(in_features=768, out_features=768, bias=False)\n",
              "              (k): Linear(in_features=768, out_features=768, bias=False)\n",
              "              (v): Linear(in_features=768, out_features=768, bias=False)\n",
              "              (o): Linear(in_features=768, out_features=768, bias=False)\n",
              "            )\n",
              "            (layer_norm): T5LayerNorm()\n",
              "            (dropout): Dropout(p=0.1, inplace=False)\n",
              "          )\n",
              "          (2): T5LayerFF(\n",
              "            (DenseReluDense): T5DenseReluDense(\n",
              "              (wi): Linear(in_features=768, out_features=3072, bias=False)\n",
              "              (wo): Linear(in_features=3072, out_features=768, bias=False)\n",
              "              (dropout): Dropout(p=0.1, inplace=False)\n",
              "            )\n",
              "            (layer_norm): T5LayerNorm()\n",
              "            (dropout): Dropout(p=0.1, inplace=False)\n",
              "          )\n",
              "        )\n",
              "      )\n",
              "      (8): T5Block(\n",
              "        (layer): ModuleList(\n",
              "          (0): T5LayerSelfAttention(\n",
              "            (SelfAttention): T5Attention(\n",
              "              (q): Linear(in_features=768, out_features=768, bias=False)\n",
              "              (k): Linear(in_features=768, out_features=768, bias=False)\n",
              "              (v): Linear(in_features=768, out_features=768, bias=False)\n",
              "              (o): Linear(in_features=768, out_features=768, bias=False)\n",
              "            )\n",
              "            (layer_norm): T5LayerNorm()\n",
              "            (dropout): Dropout(p=0.1, inplace=False)\n",
              "          )\n",
              "          (1): T5LayerCrossAttention(\n",
              "            (EncDecAttention): T5Attention(\n",
              "              (q): Linear(in_features=768, out_features=768, bias=False)\n",
              "              (k): Linear(in_features=768, out_features=768, bias=False)\n",
              "              (v): Linear(in_features=768, out_features=768, bias=False)\n",
              "              (o): Linear(in_features=768, out_features=768, bias=False)\n",
              "            )\n",
              "            (layer_norm): T5LayerNorm()\n",
              "            (dropout): Dropout(p=0.1, inplace=False)\n",
              "          )\n",
              "          (2): T5LayerFF(\n",
              "            (DenseReluDense): T5DenseReluDense(\n",
              "              (wi): Linear(in_features=768, out_features=3072, bias=False)\n",
              "              (wo): Linear(in_features=3072, out_features=768, bias=False)\n",
              "              (dropout): Dropout(p=0.1, inplace=False)\n",
              "            )\n",
              "            (layer_norm): T5LayerNorm()\n",
              "            (dropout): Dropout(p=0.1, inplace=False)\n",
              "          )\n",
              "        )\n",
              "      )\n",
              "      (9): T5Block(\n",
              "        (layer): ModuleList(\n",
              "          (0): T5LayerSelfAttention(\n",
              "            (SelfAttention): T5Attention(\n",
              "              (q): Linear(in_features=768, out_features=768, bias=False)\n",
              "              (k): Linear(in_features=768, out_features=768, bias=False)\n",
              "              (v): Linear(in_features=768, out_features=768, bias=False)\n",
              "              (o): Linear(in_features=768, out_features=768, bias=False)\n",
              "            )\n",
              "            (layer_norm): T5LayerNorm()\n",
              "            (dropout): Dropout(p=0.1, inplace=False)\n",
              "          )\n",
              "          (1): T5LayerCrossAttention(\n",
              "            (EncDecAttention): T5Attention(\n",
              "              (q): Linear(in_features=768, out_features=768, bias=False)\n",
              "              (k): Linear(in_features=768, out_features=768, bias=False)\n",
              "              (v): Linear(in_features=768, out_features=768, bias=False)\n",
              "              (o): Linear(in_features=768, out_features=768, bias=False)\n",
              "            )\n",
              "            (layer_norm): T5LayerNorm()\n",
              "            (dropout): Dropout(p=0.1, inplace=False)\n",
              "          )\n",
              "          (2): T5LayerFF(\n",
              "            (DenseReluDense): T5DenseReluDense(\n",
              "              (wi): Linear(in_features=768, out_features=3072, bias=False)\n",
              "              (wo): Linear(in_features=3072, out_features=768, bias=False)\n",
              "              (dropout): Dropout(p=0.1, inplace=False)\n",
              "            )\n",
              "            (layer_norm): T5LayerNorm()\n",
              "            (dropout): Dropout(p=0.1, inplace=False)\n",
              "          )\n",
              "        )\n",
              "      )\n",
              "      (10): T5Block(\n",
              "        (layer): ModuleList(\n",
              "          (0): T5LayerSelfAttention(\n",
              "            (SelfAttention): T5Attention(\n",
              "              (q): Linear(in_features=768, out_features=768, bias=False)\n",
              "              (k): Linear(in_features=768, out_features=768, bias=False)\n",
              "              (v): Linear(in_features=768, out_features=768, bias=False)\n",
              "              (o): Linear(in_features=768, out_features=768, bias=False)\n",
              "            )\n",
              "            (layer_norm): T5LayerNorm()\n",
              "            (dropout): Dropout(p=0.1, inplace=False)\n",
              "          )\n",
              "          (1): T5LayerCrossAttention(\n",
              "            (EncDecAttention): T5Attention(\n",
              "              (q): Linear(in_features=768, out_features=768, bias=False)\n",
              "              (k): Linear(in_features=768, out_features=768, bias=False)\n",
              "              (v): Linear(in_features=768, out_features=768, bias=False)\n",
              "              (o): Linear(in_features=768, out_features=768, bias=False)\n",
              "            )\n",
              "            (layer_norm): T5LayerNorm()\n",
              "            (dropout): Dropout(p=0.1, inplace=False)\n",
              "          )\n",
              "          (2): T5LayerFF(\n",
              "            (DenseReluDense): T5DenseReluDense(\n",
              "              (wi): Linear(in_features=768, out_features=3072, bias=False)\n",
              "              (wo): Linear(in_features=3072, out_features=768, bias=False)\n",
              "              (dropout): Dropout(p=0.1, inplace=False)\n",
              "            )\n",
              "            (layer_norm): T5LayerNorm()\n",
              "            (dropout): Dropout(p=0.1, inplace=False)\n",
              "          )\n",
              "        )\n",
              "      )\n",
              "      (11): T5Block(\n",
              "        (layer): ModuleList(\n",
              "          (0): T5LayerSelfAttention(\n",
              "            (SelfAttention): T5Attention(\n",
              "              (q): Linear(in_features=768, out_features=768, bias=False)\n",
              "              (k): Linear(in_features=768, out_features=768, bias=False)\n",
              "              (v): Linear(in_features=768, out_features=768, bias=False)\n",
              "              (o): Linear(in_features=768, out_features=768, bias=False)\n",
              "            )\n",
              "            (layer_norm): T5LayerNorm()\n",
              "            (dropout): Dropout(p=0.1, inplace=False)\n",
              "          )\n",
              "          (1): T5LayerCrossAttention(\n",
              "            (EncDecAttention): T5Attention(\n",
              "              (q): Linear(in_features=768, out_features=768, bias=False)\n",
              "              (k): Linear(in_features=768, out_features=768, bias=False)\n",
              "              (v): Linear(in_features=768, out_features=768, bias=False)\n",
              "              (o): Linear(in_features=768, out_features=768, bias=False)\n",
              "            )\n",
              "            (layer_norm): T5LayerNorm()\n",
              "            (dropout): Dropout(p=0.1, inplace=False)\n",
              "          )\n",
              "          (2): T5LayerFF(\n",
              "            (DenseReluDense): T5DenseReluDense(\n",
              "              (wi): Linear(in_features=768, out_features=3072, bias=False)\n",
              "              (wo): Linear(in_features=3072, out_features=768, bias=False)\n",
              "              (dropout): Dropout(p=0.1, inplace=False)\n",
              "            )\n",
              "            (layer_norm): T5LayerNorm()\n",
              "            (dropout): Dropout(p=0.1, inplace=False)\n",
              "          )\n",
              "        )\n",
              "      )\n",
              "    )\n",
              "    (final_layer_norm): T5LayerNorm()\n",
              "    (dropout): Dropout(p=0.1, inplace=False)\n",
              "  )\n",
              "  (lm_head): Linear(in_features=768, out_features=32128, bias=False)\n",
              ")"
            ]
          },
          "metadata": {
            "tags": []
          },
          "execution_count": 20
        }
      ]
    },
    {
      "cell_type": "markdown",
      "metadata": {
        "id": "NY1FVakDXAO4",
        "colab_type": "text"
      },
      "source": [
        "### Optimizer"
      ]
    },
    {
      "cell_type": "code",
      "metadata": {
        "id": "ahsjZefkRJ-M",
        "colab_type": "code",
        "colab": {}
      },
      "source": [
        "optimizer = torch.optim.Adam(params=model.parameters(), lr=LR)"
      ],
      "execution_count": 21,
      "outputs": []
    },
    {
      "cell_type": "markdown",
      "metadata": {
        "id": "d36dmjzmXKab",
        "colab_type": "text"
      },
      "source": [
        "### Training Method"
      ]
    },
    {
      "cell_type": "code",
      "metadata": {
        "id": "Xgunb7h6XJqX",
        "colab_type": "code",
        "colab": {}
      },
      "source": [
        "def train(data_loader, model, tokenizer, optimizer, device):\n",
        "    model.train()\n",
        "\n",
        "    total_steps = len(data_loader)\n",
        "    epoch_loss = 0\n",
        "\n",
        "    for idx, batch in enumerate(data_loader):\n",
        "        optimizer.zero_grad()\n",
        "\n",
        "        ids = batch[\"source_ids\"].to(device)\n",
        "        mask = batch[\"source_mask\"].to(device)\n",
        "\n",
        "        target_ids = batch[\"target_ids\"].to(device)\n",
        "        \n",
        "        y_ids = target_ids[:, :-1].contiguous()\n",
        "        lm_labels = target_ids[:, 1:].clone().detach()\n",
        "        lm_labels[target_ids[:, 1:] == tokenizer.pad_token_id] = -100\n",
        "\n",
        "        outputs = model(\n",
        "            input_ids=ids,\n",
        "            attention_mask=mask,\n",
        "            decoder_input_ids=y_ids,\n",
        "            lm_labels=lm_labels\n",
        "        )\n",
        "\n",
        "        loss = outputs[0]\n",
        "        epoch_loss += loss.item()\n",
        "\n",
        "        loss.backward()\n",
        "        optimizer.step()\n",
        "\n",
        "        if idx%100 == 0:\n",
        "            print(f\"Step: {idx}/{total_steps} | Loss: {loss.item()}\")\n",
        "    \n",
        "    return epoch_loss / total_steps"
      ],
      "execution_count": 22,
      "outputs": []
    },
    {
      "cell_type": "markdown",
      "metadata": {
        "id": "VuwfseE_XPoJ",
        "colab_type": "text"
      },
      "source": [
        "### Validation Method"
      ]
    },
    {
      "cell_type": "code",
      "metadata": {
        "id": "kLG_2qJAXNZd",
        "colab_type": "code",
        "colab": {}
      },
      "source": [
        "def evaluate(data_loader, model, tokenizer, device):\n",
        "    model.eval()\n",
        "\n",
        "    total_steps = len(data_loader)\n",
        "    epoch_loss = 0\n",
        "\n",
        "    with torch.no_grad():\n",
        "        for idx, batch in enumerate(data_loader):\n",
        "            ids = batch[\"source_ids\"].to(device)\n",
        "            mask = batch[\"source_mask\"].to(device)\n",
        "\n",
        "            target_ids = batch[\"target_ids\"].to(device)\n",
        "            \n",
        "            y_ids = target_ids[:, :-1].contiguous()\n",
        "            lm_labels = target_ids[:, 1:].clone().detach()\n",
        "            lm_labels[target_ids[:, 1:] == tokenizer.pad_token_id] = -100\n",
        "\n",
        "            outputs = model(\n",
        "                input_ids=ids,\n",
        "                attention_mask=mask,\n",
        "                decoder_input_ids=y_ids,\n",
        "                lm_labels=lm_labels\n",
        "            )\n",
        "\n",
        "            loss = outputs[0]\n",
        "            epoch_loss += loss.item()\n",
        "\n",
        "            if idx%100 == 0:\n",
        "                print(f\"Val Step: {idx}/{total_steps} | Loss: {loss.item()}\")\n",
        "    \n",
        "    return epoch_loss / total_steps"
      ],
      "execution_count": 23,
      "outputs": []
    },
    {
      "cell_type": "code",
      "metadata": {
        "id": "8otkSXUmXTj-",
        "colab_type": "code",
        "colab": {}
      },
      "source": [
        "def epoch_time(start_time, end_time):\n",
        "    elapsed_time = end_time - start_time\n",
        "    elapsed_mins = int(elapsed_time / 60)\n",
        "    elapsed_secs = int(elapsed_time - (elapsed_mins * 60))\n",
        "    return elapsed_mins, elapsed_secs "
      ],
      "execution_count": 24,
      "outputs": []
    },
    {
      "cell_type": "markdown",
      "metadata": {
        "id": "98s2V8WkXe6T",
        "colab_type": "text"
      },
      "source": [
        "### Training"
      ]
    },
    {
      "cell_type": "code",
      "metadata": {
        "id": "HdwZKD-YttRf",
        "colab_type": "code",
        "colab": {
          "base_uri": "https://localhost:8080/",
          "height": 34
        },
        "outputId": "52623076-1c51-4c23-a473-ad0e44beb94d"
      },
      "source": [
        "device"
      ],
      "execution_count": 62,
      "outputs": [
        {
          "output_type": "execute_result",
          "data": {
            "text/plain": [
              "device(type='cuda')"
            ]
          },
          "metadata": {
            "tags": []
          },
          "execution_count": 62
        }
      ]
    },
    {
      "cell_type": "code",
      "metadata": {
        "id": "08LzFCXvXeLk",
        "colab_type": "code",
        "colab": {
          "base_uri": "https://localhost:8080/",
          "height": 1000
        },
        "outputId": "6009991a-dc05-4b1b-bd0a-9fddd3f15811"
      },
      "source": [
        "best_valid_loss = float('inf')\n",
        "\n",
        "for epoch in range(EPOCHS):\n",
        "    start_time = time.time()\n",
        "    train_loss = train(train_data_loader, model, TOKENIZER, optimizer, device)\n",
        "    val_loss = evaluate(val_data_loader, model, TOKENIZER, device)\n",
        "    end_time = time.time()\n",
        "\n",
        "    epoch_mins, epoch_secs = epoch_time(start_time, end_time)\n",
        "    \n",
        "    if val_loss < best_valid_loss:\n",
        "        best_valid_loss = val_loss\n",
        "        torch.save(model.state_dict(), MODEL_PATH)\n",
        "    print(f\"Epoch: {epoch+1:02} | Epoch Time: {epoch_mins}m {epoch_secs}s\")\n",
        "    print(f\"\\t Train Loss: {train_loss:.3f} | Train PPL: {np.exp(train_loss):5.4f}\")\n",
        "    print(f\"\\t Val Loss: {val_loss:.3f} | Val PPL: {np.exp(val_loss):5.4f}\")"
      ],
      "execution_count": 25,
      "outputs": [
        {
          "output_type": "stream",
          "text": [
            "Step: 0/3609 | Loss: 9.252239227294922\n",
            "Step: 100/3609 | Loss: 3.096573829650879\n",
            "Step: 200/3609 | Loss: 2.9988081455230713\n",
            "Step: 300/3609 | Loss: 3.623548984527588\n",
            "Step: 400/3609 | Loss: 0.7167368531227112\n",
            "Step: 500/3609 | Loss: 1.7852838039398193\n",
            "Step: 600/3609 | Loss: 5.5049333572387695\n",
            "Step: 700/3609 | Loss: 3.3280117511749268\n",
            "Step: 800/3609 | Loss: 3.317720413208008\n",
            "Step: 900/3609 | Loss: 2.0162787437438965\n",
            "Step: 1000/3609 | Loss: 4.236403465270996\n",
            "Step: 1100/3609 | Loss: 3.0190610885620117\n",
            "Step: 1200/3609 | Loss: 4.0998053550720215\n",
            "Step: 1300/3609 | Loss: 2.6751210689544678\n",
            "Step: 1400/3609 | Loss: 3.631730079650879\n",
            "Step: 1500/3609 | Loss: 4.754125595092773\n",
            "Step: 1600/3609 | Loss: 4.393270015716553\n",
            "Step: 1700/3609 | Loss: 2.711280345916748\n",
            "Step: 1800/3609 | Loss: 6.806175231933594\n",
            "Step: 1900/3609 | Loss: 1.9674499034881592\n",
            "Step: 2000/3609 | Loss: 4.142590045928955\n",
            "Step: 2100/3609 | Loss: 4.876557350158691\n",
            "Step: 2200/3609 | Loss: 0.8874102830886841\n",
            "Step: 2300/3609 | Loss: 6.20208215713501\n",
            "Step: 2400/3609 | Loss: 1.575003743171692\n",
            "Step: 2500/3609 | Loss: 6.54710054397583\n",
            "Step: 2600/3609 | Loss: 3.2135446071624756\n",
            "Step: 2700/3609 | Loss: 5.439290523529053\n",
            "Step: 2800/3609 | Loss: 3.563314437866211\n",
            "Step: 2900/3609 | Loss: 1.105194330215454\n",
            "Step: 3000/3609 | Loss: 4.550641059875488\n",
            "Step: 3100/3609 | Loss: 2.747737169265747\n",
            "Step: 3200/3609 | Loss: 4.621835708618164\n",
            "Step: 3300/3609 | Loss: 4.37043571472168\n",
            "Step: 3400/3609 | Loss: 4.477697372436523\n",
            "Step: 3500/3609 | Loss: 3.0624191761016846\n",
            "Step: 3600/3609 | Loss: 3.568286418914795\n",
            "Val Step: 0/490 | Loss: 2.568168878555298\n",
            "Val Step: 100/490 | Loss: 4.012210369110107\n",
            "Val Step: 200/490 | Loss: 1.2476615905761719\n",
            "Val Step: 300/490 | Loss: 4.734692096710205\n",
            "Val Step: 400/490 | Loss: 3.126664876937866\n",
            "Epoch: 01 | Epoch Time: 25m 20s\n",
            "\t Train Loss: 3.504 | Train PPL: 33.2587\n",
            "\t Val Loss: 2.746 | Val PPL: 15.5810\n",
            "Step: 0/3609 | Loss: 2.4789187908172607\n",
            "Step: 100/3609 | Loss: 4.299111366271973\n",
            "Step: 200/3609 | Loss: 1.082140326499939\n",
            "Step: 300/3609 | Loss: 2.619184732437134\n",
            "Step: 400/3609 | Loss: 3.4625768661499023\n",
            "Step: 500/3609 | Loss: 5.449767112731934\n",
            "Step: 600/3609 | Loss: 3.134702205657959\n",
            "Step: 700/3609 | Loss: 3.6931283473968506\n",
            "Step: 800/3609 | Loss: 1.1749241352081299\n",
            "Step: 900/3609 | Loss: 3.1866908073425293\n",
            "Step: 1000/3609 | Loss: 2.3054957389831543\n",
            "Step: 1100/3609 | Loss: 0.4434370696544647\n",
            "Step: 1200/3609 | Loss: 0.21530033648014069\n",
            "Step: 1300/3609 | Loss: 5.751262187957764\n",
            "Step: 1400/3609 | Loss: 0.9524257779121399\n",
            "Step: 1500/3609 | Loss: 0.22084683179855347\n",
            "Step: 1600/3609 | Loss: 2.70463228225708\n",
            "Step: 1700/3609 | Loss: 2.6140828132629395\n",
            "Step: 1800/3609 | Loss: 3.64851450920105\n",
            "Step: 1900/3609 | Loss: 1.4952248334884644\n",
            "Step: 2000/3609 | Loss: 5.561173915863037\n",
            "Step: 2100/3609 | Loss: 2.0675694942474365\n",
            "Step: 2200/3609 | Loss: 3.353046178817749\n",
            "Step: 2300/3609 | Loss: 0.3480207622051239\n",
            "Step: 2400/3609 | Loss: 5.953916549682617\n",
            "Step: 2500/3609 | Loss: 2.8817615509033203\n",
            "Step: 2600/3609 | Loss: 3.339625120162964\n",
            "Step: 2700/3609 | Loss: 3.6546857357025146\n",
            "Step: 2800/3609 | Loss: 3.9166982173919678\n",
            "Step: 2900/3609 | Loss: 3.023189067840576\n",
            "Step: 3000/3609 | Loss: 3.3040378093719482\n",
            "Step: 3100/3609 | Loss: 0.9463804364204407\n",
            "Step: 3200/3609 | Loss: 4.626529693603516\n",
            "Step: 3300/3609 | Loss: 0.9425652027130127\n",
            "Step: 3400/3609 | Loss: 0.009977355599403381\n",
            "Step: 3500/3609 | Loss: 1.763372540473938\n",
            "Step: 3600/3609 | Loss: 4.571835517883301\n",
            "Val Step: 0/490 | Loss: 2.405425786972046\n",
            "Val Step: 100/490 | Loss: 4.287723541259766\n",
            "Val Step: 200/490 | Loss: 0.7909502387046814\n",
            "Val Step: 300/490 | Loss: 4.532944202423096\n",
            "Val Step: 400/490 | Loss: 3.0937130451202393\n",
            "Epoch: 02 | Epoch Time: 25m 21s\n",
            "\t Train Loss: 2.578 | Train PPL: 13.1754\n",
            "\t Val Loss: 2.643 | Val PPL: 14.0608\n"
          ],
          "name": "stdout"
        }
      ]
    },
    {
      "cell_type": "code",
      "metadata": {
        "id": "Ys1kbG4mfGnR",
        "colab_type": "code",
        "colab": {
          "base_uri": "https://localhost:8080/",
          "height": 34
        },
        "outputId": "ef637144-4dc3-4d34-def8-e1b8fd0919d5"
      },
      "source": [
        "model.load_state_dict(torch.load(MODEL_PATH))"
      ],
      "execution_count": 26,
      "outputs": [
        {
          "output_type": "execute_result",
          "data": {
            "text/plain": [
              "<All keys matched successfully>"
            ]
          },
          "metadata": {
            "tags": []
          },
          "execution_count": 26
        }
      ]
    },
    {
      "cell_type": "code",
      "metadata": {
        "id": "8ijp5Cmm6a-v",
        "colab_type": "code",
        "colab": {
          "base_uri": "https://localhost:8080/",
          "height": 118
        },
        "outputId": "48850710-1ca9-49d5-827a-ab775975b2c6"
      },
      "source": [
        "test_loss = evaluate(test_data_loader, model, TOKENIZER, device)\n",
        "print(f\"\\t Test Loss: {test_loss:.3f} | Test PPL: {np.exp(test_loss):5.4f}\")"
      ],
      "execution_count": 27,
      "outputs": [
        {
          "output_type": "stream",
          "text": [
            "Val Step: 0/477 | Loss: 1.4821603298187256\n",
            "Val Step: 100/477 | Loss: 3.4901652336120605\n",
            "Val Step: 200/477 | Loss: 1.9917783737182617\n",
            "Val Step: 300/477 | Loss: 2.3270175457000732\n",
            "Val Step: 400/477 | Loss: 1.977234959602356\n",
            "\t Test Loss: 2.790 | Test PPL: 16.2773\n"
          ],
          "name": "stdout"
        }
      ]
    },
    {
      "cell_type": "markdown",
      "metadata": {
        "id": "Ajw3V84qhtI3",
        "colab_type": "text"
      },
      "source": [
        "### Inference"
      ]
    },
    {
      "cell_type": "code",
      "metadata": {
        "id": "f1fZ__wrhuuZ",
        "colab_type": "code",
        "colab": {}
      },
      "source": [
        "def inference(model, email, tokenizer, device):\n",
        "    model.eval()\n",
        "\n",
        "    email = \"summarize: \" + email\n",
        "\n",
        "    source = tokenizer.encode_plus(\n",
        "        email,\n",
        "        max_length=MAX_LEN,\n",
        "        pad_to_max_length=True,\n",
        "        return_attention_mask=True,\n",
        "        truncation=True,\n",
        "        return_tensors='pt')\n",
        "    \n",
        "    with torch.no_grad():\n",
        "        ids = source[\"input_ids\"].to(device)\n",
        "        mask = source[\"attention_mask\"].to(device)\n",
        "\n",
        "        generated_ids = model.generate(\n",
        "            input_ids=ids,\n",
        "            attention_mask=mask,\n",
        "            max_length=10,\n",
        "            num_beams=2,\n",
        "            repetition_penalty=2.5,\n",
        "            length_penalty=1.0,\n",
        "            early_stopping=True\n",
        "        )\n",
        "\n",
        "        summary = [tokenizer.decode(g, skip_special_tokens=True, clean_up_tokenization_spaces=True) for g in generated_ids]\n",
        "\n",
        "    return summary[0]"
      ],
      "execution_count": 108,
      "outputs": []
    },
    {
      "cell_type": "code",
      "metadata": {
        "id": "ugW--OxirQyJ",
        "colab_type": "code",
        "colab": {}
      },
      "source": [
        "email = \"\"\"\n",
        "Celeste,  I was under the impression I sent you a message regarding Brad Romine but I cannot find a copy in my msg folder.\n",
        "There might have been a glitch in the  CC-mail and the message did not go through and wasn't  stored.\n",
        "I wanted to make the following points:  1.\n",
        "Brad will not show up on March 15.\n",
        "He is still working on his dot-com  business and wants to pursue this opportunity.\n",
        "2.\n",
        "My recommendation is that we should draw a line in the sand.\n",
        "Either Brad  or a stipend refund check should show up on March 15.\n",
        "3.\n",
        "I told Brad that  a failure to show up on March 15 will not imperil his  future employment opportunities with Enron.\n",
        "We just need clarity and ability to plan our human resource  needs.\n",
        "If he decides to re-apply at some point in the future, we shall not hold his  decision  to pursue him  entrepreneurial plans against him.\n",
        "Please, let me  know what you think.\n",
        "Vince\n",
        "\"\"\""
      ],
      "execution_count": 118,
      "outputs": []
    },
    {
      "cell_type": "code",
      "metadata": {
        "id": "6pm4A3LgsDQZ",
        "colab_type": "code",
        "colab": {
          "base_uri": "https://localhost:8080/",
          "height": 34
        },
        "outputId": "c0963eb9-787d-437d-cbf9-58c75a75899b"
      },
      "source": [
        "email = \" \".join(email.split()).strip()\n",
        "subject = inference(model, email, TOKENIZER, device)\n",
        "print(subject)"
      ],
      "execution_count": 120,
      "outputs": [
        {
          "output_type": "stream",
          "text": [
            "Brad Romine - March 15th\n"
          ],
          "name": "stdout"
        }
      ]
    },
    {
      "cell_type": "code",
      "metadata": {
        "id": "9qo2xxHjCUd0",
        "colab_type": "code",
        "colab": {
          "base_uri": "https://localhost:8080/",
          "height": 170
        },
        "outputId": "356953b8-e7e8-44ae-9088-bd466415ffd1"
      },
      "source": [
        "dataset['validation'][800]['email_body']"
      ],
      "execution_count": 116,
      "outputs": [
        {
          "output_type": "execute_result",
          "data": {
            "application/vnd.google.colaboratory.intrinsic": {
              "type": "string"
            },
            "text/plain": [
              "\"Celeste,  I was under the impression I sent you a message regarding Brad Romine but I cannot find a copy in my msg folder.\\nThere might have been a glitch in the  CC-mail and the message did not go through and wasn't  stored.\\nI wanted to make the following points:  1.\\nBrad will not show up on March 15.\\nHe is still working on his dot-com  business and wants to pursue this opportunity.\\n2.\\nMy recommendation is that we should draw a line in the sand.\\nEither Brad  or a stipend refund check should show up on March 15.\\n3.\\nI told Brad that  a failure to show up on March 15 will not imperil his  future employment opportunities with Enron.\\nWe just need clarity and ability to plan our human resource  needs.\\nIf he decides to re-apply at some point in the future, we shall not hold his  decision  to pursue him  entrepreneurial plans against him.\\nPlease, let me  know what you think.\\nVince\\n\""
            ]
          },
          "metadata": {
            "tags": []
          },
          "execution_count": 116
        }
      ]
    },
    {
      "cell_type": "code",
      "metadata": {
        "id": "7pPopYCn64o0",
        "colab_type": "code",
        "colab": {
          "base_uri": "https://localhost:8080/",
          "height": 35
        },
        "outputId": "7fa01756-b9f3-412b-9e1b-019bd7a8762a"
      },
      "source": [
        "dataset['validation'][800]['subject_line']"
      ],
      "execution_count": 117,
      "outputs": [
        {
          "output_type": "execute_result",
          "data": {
            "application/vnd.google.colaboratory.intrinsic": {
              "type": "string"
            },
            "text/plain": [
              "'Brad Romine\\n'"
            ]
          },
          "metadata": {
            "tags": []
          },
          "execution_count": 117
        }
      ]
    },
    {
      "cell_type": "code",
      "metadata": {
        "id": "UGqVWesy7egY",
        "colab_type": "code",
        "colab": {}
      },
      "source": [
        ""
      ],
      "execution_count": null,
      "outputs": []
    }
  ]
}