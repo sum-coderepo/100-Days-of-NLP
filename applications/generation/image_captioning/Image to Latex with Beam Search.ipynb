{
  "nbformat": 4,
  "nbformat_minor": 0,
  "metadata": {
    "colab": {
      "name": "Image to Latex with Beam Search.ipynb",
      "provenance": [],
      "collapsed_sections": [
        "9kjQrnZoCJew",
        "xOgJj5RMBhhZ",
        "TZxfyyWvBajI",
        "2bKECJyOrdEE",
        "I7woqpKPByqH",
        "Cj3hxwl3B2Ts",
        "h9DVmMzpB366"
      ],
      "authorship_tag": "ABX9TyNx6KCIVl4laIabLwjcFqHa",
      "include_colab_link": true
    },
    "kernelspec": {
      "name": "python3",
      "display_name": "Python 3"
    },
    "accelerator": "GPU"
  },
  "cells": [
    {
      "cell_type": "markdown",
      "metadata": {
        "id": "view-in-github",
        "colab_type": "text"
      },
      "source": [
        "<a href=\"https://colab.research.google.com/github/graviraja/100-Days-of-NLP/blob/applications%2Fgeneration/applications/generation/image_captioning/Image%20to%20Latex%20with%20Beam%20Search.ipynb\" target=\"_parent\"><img src=\"https://colab.research.google.com/assets/colab-badge.svg\" alt=\"Open In Colab\"/></a>"
      ]
    },
    {
      "cell_type": "markdown",
      "metadata": {
        "id": "9kjQrnZoCJew",
        "colab_type": "text"
      },
      "source": [
        "### IM2LATEX Dataset"
      ]
    },
    {
      "cell_type": "code",
      "metadata": {
        "id": "OSVquyk9COIO",
        "colab_type": "code",
        "colab": {}
      },
      "source": [
        "!mkdir data\n",
        "!cd data"
      ],
      "execution_count": 1,
      "outputs": []
    },
    {
      "cell_type": "code",
      "metadata": {
        "id": "Pf4JwEQQNKax",
        "colab_type": "code",
        "colab": {
          "base_uri": "https://localhost:8080/",
          "height": 941
        },
        "outputId": "55da0ad5-aa30-466e-be2c-0dc3249761ba"
      },
      "source": [
        "!wget -P data http://lstm.seas.harvard.edu/latex/data/im2latex_validate_filter.lst\n",
        "!wget -P data http://lstm.seas.harvard.edu/latex/data/im2latex_train_filter.lst\n",
        "!wget -P data http://lstm.seas.harvard.edu/latex/data/im2latex_test_filter.lst\n",
        "!wget -P data http://lstm.seas.harvard.edu/latex/data/formula_images_processed.tar.gz\n",
        "!wget -P data http://lstm.seas.harvard.edu/latex/data/im2latex_formulas.norm.lst\n",
        "!tar -zxf data/formula_images_processed.tar.gz -C data/"
      ],
      "execution_count": 2,
      "outputs": [
        {
          "output_type": "stream",
          "text": [
            "--2020-07-27 17:12:20--  http://lstm.seas.harvard.edu/latex/data/im2latex_validate_filter.lst\n",
            "Resolving lstm.seas.harvard.edu (lstm.seas.harvard.edu)... 52.32.77.68\n",
            "Connecting to lstm.seas.harvard.edu (lstm.seas.harvard.edu)|52.32.77.68|:80... connected.\n",
            "HTTP request sent, awaiting response... 200 OK\n",
            "Length: 175153 (171K) [text/plain]\n",
            "Saving to: ‘data/im2latex_validate_filter.lst’\n",
            "\n",
            "\r          im2latex_   0%[                    ]       0  --.-KB/s               \r         im2latex_v  24%[===>                ]  42.42K   163KB/s               \r        im2latex_va  98%[==================> ] 167.79K   322KB/s               \rim2latex_validate_f 100%[===================>] 171.05K   329KB/s    in 0.5s    \n",
            "\n",
            "2020-07-27 17:12:21 (329 KB/s) - ‘data/im2latex_validate_filter.lst’ saved [175153/175153]\n",
            "\n",
            "--2020-07-27 17:12:26--  http://lstm.seas.harvard.edu/latex/data/im2latex_train_filter.lst\n",
            "Resolving lstm.seas.harvard.edu (lstm.seas.harvard.edu)... 52.32.77.68\n",
            "Connecting to lstm.seas.harvard.edu (lstm.seas.harvard.edu)|52.32.77.68|:80... connected.\n",
            "HTTP request sent, awaiting response... 200 OK\n",
            "Length: 1575352 (1.5M) [text/plain]\n",
            "Saving to: ‘data/im2latex_train_filter.lst’\n",
            "\n",
            "im2latex_train_filt 100%[===================>]   1.50M  1.41MB/s    in 1.1s    \n",
            "\n",
            "2020-07-27 17:12:27 (1.41 MB/s) - ‘data/im2latex_train_filter.lst’ saved [1575352/1575352]\n",
            "\n",
            "--2020-07-27 17:12:32--  http://lstm.seas.harvard.edu/latex/data/im2latex_test_filter.lst\n",
            "Resolving lstm.seas.harvard.edu (lstm.seas.harvard.edu)... 52.32.77.68\n",
            "Connecting to lstm.seas.harvard.edu (lstm.seas.harvard.edu)|52.32.77.68|:80... connected.\n",
            "HTTP request sent, awaiting response... 200 OK\n",
            "Length: 216674 (212K) [text/plain]\n",
            "Saving to: ‘data/im2latex_test_filter.lst’\n",
            "\n",
            "im2latex_test_filte 100%[===================>] 211.60K   399KB/s    in 0.5s    \n",
            "\n",
            "2020-07-27 17:12:33 (399 KB/s) - ‘data/im2latex_test_filter.lst’ saved [216674/216674]\n",
            "\n",
            "--2020-07-27 17:12:38--  http://lstm.seas.harvard.edu/latex/data/formula_images_processed.tar.gz\n",
            "Resolving lstm.seas.harvard.edu (lstm.seas.harvard.edu)... 52.32.77.68\n",
            "Connecting to lstm.seas.harvard.edu (lstm.seas.harvard.edu)|52.32.77.68|:80... connected.\n",
            "HTTP request sent, awaiting response... 200 OK\n",
            "Length: 616977530 (588M) [text/plain]\n",
            "Saving to: ‘data/formula_images_processed.tar.gz’\n",
            "\n",
            "formula_images_proc 100%[===================>] 588.40M  20.7MB/s    in 35s     \n",
            "\n",
            "2020-07-27 17:13:13 (16.7 MB/s) - ‘data/formula_images_processed.tar.gz’ saved [616977530/616977530]\n",
            "\n",
            "--2020-07-27 17:13:17--  http://lstm.seas.harvard.edu/latex/data/im2latex_formulas.norm.lst\n",
            "Resolving lstm.seas.harvard.edu (lstm.seas.harvard.edu)... 52.32.77.68\n",
            "Connecting to lstm.seas.harvard.edu (lstm.seas.harvard.edu)|52.32.77.68|:80... connected.\n",
            "HTTP request sent, awaiting response... 200 OK\n",
            "Length: 18115805 (17M) [text/plain]\n",
            "Saving to: ‘data/im2latex_formulas.norm.lst’\n",
            "\n",
            "im2latex_formulas.n 100%[===================>]  17.28M  6.51MB/s    in 2.7s    \n",
            "\n",
            "2020-07-27 17:13:20 (6.51 MB/s) - ‘data/im2latex_formulas.norm.lst’ saved [18115805/18115805]\n",
            "\n"
          ],
          "name": "stdout"
        }
      ]
    },
    {
      "cell_type": "code",
      "metadata": {
        "id": "a82ksyKZh_pj",
        "colab_type": "code",
        "colab": {
          "base_uri": "https://localhost:8080/",
          "height": 67
        },
        "outputId": "44173b89-93cd-4b37-d9c5-e62954408840"
      },
      "source": [
        "!ls data"
      ],
      "execution_count": 3,
      "outputs": [
        {
          "output_type": "stream",
          "text": [
            "formula_images_processed\t im2latex_test_filter.lst\n",
            "formula_images_processed.tar.gz  im2latex_train_filter.lst\n",
            "im2latex_formulas.norm.lst\t im2latex_validate_filter.lst\n"
          ],
          "name": "stdout"
        }
      ]
    },
    {
      "cell_type": "code",
      "metadata": {
        "id": "5e3tHEqzNiaz",
        "colab_type": "code",
        "colab": {}
      },
      "source": [
        "data_path = \"data\""
      ],
      "execution_count": 4,
      "outputs": []
    },
    {
      "cell_type": "markdown",
      "metadata": {
        "id": "xOgJj5RMBhhZ",
        "colab_type": "text"
      },
      "source": [
        "### Imports"
      ]
    },
    {
      "cell_type": "code",
      "metadata": {
        "id": "YOy7BqxjBhRh",
        "colab_type": "code",
        "colab": {}
      },
      "source": [
        "import os\n",
        "import time\n",
        "import math\n",
        "import pickle\n",
        "import numpy as np\n",
        "from PIL import Image\n",
        "from collections import Counter\n",
        "\n",
        "import torch\n",
        "import torch.nn as nn\n",
        "import torch.optim as optim\n",
        "import torch.nn.functional as F\n",
        "from torch.utils import data\n",
        "from torch.optim.lr_scheduler import ReduceLROnPlateau\n",
        "\n",
        "from torchvision import transforms\n",
        "\n",
        "import matplotlib.pyplot as plt\n",
        "%matplotlib inline"
      ],
      "execution_count": 5,
      "outputs": []
    },
    {
      "cell_type": "code",
      "metadata": {
        "id": "NS4sxD2ZsMam",
        "colab_type": "code",
        "colab": {}
      },
      "source": [
        "device = torch.device('cuda' if torch.cuda.is_available() else 'cpu')"
      ],
      "execution_count": 6,
      "outputs": []
    },
    {
      "cell_type": "markdown",
      "metadata": {
        "id": "TZxfyyWvBajI",
        "colab_type": "text"
      },
      "source": [
        "### Data Exploration"
      ]
    },
    {
      "cell_type": "code",
      "metadata": {
        "id": "feXqTtt6o4GF",
        "colab_type": "code",
        "colab": {}
      },
      "source": [
        "# formuals file\n",
        "formulas_file = os.path.join(data_path, \"im2latex_formulas.norm.lst\")\n",
        "with open(formulas_file, 'r') as f:\n",
        "    formulas = [formula.split('\\n')[0] for formula in f.readlines()]"
      ],
      "execution_count": 7,
      "outputs": []
    },
    {
      "cell_type": "code",
      "metadata": {
        "id": "4poDd8E3k_fm",
        "colab_type": "code",
        "colab": {}
      },
      "source": [
        "train_formulas_file = os.path.join(data_path, \"im2latex_train_filter.lst\")\n",
        "with open(train_formulas_file, 'r') as f:\n",
        "    # img_name, formula_id= line.strip('\\n').split()\n",
        "    train_formulas = [line.strip('\\n').split() for line in f.readlines()]"
      ],
      "execution_count": 8,
      "outputs": []
    },
    {
      "cell_type": "code",
      "metadata": {
        "id": "hn2UPnDElFag",
        "colab_type": "code",
        "colab": {
          "base_uri": "https://localhost:8080/",
          "height": 34
        },
        "outputId": "9fe9fb02-c461-4acf-f35a-9ec97a75064d"
      },
      "source": [
        "len(train_formulas)"
      ],
      "execution_count": 9,
      "outputs": [
        {
          "output_type": "execute_result",
          "data": {
            "text/plain": [
              "75275"
            ]
          },
          "metadata": {
            "tags": []
          },
          "execution_count": 9
        }
      ]
    },
    {
      "cell_type": "code",
      "metadata": {
        "id": "xHnGd0WNokbv",
        "colab_type": "code",
        "colab": {
          "base_uri": "https://localhost:8080/",
          "height": 34
        },
        "outputId": "7ee9216b-49ee-46bf-e3f4-65359d72ead5"
      },
      "source": [
        "train_formulas[0]"
      ],
      "execution_count": 10,
      "outputs": [
        {
          "output_type": "execute_result",
          "data": {
            "text/plain": [
              "['66667cee5b.png', '2']"
            ]
          },
          "metadata": {
            "tags": []
          },
          "execution_count": 10
        }
      ]
    },
    {
      "cell_type": "code",
      "metadata": {
        "id": "ZR6-045MmLpe",
        "colab_type": "code",
        "colab": {
          "base_uri": "https://localhost:8080/",
          "height": 34
        },
        "outputId": "0df3fb29-8bf1-4fd7-977b-750ffd5faeb0"
      },
      "source": [
        "temp = os.listdir(os.path.join(data_path, \"formula_images_processed\"))\n",
        "len(temp)"
      ],
      "execution_count": 11,
      "outputs": [
        {
          "output_type": "execute_result",
          "data": {
            "text/plain": [
              "103536"
            ]
          },
          "metadata": {
            "tags": []
          },
          "execution_count": 11
        }
      ]
    },
    {
      "cell_type": "code",
      "metadata": {
        "id": "ahroKVtmnFU4",
        "colab_type": "code",
        "colab": {
          "base_uri": "https://localhost:8080/",
          "height": 218
        },
        "outputId": "c8dcfc32-b42c-41e0-c47a-f64b0f8be7ea"
      },
      "source": [
        "img_path = os.path.join(data_path, \"formula_images_processed\", train_formulas[0][0])\n",
        "img = Image.open(img_path)\n",
        "plt.imshow(np.asarray(img)), formulas[int(train_formulas[0][1])]"
      ],
      "execution_count": 12,
      "outputs": [
        {
          "output_type": "execute_result",
          "data": {
            "text/plain": [
              "(<matplotlib.image.AxesImage at 0x7f3b1957d160>,\n",
              " '\\\\widetilde \\\\gamma _ { \\\\mathrm { h o p f } } \\\\simeq \\\\sum _ { n > 0 } \\\\widetilde { G } _ { n } { \\\\frac { ( - a ) ^ { n } } { 2 ^ { 2 n - 1 } } }')"
            ]
          },
          "metadata": {
            "tags": []
          },
          "execution_count": 12
        },
        {
          "output_type": "display_data",
          "data": {
            "image/png": "[encoded data removed]",
            "text/plain": [
              "<Figure size 432x288 with 1 Axes>"
            ]
          },
          "metadata": {
            "tags": [],
            "needs_background": "light"
          }
        }
      ]
    },
    {
      "cell_type": "code",
      "metadata": {
        "id": "px2RK1AElYrj",
        "colab_type": "code",
        "colab": {
          "base_uri": "https://localhost:8080/",
          "height": 218
        },
        "outputId": "8a484fa2-08d0-40ce-b2aa-8eaf30318896"
      },
      "source": [
        "img_path = os.path.join(data_path, \"formula_images_processed\", train_formulas[10][0])\n",
        "img = Image.open(img_path)\n",
        "plt.imshow(np.asarray(img)), formulas[int(train_formulas[10][1])]"
      ],
      "execution_count": 13,
      "outputs": [
        {
          "output_type": "execute_result",
          "data": {
            "text/plain": [
              "(<matplotlib.image.AxesImage at 0x7f3b19046898>,\n",
              " 'e x p \\\\left( - \\\\frac { \\\\partial } { \\\\partial \\\\alpha _ { j } } \\\\theta ^ { j k } \\\\frac { \\\\partial } { \\\\partial \\\\alpha _ { k } } \\\\right)')"
            ]
          },
          "metadata": {
            "tags": []
          },
          "execution_count": 13
        },
        {
          "output_type": "display_data",
          "data": {
            "image/png": "[encoded data removed]",
            "text/plain": [
              "<Figure size 432x288 with 1 Axes>"
            ]
          },
          "metadata": {
            "tags": [],
            "needs_background": "light"
          }
        }
      ]
    },
    {
      "cell_type": "markdown",
      "metadata": {
        "id": "2bKECJyOrdEE",
        "colab_type": "text"
      },
      "source": [
        "### Pre-processing"
      ]
    },
    {
      "cell_type": "markdown",
      "metadata": {
        "id": "8a4RZaMnrm8A",
        "colab_type": "text"
      },
      "source": [
        "Since the dataset is huge, I will be taking only a subset of it. You can take the complete dataset based on the available RAM"
      ]
    },
    {
      "cell_type": "code",
      "metadata": {
        "id": "H9tX-lgOyqoS",
        "colab_type": "code",
        "colab": {}
      },
      "source": [
        "def resize_image(image, size):\n",
        "    return image.resize(size, Image.ANTIALIAS)"
      ],
      "execution_count": 14,
      "outputs": []
    },
    {
      "cell_type": "code",
      "metadata": {
        "id": "WCROWVk6BVnZ",
        "colab_type": "code",
        "colab": {}
      },
      "source": [
        "def preprocess(data_dir, split, transform):\n",
        "    assert split in [\"train\", \"validate\", \"test\"]\n",
        "    print(f\"Processing {split} data...\")\n",
        "\n",
        "    if split == \"train\":\n",
        "        max_samples = 60000\n",
        "    elif split == \"validate\":\n",
        "        max_samples = 1000\n",
        "    elif split == \"test\":\n",
        "        max_samples = 1000\n",
        "    \n",
        "    # images directory\n",
        "    images_dir = os.path.join(data_dir, \"formula_images_processed\")\n",
        "    \n",
        "    # formuals file\n",
        "    formulas_file = os.path.join(data_dir, \"im2latex_formulas.norm.lst\")\n",
        "    with open(formulas_file, 'r') as f:\n",
        "        formulas = [formula.split('\\n')[0] for formula in f.readlines()]\n",
        "    \n",
        "    split_file = os.path.join(data_dir, f\"im2latex_{split}_filter.lst\")\n",
        "    pairs = []\n",
        "    count = 0\n",
        "    size = [128, 32]\n",
        "    with open(split_file, 'r') as f:\n",
        "        for line in f:\n",
        "            img_name, formula_id = line.strip('\\n').split()\n",
        "            img_path = os.path.join(images_dir, img_name)\n",
        "            img = Image.open(img_path)\n",
        "            img = resize_image(img, size)\n",
        "            img_tensor = transform(img)\n",
        "            img_tensor = img_tensor / 255.\n",
        "            formula = formulas[int(formula_id)]\n",
        "            pair = (img_tensor, formula)\n",
        "            pairs.append(pair)\n",
        "            count += 1\n",
        "            if count == max_samples:\n",
        "                break\n",
        "    \n",
        "    pairs.sort(key=img_size)\n",
        "    # save the formulas used in training for building vocabulary\n",
        "    if split == \"train\":\n",
        "        sampled_formulas = [form for (img, form) in pairs]\n",
        "        form_file = os.path.join(data_dir, f\"{split}_sampled_formula.pkl\")\n",
        "        print(\"saving sampled formulas...\")\n",
        "        with open(form_file, 'wb') as f:\n",
        "            pickle.dump(sampled_formulas, f)\n",
        "\n",
        "    out_file = os.path.join(data_dir, f\"{split}.pkl\")\n",
        "    torch.save(pairs, out_file)\n",
        "    print(f\"Completed processing {split} data\")"
      ],
      "execution_count": 19,
      "outputs": []
    },
    {
      "cell_type": "code",
      "metadata": {
        "id": "DwLnC7T2MeVW",
        "colab_type": "code",
        "colab": {}
      },
      "source": [
        "def img_size(pair):\n",
        "    img, formula = pair\n",
        "    return tuple(img.size())"
      ],
      "execution_count": 20,
      "outputs": []
    },
    {
      "cell_type": "code",
      "metadata": {
        "id": "bqrAXBYeMoZV",
        "colab_type": "code",
        "colab": {
          "base_uri": "https://localhost:8080/",
          "height": 168
        },
        "outputId": "dd02357b-16b9-4730-930f-454356f3d22c"
      },
      "source": [
        "%%time\n",
        "transform = transforms.ToTensor()\n",
        "\n",
        "preprocess(data_path, \"train\", transform)\n",
        "preprocess(data_path, \"validate\", transform)\n",
        "preprocess(data_path, \"test\", transform)"
      ],
      "execution_count": 21,
      "outputs": [
        {
          "output_type": "stream",
          "text": [
            "Processing train data...\n",
            "saving sampled formulas...\n",
            "Completed processing train data\n",
            "Processing validate data...\n",
            "Completed processing validate data\n",
            "Processing test data...\n",
            "Completed processing test data\n",
            "CPU times: user 1min 2s, sys: 6.62 s, total: 1min 8s\n",
            "Wall time: 1min 51s\n"
          ],
          "name": "stdout"
        }
      ]
    },
    {
      "cell_type": "markdown",
      "metadata": {
        "id": "I7woqpKPByqH",
        "colab_type": "text"
      },
      "source": [
        "### Vocabulary"
      ]
    },
    {
      "cell_type": "code",
      "metadata": {
        "id": "w8jx93GmDnNB",
        "colab_type": "code",
        "colab": {}
      },
      "source": [
        "PAD_TOKEN = 0\n",
        "START_TOKEN = 1\n",
        "END_TOKEN = 2\n",
        "UNK_TOKEN = 3"
      ],
      "execution_count": 22,
      "outputs": []
    },
    {
      "cell_type": "code",
      "metadata": {
        "id": "VGt5GmYRByLg",
        "colab_type": "code",
        "colab": {}
      },
      "source": [
        "class Vocab(object):\n",
        "    def __init__(self):\n",
        "        self.sign2id = {\n",
        "            \"<s>\": START_TOKEN,\n",
        "            \"</s>\": END_TOKEN,\n",
        "            \"<pad>\": PAD_TOKEN,\n",
        "            \"<unk>\": UNK_TOKEN\n",
        "        }\n",
        "\n",
        "        self.id2sign = dict((id, sign) for sign, id in self.sign2id.items())\n",
        "        self.length = 4\n",
        "    \n",
        "    def add_sign(self, sign):\n",
        "        if sign not in self.sign2id:\n",
        "            self.sign2id[sign] = self.length\n",
        "            self.id2sign[self.length] = sign\n",
        "            self.length += 1\n",
        "    \n",
        "    def __len__(self):\n",
        "        return self.length\n",
        "    \n",
        "    def __call__(self, sign):\n",
        "        if not sign in self.sign2id:\n",
        "            return self.sign2id['<unk>']\n",
        "        return self.sign2id[sign]"
      ],
      "execution_count": 23,
      "outputs": []
    },
    {
      "cell_type": "code",
      "metadata": {
        "id": "LfMRLXA6EKbr",
        "colab_type": "code",
        "colab": {}
      },
      "source": [
        "def build_vocab(data_dir, min_count=10):\n",
        "    vocab = Vocab()\n",
        "    counter = Counter()\n",
        "\n",
        "    with open(os.path.join(data_dir, 'train_sampled_formula.pkl'), 'rb') as f:\n",
        "        formulas = pickle.load(f)\n",
        "\n",
        "    for formula in formulas:\n",
        "        counter.update(formula.split())\n",
        "\n",
        "    for word, count in counter.most_common():\n",
        "        if count >= min_count:\n",
        "            vocab.add_sign(word)\n",
        "    \n",
        "    vocab_file = os.path.join(data_dir, 'vocab.pkl')\n",
        "    print(\"saving vocabulary...\")\n",
        "    with open(vocab_file, 'wb') as f:\n",
        "        pickle.dump(vocab, f)"
      ],
      "execution_count": 24,
      "outputs": []
    },
    {
      "cell_type": "code",
      "metadata": {
        "id": "KzHVv5anGWLS",
        "colab_type": "code",
        "colab": {}
      },
      "source": [
        "def load_vocab(data_dir):\n",
        "    with open(os.path.join(data_dir, 'vocab.pkl'), 'rb') as f:\n",
        "        vocab = pickle.load(f)\n",
        "    return vocab"
      ],
      "execution_count": 25,
      "outputs": []
    },
    {
      "cell_type": "code",
      "metadata": {
        "id": "KivstX-MuVBg",
        "colab_type": "code",
        "colab": {
          "base_uri": "https://localhost:8080/",
          "height": 67
        },
        "outputId": "15f16695-b8ec-405e-d76a-b12bdf4b9cbb"
      },
      "source": [
        "%%time\n",
        "build_vocab(data_path)"
      ],
      "execution_count": 26,
      "outputs": [
        {
          "output_type": "stream",
          "text": [
            "saving vocabulary...\n",
            "CPU times: user 527 ms, sys: 3.95 ms, total: 531 ms\n",
            "Wall time: 533 ms\n"
          ],
          "name": "stdout"
        }
      ]
    },
    {
      "cell_type": "code",
      "metadata": {
        "id": "w60P9l44vcp2",
        "colab_type": "code",
        "colab": {}
      },
      "source": [
        "vocab = load_vocab(data_path)"
      ],
      "execution_count": 27,
      "outputs": []
    },
    {
      "cell_type": "markdown",
      "metadata": {
        "id": "Cj3hxwl3B2Ts",
        "colab_type": "text"
      },
      "source": [
        "### Dataset"
      ]
    },
    {
      "cell_type": "code",
      "metadata": {
        "id": "bQ0lCiFTB3W8",
        "colab_type": "code",
        "colab": {}
      },
      "source": [
        "class Im2LatexDataset(data.Dataset):\n",
        "    def __init__(self, data_dir, split):\n",
        "        assert split in {'train', 'validate', 'test'}\n",
        "        self.data_dir = data_dir\n",
        "        self.split = split\n",
        "        self.data = self._load_data()\n",
        "    \n",
        "    def _load_data(self):\n",
        "        pairs = torch.load(os.path.join(self.data_dir, f\"{self.split}.pkl\"))\n",
        "        for i, (img, formula) in enumerate(pairs):\n",
        "            pair = (img, \" \".join(formula.split()))\n",
        "            pairs[i] = pair\n",
        "        return pairs\n",
        "\n",
        "    def __len__(self):\n",
        "        return len(self.data)\n",
        "    \n",
        "    def __getitem__(self, item):\n",
        "        img, formula = self.data[item]\n",
        "        formula = formula.split()\n",
        "        tokens = []\n",
        "        tokens.append(vocab('<s>'))\n",
        "        tokens.extend([vocab(sign) for sign in formula])\n",
        "        tokens.append(vocab('</s>'))\n",
        "\n",
        "        formula = torch.Tensor(tokens)\n",
        "        return img, formula"
      ],
      "execution_count": 28,
      "outputs": []
    },
    {
      "cell_type": "code",
      "metadata": {
        "id": "4GnuT50WIIQ-",
        "colab_type": "code",
        "colab": {
          "base_uri": "https://localhost:8080/",
          "height": 50
        },
        "outputId": "5d809b22-02ef-4a63-a0f5-b132b8274d31"
      },
      "source": [
        "%%time\n",
        "train_dataset = Im2LatexDataset(data_path, 'train')\n",
        "valid_dataset = Im2LatexDataset(data_path, 'validate')\n",
        "test_dataset = Im2LatexDataset(data_path, 'test')"
      ],
      "execution_count": 29,
      "outputs": [
        {
          "output_type": "stream",
          "text": [
            "CPU times: user 1.93 s, sys: 1.4 s, total: 3.32 s\n",
            "Wall time: 3.33 s\n"
          ],
          "name": "stdout"
        }
      ]
    },
    {
      "cell_type": "markdown",
      "metadata": {
        "id": "h9DVmMzpB366",
        "colab_type": "text"
      },
      "source": [
        "### DataLoader"
      ]
    },
    {
      "cell_type": "code",
      "metadata": {
        "id": "NcAnW-aJ9Y-G",
        "colab_type": "code",
        "colab": {}
      },
      "source": [
        "torch.cuda.empty_cache()"
      ],
      "execution_count": 30,
      "outputs": []
    },
    {
      "cell_type": "code",
      "metadata": {
        "id": "f-lagoP_B5As",
        "colab_type": "code",
        "colab": {}
      },
      "source": [
        "def collate_fn(data):\n",
        "    data.sort(key=lambda x: len(x[1]), reverse=True)\n",
        "    images, formulas = zip(*data)\n",
        "\n",
        "    # merge images\n",
        "    images = torch.stack(images, 0)\n",
        "\n",
        "    lengths = [len(form) for form in formulas]\n",
        "    targets = torch.zeros(len(formulas), max(lengths)).long()\n",
        "    for i, form in enumerate(formulas):\n",
        "        end = lengths[i]\n",
        "        targets[i, :end] = form[:end]\n",
        "    \n",
        "    return images, targets, lengths"
      ],
      "execution_count": 31,
      "outputs": []
    },
    {
      "cell_type": "code",
      "metadata": {
        "id": "2wf1XIZmvrnj",
        "colab_type": "code",
        "colab": {}
      },
      "source": [
        "batch_size = 64"
      ],
      "execution_count": 33,
      "outputs": []
    },
    {
      "cell_type": "code",
      "metadata": {
        "id": "WbRXgxAWYfdJ",
        "colab_type": "code",
        "colab": {}
      },
      "source": [
        "train_data_loader = data.DataLoader(train_dataset, batch_size, shuffle=True, collate_fn=collate_fn)\n",
        "valid_data_loader = data.DataLoader(valid_dataset, batch_size, shuffle=False, collate_fn=collate_fn)\n",
        "test_data_loader = data.DataLoader(test_dataset, batch_size, shuffle=False, collate_fn=collate_fn)"
      ],
      "execution_count": 34,
      "outputs": []
    },
    {
      "cell_type": "code",
      "metadata": {
        "id": "pWG6CqwLZU9V",
        "colab_type": "code",
        "colab": {
          "base_uri": "https://localhost:8080/",
          "height": 34
        },
        "outputId": "a4f0aae1-b4fc-4e44-e744-c9a729f1262a"
      },
      "source": [
        "# sample check\n",
        "sample = next(iter(train_data_loader))\n",
        "sample[0].shape, sample[1].shape, len(sample[2])"
      ],
      "execution_count": 35,
      "outputs": [
        {
          "output_type": "execute_result",
          "data": {
            "text/plain": [
              "(torch.Size([64, 3, 32, 128]), torch.Size([64, 126]), 64)"
            ]
          },
          "metadata": {
            "tags": []
          },
          "execution_count": 35
        }
      ]
    },
    {
      "cell_type": "markdown",
      "metadata": {
        "id": "G-5-ixKqYxH2",
        "colab_type": "text"
      },
      "source": [
        "### Positional Encoding"
      ]
    },
    {
      "cell_type": "code",
      "metadata": {
        "id": "UE7_lsC5Y0WR",
        "colab_type": "code",
        "colab": {}
      },
      "source": [
        "class PositionalEncoding(nn.Module):\n",
        "    \"\"\"\n",
        "    Implements the positional encoding.\n",
        "    There are other ways of implementing positional encoding.\n",
        "    Below mentioned is the way where the positional encoding is fixed.\n",
        "    Other way is to make that as a learnable using: nn.Embedding(max_len, d_model)\n",
        "    Paper claims there is not much of a difference between either ways.\n",
        "    \"\"\"\n",
        "    def __init__(self, d_model, dropout, max_len=512):\n",
        "        super().__init__()\n",
        "\n",
        "        self.dropout = nn.Dropout(dropout)\n",
        "        pe = torch.zeros(max_len, d_model)\n",
        "        position = torch.arange(0, max_len, dtype=torch.float).unsqueeze(1)\n",
        "        div_term = torch.exp(torch.arange(0, d_model, 2).float() * (-math.log(10000) / d_model))\n",
        "\n",
        "        # pe(pos, 2i) = sin(pos / (10000 ^ (2i/d_model)))\n",
        "        pe[:, 0::2] = torch.sin(position * div_term)\n",
        "\n",
        "        # pe(pos, 2i+1) = cos(pos / (10000 ^ (2i/d_model)))\n",
        "        pe[:, 1::2] = torch.cos(position * div_term)\n",
        "\n",
        "        pe = pe.unsqueeze(0)\n",
        "        # pe => [1, max_len, d_model]\n",
        "        self.register_buffer('pe', pe)\n",
        "\n",
        "    def forward(self, x):\n",
        "        # x => [batch_size, seq_len, d_model]\n",
        "        \n",
        "        # get the positional embeddings of word and add it\n",
        "        x = x + self.pe[:, :x.shape[1], :]\n",
        "        # x => [batch_size, seq_len, d_model]\n",
        "\n",
        "        return self.dropout(x)"
      ],
      "execution_count": 36,
      "outputs": []
    },
    {
      "cell_type": "markdown",
      "metadata": {
        "id": "kS_0lorHB5uC",
        "colab_type": "text"
      },
      "source": [
        "### Encoder"
      ]
    },
    {
      "cell_type": "code",
      "metadata": {
        "id": "KPRCLgPCZqy_",
        "colab_type": "code",
        "colab": {}
      },
      "source": [
        "class Encoder(nn.Module):\n",
        "    def __init__(self, enc_out_dim=512):\n",
        "        super().__init__()\n",
        "\n",
        "        self.cnn = nn.Sequential(\n",
        "            nn.Conv2d(3, 16, 3, 1, 1),\n",
        "            nn.ReLU(),\n",
        "            nn.MaxPool2d(1, 1),\n",
        "\n",
        "            nn.Conv2d(16, 32, 3, 1, 1),\n",
        "            nn.ReLU(),\n",
        "            nn.MaxPool2d(2, 2),\n",
        "\n",
        "            nn.Conv2d(32, 64, 3, 1, 1),\n",
        "            nn.ReLU(),\n",
        "            nn.MaxPool2d(2, 2),\n",
        "\n",
        "            nn.Conv2d(64, 128, 3, 1, 1),\n",
        "            nn.ReLU(),\n",
        "            nn.MaxPool2d(2, 2),\n",
        "\n",
        "            nn.Conv2d(128, 256, 3, 1, 1),\n",
        "            nn.ReLU(),\n",
        "            nn.MaxPool2d(2, 2),\n",
        "\n",
        "            nn.Conv2d(256, enc_out_dim, 3, 1, 1),\n",
        "            nn.ReLU()\n",
        "        )\n",
        "\n",
        "        self.pos = PositionalEncoding(enc_out_dim, 0.3)\n",
        "\n",
        "    def forward(self, imgs):\n",
        "        # imgs => [batch, 3, 32, 128]\n",
        "\n",
        "        features = self.cnn(imgs)\n",
        "        # features => [batch, 512, 2, 8]\n",
        "\n",
        "        features = features.permute(0, 2, 3, 1)\n",
        "        batch, H, W, _ = features.shape\n",
        "        encoded_imgs = features.contiguous().view(batch, H*W, -1)\n",
        "        encoded_imgs = self.pos(encoded_imgs)\n",
        "        return encoded_imgs"
      ],
      "execution_count": 37,
      "outputs": []
    },
    {
      "cell_type": "markdown",
      "metadata": {
        "id": "HqisjmlD9Y4l",
        "colab_type": "text"
      },
      "source": [
        "### Attention"
      ]
    },
    {
      "cell_type": "code",
      "metadata": {
        "id": "49NXf_F79a14",
        "colab_type": "code",
        "colab": {}
      },
      "source": [
        "class Attention(nn.Module):\n",
        "    def __init__(self, encoder_dim, decoder_dim, attention_dim):\n",
        "        super().__init__()\n",
        "\n",
        "        self.encoder_attn = nn.Linear(encoder_dim, attention_dim)\n",
        "        self.decoder_attn = nn.Linear(decoder_dim, attention_dim)\n",
        "\n",
        "        self.full_attn = nn.Linear(attention_dim, 1)\n",
        "        self.relu = nn.ReLU()\n",
        "        self.softmax = nn.Softmax(dim=1)\n",
        "    \n",
        "    def forward(self, encoder_out, decoder_hidden):\n",
        "        # encoder_out => [batch_size, num_pixels, enc_dim]\n",
        "        # decoder_hidden => [batch_size, dec_dim]\n",
        "\n",
        "        enc_attn = self.encoder_attn(encoder_out)\n",
        "        # enc_attn => [batch_size, num_pixels, attn_dim]\n",
        "\n",
        "        dec_attn = self.decoder_attn(decoder_hidden)\n",
        "        # dec_attn => [batch_size, attn_dim]\n",
        "\n",
        "        attn = self.full_attn(self.relu(enc_attn + dec_attn.unsqueeze(1)))\n",
        "        # attn => [batch_size, num_pixels, 1]\n",
        "\n",
        "        attn = attn.squeeze(2)\n",
        "        # attn => [batch_size, num_pixels]\n",
        "\n",
        "        alpha = self.softmax(attn)\n",
        "\n",
        "        weighted = (encoder_out * alpha.unsqueeze(2)).sum(dim=1)\n",
        "        # weighted => [batch_size, encoder_dim]\n",
        "\n",
        "        return weighted, alpha"
      ],
      "execution_count": 38,
      "outputs": []
    },
    {
      "cell_type": "markdown",
      "metadata": {
        "id": "fvqmfbEI1FA0",
        "colab_type": "text"
      },
      "source": [
        "### Decoder"
      ]
    },
    {
      "cell_type": "code",
      "metadata": {
        "id": "FojRXiFJcCEj",
        "colab_type": "code",
        "colab": {}
      },
      "source": [
        "class Decoder(nn.Module):\n",
        "    def __init__(self, vocab_size, emb_dim, decoder_dim, attention_dim, encoder_dim=512, dropout=0.3):\n",
        "        super().__init__()\n",
        "\n",
        "        self.vocab_size = vocab_size\n",
        "        self.embedding = nn.Embedding(vocab_size, emb_dim, padding_idx=PAD_TOKEN)\n",
        "        self.attention = Attention(encoder_dim, decoder_dim, attention_dim)\n",
        "        self.lstm = nn.LSTM(\n",
        "            emb_dim,\n",
        "            decoder_dim,\n",
        "            batch_first=True\n",
        "        )\n",
        "\n",
        "        self.out = nn.Linear(emb_dim + encoder_dim + decoder_dim, vocab_size)\n",
        "        self.dropout = nn.Dropout(dropout)\n",
        "    \n",
        "\n",
        "    def forward(self, trg, hidden, cell, encoder_out):\n",
        "        # trg => [batch_size, 1]\n",
        "\n",
        "        embedded = self.embedding(trg)\n",
        "        # embedded => [batch_size, 1, emb_dim]\n",
        "\n",
        "        output, (hidden, cell) = self.lstm(embedded, (hidden, cell))\n",
        "        # output => [batch_size, 1, hid_dim]\n",
        "        # hidden, cell => [num_layers, batch_size, hid_dim]\n",
        "\n",
        "        weighted, alpha = self.attention(encoder_out, output[:, -1, :])\n",
        "        # weighted => [batch_size, encoder_dim]\n",
        "        # alpha => [batch_size, num_pixels]\n",
        "\n",
        "        combined = torch.cat([embedded.squeeze(1), weighted, output[:, -1, :]], dim=1)\n",
        "        # combined => [batch_size, emb_dim + encoder_dim + hid_dim]\n",
        "\n",
        "        logits = self.out(self.dropout(combined))\n",
        "        # logits => [batch_size, vocab_size]\n",
        "\n",
        "        return logits, hidden, cell, alpha\n"
      ],
      "execution_count": 39,
      "outputs": []
    },
    {
      "cell_type": "code",
      "metadata": {
        "id": "rNY184cNC5da",
        "colab_type": "code",
        "colab": {}
      },
      "source": [
        "class Img2LaTeX(nn.Module):\n",
        "    def __init__(self, encoder, decoder, encoder_dim, decoder_dim, device):\n",
        "        super().__init__()\n",
        "\n",
        "        self.encoder = encoder\n",
        "        self.decoder = decoder\n",
        "        self.device = device\n",
        "\n",
        "        self.init_h = nn.Linear(encoder_dim, decoder_dim)\n",
        "        self.init_c = nn.Linear(encoder_dim, decoder_dim)\n",
        "\n",
        "    def init_hidden_state(self, encoder_out):\n",
        "        # encoder_out => [batch_size, num_pixels, encoder_dim]\n",
        "        mean_enc = torch.mean(encoder_out, dim=1)\n",
        "        h = self.init_h(mean_enc)\n",
        "        c = self.init_c(mean_enc)\n",
        "        # h, c=> [batch_size, decoder_dim]\n",
        "\n",
        "        return h, c\n",
        "    \n",
        "    def forward(self, images, formulas, lengths):\n",
        "        # images => [batch_size, 3, 32, 128]\n",
        "        # formulas => [batch_size, max_seq_len]\n",
        "        # lengths => [batch_size]\n",
        "\n",
        "        encoded_images = self.encoder(images)\n",
        "        # encoded_images => [batch_size, 2, 8, 512]\n",
        "\n",
        "        batch_size = encoded_images.size(0)\n",
        "        encoder_dim = encoded_images.size(-1)\n",
        "        encoder_out = encoded_images.view(batch_size, -1, encoder_dim)\n",
        "        # encoder_\n",
        "        hidden, cell = self.init_hidden_state(encoder_out)\n",
        "\n",
        "        hidden = hidden.unsqueeze(0)\n",
        "        cell = cell.unsqueeze(0)\n",
        "        # hidden, cell => [1, batch_size, decoder_dim]\n",
        "\n",
        "        # We won't decode at the <end> position, since we've finished generating as soon as we generate <end>\n",
        "        # So, decoding lengths are actual lengths - 1\n",
        "        decode_lengths = [length - 1 for length in lengths]\n",
        "\n",
        "        trg_len = formulas.size(1)\n",
        "        output_dim = self.decoder.vocab_size\n",
        "        outputs = torch.zeros(batch_size, trg_len, output_dim).to(self.device)\n",
        "\n",
        "        dec_inp = formulas[:, 0]\n",
        "\n",
        "        for t in range(max(decode_lengths)):\n",
        "            # calculate batch_size at each time step, so that only that part\n",
        "            # will be used to train the model. (similar to pack padded sequence)\n",
        "            batch_size_t = sum([l > t for l in decode_lengths])\n",
        "\n",
        "            output, hidden, cell, alpha = self.decoder(\n",
        "                dec_inp[:batch_size_t].unsqueeze(1),\n",
        "                hidden[:, :batch_size_t, :],\n",
        "                cell[:, :batch_size_t, :],\n",
        "                encoder_out[:batch_size_t]\n",
        "            )\n",
        "\n",
        "            # save the output\n",
        "            outputs[:batch_size_t, t, :] = output\n",
        "\n",
        "            dec_inp = formulas[:batch_size_t, t]\n",
        "        \n",
        "        return outputs"
      ],
      "execution_count": 40,
      "outputs": []
    },
    {
      "cell_type": "markdown",
      "metadata": {
        "id": "Iy1TgsEy1jl0",
        "colab_type": "text"
      },
      "source": [
        "### Model"
      ]
    },
    {
      "cell_type": "code",
      "metadata": {
        "id": "pOUHbshdz8dX",
        "colab_type": "code",
        "colab": {}
      },
      "source": [
        "embed_dim = 256\n",
        "encoder_dim = 512\n",
        "decoder_dim = 512\n",
        "attention_dim = 512\n",
        "dropout = 0.3"
      ],
      "execution_count": 41,
      "outputs": []
    },
    {
      "cell_type": "code",
      "metadata": {
        "id": "2dUenVNZ0SFj",
        "colab_type": "code",
        "colab": {}
      },
      "source": [
        "encoder = Encoder(encoder_dim).to(device)\n",
        "decoder = Decoder(len(vocab), embed_dim, decoder_dim, attention_dim, encoder_dim, dropout).to(device)\n",
        "model = Img2LaTeX(encoder, decoder, encoder_dim, decoder_dim, device).to(device)"
      ],
      "execution_count": 42,
      "outputs": []
    },
    {
      "cell_type": "markdown",
      "metadata": {
        "id": "lkcP4u_FB7hF",
        "colab_type": "text"
      },
      "source": [
        "### Optimizer & Loss"
      ]
    },
    {
      "cell_type": "code",
      "metadata": {
        "id": "HNNw-fSFWh68",
        "colab_type": "code",
        "colab": {}
      },
      "source": [
        "lr = 3e-3\n",
        "min_lr = 3e-4\n",
        "lr_decay=0.5\n",
        "lr_patience=2"
      ],
      "execution_count": 43,
      "outputs": []
    },
    {
      "cell_type": "code",
      "metadata": {
        "id": "Y3HcR5RvB9k0",
        "colab_type": "code",
        "colab": {}
      },
      "source": [
        "params = model.parameters()\n",
        "optimizer = optim.Adam(params, lr=1e-3)\n",
        "criterion = nn.CrossEntropyLoss()\n",
        "scheduler = ReduceLROnPlateau(optimizer, 'min', lr_decay, lr_patience, verbose=True, min_lr=min_lr)"
      ],
      "execution_count": 45,
      "outputs": []
    },
    {
      "cell_type": "markdown",
      "metadata": {
        "id": "pEb9uCUFB-19",
        "colab_type": "text"
      },
      "source": [
        "### Training Method"
      ]
    },
    {
      "cell_type": "code",
      "metadata": {
        "id": "LPkI2PkvCAHh",
        "colab_type": "code",
        "colab": {}
      },
      "source": [
        "def train(model, data_loader):\n",
        "    model.train()\n",
        "    epoch_loss = 0\n",
        "    total_step = len(data_loader)\n",
        "\n",
        "    for i, (images, formulas, lengths) in enumerate(data_loader):\n",
        "        optimizer.zero_grad()\n",
        "        images = images.to(device)\n",
        "        formulas = formulas.to(device)\n",
        "\n",
        "        output = model(images, formulas, lengths)\n",
        "        decode_lengths = [length - 1 for length in lengths]\n",
        "\n",
        "        outputs = nn.utils.rnn.pack_padded_sequence(output, decode_lengths, batch_first=True)[0]\n",
        "        targets = nn.utils.rnn.pack_padded_sequence(formulas, decode_lengths, batch_first=True)[0]\n",
        "\n",
        "        loss = criterion(outputs, targets)\n",
        "\n",
        "        loss.backward()\n",
        "        \n",
        "        # clip the gradients\n",
        "        torch.nn.utils.clip_grad_norm_(params, 2.)\n",
        "        optimizer.step()\n",
        "\n",
        "        epoch_loss += loss.item()\n",
        "\n",
        "        # Print log info\n",
        "        if i % 100 == 0:\n",
        "            print(f'Step [{i}/{total_step}], Loss: {loss.item():.4f}, Perplexity: {np.exp(loss.item()):5.4f}')\n",
        "    return epoch_loss / total_step    "
      ],
      "execution_count": 48,
      "outputs": []
    },
    {
      "cell_type": "markdown",
      "metadata": {
        "id": "RH82yx4mCA3C",
        "colab_type": "text"
      },
      "source": [
        "### Evaluation Method"
      ]
    },
    {
      "cell_type": "code",
      "metadata": {
        "id": "TRRY1sEKCC-s",
        "colab_type": "code",
        "colab": {}
      },
      "source": [
        "def evaluate(model, data_loader):\n",
        "    model.eval()\n",
        "    epoch_loss = 0\n",
        "    total_step = len(data_loader)\n",
        "\n",
        "    with torch.no_grad():\n",
        "        for i, (images, formulas, lengths) in enumerate(data_loader):\n",
        "            images = images.to(device)\n",
        "            formulas = formulas.to(device)\n",
        "\n",
        "            output = model(images, formulas, lengths)\n",
        "            decode_lengths = [length - 1 for length in lengths]\n",
        "\n",
        "            outputs = nn.utils.rnn.pack_padded_sequence(output, decode_lengths, batch_first=True)[0]\n",
        "            targets = nn.utils.rnn.pack_padded_sequence(formulas, decode_lengths, batch_first=True)[0]\n",
        "\n",
        "            loss = criterion(outputs, targets)\n",
        "\n",
        "            epoch_loss += loss.item()\n",
        "\n",
        "            # Print log info\n",
        "            if i % 50 == 0:\n",
        "                print(f'Val Step [{i}/{total_step}], Loss: {loss.item():.4f}, Perplexity: {np.exp(loss.item()):5.4f}')\n",
        "    return epoch_loss / total_step    "
      ],
      "execution_count": 49,
      "outputs": []
    },
    {
      "cell_type": "markdown",
      "metadata": {
        "id": "O75NkR96CDpo",
        "colab_type": "text"
      },
      "source": [
        "### Training"
      ]
    },
    {
      "cell_type": "code",
      "metadata": {
        "id": "U0ZJrA5kw1O-",
        "colab_type": "code",
        "colab": {}
      },
      "source": [
        "def epoch_time(start_time, end_time):\n",
        "    elapsed_time = end_time - start_time\n",
        "    elapsed_mins = int(elapsed_time / 60)\n",
        "    elapsed_secs = elapsed_time - (elapsed_mins*60)\n",
        "    return elapsed_mins, elapsed_secs"
      ],
      "execution_count": 50,
      "outputs": []
    },
    {
      "cell_type": "code",
      "metadata": {
        "id": "_pM4nRoyCEir",
        "colab_type": "code",
        "colab": {}
      },
      "source": [
        "num_epochs = 5"
      ],
      "execution_count": 51,
      "outputs": []
    },
    {
      "cell_type": "code",
      "metadata": {
        "id": "Hq9kyjFdtRa0",
        "colab_type": "code",
        "colab": {
          "base_uri": "https://localhost:8080/",
          "height": 1000
        },
        "outputId": "7098aa43-49a3-434d-fe33-a11289b43a06"
      },
      "source": [
        "best_val_loss = float('inf')\n",
        "for epoch in range(num_epochs):\n",
        "\n",
        "    start_time = time.time()\n",
        "    train_loss = train(model, train_data_loader)\n",
        "    val_loss = evaluate(model, valid_data_loader)\n",
        "    end_time = time.time()\n",
        "    \n",
        "    scheduler.step(val_loss)\n",
        "\n",
        "    epoch_mins, epoch_secs = epoch_time(start_time, end_time)\n",
        "\n",
        "    if val_loss <  best_val_loss:\n",
        "        best_val_loss = val_loss\n",
        "        torch.save(model.state_dict(), 'model.ckpt')\n",
        "\n",
        "    print(f\"Epoch: {epoch+1} | Time: {epoch_mins}m {epoch_secs}s\")\n",
        "    print(f\"\\tTrain Loss: {train_loss:.4f}, Train PPL: {np.exp(train_loss):5.4f}\")\n",
        "    print(f\"\\tVal Loss: {val_loss:.4f}, Val PPL: {np.exp(val_loss):5.4f}\")\n"
      ],
      "execution_count": 52,
      "outputs": [
        {
          "output_type": "stream",
          "text": [
            "Step [0/938], Loss: 6.0197, Perplexity: 411.4353\n",
            "Step [100/938], Loss: 2.5103, Perplexity: 12.3086\n",
            "Step [200/938], Loss: 2.2608, Perplexity: 9.5904\n",
            "Step [300/938], Loss: 2.1558, Perplexity: 8.6346\n",
            "Step [400/938], Loss: 2.1303, Perplexity: 8.4177\n",
            "Step [500/938], Loss: 1.9597, Perplexity: 7.0974\n",
            "Step [600/938], Loss: 1.9987, Perplexity: 7.3796\n",
            "Step [700/938], Loss: 1.9390, Perplexity: 6.9520\n",
            "Step [800/938], Loss: 1.9612, Perplexity: 7.1082\n",
            "Step [900/938], Loss: 1.8780, Perplexity: 6.5406\n",
            "Val Step [0/16], Loss: 1.9018, Perplexity: 6.6981\n",
            "Epoch: 1 | Time: 9m 37.98337531089783s\n",
            "\tTrain Loss: 2.1872, Train PPL: 8.9102\n",
            "\tVal Loss: 1.8862, Val PPL: 6.5943\n",
            "Step [0/938], Loss: 1.9317, Perplexity: 6.9009\n",
            "Step [100/938], Loss: 1.9587, Perplexity: 7.0903\n",
            "Step [200/938], Loss: 1.8905, Perplexity: 6.6228\n",
            "Step [300/938], Loss: 1.8656, Perplexity: 6.4599\n",
            "Step [400/938], Loss: 1.9390, Perplexity: 6.9520\n",
            "Step [500/938], Loss: 1.8604, Perplexity: 6.4265\n",
            "Step [600/938], Loss: 1.8996, Perplexity: 6.6834\n",
            "Step [700/938], Loss: 1.7860, Perplexity: 5.9658\n",
            "Step [800/938], Loss: 1.8917, Perplexity: 6.6305\n",
            "Step [900/938], Loss: 1.8695, Perplexity: 6.4849\n",
            "Val Step [0/16], Loss: 1.7765, Perplexity: 5.9093\n",
            "Epoch: 2 | Time: 9m 36.25870609283447s\n",
            "\tTrain Loss: 1.8624, Train PPL: 6.4391\n",
            "\tVal Loss: 1.7646, Val PPL: 5.8390\n",
            "Step [0/938], Loss: 1.8236, Perplexity: 6.1940\n",
            "Step [100/938], Loss: 1.7230, Perplexity: 5.6014\n",
            "Step [200/938], Loss: 1.7297, Perplexity: 5.6390\n",
            "Step [300/938], Loss: 1.8871, Perplexity: 6.6001\n",
            "Step [400/938], Loss: 1.7401, Perplexity: 5.6980\n",
            "Step [500/938], Loss: 1.7463, Perplexity: 5.7336\n",
            "Step [600/938], Loss: 1.7604, Perplexity: 5.8150\n",
            "Step [700/938], Loss: 1.7653, Perplexity: 5.8432\n",
            "Step [800/938], Loss: 1.7242, Perplexity: 5.6081\n",
            "Step [900/938], Loss: 1.6984, Perplexity: 5.4651\n",
            "Val Step [0/16], Loss: 1.7167, Perplexity: 5.5659\n",
            "Epoch: 3 | Time: 9m 36.88407564163208s\n",
            "\tTrain Loss: 1.7666, Train PPL: 5.8511\n",
            "\tVal Loss: 1.7158, Val PPL: 5.5612\n",
            "Step [0/938], Loss: 1.7330, Perplexity: 5.6578\n",
            "Step [100/938], Loss: 1.7555, Perplexity: 5.7861\n",
            "Step [200/938], Loss: 1.6554, Perplexity: 5.2351\n",
            "Step [300/938], Loss: 1.6491, Perplexity: 5.2023\n",
            "Step [400/938], Loss: 1.7470, Perplexity: 5.7371\n",
            "Step [500/938], Loss: 1.7109, Perplexity: 5.5341\n",
            "Step [600/938], Loss: 1.7756, Perplexity: 5.9039\n",
            "Step [700/938], Loss: 1.6884, Perplexity: 5.4109\n",
            "Step [800/938], Loss: 1.7709, Perplexity: 5.8763\n",
            "Step [900/938], Loss: 1.7202, Perplexity: 5.5854\n",
            "Val Step [0/16], Loss: 1.6812, Perplexity: 5.3723\n",
            "Epoch: 4 | Time: 9m 37.20697641372681s\n",
            "\tTrain Loss: 1.7083, Train PPL: 5.5197\n",
            "\tVal Loss: 1.6821, Val PPL: 5.3769\n",
            "Step [0/938], Loss: 1.6279, Perplexity: 5.0934\n",
            "Step [100/938], Loss: 1.6100, Perplexity: 5.0026\n",
            "Step [200/938], Loss: 1.7033, Perplexity: 5.4918\n",
            "Step [300/938], Loss: 1.6412, Perplexity: 5.1615\n",
            "Step [400/938], Loss: 1.6805, Perplexity: 5.3683\n",
            "Step [500/938], Loss: 1.6843, Perplexity: 5.3889\n",
            "Step [600/938], Loss: 1.6902, Perplexity: 5.4205\n",
            "Step [700/938], Loss: 1.7568, Perplexity: 5.7936\n",
            "Step [800/938], Loss: 1.6650, Perplexity: 5.2854\n",
            "Step [900/938], Loss: 1.5251, Perplexity: 4.5956\n",
            "Val Step [0/16], Loss: 1.6689, Perplexity: 5.3063\n",
            "Epoch: 5 | Time: 9m 38.9926323890686s\n",
            "\tTrain Loss: 1.6671, Train PPL: 5.2966\n",
            "\tVal Loss: 1.6643, Val PPL: 5.2820\n"
          ],
          "name": "stdout"
        }
      ]
    },
    {
      "cell_type": "markdown",
      "metadata": {
        "id": "rvwf7QVv4HQq",
        "colab_type": "text"
      },
      "source": [
        "### Testing"
      ]
    },
    {
      "cell_type": "code",
      "metadata": {
        "id": "RRTmz1gMz7jB",
        "colab_type": "code",
        "colab": {}
      },
      "source": [
        "vocab_path = \"data/vocab.pkl\"\n",
        "# Load vocabulary wrapper\n",
        "with open(vocab_path, 'rb') as f:\n",
        "    vocab = pickle.load(f)"
      ],
      "execution_count": 53,
      "outputs": []
    },
    {
      "cell_type": "code",
      "metadata": {
        "id": "na8Kbd0y3mVc",
        "colab_type": "code",
        "colab": {
          "base_uri": "https://localhost:8080/",
          "height": 706
        },
        "outputId": "eb1f475b-6111-4d95-8641-7a5c0c58306d"
      },
      "source": [
        "# Build models\n",
        "encoder = Encoder(encoder_dim).to(device)\n",
        "decoder = Decoder(len(vocab), embed_dim, decoder_dim, attention_dim, encoder_dim, dropout).to(device)\n",
        "model = Img2LaTeX(encoder, decoder, encoder_dim, decoder_dim, device).to(device)\n",
        "\n",
        "model.eval()"
      ],
      "execution_count": 54,
      "outputs": [
        {
          "output_type": "execute_result",
          "data": {
            "text/plain": [
              "Img2LaTeX(\n",
              "  (encoder): Encoder(\n",
              "    (cnn): Sequential(\n",
              "      (0): Conv2d(3, 16, kernel_size=(3, 3), stride=(1, 1), padding=(1, 1))\n",
              "      (1): ReLU()\n",
              "      (2): MaxPool2d(kernel_size=1, stride=1, padding=0, dilation=1, ceil_mode=False)\n",
              "      (3): Conv2d(16, 32, kernel_size=(3, 3), stride=(1, 1), padding=(1, 1))\n",
              "      (4): ReLU()\n",
              "      (5): MaxPool2d(kernel_size=2, stride=2, padding=0, dilation=1, ceil_mode=False)\n",
              "      (6): Conv2d(32, 64, kernel_size=(3, 3), stride=(1, 1), padding=(1, 1))\n",
              "      (7): ReLU()\n",
              "      (8): MaxPool2d(kernel_size=2, stride=2, padding=0, dilation=1, ceil_mode=False)\n",
              "      (9): Conv2d(64, 128, kernel_size=(3, 3), stride=(1, 1), padding=(1, 1))\n",
              "      (10): ReLU()\n",
              "      (11): MaxPool2d(kernel_size=2, stride=2, padding=0, dilation=1, ceil_mode=False)\n",
              "      (12): Conv2d(128, 256, kernel_size=(3, 3), stride=(1, 1), padding=(1, 1))\n",
              "      (13): ReLU()\n",
              "      (14): MaxPool2d(kernel_size=2, stride=2, padding=0, dilation=1, ceil_mode=False)\n",
              "      (15): Conv2d(256, 512, kernel_size=(3, 3), stride=(1, 1), padding=(1, 1))\n",
              "      (16): ReLU()\n",
              "    )\n",
              "    (pos): PositionalEncoding(\n",
              "      (dropout): Dropout(p=0.3, inplace=False)\n",
              "    )\n",
              "  )\n",
              "  (decoder): Decoder(\n",
              "    (embedding): Embedding(381, 256, padding_idx=0)\n",
              "    (attention): Attention(\n",
              "      (encoder_attn): Linear(in_features=512, out_features=512, bias=True)\n",
              "      (decoder_attn): Linear(in_features=512, out_features=512, bias=True)\n",
              "      (full_attn): Linear(in_features=512, out_features=1, bias=True)\n",
              "      (relu): ReLU()\n",
              "      (softmax): Softmax(dim=1)\n",
              "    )\n",
              "    (lstm): LSTM(256, 512, batch_first=True)\n",
              "    (out): Linear(in_features=1280, out_features=381, bias=True)\n",
              "    (dropout): Dropout(p=0.3, inplace=False)\n",
              "  )\n",
              "  (init_h): Linear(in_features=512, out_features=512, bias=True)\n",
              "  (init_c): Linear(in_features=512, out_features=512, bias=True)\n",
              ")"
            ]
          },
          "metadata": {
            "tags": []
          },
          "execution_count": 54
        }
      ]
    },
    {
      "cell_type": "code",
      "metadata": {
        "id": "7kltg6AW3q0x",
        "colab_type": "code",
        "colab": {
          "base_uri": "https://localhost:8080/",
          "height": 34
        },
        "outputId": "24398c5e-ee29-4259-c4ec-175ae5aa5b90"
      },
      "source": [
        "model_path = \"model.ckpt\"\n",
        "\n",
        "# Load the trained model parameters\n",
        "model.load_state_dict(torch.load(model_path))"
      ],
      "execution_count": 66,
      "outputs": [
        {
          "output_type": "execute_result",
          "data": {
            "text/plain": [
              "<All keys matched successfully>"
            ]
          },
          "metadata": {
            "tags": []
          },
          "execution_count": 66
        }
      ]
    },
    {
      "cell_type": "code",
      "metadata": {
        "id": "XhiECvlR3w0t",
        "colab_type": "code",
        "colab": {
          "base_uri": "https://localhost:8080/",
          "height": 50
        },
        "outputId": "59ae5810-e30a-4e55-e99f-2a8a75f95396"
      },
      "source": [
        "test_loss = evaluate(model, test_data_loader)\n",
        "print(f\"Test Loss: {test_loss:.4f} | Test PPL: {np.exp(test_loss):5.4f}\")"
      ],
      "execution_count": 67,
      "outputs": [
        {
          "output_type": "stream",
          "text": [
            "Val Step [0/16], Loss: 1.6707, Perplexity: 5.3160\n",
            "Test Loss: 1.6598 | Test PPL: 5.2581\n"
          ],
          "name": "stdout"
        }
      ]
    },
    {
      "cell_type": "markdown",
      "metadata": {
        "id": "Sb69SkMa4JS-",
        "colab_type": "text"
      },
      "source": [
        "### Inference"
      ]
    },
    {
      "cell_type": "code",
      "metadata": {
        "id": "mYdE_AxF4FRt",
        "colab_type": "code",
        "colab": {}
      },
      "source": [
        "def load_image(image_path, transform):\n",
        "    image = Image.open(image_path)\n",
        "    img = resize_image(image, [128, 32])\n",
        "    img_tensor = transform(img).unsqueeze(0)\n",
        "    img_tensor = img_tensor / 255.\n",
        "    return img_tensor"
      ],
      "execution_count": 68,
      "outputs": []
    },
    {
      "cell_type": "code",
      "metadata": {
        "id": "1KkTs7TS4lal",
        "colab_type": "code",
        "colab": {}
      },
      "source": [
        "def greedy_generated_formula(image_path, max_len=64):\n",
        "    # Prepare an image\n",
        "    transform = transforms.ToTensor()\n",
        "    image = load_image(image_path, transform)\n",
        "    image_tensor = image.to(device)\n",
        "    \n",
        "    with torch.no_grad():\n",
        "        encoded_image = model.encoder(image_tensor)\n",
        "        # encoded_image => [1, 2, 8, 512]\n",
        "        \n",
        "        batch_size = encoded_image.size(0)\n",
        "        encoder_dim = encoded_image.size(-1)\n",
        "        encoder_out = encoded_image.view(batch_size, -1, encoder_dim)\n",
        "        # encoder_out => [1, 16, 512]\n",
        "        \n",
        "        num_pixels = encoder_out.size(1)\n",
        "\n",
        "        hidden, cell = model.init_hidden_state(encoder_out)\n",
        "        # hidden, cell => [1, decoder_dim]\n",
        "\n",
        "        hidden = hidden.unsqueeze(0)\n",
        "        cell = cell.unsqueeze(0)\n",
        "        # hidden, cell => [1, 1, decoder_dim]\n",
        "\n",
        "        dec_inp = torch.LongTensor([vocab('<s>')]).to(device)\n",
        "        sampled_ids = []\n",
        "\n",
        "        for t in range(1, max_len):\n",
        "            output, hidden, cell, _ = model.decoder(dec_inp.unsqueeze(1), hidden, cell, encoder_out)\n",
        "            top1 = output.argmax(1)\n",
        "            dec_inp = top1\n",
        "            sampled_ids.append(top1.item())\n",
        "\n",
        "    # Convert word_ids to words\n",
        "    sampled_formula = []\n",
        "    for sign_id in sampled_ids[1:]:\n",
        "        sign = vocab.id2sign[sign_id]\n",
        "        if sign == '</s>':\n",
        "            break\n",
        "        sampled_formula.append(sign)\n",
        "    formula = ' '.join(sampled_formula)\n",
        "\n",
        "    return formula"
      ],
      "execution_count": 69,
      "outputs": []
    },
    {
      "cell_type": "code",
      "metadata": {
        "id": "BghouZr3haH4",
        "colab_type": "code",
        "colab": {}
      },
      "source": [
        "def beam_generated_formulas(image_path, max_len=64, beam_size=5, length_norm_coefficient=0.6):\n",
        "    with torch.no_grad():\n",
        "        k = beam_size\n",
        "\n",
        "        # vocab size\n",
        "        vocab_size = model.decoder.vocab_size\n",
        "\n",
        "        # Prepare an image\n",
        "        transform = transforms.ToTensor()\n",
        "        image = load_image(image_path, transform)\n",
        "\n",
        "        image_tensor = image.to(device)\n",
        "\n",
        "        encoded_image = model.encoder(image_tensor)\n",
        "        # encoded_image => [1, 2, 8, 512]\n",
        "\n",
        "        batch_size = encoded_image.size(0)\n",
        "        encoder_dim = encoded_image.size(-1)\n",
        "        encoder_out = encoded_image.view(batch_size, -1, encoder_dim)\n",
        "        # encoder_out => [1, 16, 512]\n",
        "\n",
        "        num_pixels = encoder_out.shape[1]   # 196\n",
        "\n",
        "        # We'll treat the problem as having a batch size of k\n",
        "        encoder_out = encoder_out.expand(k, num_pixels, encoder_dim)  # (k, num_pixels, encoder_dim)\n",
        "\n",
        "        # Tensor to store top k previous words at each step; now they're just <start>\n",
        "        k_prev_words = torch.LongTensor([[vocab('<s>')]] * k).to(device)  # (k, 1)\n",
        "\n",
        "        # Tensor to store top k sequences; now they're just <start>\n",
        "        seqs = k_prev_words  # (k, 1)\n",
        "\n",
        "        # Tensor to store top k sequences' scores; now they're just 0\n",
        "        top_k_scores = torch.zeros(k, 1).to(device)  # (k, 1)\n",
        "\n",
        "         # Lists to store completed sequences, their alphas and scores\n",
        "        complete_seqs = list()\n",
        "        complete_seqs_scores = list()\n",
        "\n",
        "        # Start decoding\n",
        "        step = 1\n",
        "        hidden, cell = model.init_hidden_state(encoder_out)\n",
        "\n",
        "        hidden = hidden.unsqueeze(0)\n",
        "        cell = cell.unsqueeze(0)\n",
        "\n",
        "        # s is a number less than or equal to k, because sequences are removed from this process once they hit <end>\n",
        "        while True:\n",
        "\n",
        "            logits, hidden, cell, _ = model.decoder(k_prev_words, hidden, cell, encoder_out)\n",
        "            \n",
        "            # logits => [s, vocab_size]\n",
        "            scores = F.log_softmax(logits, dim=1)\n",
        "\n",
        "            # Add\n",
        "            scores = top_k_scores.expand_as(scores) + scores  # (s, vocab_size)\n",
        "\n",
        "            # For the first step, all k points will have the same scores (since same k previous words, h, c)\n",
        "            if step == 1:\n",
        "                top_k_scores, top_k_words = scores[0].topk(k, 0, True, True)  # (s)\n",
        "            else:\n",
        "                # Unroll and find top scores, and their unrolled indices\n",
        "                top_k_scores, top_k_words = scores.view(-1).topk(k, 0, True, True)  # (s)\n",
        "\n",
        "            # Convert unrolled indices to actual indices of scores\n",
        "            prev_word_inds = top_k_words / vocab_size  # (s)\n",
        "            next_word_inds = top_k_words % vocab_size  # (s)\n",
        "\n",
        "            # Add new words to sequences\n",
        "            seqs = torch.cat([seqs[prev_word_inds], next_word_inds.unsqueeze(1)], dim=1)  # (s, step+1)\n",
        "\n",
        "            # Which sequences are incomplete (didn't reach <end>)?\n",
        "            incomplete_inds = [ind for ind, next_word in enumerate(next_word_inds) if\n",
        "                            next_word != vocab('</s>')]\n",
        "            complete_inds = list(set(range(len(next_word_inds))) - set(incomplete_inds))\n",
        "\n",
        "            # Set aside complete sequences\n",
        "            if len(complete_inds) > 0:\n",
        "                complete_seqs.extend(seqs[complete_inds].tolist())\n",
        "                norm = math.pow(((5 + step) / (5 + 1)), length_norm_coefficient)\n",
        "                complete_seqs_scores.extend((top_k_scores[complete_inds]/norm).tolist())\n",
        "            k -= len(complete_inds)  # reduce beam length accordingly\n",
        "\n",
        "            # Proceed with incomplete sequences\n",
        "            if k <= 0:\n",
        "                break\n",
        "            seqs = seqs[incomplete_inds]\n",
        "            hidden = hidden[:, prev_word_inds[incomplete_inds], :]\n",
        "            cell = cell[:, prev_word_inds[incomplete_inds], :]\n",
        "            encoder_out = encoder_out[prev_word_inds[incomplete_inds]]\n",
        "            top_k_scores = top_k_scores[incomplete_inds].unsqueeze(1)\n",
        "            k_prev_words = next_word_inds[incomplete_inds].unsqueeze(1)\n",
        "\n",
        "            # Break if things have been going on too long\n",
        "            if step > max_len:\n",
        "                break\n",
        "            step += 1\n",
        "\n",
        "        # If there is not a single completed hypothesis, use partial hypotheses\n",
        "        if len(complete_seqs) == 0:\n",
        "            complete_seqs = seqs.tolist()\n",
        "            complete_seqs_scores = top_k_scores.tolist()\n",
        "        \n",
        "        formulas = []\n",
        "        i = complete_seqs_scores.index(max(complete_seqs_scores))\n",
        "\n",
        "        for seq, score in zip(complete_seqs, complete_seqs_scores):\n",
        "            # seq = complete_seqs[i]\n",
        "\n",
        "            # Convert word_ids to words\n",
        "            sampled_formula = []\n",
        "            for sign_id in seq[2:]:\n",
        "                sign = vocab.id2sign[sign_id]\n",
        "                if sign == '</s>':\n",
        "                    break\n",
        "                sampled_formula.append(sign)\n",
        "\n",
        "            formula = ' '.join(sampled_formula)\n",
        "            formulas.append(formula)\n",
        "        \n",
        "        return formulas"
      ],
      "execution_count": 70,
      "outputs": []
    },
    {
      "cell_type": "code",
      "metadata": {
        "id": "gx-TJx804yS0",
        "colab_type": "code",
        "colab": {
          "base_uri": "https://localhost:8080/",
          "height": 423
        },
        "outputId": "aeda22fc-aa81-4e94-d5a1-bee7887e8e97"
      },
      "source": [
        "image_path = os.path.join(data_path, \"formula_images_processed\", train_formulas[10][0])\n",
        "actual_formula = formulas[int(train_formulas[10][1])]\n",
        "greedy_formula = greedy_generated_formula(image_path)\n",
        "beam_formulas = beam_generated_formulas(image_path)\n",
        "# Print out the image and the generated formula\n",
        "image = Image.open(image_path)\n",
        "plt.imshow(np.asarray(image))\n",
        "print(f\"Actual: {actual_formula}\")\n",
        "print(f\"\\n Greedy generated forumula\")\n",
        "print(\"-\"*50)\n",
        "print(greedy_formula)\n",
        "print(\"\\nBeam generated captions\")\n",
        "print(\"-\"*50)\n",
        "for s in beam_formulas:\n",
        "    print(s)"
      ],
      "execution_count": 71,
      "outputs": [
        {
          "output_type": "stream",
          "text": [
            "Actual: e x p \\left( - \\frac { \\partial } { \\partial \\alpha _ { j } } \\theta ^ { j k } \\frac { \\partial } { \\partial \\alpha _ { k } } \\right)\n",
            "\n",
            " Greedy generated forumula\n",
            "--------------------------------------------------\n",
            "{ \\cal L } = - \\frac { 1 } { 2 } ( \\partial _ { \\mu } \\phi ) ^ { 2 } + \\frac { 1 } { 2 } \\phi ^ { 2 } + \\frac { 1 } { 2 } \\phi ^ { 2 } + \\frac { 1 } { 2 } \\phi ^ {\n",
            "\n",
            "Beam generated captions\n",
            "--------------------------------------------------\n",
            "{ \\cal L } = \\frac { 1 } { 2 } \\partial _ { \\mu } \\phi \\partial ^ { \\mu } \\phi - \\frac { 1 } { 2 } \\partial _ { \\mu } \\phi \\partial ^ { \\mu } \\phi - \\frac { 1 } { 2 } \\partial _ { \\mu } \\phi \\partial ^ { \\mu } \\phi\n",
            "{ \\cal L } = \\frac { 1 } { 2 } \\partial _ { \\mu } \\phi \\partial ^ { \\mu } \\phi - \\frac { 1 } { 2 } \\partial _ { \\mu } \\phi \\partial ^ { \\mu } \\phi - \\frac { 1 } { 2 } \\partial ^ { \\mu } \\phi \\partial ^ { \\mu } \\phi\n",
            "{ \\cal L } = \\frac { 1 } { 2 } \\partial _ { \\mu } \\phi \\partial ^ { \\mu } \\phi - \\frac { 1 } { 2 } \\partial _ { \\mu } \\phi \\partial ^ { \\mu } \\phi - \\frac { 1 } { 2 } \\partial _ { \\mu } \\phi \\partial _ { \\mu } \\phi\n",
            "{ \\cal L } = \\frac { 1 } { 2 } \\partial _ { \\mu } \\phi \\partial ^ { \\mu } \\phi - \\frac { 1 } { 2 } \\partial _ { \\mu } \\phi \\partial ^ { \\mu } \\phi - \\frac { 1 } { 2 } \\phi ^ { 2 } + \\frac { 1 } { 2\n",
            "{ \\cal L } = \\frac { 1 } { 2 } \\partial _ { \\mu } \\phi \\partial ^ { \\mu } \\phi - \\frac { 1 } { 2 } \\partial _ { \\mu } \\phi \\partial ^ { \\mu } \\phi - \\frac { 1 } { 2 } \\phi ^ { 2 } \\phi ^ { 2 } + \\frac\n"
          ],
          "name": "stdout"
        },
        {
          "output_type": "display_data",
          "data": {
            "image/png": "[encoded data removed]",
            "text/plain": [
              "<Figure size 432x288 with 1 Axes>"
            ]
          },
          "metadata": {
            "tags": [],
            "needs_background": "light"
          }
        }
      ]
    },
    {
      "cell_type": "markdown",
      "metadata": {
        "id": "4fEVuNH7o9YL",
        "colab_type": "text"
      },
      "source": [
        "Rendering the Predicted:\n",
        "\n",
        "${ \\cal L } = - \\frac { 1 } { 2 } ( \\partial _ { \\mu } \\phi ) ^ { 2 } + \\frac { 1 } { 2 } \\phi ^ { 2 } + \\frac { 1 } { 2 } \\phi ^ { 2 } + \\frac { 1 } { 2 } \\phi$\n",
        "\n",
        "${ \\cal L } = \\frac { 1 } { 2 } \\partial _ { \\mu } \\phi \\partial ^ { \\mu } \\phi - \\frac { 1 } { 2 } \\partial _ { \\mu } \\phi \\partial ^ { \\mu } \\phi - \\frac { 1 } { 2 } \\partial _ { \\mu } \\phi \\partial ^ { \\mu } \\phi$"
      ]
    },
    {
      "cell_type": "markdown",
      "metadata": {
        "id": "mRaFLGevpXVw",
        "colab_type": "text"
      },
      "source": [
        "$( \\Delta _ { 1 } ) _ { \\alpha } = 0 , \\quad ( \\Delta _ { \\alpha } P _ { \\alpha } ) = 0 , \\quad ( \\Delta _ { \\alpha } P _ { \\alpha } ) = 0 , \\quad ( \\Delta _ { \\alpha } P _ { \\alpha } ) = 0 $"
      ]
    }
  ]
}