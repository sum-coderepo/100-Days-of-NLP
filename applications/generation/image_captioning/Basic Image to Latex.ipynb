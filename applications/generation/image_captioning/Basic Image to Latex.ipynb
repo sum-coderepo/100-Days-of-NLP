{
  "nbformat": 4,
  "nbformat_minor": 0,
  "metadata": {
    "colab": {
      "name": "Basic Image to Latex.ipynb",
      "provenance": [],
      "collapsed_sections": [
        "9kjQrnZoCJew",
        "xOgJj5RMBhhZ",
        "TZxfyyWvBajI",
        "I7woqpKPByqH",
        "Cj3hxwl3B2Ts",
        "kS_0lorHB5uC",
        "lkcP4u_FB7hF",
        "pEb9uCUFB-19",
        "RH82yx4mCA3C",
        "O75NkR96CDpo"
      ],
      "authorship_tag": "ABX9TyMknggADHi3l37/X2z6vVmJ",
      "include_colab_link": true
    },
    "kernelspec": {
      "name": "python3",
      "display_name": "Python 3"
    },
    "accelerator": "GPU"
  },
  "cells": [
    {
      "cell_type": "markdown",
      "metadata": {
        "id": "view-in-github",
        "colab_type": "text"
      },
      "source": [
        "<a href=\"https://colab.research.google.com/github/graviraja/100-Days-of-NLP/blob/applications%2Fgeneration/applications/generation/image_captioning/Basic%20Image%20to%20Latex.ipynb\" target=\"_parent\"><img src=\"https://colab.research.google.com/assets/colab-badge.svg\" alt=\"Open In Colab\"/></a>"
      ]
    },
    {
      "cell_type": "markdown",
      "metadata": {
        "id": "9kjQrnZoCJew",
        "colab_type": "text"
      },
      "source": [
        "### IM2LATEX Dataset"
      ]
    },
    {
      "cell_type": "code",
      "metadata": {
        "id": "OSVquyk9COIO",
        "colab_type": "code",
        "colab": {}
      },
      "source": [
        "!mkdir data\n",
        "!cd data"
      ],
      "execution_count": 12,
      "outputs": []
    },
    {
      "cell_type": "code",
      "metadata": {
        "id": "Pf4JwEQQNKax",
        "colab_type": "code",
        "colab": {
          "base_uri": "https://localhost:8080/",
          "height": 941
        },
        "outputId": "121833be-c078-4997-f285-d274784a8d9a"
      },
      "source": [
        "!wget -P data http://lstm.seas.harvard.edu/latex/data/im2latex_validate_filter.lst\n",
        "!wget -P data http://lstm.seas.harvard.edu/latex/data/im2latex_train_filter.lst\n",
        "!wget -P data http://lstm.seas.harvard.edu/latex/data/im2latex_test_filter.lst\n",
        "!wget -P data http://lstm.seas.harvard.edu/latex/data/formula_images_processed.tar.gz\n",
        "!wget -P data http://lstm.seas.harvard.edu/latex/data/im2latex_formulas.norm.lst\n",
        "!tar -zxf data/formula_images_processed.tar.gz -C data/"
      ],
      "execution_count": 13,
      "outputs": [
        {
          "output_type": "stream",
          "text": [
            "--2020-07-25 16:38:25--  http://lstm.seas.harvard.edu/latex/data/im2latex_validate_filter.lst\n",
            "Resolving lstm.seas.harvard.edu (lstm.seas.harvard.edu)... 52.32.77.68\n",
            "Connecting to lstm.seas.harvard.edu (lstm.seas.harvard.edu)|52.32.77.68|:80... connected.\n",
            "HTTP request sent, awaiting response... 200 OK\n",
            "Length: 175153 (171K) [text/plain]\n",
            "Saving to: ‘data/im2latex_validate_filter.lst’\n",
            "\n",
            "\r          im2latex_   0%[                    ]       0  --.-KB/s               \r         im2latex_v  28%[====>               ]  49.01K   159KB/s               \rim2latex_validate_f 100%[===================>] 171.05K   371KB/s    in 0.5s    \n",
            "\n",
            "2020-07-25 16:38:26 (371 KB/s) - ‘data/im2latex_validate_filter.lst’ saved [175153/175153]\n",
            "\n",
            "--2020-07-25 16:38:31--  http://lstm.seas.harvard.edu/latex/data/im2latex_train_filter.lst\n",
            "Resolving lstm.seas.harvard.edu (lstm.seas.harvard.edu)... 52.32.77.68\n",
            "Connecting to lstm.seas.harvard.edu (lstm.seas.harvard.edu)|52.32.77.68|:80... connected.\n",
            "HTTP request sent, awaiting response... 200 OK\n",
            "Length: 1575352 (1.5M) [text/plain]\n",
            "Saving to: ‘data/im2latex_train_filter.lst’\n",
            "\n",
            "im2latex_train_filt 100%[===================>]   1.50M  1.18MB/s    in 1.3s    \n",
            "\n",
            "2020-07-25 16:38:32 (1.18 MB/s) - ‘data/im2latex_train_filter.lst’ saved [1575352/1575352]\n",
            "\n",
            "--2020-07-25 16:38:37--  http://lstm.seas.harvard.edu/latex/data/im2latex_test_filter.lst\n",
            "Resolving lstm.seas.harvard.edu (lstm.seas.harvard.edu)... 52.32.77.68\n",
            "Connecting to lstm.seas.harvard.edu (lstm.seas.harvard.edu)|52.32.77.68|:80... connected.\n",
            "HTTP request sent, awaiting response... 200 OK\n",
            "Length: 216674 (212K) [text/plain]\n",
            "Saving to: ‘data/im2latex_test_filter.lst’\n",
            "\n",
            "im2latex_test_filte 100%[===================>] 211.60K   331KB/s    in 0.6s    \n",
            "\n",
            "2020-07-25 16:38:38 (331 KB/s) - ‘data/im2latex_test_filter.lst’ saved [216674/216674]\n",
            "\n",
            "--2020-07-25 16:38:44--  http://lstm.seas.harvard.edu/latex/data/formula_images_processed.tar.gz\n",
            "Resolving lstm.seas.harvard.edu (lstm.seas.harvard.edu)... 52.32.77.68\n",
            "Connecting to lstm.seas.harvard.edu (lstm.seas.harvard.edu)|52.32.77.68|:80... connected.\n",
            "HTTP request sent, awaiting response... 200 OK\n",
            "Length: 616977530 (588M) [text/plain]\n",
            "Saving to: ‘data/formula_images_processed.tar.gz’\n",
            "\n",
            "formula_images_proc 100%[===================>] 588.40M  16.3MB/s    in 50s     \n",
            "\n",
            "2020-07-25 16:39:34 (11.7 MB/s) - ‘data/formula_images_processed.tar.gz’ saved [616977530/616977530]\n",
            "\n",
            "--2020-07-25 16:39:37--  http://lstm.seas.harvard.edu/latex/data/im2latex_formulas.norm.lst\n",
            "Resolving lstm.seas.harvard.edu (lstm.seas.harvard.edu)... 52.32.77.68\n",
            "Connecting to lstm.seas.harvard.edu (lstm.seas.harvard.edu)|52.32.77.68|:80... connected.\n",
            "HTTP request sent, awaiting response... 200 OK\n",
            "Length: 18115805 (17M) [text/plain]\n",
            "Saving to: ‘data/im2latex_formulas.norm.lst’\n",
            "\n",
            "im2latex_formulas.n 100%[===================>]  17.28M  6.56MB/s    in 2.6s    \n",
            "\n",
            "2020-07-25 16:39:40 (6.56 MB/s) - ‘data/im2latex_formulas.norm.lst’ saved [18115805/18115805]\n",
            "\n"
          ],
          "name": "stdout"
        }
      ]
    },
    {
      "cell_type": "code",
      "metadata": {
        "id": "a82ksyKZh_pj",
        "colab_type": "code",
        "colab": {
          "base_uri": "https://localhost:8080/",
          "height": 67
        },
        "outputId": "23f3e5bf-9a42-49fc-d6ce-1ba195ed6b99"
      },
      "source": [
        "!ls data"
      ],
      "execution_count": 14,
      "outputs": [
        {
          "output_type": "stream",
          "text": [
            "formula_images_processed\t im2latex_test_filter.lst\n",
            "formula_images_processed.tar.gz  im2latex_train_filter.lst\n",
            "im2latex_formulas.norm.lst\t im2latex_validate_filter.lst\n"
          ],
          "name": "stdout"
        }
      ]
    },
    {
      "cell_type": "code",
      "metadata": {
        "id": "5e3tHEqzNiaz",
        "colab_type": "code",
        "colab": {}
      },
      "source": [
        "data_path = \"data\""
      ],
      "execution_count": 15,
      "outputs": []
    },
    {
      "cell_type": "markdown",
      "metadata": {
        "id": "xOgJj5RMBhhZ",
        "colab_type": "text"
      },
      "source": [
        "### Imports"
      ]
    },
    {
      "cell_type": "code",
      "metadata": {
        "id": "YOy7BqxjBhRh",
        "colab_type": "code",
        "colab": {}
      },
      "source": [
        "import os\n",
        "import time\n",
        "import math\n",
        "import pickle\n",
        "import numpy as np\n",
        "from PIL import Image\n",
        "from collections import Counter\n",
        "\n",
        "import torch\n",
        "import torch.nn as nn\n",
        "import torch.optim as optim\n",
        "import torch.nn.functional as F\n",
        "from torch.utils import data\n",
        "\n",
        "from torchvision import transforms\n",
        "\n",
        "import matplotlib.pyplot as plt\n",
        "%matplotlib inline"
      ],
      "execution_count": 16,
      "outputs": []
    },
    {
      "cell_type": "code",
      "metadata": {
        "id": "NS4sxD2ZsMam",
        "colab_type": "code",
        "colab": {}
      },
      "source": [
        "device = torch.device('cuda' if torch.cuda.is_available() else 'cpu')"
      ],
      "execution_count": 17,
      "outputs": []
    },
    {
      "cell_type": "markdown",
      "metadata": {
        "id": "TZxfyyWvBajI",
        "colab_type": "text"
      },
      "source": [
        "### Data Exploration"
      ]
    },
    {
      "cell_type": "code",
      "metadata": {
        "id": "feXqTtt6o4GF",
        "colab_type": "code",
        "colab": {}
      },
      "source": [
        "# formuals file\n",
        "formulas_file = os.path.join(data_path, \"im2latex_formulas.norm.lst\")\n",
        "with open(formulas_file, 'r') as f:\n",
        "    formulas = [formula.split('\\n')[0] for formula in f.readlines()]"
      ],
      "execution_count": 18,
      "outputs": []
    },
    {
      "cell_type": "code",
      "metadata": {
        "id": "4poDd8E3k_fm",
        "colab_type": "code",
        "colab": {}
      },
      "source": [
        "train_formulas_file = os.path.join(data_path, \"im2latex_train_filter.lst\")\n",
        "with open(train_formulas_file, 'r') as f:\n",
        "    # img_name, formula_id= line.strip('\\n').split()\n",
        "    train_formulas = [line.strip('\\n').split() for line in f.readlines()]"
      ],
      "execution_count": 19,
      "outputs": []
    },
    {
      "cell_type": "code",
      "metadata": {
        "id": "hn2UPnDElFag",
        "colab_type": "code",
        "colab": {
          "base_uri": "https://localhost:8080/",
          "height": 34
        },
        "outputId": "9c449fad-5b81-4ea8-95cf-9490a5717931"
      },
      "source": [
        "len(train_formulas)"
      ],
      "execution_count": 20,
      "outputs": [
        {
          "output_type": "execute_result",
          "data": {
            "text/plain": [
              "75275"
            ]
          },
          "metadata": {
            "tags": []
          },
          "execution_count": 20
        }
      ]
    },
    {
      "cell_type": "code",
      "metadata": {
        "id": "xHnGd0WNokbv",
        "colab_type": "code",
        "colab": {
          "base_uri": "https://localhost:8080/",
          "height": 34
        },
        "outputId": "9a121488-8f4b-4c19-e5fd-97c58e43d84f"
      },
      "source": [
        "train_formulas[0]"
      ],
      "execution_count": 21,
      "outputs": [
        {
          "output_type": "execute_result",
          "data": {
            "text/plain": [
              "['66667cee5b.png', '2']"
            ]
          },
          "metadata": {
            "tags": []
          },
          "execution_count": 21
        }
      ]
    },
    {
      "cell_type": "code",
      "metadata": {
        "id": "ZR6-045MmLpe",
        "colab_type": "code",
        "colab": {
          "base_uri": "https://localhost:8080/",
          "height": 34
        },
        "outputId": "e2bd8054-d36a-488d-9b8e-d9897c20cbbb"
      },
      "source": [
        "temp = os.listdir(os.path.join(data_path, \"formula_images_processed\"))\n",
        "len(temp)"
      ],
      "execution_count": 22,
      "outputs": [
        {
          "output_type": "execute_result",
          "data": {
            "text/plain": [
              "103536"
            ]
          },
          "metadata": {
            "tags": []
          },
          "execution_count": 22
        }
      ]
    },
    {
      "cell_type": "code",
      "metadata": {
        "id": "ahroKVtmnFU4",
        "colab_type": "code",
        "colab": {
          "base_uri": "https://localhost:8080/",
          "height": 218
        },
        "outputId": "3341d391-a92d-4366-83a4-c5a05897d1ae"
      },
      "source": [
        "img_path = os.path.join(data_path, \"formula_images_processed\", train_formulas[0][0])\n",
        "img = Image.open(img_path)\n",
        "plt.imshow(np.asarray(img)), formulas[int(train_formulas[0][1])]"
      ],
      "execution_count": 23,
      "outputs": [
        {
          "output_type": "execute_result",
          "data": {
            "text/plain": [
              "(<matplotlib.image.AxesImage at 0x7f70ac7a5978>,\n",
              " '\\\\widetilde \\\\gamma _ { \\\\mathrm { h o p f } } \\\\simeq \\\\sum _ { n > 0 } \\\\widetilde { G } _ { n } { \\\\frac { ( - a ) ^ { n } } { 2 ^ { 2 n - 1 } } }')"
            ]
          },
          "metadata": {
            "tags": []
          },
          "execution_count": 23
        },
        {
          "output_type": "display_data",
          "data": {
            "image/png": "[encoded data removed]",
            "text/plain": [
              "<Figure size 432x288 with 1 Axes>"
            ]
          },
          "metadata": {
            "tags": [],
            "needs_background": "light"
          }
        }
      ]
    },
    {
      "cell_type": "code",
      "metadata": {
        "id": "px2RK1AElYrj",
        "colab_type": "code",
        "colab": {
          "base_uri": "https://localhost:8080/",
          "height": 218
        },
        "outputId": "526b9568-fdf3-4030-aa7a-51159b79ac0e"
      },
      "source": [
        "img_path = os.path.join(data_path, \"formula_images_processed\", train_formulas[10][0])\n",
        "img = Image.open(img_path)\n",
        "plt.imshow(np.asarray(img)), formulas[int(train_formulas[10][1])]"
      ],
      "execution_count": 25,
      "outputs": [
        {
          "output_type": "execute_result",
          "data": {
            "text/plain": [
              "(<matplotlib.image.AxesImage at 0x7f70ac24c240>,\n",
              " 'e x p \\\\left( - \\\\frac { \\\\partial } { \\\\partial \\\\alpha _ { j } } \\\\theta ^ { j k } \\\\frac { \\\\partial } { \\\\partial \\\\alpha _ { k } } \\\\right)')"
            ]
          },
          "metadata": {
            "tags": []
          },
          "execution_count": 25
        },
        {
          "output_type": "display_data",
          "data": {
            "image/png": "[encoded data removed]",
            "text/plain": [
              "<Figure size 432x288 with 1 Axes>"
            ]
          },
          "metadata": {
            "tags": [],
            "needs_background": "light"
          }
        }
      ]
    },
    {
      "cell_type": "markdown",
      "metadata": {
        "id": "2bKECJyOrdEE",
        "colab_type": "text"
      },
      "source": [
        "### Pre-processing"
      ]
    },
    {
      "cell_type": "markdown",
      "metadata": {
        "id": "8a4RZaMnrm8A",
        "colab_type": "text"
      },
      "source": [
        "Since the dataset is huge, I will be taking only a subset of it. You can take the complete dataset based on the available RAM"
      ]
    },
    {
      "cell_type": "code",
      "metadata": {
        "id": "H9tX-lgOyqoS",
        "colab_type": "code",
        "colab": {}
      },
      "source": [
        "def resize_image(image, size):\n",
        "    return image.resize(size, Image.ANTIALIAS)"
      ],
      "execution_count": 26,
      "outputs": []
    },
    {
      "cell_type": "code",
      "metadata": {
        "id": "WCROWVk6BVnZ",
        "colab_type": "code",
        "colab": {}
      },
      "source": [
        "def preprocess(data_dir, split, transform):\n",
        "    assert split in [\"train\", \"validate\", \"test\"]\n",
        "    print(f\"Processing {split} data...\")\n",
        "\n",
        "    if split == \"train\":\n",
        "        max_samples = 70000\n",
        "    elif split == \"validate\":\n",
        "        max_samples = 1000\n",
        "    elif split == \"test\":\n",
        "        max_samples = 1000\n",
        "    \n",
        "    # images directory\n",
        "    images_dir = os.path.join(data_dir, \"formula_images_processed\")\n",
        "    \n",
        "    # formuals file\n",
        "    formulas_file = os.path.join(data_dir, \"im2latex_formulas.norm.lst\")\n",
        "    with open(formulas_file, 'r') as f:\n",
        "        formulas = [formula.split('\\n')[0] for formula in f.readlines()]\n",
        "    \n",
        "    split_file = os.path.join(data_dir, f\"im2latex_{split}_filter.lst\")\n",
        "    pairs = []\n",
        "    count = 0\n",
        "    size = [128, 32]\n",
        "    with open(split_file, 'r') as f:\n",
        "        for line in f:\n",
        "            img_name, formula_id = line.strip('\\n').split()\n",
        "            img_path = os.path.join(images_dir, img_name)\n",
        "            img = Image.open(img_path)\n",
        "            img = resize_image(img, size)\n",
        "            img_tensor = transform(img)\n",
        "            formula = formulas[int(formula_id)]\n",
        "            pair = (img_tensor, formula)\n",
        "            pairs.append(pair)\n",
        "            count += 1\n",
        "            if count == max_samples:\n",
        "                break\n",
        "    \n",
        "    pairs.sort(key=img_size)\n",
        "    # save the formulas used in training for building vocabulary\n",
        "    if split == \"train\":\n",
        "        sampled_formulas = [form for (img, form) in pairs]\n",
        "        form_file = os.path.join(data_dir, f\"{split}_sampled_formula.pkl\")\n",
        "        print(\"saving sampled formulas...\")\n",
        "        with open(form_file, 'wb') as f:\n",
        "            pickle.dump(sampled_formulas, f)\n",
        "\n",
        "    out_file = os.path.join(data_dir, f\"{split}.pkl\")\n",
        "    torch.save(pairs, out_file)\n",
        "    print(f\"Completed processing {split} data\")"
      ],
      "execution_count": 27,
      "outputs": []
    },
    {
      "cell_type": "code",
      "metadata": {
        "id": "DwLnC7T2MeVW",
        "colab_type": "code",
        "colab": {}
      },
      "source": [
        "def img_size(pair):\n",
        "    img, formula = pair\n",
        "    return tuple(img.size())"
      ],
      "execution_count": 28,
      "outputs": []
    },
    {
      "cell_type": "code",
      "metadata": {
        "id": "bqrAXBYeMoZV",
        "colab_type": "code",
        "colab": {
          "base_uri": "https://localhost:8080/",
          "height": 168
        },
        "outputId": "7c1e9534-e2d6-4179-fc66-a336585a45c3"
      },
      "source": [
        "%%time\n",
        "transform = transforms.ToTensor()\n",
        "\n",
        "preprocess(data_path, \"train\", transform)\n",
        "preprocess(data_path, \"validate\", transform)\n",
        "preprocess(data_path, \"test\", transform)"
      ],
      "execution_count": 29,
      "outputs": [
        {
          "output_type": "stream",
          "text": [
            "Processing train data...\n",
            "saving sampled formulas...\n",
            "Completed processing train data\n",
            "Processing validate data...\n",
            "Completed processing validate data\n",
            "Processing test data...\n",
            "Completed processing test data\n",
            "CPU times: user 1min 10s, sys: 7.24 s, total: 1min 17s\n",
            "Wall time: 2min 15s\n"
          ],
          "name": "stdout"
        }
      ]
    },
    {
      "cell_type": "markdown",
      "metadata": {
        "id": "I7woqpKPByqH",
        "colab_type": "text"
      },
      "source": [
        "### Vocabulary"
      ]
    },
    {
      "cell_type": "code",
      "metadata": {
        "id": "w8jx93GmDnNB",
        "colab_type": "code",
        "colab": {}
      },
      "source": [
        "PAD_TOKEN = 0\n",
        "START_TOKEN = 1\n",
        "END_TOKEN = 2\n",
        "UNK_TOKEN = 3"
      ],
      "execution_count": 30,
      "outputs": []
    },
    {
      "cell_type": "code",
      "metadata": {
        "id": "VGt5GmYRByLg",
        "colab_type": "code",
        "colab": {}
      },
      "source": [
        "class Vocab(object):\n",
        "    def __init__(self):\n",
        "        self.sign2id = {\n",
        "            \"<s>\": START_TOKEN,\n",
        "            \"</s>\": END_TOKEN,\n",
        "            \"<pad>\": PAD_TOKEN,\n",
        "            \"<unk>\": UNK_TOKEN\n",
        "        }\n",
        "\n",
        "        self.id2sign = dict((id, sign) for sign, id in self.sign2id.items())\n",
        "        self.length = 4\n",
        "    \n",
        "    def add_sign(self, sign):\n",
        "        if sign not in self.sign2id:\n",
        "            self.sign2id[sign] = self.length\n",
        "            self.id2sign[self.length] = sign\n",
        "            self.length += 1\n",
        "    \n",
        "    def __len__(self):\n",
        "        return self.length\n",
        "    \n",
        "    def __call__(self, sign):\n",
        "        if not sign in self.sign2id:\n",
        "            return self.sign2id['<unk>']\n",
        "        return self.sign2id[sign]"
      ],
      "execution_count": 31,
      "outputs": []
    },
    {
      "cell_type": "code",
      "metadata": {
        "id": "LfMRLXA6EKbr",
        "colab_type": "code",
        "colab": {}
      },
      "source": [
        "def build_vocab(data_dir, min_count=10):\n",
        "    vocab = Vocab()\n",
        "    counter = Counter()\n",
        "\n",
        "    with open(os.path.join(data_dir, 'train_sampled_formula.pkl'), 'rb') as f:\n",
        "        formulas = pickle.load(f)\n",
        "\n",
        "    for formula in formulas:\n",
        "        counter.update(formula.split())\n",
        "\n",
        "    for word, count in counter.most_common():\n",
        "        if count >= min_count:\n",
        "            vocab.add_sign(word)\n",
        "    \n",
        "    vocab_file = os.path.join(data_dir, 'vocab.pkl')\n",
        "    print(\"saving vocabulary...\")\n",
        "    with open(vocab_file, 'wb') as f:\n",
        "        pickle.dump(vocab, f)"
      ],
      "execution_count": 32,
      "outputs": []
    },
    {
      "cell_type": "code",
      "metadata": {
        "id": "KzHVv5anGWLS",
        "colab_type": "code",
        "colab": {}
      },
      "source": [
        "def load_vocab(data_dir):\n",
        "    with open(os.path.join(data_dir, 'vocab.pkl'), 'rb') as f:\n",
        "        vocab = pickle.load(f)\n",
        "    return vocab"
      ],
      "execution_count": 33,
      "outputs": []
    },
    {
      "cell_type": "code",
      "metadata": {
        "id": "KivstX-MuVBg",
        "colab_type": "code",
        "colab": {
          "base_uri": "https://localhost:8080/",
          "height": 67
        },
        "outputId": "b4ca963c-42db-44b5-c309-462462afb540"
      },
      "source": [
        "%%time\n",
        "build_vocab(data_path)"
      ],
      "execution_count": 34,
      "outputs": [
        {
          "output_type": "stream",
          "text": [
            "saving vocabulary...\n",
            "CPU times: user 605 ms, sys: 3.45 ms, total: 609 ms\n",
            "Wall time: 883 ms\n"
          ],
          "name": "stdout"
        }
      ]
    },
    {
      "cell_type": "code",
      "metadata": {
        "id": "w60P9l44vcp2",
        "colab_type": "code",
        "colab": {}
      },
      "source": [
        "vocab = load_vocab(data_path)"
      ],
      "execution_count": 35,
      "outputs": []
    },
    {
      "cell_type": "markdown",
      "metadata": {
        "id": "Cj3hxwl3B2Ts",
        "colab_type": "text"
      },
      "source": [
        "### Dataset"
      ]
    },
    {
      "cell_type": "code",
      "metadata": {
        "id": "bQ0lCiFTB3W8",
        "colab_type": "code",
        "colab": {}
      },
      "source": [
        "class Im2LatexDataset(data.Dataset):\n",
        "    def __init__(self, data_dir, split):\n",
        "        assert split in {'train', 'validate', 'test'}\n",
        "        self.data_dir = data_dir\n",
        "        self.split = split\n",
        "        self.data = self._load_data()\n",
        "    \n",
        "    def _load_data(self):\n",
        "        pairs = torch.load(os.path.join(self.data_dir, f\"{self.split}.pkl\"))\n",
        "        for i, (img, formula) in enumerate(pairs):\n",
        "            pair = (img, \" \".join(formula.split()))\n",
        "            pairs[i] = pair\n",
        "        return pairs\n",
        "\n",
        "    def __len__(self):\n",
        "        return len(self.data)\n",
        "    \n",
        "    def __getitem__(self, item):\n",
        "        img, formula = self.data[item]\n",
        "        formula = formula.split()\n",
        "        tokens = []\n",
        "        tokens.append(vocab('<s>'))\n",
        "        tokens.extend([vocab(sign) for sign in formula])\n",
        "        tokens.append(vocab('</s>'))\n",
        "\n",
        "        formula = torch.Tensor(tokens)\n",
        "        return img, formula"
      ],
      "execution_count": 36,
      "outputs": []
    },
    {
      "cell_type": "code",
      "metadata": {
        "id": "4GnuT50WIIQ-",
        "colab_type": "code",
        "colab": {
          "base_uri": "https://localhost:8080/",
          "height": 50
        },
        "outputId": "5c623197-4b57-4389-cf47-29553de96cfb"
      },
      "source": [
        "%%time\n",
        "train_dataset = Im2LatexDataset(data_path, 'train')\n",
        "valid_dataset = Im2LatexDataset(data_path, 'validate')\n",
        "test_dataset = Im2LatexDataset(data_path, 'test')"
      ],
      "execution_count": 37,
      "outputs": [
        {
          "output_type": "stream",
          "text": [
            "CPU times: user 2.32 s, sys: 1.89 s, total: 4.21 s\n",
            "Wall time: 29.1 s\n"
          ],
          "name": "stdout"
        }
      ]
    },
    {
      "cell_type": "markdown",
      "metadata": {
        "id": "h9DVmMzpB366",
        "colab_type": "text"
      },
      "source": [
        "### DataLoader"
      ]
    },
    {
      "cell_type": "code",
      "metadata": {
        "id": "NcAnW-aJ9Y-G",
        "colab_type": "code",
        "colab": {}
      },
      "source": [
        "torch.cuda.empty_cache()"
      ],
      "execution_count": 38,
      "outputs": []
    },
    {
      "cell_type": "code",
      "metadata": {
        "id": "f-lagoP_B5As",
        "colab_type": "code",
        "colab": {}
      },
      "source": [
        "def collate_fn(data):\n",
        "    data.sort(key=lambda x: len(x[1]), reverse=True)\n",
        "    images, formulas = zip(*data)\n",
        "\n",
        "    # merge images\n",
        "    images = torch.stack(images, 0)\n",
        "\n",
        "    lengths = [len(form) for form in formulas]\n",
        "    targets = torch.zeros(len(formulas), max(lengths)).long()\n",
        "    for i, form in enumerate(formulas):\n",
        "        end = lengths[i]\n",
        "        targets[i, :end] = form[:end]\n",
        "    \n",
        "    return images, targets, lengths"
      ],
      "execution_count": 39,
      "outputs": []
    },
    {
      "cell_type": "code",
      "metadata": {
        "id": "2wf1XIZmvrnj",
        "colab_type": "code",
        "colab": {}
      },
      "source": [
        "batch_size = 32"
      ],
      "execution_count": 40,
      "outputs": []
    },
    {
      "cell_type": "code",
      "metadata": {
        "id": "WbRXgxAWYfdJ",
        "colab_type": "code",
        "colab": {}
      },
      "source": [
        "train_data_loader = data.DataLoader(train_dataset, batch_size, shuffle=True, collate_fn=collate_fn)\n",
        "valid_data_loader = data.DataLoader(valid_dataset, batch_size, shuffle=False, collate_fn=collate_fn)\n",
        "test_data_loader = data.DataLoader(test_dataset, batch_size, shuffle=False, collate_fn=collate_fn)"
      ],
      "execution_count": 41,
      "outputs": []
    },
    {
      "cell_type": "code",
      "metadata": {
        "id": "pWG6CqwLZU9V",
        "colab_type": "code",
        "colab": {
          "base_uri": "https://localhost:8080/",
          "height": 34
        },
        "outputId": "1d30c9cd-9afa-422d-d5be-6d0c33c59f1b"
      },
      "source": [
        "# sample check\n",
        "sample = next(iter(train_data_loader))\n",
        "sample[0].shape, sample[1].shape, len(sample[2])"
      ],
      "execution_count": 42,
      "outputs": [
        {
          "output_type": "execute_result",
          "data": {
            "text/plain": [
              "(torch.Size([32, 3, 32, 128]), torch.Size([32, 138]), 32)"
            ]
          },
          "metadata": {
            "tags": []
          },
          "execution_count": 42
        }
      ]
    },
    {
      "cell_type": "markdown",
      "metadata": {
        "id": "kS_0lorHB5uC",
        "colab_type": "text"
      },
      "source": [
        "### Encoder"
      ]
    },
    {
      "cell_type": "code",
      "metadata": {
        "id": "KPRCLgPCZqy_",
        "colab_type": "code",
        "colab": {}
      },
      "source": [
        "class Encoder(nn.Module):\n",
        "    def __init__(self, enc_out_dim=300):\n",
        "        super().__init__()\n",
        "\n",
        "        self.cnn = nn.Sequential(\n",
        "            nn.Conv2d(3, 64, 3, 1, 1),\n",
        "            nn.ReLU(),\n",
        "            nn.MaxPool2d(2, 2, 1),\n",
        "\n",
        "            nn.Conv2d(64, 128, 3, 1, 1),\n",
        "            nn.ReLU(),\n",
        "            nn.MaxPool2d(2, 2, 1),\n",
        "\n",
        "            nn.Conv2d(128, 256, 3, 1, 1),\n",
        "            nn.ReLU(),\n",
        "            nn.Conv2d(256, 256, 3, 1, 1),\n",
        "            nn.ReLU(),\n",
        "            nn.MaxPool2d((2, 1), (2, 1), 0),\n",
        "\n",
        "            nn.Conv2d(256, enc_out_dim, 3, 1, 0),\n",
        "            nn.ReLU()\n",
        "        )\n",
        "    \n",
        "    def forward(self, imgs):\n",
        "        features = self.cnn(imgs)\n",
        "        # features => [batch, 300, H, W]\n",
        "\n",
        "        features = features.permute(0, 2, 3, 1)\n",
        "        batch, H, W, _ = features.shape\n",
        "        encoded_imgs = features.contiguous().view(batch, H*W, -1)\n",
        "        return encoded_imgs"
      ],
      "execution_count": 43,
      "outputs": []
    },
    {
      "cell_type": "markdown",
      "metadata": {
        "id": "fvqmfbEI1FA0",
        "colab_type": "text"
      },
      "source": [
        "### Decoder"
      ]
    },
    {
      "cell_type": "code",
      "metadata": {
        "id": "FojRXiFJcCEj",
        "colab_type": "code",
        "colab": {}
      },
      "source": [
        "class Decoder(nn.Module):\n",
        "    def __init__(self, vocab_size, emb_dim, decoder_dim, num_layers, encoder_dim=300, dropout=0.3):\n",
        "        super().__init__()\n",
        "\n",
        "        self.vocab_size = vocab_size\n",
        "        self.num_layers = num_layers\n",
        "        self.embedding = nn.Embedding(vocab_size, emb_dim, padding_idx=PAD_TOKEN)\n",
        "\n",
        "        self.lstm = nn.LSTM(\n",
        "            emb_dim,\n",
        "            decoder_dim,\n",
        "            num_layers=num_layers,\n",
        "            batch_first=True,\n",
        "            dropout=dropout\n",
        "        )\n",
        "        self.init_h = nn.Linear(encoder_dim, decoder_dim)\n",
        "        self.init_c = nn.Linear(encoder_dim, decoder_dim)\n",
        "\n",
        "        self.out = nn.Linear(decoder_dim, vocab_size)\n",
        "        self.dropout = nn.Dropout(dropout)\n",
        "    \n",
        "    def forward(self, features, formulas, lengths):\n",
        "        mean_enc = features.mean(dim=1)\n",
        "        # mean_enc => [batch_size, 300]\n",
        "        embeddings = self.embedding(formulas)\n",
        "        # embeddings => [batch_size, max_len, 300]\n",
        "        embeddings = torch.cat((mean_enc.unsqueeze(1), embeddings), dim=1)\n",
        "        # embeddings => [batch_size, max_len + 1, 300]\n",
        "\n",
        "        hidden = self.init_h(mean_enc).unsqueeze(0).repeat(self.num_layers, 1, 1)\n",
        "        cell = self.init_c(mean_enc).unsqueeze(0).repeat(self.num_layers, 1, 1)\n",
        "\n",
        "        packed = nn.utils.rnn.pack_padded_sequence(embeddings, lengths, batch_first=True)\n",
        "        hiddens, _ = self.lstm(packed, (hidden, cell))\n",
        "        outputs = self.out(hiddens[0])\n",
        "        return outputs\n",
        "    \n",
        "    def sample(self, features, max_length=100):\n",
        "        sampled_ids = []\n",
        "        mean_enc = torch.mean(features, dim=1)\n",
        "        img_features = torch.mean(features, dim=1).unsqueeze(1)\n",
        "        start_token = torch.tensor([[vocab('<s>')]]).to(device)\n",
        "        emb = self.embedding(start_token)\n",
        "        inputs = torch.cat((img_features, emb), dim=1)\n",
        "\n",
        "        hidden = self.init_h(mean_enc).unsqueeze(0).repeat(self.num_layers, 1, 1)\n",
        "        cell = self.init_c(mean_enc).unsqueeze(0).repeat(self.num_layers, 1, 1)\n",
        "        states = (hidden, cell)\n",
        "        \n",
        "        # inputs => [batch_size, 2, 300]\n",
        "        for i in range(max_length):\n",
        "            hidden, states = self.lstm(inputs, states)\n",
        "            outputs = self.out(hidden[:, -1, :])\n",
        "            _, predicted = outputs.max(1)\n",
        "            sampled_ids.append(predicted)\n",
        "            inputs = self.embedding(predicted)\n",
        "            inputs = inputs.unsqueeze(1)\n",
        "            inputs = torch.cat((img_features, inputs), dim=1)\n",
        "        sampled_ids = torch.stack(sampled_ids, 1)\n",
        "        return sampled_ids"
      ],
      "execution_count": 122,
      "outputs": []
    },
    {
      "cell_type": "markdown",
      "metadata": {
        "id": "Iy1TgsEy1jl0",
        "colab_type": "text"
      },
      "source": [
        "### Model"
      ]
    },
    {
      "cell_type": "code",
      "metadata": {
        "id": "pOUHbshdz8dX",
        "colab_type": "code",
        "colab": {}
      },
      "source": [
        "enc_out_dim = 300\n",
        "embed_size = 300\n",
        "dec_hid_size = 512\n",
        "num_layers = 2\n",
        "dropout = 0.3"
      ],
      "execution_count": 60,
      "outputs": []
    },
    {
      "cell_type": "code",
      "metadata": {
        "id": "2dUenVNZ0SFj",
        "colab_type": "code",
        "colab": {}
      },
      "source": [
        "encoder = Encoder(enc_out_dim).to(device)\n",
        "decoder = Decoder(\n",
        "    len(vocab),\n",
        "    embed_size,\n",
        "    dec_hid_size,\n",
        "    num_layers,\n",
        "    enc_out_dim,\n",
        "    dropout).to(device)"
      ],
      "execution_count": 61,
      "outputs": []
    },
    {
      "cell_type": "markdown",
      "metadata": {
        "id": "lkcP4u_FB7hF",
        "colab_type": "text"
      },
      "source": [
        "### Optimizer & Loss"
      ]
    },
    {
      "cell_type": "code",
      "metadata": {
        "id": "Y3HcR5RvB9k0",
        "colab_type": "code",
        "colab": {}
      },
      "source": [
        "params = list(decoder.parameters()) + list(encoder.parameters())\n",
        "optimizer = optim.Adam(params, lr=1e-3)\n",
        "criterion = nn.CrossEntropyLoss()"
      ],
      "execution_count": 62,
      "outputs": []
    },
    {
      "cell_type": "markdown",
      "metadata": {
        "id": "pEb9uCUFB-19",
        "colab_type": "text"
      },
      "source": [
        "### Training Method"
      ]
    },
    {
      "cell_type": "code",
      "metadata": {
        "id": "LPkI2PkvCAHh",
        "colab_type": "code",
        "colab": {}
      },
      "source": [
        "def train(encoder, decoder, data_loader):\n",
        "    encoder.train()\n",
        "    decoder.train()\n",
        "    epoch_loss = 0\n",
        "    total_step = len(data_loader)\n",
        "\n",
        "    for i, (images, formulas, lengths) in enumerate(data_loader):\n",
        "        images = images.to(device)\n",
        "        formulas = formulas.to(device)\n",
        "\n",
        "        targets = nn.utils.rnn.pack_padded_sequence(formulas, lengths, batch_first=True)[0]\n",
        "\n",
        "        features = encoder(images)\n",
        "        outputs = decoder(features, formulas, lengths)\n",
        "        loss = criterion(outputs, targets)\n",
        "\n",
        "        decoder.zero_grad()\n",
        "        encoder.zero_grad()\n",
        "        loss.backward()\n",
        "        optimizer.step()\n",
        "\n",
        "        epoch_loss += loss.item()\n",
        "\n",
        "        # Print log info\n",
        "        if i % 200 == 0:\n",
        "            print(f'Step [{i}/{total_step}], Loss: {loss.item():.4f}, Perplexity: {np.exp(loss.item()):5.4f}')\n",
        "    return epoch_loss / total_step    "
      ],
      "execution_count": 63,
      "outputs": []
    },
    {
      "cell_type": "markdown",
      "metadata": {
        "id": "RH82yx4mCA3C",
        "colab_type": "text"
      },
      "source": [
        "### Evaluation Method"
      ]
    },
    {
      "cell_type": "code",
      "metadata": {
        "id": "TRRY1sEKCC-s",
        "colab_type": "code",
        "colab": {}
      },
      "source": [
        "def evaluate(encoder, decoder, data_loader):\n",
        "    encoder.eval()\n",
        "    decoder.eval()\n",
        "    epoch_loss = 0\n",
        "    total_step = len(data_loader)\n",
        "\n",
        "    with torch.no_grad():\n",
        "        for i, (images, formulas, lengths) in enumerate(data_loader):\n",
        "            images = images.to(device)\n",
        "            formulas = formulas.to(device)\n",
        "\n",
        "            targets = nn.utils.rnn.pack_padded_sequence(formulas, lengths, batch_first=True)[0]\n",
        "\n",
        "            features = encoder(images)\n",
        "            outputs = decoder(features, formulas, lengths)\n",
        "            loss = criterion(outputs, targets)\n",
        "\n",
        "            epoch_loss += loss.item()\n",
        "\n",
        "            # Print log info\n",
        "            if i % 50 == 0:\n",
        "                print(f'Val Step [{i}/{total_step}], Loss: {loss.item():.4f}, Perplexity: {np.exp(loss.item()):5.4f}')\n",
        "            \n",
        "    return epoch_loss / total_step"
      ],
      "execution_count": 64,
      "outputs": []
    },
    {
      "cell_type": "markdown",
      "metadata": {
        "id": "O75NkR96CDpo",
        "colab_type": "text"
      },
      "source": [
        "### Training"
      ]
    },
    {
      "cell_type": "code",
      "metadata": {
        "id": "U0ZJrA5kw1O-",
        "colab_type": "code",
        "colab": {}
      },
      "source": [
        "def epoch_time(start_time, end_time):\n",
        "    elapsed_time = end_time - start_time\n",
        "    elapsed_mins = int(elapsed_time / 60)\n",
        "    elapsed_secs = elapsed_time - (elapsed_mins*60)\n",
        "    return elapsed_mins, elapsed_secs"
      ],
      "execution_count": 65,
      "outputs": []
    },
    {
      "cell_type": "code",
      "metadata": {
        "id": "_pM4nRoyCEir",
        "colab_type": "code",
        "colab": {}
      },
      "source": [
        "num_epochs = 10"
      ],
      "execution_count": 66,
      "outputs": []
    },
    {
      "cell_type": "code",
      "metadata": {
        "id": "Hq9kyjFdtRa0",
        "colab_type": "code",
        "colab": {
          "base_uri": "https://localhost:8080/",
          "height": 1000
        },
        "outputId": "aa086007-a87a-411c-f9cb-fdfcab2a1fcc"
      },
      "source": [
        "best_val_loss = float('inf')\n",
        "for epoch in range(num_epochs):\n",
        "\n",
        "    start_time = time.time()\n",
        "    train_loss = train(encoder, decoder, train_data_loader)\n",
        "    val_loss = evaluate(encoder, decoder, valid_data_loader)\n",
        "    end_time = time.time()\n",
        "\n",
        "    epoch_mins, epoch_secs = epoch_time(start_time, end_time)\n",
        "\n",
        "    if val_loss <  best_val_loss:\n",
        "        best_val_loss = val_loss\n",
        "        torch.save(decoder.state_dict(), 'decoder.ckpt')\n",
        "        torch.save(encoder.state_dict(), 'encoder.ckpt')\n",
        "\n",
        "    print(f\"Epoch: {epoch+1} | Time: {epoch_mins}m {epoch_secs}s\")\n",
        "    print(f\"\\tTrain Loss: {train_loss:.4f}, Train PPL: {np.exp(train_loss):5.4f}\")\n",
        "    print(f\"\\tVal Loss: {val_loss:.4f}, Val PPL: {np.exp(val_loss):5.4f}\")\n"
      ],
      "execution_count": 67,
      "outputs": [
        {
          "output_type": "stream",
          "text": [
            "Step [0/2188], Loss: 5.9597, Perplexity: 387.4786\n",
            "Step [200/2188], Loss: 2.4485, Perplexity: 11.5715\n",
            "Step [400/2188], Loss: 2.3190, Perplexity: 10.1652\n",
            "Step [600/2188], Loss: 2.3822, Perplexity: 10.8287\n",
            "Step [800/2188], Loss: 2.3027, Perplexity: 10.0012\n",
            "Step [1000/2188], Loss: 2.1097, Perplexity: 8.2455\n",
            "Step [1200/2188], Loss: 1.9567, Perplexity: 7.0759\n",
            "Step [1400/2188], Loss: 1.9379, Perplexity: 6.9442\n",
            "Step [1600/2188], Loss: 1.9064, Perplexity: 6.7285\n",
            "Step [1800/2188], Loss: 1.8547, Perplexity: 6.3899\n",
            "Step [2000/2188], Loss: 1.6768, Perplexity: 5.3485\n",
            "Val Step [0/32], Loss: 1.7122, Perplexity: 5.5413\n",
            "Epoch: 1 | Time: 5m 309.49311232566833s\n",
            "\tTrain Loss: 2.1275, Train PPL: 8.3935\n",
            "\tVal Loss: 1.8199, Val PPL: 6.1714\n",
            "Step [0/2188], Loss: 1.7796, Perplexity: 5.9273\n",
            "Step [200/2188], Loss: 1.8831, Perplexity: 6.5739\n",
            "Step [400/2188], Loss: 1.8705, Perplexity: 6.4915\n",
            "Step [600/2188], Loss: 1.8509, Perplexity: 6.3657\n",
            "Step [800/2188], Loss: 1.7905, Perplexity: 5.9923\n",
            "Step [1000/2188], Loss: 1.7036, Perplexity: 5.4939\n",
            "Step [1200/2188], Loss: 1.7842, Perplexity: 5.9548\n",
            "Step [1400/2188], Loss: 1.7190, Perplexity: 5.5789\n",
            "Step [1600/2188], Loss: 1.8437, Perplexity: 6.3198\n",
            "Step [1800/2188], Loss: 1.7479, Perplexity: 5.7425\n",
            "Step [2000/2188], Loss: 1.7365, Perplexity: 5.6774\n",
            "Val Step [0/32], Loss: 1.5410, Perplexity: 4.6691\n",
            "Epoch: 2 | Time: 5m 309.76177525520325s\n",
            "\tTrain Loss: 1.7492, Train PPL: 5.7500\n",
            "\tVal Loss: 1.6393, Val PPL: 5.1516\n",
            "Step [0/2188], Loss: 1.7332, Perplexity: 5.6586\n",
            "Step [200/2188], Loss: 1.5360, Perplexity: 4.6459\n",
            "Step [400/2188], Loss: 1.5278, Perplexity: 4.6080\n",
            "Step [600/2188], Loss: 1.6330, Perplexity: 5.1192\n",
            "Step [800/2188], Loss: 1.4455, Perplexity: 4.2438\n",
            "Step [1000/2188], Loss: 1.6490, Perplexity: 5.2020\n",
            "Step [1200/2188], Loss: 1.6328, Perplexity: 5.1183\n",
            "Step [1400/2188], Loss: 1.6793, Perplexity: 5.3618\n",
            "Step [1600/2188], Loss: 1.4615, Perplexity: 4.3125\n",
            "Step [1800/2188], Loss: 1.7856, Perplexity: 5.9630\n",
            "Step [2000/2188], Loss: 1.5243, Perplexity: 4.5918\n",
            "Val Step [0/32], Loss: 1.4476, Perplexity: 4.2529\n",
            "Epoch: 3 | Time: 5m 309.36519265174866s\n",
            "\tTrain Loss: 1.5920, Train PPL: 4.9137\n",
            "\tVal Loss: 1.5302, Val PPL: 4.6189\n",
            "Step [0/2188], Loss: 1.6088, Perplexity: 4.9969\n",
            "Step [200/2188], Loss: 1.5132, Perplexity: 4.5411\n",
            "Step [400/2188], Loss: 1.5282, Perplexity: 4.6100\n",
            "Step [600/2188], Loss: 1.4321, Perplexity: 4.1876\n",
            "Step [800/2188], Loss: 1.3703, Perplexity: 3.9363\n",
            "Step [1000/2188], Loss: 1.6306, Perplexity: 5.1069\n",
            "Step [1200/2188], Loss: 1.5513, Perplexity: 4.7174\n",
            "Step [1400/2188], Loss: 1.4472, Perplexity: 4.2511\n",
            "Step [1600/2188], Loss: 1.3438, Perplexity: 3.8335\n",
            "Step [1800/2188], Loss: 1.4684, Perplexity: 4.3421\n",
            "Step [2000/2188], Loss: 1.5022, Perplexity: 4.4914\n",
            "Val Step [0/32], Loss: 1.4061, Perplexity: 4.0802\n",
            "Epoch: 4 | Time: 5m 309.6024775505066s\n",
            "\tTrain Loss: 1.4843, Train PPL: 4.4118\n",
            "\tVal Loss: 1.4599, Val PPL: 4.3054\n",
            "Step [0/2188], Loss: 1.4835, Perplexity: 4.4082\n",
            "Step [200/2188], Loss: 1.2942, Perplexity: 3.6479\n",
            "Step [400/2188], Loss: 1.4033, Perplexity: 4.0688\n",
            "Step [600/2188], Loss: 1.4301, Perplexity: 4.1790\n",
            "Step [800/2188], Loss: 1.4262, Perplexity: 4.1627\n",
            "Step [1000/2188], Loss: 1.4324, Perplexity: 4.1889\n",
            "Step [1200/2188], Loss: 1.3659, Perplexity: 3.9191\n",
            "Step [1400/2188], Loss: 1.3345, Perplexity: 3.7981\n",
            "Step [1600/2188], Loss: 1.4720, Perplexity: 4.3581\n",
            "Step [1800/2188], Loss: 1.3902, Perplexity: 4.0157\n",
            "Step [2000/2188], Loss: 1.3258, Perplexity: 3.7652\n",
            "Val Step [0/32], Loss: 1.3560, Perplexity: 3.8806\n",
            "Epoch: 5 | Time: 5m 309.95268154144287s\n",
            "\tTrain Loss: 1.4028, Train PPL: 4.0665\n",
            "\tVal Loss: 1.3996, Val PPL: 4.0538\n",
            "Step [0/2188], Loss: 1.3497, Perplexity: 3.8564\n",
            "Step [200/2188], Loss: 1.2751, Perplexity: 3.5792\n",
            "Step [400/2188], Loss: 1.4240, Perplexity: 4.1538\n",
            "Step [600/2188], Loss: 1.3430, Perplexity: 3.8304\n",
            "Step [800/2188], Loss: 1.3767, Perplexity: 3.9619\n",
            "Step [1000/2188], Loss: 1.3503, Perplexity: 3.8587\n",
            "Step [1200/2188], Loss: 1.2436, Perplexity: 3.4681\n",
            "Step [1400/2188], Loss: 1.4775, Perplexity: 4.3819\n",
            "Step [1600/2188], Loss: 1.2803, Perplexity: 3.5979\n",
            "Step [1800/2188], Loss: 1.3758, Perplexity: 3.9582\n",
            "Step [2000/2188], Loss: 1.4433, Perplexity: 4.2347\n",
            "Val Step [0/32], Loss: 1.3204, Perplexity: 3.7451\n",
            "Epoch: 6 | Time: 5m 309.93211936950684s\n",
            "\tTrain Loss: 1.3360, Train PPL: 3.8037\n",
            "\tVal Loss: 1.3531, Val PPL: 3.8695\n",
            "Step [0/2188], Loss: 1.3284, Perplexity: 3.7750\n",
            "Step [200/2188], Loss: 1.2603, Perplexity: 3.5266\n",
            "Step [400/2188], Loss: 1.1630, Perplexity: 3.1995\n",
            "Step [600/2188], Loss: 1.3611, Perplexity: 3.9003\n",
            "Step [800/2188], Loss: 1.2602, Perplexity: 3.5262\n",
            "Step [1000/2188], Loss: 1.3916, Perplexity: 4.0211\n",
            "Step [1200/2188], Loss: 1.2847, Perplexity: 3.6135\n",
            "Step [1400/2188], Loss: 1.4400, Perplexity: 4.2207\n",
            "Step [1600/2188], Loss: 1.3829, Perplexity: 3.9866\n",
            "Step [1800/2188], Loss: 1.3911, Perplexity: 4.0194\n",
            "Step [2000/2188], Loss: 1.3054, Perplexity: 3.6890\n",
            "Val Step [0/32], Loss: 1.3014, Perplexity: 3.6745\n",
            "Epoch: 7 | Time: 5m 310.5976164340973s\n",
            "\tTrain Loss: 1.2821, Train PPL: 3.6041\n",
            "\tVal Loss: 1.3284, Val PPL: 3.7752\n",
            "Step [0/2188], Loss: 1.2586, Perplexity: 3.5204\n",
            "Step [200/2188], Loss: 1.2059, Perplexity: 3.3398\n",
            "Step [400/2188], Loss: 1.2431, Perplexity: 3.4665\n",
            "Step [600/2188], Loss: 1.2717, Perplexity: 3.5669\n",
            "Step [800/2188], Loss: 1.2655, Perplexity: 3.5449\n",
            "Step [1000/2188], Loss: 1.3179, Perplexity: 3.7355\n",
            "Step [1200/2188], Loss: 1.2204, Perplexity: 3.3884\n",
            "Step [1400/2188], Loss: 1.1060, Perplexity: 3.0222\n",
            "Step [1600/2188], Loss: 1.2732, Perplexity: 3.5723\n",
            "Step [1800/2188], Loss: 1.2789, Perplexity: 3.5926\n",
            "Step [2000/2188], Loss: 1.2205, Perplexity: 3.3890\n",
            "Val Step [0/32], Loss: 1.2651, Perplexity: 3.5435\n",
            "Epoch: 8 | Time: 5m 309.834525346756s\n",
            "\tTrain Loss: 1.2374, Train PPL: 3.4465\n",
            "\tVal Loss: 1.2990, Val PPL: 3.6658\n",
            "Step [0/2188], Loss: 1.1538, Perplexity: 3.1701\n",
            "Step [200/2188], Loss: 1.2175, Perplexity: 3.3789\n",
            "Step [400/2188], Loss: 1.2774, Perplexity: 3.5872\n",
            "Step [600/2188], Loss: 1.1668, Perplexity: 3.2118\n",
            "Step [800/2188], Loss: 1.2404, Perplexity: 3.4569\n",
            "Step [1000/2188], Loss: 1.2258, Perplexity: 3.4069\n",
            "Step [1200/2188], Loss: 1.1888, Perplexity: 3.2831\n",
            "Step [1400/2188], Loss: 1.1986, Perplexity: 3.3154\n",
            "Step [1600/2188], Loss: 1.1016, Perplexity: 3.0090\n",
            "Step [1800/2188], Loss: 1.1970, Perplexity: 3.3101\n",
            "Step [2000/2188], Loss: 1.2187, Perplexity: 3.3827\n",
            "Val Step [0/32], Loss: 1.2658, Perplexity: 3.5461\n",
            "Epoch: 9 | Time: 5m 309.8166289329529s\n",
            "\tTrain Loss: 1.1984, Train PPL: 3.3148\n",
            "\tVal Loss: 1.2835, Val PPL: 3.6092\n",
            "Step [0/2188], Loss: 1.2648, Perplexity: 3.5423\n",
            "Step [200/2188], Loss: 1.1142, Perplexity: 3.0471\n",
            "Step [400/2188], Loss: 1.0430, Perplexity: 2.8376\n",
            "Step [600/2188], Loss: 1.1473, Perplexity: 3.1498\n",
            "Step [800/2188], Loss: 1.2557, Perplexity: 3.5103\n",
            "Step [1000/2188], Loss: 1.2627, Perplexity: 3.5350\n",
            "Step [1200/2188], Loss: 1.0830, Perplexity: 2.9534\n",
            "Step [1400/2188], Loss: 1.1326, Perplexity: 3.1036\n",
            "Step [1600/2188], Loss: 1.2508, Perplexity: 3.4930\n",
            "Step [1800/2188], Loss: 1.1483, Perplexity: 3.1528\n",
            "Step [2000/2188], Loss: 1.2341, Perplexity: 3.4352\n",
            "Val Step [0/32], Loss: 1.2536, Perplexity: 3.5030\n",
            "Epoch: 10 | Time: 5m 310.0538475513458s\n",
            "\tTrain Loss: 1.1658, Train PPL: 3.2086\n",
            "\tVal Loss: 1.2601, Val PPL: 3.5259\n"
          ],
          "name": "stdout"
        }
      ]
    },
    {
      "cell_type": "markdown",
      "metadata": {
        "id": "rvwf7QVv4HQq",
        "colab_type": "text"
      },
      "source": [
        "### Testing"
      ]
    },
    {
      "cell_type": "code",
      "metadata": {
        "id": "RRTmz1gMz7jB",
        "colab_type": "code",
        "colab": {}
      },
      "source": [
        "vocab_path = \"data/vocab.pkl\"\n",
        "# Load vocabulary wrapper\n",
        "with open(vocab_path, 'rb') as f:\n",
        "    vocab = pickle.load(f)"
      ],
      "execution_count": 68,
      "outputs": []
    },
    {
      "cell_type": "code",
      "metadata": {
        "id": "na8Kbd0y3mVc",
        "colab_type": "code",
        "colab": {}
      },
      "source": [
        "# Build models\n",
        "encoder = Encoder(enc_out_dim).eval()\n",
        "decoder = Decoder(\n",
        "    len(vocab),\n",
        "    embed_size,\n",
        "    dec_hid_size,\n",
        "    num_layers,\n",
        "    enc_out_dim,\n",
        "    dropout).eval()\n",
        "encoder = encoder.to(device)\n",
        "decoder = decoder.to(device)"
      ],
      "execution_count": 123,
      "outputs": []
    },
    {
      "cell_type": "code",
      "metadata": {
        "id": "7kltg6AW3q0x",
        "colab_type": "code",
        "colab": {
          "base_uri": "https://localhost:8080/",
          "height": 34
        },
        "outputId": "83dd7e07-695c-4ac6-f7e5-06469706a59a"
      },
      "source": [
        "encoder_path = \"encoder.ckpt\"\n",
        "decoder_path = \"decoder.ckpt\"\n",
        "\n",
        "# Load the trained model parameters\n",
        "encoder.load_state_dict(torch.load(encoder_path))\n",
        "decoder.load_state_dict(torch.load(decoder_path))"
      ],
      "execution_count": 124,
      "outputs": [
        {
          "output_type": "execute_result",
          "data": {
            "text/plain": [
              "<All keys matched successfully>"
            ]
          },
          "metadata": {
            "tags": []
          },
          "execution_count": 124
        }
      ]
    },
    {
      "cell_type": "code",
      "metadata": {
        "id": "XhiECvlR3w0t",
        "colab_type": "code",
        "colab": {
          "base_uri": "https://localhost:8080/",
          "height": 50
        },
        "outputId": "477f7286-8077-4db2-95b8-133d1889cc9c"
      },
      "source": [
        "test_loss = evaluate(encoder, decoder, test_data_loader)\n",
        "print(f\"Test Loss: {test_loss:.4f} | Test PPL: {np.exp(test_loss):5.4f}\")"
      ],
      "execution_count": 71,
      "outputs": [
        {
          "output_type": "stream",
          "text": [
            "Val Step [0/32], Loss: 1.3628, Perplexity: 3.9072\n",
            "Test Loss: 1.3658 | Test PPL: 3.9188\n"
          ],
          "name": "stdout"
        }
      ]
    },
    {
      "cell_type": "markdown",
      "metadata": {
        "id": "Sb69SkMa4JS-",
        "colab_type": "text"
      },
      "source": [
        "### Inference"
      ]
    },
    {
      "cell_type": "code",
      "metadata": {
        "id": "mYdE_AxF4FRt",
        "colab_type": "code",
        "colab": {}
      },
      "source": [
        "def load_image(image_path, transform):\n",
        "    image = Image.open(image_path)\n",
        "    img = resize_image(image, [128, 32])\n",
        "    img_tensor = transform(img).unsqueeze(0)\n",
        "\n",
        "    return img_tensor"
      ],
      "execution_count": 72,
      "outputs": []
    },
    {
      "cell_type": "code",
      "metadata": {
        "id": "1KkTs7TS4lal",
        "colab_type": "code",
        "colab": {}
      },
      "source": [
        "def inference(image_path):\n",
        "    # Prepare an image\n",
        "    transform = transforms.ToTensor()\n",
        "    image = load_image(image_path, transform)\n",
        "    image_tensor = image.to(device)\n",
        "    \n",
        "    # Generate an caption from the image\n",
        "    feature = encoder(image_tensor)\n",
        "\n",
        "    sampled_ids = decoder.sample(feature)\n",
        "    sampled_ids = sampled_ids[0].cpu().numpy()          # (1, max_seq_length) -> (max_seq_length)\n",
        "\n",
        "    # Convert word_ids to words\n",
        "    sampled_formula = []\n",
        "    for sign_id in sampled_ids:\n",
        "        sign = vocab.id2sign[sign_id]\n",
        "        if sign == '</s>':\n",
        "            break\n",
        "        sampled_formula.append(sign)\n",
        "    formula = ' '.join(sampled_formula[1:])\n",
        "\n",
        "    return formula"
      ],
      "execution_count": 125,
      "outputs": []
    },
    {
      "cell_type": "code",
      "metadata": {
        "id": "gx-TJx804yS0",
        "colab_type": "code",
        "colab": {
          "base_uri": "https://localhost:8080/",
          "height": 218
        },
        "outputId": "ddc03b4b-2002-42d6-a7b9-6ea2db52f3c9"
      },
      "source": [
        "image_path = os.path.join(data_path, \"formula_images_processed\", train_formulas[10][0])\n",
        "actual_formula = formulas[int(train_formulas[10][1])]\n",
        "predicted_formula = inference(image_path)\n",
        "\n",
        "# Print out the image and the generated formula\n",
        "image = Image.open(image_path)\n",
        "plt.imshow(np.asarray(image))\n",
        "print(f\"Actual: {actual_formula}\")\n",
        "print(f\"Predicted: {predicted_formula}\")"
      ],
      "execution_count": 126,
      "outputs": [
        {
          "output_type": "stream",
          "text": [
            "Actual: e x p \\left( - \\frac { \\partial } { \\partial \\alpha _ { j } } \\theta ^ { j k } \\frac { \\partial } { \\partial \\alpha _ { k } } \\right)\n",
            "Predicted: { e c _ { \\kern - 2 e x \\Big ) }\n"
          ],
          "name": "stdout"
        },
        {
          "output_type": "display_data",
          "data": {
            "image/png": "[encoded data removed]",
            "text/plain": [
              "<Figure size 432x288 with 1 Axes>"
            ]
          },
          "metadata": {
            "tags": [],
            "needs_background": "light"
          }
        }
      ]
    },
    {
      "cell_type": "code",
      "metadata": {
        "id": "7ZPTLYN27YXY",
        "colab_type": "code",
        "colab": {
          "base_uri": "https://localhost:8080/",
          "height": 218
        },
        "outputId": "597fca65-ab50-4544-8ead-f7f4ec10f6e8"
      },
      "source": [
        "image_path = os.path.join(data_path, \"formula_images_processed\", train_formulas[0][0])\n",
        "actual_formula = formulas[int(train_formulas[0][1])]\n",
        "predicted_formula = inference(image_path)\n",
        "\n",
        "# Print out the image and the generated formula\n",
        "image = Image.open(image_path)\n",
        "plt.imshow(np.asarray(image))\n",
        "print(f\"Actual: {actual_formula}\")\n",
        "print(f\"Predicted: {predicted_formula}\")"
      ],
      "execution_count": 127,
      "outputs": [
        {
          "output_type": "stream",
          "text": [
            "Actual: \\widetilde \\gamma _ { \\mathrm { h o p f } } \\simeq \\sum _ { n > 0 } \\widetilde { G } _ { n } { \\frac { ( - a ) ^ { n } } { 2 ^ { 2 n - 1 } } }\n",
            "Predicted: _ { \\bf q } \\equiv \\sum _ { \\frac { 2 } } { }\n"
          ],
          "name": "stdout"
        },
        {
          "output_type": "display_data",
          "data": {
            "image/png": "[encoded data removed]",
            "text/plain": [
              "<Figure size 432x288 with 1 Axes>"
            ]
          },
          "metadata": {
            "tags": [],
            "needs_background": "light"
          }
        }
      ]
    },
    {
      "cell_type": "code",
      "metadata": {
        "id": "BMo6nK8cPzyA",
        "colab_type": "code",
        "colab": {
          "base_uri": "https://localhost:8080/",
          "height": 133
        },
        "outputId": "0a339fbe-7291-4b2e-c464-1ca885e0f446"
      },
      "source": [
        "image_path = os.path.join(data_path, \"formula_images_processed\", train_formulas[1][0])\n",
        "actual_formula = formulas[int(train_formulas[1][1])]\n",
        "predicted_formula = inference(image_path)\n",
        "\n",
        "# Print out the image and the generated formula\n",
        "image = Image.open(image_path)\n",
        "plt.imshow(np.asarray(image))\n",
        "print(f\"Actual: {actual_formula}\")\n",
        "print(f\"Predicted: {predicted_formula}\")"
      ],
      "execution_count": 128,
      "outputs": [
        {
          "output_type": "stream",
          "text": [
            "Actual: ( { \\cal L } _ { a } g ) _ { i j } = 0 , \\ \\ \\ \\ ( { \\cal L } _ { a } H ) _ { i j k } = 0 ,\n",
            "Predicted: a _ { \\cal A } ) ) = 0 ,\n"
          ],
          "name": "stdout"
        },
        {
          "output_type": "display_data",
          "data": {
            "image/png": "[encoded data removed]",
            "text/plain": [
              "<Figure size 432x288 with 1 Axes>"
            ]
          },
          "metadata": {
            "tags": [],
            "needs_background": "light"
          }
        }
      ]
    },
    {
      "cell_type": "code",
      "metadata": {
        "id": "cgVaVkHYP2-q",
        "colab_type": "code",
        "colab": {}
      },
      "source": [
        ""
      ],
      "execution_count": null,
      "outputs": []
    }
  ]
}