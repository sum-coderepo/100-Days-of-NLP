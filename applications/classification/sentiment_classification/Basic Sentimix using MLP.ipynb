{
  "nbformat": 4,
  "nbformat_minor": 0,
  "metadata": {
    "colab": {
      "name": "Basic Sentimix using MLP.ipynb",
      "provenance": [],
      "authorship_tag": "ABX9TyNBKbaMTvwtm0i/v9/g0OW6",
      "include_colab_link": true
    },
    "kernelspec": {
      "name": "python3",
      "display_name": "Python 3"
    }
  },
  "cells": [
    {
      "cell_type": "markdown",
      "metadata": {
        "id": "view-in-github",
        "colab_type": "text"
      },
      "source": [
        "<a href=\"https://colab.research.google.com/github/graviraja/100-Days-of-NLP/blob/applications%2Fclassification/applications/classification/sentiment_classification/Basic%20Sentimix%20using%20MLP.ipynb\" target=\"_parent\"><img src=\"https://colab.research.google.com/assets/colab-badge.svg\" alt=\"Open In Colab\"/></a>"
      ]
    },
    {
      "cell_type": "markdown",
      "metadata": {
        "id": "hk-2e9TGbqjb",
        "colab_type": "text"
      },
      "source": [
        "### Initial Setup"
      ]
    },
    {
      "cell_type": "code",
      "metadata": {
        "id": "X3PRIz4MNIeH",
        "colab_type": "code",
        "colab": {
          "base_uri": "https://localhost:8080/",
          "height": 124
        },
        "outputId": "87634706-3427-4ad7-e89f-faacbbf97911"
      },
      "source": [
        "from google.colab import drive\n",
        "drive.mount('/content/drive')"
      ],
      "execution_count": 1,
      "outputs": [
        {
          "output_type": "stream",
          "text": [
            "Go to this URL in a browser: https://accounts.google.com/o/oauth2/auth?client_id=947318989803-6bn6qk8qdgf4n4g3pfee6491hc0brc4i.apps.googleusercontent.com&redirect_uri=urn%3aietf%3awg%3aoauth%3a2.0%3aoob&scope=email%20https%3a%2f%2fwww.googleapis.com%2fauth%2fdocs.test%20https%3a%2f%2fwww.googleapis.com%2fauth%2fdrive%20https%3a%2f%2fwww.googleapis.com%2fauth%2fdrive.photos.readonly%20https%3a%2f%2fwww.googleapis.com%2fauth%2fpeopleapi.readonly&response_type=code\n",
            "\n",
            "Enter your authorization code:\n",
            "··········\n",
            "Mounted at /content/drive\n"
          ],
          "name": "stdout"
        }
      ]
    },
    {
      "cell_type": "code",
      "metadata": {
        "id": "y-32oko7VGiO",
        "colab_type": "code",
        "colab": {}
      },
      "source": [
        "!pip install contractions -q"
      ],
      "execution_count": 131,
      "outputs": []
    },
    {
      "cell_type": "markdown",
      "metadata": {
        "id": "IY-7bk9weRQk",
        "colab_type": "text"
      },
      "source": [
        "Dataset can be found [here](https://github.com/gopalanvinay/thesis-vinay-gopalan)"
      ]
    },
    {
      "cell_type": "code",
      "metadata": {
        "id": "tI-AbaIrQbcV",
        "colab_type": "code",
        "colab": {}
      },
      "source": [
        "train_file = '/content/drive/My Drive/train_14k_split_conll.txt'\n",
        "test_file = '/content/drive/My Drive/dev_3k_split_conll.txt'"
      ],
      "execution_count": 51,
      "outputs": []
    },
    {
      "cell_type": "markdown",
      "metadata": {
        "id": "t2ZjhFUEZ5V1",
        "colab_type": "text"
      },
      "source": [
        "### Imports"
      ]
    },
    {
      "cell_type": "code",
      "metadata": {
        "id": "b9zNmcPjAJhX",
        "colab_type": "code",
        "colab": {}
      },
      "source": [
        "import re\n",
        "import time\n",
        "import string\n",
        "import contractions\n",
        "import numpy as np\n",
        "import pandas as pd\n",
        "\n",
        "from collections import Counter\n",
        "from sklearn.model_selection import train_test_split\n",
        "from sklearn import metrics\n",
        "\n",
        "import torch\n",
        "import torch.nn as nn\n",
        "import torch.optim as optim\n",
        "\n",
        "from torch.utils.data import Dataset, DataLoader\n",
        "\n",
        "import matplotlib.pyplot as plt\n",
        "import seaborn as sns"
      ],
      "execution_count": 128,
      "outputs": []
    },
    {
      "cell_type": "code",
      "metadata": {
        "id": "ev7LpvzHC2tn",
        "colab_type": "code",
        "colab": {}
      },
      "source": [
        "with open(train_file) as f:\n",
        "    data = f.readlines()"
      ],
      "execution_count": 53,
      "outputs": []
    },
    {
      "cell_type": "code",
      "metadata": {
        "id": "mTHj_NUkVx0m",
        "colab_type": "code",
        "colab": {}
      },
      "source": [
        "with open(test_file, 'r') as f:\n",
        "    test_data = f.readlines()"
      ],
      "execution_count": 54,
      "outputs": []
    },
    {
      "cell_type": "markdown",
      "metadata": {
        "id": "G7R1R-KsZzGv",
        "colab_type": "text"
      },
      "source": [
        "### Data Parsing"
      ]
    },
    {
      "cell_type": "code",
      "metadata": {
        "id": "sRJbb8s3DWkC",
        "colab_type": "code",
        "colab": {}
      },
      "source": [
        "def parse_data(data):\n",
        "    sentences, sentences_info, sentiment = [], [], []\n",
        "    all_langs = []\n",
        "    \n",
        "    single_sentence, single_sentence_info = [], []\n",
        "    sent = \"\"\n",
        "    \n",
        "    for idx, each_line in enumerate(data):\n",
        "        line = each_line.strip()\n",
        "        tokens = line.split('\\t')\n",
        "        num_tokens = len(tokens)\n",
        "        if num_tokens == 2:\n",
        "            # add the word\n",
        "            single_sentence.append(tokens[0])\n",
        "            # add the word info(lang)\n",
        "            single_sentence_info.append(tokens[1])\n",
        "            all_langs.append(tokens[1])\n",
        "        elif num_tokens == 3 and idx > 0:\n",
        "            # append the sentence data\n",
        "            sentences.append(single_sentence)\n",
        "            sentences_info.append(single_sentence_info)\n",
        "            sentiment.append(sent)\n",
        "            sent = tokens[-1]\n",
        "            # clear the single sentence\n",
        "            single_sentence = []\n",
        "            single_sentence_info = []\n",
        "        # new line after the sentence\n",
        "        elif num_tokens == 1:\n",
        "            continue\n",
        "        else:\n",
        "            sent = tokens[-1]\n",
        "    # for the last sentence\n",
        "    if len(single_sentence) > 0:\n",
        "        sentences.append(single_sentence)\n",
        "        sentences_info.append(single_sentence_info)\n",
        "        sentiment.append(sent)\n",
        "        \n",
        "    assert len(sentences) == len(sentences_info) == len(sentiment)\n",
        "    return sentences, sentences_info, sentiment, all_langs"
      ],
      "execution_count": 55,
      "outputs": []
    },
    {
      "cell_type": "code",
      "metadata": {
        "id": "58fx0BGMDXgT",
        "colab_type": "code",
        "colab": {}
      },
      "source": [
        "sentences, sentences_info, sentiment, all_langs = parse_data(data)"
      ],
      "execution_count": 56,
      "outputs": []
    },
    {
      "cell_type": "code",
      "metadata": {
        "id": "4qM0Z_yvDa1M",
        "colab_type": "code",
        "colab": {
          "base_uri": "https://localhost:8080/",
          "height": 535
        },
        "outputId": "e43f4bc0-4551-4633-8c37-b43717b0776a"
      },
      "source": [
        "data[:30]"
      ],
      "execution_count": 57,
      "outputs": [
        {
          "output_type": "execute_result",
          "data": {
            "text/plain": [
              "['meta\\t4330\\tneutral\\n',\n",
              " 'nen\\tEng\\n',\n",
              " 'á\\tO\\n',\n",
              " 'vist\\tEng\\n',\n",
              " 'bolest\\tEng\\n',\n",
              " 'vztek\\tEng\\n',\n",
              " 'smutek\\tEng\\n',\n",
              " 'zmatek\\tHin\\n',\n",
              " 'osam\\tHin\\n',\n",
              " 'ě\\tO\\n',\n",
              " 'lost\\tEng\\n',\n",
              " 'beznad\\tEng\\n',\n",
              " 'ě\\tO\\n',\n",
              " 'j\\tHin\\n',\n",
              " 'a\\tEng\\n',\n",
              " 'nakonec\\tEng\\n',\n",
              " 'jen\\tHin\\n',\n",
              " 'klid\\tHin\\n',\n",
              " 'Asi\\tHin\\n',\n",
              " 'takhle\\tHin\\n',\n",
              " 'vypad\\tHin\\n',\n",
              " 'á\\tO\\n',\n",
              " 'm\\tHin\\n',\n",
              " 'ů\\tO\\n',\n",
              " 'j\\tEng\\n',\n",
              " 'life\\tEng\\n',\n",
              " '...\\tO\\n',\n",
              " '\\n',\n",
              " 'meta\\t41616\\tneutral\\n',\n",
              " '@\\tO\\n']"
            ]
          },
          "metadata": {
            "tags": []
          },
          "execution_count": 57
        }
      ]
    },
    {
      "cell_type": "code",
      "metadata": {
        "id": "BPIDrNPEV_Pw",
        "colab_type": "code",
        "colab": {}
      },
      "source": [
        "test_sentences, test_sentences_info, test_sentiment, test_all_langs = parse_data(test_data)"
      ],
      "execution_count": 58,
      "outputs": []
    },
    {
      "cell_type": "code",
      "metadata": {
        "id": "3Fsd6Eq3DZGT",
        "colab_type": "code",
        "colab": {
          "base_uri": "https://localhost:8080/",
          "height": 35
        },
        "outputId": "5b14eac2-9188-4448-bddc-1866aac6cf8a"
      },
      "source": [
        "len(sentiment)"
      ],
      "execution_count": 59,
      "outputs": [
        {
          "output_type": "execute_result",
          "data": {
            "text/plain": [
              "14000"
            ]
          },
          "metadata": {
            "tags": []
          },
          "execution_count": 59
        }
      ]
    },
    {
      "cell_type": "markdown",
      "metadata": {
        "id": "6N6WNOUqZkif",
        "colab_type": "text"
      },
      "source": [
        "### Data Exploration"
      ]
    },
    {
      "cell_type": "code",
      "metadata": {
        "id": "EIfbCARYUF01",
        "colab_type": "code",
        "colab": {
          "base_uri": "https://localhost:8080/",
          "height": 282
        },
        "outputId": "a5776aff-68a9-4f46-a701-0c3d6d3510ee"
      },
      "source": [
        "sns.countplot(all_langs)"
      ],
      "execution_count": 62,
      "outputs": [
        {
          "output_type": "execute_result",
          "data": {
            "text/plain": [
              "<matplotlib.axes._subplots.AxesSubplot at 0x7f4ff9da1940>"
            ]
          },
          "metadata": {
            "tags": []
          },
          "execution_count": 62
        },
        {
          "output_type": "display_data",
          "data": {
            "image/png": "[encoded data removed]",
            "text/plain": [
              "<Figure size 432x288 with 1 Axes>"
            ]
          },
          "metadata": {
            "tags": [],
            "needs_background": "light"
          }
        }
      ]
    },
    {
      "cell_type": "code",
      "metadata": {
        "id": "49lMosdbUMj1",
        "colab_type": "code",
        "colab": {
          "base_uri": "https://localhost:8080/",
          "height": 282
        },
        "outputId": "cd212d48-5128-41ef-978a-29c1f25c5bba"
      },
      "source": [
        "sns.countplot(sentiment)"
      ],
      "execution_count": 63,
      "outputs": [
        {
          "output_type": "execute_result",
          "data": {
            "text/plain": [
              "<matplotlib.axes._subplots.AxesSubplot at 0x7f4ffcce8940>"
            ]
          },
          "metadata": {
            "tags": []
          },
          "execution_count": 63
        },
        {
          "output_type": "display_data",
          "data": {
            "image/png": "[encoded data removed]",
            "text/plain": [
              "<Figure size 432x288 with 1 Axes>"
            ]
          },
          "metadata": {
            "tags": [],
            "needs_background": "light"
          }
        }
      ]
    },
    {
      "cell_type": "code",
      "metadata": {
        "id": "OnQ8LUXgUOvL",
        "colab_type": "code",
        "colab": {
          "base_uri": "https://localhost:8080/",
          "height": 35
        },
        "outputId": "268320ec-583b-4172-9b66-a1f836ba514f"
      },
      "source": [
        "set(sentiment)"
      ],
      "execution_count": 64,
      "outputs": [
        {
          "output_type": "execute_result",
          "data": {
            "text/plain": [
              "{'negative', 'neutral', 'positive'}"
            ]
          },
          "metadata": {
            "tags": []
          },
          "execution_count": 64
        }
      ]
    },
    {
      "cell_type": "code",
      "metadata": {
        "id": "WprvaUZtUR0m",
        "colab_type": "code",
        "colab": {}
      },
      "source": [
        "sent_num_tokens = [len(sent) for sent in sentences]"
      ],
      "execution_count": 65,
      "outputs": []
    },
    {
      "cell_type": "code",
      "metadata": {
        "id": "ZGKnYPtIUUcQ",
        "colab_type": "code",
        "colab": {
          "base_uri": "https://localhost:8080/",
          "height": 337
        },
        "outputId": "da0d2c91-97d9-4bcb-a6bf-178d98c7b65c"
      },
      "source": [
        "plt.figure(figsize=(15, 5))\n",
        "sns.countplot(sent_num_tokens)"
      ],
      "execution_count": 66,
      "outputs": [
        {
          "output_type": "execute_result",
          "data": {
            "text/plain": [
              "<matplotlib.axes._subplots.AxesSubplot at 0x7f4ff9da1390>"
            ]
          },
          "metadata": {
            "tags": []
          },
          "execution_count": 66
        },
        {
          "output_type": "display_data",
          "data": {
            "image/png": "[encoded data removed]",
            "text/plain": [
              "<Figure size 1080x360 with 1 Axes>"
            ]
          },
          "metadata": {
            "tags": [],
            "needs_background": "light"
          }
        }
      ]
    },
    {
      "cell_type": "code",
      "metadata": {
        "id": "Joo0mQ6eUXMQ",
        "colab_type": "code",
        "colab": {
          "base_uri": "https://localhost:8080/",
          "height": 518
        },
        "outputId": "1c4b8b87-b96f-49fd-88b8-49806ac1e9ac"
      },
      "source": [
        "sentences[10]"
      ],
      "execution_count": 67,
      "outputs": [
        {
          "output_type": "execute_result",
          "data": {
            "text/plain": [
              "['@',\n",
              " 'ECISVEEP',\n",
              " 'Can',\n",
              " 'you',\n",
              " 'answer',\n",
              " 'miscalculated',\n",
              " 'votes',\n",
              " 'on',\n",
              " 'each',\n",
              " 'seat',\n",
              " '?',\n",
              " 'One',\n",
              " 'vote',\n",
              " 'matters',\n",
              " '!',\n",
              " '#',\n",
              " 'deshkamahatyohar',\n",
              " 'hai',\n",
              " 'aur',\n",
              " 'apne',\n",
              " 'dhji',\n",
              " '…',\n",
              " 'https',\n",
              " '//',\n",
              " 't',\n",
              " '.',\n",
              " 'co',\n",
              " '/',\n",
              " 'SuHS4mx6Dm']"
            ]
          },
          "metadata": {
            "tags": []
          },
          "execution_count": 67
        }
      ]
    },
    {
      "cell_type": "code",
      "metadata": {
        "id": "5FaMfnkeUaCS",
        "colab_type": "code",
        "colab": {
          "base_uri": "https://localhost:8080/",
          "height": 518
        },
        "outputId": "34f9ba48-ce9f-4db6-c7d5-5bfff7d78292"
      },
      "source": [
        "sentences_info[10]"
      ],
      "execution_count": 68,
      "outputs": [
        {
          "output_type": "execute_result",
          "data": {
            "text/plain": [
              "['O',\n",
              " 'Eng',\n",
              " 'Eng',\n",
              " 'Eng',\n",
              " 'Eng',\n",
              " 'Eng',\n",
              " 'Eng',\n",
              " 'Eng',\n",
              " 'Eng',\n",
              " 'Eng',\n",
              " 'O',\n",
              " 'Eng',\n",
              " 'Eng',\n",
              " 'Hin',\n",
              " 'O',\n",
              " 'O',\n",
              " 'Hin',\n",
              " 'Hin',\n",
              " 'Hin',\n",
              " 'Hin',\n",
              " 'Eng',\n",
              " 'O',\n",
              " 'Eng',\n",
              " 'O',\n",
              " 'Eng',\n",
              " 'O',\n",
              " 'Hin',\n",
              " 'O',\n",
              " 'Hin']"
            ]
          },
          "metadata": {
            "tags": []
          },
          "execution_count": 68
        }
      ]
    },
    {
      "cell_type": "code",
      "metadata": {
        "id": "fUwzn0R6Ui8w",
        "colab_type": "code",
        "colab": {
          "base_uri": "https://localhost:8080/",
          "height": 35
        },
        "outputId": "0b8b41c3-38df-4ff5-caa5-f823c77d2512"
      },
      "source": [
        "sentiment[0]"
      ],
      "execution_count": 69,
      "outputs": [
        {
          "output_type": "execute_result",
          "data": {
            "application/vnd.google.colaboratory.intrinsic+json": {
              "type": "string"
            },
            "text/plain": [
              "'neutral'"
            ]
          },
          "metadata": {
            "tags": []
          },
          "execution_count": 69
        }
      ]
    },
    {
      "cell_type": "markdown",
      "metadata": {
        "id": "Lo5w-_VTZqJT",
        "colab_type": "text"
      },
      "source": [
        "### Data Cleaning"
      ]
    },
    {
      "cell_type": "code",
      "metadata": {
        "id": "xx8Dsop6UnFZ",
        "colab_type": "code",
        "colab": {}
      },
      "source": [
        "url_pattern = r'https(.*)/\\s\\w+'\n",
        "special_chars = r'[_…\\*\\[\\]\\(\\)&“]'\n",
        "names_with_numbers = r'([A-Za-z]+)\\d{3,}'\n",
        "apostee = r\"([\\w]+)\\s'\\s([\\w]+)\"\n",
        "names = r\"@[\\s]*[\\w]+[\\s]*[_]+[\\s]*[\\w]+|@[\\s]*[\\w]+\"\n",
        "\n",
        "def preprocess_data(sentence_tokens):\n",
        "    sentence = \" \".join(sentence_tokens)\n",
        "    sentence = \" \" + sentence\n",
        "    # remove rt and … from string\n",
        "    sentence = sentence.replace(\" RT \", \"\")\n",
        "    sentence = sentence.replace(\"…\", \"\")\n",
        "    # replace apostee\n",
        "    sentence = sentence.replace(\"’\", \"'\")\n",
        "    # replace names\n",
        "    sentence = re.sub(re.compile(names), \" \", sentence)\n",
        "    # remove special chars\n",
        "    # sentence = re.sub(re.compile(special_chars), \"\", sentence)\n",
        "    # remove urls\n",
        "    sentence = re.sub(re.compile(url_pattern), \"\", sentence)\n",
        "    ## remove duplicate characters\n",
        "    # sentence = re.sub(r\"(.)\\1{3,}\", r'\\1', sentence)\n",
        "    # combine only ' related words => ... it ' s ... -> ... it's ...\n",
        "    sentence = re.sub(re.compile(apostee), r\"\\1'\\2\", sentence)\n",
        "    # fix contractions\n",
        "    sentence = contractions.fix(sentence)\n",
        "    # replace names ending with numbers with only names (remove numbers)\n",
        "    sentence = re.sub(re.compile(names_with_numbers), r\" \", sentence)\n",
        "    ## consider only printable chars (many greek, urdu, hindi chars are there)\n",
        "    # sentence = [ch for ch in sentence if ch in string.printable]\n",
        "    # sentence = \"\".join(sentence).strip()\n",
        "    sentence = \" \".join(sentence.split()).strip()\n",
        "    return sentence"
      ],
      "execution_count": 70,
      "outputs": []
    },
    {
      "cell_type": "code",
      "metadata": {
        "id": "GfbWaN1UVS7u",
        "colab_type": "code",
        "colab": {
          "base_uri": "https://localhost:8080/",
          "height": 52
        },
        "outputId": "9df9e6b0-45c6-4900-9462-10b7ab22aa6e"
      },
      "source": [
        "\" \".join(sentences[1]), sentiment[1]"
      ],
      "execution_count": 71,
      "outputs": [
        {
          "output_type": "execute_result",
          "data": {
            "text/plain": [
              "('@ nehantics Haan yaar neha 😔😔 kab karega woh post 😭 Usne na sach mein photoshoot karna chahiye phir woh post karega … https // tco / 5RSlSbZNtt',\n",
              " 'neutral')"
            ]
          },
          "metadata": {
            "tags": []
          },
          "execution_count": 71
        }
      ]
    },
    {
      "cell_type": "code",
      "metadata": {
        "id": "GZEdoQguVVua",
        "colab_type": "code",
        "colab": {
          "base_uri": "https://localhost:8080/",
          "height": 35
        },
        "outputId": "ed41327b-27a4-4476-fc92-0aad6e29b6d9"
      },
      "source": [
        "preprocess_data(sentences[1])"
      ],
      "execution_count": 72,
      "outputs": [
        {
          "output_type": "execute_result",
          "data": {
            "application/vnd.google.colaboratory.intrinsic+json": {
              "type": "string"
            },
            "text/plain": [
              "'Haan yaar neha 😔😔 kab karega woh post 😭 Usne na sach mein photoshoot karna chahiye phir woh post karega'"
            ]
          },
          "metadata": {
            "tags": []
          },
          "execution_count": 72
        }
      ]
    },
    {
      "cell_type": "code",
      "metadata": {
        "id": "CDs7Ll0xVXmT",
        "colab_type": "code",
        "colab": {
          "base_uri": "https://localhost:8080/",
          "height": 52
        },
        "outputId": "e9940aa3-ba14-4817-80f7-83d808e00831"
      },
      "source": [
        "\" \".join(sentences[29]), sentiment[29]"
      ],
      "execution_count": 73,
      "outputs": [
        {
          "output_type": "execute_result",
          "data": {
            "text/plain": [
              "('Madam @ SushmaSwaraj ji we always miss you as a # videsh _ mantri',\n",
              " 'positive')"
            ]
          },
          "metadata": {
            "tags": []
          },
          "execution_count": 73
        }
      ]
    },
    {
      "cell_type": "code",
      "metadata": {
        "id": "56C4jG5kVaQW",
        "colab_type": "code",
        "colab": {
          "base_uri": "https://localhost:8080/",
          "height": 35
        },
        "outputId": "73b83738-66d5-4809-9014-d2fbcf635e6a"
      },
      "source": [
        "preprocess_data(sentences[29])"
      ],
      "execution_count": 74,
      "outputs": [
        {
          "output_type": "execute_result",
          "data": {
            "application/vnd.google.colaboratory.intrinsic+json": {
              "type": "string"
            },
            "text/plain": [
              "'Madam ji we always miss you as a # videsh _ mantri'"
            ]
          },
          "metadata": {
            "tags": []
          },
          "execution_count": 74
        }
      ]
    },
    {
      "cell_type": "code",
      "metadata": {
        "id": "Yud-i8-cVcVq",
        "colab_type": "code",
        "colab": {
          "base_uri": "https://localhost:8080/",
          "height": 52
        },
        "outputId": "7d2cc6e9-2391-41e5-c1e2-9814b0db6c3e"
      },
      "source": [
        "\" \".join(sentences[10]), sentiment[10]"
      ],
      "execution_count": 75,
      "outputs": [
        {
          "output_type": "execute_result",
          "data": {
            "text/plain": [
              "('@ ECISVEEP Can you answer miscalculated votes on each seat ? One vote matters ! # deshkamahatyohar hai aur apne dhji … https // t . co / SuHS4mx6Dm',\n",
              " 'neutral')"
            ]
          },
          "metadata": {
            "tags": []
          },
          "execution_count": 75
        }
      ]
    },
    {
      "cell_type": "code",
      "metadata": {
        "id": "rvF985NFVgdQ",
        "colab_type": "code",
        "colab": {
          "base_uri": "https://localhost:8080/",
          "height": 35
        },
        "outputId": "08575082-54cd-4205-da9c-0cb31901e453"
      },
      "source": [
        "preprocess_data(sentences[10])"
      ],
      "execution_count": 76,
      "outputs": [
        {
          "output_type": "execute_result",
          "data": {
            "application/vnd.google.colaboratory.intrinsic+json": {
              "type": "string"
            },
            "text/plain": [
              "'Can you answer miscalculated votes on each seat ? One vote matters ! # deshkamahatyohar hai aur apne dhji'"
            ]
          },
          "metadata": {
            "tags": []
          },
          "execution_count": 76
        }
      ]
    },
    {
      "cell_type": "code",
      "metadata": {
        "id": "DufJNfWEVi-o",
        "colab_type": "code",
        "colab": {
          "base_uri": "https://localhost:8080/",
          "height": 52
        },
        "outputId": "1919e16f-6970-4f9b-a816-3ea3196e958d"
      },
      "source": [
        "%%time\n",
        "processed_sentences = []\n",
        "\n",
        "for sent in sentences:\n",
        "    processed_sentences.append(preprocess_data(sent))"
      ],
      "execution_count": 77,
      "outputs": [
        {
          "output_type": "stream",
          "text": [
            "CPU times: user 655 ms, sys: 4.01 ms, total: 659 ms\n",
            "Wall time: 661 ms\n"
          ],
          "name": "stdout"
        }
      ]
    },
    {
      "cell_type": "code",
      "metadata": {
        "id": "SM7QJcUEVmmw",
        "colab_type": "code",
        "colab": {
          "base_uri": "https://localhost:8080/",
          "height": 52
        },
        "outputId": "814f9e86-7856-4d2f-cd9d-d60c6d71ce36"
      },
      "source": [
        "%%time\n",
        "test_data = []\n",
        "\n",
        "for sent in test_sentences:\n",
        "    test_data.append(preprocess_data(sent))"
      ],
      "execution_count": 85,
      "outputs": [
        {
          "output_type": "stream",
          "text": [
            "CPU times: user 153 ms, sys: 781 µs, total: 153 ms\n",
            "Wall time: 155 ms\n"
          ],
          "name": "stdout"
        }
      ]
    },
    {
      "cell_type": "code",
      "metadata": {
        "id": "nGmKDpOPYrCu",
        "colab_type": "code",
        "colab": {}
      },
      "source": [
        "sentiment_mapping = {\n",
        "    \"negative\": 0,\n",
        "    \"neutral\": 1,\n",
        "    \"positive\": 2\n",
        "}"
      ],
      "execution_count": 79,
      "outputs": []
    },
    {
      "cell_type": "code",
      "metadata": {
        "id": "SzrNIirpYygm",
        "colab_type": "code",
        "colab": {}
      },
      "source": [
        "labels = [sentiment_mapping[sent] for sent in sentiment]\n",
        "test_label = [sentiment_mapping[sent] for sent in test_sentiment]"
      ],
      "execution_count": 83,
      "outputs": []
    },
    {
      "cell_type": "markdown",
      "metadata": {
        "id": "wRHN41iSaA8S",
        "colab_type": "text"
      },
      "source": [
        "### Train-Val-Test Splits"
      ]
    },
    {
      "cell_type": "code",
      "metadata": {
        "id": "srl2_Y8YYZfK",
        "colab_type": "code",
        "colab": {}
      },
      "source": [
        "train_data, val_data, train_label, val_label = train_test_split(processed_sentences, labels, test_size=0.2)"
      ],
      "execution_count": 87,
      "outputs": []
    },
    {
      "cell_type": "code",
      "metadata": {
        "id": "Z1NYPijBaNH_",
        "colab_type": "code",
        "colab": {
          "base_uri": "https://localhost:8080/",
          "height": 35
        },
        "outputId": "a3c9e30e-626c-4e98-92c8-7679e72f0134"
      },
      "source": [
        "len(train_data), len(val_data), len(test_data)"
      ],
      "execution_count": 88,
      "outputs": [
        {
          "output_type": "execute_result",
          "data": {
            "text/plain": [
              "(11200, 2800, 3000)"
            ]
          },
          "metadata": {
            "tags": []
          },
          "execution_count": 88
        }
      ]
    },
    {
      "cell_type": "markdown",
      "metadata": {
        "id": "6kV6QZzxahas",
        "colab_type": "text"
      },
      "source": [
        "### Train-Val-Test Distributions"
      ]
    },
    {
      "cell_type": "code",
      "metadata": {
        "id": "7oEAb6FpaauD",
        "colab_type": "code",
        "colab": {
          "base_uri": "https://localhost:8080/",
          "height": 301
        },
        "outputId": "2473987f-7d22-4f70-ae7d-645c79d33e1f"
      },
      "source": [
        "sns.countplot(train_label)\n",
        "plt.xlabel('Training Data', fontsize=16)"
      ],
      "execution_count": 89,
      "outputs": [
        {
          "output_type": "execute_result",
          "data": {
            "text/plain": [
              "Text(0.5, 0, 'Training Data')"
            ]
          },
          "metadata": {
            "tags": []
          },
          "execution_count": 89
        },
        {
          "output_type": "display_data",
          "data": {
            "image/png": "[encoded data removed]",
            "text/plain": [
              "<Figure size 432x288 with 1 Axes>"
            ]
          },
          "metadata": {
            "tags": [],
            "needs_background": "light"
          }
        }
      ]
    },
    {
      "cell_type": "code",
      "metadata": {
        "id": "U2jGVf-Gams7",
        "colab_type": "code",
        "colab": {
          "base_uri": "https://localhost:8080/",
          "height": 301
        },
        "outputId": "ce1a4f14-5073-4850-8d6f-9c88c97b6fea"
      },
      "source": [
        "sns.countplot(val_label)\n",
        "plt.xlabel('Validation Data', fontsize=16)"
      ],
      "execution_count": 90,
      "outputs": [
        {
          "output_type": "execute_result",
          "data": {
            "text/plain": [
              "Text(0.5, 0, 'Validation Data')"
            ]
          },
          "metadata": {
            "tags": []
          },
          "execution_count": 90
        },
        {
          "output_type": "display_data",
          "data": {
            "image/png": "[encoded data removed]",
            "text/plain": [
              "<Figure size 432x288 with 1 Axes>"
            ]
          },
          "metadata": {
            "tags": [],
            "needs_background": "light"
          }
        }
      ]
    },
    {
      "cell_type": "code",
      "metadata": {
        "id": "8pJ7tEnaap6e",
        "colab_type": "code",
        "colab": {
          "base_uri": "https://localhost:8080/",
          "height": 301
        },
        "outputId": "6fb00169-2294-41f7-e3f0-0585e812ec87"
      },
      "source": [
        "sns.countplot(test_label)\n",
        "plt.xlabel('Testing Data', fontsize=16)"
      ],
      "execution_count": 91,
      "outputs": [
        {
          "output_type": "execute_result",
          "data": {
            "text/plain": [
              "Text(0.5, 0, 'Testing Data')"
            ]
          },
          "metadata": {
            "tags": []
          },
          "execution_count": 91
        },
        {
          "output_type": "display_data",
          "data": {
            "image/png": "[encoded data removed]",
            "text/plain": [
              "<Figure size 432x288 with 1 Axes>"
            ]
          },
          "metadata": {
            "tags": [],
            "needs_background": "light"
          }
        }
      ]
    },
    {
      "cell_type": "markdown",
      "metadata": {
        "id": "3WBAj2ZKbZgT",
        "colab_type": "text"
      },
      "source": [
        "### Vocabulary"
      ]
    },
    {
      "cell_type": "code",
      "metadata": {
        "id": "bsTQzM7ParpY",
        "colab_type": "code",
        "colab": {}
      },
      "source": [
        "counter = Counter()\n",
        "for line in train_data:\n",
        "    tokens = line.strip().split()\n",
        "    counter.update(tokens)"
      ],
      "execution_count": 93,
      "outputs": []
    },
    {
      "cell_type": "code",
      "metadata": {
        "id": "KxYxyz_4a2t3",
        "colab_type": "code",
        "colab": {
          "base_uri": "https://localhost:8080/",
          "height": 190
        },
        "outputId": "9f31f0b5-afaa-43c2-de6d-4521ce4c2666"
      },
      "source": [
        "counter.most_common(10)"
      ],
      "execution_count": 94,
      "outputs": [
        {
          "output_type": "execute_result",
          "data": {
            "text/plain": [
              "[('.', 3590),\n",
              " ('hai', 3108),\n",
              " ('ki', 2711),\n",
              " ('to', 2490),\n",
              " ('ko', 2162),\n",
              " ('nahi', 1879),\n",
              " ('you', 1776),\n",
              " ('is', 1675),\n",
              " ('ke', 1675),\n",
              " ('ka', 1649)]"
            ]
          },
          "metadata": {
            "tags": []
          },
          "execution_count": 94
        }
      ]
    },
    {
      "cell_type": "code",
      "metadata": {
        "id": "QpxNHj5pa4J7",
        "colab_type": "code",
        "colab": {}
      },
      "source": [
        "MIN_FREQ = 15"
      ],
      "execution_count": 95,
      "outputs": []
    },
    {
      "cell_type": "code",
      "metadata": {
        "id": "Iom-o89za6Gw",
        "colab_type": "code",
        "colab": {}
      },
      "source": [
        "vocab = []\n",
        "for key in counter.most_common():\n",
        "    if key[1] > MIN_FREQ:\n",
        "        vocab.append(key[0])"
      ],
      "execution_count": 96,
      "outputs": []
    },
    {
      "cell_type": "code",
      "metadata": {
        "id": "dyoCsZika72x",
        "colab_type": "code",
        "colab": {
          "base_uri": "https://localhost:8080/",
          "height": 35
        },
        "outputId": "8fc307b8-23ca-44c0-c767-5f327337b15b"
      },
      "source": [
        "len(vocab)"
      ],
      "execution_count": 97,
      "outputs": [
        {
          "output_type": "execute_result",
          "data": {
            "text/plain": [
              "1521"
            ]
          },
          "metadata": {
            "tags": []
          },
          "execution_count": 97
        }
      ]
    },
    {
      "cell_type": "code",
      "metadata": {
        "id": "gHJDo7SMa9DR",
        "colab_type": "code",
        "colab": {
          "base_uri": "https://localhost:8080/",
          "height": 35
        },
        "outputId": "ae2b2f58-561f-4980-ad54-f570735ca045"
      },
      "source": [
        "vocab[:10]"
      ],
      "execution_count": 98,
      "outputs": [
        {
          "output_type": "execute_result",
          "data": {
            "text/plain": [
              "['.', 'hai', 'ki', 'to', 'ko', 'nahi', 'you', 'is', 'ke', 'ka']"
            ]
          },
          "metadata": {
            "tags": []
          },
          "execution_count": 98
        }
      ]
    },
    {
      "cell_type": "markdown",
      "metadata": {
        "id": "M0v0RiERbbrY",
        "colab_type": "text"
      },
      "source": [
        "### Input Vectors (Bag-of-words)"
      ]
    },
    {
      "cell_type": "code",
      "metadata": {
        "id": "qGSzysh7bDIC",
        "colab_type": "code",
        "colab": {}
      },
      "source": [
        "def get_input_vectors(sentences):\n",
        "    tweet_vectors = []\n",
        "    hidden_length = len(vocab)\n",
        "    for line in sentences:\n",
        "        tweet_tensor = torch.zeros(hidden_length)\n",
        "        words_in_line = line.strip().split(' ')\n",
        "        for i in range(0,hidden_length):\n",
        "            if vocab[i] in words_in_line:\n",
        "                tweet_tensor[i] = 1\n",
        "        tweet_vectors.append(tweet_tensor)\n",
        "    return tweet_vectors\n"
      ],
      "execution_count": 99,
      "outputs": []
    },
    {
      "cell_type": "code",
      "metadata": {
        "id": "oyUnakmpbFIA",
        "colab_type": "code",
        "colab": {
          "base_uri": "https://localhost:8080/",
          "height": 52
        },
        "outputId": "3de3a494-beee-4cb5-83e7-dc1b94511044"
      },
      "source": [
        "%%time\n",
        "train_input = get_input_vectors(train_data)\n",
        "val_input = get_input_vectors(val_data)\n",
        "test_input = get_input_vectors(test_data)"
      ],
      "execution_count": 102,
      "outputs": [
        {
          "output_type": "stream",
          "text": [
            "CPU times: user 8.24 s, sys: 101 ms, total: 8.34 s\n",
            "Wall time: 8.43 s\n"
          ],
          "name": "stdout"
        }
      ]
    },
    {
      "cell_type": "code",
      "metadata": {
        "id": "Zmw3OngVbMDG",
        "colab_type": "code",
        "colab": {
          "base_uri": "https://localhost:8080/",
          "height": 35
        },
        "outputId": "7a5f070d-e86f-405a-e120-7fd6257bdb99"
      },
      "source": [
        "train_input[0].shape"
      ],
      "execution_count": 103,
      "outputs": [
        {
          "output_type": "execute_result",
          "data": {
            "text/plain": [
              "torch.Size([1521])"
            ]
          },
          "metadata": {
            "tags": []
          },
          "execution_count": 103
        }
      ]
    },
    {
      "cell_type": "markdown",
      "metadata": {
        "id": "Zf-DZ6Z8eJG-",
        "colab_type": "text"
      },
      "source": [
        "### Dataset Wrapper"
      ]
    },
    {
      "cell_type": "code",
      "metadata": {
        "id": "Xxfae7RVbh6Q",
        "colab_type": "code",
        "colab": {}
      },
      "source": [
        "class SentiMixDataSet(Dataset):\n",
        "    def __init__(self, inputs, labels):\n",
        "        self.inputs = inputs\n",
        "        self.labels = labels\n",
        "    \n",
        "    def __len__(self):\n",
        "        return len(self.inputs)\n",
        "\n",
        "    def __getitem__(self, idx):\n",
        "        return [self.inputs[idx],self.labels[idx]]\n"
      ],
      "execution_count": 106,
      "outputs": []
    },
    {
      "cell_type": "code",
      "metadata": {
        "id": "fZURqHbEbnUO",
        "colab_type": "code",
        "colab": {}
      },
      "source": [
        "train_dataset = SentiMixDataSet(train_input, train_label)\n",
        "val_dataset = SentiMixDataSet(val_input, val_label)\n",
        "test_dataset = SentiMixDataSet(test_input, test_label)"
      ],
      "execution_count": 107,
      "outputs": []
    },
    {
      "cell_type": "code",
      "metadata": {
        "id": "vltav2bCb5TW",
        "colab_type": "code",
        "colab": {
          "base_uri": "https://localhost:8080/",
          "height": 35
        },
        "outputId": "09d8283c-9ca5-450d-e49f-703f26f18446"
      },
      "source": [
        "# sample check\n",
        "train_dataset[0][0].shape, train_dataset[0][1]"
      ],
      "execution_count": 108,
      "outputs": [
        {
          "output_type": "execute_result",
          "data": {
            "text/plain": [
              "(torch.Size([1521]), 2)"
            ]
          },
          "metadata": {
            "tags": []
          },
          "execution_count": 108
        }
      ]
    },
    {
      "cell_type": "markdown",
      "metadata": {
        "id": "mj4XHFbVb_lb",
        "colab_type": "text"
      },
      "source": [
        "### Model Configurations"
      ]
    },
    {
      "cell_type": "code",
      "metadata": {
        "id": "9FBI41Szb68_",
        "colab_type": "code",
        "colab": {}
      },
      "source": [
        "input_dim = len(vocab)\n",
        "output_dim = 3\n",
        "h1 = 350\n",
        "h2 = 180\n",
        "NUM_EPOCHS = 20\n",
        "model_path = \"mlp.pt\""
      ],
      "execution_count": 109,
      "outputs": []
    },
    {
      "cell_type": "markdown",
      "metadata": {
        "id": "s9ohTmLlcEn_",
        "colab_type": "text"
      },
      "source": [
        "### MLP Model"
      ]
    },
    {
      "cell_type": "code",
      "metadata": {
        "id": "2pdc2kz7cCvu",
        "colab_type": "code",
        "colab": {}
      },
      "source": [
        "model = nn.Sequential(\n",
        "    nn.Linear(input_dim, h1),\n",
        "    nn.ReLU(),\n",
        "    nn.Linear(h1, h2),\n",
        "    nn.ReLU(),\n",
        "    nn.Linear(h2, output_dim),\n",
        "    nn.Softmax(dim=1)\n",
        ")"
      ],
      "execution_count": 124,
      "outputs": []
    },
    {
      "cell_type": "code",
      "metadata": {
        "id": "xbAwdqs4cGNO",
        "colab_type": "code",
        "colab": {
          "base_uri": "https://localhost:8080/",
          "height": 155
        },
        "outputId": "03fdf78e-b8db-4d0b-bb3b-d7fca046dabc"
      },
      "source": [
        "model"
      ],
      "execution_count": 125,
      "outputs": [
        {
          "output_type": "execute_result",
          "data": {
            "text/plain": [
              "Sequential(\n",
              "  (0): Linear(in_features=1521, out_features=350, bias=True)\n",
              "  (1): ReLU()\n",
              "  (2): Linear(in_features=350, out_features=180, bias=True)\n",
              "  (3): ReLU()\n",
              "  (4): Linear(in_features=180, out_features=3, bias=True)\n",
              "  (5): Softmax(dim=1)\n",
              ")"
            ]
          },
          "metadata": {
            "tags": []
          },
          "execution_count": 125
        }
      ]
    },
    {
      "cell_type": "markdown",
      "metadata": {
        "id": "8hS49QWlcJmA",
        "colab_type": "text"
      },
      "source": [
        "### Loss Criterion & Optimizer"
      ]
    },
    {
      "cell_type": "code",
      "metadata": {
        "id": "rQ1DhUEQcH0m",
        "colab_type": "code",
        "colab": {}
      },
      "source": [
        "criterion = nn.CrossEntropyLoss()\n",
        "optimizer = optim.SGD(model.parameters(), lr=0.001, momentum=0.9)"
      ],
      "execution_count": 126,
      "outputs": []
    },
    {
      "cell_type": "markdown",
      "metadata": {
        "id": "3HTf3YYKcPXP",
        "colab_type": "text"
      },
      "source": [
        "### DataLoaders"
      ]
    },
    {
      "cell_type": "code",
      "metadata": {
        "id": "4w-OgvRwcMmd",
        "colab_type": "code",
        "colab": {}
      },
      "source": [
        "BATCH_SIZE = 6\n",
        "\n",
        "train_loader = DataLoader(train_dataset, batch_size=BATCH_SIZE, shuffle=True, num_workers=2)\n",
        "val_loader = DataLoader(val_dataset, batch_size=BATCH_SIZE, shuffle=False, num_workers=2)\n",
        "test_loader = DataLoader(test_dataset, batch_size=BATCH_SIZE, shuffle=False, num_workers=2)"
      ],
      "execution_count": 115,
      "outputs": []
    },
    {
      "cell_type": "code",
      "metadata": {
        "id": "xkFxfd0QcRdT",
        "colab_type": "code",
        "colab": {}
      },
      "source": [
        "# sample check\n",
        "sample = next(iter(train_loader))"
      ],
      "execution_count": 116,
      "outputs": []
    },
    {
      "cell_type": "code",
      "metadata": {
        "id": "NXzcKfNxcWUv",
        "colab_type": "code",
        "colab": {
          "base_uri": "https://localhost:8080/",
          "height": 35
        },
        "outputId": "7bf9593a-9708-4bdf-afe2-5c80642e219e"
      },
      "source": [
        "sample[0].shape, sample[1].shape"
      ],
      "execution_count": 117,
      "outputs": [
        {
          "output_type": "execute_result",
          "data": {
            "text/plain": [
              "(torch.Size([6, 1521]), torch.Size([6]))"
            ]
          },
          "metadata": {
            "tags": []
          },
          "execution_count": 117
        }
      ]
    },
    {
      "cell_type": "markdown",
      "metadata": {
        "id": "7p6XnbHZcZWx",
        "colab_type": "text"
      },
      "source": [
        "### Training Method"
      ]
    },
    {
      "cell_type": "code",
      "metadata": {
        "id": "MS_6YaOJcXSA",
        "colab_type": "code",
        "colab": {}
      },
      "source": [
        "def train(iterator):\n",
        "    epoch_loss = 0\n",
        "    model.train()\n",
        "    for batch in iterator:\n",
        "        # get the inputs; data is a list of [inputs, labels]\n",
        "        inputs, labels = batch\n",
        "\n",
        "        # zero the parameter gradients\n",
        "        optimizer.zero_grad()\n",
        "\n",
        "        # forward + backward + optimize\n",
        "        outputs = model(inputs)\n",
        "        loss = criterion(outputs, labels)\n",
        "        loss.backward()\n",
        "        optimizer.step()\n",
        "\n",
        "        epoch_loss += loss.item()\n",
        "    return epoch_loss / len(iterator)"
      ],
      "execution_count": 118,
      "outputs": []
    },
    {
      "cell_type": "markdown",
      "metadata": {
        "id": "dQDnHALGceCD",
        "colab_type": "text"
      },
      "source": [
        "### Validation Method"
      ]
    },
    {
      "cell_type": "code",
      "metadata": {
        "id": "V-mdE1EjcbQX",
        "colab_type": "code",
        "colab": {}
      },
      "source": [
        "def simple_accuracy(preds, labels):\n",
        "    \"\"\"Takes in two lists of predicted labels and actual labels and returns the accuracy in the form of a float. \"\"\"\n",
        "    return np.equal(preds, labels).mean()"
      ],
      "execution_count": 119,
      "outputs": []
    },
    {
      "cell_type": "code",
      "metadata": {
        "id": "RGqEUuLIcgN0",
        "colab_type": "code",
        "colab": {}
      },
      "source": [
        "\n",
        "def evaluate(iterator):\n",
        "    epoch_loss = 0\n",
        "    model.eval()\n",
        "    preds = []\n",
        "    trgs = []\n",
        "    with torch.no_grad():\n",
        "        for batch in iterator:\n",
        "            # get the inputs; data is a list of [inputs, labels]\n",
        "            inputs, labels = batch\n",
        "\n",
        "            # forward + backward + optimize\n",
        "            outputs = model(inputs)\n",
        "            loss = criterion(outputs, labels)\n",
        "            \n",
        "            epoch_loss += loss.item()\n",
        "            trgs.extend(labels.numpy().tolist())\n",
        "            _, predicted = torch.max(outputs.data, 1)\n",
        "            preds.extend(predicted.numpy().tolist())\n",
        "    \n",
        "    return epoch_loss / len(iterator), simple_accuracy(preds, trgs)"
      ],
      "execution_count": 120,
      "outputs": []
    },
    {
      "cell_type": "code",
      "metadata": {
        "id": "WpzK_DhuciER",
        "colab_type": "code",
        "colab": {}
      },
      "source": [
        "def epoch_time(start_time, end_time):\n",
        "    elapsed_time = end_time - start_time\n",
        "    elapsed_mins = int(elapsed_time / 60)\n",
        "    elapsed_secs = elapsed_time - (elapsed_mins * 60)\n",
        "    return elapsed_mins, elapsed_secs\n"
      ],
      "execution_count": 121,
      "outputs": []
    },
    {
      "cell_type": "markdown",
      "metadata": {
        "id": "mLrySiqwcjtj",
        "colab_type": "text"
      },
      "source": [
        "### Model Training"
      ]
    },
    {
      "cell_type": "code",
      "metadata": {
        "id": "8LPNFm71cjOX",
        "colab_type": "code",
        "colab": {
          "base_uri": "https://localhost:8080/",
          "height": 708
        },
        "outputId": "32f48834-2e17-4931-cd56-a1937f4a9607"
      },
      "source": [
        "best_valid_loss = float('inf')\n",
        "for epoch in range(NUM_EPOCHS):\n",
        "    start_time = time.time()\n",
        "    train_loss = train(train_loader)\n",
        "    val_loss, val_acc = evaluate(val_loader)\n",
        "    end_time = time.time()\n",
        "    \n",
        "    epoch_mins, epoch_secs = epoch_time(start_time, end_time)\n",
        "    print(f\"Epoch: {epoch + 1:02} | Time: {epoch_mins}m {epoch_secs:.2f}s\")\n",
        "    print(f\"\\tTrain Loss: {train_loss:.3f} | Val Loss: {val_loss:.3f} | Val Acc: {val_acc:.3f}\")\n",
        "    \n",
        "    if val_loss < best_valid_loss:\n",
        "        best_valid_loss = val_loss\n",
        "        torch.save(model.state_dict(), model_path)"
      ],
      "execution_count": 127,
      "outputs": [
        {
          "output_type": "stream",
          "text": [
            "Epoch: 01 | Time: 0m 13.64s\n",
            "\tTrain Loss: 1.096 | Val Loss: 1.093 | Val Acc: 0.384\n",
            "Epoch: 02 | Time: 0m 13.62s\n",
            "\tTrain Loss: 1.093 | Val Loss: 1.091 | Val Acc: 0.384\n",
            "Epoch: 03 | Time: 0m 13.60s\n",
            "\tTrain Loss: 1.092 | Val Loss: 1.089 | Val Acc: 0.384\n",
            "Epoch: 04 | Time: 0m 13.38s\n",
            "\tTrain Loss: 1.089 | Val Loss: 1.085 | Val Acc: 0.385\n",
            "Epoch: 05 | Time: 0m 13.60s\n",
            "\tTrain Loss: 1.080 | Val Loss: 1.071 | Val Acc: 0.447\n",
            "Epoch: 06 | Time: 0m 13.23s\n",
            "\tTrain Loss: 1.055 | Val Loss: 1.037 | Val Acc: 0.504\n",
            "Epoch: 07 | Time: 0m 12.96s\n",
            "\tTrain Loss: 1.021 | Val Loss: 1.011 | Val Acc: 0.516\n",
            "Epoch: 08 | Time: 0m 13.69s\n",
            "\tTrain Loss: 0.998 | Val Loss: 0.993 | Val Acc: 0.530\n",
            "Epoch: 09 | Time: 0m 12.85s\n",
            "\tTrain Loss: 0.981 | Val Loss: 0.980 | Val Acc: 0.546\n",
            "Epoch: 10 | Time: 0m 12.93s\n",
            "\tTrain Loss: 0.966 | Val Loss: 0.970 | Val Acc: 0.551\n",
            "Epoch: 11 | Time: 0m 12.80s\n",
            "\tTrain Loss: 0.951 | Val Loss: 0.961 | Val Acc: 0.561\n",
            "Epoch: 12 | Time: 0m 12.73s\n",
            "\tTrain Loss: 0.938 | Val Loss: 0.956 | Val Acc: 0.573\n",
            "Epoch: 13 | Time: 0m 12.69s\n",
            "\tTrain Loss: 0.927 | Val Loss: 0.951 | Val Acc: 0.571\n",
            "Epoch: 14 | Time: 0m 12.63s\n",
            "\tTrain Loss: 0.916 | Val Loss: 0.949 | Val Acc: 0.571\n",
            "Epoch: 15 | Time: 0m 12.58s\n",
            "\tTrain Loss: 0.907 | Val Loss: 0.946 | Val Acc: 0.575\n",
            "Epoch: 16 | Time: 0m 12.67s\n",
            "\tTrain Loss: 0.899 | Val Loss: 0.947 | Val Acc: 0.578\n",
            "Epoch: 17 | Time: 0m 12.67s\n",
            "\tTrain Loss: 0.890 | Val Loss: 0.945 | Val Acc: 0.579\n",
            "Epoch: 18 | Time: 0m 12.58s\n",
            "\tTrain Loss: 0.882 | Val Loss: 0.948 | Val Acc: 0.576\n",
            "Epoch: 19 | Time: 0m 12.59s\n",
            "\tTrain Loss: 0.876 | Val Loss: 0.945 | Val Acc: 0.577\n",
            "Epoch: 20 | Time: 0m 12.67s\n",
            "\tTrain Loss: 0.869 | Val Loss: 0.953 | Val Acc: 0.570\n"
          ],
          "name": "stdout"
        }
      ]
    },
    {
      "cell_type": "code",
      "metadata": {
        "id": "ChLgj12YcnhW",
        "colab_type": "code",
        "colab": {
          "base_uri": "https://localhost:8080/",
          "height": 35
        },
        "outputId": "e86471cf-a834-4e55-d32c-668aebc94948"
      },
      "source": [
        "model.load_state_dict(torch.load(model_path))"
      ],
      "execution_count": 129,
      "outputs": [
        {
          "output_type": "execute_result",
          "data": {
            "text/plain": [
              "<All keys matched successfully>"
            ]
          },
          "metadata": {
            "tags": []
          },
          "execution_count": 129
        }
      ]
    },
    {
      "cell_type": "markdown",
      "metadata": {
        "id": "jFigMW42eCNT",
        "colab_type": "text"
      },
      "source": [
        "### Evaluation"
      ]
    },
    {
      "cell_type": "code",
      "metadata": {
        "id": "HK5-WoMbdt3k",
        "colab_type": "code",
        "colab": {
          "base_uri": "https://localhost:8080/",
          "height": 190
        },
        "outputId": "a58692bb-203b-4e65-e753-a3b4e0b39e87"
      },
      "source": [
        "with torch.no_grad():\n",
        "    model.eval()\n",
        "    preds = []\n",
        "    targets = []\n",
        "    for batch in test_loader:\n",
        "        inputs, labels = batch\n",
        "        outputs = model(inputs)\n",
        "        # get the predicted labels\n",
        "        _, predicted = torch.max(outputs.data, 1)\n",
        "        # Add data to lists\n",
        "        preds.extend(predicted.numpy().tolist())\n",
        "        targets.extend(labels.numpy().tolist())\n",
        "\n",
        "print(metrics.classification_report(targets, preds))"
      ],
      "execution_count": 133,
      "outputs": [
        {
          "output_type": "stream",
          "text": [
            "              precision    recall  f1-score   support\n",
            "\n",
            "           0       0.59      0.62      0.61       890\n",
            "           1       0.50      0.49      0.49      1128\n",
            "           2       0.65      0.64      0.65       982\n",
            "\n",
            "    accuracy                           0.58      3000\n",
            "   macro avg       0.58      0.58      0.58      3000\n",
            "weighted avg       0.58      0.58      0.58      3000\n",
            "\n"
          ],
          "name": "stdout"
        }
      ]
    },
    {
      "cell_type": "code",
      "metadata": {
        "id": "0T92-LcEd33s",
        "colab_type": "code",
        "colab": {}
      },
      "source": [
        "cm = metrics.confusion_matrix(targets, preds)"
      ],
      "execution_count": 135,
      "outputs": []
    },
    {
      "cell_type": "code",
      "metadata": {
        "id": "-G69oq_zhRbc",
        "colab_type": "code",
        "colab": {
          "base_uri": "https://localhost:8080/",
          "height": 282
        },
        "outputId": "93a179fa-575c-458a-b93e-1fcf36ce9b9e"
      },
      "source": [
        "sns.heatmap(cm, annot=True, fmt='')"
      ],
      "execution_count": 138,
      "outputs": [
        {
          "output_type": "execute_result",
          "data": {
            "text/plain": [
              "<matplotlib.axes._subplots.AxesSubplot at 0x7f4f9c2fff98>"
            ]
          },
          "metadata": {
            "tags": []
          },
          "execution_count": 138
        },
        {
          "output_type": "display_data",
          "data": {
            "image/png": "[encoded data removed]",
            "text/plain": [
              "<Figure size 432x288 with 2 Axes>"
            ]
          },
          "metadata": {
            "tags": [],
            "needs_background": "light"
          }
        }
      ]
    },
    {
      "cell_type": "code",
      "metadata": {
        "id": "oSSmxN6VhX7m",
        "colab_type": "code",
        "colab": {}
      },
      "source": [
        ""
      ],
      "execution_count": null,
      "outputs": []
    }
  ]
}