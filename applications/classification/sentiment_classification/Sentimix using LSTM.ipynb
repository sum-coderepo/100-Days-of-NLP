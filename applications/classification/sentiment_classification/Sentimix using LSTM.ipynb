{
  "nbformat": 4,
  "nbformat_minor": 0,
  "metadata": {
    "colab": {
      "name": "Sentimix using LSTM.ipynb",
      "provenance": [],
      "authorship_tag": "ABX9TyP5YGhgJo5BWBPtgRzk+il3",
      "include_colab_link": true
    },
    "kernelspec": {
      "name": "python3",
      "display_name": "Python 3"
    },
    "accelerator": "GPU"
  },
  "cells": [
    {
      "cell_type": "markdown",
      "metadata": {
        "id": "view-in-github",
        "colab_type": "text"
      },
      "source": [
        "<a href=\"https://colab.research.google.com/github/graviraja/100-Days-of-NLP/blob/applications%2Fclassification/applications/classification/sentiment_classification/Sentimix%20using%20LSTM.ipynb\" target=\"_parent\"><img src=\"https://colab.research.google.com/assets/colab-badge.svg\" alt=\"Open In Colab\"/></a>"
      ]
    },
    {
      "cell_type": "markdown",
      "metadata": {
        "id": "hk-2e9TGbqjb",
        "colab_type": "text"
      },
      "source": [
        "### Initial Setup"
      ]
    },
    {
      "cell_type": "code",
      "metadata": {
        "id": "X3PRIz4MNIeH",
        "colab_type": "code",
        "colab": {
          "base_uri": "https://localhost:8080/",
          "height": 122
        },
        "outputId": "2d86e328-3a70-4b71-ca64-2cf6c2e5199d"
      },
      "source": [
        "from google.colab import drive\n",
        "drive.mount('/content/drive')"
      ],
      "execution_count": 1,
      "outputs": [
        {
          "output_type": "stream",
          "text": [
            "Go to this URL in a browser: https://accounts.google.com/o/oauth2/auth?client_id=947318989803-6bn6qk8qdgf4n4g3pfee6491hc0brc4i.apps.googleusercontent.com&redirect_uri=urn%3aietf%3awg%3aoauth%3a2.0%3aoob&scope=email%20https%3a%2f%2fwww.googleapis.com%2fauth%2fdocs.test%20https%3a%2f%2fwww.googleapis.com%2fauth%2fdrive%20https%3a%2f%2fwww.googleapis.com%2fauth%2fdrive.photos.readonly%20https%3a%2f%2fwww.googleapis.com%2fauth%2fpeopleapi.readonly&response_type=code\n",
            "\n",
            "Enter your authorization code:\n",
            "··········\n",
            "Mounted at /content/drive\n"
          ],
          "name": "stdout"
        }
      ]
    },
    {
      "cell_type": "code",
      "metadata": {
        "id": "y-32oko7VGiO",
        "colab_type": "code",
        "colab": {
          "base_uri": "https://localhost:8080/",
          "height": 68
        },
        "outputId": "206fa4a7-c7fb-4b14-9568-dd7a0354cd66"
      },
      "source": [
        "!pip install contractions -q"
      ],
      "execution_count": 2,
      "outputs": [
        {
          "output_type": "stream",
          "text": [
            "\u001b[K     |████████████████████████████████| 317kB 3.9MB/s \n",
            "\u001b[K     |████████████████████████████████| 245kB 40.4MB/s \n",
            "\u001b[?25h  Building wheel for pyahocorasick (setup.py) ... \u001b[?25l\u001b[?25hdone\n"
          ],
          "name": "stdout"
        }
      ]
    },
    {
      "cell_type": "markdown",
      "metadata": {
        "id": "IY-7bk9weRQk",
        "colab_type": "text"
      },
      "source": [
        "Dataset can be found [here](https://github.com/gopalanvinay/thesis-vinay-gopalan)"
      ]
    },
    {
      "cell_type": "code",
      "metadata": {
        "id": "tI-AbaIrQbcV",
        "colab_type": "code",
        "colab": {}
      },
      "source": [
        "train_file = '/content/drive/My Drive/train_14k_split_conll.txt'\n",
        "test_file = '/content/drive/My Drive/dev_3k_split_conll.txt'"
      ],
      "execution_count": 3,
      "outputs": []
    },
    {
      "cell_type": "markdown",
      "metadata": {
        "id": "t2ZjhFUEZ5V1",
        "colab_type": "text"
      },
      "source": [
        "### Imports"
      ]
    },
    {
      "cell_type": "code",
      "metadata": {
        "id": "b9zNmcPjAJhX",
        "colab_type": "code",
        "colab": {}
      },
      "source": [
        "import re\n",
        "import time\n",
        "import string\n",
        "import contractions\n",
        "import numpy as np\n",
        "import pandas as pd\n",
        "\n",
        "from collections import Counter\n",
        "from sklearn.model_selection import train_test_split\n",
        "from sklearn import metrics\n",
        "\n",
        "import torch\n",
        "import torch.nn as nn\n",
        "import torch.optim as optim\n",
        "import torch.nn.functional as F\n",
        "from torch.optim.lr_scheduler import ReduceLROnPlateau\n",
        "\n",
        "from torch.utils.data import Dataset, DataLoader\n",
        "\n",
        "import matplotlib.pyplot as plt\n",
        "import seaborn as sns"
      ],
      "execution_count": 132,
      "outputs": []
    },
    {
      "cell_type": "code",
      "metadata": {
        "id": "ev7LpvzHC2tn",
        "colab_type": "code",
        "colab": {}
      },
      "source": [
        "with open(train_file) as f:\n",
        "    data = f.readlines()"
      ],
      "execution_count": 5,
      "outputs": []
    },
    {
      "cell_type": "code",
      "metadata": {
        "id": "mTHj_NUkVx0m",
        "colab_type": "code",
        "colab": {}
      },
      "source": [
        "with open(test_file, 'r') as f:\n",
        "    test_data = f.readlines()"
      ],
      "execution_count": 6,
      "outputs": []
    },
    {
      "cell_type": "code",
      "metadata": {
        "id": "XK63TG3hMtMl",
        "colab_type": "code",
        "colab": {
          "base_uri": "https://localhost:8080/",
          "height": 34
        },
        "outputId": "3bc7ad9b-7c94-4e33-fcc0-a82d59f1fe87"
      },
      "source": [
        "device = torch.device('cuda' if torch.cuda.is_available() else 'cpu')\n",
        "device"
      ],
      "execution_count": 49,
      "outputs": [
        {
          "output_type": "execute_result",
          "data": {
            "text/plain": [
              "device(type='cuda')"
            ]
          },
          "metadata": {
            "tags": []
          },
          "execution_count": 49
        }
      ]
    },
    {
      "cell_type": "markdown",
      "metadata": {
        "id": "G7R1R-KsZzGv",
        "colab_type": "text"
      },
      "source": [
        "### Data Parsing"
      ]
    },
    {
      "cell_type": "code",
      "metadata": {
        "id": "sRJbb8s3DWkC",
        "colab_type": "code",
        "colab": {}
      },
      "source": [
        "def parse_data(data):\n",
        "    sentences, sentences_info, sentiment = [], [], []\n",
        "    all_langs = []\n",
        "    \n",
        "    single_sentence, single_sentence_info = [], []\n",
        "    sent = \"\"\n",
        "    \n",
        "    for idx, each_line in enumerate(data):\n",
        "        line = each_line.strip()\n",
        "        tokens = line.split('\\t')\n",
        "        num_tokens = len(tokens)\n",
        "        if num_tokens == 2:\n",
        "            # add the word\n",
        "            single_sentence.append(tokens[0])\n",
        "            # add the word info(lang)\n",
        "            single_sentence_info.append(tokens[1])\n",
        "            all_langs.append(tokens[1])\n",
        "        elif num_tokens == 3 and idx > 0:\n",
        "            # append the sentence data\n",
        "            sentences.append(single_sentence)\n",
        "            sentences_info.append(single_sentence_info)\n",
        "            sentiment.append(sent)\n",
        "            sent = tokens[-1]\n",
        "            # clear the single sentence\n",
        "            single_sentence = []\n",
        "            single_sentence_info = []\n",
        "        # new line after the sentence\n",
        "        elif num_tokens == 1:\n",
        "            continue\n",
        "        else:\n",
        "            sent = tokens[-1]\n",
        "    # for the last sentence\n",
        "    if len(single_sentence) > 0:\n",
        "        sentences.append(single_sentence)\n",
        "        sentences_info.append(single_sentence_info)\n",
        "        sentiment.append(sent)\n",
        "        \n",
        "    assert len(sentences) == len(sentences_info) == len(sentiment)\n",
        "    return sentences, sentences_info, sentiment, all_langs"
      ],
      "execution_count": 7,
      "outputs": []
    },
    {
      "cell_type": "code",
      "metadata": {
        "id": "58fx0BGMDXgT",
        "colab_type": "code",
        "colab": {}
      },
      "source": [
        "sentences, sentences_info, sentiment, all_langs = parse_data(data)"
      ],
      "execution_count": 8,
      "outputs": []
    },
    {
      "cell_type": "code",
      "metadata": {
        "id": "4qM0Z_yvDa1M",
        "colab_type": "code",
        "colab": {
          "base_uri": "https://localhost:8080/",
          "height": 527
        },
        "outputId": "7b5466bb-c312-4dbd-a615-ef702452f306"
      },
      "source": [
        "data[:30]"
      ],
      "execution_count": 9,
      "outputs": [
        {
          "output_type": "execute_result",
          "data": {
            "text/plain": [
              "['meta\\t4330\\tneutral\\n',\n",
              " 'nen\\tEng\\n',\n",
              " 'á\\tO\\n',\n",
              " 'vist\\tEng\\n',\n",
              " 'bolest\\tEng\\n',\n",
              " 'vztek\\tEng\\n',\n",
              " 'smutek\\tEng\\n',\n",
              " 'zmatek\\tHin\\n',\n",
              " 'osam\\tHin\\n',\n",
              " 'ě\\tO\\n',\n",
              " 'lost\\tEng\\n',\n",
              " 'beznad\\tEng\\n',\n",
              " 'ě\\tO\\n',\n",
              " 'j\\tHin\\n',\n",
              " 'a\\tEng\\n',\n",
              " 'nakonec\\tEng\\n',\n",
              " 'jen\\tHin\\n',\n",
              " 'klid\\tHin\\n',\n",
              " 'Asi\\tHin\\n',\n",
              " 'takhle\\tHin\\n',\n",
              " 'vypad\\tHin\\n',\n",
              " 'á\\tO\\n',\n",
              " 'm\\tHin\\n',\n",
              " 'ů\\tO\\n',\n",
              " 'j\\tEng\\n',\n",
              " 'life\\tEng\\n',\n",
              " '...\\tO\\n',\n",
              " '\\n',\n",
              " 'meta\\t41616\\tneutral\\n',\n",
              " '@\\tO\\n']"
            ]
          },
          "metadata": {
            "tags": []
          },
          "execution_count": 9
        }
      ]
    },
    {
      "cell_type": "code",
      "metadata": {
        "id": "BPIDrNPEV_Pw",
        "colab_type": "code",
        "colab": {}
      },
      "source": [
        "test_sentences, test_sentences_info, test_sentiment, test_all_langs = parse_data(test_data)"
      ],
      "execution_count": 10,
      "outputs": []
    },
    {
      "cell_type": "code",
      "metadata": {
        "id": "3Fsd6Eq3DZGT",
        "colab_type": "code",
        "colab": {
          "base_uri": "https://localhost:8080/",
          "height": 34
        },
        "outputId": "ee30d6cb-5670-44fe-e828-bafdbd6d620a"
      },
      "source": [
        "len(sentiment)"
      ],
      "execution_count": 11,
      "outputs": [
        {
          "output_type": "execute_result",
          "data": {
            "text/plain": [
              "14000"
            ]
          },
          "metadata": {
            "tags": []
          },
          "execution_count": 11
        }
      ]
    },
    {
      "cell_type": "markdown",
      "metadata": {
        "id": "6N6WNOUqZkif",
        "colab_type": "text"
      },
      "source": [
        "### Data Exploration"
      ]
    },
    {
      "cell_type": "code",
      "metadata": {
        "id": "EIfbCARYUF01",
        "colab_type": "code",
        "colab": {
          "base_uri": "https://localhost:8080/",
          "height": 282
        },
        "outputId": "9d492535-76f6-453f-e50c-b1959b69fc76"
      },
      "source": [
        "sns.countplot(all_langs)"
      ],
      "execution_count": 12,
      "outputs": [
        {
          "output_type": "execute_result",
          "data": {
            "text/plain": [
              "<matplotlib.axes._subplots.AxesSubplot at 0x7f0e4eab5eb8>"
            ]
          },
          "metadata": {
            "tags": []
          },
          "execution_count": 12
        },
        {
          "output_type": "display_data",
          "data": {
            "image/png": "[encoded data removed]",
            "text/plain": [
              "<Figure size 432x288 with 1 Axes>"
            ]
          },
          "metadata": {
            "tags": [],
            "needs_background": "light"
          }
        }
      ]
    },
    {
      "cell_type": "code",
      "metadata": {
        "id": "49lMosdbUMj1",
        "colab_type": "code",
        "colab": {
          "base_uri": "https://localhost:8080/",
          "height": 282
        },
        "outputId": "da82e173-38a8-4da3-9f60-19fc6ae4ffe2"
      },
      "source": [
        "sns.countplot(sentiment)"
      ],
      "execution_count": 13,
      "outputs": [
        {
          "output_type": "execute_result",
          "data": {
            "text/plain": [
              "<matplotlib.axes._subplots.AxesSubplot at 0x7f0e4e58edd8>"
            ]
          },
          "metadata": {
            "tags": []
          },
          "execution_count": 13
        },
        {
          "output_type": "display_data",
          "data": {
            "image/png": "[encoded data removed]",
            "text/plain": [
              "<Figure size 432x288 with 1 Axes>"
            ]
          },
          "metadata": {
            "tags": [],
            "needs_background": "light"
          }
        }
      ]
    },
    {
      "cell_type": "code",
      "metadata": {
        "id": "OnQ8LUXgUOvL",
        "colab_type": "code",
        "colab": {
          "base_uri": "https://localhost:8080/",
          "height": 34
        },
        "outputId": "44d482ca-06e6-4d75-f790-c2e86df15422"
      },
      "source": [
        "set(sentiment)"
      ],
      "execution_count": 14,
      "outputs": [
        {
          "output_type": "execute_result",
          "data": {
            "text/plain": [
              "{'negative', 'neutral', 'positive'}"
            ]
          },
          "metadata": {
            "tags": []
          },
          "execution_count": 14
        }
      ]
    },
    {
      "cell_type": "code",
      "metadata": {
        "id": "WprvaUZtUR0m",
        "colab_type": "code",
        "colab": {}
      },
      "source": [
        "sent_num_tokens = [len(sent) for sent in sentences]"
      ],
      "execution_count": 15,
      "outputs": []
    },
    {
      "cell_type": "code",
      "metadata": {
        "id": "ZGKnYPtIUUcQ",
        "colab_type": "code",
        "colab": {
          "base_uri": "https://localhost:8080/",
          "height": 337
        },
        "outputId": "600df5e8-8575-4e79-8ac2-9ede16610007"
      },
      "source": [
        "plt.figure(figsize=(15, 5))\n",
        "sns.countplot(sent_num_tokens)"
      ],
      "execution_count": 16,
      "outputs": [
        {
          "output_type": "execute_result",
          "data": {
            "text/plain": [
              "<matplotlib.axes._subplots.AxesSubplot at 0x7f0e4e031550>"
            ]
          },
          "metadata": {
            "tags": []
          },
          "execution_count": 16
        },
        {
          "output_type": "display_data",
          "data": {
            "image/png": "[encoded data removed]",
            "text/plain": [
              "<Figure size 1080x360 with 1 Axes>"
            ]
          },
          "metadata": {
            "tags": [],
            "needs_background": "light"
          }
        }
      ]
    },
    {
      "cell_type": "code",
      "metadata": {
        "id": "Joo0mQ6eUXMQ",
        "colab_type": "code",
        "colab": {
          "base_uri": "https://localhost:8080/",
          "height": 510
        },
        "outputId": "c5473fff-d244-4d9d-ac01-29241e6c210e"
      },
      "source": [
        "sentences[10]"
      ],
      "execution_count": 17,
      "outputs": [
        {
          "output_type": "execute_result",
          "data": {
            "text/plain": [
              "['@',\n",
              " 'ECISVEEP',\n",
              " 'Can',\n",
              " 'you',\n",
              " 'answer',\n",
              " 'miscalculated',\n",
              " 'votes',\n",
              " 'on',\n",
              " 'each',\n",
              " 'seat',\n",
              " '?',\n",
              " 'One',\n",
              " 'vote',\n",
              " 'matters',\n",
              " '!',\n",
              " '#',\n",
              " 'deshkamahatyohar',\n",
              " 'hai',\n",
              " 'aur',\n",
              " 'apne',\n",
              " 'dhji',\n",
              " '…',\n",
              " 'https',\n",
              " '//',\n",
              " 't',\n",
              " '.',\n",
              " 'co',\n",
              " '/',\n",
              " 'SuHS4mx6Dm']"
            ]
          },
          "metadata": {
            "tags": []
          },
          "execution_count": 17
        }
      ]
    },
    {
      "cell_type": "code",
      "metadata": {
        "id": "5FaMfnkeUaCS",
        "colab_type": "code",
        "colab": {
          "base_uri": "https://localhost:8080/",
          "height": 510
        },
        "outputId": "e63081c5-3ea5-4294-e7bb-3a07fa5dce59"
      },
      "source": [
        "sentences_info[10]"
      ],
      "execution_count": 18,
      "outputs": [
        {
          "output_type": "execute_result",
          "data": {
            "text/plain": [
              "['O',\n",
              " 'Eng',\n",
              " 'Eng',\n",
              " 'Eng',\n",
              " 'Eng',\n",
              " 'Eng',\n",
              " 'Eng',\n",
              " 'Eng',\n",
              " 'Eng',\n",
              " 'Eng',\n",
              " 'O',\n",
              " 'Eng',\n",
              " 'Eng',\n",
              " 'Hin',\n",
              " 'O',\n",
              " 'O',\n",
              " 'Hin',\n",
              " 'Hin',\n",
              " 'Hin',\n",
              " 'Hin',\n",
              " 'Eng',\n",
              " 'O',\n",
              " 'Eng',\n",
              " 'O',\n",
              " 'Eng',\n",
              " 'O',\n",
              " 'Hin',\n",
              " 'O',\n",
              " 'Hin']"
            ]
          },
          "metadata": {
            "tags": []
          },
          "execution_count": 18
        }
      ]
    },
    {
      "cell_type": "code",
      "metadata": {
        "id": "fUwzn0R6Ui8w",
        "colab_type": "code",
        "colab": {
          "base_uri": "https://localhost:8080/",
          "height": 35
        },
        "outputId": "27f4764f-bda2-442c-c891-559e501e9ae8"
      },
      "source": [
        "sentiment[0]"
      ],
      "execution_count": 19,
      "outputs": [
        {
          "output_type": "execute_result",
          "data": {
            "application/vnd.google.colaboratory.intrinsic+json": {
              "type": "string"
            },
            "text/plain": [
              "'neutral'"
            ]
          },
          "metadata": {
            "tags": []
          },
          "execution_count": 19
        }
      ]
    },
    {
      "cell_type": "markdown",
      "metadata": {
        "id": "Lo5w-_VTZqJT",
        "colab_type": "text"
      },
      "source": [
        "### Data Cleaning"
      ]
    },
    {
      "cell_type": "code",
      "metadata": {
        "id": "xx8Dsop6UnFZ",
        "colab_type": "code",
        "colab": {}
      },
      "source": [
        "url_pattern = r'https(.*)/\\s\\w+'\n",
        "special_chars = r'[_…\\*\\[\\]\\(\\)&“]'\n",
        "names_with_numbers = r'([A-Za-z]+)\\d{3,}'\n",
        "apostee = r\"([\\w]+)\\s'\\s([\\w]+)\"\n",
        "names = r\"@[\\s]*[\\w]+[\\s]*[_]+[\\s]*[\\w]+|@[\\s]*[\\w]+\"\n",
        "\n",
        "def preprocess_data(sentence_tokens):\n",
        "    sentence = \" \".join(sentence_tokens)\n",
        "    sentence = \" \" + sentence\n",
        "    # remove rt and … from string\n",
        "    sentence = sentence.replace(\" RT \", \"\")\n",
        "    sentence = sentence.replace(\"…\", \"\")\n",
        "    # replace apostee\n",
        "    sentence = sentence.replace(\"’\", \"'\")\n",
        "    # replace names\n",
        "    sentence = re.sub(re.compile(names), \" \", sentence)\n",
        "    # remove special chars\n",
        "    # sentence = re.sub(re.compile(special_chars), \"\", sentence)\n",
        "    # remove urls\n",
        "    sentence = re.sub(re.compile(url_pattern), \"\", sentence)\n",
        "    ## remove duplicate characters\n",
        "    # sentence = re.sub(r\"(.)\\1{3,}\", r'\\1', sentence)\n",
        "    # combine only ' related words => ... it ' s ... -> ... it's ...\n",
        "    sentence = re.sub(re.compile(apostee), r\"\\1'\\2\", sentence)\n",
        "    # fix contractions\n",
        "    sentence = contractions.fix(sentence)\n",
        "    # replace names ending with numbers with only names (remove numbers)\n",
        "    sentence = re.sub(re.compile(names_with_numbers), r\" \", sentence)\n",
        "    ## consider only printable chars (many greek, urdu, hindi chars are there)\n",
        "    # sentence = [ch for ch in sentence if ch in string.printable]\n",
        "    # sentence = \"\".join(sentence).strip()\n",
        "    sentence = \" \".join(sentence.split()).strip()\n",
        "    return sentence"
      ],
      "execution_count": 20,
      "outputs": []
    },
    {
      "cell_type": "code",
      "metadata": {
        "id": "GfbWaN1UVS7u",
        "colab_type": "code",
        "colab": {
          "base_uri": "https://localhost:8080/",
          "height": 71
        },
        "outputId": "b9844654-a123-4a61-814e-425ed181733e"
      },
      "source": [
        "\" \".join(sentences[1]), sentiment[1]"
      ],
      "execution_count": 21,
      "outputs": [
        {
          "output_type": "execute_result",
          "data": {
            "text/plain": [
              "('@ nehantics Haan yaar neha 😔😔 kab karega woh post 😭 Usne na sach mein photoshoot karna chahiye phir woh post karega … https // tco / 5RSlSbZNtt',\n",
              " 'neutral')"
            ]
          },
          "metadata": {
            "tags": []
          },
          "execution_count": 21
        }
      ]
    },
    {
      "cell_type": "code",
      "metadata": {
        "id": "GZEdoQguVVua",
        "colab_type": "code",
        "colab": {
          "base_uri": "https://localhost:8080/",
          "height": 35
        },
        "outputId": "9329ed70-f958-4c5c-e152-b53439f13984"
      },
      "source": [
        "preprocess_data(sentences[1])"
      ],
      "execution_count": 22,
      "outputs": [
        {
          "output_type": "execute_result",
          "data": {
            "application/vnd.google.colaboratory.intrinsic+json": {
              "type": "string"
            },
            "text/plain": [
              "'Haan yaar neha 😔😔 kab karega woh post 😭 Usne na sach mein photoshoot karna chahiye phir woh post karega'"
            ]
          },
          "metadata": {
            "tags": []
          },
          "execution_count": 22
        }
      ]
    },
    {
      "cell_type": "code",
      "metadata": {
        "id": "CDs7Ll0xVXmT",
        "colab_type": "code",
        "colab": {
          "base_uri": "https://localhost:8080/",
          "height": 51
        },
        "outputId": "944af5c9-0237-4d00-9996-e8470a8c6eb0"
      },
      "source": [
        "\" \".join(sentences[29]), sentiment[29]"
      ],
      "execution_count": 23,
      "outputs": [
        {
          "output_type": "execute_result",
          "data": {
            "text/plain": [
              "('Madam @ SushmaSwaraj ji we always miss you as a # videsh _ mantri',\n",
              " 'positive')"
            ]
          },
          "metadata": {
            "tags": []
          },
          "execution_count": 23
        }
      ]
    },
    {
      "cell_type": "code",
      "metadata": {
        "id": "56C4jG5kVaQW",
        "colab_type": "code",
        "colab": {
          "base_uri": "https://localhost:8080/",
          "height": 35
        },
        "outputId": "5a3998ed-7864-4d54-9b47-3e77832cde60"
      },
      "source": [
        "preprocess_data(sentences[29])"
      ],
      "execution_count": 24,
      "outputs": [
        {
          "output_type": "execute_result",
          "data": {
            "application/vnd.google.colaboratory.intrinsic+json": {
              "type": "string"
            },
            "text/plain": [
              "'Madam ji we always miss you as a # videsh _ mantri'"
            ]
          },
          "metadata": {
            "tags": []
          },
          "execution_count": 24
        }
      ]
    },
    {
      "cell_type": "code",
      "metadata": {
        "id": "Yud-i8-cVcVq",
        "colab_type": "code",
        "colab": {
          "base_uri": "https://localhost:8080/",
          "height": 71
        },
        "outputId": "3954a1a8-73c0-4d75-bd1d-cced8b137f05"
      },
      "source": [
        "\" \".join(sentences[10]), sentiment[10]"
      ],
      "execution_count": 25,
      "outputs": [
        {
          "output_type": "execute_result",
          "data": {
            "text/plain": [
              "('@ ECISVEEP Can you answer miscalculated votes on each seat ? One vote matters ! # deshkamahatyohar hai aur apne dhji … https // t . co / SuHS4mx6Dm',\n",
              " 'neutral')"
            ]
          },
          "metadata": {
            "tags": []
          },
          "execution_count": 25
        }
      ]
    },
    {
      "cell_type": "code",
      "metadata": {
        "id": "rvF985NFVgdQ",
        "colab_type": "code",
        "colab": {
          "base_uri": "https://localhost:8080/",
          "height": 35
        },
        "outputId": "ba864dc6-17c4-421e-e009-9d151bc9ffa4"
      },
      "source": [
        "preprocess_data(sentences[10])"
      ],
      "execution_count": 26,
      "outputs": [
        {
          "output_type": "execute_result",
          "data": {
            "application/vnd.google.colaboratory.intrinsic+json": {
              "type": "string"
            },
            "text/plain": [
              "'Can you answer miscalculated votes on each seat ? One vote matters ! # deshkamahatyohar hai aur apne dhji'"
            ]
          },
          "metadata": {
            "tags": []
          },
          "execution_count": 26
        }
      ]
    },
    {
      "cell_type": "code",
      "metadata": {
        "id": "DufJNfWEVi-o",
        "colab_type": "code",
        "colab": {
          "base_uri": "https://localhost:8080/",
          "height": 51
        },
        "outputId": "95c83aea-224a-4e42-eafa-0594020044d0"
      },
      "source": [
        "%%time\n",
        "processed_sentences = []\n",
        "\n",
        "for sent in sentences:\n",
        "    processed_sentences.append(preprocess_data(sent))"
      ],
      "execution_count": 27,
      "outputs": [
        {
          "output_type": "stream",
          "text": [
            "CPU times: user 721 ms, sys: 1.04 ms, total: 722 ms\n",
            "Wall time: 723 ms\n"
          ],
          "name": "stdout"
        }
      ]
    },
    {
      "cell_type": "code",
      "metadata": {
        "id": "SM7QJcUEVmmw",
        "colab_type": "code",
        "colab": {
          "base_uri": "https://localhost:8080/",
          "height": 51
        },
        "outputId": "cd59e1b9-85b8-4678-a5f2-12e29f6c6ee2"
      },
      "source": [
        "%%time\n",
        "test_data = []\n",
        "\n",
        "for sent in test_sentences:\n",
        "    test_data.append(preprocess_data(sent))"
      ],
      "execution_count": 28,
      "outputs": [
        {
          "output_type": "stream",
          "text": [
            "CPU times: user 153 ms, sys: 0 ns, total: 153 ms\n",
            "Wall time: 154 ms\n"
          ],
          "name": "stdout"
        }
      ]
    },
    {
      "cell_type": "code",
      "metadata": {
        "id": "nGmKDpOPYrCu",
        "colab_type": "code",
        "colab": {}
      },
      "source": [
        "sentiment_mapping = {\n",
        "    \"negative\": 0,\n",
        "    \"neutral\": 1,\n",
        "    \"positive\": 2\n",
        "}"
      ],
      "execution_count": 29,
      "outputs": []
    },
    {
      "cell_type": "code",
      "metadata": {
        "id": "SzrNIirpYygm",
        "colab_type": "code",
        "colab": {}
      },
      "source": [
        "labels = [sentiment_mapping[sent] for sent in sentiment]\n",
        "test_label = [sentiment_mapping[sent] for sent in test_sentiment]"
      ],
      "execution_count": 30,
      "outputs": []
    },
    {
      "cell_type": "markdown",
      "metadata": {
        "id": "wRHN41iSaA8S",
        "colab_type": "text"
      },
      "source": [
        "### Train-Val-Test Splits"
      ]
    },
    {
      "cell_type": "code",
      "metadata": {
        "id": "srl2_Y8YYZfK",
        "colab_type": "code",
        "colab": {}
      },
      "source": [
        "train_data, val_data, train_label, val_label = train_test_split(processed_sentences, labels, test_size=0.2)"
      ],
      "execution_count": 31,
      "outputs": []
    },
    {
      "cell_type": "code",
      "metadata": {
        "id": "Z1NYPijBaNH_",
        "colab_type": "code",
        "colab": {
          "base_uri": "https://localhost:8080/",
          "height": 34
        },
        "outputId": "d355ccbf-e0bc-4e66-aa4f-6bf522e2392e"
      },
      "source": [
        "len(train_data), len(val_data), len(test_data)"
      ],
      "execution_count": 32,
      "outputs": [
        {
          "output_type": "execute_result",
          "data": {
            "text/plain": [
              "(11200, 2800, 3000)"
            ]
          },
          "metadata": {
            "tags": []
          },
          "execution_count": 32
        }
      ]
    },
    {
      "cell_type": "markdown",
      "metadata": {
        "id": "6kV6QZzxahas",
        "colab_type": "text"
      },
      "source": [
        "### Train-Val-Test Distributions"
      ]
    },
    {
      "cell_type": "code",
      "metadata": {
        "id": "7oEAb6FpaauD",
        "colab_type": "code",
        "colab": {
          "base_uri": "https://localhost:8080/",
          "height": 301
        },
        "outputId": "fdbac47b-75df-42b8-c449-37427272922a"
      },
      "source": [
        "sns.countplot(train_label)\n",
        "plt.xlabel('Training Data', fontsize=16)"
      ],
      "execution_count": 33,
      "outputs": [
        {
          "output_type": "execute_result",
          "data": {
            "text/plain": [
              "Text(0.5, 0, 'Training Data')"
            ]
          },
          "metadata": {
            "tags": []
          },
          "execution_count": 33
        },
        {
          "output_type": "display_data",
          "data": {
            "image/png": "[encoded data removed]",
            "text/plain": [
              "<Figure size 432x288 with 1 Axes>"
            ]
          },
          "metadata": {
            "tags": [],
            "needs_background": "light"
          }
        }
      ]
    },
    {
      "cell_type": "code",
      "metadata": {
        "id": "U2jGVf-Gams7",
        "colab_type": "code",
        "colab": {
          "base_uri": "https://localhost:8080/",
          "height": 301
        },
        "outputId": "a0a0a6c2-f6ed-409c-97e2-fd16a0cc0e78"
      },
      "source": [
        "sns.countplot(val_label)\n",
        "plt.xlabel('Validation Data', fontsize=16)"
      ],
      "execution_count": 34,
      "outputs": [
        {
          "output_type": "execute_result",
          "data": {
            "text/plain": [
              "Text(0.5, 0, 'Validation Data')"
            ]
          },
          "metadata": {
            "tags": []
          },
          "execution_count": 34
        },
        {
          "output_type": "display_data",
          "data": {
            "image/png": "[encoded data removed]",
            "text/plain": [
              "<Figure size 432x288 with 1 Axes>"
            ]
          },
          "metadata": {
            "tags": [],
            "needs_background": "light"
          }
        }
      ]
    },
    {
      "cell_type": "code",
      "metadata": {
        "id": "8pJ7tEnaap6e",
        "colab_type": "code",
        "colab": {
          "base_uri": "https://localhost:8080/",
          "height": 301
        },
        "outputId": "017534e9-af2b-4ab0-d181-29e661c65c5d"
      },
      "source": [
        "sns.countplot(test_label)\n",
        "plt.xlabel('Testing Data', fontsize=16)"
      ],
      "execution_count": 35,
      "outputs": [
        {
          "output_type": "execute_result",
          "data": {
            "text/plain": [
              "Text(0.5, 0, 'Testing Data')"
            ]
          },
          "metadata": {
            "tags": []
          },
          "execution_count": 35
        },
        {
          "output_type": "display_data",
          "data": {
            "image/png": "[encoded data removed]",
            "text/plain": [
              "<Figure size 432x288 with 1 Axes>"
            ]
          },
          "metadata": {
            "tags": [],
            "needs_background": "light"
          }
        }
      ]
    },
    {
      "cell_type": "markdown",
      "metadata": {
        "id": "3WBAj2ZKbZgT",
        "colab_type": "text"
      },
      "source": [
        "### Vocabulary"
      ]
    },
    {
      "cell_type": "code",
      "metadata": {
        "id": "IClOtTgnUVFK",
        "colab_type": "code",
        "colab": {}
      },
      "source": [
        "class Vocabulary(object):\n",
        "    def __init__(self):\n",
        "        self.word2idx = {}\n",
        "        self.idx2word = {}\n",
        "        self.idx = 0\n",
        "\n",
        "    def add_word(self, word):\n",
        "        if not word in self.word2idx:\n",
        "            self.word2idx[word] = self.idx\n",
        "            self.idx2word[self.idx] = word\n",
        "            self.idx += 1\n",
        "\n",
        "    def __call__(self, word):\n",
        "        if not word in self.word2idx:\n",
        "            return self.word2idx['<unk>']\n",
        "        return self.word2idx[word]\n",
        "\n",
        "    def __len__(self):\n",
        "        return len(self.word2idx)"
      ],
      "execution_count": 74,
      "outputs": []
    },
    {
      "cell_type": "code",
      "metadata": {
        "id": "bsTQzM7ParpY",
        "colab_type": "code",
        "colab": {}
      },
      "source": [
        "def build_vocab(sentences, threshold=15):\n",
        "    \"\"\"Build a simple vocabulary wrapper.\"\"\"\n",
        "    counter = Counter()\n",
        "    for i, sent in enumerate(sentences):\n",
        "        counter.update(sent.split())\n",
        "\n",
        "    # If the word frequency is less than 'threshold', then the word is discarded.\n",
        "    words = [word for word, cnt in counter.items() if cnt >= threshold]\n",
        "\n",
        "    # Create a vocab wrapper and add some special tokens.\n",
        "    vocab = Vocabulary()\n",
        "    vocab.add_word('<pad>')\n",
        "    vocab.add_word('<start>')\n",
        "    vocab.add_word('<end>')\n",
        "    vocab.add_word('<unk>')\n",
        "\n",
        "    # Add the words to the vocabulary.\n",
        "    for i, word in enumerate(words):\n",
        "        vocab.add_word(word)\n",
        "    return vocab"
      ],
      "execution_count": 77,
      "outputs": []
    },
    {
      "cell_type": "code",
      "metadata": {
        "id": "KxYxyz_4a2t3",
        "colab_type": "code",
        "colab": {}
      },
      "source": [
        "vocab = build_vocab(train_data)"
      ],
      "execution_count": 78,
      "outputs": []
    },
    {
      "cell_type": "code",
      "metadata": {
        "id": "dyoCsZika72x",
        "colab_type": "code",
        "colab": {
          "base_uri": "https://localhost:8080/",
          "height": 34
        },
        "outputId": "a5d285a2-0fdf-4fbf-adfb-8ab5566db0d9"
      },
      "source": [
        "len(vocab)"
      ],
      "execution_count": 116,
      "outputs": [
        {
          "output_type": "execute_result",
          "data": {
            "text/plain": [
              "1630"
            ]
          },
          "metadata": {
            "tags": []
          },
          "execution_count": 116
        }
      ]
    },
    {
      "cell_type": "markdown",
      "metadata": {
        "id": "Zf-DZ6Z8eJG-",
        "colab_type": "text"
      },
      "source": [
        "### Dataset Wrapper"
      ]
    },
    {
      "cell_type": "code",
      "metadata": {
        "id": "Xxfae7RVbh6Q",
        "colab_type": "code",
        "colab": {}
      },
      "source": [
        "class SentiMixDataSet(Dataset):\n",
        "    def __init__(self, inputs, labels):\n",
        "        self.sentences = inputs\n",
        "        self.labels = labels\n",
        "    \n",
        "    def __len__(self):\n",
        "        return len(self.labels)\n",
        "    \n",
        "    def __getitem__(self, item):\n",
        "        sentence = self.sentences[item]\n",
        "        sentiment = int(self.labels[item])\n",
        "        \n",
        "        tokens = []\n",
        "        tokens.append(vocab('<start>'))\n",
        "        for tok in sentence.split():\n",
        "            tokens.append(vocab(tok))\n",
        "        tokens.append(vocab('<end>'))\n",
        "        return torch.LongTensor(tokens), sentiment"
      ],
      "execution_count": 80,
      "outputs": []
    },
    {
      "cell_type": "code",
      "metadata": {
        "id": "fZURqHbEbnUO",
        "colab_type": "code",
        "colab": {}
      },
      "source": [
        "train_dataset = SentiMixDataSet(train_data, train_label)\n",
        "val_dataset = SentiMixDataSet(val_data, val_label)\n",
        "test_dataset = SentiMixDataSet(test_data, test_label)"
      ],
      "execution_count": 81,
      "outputs": []
    },
    {
      "cell_type": "code",
      "metadata": {
        "id": "vltav2bCb5TW",
        "colab_type": "code",
        "colab": {
          "base_uri": "https://localhost:8080/",
          "height": 51
        },
        "outputId": "4a5eeb5f-b182-43e6-dd3b-a5dd878287b5"
      },
      "source": [
        "# sample check\n",
        "train_dataset[0]"
      ],
      "execution_count": 83,
      "outputs": [
        {
          "output_type": "execute_result",
          "data": {
            "text/plain": [
              "(tensor([ 1,  3,  4,  5,  3,  6,  7,  3,  3,  7,  3,  4,  8,  9, 10, 11, 12, 13,\n",
              "          7, 14, 15, 16,  2]), 1)"
            ]
          },
          "metadata": {
            "tags": []
          },
          "execution_count": 83
        }
      ]
    },
    {
      "cell_type": "markdown",
      "metadata": {
        "id": "QquDZ_W2VkYa",
        "colab_type": "text"
      },
      "source": [
        "### DataLoaders"
      ]
    },
    {
      "cell_type": "code",
      "metadata": {
        "id": "S4kTCGy0Vjb8",
        "colab_type": "code",
        "colab": {}
      },
      "source": [
        "def collate_fn(data):\n",
        "    data.sort(key=lambda x: len(x[0]), reverse=True)\n",
        "    sentences, sentiments = zip(*data)\n",
        "    \n",
        "    sent_lengths = [len(sent) for sent in sentences]\n",
        "    inputs = torch.zeros((len(sentences), max(sent_lengths)), dtype=torch.long)\n",
        "    labels = torch.zeros(len(sentences), dtype=torch.long)\n",
        "\n",
        "    for i, sent in enumerate(sentences):\n",
        "        end = sent_lengths[i]\n",
        "        inputs[i, :end] = sent[:end]\n",
        "        labels[i] = sentiments[i]\n",
        "\n",
        "    return inputs, sent_lengths, labels"
      ],
      "execution_count": 84,
      "outputs": []
    },
    {
      "cell_type": "code",
      "metadata": {
        "id": "TtbPCw1FVpuS",
        "colab_type": "code",
        "colab": {}
      },
      "source": [
        "BATCH_SIZE = 16\n",
        "\n",
        "train_data_loader = DataLoader(train_dataset, batch_size=BATCH_SIZE, collate_fn=collate_fn, shuffle=True)\n",
        "valid_data_loader = DataLoader(val_dataset, batch_size=BATCH_SIZE, collate_fn=collate_fn)\n",
        "test_data_loader = DataLoader(test_dataset, batch_size=BATCH_SIZE, collate_fn=collate_fn)"
      ],
      "execution_count": 87,
      "outputs": []
    },
    {
      "cell_type": "code",
      "metadata": {
        "id": "9IrHrhnVV1kW",
        "colab_type": "code",
        "colab": {
          "base_uri": "https://localhost:8080/",
          "height": 34
        },
        "outputId": "6c4a711d-b1ad-40c5-919a-e35d57a59c68"
      },
      "source": [
        "sample = next(iter(train_data_loader))\n",
        "sample[0].shape, len(sample[1]), sample[2].shape"
      ],
      "execution_count": 88,
      "outputs": [
        {
          "output_type": "execute_result",
          "data": {
            "text/plain": [
              "(torch.Size([16, 31]), 16, torch.Size([16]))"
            ]
          },
          "metadata": {
            "tags": []
          },
          "execution_count": 88
        }
      ]
    },
    {
      "cell_type": "markdown",
      "metadata": {
        "id": "s9ohTmLlcEn_",
        "colab_type": "text"
      },
      "source": [
        "### RNN Model"
      ]
    },
    {
      "cell_type": "code",
      "metadata": {
        "id": "Kl5hVHMQE_CW",
        "colab_type": "code",
        "colab": {}
      },
      "source": [
        "class RNNModel(nn.Module):\n",
        "    def __init__(self, input_dim, emb_dim, hid_dim, output_dim, num_layers, dropout=0.4):\n",
        "        super().__init__()\n",
        "\n",
        "        self.hid_dim = hid_dim\n",
        "        self.num_layers = num_layers\n",
        "        self.embedding = nn.Embedding(input_dim, emb_dim)\n",
        "\n",
        "        self.rnn = nn.GRU(\n",
        "            emb_dim,\n",
        "            hid_dim,\n",
        "            num_layers=num_layers,\n",
        "            batch_first=True,\n",
        "            bidirectional=True,\n",
        "            dropout=dropout\n",
        "        )\n",
        "\n",
        "        self.fc = nn.Linear(hid_dim, 50)\n",
        "        self.out = nn.Linear(50, output_dim)\n",
        "        self.dropout = nn.Dropout(dropout)\n",
        "\n",
        "    def forward(self, inputs, input_lengths):\n",
        "        # inputs => [batch_size, seq_len]\n",
        "        # input_lengths => [batch_size]\n",
        "\n",
        "        embedded = self.dropout(self.embedding(inputs))\n",
        "\n",
        "        packed_input = nn.utils.rnn.pack_padded_sequence(embedded, input_lengths, batch_first=True)\n",
        "        _, hidden = self.rnn(packed_input)\n",
        "\n",
        "        hidden = hidden.view(self.num_layers, 2, -1, self.hid_dim)\n",
        "        final_forward_hidden = hidden[-1, -2, :, :]\n",
        "        final_backward_hidden = hidden[-1, -1, :, :]\n",
        "        # final_*_hidden => [batch_size, hidden_dim]\n",
        "\n",
        "        combined = final_forward_hidden + final_backward_hidden\n",
        "        combined = self.dropout(combined)\n",
        "        # combined => [batch_size, hidden_dim]\n",
        "\n",
        "        intermediate = F.relu(self.fc(combined))\n",
        "        intermediate = self.dropout(intermediate)\n",
        "        logits = self.out(intermediate)\n",
        "        # logits => [batch_size, output_dim]\n",
        "\n",
        "        return logits"
      ],
      "execution_count": 137,
      "outputs": []
    },
    {
      "cell_type": "markdown",
      "metadata": {
        "id": "mj4XHFbVb_lb",
        "colab_type": "text"
      },
      "source": [
        "### Model Configurations"
      ]
    },
    {
      "cell_type": "code",
      "metadata": {
        "id": "9FBI41Szb68_",
        "colab_type": "code",
        "colab": {}
      },
      "source": [
        "input_dim = len(vocab)\n",
        "output_dim = 3\n",
        "emb_dim = 200\n",
        "hid_dim = 100\n",
        "num_layers = 2\n",
        "NUM_EPOCHS = 20\n",
        "model_path = \"rnn.pt\""
      ],
      "execution_count": 138,
      "outputs": []
    },
    {
      "cell_type": "code",
      "metadata": {
        "id": "2pdc2kz7cCvu",
        "colab_type": "code",
        "colab": {}
      },
      "source": [
        "model = RNNModel(input_dim, emb_dim, hid_dim, output_dim, num_layers)"
      ],
      "execution_count": 139,
      "outputs": []
    },
    {
      "cell_type": "code",
      "metadata": {
        "id": "xbAwdqs4cGNO",
        "colab_type": "code",
        "colab": {
          "base_uri": "https://localhost:8080/",
          "height": 136
        },
        "outputId": "2e5ceeda-b24d-4ee8-e38b-623a6a0965cb"
      },
      "source": [
        "model.to(device)"
      ],
      "execution_count": 140,
      "outputs": [
        {
          "output_type": "execute_result",
          "data": {
            "text/plain": [
              "RNNModel(\n",
              "  (embedding): Embedding(1630, 200)\n",
              "  (rnn): GRU(200, 100, num_layers=2, batch_first=True, dropout=0.4, bidirectional=True)\n",
              "  (fc): Linear(in_features=100, out_features=50, bias=True)\n",
              "  (out): Linear(in_features=50, out_features=3, bias=True)\n",
              "  (dropout): Dropout(p=0.4, inplace=False)\n",
              ")"
            ]
          },
          "metadata": {
            "tags": []
          },
          "execution_count": 140
        }
      ]
    },
    {
      "cell_type": "code",
      "metadata": {
        "id": "7DshV_81gOQ0",
        "colab_type": "code",
        "colab": {
          "base_uri": "https://localhost:8080/",
          "height": 34
        },
        "outputId": "eaa3b075-91b3-4072-98fd-8e7c0fc3eea6"
      },
      "source": [
        "def count_parameters(model):\n",
        "    return sum(p.numel() for p in model.parameters() if p.requires_grad)\n",
        "\n",
        "print(f\"The model has {count_parameters(model)} trainable parameters\")\n"
      ],
      "execution_count": 141,
      "outputs": [
        {
          "output_type": "stream",
          "text": [
            "The model has 693603 trainable parameters\n"
          ],
          "name": "stdout"
        }
      ]
    },
    {
      "cell_type": "markdown",
      "metadata": {
        "id": "8hS49QWlcJmA",
        "colab_type": "text"
      },
      "source": [
        "### Loss Criterion & Optimizer"
      ]
    },
    {
      "cell_type": "code",
      "metadata": {
        "id": "rQ1DhUEQcH0m",
        "colab_type": "code",
        "colab": {}
      },
      "source": [
        "lr = 1e-4\n",
        "min_lr = 3e-5\n",
        "lr_decay=0.5\n",
        "lr_patience=2\n",
        "\n",
        "criterion = nn.CrossEntropyLoss()\n",
        "optimizer = optim.Adam(model.parameters(), lr=lr)\n",
        "scheduler = ReduceLROnPlateau(optimizer, 'min', lr_decay, lr_patience, verbose=True, min_lr=min_lr)"
      ],
      "execution_count": 142,
      "outputs": []
    },
    {
      "cell_type": "markdown",
      "metadata": {
        "id": "7p6XnbHZcZWx",
        "colab_type": "text"
      },
      "source": [
        "### Training Method"
      ]
    },
    {
      "cell_type": "code",
      "metadata": {
        "id": "MS_6YaOJcXSA",
        "colab_type": "code",
        "colab": {}
      },
      "source": [
        "def train(iterator, clip=2.0):\n",
        "    epoch_loss = 0\n",
        "    model.train()\n",
        "    for batch in iterator:\n",
        "        sentences = batch[0].to(device)\n",
        "        sentence_lengths = batch[1]\n",
        "        targets = batch[2].to(device)\n",
        "\n",
        "        # zero the parameter gradients\n",
        "        optimizer.zero_grad()\n",
        "\n",
        "        # forward + backward + optimize\n",
        "        outputs = model(sentences, sentence_lengths)\n",
        "        loss = criterion(outputs, targets)\n",
        "        loss.backward()\n",
        "        torch.nn.utils.clip_grad_norm_(model.parameters(), clip)\n",
        "        optimizer.step()\n",
        "\n",
        "        epoch_loss += loss.item()\n",
        "    return epoch_loss / len(iterator)"
      ],
      "execution_count": 144,
      "outputs": []
    },
    {
      "cell_type": "markdown",
      "metadata": {
        "id": "dQDnHALGceCD",
        "colab_type": "text"
      },
      "source": [
        "### Validation Method"
      ]
    },
    {
      "cell_type": "code",
      "metadata": {
        "id": "V-mdE1EjcbQX",
        "colab_type": "code",
        "colab": {}
      },
      "source": [
        "def categorical_accuracy(preds, y):\n",
        "    \"\"\"\n",
        "    Returns accuracy per batch, i.e. if you get 8/10 right, this returns 0.8, NOT 8\n",
        "    \"\"\"\n",
        "    max_preds = preds.argmax(dim = 1, keepdim = True) # get the index of the max probability\n",
        "    correct = max_preds.squeeze(1).eq(y)\n",
        "    return correct.sum() / torch.FloatTensor([y.shape[0]]).to(device)"
      ],
      "execution_count": 128,
      "outputs": []
    },
    {
      "cell_type": "code",
      "metadata": {
        "id": "RGqEUuLIcgN0",
        "colab_type": "code",
        "colab": {}
      },
      "source": [
        "def evaluate(iterator):\n",
        "    epoch_loss = 0\n",
        "    model.eval()\n",
        "    epoch_acc = 0\n",
        "\n",
        "    with torch.no_grad():\n",
        "        for batch in iterator:\n",
        "            sentences = batch[0].to(device)\n",
        "            sentence_lengths = batch[1]\n",
        "            targets = batch[2].to(device)\n",
        "            logits = model(sentences, sentence_lengths)\n",
        "            # logits => [batch_size, num_labels]\n",
        "\n",
        "            loss = criterion(logits, targets)\n",
        "            acc = categorical_accuracy(logits, targets)\n",
        "            epoch_acc += acc.item()\n",
        "            epoch_loss += loss.item()\n",
        "    \n",
        "    return epoch_loss / len(iterator), epoch_acc / len(iterator)"
      ],
      "execution_count": 145,
      "outputs": []
    },
    {
      "cell_type": "code",
      "metadata": {
        "id": "WpzK_DhuciER",
        "colab_type": "code",
        "colab": {}
      },
      "source": [
        "def epoch_time(start_time, end_time):\n",
        "    elapsed_time = end_time - start_time\n",
        "    elapsed_mins = int(elapsed_time / 60)\n",
        "    elapsed_secs = elapsed_time - (elapsed_mins * 60)\n",
        "    return elapsed_mins, elapsed_secs"
      ],
      "execution_count": 146,
      "outputs": []
    },
    {
      "cell_type": "markdown",
      "metadata": {
        "id": "mLrySiqwcjtj",
        "colab_type": "text"
      },
      "source": [
        "### Model Training"
      ]
    },
    {
      "cell_type": "code",
      "metadata": {
        "id": "8LPNFm71cjOX",
        "colab_type": "code",
        "colab": {
          "base_uri": "https://localhost:8080/",
          "height": 731
        },
        "outputId": "cffa3f99-e467-42fa-822a-8c0bf0e73778"
      },
      "source": [
        "best_valid_loss = float('inf')\n",
        "for epoch in range(NUM_EPOCHS):\n",
        "    start_time = time.time()\n",
        "    train_loss = train(train_data_loader)\n",
        "    val_loss, val_acc = evaluate(valid_data_loader)\n",
        "    end_time = time.time()\n",
        "    scheduler.step(val_loss)\n",
        "\n",
        "    epoch_mins, epoch_secs = epoch_time(start_time, end_time)\n",
        "    print(f\"Epoch: {epoch + 1:02} | Time: {epoch_mins}m {epoch_secs:.2f}s\")\n",
        "    print(f\"\\tTrain Loss: {train_loss:.3f} | Val Loss: {val_loss:.3f} | Val Acc: {val_acc:.3f}\")\n",
        "    \n",
        "    if val_loss < best_valid_loss:\n",
        "        best_valid_loss = val_loss\n",
        "        torch.save(model.state_dict(), model_path)"
      ],
      "execution_count": 147,
      "outputs": [
        {
          "output_type": "stream",
          "text": [
            "Epoch: 01 | Time: 0m 25.32s\n",
            "\tTrain Loss: 1.097 | Val Loss: 1.079 | Val Acc: 0.398\n",
            "Epoch: 02 | Time: 0m 25.17s\n",
            "\tTrain Loss: 1.083 | Val Loss: 1.039 | Val Acc: 0.444\n",
            "Epoch: 03 | Time: 0m 24.84s\n",
            "\tTrain Loss: 1.028 | Val Loss: 0.960 | Val Acc: 0.492\n",
            "Epoch: 04 | Time: 0m 25.17s\n",
            "\tTrain Loss: 0.986 | Val Loss: 0.948 | Val Acc: 0.496\n",
            "Epoch: 05 | Time: 0m 25.24s\n",
            "\tTrain Loss: 0.966 | Val Loss: 0.929 | Val Acc: 0.521\n",
            "Epoch: 06 | Time: 0m 25.30s\n",
            "\tTrain Loss: 0.950 | Val Loss: 0.919 | Val Acc: 0.535\n",
            "Epoch: 07 | Time: 0m 25.29s\n",
            "\tTrain Loss: 0.937 | Val Loss: 0.902 | Val Acc: 0.549\n",
            "Epoch: 08 | Time: 0m 25.30s\n",
            "\tTrain Loss: 0.928 | Val Loss: 0.917 | Val Acc: 0.536\n",
            "Epoch: 09 | Time: 0m 25.27s\n",
            "\tTrain Loss: 0.917 | Val Loss: 0.893 | Val Acc: 0.547\n",
            "Epoch: 10 | Time: 0m 24.86s\n",
            "\tTrain Loss: 0.903 | Val Loss: 0.895 | Val Acc: 0.547\n",
            "Epoch: 11 | Time: 0m 25.31s\n",
            "\tTrain Loss: 0.900 | Val Loss: 0.901 | Val Acc: 0.553\n",
            "Epoch    12: reducing learning rate of group 0 to 5.0000e-05.\n",
            "Epoch: 12 | Time: 0m 24.96s\n",
            "\tTrain Loss: 0.889 | Val Loss: 0.906 | Val Acc: 0.553\n",
            "Epoch: 13 | Time: 0m 25.36s\n",
            "\tTrain Loss: 0.880 | Val Loss: 0.888 | Val Acc: 0.563\n",
            "Epoch: 14 | Time: 0m 25.03s\n",
            "\tTrain Loss: 0.874 | Val Loss: 0.898 | Val Acc: 0.562\n",
            "Epoch: 15 | Time: 0m 25.39s\n",
            "\tTrain Loss: 0.863 | Val Loss: 0.901 | Val Acc: 0.564\n",
            "Epoch    16: reducing learning rate of group 0 to 3.0000e-05.\n",
            "Epoch: 16 | Time: 0m 25.43s\n",
            "\tTrain Loss: 0.866 | Val Loss: 0.903 | Val Acc: 0.567\n",
            "Epoch: 17 | Time: 0m 25.44s\n",
            "\tTrain Loss: 0.858 | Val Loss: 0.898 | Val Acc: 0.566\n",
            "Epoch: 18 | Time: 0m 25.54s\n",
            "\tTrain Loss: 0.848 | Val Loss: 0.895 | Val Acc: 0.568\n",
            "Epoch: 19 | Time: 0m 25.48s\n",
            "\tTrain Loss: 0.846 | Val Loss: 0.902 | Val Acc: 0.568\n",
            "Epoch: 20 | Time: 0m 25.44s\n",
            "\tTrain Loss: 0.845 | Val Loss: 0.904 | Val Acc: 0.568\n"
          ],
          "name": "stdout"
        }
      ]
    },
    {
      "cell_type": "code",
      "metadata": {
        "id": "ChLgj12YcnhW",
        "colab_type": "code",
        "colab": {
          "base_uri": "https://localhost:8080/",
          "height": 34
        },
        "outputId": "13d1b1bd-dfe2-487b-c569-bcae2b2ce4e9"
      },
      "source": [
        "model.load_state_dict(torch.load(model_path))"
      ],
      "execution_count": 148,
      "outputs": [
        {
          "output_type": "execute_result",
          "data": {
            "text/plain": [
              "<All keys matched successfully>"
            ]
          },
          "metadata": {
            "tags": []
          },
          "execution_count": 148
        }
      ]
    },
    {
      "cell_type": "markdown",
      "metadata": {
        "id": "jFigMW42eCNT",
        "colab_type": "text"
      },
      "source": [
        "### Evaluation"
      ]
    },
    {
      "cell_type": "code",
      "metadata": {
        "id": "HK5-WoMbdt3k",
        "colab_type": "code",
        "colab": {}
      },
      "source": [
        "def cal_metrics(model, data_loader):\n",
        "    model.eval()\n",
        "    fin_outputs = []\n",
        "    fin_targets = []\n",
        "\n",
        "    with torch.no_grad():\n",
        "        for batch in data_loader:\n",
        "            sentences = batch[0].to(device)\n",
        "            sentence_lengths = batch[1]\n",
        "            targets = batch[2].to(device)\n",
        "\n",
        "            predictions = model(sentences, sentence_lengths)\n",
        "            # predictions => [batch_size, num_labels]\n",
        "\n",
        "            outputs = predictions.max(dim=1)[1]\n",
        "            fin_targets.extend(targets.detach().cpu().numpy().tolist())\n",
        "            fin_outputs.extend(outputs.detach().cpu().numpy().tolist())\n",
        "\n",
        "    assert len(fin_outputs) == len(fin_targets)\n",
        "\n",
        "    cf = metrics.classification_report(fin_targets, fin_outputs)\n",
        "    print(cf)\n"
      ],
      "execution_count": 151,
      "outputs": []
    },
    {
      "cell_type": "code",
      "metadata": {
        "id": "7nqx-Bn7jUP4",
        "colab_type": "code",
        "colab": {
          "base_uri": "https://localhost:8080/",
          "height": 187
        },
        "outputId": "40981072-cf91-4b22-e521-ade749682a23"
      },
      "source": [
        "cal_metrics(model, test_data_loader)"
      ],
      "execution_count": 152,
      "outputs": [
        {
          "output_type": "stream",
          "text": [
            "              precision    recall  f1-score   support\n",
            "\n",
            "           0       0.54      0.72      0.62       890\n",
            "           1       0.50      0.38      0.43      1128\n",
            "           2       0.66      0.64      0.65       982\n",
            "\n",
            "    accuracy                           0.57      3000\n",
            "   macro avg       0.57      0.58      0.57      3000\n",
            "weighted avg       0.56      0.57      0.56      3000\n",
            "\n"
          ],
          "name": "stdout"
        }
      ]
    },
    {
      "cell_type": "code",
      "metadata": {
        "id": "oSSmxN6VhX7m",
        "colab_type": "code",
        "colab": {}
      },
      "source": [
        ""
      ],
      "execution_count": null,
      "outputs": []
    }
  ]
}