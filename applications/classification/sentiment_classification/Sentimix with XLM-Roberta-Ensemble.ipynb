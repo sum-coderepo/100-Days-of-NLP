{
  "nbformat": 4,
  "nbformat_minor": 0,
  "metadata": {
    "colab": {
      "name": "Sentimix with XLM-Roberta-Ensemble.ipynb",
      "provenance": [],
      "authorship_tag": "ABX9TyPF0TEEUsCyiDOeoHlSdoOW",
      "include_colab_link": true
    },
    "kernelspec": {
      "name": "python3",
      "display_name": "Python 3"
    },
    "accelerator": "GPU",
    "widgets": {
      "application/vnd.jupyter.widget-state+json": {
        "12f8786bf3a34caead93fcb2bf2b0007": {
          "model_module": "@jupyter-widgets/controls",
          "model_name": "HBoxModel",
          "state": {
            "_view_name": "HBoxView",
            "_dom_classes": [],
            "_model_name": "HBoxModel",
            "_view_module": "@jupyter-widgets/controls",
            "_model_module_version": "1.5.0",
            "_view_count": null,
            "_view_module_version": "1.5.0",
            "box_style": "",
            "layout": "IPY_MODEL_9b261fa11c9842e3b968f0061d75f4c7",
            "_model_module": "@jupyter-widgets/controls",
            "children": [
              "IPY_MODEL_f985d8824dd3406d937849df77bbd6e3",
              "IPY_MODEL_4321847ab4d446d581d2f1898d3acbd5"
            ]
          }
        },
        "9b261fa11c9842e3b968f0061d75f4c7": {
          "model_module": "@jupyter-widgets/base",
          "model_name": "LayoutModel",
          "state": {
            "_view_name": "LayoutView",
            "grid_template_rows": null,
            "right": null,
            "justify_content": null,
            "_view_module": "@jupyter-widgets/base",
            "overflow": null,
            "_model_module_version": "1.2.0",
            "_view_count": null,
            "flex_flow": null,
            "width": null,
            "min_width": null,
            "border": null,
            "align_items": null,
            "bottom": null,
            "_model_module": "@jupyter-widgets/base",
            "top": null,
            "grid_column": null,
            "overflow_y": null,
            "overflow_x": null,
            "grid_auto_flow": null,
            "grid_area": null,
            "grid_template_columns": null,
            "flex": null,
            "_model_name": "LayoutModel",
            "justify_items": null,
            "grid_row": null,
            "max_height": null,
            "align_content": null,
            "visibility": null,
            "align_self": null,
            "height": null,
            "min_height": null,
            "padding": null,
            "grid_auto_rows": null,
            "grid_gap": null,
            "max_width": null,
            "order": null,
            "_view_module_version": "1.2.0",
            "grid_template_areas": null,
            "object_position": null,
            "object_fit": null,
            "grid_auto_columns": null,
            "margin": null,
            "display": null,
            "left": null
          }
        },
        "f985d8824dd3406d937849df77bbd6e3": {
          "model_module": "@jupyter-widgets/controls",
          "model_name": "FloatProgressModel",
          "state": {
            "_view_name": "ProgressView",
            "style": "IPY_MODEL_332f2f1f4a724fb9be3b40ef3f20ddbe",
            "_dom_classes": [],
            "description": "Downloading: 100%",
            "_model_name": "FloatProgressModel",
            "bar_style": "success",
            "max": 5069051,
            "_view_module": "@jupyter-widgets/controls",
            "_model_module_version": "1.5.0",
            "value": 5069051,
            "_view_count": null,
            "_view_module_version": "1.5.0",
            "orientation": "horizontal",
            "min": 0,
            "description_tooltip": null,
            "_model_module": "@jupyter-widgets/controls",
            "layout": "IPY_MODEL_ddc1e02a2013468ba7781d59013356d7"
          }
        },
        "4321847ab4d446d581d2f1898d3acbd5": {
          "model_module": "@jupyter-widgets/controls",
          "model_name": "HTMLModel",
          "state": {
            "_view_name": "HTMLView",
            "style": "IPY_MODEL_3b031c83d17a4e6f81d4edb70d4912b0",
            "_dom_classes": [],
            "description": "",
            "_model_name": "HTMLModel",
            "placeholder": "​",
            "_view_module": "@jupyter-widgets/controls",
            "_model_module_version": "1.5.0",
            "value": " 5.07M/5.07M [00:00&lt;00:00, 9.65MB/s]",
            "_view_count": null,
            "_view_module_version": "1.5.0",
            "description_tooltip": null,
            "_model_module": "@jupyter-widgets/controls",
            "layout": "IPY_MODEL_098b3326055d444f97ba9bc32a965b30"
          }
        },
        "332f2f1f4a724fb9be3b40ef3f20ddbe": {
          "model_module": "@jupyter-widgets/controls",
          "model_name": "ProgressStyleModel",
          "state": {
            "_view_name": "StyleView",
            "_model_name": "ProgressStyleModel",
            "description_width": "initial",
            "_view_module": "@jupyter-widgets/base",
            "_model_module_version": "1.5.0",
            "_view_count": null,
            "_view_module_version": "1.2.0",
            "bar_color": null,
            "_model_module": "@jupyter-widgets/controls"
          }
        },
        "ddc1e02a2013468ba7781d59013356d7": {
          "model_module": "@jupyter-widgets/base",
          "model_name": "LayoutModel",
          "state": {
            "_view_name": "LayoutView",
            "grid_template_rows": null,
            "right": null,
            "justify_content": null,
            "_view_module": "@jupyter-widgets/base",
            "overflow": null,
            "_model_module_version": "1.2.0",
            "_view_count": null,
            "flex_flow": null,
            "width": null,
            "min_width": null,
            "border": null,
            "align_items": null,
            "bottom": null,
            "_model_module": "@jupyter-widgets/base",
            "top": null,
            "grid_column": null,
            "overflow_y": null,
            "overflow_x": null,
            "grid_auto_flow": null,
            "grid_area": null,
            "grid_template_columns": null,
            "flex": null,
            "_model_name": "LayoutModel",
            "justify_items": null,
            "grid_row": null,
            "max_height": null,
            "align_content": null,
            "visibility": null,
            "align_self": null,
            "height": null,
            "min_height": null,
            "padding": null,
            "grid_auto_rows": null,
            "grid_gap": null,
            "max_width": null,
            "order": null,
            "_view_module_version": "1.2.0",
            "grid_template_areas": null,
            "object_position": null,
            "object_fit": null,
            "grid_auto_columns": null,
            "margin": null,
            "display": null,
            "left": null
          }
        },
        "3b031c83d17a4e6f81d4edb70d4912b0": {
          "model_module": "@jupyter-widgets/controls",
          "model_name": "DescriptionStyleModel",
          "state": {
            "_view_name": "StyleView",
            "_model_name": "DescriptionStyleModel",
            "description_width": "",
            "_view_module": "@jupyter-widgets/base",
            "_model_module_version": "1.5.0",
            "_view_count": null,
            "_view_module_version": "1.2.0",
            "_model_module": "@jupyter-widgets/controls"
          }
        },
        "098b3326055d444f97ba9bc32a965b30": {
          "model_module": "@jupyter-widgets/base",
          "model_name": "LayoutModel",
          "state": {
            "_view_name": "LayoutView",
            "grid_template_rows": null,
            "right": null,
            "justify_content": null,
            "_view_module": "@jupyter-widgets/base",
            "overflow": null,
            "_model_module_version": "1.2.0",
            "_view_count": null,
            "flex_flow": null,
            "width": null,
            "min_width": null,
            "border": null,
            "align_items": null,
            "bottom": null,
            "_model_module": "@jupyter-widgets/base",
            "top": null,
            "grid_column": null,
            "overflow_y": null,
            "overflow_x": null,
            "grid_auto_flow": null,
            "grid_area": null,
            "grid_template_columns": null,
            "flex": null,
            "_model_name": "LayoutModel",
            "justify_items": null,
            "grid_row": null,
            "max_height": null,
            "align_content": null,
            "visibility": null,
            "align_self": null,
            "height": null,
            "min_height": null,
            "padding": null,
            "grid_auto_rows": null,
            "grid_gap": null,
            "max_width": null,
            "order": null,
            "_view_module_version": "1.2.0",
            "grid_template_areas": null,
            "object_position": null,
            "object_fit": null,
            "grid_auto_columns": null,
            "margin": null,
            "display": null,
            "left": null
          }
        },
        "4c42c6b4117148bb9f6b9bffff0db0ef": {
          "model_module": "@jupyter-widgets/controls",
          "model_name": "HBoxModel",
          "state": {
            "_view_name": "HBoxView",
            "_dom_classes": [],
            "_model_name": "HBoxModel",
            "_view_module": "@jupyter-widgets/controls",
            "_model_module_version": "1.5.0",
            "_view_count": null,
            "_view_module_version": "1.5.0",
            "box_style": "",
            "layout": "IPY_MODEL_5327c34533bd4b539b738ed0fe56226f",
            "_model_module": "@jupyter-widgets/controls",
            "children": [
              "IPY_MODEL_8c0e2c79352b460aa1ffbe31f66beada",
              "IPY_MODEL_648a8324998b444183abc0ab1e846d4a"
            ]
          }
        },
        "5327c34533bd4b539b738ed0fe56226f": {
          "model_module": "@jupyter-widgets/base",
          "model_name": "LayoutModel",
          "state": {
            "_view_name": "LayoutView",
            "grid_template_rows": null,
            "right": null,
            "justify_content": null,
            "_view_module": "@jupyter-widgets/base",
            "overflow": null,
            "_model_module_version": "1.2.0",
            "_view_count": null,
            "flex_flow": null,
            "width": null,
            "min_width": null,
            "border": null,
            "align_items": null,
            "bottom": null,
            "_model_module": "@jupyter-widgets/base",
            "top": null,
            "grid_column": null,
            "overflow_y": null,
            "overflow_x": null,
            "grid_auto_flow": null,
            "grid_area": null,
            "grid_template_columns": null,
            "flex": null,
            "_model_name": "LayoutModel",
            "justify_items": null,
            "grid_row": null,
            "max_height": null,
            "align_content": null,
            "visibility": null,
            "align_self": null,
            "height": null,
            "min_height": null,
            "padding": null,
            "grid_auto_rows": null,
            "grid_gap": null,
            "max_width": null,
            "order": null,
            "_view_module_version": "1.2.0",
            "grid_template_areas": null,
            "object_position": null,
            "object_fit": null,
            "grid_auto_columns": null,
            "margin": null,
            "display": null,
            "left": null
          }
        },
        "8c0e2c79352b460aa1ffbe31f66beada": {
          "model_module": "@jupyter-widgets/controls",
          "model_name": "FloatProgressModel",
          "state": {
            "_view_name": "ProgressView",
            "style": "IPY_MODEL_fa613836a2cf4d3b8ff85be3846ba4b3",
            "_dom_classes": [],
            "description": "Downloading: 100%",
            "_model_name": "FloatProgressModel",
            "bar_style": "success",
            "max": 5069051,
            "_view_module": "@jupyter-widgets/controls",
            "_model_module_version": "1.5.0",
            "value": 5069051,
            "_view_count": null,
            "_view_module_version": "1.5.0",
            "orientation": "horizontal",
            "min": 0,
            "description_tooltip": null,
            "_model_module": "@jupyter-widgets/controls",
            "layout": "IPY_MODEL_b74c71823c594b75a3c5ace7b6cace9a"
          }
        },
        "648a8324998b444183abc0ab1e846d4a": {
          "model_module": "@jupyter-widgets/controls",
          "model_name": "HTMLModel",
          "state": {
            "_view_name": "HTMLView",
            "style": "IPY_MODEL_f8118eff9f004237a84dded33fff041f",
            "_dom_classes": [],
            "description": "",
            "_model_name": "HTMLModel",
            "placeholder": "​",
            "_view_module": "@jupyter-widgets/controls",
            "_model_module_version": "1.5.0",
            "value": " 5.07M/5.07M [00:04&lt;00:00, 1.26MB/s]",
            "_view_count": null,
            "_view_module_version": "1.5.0",
            "description_tooltip": null,
            "_model_module": "@jupyter-widgets/controls",
            "layout": "IPY_MODEL_89fa771e77824291a455c6be0da39b76"
          }
        },
        "fa613836a2cf4d3b8ff85be3846ba4b3": {
          "model_module": "@jupyter-widgets/controls",
          "model_name": "ProgressStyleModel",
          "state": {
            "_view_name": "StyleView",
            "_model_name": "ProgressStyleModel",
            "description_width": "initial",
            "_view_module": "@jupyter-widgets/base",
            "_model_module_version": "1.5.0",
            "_view_count": null,
            "_view_module_version": "1.2.0",
            "bar_color": null,
            "_model_module": "@jupyter-widgets/controls"
          }
        },
        "b74c71823c594b75a3c5ace7b6cace9a": {
          "model_module": "@jupyter-widgets/base",
          "model_name": "LayoutModel",
          "state": {
            "_view_name": "LayoutView",
            "grid_template_rows": null,
            "right": null,
            "justify_content": null,
            "_view_module": "@jupyter-widgets/base",
            "overflow": null,
            "_model_module_version": "1.2.0",
            "_view_count": null,
            "flex_flow": null,
            "width": null,
            "min_width": null,
            "border": null,
            "align_items": null,
            "bottom": null,
            "_model_module": "@jupyter-widgets/base",
            "top": null,
            "grid_column": null,
            "overflow_y": null,
            "overflow_x": null,
            "grid_auto_flow": null,
            "grid_area": null,
            "grid_template_columns": null,
            "flex": null,
            "_model_name": "LayoutModel",
            "justify_items": null,
            "grid_row": null,
            "max_height": null,
            "align_content": null,
            "visibility": null,
            "align_self": null,
            "height": null,
            "min_height": null,
            "padding": null,
            "grid_auto_rows": null,
            "grid_gap": null,
            "max_width": null,
            "order": null,
            "_view_module_version": "1.2.0",
            "grid_template_areas": null,
            "object_position": null,
            "object_fit": null,
            "grid_auto_columns": null,
            "margin": null,
            "display": null,
            "left": null
          }
        },
        "f8118eff9f004237a84dded33fff041f": {
          "model_module": "@jupyter-widgets/controls",
          "model_name": "DescriptionStyleModel",
          "state": {
            "_view_name": "StyleView",
            "_model_name": "DescriptionStyleModel",
            "description_width": "",
            "_view_module": "@jupyter-widgets/base",
            "_model_module_version": "1.5.0",
            "_view_count": null,
            "_view_module_version": "1.2.0",
            "_model_module": "@jupyter-widgets/controls"
          }
        },
        "89fa771e77824291a455c6be0da39b76": {
          "model_module": "@jupyter-widgets/base",
          "model_name": "LayoutModel",
          "state": {
            "_view_name": "LayoutView",
            "grid_template_rows": null,
            "right": null,
            "justify_content": null,
            "_view_module": "@jupyter-widgets/base",
            "overflow": null,
            "_model_module_version": "1.2.0",
            "_view_count": null,
            "flex_flow": null,
            "width": null,
            "min_width": null,
            "border": null,
            "align_items": null,
            "bottom": null,
            "_model_module": "@jupyter-widgets/base",
            "top": null,
            "grid_column": null,
            "overflow_y": null,
            "overflow_x": null,
            "grid_auto_flow": null,
            "grid_area": null,
            "grid_template_columns": null,
            "flex": null,
            "_model_name": "LayoutModel",
            "justify_items": null,
            "grid_row": null,
            "max_height": null,
            "align_content": null,
            "visibility": null,
            "align_self": null,
            "height": null,
            "min_height": null,
            "padding": null,
            "grid_auto_rows": null,
            "grid_gap": null,
            "max_width": null,
            "order": null,
            "_view_module_version": "1.2.0",
            "grid_template_areas": null,
            "object_position": null,
            "object_fit": null,
            "grid_auto_columns": null,
            "margin": null,
            "display": null,
            "left": null
          }
        },
        "433809472b2a4cac9326fb429ca0ff2e": {
          "model_module": "@jupyter-widgets/controls",
          "model_name": "HBoxModel",
          "state": {
            "_view_name": "HBoxView",
            "_dom_classes": [],
            "_model_name": "HBoxModel",
            "_view_module": "@jupyter-widgets/controls",
            "_model_module_version": "1.5.0",
            "_view_count": null,
            "_view_module_version": "1.5.0",
            "box_style": "",
            "layout": "IPY_MODEL_5adae45c6b774a258c6fdd9a92048486",
            "_model_module": "@jupyter-widgets/controls",
            "children": [
              "IPY_MODEL_736e09008aba437599905837d079272d",
              "IPY_MODEL_77c6b9d9b62c42249e26bcd9fa0c4b59"
            ]
          }
        },
        "5adae45c6b774a258c6fdd9a92048486": {
          "model_module": "@jupyter-widgets/base",
          "model_name": "LayoutModel",
          "state": {
            "_view_name": "LayoutView",
            "grid_template_rows": null,
            "right": null,
            "justify_content": null,
            "_view_module": "@jupyter-widgets/base",
            "overflow": null,
            "_model_module_version": "1.2.0",
            "_view_count": null,
            "flex_flow": null,
            "width": null,
            "min_width": null,
            "border": null,
            "align_items": null,
            "bottom": null,
            "_model_module": "@jupyter-widgets/base",
            "top": null,
            "grid_column": null,
            "overflow_y": null,
            "overflow_x": null,
            "grid_auto_flow": null,
            "grid_area": null,
            "grid_template_columns": null,
            "flex": null,
            "_model_name": "LayoutModel",
            "justify_items": null,
            "grid_row": null,
            "max_height": null,
            "align_content": null,
            "visibility": null,
            "align_self": null,
            "height": null,
            "min_height": null,
            "padding": null,
            "grid_auto_rows": null,
            "grid_gap": null,
            "max_width": null,
            "order": null,
            "_view_module_version": "1.2.0",
            "grid_template_areas": null,
            "object_position": null,
            "object_fit": null,
            "grid_auto_columns": null,
            "margin": null,
            "display": null,
            "left": null
          }
        },
        "736e09008aba437599905837d079272d": {
          "model_module": "@jupyter-widgets/controls",
          "model_name": "FloatProgressModel",
          "state": {
            "_view_name": "ProgressView",
            "style": "IPY_MODEL_6d5dc906c5eb4efc8feee737965d7806",
            "_dom_classes": [],
            "description": "Downloading: 100%",
            "_model_name": "FloatProgressModel",
            "bar_style": "success",
            "max": 512,
            "_view_module": "@jupyter-widgets/controls",
            "_model_module_version": "1.5.0",
            "value": 512,
            "_view_count": null,
            "_view_module_version": "1.5.0",
            "orientation": "horizontal",
            "min": 0,
            "description_tooltip": null,
            "_model_module": "@jupyter-widgets/controls",
            "layout": "IPY_MODEL_8fa0ff9fc53e4f02a904ff548ed2d4e9"
          }
        },
        "77c6b9d9b62c42249e26bcd9fa0c4b59": {
          "model_module": "@jupyter-widgets/controls",
          "model_name": "HTMLModel",
          "state": {
            "_view_name": "HTMLView",
            "style": "IPY_MODEL_5fbaee41535d4f8eb406318de9f1a4a7",
            "_dom_classes": [],
            "description": "",
            "_model_name": "HTMLModel",
            "placeholder": "​",
            "_view_module": "@jupyter-widgets/controls",
            "_model_module_version": "1.5.0",
            "value": " 512/512 [00:03&lt;00:00, 156B/s]",
            "_view_count": null,
            "_view_module_version": "1.5.0",
            "description_tooltip": null,
            "_model_module": "@jupyter-widgets/controls",
            "layout": "IPY_MODEL_13fdb8db96b2446ba2a4b20982fcba11"
          }
        },
        "6d5dc906c5eb4efc8feee737965d7806": {
          "model_module": "@jupyter-widgets/controls",
          "model_name": "ProgressStyleModel",
          "state": {
            "_view_name": "StyleView",
            "_model_name": "ProgressStyleModel",
            "description_width": "initial",
            "_view_module": "@jupyter-widgets/base",
            "_model_module_version": "1.5.0",
            "_view_count": null,
            "_view_module_version": "1.2.0",
            "bar_color": null,
            "_model_module": "@jupyter-widgets/controls"
          }
        },
        "8fa0ff9fc53e4f02a904ff548ed2d4e9": {
          "model_module": "@jupyter-widgets/base",
          "model_name": "LayoutModel",
          "state": {
            "_view_name": "LayoutView",
            "grid_template_rows": null,
            "right": null,
            "justify_content": null,
            "_view_module": "@jupyter-widgets/base",
            "overflow": null,
            "_model_module_version": "1.2.0",
            "_view_count": null,
            "flex_flow": null,
            "width": null,
            "min_width": null,
            "border": null,
            "align_items": null,
            "bottom": null,
            "_model_module": "@jupyter-widgets/base",
            "top": null,
            "grid_column": null,
            "overflow_y": null,
            "overflow_x": null,
            "grid_auto_flow": null,
            "grid_area": null,
            "grid_template_columns": null,
            "flex": null,
            "_model_name": "LayoutModel",
            "justify_items": null,
            "grid_row": null,
            "max_height": null,
            "align_content": null,
            "visibility": null,
            "align_self": null,
            "height": null,
            "min_height": null,
            "padding": null,
            "grid_auto_rows": null,
            "grid_gap": null,
            "max_width": null,
            "order": null,
            "_view_module_version": "1.2.0",
            "grid_template_areas": null,
            "object_position": null,
            "object_fit": null,
            "grid_auto_columns": null,
            "margin": null,
            "display": null,
            "left": null
          }
        },
        "5fbaee41535d4f8eb406318de9f1a4a7": {
          "model_module": "@jupyter-widgets/controls",
          "model_name": "DescriptionStyleModel",
          "state": {
            "_view_name": "StyleView",
            "_model_name": "DescriptionStyleModel",
            "description_width": "",
            "_view_module": "@jupyter-widgets/base",
            "_model_module_version": "1.5.0",
            "_view_count": null,
            "_view_module_version": "1.2.0",
            "_model_module": "@jupyter-widgets/controls"
          }
        },
        "13fdb8db96b2446ba2a4b20982fcba11": {
          "model_module": "@jupyter-widgets/base",
          "model_name": "LayoutModel",
          "state": {
            "_view_name": "LayoutView",
            "grid_template_rows": null,
            "right": null,
            "justify_content": null,
            "_view_module": "@jupyter-widgets/base",
            "overflow": null,
            "_model_module_version": "1.2.0",
            "_view_count": null,
            "flex_flow": null,
            "width": null,
            "min_width": null,
            "border": null,
            "align_items": null,
            "bottom": null,
            "_model_module": "@jupyter-widgets/base",
            "top": null,
            "grid_column": null,
            "overflow_y": null,
            "overflow_x": null,
            "grid_auto_flow": null,
            "grid_area": null,
            "grid_template_columns": null,
            "flex": null,
            "_model_name": "LayoutModel",
            "justify_items": null,
            "grid_row": null,
            "max_height": null,
            "align_content": null,
            "visibility": null,
            "align_self": null,
            "height": null,
            "min_height": null,
            "padding": null,
            "grid_auto_rows": null,
            "grid_gap": null,
            "max_width": null,
            "order": null,
            "_view_module_version": "1.2.0",
            "grid_template_areas": null,
            "object_position": null,
            "object_fit": null,
            "grid_auto_columns": null,
            "margin": null,
            "display": null,
            "left": null
          }
        },
        "c67d6e5220654ac6a8c63fde676ea602": {
          "model_module": "@jupyter-widgets/controls",
          "model_name": "HBoxModel",
          "state": {
            "_view_name": "HBoxView",
            "_dom_classes": [],
            "_model_name": "HBoxModel",
            "_view_module": "@jupyter-widgets/controls",
            "_model_module_version": "1.5.0",
            "_view_count": null,
            "_view_module_version": "1.5.0",
            "box_style": "",
            "layout": "IPY_MODEL_ce4576de897a4c0d835caf6444f17214",
            "_model_module": "@jupyter-widgets/controls",
            "children": [
              "IPY_MODEL_c3ff8ac9629a48e79747c844b1e5b7fc",
              "IPY_MODEL_8d011853a2084d369acb186ef360b4c4"
            ]
          }
        },
        "ce4576de897a4c0d835caf6444f17214": {
          "model_module": "@jupyter-widgets/base",
          "model_name": "LayoutModel",
          "state": {
            "_view_name": "LayoutView",
            "grid_template_rows": null,
            "right": null,
            "justify_content": null,
            "_view_module": "@jupyter-widgets/base",
            "overflow": null,
            "_model_module_version": "1.2.0",
            "_view_count": null,
            "flex_flow": null,
            "width": null,
            "min_width": null,
            "border": null,
            "align_items": null,
            "bottom": null,
            "_model_module": "@jupyter-widgets/base",
            "top": null,
            "grid_column": null,
            "overflow_y": null,
            "overflow_x": null,
            "grid_auto_flow": null,
            "grid_area": null,
            "grid_template_columns": null,
            "flex": null,
            "_model_name": "LayoutModel",
            "justify_items": null,
            "grid_row": null,
            "max_height": null,
            "align_content": null,
            "visibility": null,
            "align_self": null,
            "height": null,
            "min_height": null,
            "padding": null,
            "grid_auto_rows": null,
            "grid_gap": null,
            "max_width": null,
            "order": null,
            "_view_module_version": "1.2.0",
            "grid_template_areas": null,
            "object_position": null,
            "object_fit": null,
            "grid_auto_columns": null,
            "margin": null,
            "display": null,
            "left": null
          }
        },
        "c3ff8ac9629a48e79747c844b1e5b7fc": {
          "model_module": "@jupyter-widgets/controls",
          "model_name": "FloatProgressModel",
          "state": {
            "_view_name": "ProgressView",
            "style": "IPY_MODEL_7281c25ebbd4453188bcd7e256ce9fb8",
            "_dom_classes": [],
            "description": "Downloading: 100%",
            "_model_name": "FloatProgressModel",
            "bar_style": "success",
            "max": 1115590446,
            "_view_module": "@jupyter-widgets/controls",
            "_model_module_version": "1.5.0",
            "value": 1115590446,
            "_view_count": null,
            "_view_module_version": "1.5.0",
            "orientation": "horizontal",
            "min": 0,
            "description_tooltip": null,
            "_model_module": "@jupyter-widgets/controls",
            "layout": "IPY_MODEL_38efa72e46e64b6dbd7ef8a75c1a6800"
          }
        },
        "8d011853a2084d369acb186ef360b4c4": {
          "model_module": "@jupyter-widgets/controls",
          "model_name": "HTMLModel",
          "state": {
            "_view_name": "HTMLView",
            "style": "IPY_MODEL_826875cd8e6a4d1bae4b5605b416c6ef",
            "_dom_classes": [],
            "description": "",
            "_model_name": "HTMLModel",
            "placeholder": "​",
            "_view_module": "@jupyter-widgets/controls",
            "_model_module_version": "1.5.0",
            "value": " 1.12G/1.12G [13:32&lt;00:00, 1.37MB/s]",
            "_view_count": null,
            "_view_module_version": "1.5.0",
            "description_tooltip": null,
            "_model_module": "@jupyter-widgets/controls",
            "layout": "IPY_MODEL_7deb46e0d1fe43868888da6928617ab7"
          }
        },
        "7281c25ebbd4453188bcd7e256ce9fb8": {
          "model_module": "@jupyter-widgets/controls",
          "model_name": "ProgressStyleModel",
          "state": {
            "_view_name": "StyleView",
            "_model_name": "ProgressStyleModel",
            "description_width": "initial",
            "_view_module": "@jupyter-widgets/base",
            "_model_module_version": "1.5.0",
            "_view_count": null,
            "_view_module_version": "1.2.0",
            "bar_color": null,
            "_model_module": "@jupyter-widgets/controls"
          }
        },
        "38efa72e46e64b6dbd7ef8a75c1a6800": {
          "model_module": "@jupyter-widgets/base",
          "model_name": "LayoutModel",
          "state": {
            "_view_name": "LayoutView",
            "grid_template_rows": null,
            "right": null,
            "justify_content": null,
            "_view_module": "@jupyter-widgets/base",
            "overflow": null,
            "_model_module_version": "1.2.0",
            "_view_count": null,
            "flex_flow": null,
            "width": null,
            "min_width": null,
            "border": null,
            "align_items": null,
            "bottom": null,
            "_model_module": "@jupyter-widgets/base",
            "top": null,
            "grid_column": null,
            "overflow_y": null,
            "overflow_x": null,
            "grid_auto_flow": null,
            "grid_area": null,
            "grid_template_columns": null,
            "flex": null,
            "_model_name": "LayoutModel",
            "justify_items": null,
            "grid_row": null,
            "max_height": null,
            "align_content": null,
            "visibility": null,
            "align_self": null,
            "height": null,
            "min_height": null,
            "padding": null,
            "grid_auto_rows": null,
            "grid_gap": null,
            "max_width": null,
            "order": null,
            "_view_module_version": "1.2.0",
            "grid_template_areas": null,
            "object_position": null,
            "object_fit": null,
            "grid_auto_columns": null,
            "margin": null,
            "display": null,
            "left": null
          }
        },
        "826875cd8e6a4d1bae4b5605b416c6ef": {
          "model_module": "@jupyter-widgets/controls",
          "model_name": "DescriptionStyleModel",
          "state": {
            "_view_name": "StyleView",
            "_model_name": "DescriptionStyleModel",
            "description_width": "",
            "_view_module": "@jupyter-widgets/base",
            "_model_module_version": "1.5.0",
            "_view_count": null,
            "_view_module_version": "1.2.0",
            "_model_module": "@jupyter-widgets/controls"
          }
        },
        "7deb46e0d1fe43868888da6928617ab7": {
          "model_module": "@jupyter-widgets/base",
          "model_name": "LayoutModel",
          "state": {
            "_view_name": "LayoutView",
            "grid_template_rows": null,
            "right": null,
            "justify_content": null,
            "_view_module": "@jupyter-widgets/base",
            "overflow": null,
            "_model_module_version": "1.2.0",
            "_view_count": null,
            "flex_flow": null,
            "width": null,
            "min_width": null,
            "border": null,
            "align_items": null,
            "bottom": null,
            "_model_module": "@jupyter-widgets/base",
            "top": null,
            "grid_column": null,
            "overflow_y": null,
            "overflow_x": null,
            "grid_auto_flow": null,
            "grid_area": null,
            "grid_template_columns": null,
            "flex": null,
            "_model_name": "LayoutModel",
            "justify_items": null,
            "grid_row": null,
            "max_height": null,
            "align_content": null,
            "visibility": null,
            "align_self": null,
            "height": null,
            "min_height": null,
            "padding": null,
            "grid_auto_rows": null,
            "grid_gap": null,
            "max_width": null,
            "order": null,
            "_view_module_version": "1.2.0",
            "grid_template_areas": null,
            "object_position": null,
            "object_fit": null,
            "grid_auto_columns": null,
            "margin": null,
            "display": null,
            "left": null
          }
        }
      }
    }
  },
  "cells": [
    {
      "cell_type": "markdown",
      "metadata": {
        "id": "view-in-github",
        "colab_type": "text"
      },
      "source": [
        "<a href=\"https://colab.research.google.com/github/graviraja/100-Days-of-NLP/blob/applications%2Fclassification/applications/classification/sentiment_classification/Sentimix%20with%20XLM-Roberta-Ensemble.ipynb\" target=\"_parent\"><img src=\"https://colab.research.google.com/assets/colab-badge.svg\" alt=\"Open In Colab\"/></a>"
      ]
    },
    {
      "cell_type": "markdown",
      "metadata": {
        "id": "gHU0ecH48s2p",
        "colab_type": "text"
      },
      "source": [
        "### Initial Setup"
      ]
    },
    {
      "cell_type": "code",
      "metadata": {
        "id": "P9J6Edrs7CEt",
        "colab_type": "code",
        "colab": {
          "base_uri": "https://localhost:8080/",
          "height": 124
        },
        "outputId": "e216a952-3805-4e04-c910-513a583ae907"
      },
      "source": [
        "from google.colab import drive\n",
        "drive.mount('/content/drive')"
      ],
      "execution_count": 1,
      "outputs": [
        {
          "output_type": "stream",
          "text": [
            "Go to this URL in a browser: https://accounts.google.com/o/oauth2/auth?client_id=947318989803-6bn6qk8qdgf4n4g3pfee6491hc0brc4i.apps.googleusercontent.com&redirect_uri=urn%3aietf%3awg%3aoauth%3a2.0%3aoob&scope=email%20https%3a%2f%2fwww.googleapis.com%2fauth%2fdocs.test%20https%3a%2f%2fwww.googleapis.com%2fauth%2fdrive%20https%3a%2f%2fwww.googleapis.com%2fauth%2fdrive.photos.readonly%20https%3a%2f%2fwww.googleapis.com%2fauth%2fpeopleapi.readonly&response_type=code\n",
            "\n",
            "Enter your authorization code:\n",
            "··········\n",
            "Mounted at /content/drive\n"
          ],
          "name": "stdout"
        }
      ]
    },
    {
      "cell_type": "code",
      "metadata": {
        "id": "3AJskHt07XSJ",
        "colab_type": "code",
        "colab": {}
      },
      "source": [
        "train_file = '/content/drive/My Drive/train_14k_split_conll.txt'\n",
        "test_file = '/content/drive/My Drive/dev_3k_split_conll.txt'\n",
        "\n",
        "# Data containing transliteration using google's api is taken from here\n",
        "# https://github.com/keshav22bansal/BAKSA_IITK\n",
        "processed_train_file = '/content/drive/My Drive/hinglish_train.txt'\n",
        "processed_test_file = '/content/drive/My Drive/hinglish_test.txt'"
      ],
      "execution_count": 2,
      "outputs": []
    },
    {
      "cell_type": "code",
      "metadata": {
        "id": "XQJnhkw05Y4s",
        "colab_type": "code",
        "colab": {
          "base_uri": "https://localhost:8080/",
          "height": 190
        },
        "outputId": "67f25b10-5737-422d-ca5a-42de01ec574a"
      },
      "source": [
        "!pip install indic_transliteration -q\n",
        "!pip install contractions -q\n",
        "!pip install transformers -q"
      ],
      "execution_count": 3,
      "outputs": [
        {
          "output_type": "stream",
          "text": [
            "\u001b[K     |████████████████████████████████| 102kB 2.6MB/s \n",
            "\u001b[K     |████████████████████████████████| 911kB 5.2MB/s \n",
            "\u001b[K     |████████████████████████████████| 317kB 4.6MB/s \n",
            "\u001b[K     |████████████████████████████████| 245kB 19.2MB/s \n",
            "\u001b[?25h  Building wheel for pyahocorasick (setup.py) ... \u001b[?25l\u001b[?25hdone\n",
            "\u001b[K     |████████████████████████████████| 778kB 3.5MB/s \n",
            "\u001b[K     |████████████████████████████████| 1.1MB 16.0MB/s \n",
            "\u001b[K     |████████████████████████████████| 890kB 23.2MB/s \n",
            "\u001b[K     |████████████████████████████████| 3.0MB 34.7MB/s \n",
            "\u001b[?25h  Building wheel for sacremoses (setup.py) ... \u001b[?25l\u001b[?25hdone\n"
          ],
          "name": "stdout"
        }
      ]
    },
    {
      "cell_type": "markdown",
      "metadata": {
        "id": "75MwdshHaxEh",
        "colab_type": "text"
      },
      "source": [
        "### Imports"
      ]
    },
    {
      "cell_type": "code",
      "metadata": {
        "id": "uOYYtJ7_7bkx",
        "colab_type": "code",
        "colab": {
          "base_uri": "https://localhost:8080/",
          "height": 72
        },
        "outputId": "b810996c-e493-4938-9af9-194400d8682c"
      },
      "source": [
        "import re\n",
        "import time\n",
        "import string\n",
        "import contractions\n",
        "import numpy as np\n",
        "import pandas as pd\n",
        "\n",
        "from indic_transliteration import sanscript\n",
        "from indic_transliteration.sanscript import SchemeMap, SCHEMES, transliterate\n",
        "\n",
        "from collections import Counter\n",
        "from sklearn.model_selection import train_test_split\n",
        "from sklearn import metrics\n",
        "\n",
        "import torch\n",
        "import torch.nn as nn\n",
        "import torch.nn.functional as F\n",
        "import torch.optim as optim\n",
        "from torch.utils.data import Dataset, DataLoader\n",
        "from torch.optim.lr_scheduler import ReduceLROnPlateau\n",
        "\n",
        "from transformers import XLMRobertaTokenizer, XLMRobertaModel, AdamW, get_linear_schedule_with_warmup\n",
        "\n",
        "import matplotlib.pyplot as plt\n",
        "import seaborn as sns"
      ],
      "execution_count": 4,
      "outputs": [
        {
          "output_type": "stream",
          "text": [
            "/usr/local/lib/python3.6/dist-packages/statsmodels/tools/_testing.py:19: FutureWarning: pandas.util.testing is deprecated. Use the functions in the public API at pandas.testing instead.\n",
            "  import pandas.util.testing as tm\n"
          ],
          "name": "stderr"
        }
      ]
    },
    {
      "cell_type": "code",
      "metadata": {
        "id": "E3q0e0pvKjbZ",
        "colab_type": "code",
        "colab": {
          "base_uri": "https://localhost:8080/",
          "height": 35
        },
        "outputId": "4c160a63-b7c6-4b53-f6d1-262c5c9edbf1"
      },
      "source": [
        "device = torch.device('cuda' if torch.cuda.is_available() else 'cpu')\n",
        "device"
      ],
      "execution_count": 5,
      "outputs": [
        {
          "output_type": "execute_result",
          "data": {
            "text/plain": [
              "device(type='cuda')"
            ]
          },
          "metadata": {
            "tags": []
          },
          "execution_count": 5
        }
      ]
    },
    {
      "cell_type": "markdown",
      "metadata": {
        "id": "OBtos_zBabKz",
        "colab_type": "text"
      },
      "source": [
        "### Processing the Data\n",
        "\n",
        "Skip this step and move to Using the processed sentences.\n",
        "\n",
        "The processed data is taken from [here](https://github.com/keshav22bansal/BAKSA_IITK)\n",
        "\n",
        "The major difference is that transliteration of hinglish words to hindi is done using google's api instead of indic_transliteration module"
      ]
    },
    {
      "cell_type": "code",
      "metadata": {
        "id": "oya12Zay7bIB",
        "colab_type": "code",
        "colab": {}
      },
      "source": [
        "with open(train_file) as f:\n",
        "    data = f.readlines()\n",
        "\n",
        "with open(test_file, 'r') as f:\n",
        "    test_data = f.readlines()"
      ],
      "execution_count": null,
      "outputs": []
    },
    {
      "cell_type": "code",
      "metadata": {
        "id": "ko5rnZqI8RnM",
        "colab_type": "code",
        "colab": {}
      },
      "source": [
        "def parse_data(data):\n",
        "    uids, sentences, sentences_info, sentiment = [], [], [], []\n",
        "    \n",
        "    single_sentence, single_sentence_info = [], []\n",
        "    sent = \"\"\n",
        "    uid = 0\n",
        "\n",
        "    for idx, each_line in enumerate(data):\n",
        "        line = each_line.strip()\n",
        "        tokens = line.split('\\t')\n",
        "        num_tokens = len(tokens)\n",
        "        if num_tokens == 2:\n",
        "            # add the word\n",
        "            single_sentence.append(tokens[0])\n",
        "            # add the word info(lang)\n",
        "            single_sentence_info.append(tokens[1])\n",
        "        elif num_tokens == 3 and idx > 0:\n",
        "            # append the sentence data\n",
        "            sentences.append(single_sentence)\n",
        "            sentences_info.append(single_sentence_info)\n",
        "            sentiment.append(sent)\n",
        "            uids.append(uid)\n",
        "            sent = tokens[-1]\n",
        "            uid = int(tokens[1])\n",
        "            # clear the single sentence\n",
        "            single_sentence = []\n",
        "            single_sentence_info = []\n",
        "        # new line after the sentence\n",
        "        elif num_tokens == 1:\n",
        "            continue\n",
        "        else:\n",
        "            sent = tokens[-1]\n",
        "            uid = int(tokens[1])\n",
        "\n",
        "    # for the last sentence\n",
        "    if len(single_sentence) > 0:\n",
        "        sentences.append(single_sentence)\n",
        "        sentences_info.append(single_sentence_info)\n",
        "        sentiment.append(sent)\n",
        "        uids.append(uid)\n",
        "        \n",
        "    assert len(sentences) == len(sentences_info) == len(sentiment) == len(uids)\n",
        "    return sentences, sentences_info, sentiment, uids"
      ],
      "execution_count": null,
      "outputs": []
    },
    {
      "cell_type": "code",
      "metadata": {
        "id": "sBmoEX8a8Uib",
        "colab_type": "code",
        "colab": {}
      },
      "source": [
        "sentences, sentences_info, sentiment, uids = parse_data(data)"
      ],
      "execution_count": null,
      "outputs": []
    },
    {
      "cell_type": "code",
      "metadata": {
        "id": "sdrErRrz8YPN",
        "colab_type": "code",
        "colab": {}
      },
      "source": [
        "test_sentences, test_sentences_info, test_sentiment, test_uids = parse_data(test_data)"
      ],
      "execution_count": null,
      "outputs": []
    },
    {
      "cell_type": "code",
      "metadata": {
        "id": "bPv5_hcW8cKK",
        "colab_type": "code",
        "colab": {
          "base_uri": "https://localhost:8080/",
          "height": 466
        },
        "outputId": "79d38268-ae6d-41ee-ea33-072592fab420"
      },
      "source": [
        "list(zip(sentences[0], sentences_info[0]))"
      ],
      "execution_count": null,
      "outputs": [
        {
          "output_type": "execute_result",
          "data": {
            "text/plain": [
              "[('nen', 'Eng'),\n",
              " ('á', 'O'),\n",
              " ('vist', 'Eng'),\n",
              " ('bolest', 'Eng'),\n",
              " ('vztek', 'Eng'),\n",
              " ('smutek', 'Eng'),\n",
              " ('zmatek', 'Hin'),\n",
              " ('osam', 'Hin'),\n",
              " ('ě', 'O'),\n",
              " ('lost', 'Eng'),\n",
              " ('beznad', 'Eng'),\n",
              " ('ě', 'O'),\n",
              " ('j', 'Hin'),\n",
              " ('a', 'Eng'),\n",
              " ('nakonec', 'Eng'),\n",
              " ('jen', 'Hin'),\n",
              " ('klid', 'Hin'),\n",
              " ('Asi', 'Hin'),\n",
              " ('takhle', 'Hin'),\n",
              " ('vypad', 'Hin'),\n",
              " ('á', 'O'),\n",
              " ('m', 'Hin'),\n",
              " ('ů', 'O'),\n",
              " ('j', 'Eng'),\n",
              " ('life', 'Eng'),\n",
              " ('...', 'O')]"
            ]
          },
          "metadata": {
            "tags": []
          },
          "execution_count": 10
        }
      ]
    },
    {
      "cell_type": "code",
      "metadata": {
        "id": "-ELyVIys5kY6",
        "colab_type": "code",
        "colab": {
          "base_uri": "https://localhost:8080/",
          "height": 35
        },
        "outputId": "3c4817ac-31ef-4a28-c2d8-d720df75a5ae"
      },
      "source": [
        "data = \"jen klid takhle vypad\"\n",
        "transliterate(data, sanscript.ITRANS, sanscript.DEVANAGARI)"
      ],
      "execution_count": null,
      "outputs": [
        {
          "output_type": "execute_result",
          "data": {
            "application/vnd.google.colaboratory.intrinsic+json": {
              "type": "string"
            },
            "text/plain": [
              "'जेन् क्लिद् तख्ले व्य्पद्'"
            ]
          },
          "metadata": {
            "tags": []
          },
          "execution_count": 11
        }
      ]
    },
    {
      "cell_type": "code",
      "metadata": {
        "id": "mf95GioQ8ydO",
        "colab_type": "code",
        "colab": {}
      },
      "source": [
        "def translate(sentences, sentences_info):\n",
        "    translated = []\n",
        "\n",
        "    for sent, sent_info in zip(sentences, sentences_info):\n",
        "        partial_translated = []\n",
        "        for word, word_info in zip(sent, sent_info):\n",
        "            if word_info == \"Hin\":\n",
        "                partial_translated.append(transliterate(word, sanscript.ITRANS, sanscript.DEVANAGARI))\n",
        "            else:\n",
        "                partial_translated.append(word)\n",
        "        translated.append(partial_translated)\n",
        "    \n",
        "    return translated"
      ],
      "execution_count": null,
      "outputs": []
    },
    {
      "cell_type": "code",
      "metadata": {
        "id": "wzxmcuX5-5F_",
        "colab_type": "code",
        "colab": {}
      },
      "source": [
        "translated_sentences = translate(sentences, sentences_info)\n",
        "test_translated_sentences = translate(test_sentences, test_sentences_info)"
      ],
      "execution_count": null,
      "outputs": []
    },
    {
      "cell_type": "code",
      "metadata": {
        "id": "tXpDjYLU_ApQ",
        "colab_type": "code",
        "colab": {}
      },
      "source": [
        "url_pattern = r'https(.*)/\\s[\\w\\u0900-\\u097F]+'\n",
        "special_chars = r'[_…\\*\\[\\]\\(\\)&“]'\n",
        "names_with_numbers = r'([A-Za-z\\u0900-\\u097F]+)\\d{3,}'\n",
        "apostee = r\"([\\w]+)\\s'\\s([\\w]+)\"\n",
        "names = r\"@[\\s]*[\\w\\u0900-\\u097F]+[\\s]*[_]+[\\s]*[\\w\\u0900-\\u097F]+|@[\\s]*[\\w\\u0900-\\u097F]+\"\n",
        "hashtags = r\"#[\\s]*[\\w\\u0900-\\u097F]+[\\s]*\"\n",
        "\n",
        "def preprocess_data(sentence_tokens):\n",
        "    sentence = \" \".join(sentence_tokens)\n",
        "    sentence = \" \" + sentence\n",
        "    # remove rt and … from string\n",
        "    sentence = sentence.replace(\" RT \", \"\")\n",
        "    sentence = sentence.replace(\"…\", \"\")\n",
        "    # replace apostee\n",
        "    sentence = sentence.replace(\"’\", \"'\")\n",
        "    # replace _\n",
        "    sentence = sentence.replace(\"_\", \" \")\n",
        "    # replace names\n",
        "    sentence = re.sub(re.compile(names), \" \", sentence)\n",
        "    # remove hashtags\n",
        "    sentence = re.sub(re.compile(hashtags), \" \", sentence)\n",
        "    # remove urls\n",
        "    sentence = re.sub(re.compile(url_pattern), \"\", sentence)\n",
        "    # combine only ' related words => ... it ' s ... -> ... it's ...\n",
        "    sentence = re.sub(re.compile(apostee), r\"\\1'\\2\", sentence)\n",
        "    # fix contractions\n",
        "    sentence = contractions.fix(sentence)\n",
        "    # replace names ending with numbers with only names (remove numbers)\n",
        "    sentence = re.sub(re.compile(names_with_numbers), r\" \", sentence)\n",
        "    sentence = \" \".join(sentence.split()).strip()\n",
        "    return sentence\n"
      ],
      "execution_count": null,
      "outputs": []
    },
    {
      "cell_type": "code",
      "metadata": {
        "id": "wXD80DU8qT2C",
        "colab_type": "code",
        "colab": {
          "base_uri": "https://localhost:8080/",
          "height": 66,
          "referenced_widgets": [
            "12f8786bf3a34caead93fcb2bf2b0007",
            "9b261fa11c9842e3b968f0061d75f4c7",
            "f985d8824dd3406d937849df77bbd6e3",
            "4321847ab4d446d581d2f1898d3acbd5",
            "332f2f1f4a724fb9be3b40ef3f20ddbe",
            "ddc1e02a2013468ba7781d59013356d7",
            "3b031c83d17a4e6f81d4edb70d4912b0",
            "098b3326055d444f97ba9bc32a965b30"
          ]
        },
        "outputId": "ca9a4696-b128-4450-cf31-4f1b9a5f40b6"
      },
      "source": [
        "MODEL_NAME = \"xlm-roberta-base\"\n",
        "tokenizer = XLMRobertaTokenizer.from_pretrained(MODEL_NAME)"
      ],
      "execution_count": null,
      "outputs": [
        {
          "output_type": "display_data",
          "data": {
            "application/vnd.jupyter.widget-view+json": {
              "model_id": "12f8786bf3a34caead93fcb2bf2b0007",
              "version_minor": 0,
              "version_major": 2
            },
            "text/plain": [
              "HBox(children=(FloatProgress(value=0.0, description='Downloading', max=5069051.0, style=ProgressStyle(descript…"
            ]
          },
          "metadata": {
            "tags": []
          }
        },
        {
          "output_type": "stream",
          "text": [
            "\n"
          ],
          "name": "stdout"
        }
      ]
    },
    {
      "cell_type": "code",
      "metadata": {
        "id": "FCzRR0dAq4vz",
        "colab_type": "code",
        "colab": {
          "base_uri": "https://localhost:8080/",
          "height": 86
        },
        "outputId": "8b889bd8-17b1-4e53-c55d-7e56d8cac565"
      },
      "source": [
        "print(tokenizer.sep_token, tokenizer.sep_token_id)\n",
        "print(tokenizer.cls_token, tokenizer.cls_token_id)\n",
        "print(tokenizer.pad_token, tokenizer.pad_token_id)\n",
        "print(tokenizer.unk_token, tokenizer.unk_token_id)"
      ],
      "execution_count": null,
      "outputs": [
        {
          "output_type": "stream",
          "text": [
            "</s> 2\n",
            "<s> 0\n",
            "<pad> 1\n",
            "<unk> 3\n"
          ],
          "name": "stdout"
        }
      ]
    },
    {
      "cell_type": "code",
      "metadata": {
        "id": "GSzkD2Tw_58j",
        "colab_type": "code",
        "colab": {
          "base_uri": "https://localhost:8080/",
          "height": 52
        },
        "outputId": "fb990bb4-419e-436e-808a-fc3036168c79"
      },
      "source": [
        "\" \".join(sentences[32]), sentiment[32]"
      ],
      "execution_count": null,
      "outputs": [
        {
          "output_type": "execute_result",
          "data": {
            "text/plain": [
              "('@ IndiaToday Teri kimat dokodi ki ho gayi ... amit shah will capture telegana soon ... kcr will resign ...',\n",
              " 'negative')"
            ]
          },
          "metadata": {
            "tags": []
          },
          "execution_count": 33
        }
      ]
    },
    {
      "cell_type": "code",
      "metadata": {
        "id": "NLeITOEQ_8A6",
        "colab_type": "code",
        "colab": {
          "base_uri": "https://localhost:8080/",
          "height": 35
        },
        "outputId": "37e62dfe-e4c7-4d9e-8d98-ae0cd23caf65"
      },
      "source": [
        "\" \".join(translated_sentences[32])"
      ],
      "execution_count": null,
      "outputs": [
        {
          "output_type": "execute_result",
          "data": {
            "application/vnd.google.colaboratory.intrinsic+json": {
              "type": "string"
            },
            "text/plain": [
              "'@ IndiaToday टेरि किमत् दोकोदि कि हो गयि ... अमित् शह् will capture telegana soon ... kcr will resign ...'"
            ]
          },
          "metadata": {
            "tags": []
          },
          "execution_count": 34
        }
      ]
    },
    {
      "cell_type": "code",
      "metadata": {
        "id": "mdxL0woM__2K",
        "colab_type": "code",
        "colab": {
          "base_uri": "https://localhost:8080/",
          "height": 35
        },
        "outputId": "e6f5f0ff-abd1-4f75-eb58-064676edbf8d"
      },
      "source": [
        "preprocess_data(translated_sentences[32])"
      ],
      "execution_count": null,
      "outputs": [
        {
          "output_type": "execute_result",
          "data": {
            "application/vnd.google.colaboratory.intrinsic+json": {
              "type": "string"
            },
            "text/plain": [
              "'टेरि किमत् दोकोदि कि हो गयि ... अमित् शह् will capture telegana soon ... kcr will resign ...'"
            ]
          },
          "metadata": {
            "tags": []
          },
          "execution_count": 35
        }
      ]
    },
    {
      "cell_type": "code",
      "metadata": {
        "id": "RvNwk7WKqW9j",
        "colab_type": "code",
        "colab": {}
      },
      "source": [
        "encoding = tokenizer.encode_plus(\n",
        "  preprocess_data(translated_sentences[32]),\n",
        "  max_length=100,\n",
        "  add_special_tokens=True, # Add '[CLS]' and '[SEP]'\n",
        "  return_token_type_ids=False,\n",
        "  truncation=True,\n",
        "  pad_to_max_length=True,\n",
        "  return_attention_mask=True,\n",
        "  return_tensors='pt',  # Return PyTorch tensors\n",
        ")"
      ],
      "execution_count": null,
      "outputs": []
    },
    {
      "cell_type": "code",
      "metadata": {
        "id": "ZYvPpI2aqml2",
        "colab_type": "code",
        "colab": {
          "base_uri": "https://localhost:8080/",
          "height": 242
        },
        "outputId": "dfe02a64-ad6c-4d77-e9d3-b34ff7ed0f73"
      },
      "source": [
        "print(len(encoding['input_ids'][0]))\n",
        "encoding['input_ids'][0]"
      ],
      "execution_count": null,
      "outputs": [
        {
          "output_type": "stream",
          "text": [
            "100\n"
          ],
          "name": "stdout"
        },
        {
          "output_type": "execute_result",
          "data": {
            "text/plain": [
              "tensor([     0,  46005,  18992,   1682, 154156,  10850,    356,  13551,   1682,\n",
              "          1253,   5167,  67625,    153, 129069,   4377,   8933,   3849,   4377,\n",
              "          1221, 141621,   5501,  24869,  33662,    153,    472,  23150,   1221,\n",
              "        199747,    153,      2,      1,      1,      1,      1,      1,      1,\n",
              "             1,      1,      1,      1,      1,      1,      1,      1,      1,\n",
              "             1,      1,      1,      1,      1,      1,      1,      1,      1,\n",
              "             1,      1,      1,      1,      1,      1,      1,      1,      1,\n",
              "             1,      1,      1,      1,      1,      1,      1,      1,      1,\n",
              "             1,      1,      1,      1,      1,      1,      1,      1,      1,\n",
              "             1,      1,      1,      1,      1,      1,      1,      1,      1,\n",
              "             1,      1,      1,      1,      1,      1,      1,      1,      1,\n",
              "             1])"
            ]
          },
          "metadata": {
            "tags": []
          },
          "execution_count": 21
        }
      ]
    },
    {
      "cell_type": "code",
      "metadata": {
        "id": "kz-m4mcDqrZt",
        "colab_type": "code",
        "colab": {
          "base_uri": "https://localhost:8080/",
          "height": 121
        },
        "outputId": "4ec82d7e-7726-477a-effc-ec592a270819"
      },
      "source": [
        "print(len(encoding['attention_mask'][0]))\n",
        "encoding['attention_mask']"
      ],
      "execution_count": null,
      "outputs": [
        {
          "output_type": "stream",
          "text": [
            "100\n"
          ],
          "name": "stdout"
        },
        {
          "output_type": "execute_result",
          "data": {
            "text/plain": [
              "tensor([[1, 1, 1, 1, 1, 1, 1, 1, 1, 1, 1, 1, 1, 1, 1, 1, 1, 1, 1, 1, 1, 1, 1, 1,\n",
              "         1, 1, 1, 1, 1, 1, 0, 0, 0, 0, 0, 0, 0, 0, 0, 0, 0, 0, 0, 0, 0, 0, 0, 0,\n",
              "         0, 0, 0, 0, 0, 0, 0, 0, 0, 0, 0, 0, 0, 0, 0, 0, 0, 0, 0, 0, 0, 0, 0, 0,\n",
              "         0, 0, 0, 0, 0, 0, 0, 0, 0, 0, 0, 0, 0, 0, 0, 0, 0, 0, 0, 0, 0, 0, 0, 0,\n",
              "         0, 0, 0, 0]])"
            ]
          },
          "metadata": {
            "tags": []
          },
          "execution_count": 22
        }
      ]
    },
    {
      "cell_type": "code",
      "metadata": {
        "id": "eDA5DkOjrO5n",
        "colab_type": "code",
        "colab": {
          "base_uri": "https://localhost:8080/",
          "height": 1000
        },
        "outputId": "b510eade-9562-4774-b6e0-4c50de8cd49f"
      },
      "source": [
        "tokenizer.convert_ids_to_tokens(encoding['input_ids'][0])"
      ],
      "execution_count": null,
      "outputs": [
        {
          "output_type": "execute_result",
          "data": {
            "text/plain": [
              "['<s>',\n",
              " '▁टे',\n",
              " 'रि',\n",
              " '▁कि',\n",
              " 'मत्',\n",
              " '▁दो',\n",
              " 'को',\n",
              " 'दि',\n",
              " '▁कि',\n",
              " '▁हो',\n",
              " '▁ग',\n",
              " 'यि',\n",
              " '▁...',\n",
              " '▁अमित',\n",
              " '्',\n",
              " '▁श',\n",
              " 'ह',\n",
              " '्',\n",
              " '▁will',\n",
              " '▁capture',\n",
              " '▁tele',\n",
              " 'gana',\n",
              " '▁soon',\n",
              " '▁...',\n",
              " '▁k',\n",
              " 'cr',\n",
              " '▁will',\n",
              " '▁resign',\n",
              " '▁...',\n",
              " '</s>',\n",
              " '<pad>',\n",
              " '<pad>',\n",
              " '<pad>',\n",
              " '<pad>',\n",
              " '<pad>',\n",
              " '<pad>',\n",
              " '<pad>',\n",
              " '<pad>',\n",
              " '<pad>',\n",
              " '<pad>',\n",
              " '<pad>',\n",
              " '<pad>',\n",
              " '<pad>',\n",
              " '<pad>',\n",
              " '<pad>',\n",
              " '<pad>',\n",
              " '<pad>',\n",
              " '<pad>',\n",
              " '<pad>',\n",
              " '<pad>',\n",
              " '<pad>',\n",
              " '<pad>',\n",
              " '<pad>',\n",
              " '<pad>',\n",
              " '<pad>',\n",
              " '<pad>',\n",
              " '<pad>',\n",
              " '<pad>',\n",
              " '<pad>',\n",
              " '<pad>',\n",
              " '<pad>',\n",
              " '<pad>',\n",
              " '<pad>',\n",
              " '<pad>',\n",
              " '<pad>',\n",
              " '<pad>',\n",
              " '<pad>',\n",
              " '<pad>',\n",
              " '<pad>',\n",
              " '<pad>',\n",
              " '<pad>',\n",
              " '<pad>',\n",
              " '<pad>',\n",
              " '<pad>',\n",
              " '<pad>',\n",
              " '<pad>',\n",
              " '<pad>',\n",
              " '<pad>',\n",
              " '<pad>',\n",
              " '<pad>',\n",
              " '<pad>',\n",
              " '<pad>',\n",
              " '<pad>',\n",
              " '<pad>',\n",
              " '<pad>',\n",
              " '<pad>',\n",
              " '<pad>',\n",
              " '<pad>',\n",
              " '<pad>',\n",
              " '<pad>',\n",
              " '<pad>',\n",
              " '<pad>',\n",
              " '<pad>',\n",
              " '<pad>',\n",
              " '<pad>',\n",
              " '<pad>',\n",
              " '<pad>',\n",
              " '<pad>',\n",
              " '<pad>',\n",
              " '<pad>']"
            ]
          },
          "metadata": {
            "tags": []
          },
          "execution_count": 23
        }
      ]
    },
    {
      "cell_type": "code",
      "metadata": {
        "id": "cu27ifEeAG6i",
        "colab_type": "code",
        "colab": {
          "base_uri": "https://localhost:8080/",
          "height": 52
        },
        "outputId": "7d2cf9d4-dea1-41fa-944a-cc641b9a67c1"
      },
      "source": [
        "\" \".join(sentences[29]), sentiment[29]"
      ],
      "execution_count": null,
      "outputs": [
        {
          "output_type": "execute_result",
          "data": {
            "text/plain": [
              "('Madam @ SushmaSwaraj ji we always miss you as a # videsh _ mantri',\n",
              " 'positive')"
            ]
          },
          "metadata": {
            "tags": []
          },
          "execution_count": 36
        }
      ]
    },
    {
      "cell_type": "code",
      "metadata": {
        "id": "tbhxDrXLAcef",
        "colab_type": "code",
        "colab": {
          "base_uri": "https://localhost:8080/",
          "height": 35
        },
        "outputId": "829ace44-95c3-4ed4-ed8e-65aae754f652"
      },
      "source": [
        "\" \".join(translated_sentences[29])"
      ],
      "execution_count": null,
      "outputs": [
        {
          "output_type": "execute_result",
          "data": {
            "application/vnd.google.colaboratory.intrinsic+json": {
              "type": "string"
            },
            "text/plain": [
              "'ंअदम् @ Sउश्मSवरज् जि we always miss you as a # विदेश् _ मन्त्रि'"
            ]
          },
          "metadata": {
            "tags": []
          },
          "execution_count": 37
        }
      ]
    },
    {
      "cell_type": "code",
      "metadata": {
        "id": "xgTwgMcNAi1L",
        "colab_type": "code",
        "colab": {
          "base_uri": "https://localhost:8080/",
          "height": 35
        },
        "outputId": "6b228c69-02d6-4253-a92c-ee9955018f7c"
      },
      "source": [
        "preprocess_data(translated_sentences[29])"
      ],
      "execution_count": null,
      "outputs": [
        {
          "output_type": "execute_result",
          "data": {
            "application/vnd.google.colaboratory.intrinsic+json": {
              "type": "string"
            },
            "text/plain": [
              "'ंअदम् जि we always miss you as a मन्त्रि'"
            ]
          },
          "metadata": {
            "tags": []
          },
          "execution_count": 40
        }
      ]
    },
    {
      "cell_type": "code",
      "metadata": {
        "id": "kVD50xbdAqLt",
        "colab_type": "code",
        "colab": {
          "base_uri": "https://localhost:8080/",
          "height": 72
        },
        "outputId": "0a212420-1d12-47bb-991b-4762487e61da"
      },
      "source": [
        "\" \".join(sentences[10]), sentiment[10]"
      ],
      "execution_count": null,
      "outputs": [
        {
          "output_type": "execute_result",
          "data": {
            "text/plain": [
              "('@ ECISVEEP Can you answer miscalculated votes on each seat ? One vote matters ! # deshkamahatyohar hai aur apne dhji … https // t . co / SuHS4mx6Dm',\n",
              " 'neutral')"
            ]
          },
          "metadata": {
            "tags": []
          },
          "execution_count": 27
        }
      ]
    },
    {
      "cell_type": "code",
      "metadata": {
        "id": "pPo3jSKUA90I",
        "colab_type": "code",
        "colab": {
          "base_uri": "https://localhost:8080/",
          "height": 53
        },
        "outputId": "5ec6dc72-a183-4a04-fe2f-4855f0db8f34"
      },
      "source": [
        "\" \".join(translated_sentences[10])"
      ],
      "execution_count": null,
      "outputs": [
        {
          "output_type": "execute_result",
          "data": {
            "application/vnd.google.colaboratory.intrinsic+json": {
              "type": "string"
            },
            "text/plain": [
              "'@ ECISVEEP Can you answer miscalculated votes on each seat ? One vote मत्तेर्स् ! # देश्कमहत्योहर् है और् अप्ने dhji … https // t . cओ / SउःS४म्क्ष्६ड्म्'"
            ]
          },
          "metadata": {
            "tags": []
          },
          "execution_count": 28
        }
      ]
    },
    {
      "cell_type": "code",
      "metadata": {
        "id": "PV43kaThA_w6",
        "colab_type": "code",
        "colab": {
          "base_uri": "https://localhost:8080/",
          "height": 35
        },
        "outputId": "0b4e4606-62d6-429c-da8b-e29f550e1ce0"
      },
      "source": [
        "preprocess_data(translated_sentences[10])"
      ],
      "execution_count": null,
      "outputs": [
        {
          "output_type": "execute_result",
          "data": {
            "application/vnd.google.colaboratory.intrinsic+json": {
              "type": "string"
            },
            "text/plain": [
              "'Can you answer miscalculated votes on each seat ? One vote मत्तेर्स् ! # देश्कमहत्योहर् है और् अप्ने dhji'"
            ]
          },
          "metadata": {
            "tags": []
          },
          "execution_count": 29
        }
      ]
    },
    {
      "cell_type": "code",
      "metadata": {
        "id": "dz7VUX61L2hV",
        "colab_type": "code",
        "colab": {
          "base_uri": "https://localhost:8080/",
          "height": 52
        },
        "outputId": "98e4e105-406f-45c3-a31b-c32862fd1420"
      },
      "source": [
        "%%time\n",
        "processed_sentences = []\n",
        "\n",
        "for sent in translated_sentences:\n",
        "    processed_sentences.append(preprocess_data(sent))\n",
        "\n",
        "test_data = []\n",
        "\n",
        "for sent in test_translated_sentences:\n",
        "    test_data.append(preprocess_data(sent))"
      ],
      "execution_count": null,
      "outputs": [
        {
          "output_type": "stream",
          "text": [
            "CPU times: user 707 ms, sys: 8 µs, total: 707 ms\n",
            "Wall time: 708 ms\n"
          ],
          "name": "stdout"
        }
      ]
    },
    {
      "cell_type": "code",
      "metadata": {
        "id": "oiSguBUPPUff",
        "colab_type": "code",
        "colab": {}
      },
      "source": [
        "sentiment_mapping = {\n",
        "    \"negative\": 0,\n",
        "    \"neutral\": 1,\n",
        "    \"positive\": 2\n",
        "}"
      ],
      "execution_count": null,
      "outputs": []
    },
    {
      "cell_type": "code",
      "metadata": {
        "id": "Y5CXiR84PYdw",
        "colab_type": "code",
        "colab": {}
      },
      "source": [
        "labels = [sentiment_mapping[sent] for sent in sentiment]\n",
        "test_label = [sentiment_mapping[sent] for sent in test_sentiment]"
      ],
      "execution_count": null,
      "outputs": []
    },
    {
      "cell_type": "markdown",
      "metadata": {
        "id": "bCPx99P9apEu",
        "colab_type": "text"
      },
      "source": [
        "### Using the Processed sentences"
      ]
    },
    {
      "cell_type": "code",
      "metadata": {
        "id": "3UbOOAR6bb2K",
        "colab_type": "code",
        "colab": {}
      },
      "source": [
        "uids = []\n",
        "processed_sentences = []\n",
        "labels = []\n",
        "\n",
        "with open(processed_train_file, 'r') as f:\n",
        "    for line in f.readlines()[1:]:\n",
        "        items = line.strip().split('\\t')\n",
        "        uids.append(items[0])\n",
        "        processed_sentences.append(str(items[1]))\n",
        "        labels.append(int(items[2]))"
      ],
      "execution_count": 6,
      "outputs": []
    },
    {
      "cell_type": "code",
      "metadata": {
        "id": "XqXm2SLQbyNV",
        "colab_type": "code",
        "colab": {}
      },
      "source": [
        "test_uids = []\n",
        "test_data = []\n",
        "test_label = []\n",
        "\n",
        "with open(processed_test_file, 'r') as f:\n",
        "    for line in f.readlines()[1:]:\n",
        "        items = line.strip().split('\\t')\n",
        "        test_uids.append(items[0])\n",
        "        test_data.append(str(items[1]))\n",
        "        test_label.append(int(items[2]))"
      ],
      "execution_count": 7,
      "outputs": []
    },
    {
      "cell_type": "markdown",
      "metadata": {
        "id": "oxLxTjWt8KGo",
        "colab_type": "text"
      },
      "source": [
        "### Train-Val-Test data splits"
      ]
    },
    {
      "cell_type": "code",
      "metadata": {
        "id": "2SZj6jOJPbVa",
        "colab_type": "code",
        "colab": {}
      },
      "source": [
        "train_uids, val_uids, train_data, val_data, train_label, val_label = train_test_split(uids, processed_sentences, labels, test_size=0.2)"
      ],
      "execution_count": 8,
      "outputs": []
    },
    {
      "cell_type": "code",
      "metadata": {
        "id": "oQI8f9HQPeLw",
        "colab_type": "code",
        "colab": {
          "base_uri": "https://localhost:8080/",
          "height": 35
        },
        "outputId": "5705e8a3-2341-4327-cf62-4e55ec85b3f7"
      },
      "source": [
        "len(train_data), len(val_data), len(test_data)"
      ],
      "execution_count": 9,
      "outputs": [
        {
          "output_type": "execute_result",
          "data": {
            "text/plain": [
              "(11200, 2800, 3131)"
            ]
          },
          "metadata": {
            "tags": []
          },
          "execution_count": 9
        }
      ]
    },
    {
      "cell_type": "markdown",
      "metadata": {
        "id": "sj700H7P8Ow5",
        "colab_type": "text"
      },
      "source": [
        "### Tokenizer"
      ]
    },
    {
      "cell_type": "code",
      "metadata": {
        "id": "NXXvHvoBRDDV",
        "colab_type": "code",
        "colab": {}
      },
      "source": [
        "MAX_LEN = 150"
      ],
      "execution_count": 10,
      "outputs": []
    },
    {
      "cell_type": "code",
      "metadata": {
        "id": "0huiGV7saj8a",
        "colab_type": "code",
        "colab": {
          "base_uri": "https://localhost:8080/",
          "height": 66,
          "referenced_widgets": [
            "4c42c6b4117148bb9f6b9bffff0db0ef",
            "5327c34533bd4b539b738ed0fe56226f",
            "8c0e2c79352b460aa1ffbe31f66beada",
            "648a8324998b444183abc0ab1e846d4a",
            "fa613836a2cf4d3b8ff85be3846ba4b3",
            "b74c71823c594b75a3c5ace7b6cace9a",
            "f8118eff9f004237a84dded33fff041f",
            "89fa771e77824291a455c6be0da39b76"
          ]
        },
        "outputId": "028c7161-88e5-432b-8886-f67b6fcc688f"
      },
      "source": [
        "MODEL_NAME = \"xlm-roberta-base\"\n",
        "tokenizer = XLMRobertaTokenizer.from_pretrained(MODEL_NAME)"
      ],
      "execution_count": 11,
      "outputs": [
        {
          "output_type": "display_data",
          "data": {
            "application/vnd.jupyter.widget-view+json": {
              "model_id": "4c42c6b4117148bb9f6b9bffff0db0ef",
              "version_minor": 0,
              "version_major": 2
            },
            "text/plain": [
              "HBox(children=(FloatProgress(value=0.0, description='Downloading', max=5069051.0, style=ProgressStyle(descript…"
            ]
          },
          "metadata": {
            "tags": []
          }
        },
        {
          "output_type": "stream",
          "text": [
            "\n"
          ],
          "name": "stdout"
        }
      ]
    },
    {
      "cell_type": "markdown",
      "metadata": {
        "id": "juSSW7_w8QnZ",
        "colab_type": "text"
      },
      "source": [
        "### Dataset Wrapper class"
      ]
    },
    {
      "cell_type": "code",
      "metadata": {
        "id": "zNdcljj1ikJc",
        "colab_type": "code",
        "colab": {}
      },
      "source": [
        "class SentiMixDataSet(Dataset):\n",
        "    def __init__(self, inputs, labels, tokenizer, max_len):\n",
        "        self.sentences = inputs\n",
        "        self.labels = labels\n",
        "        self.tokenizer = tokenizer\n",
        "        self.max_len = max_len\n",
        "    \n",
        "    def __len__(self):\n",
        "        return len(self.labels)\n",
        "    \n",
        "    def __getitem__(self, item):\n",
        "        sentence = self.sentences[item]\n",
        "        sentiment = int(self.labels[item])\n",
        "        \n",
        "        encoding = self.tokenizer.encode_plus(\n",
        "            sentence,\n",
        "            add_special_tokens=True,\n",
        "            max_length=self.max_len,\n",
        "            return_token_type_ids=False,\n",
        "            pad_to_max_length=True,\n",
        "            truncation=True,\n",
        "            return_attention_mask=True,\n",
        "            return_tensors='pt',\n",
        "        )\n",
        "\n",
        "        \n",
        "        return {\n",
        "            \"text\": sentence,\n",
        "            \"input_ids\": encoding['input_ids'].flatten(),\n",
        "            \"attention_mask\": encoding['attention_mask'].flatten(),\n",
        "            \"label\": torch.tensor(sentiment, dtype=torch.long)\n",
        "        }"
      ],
      "execution_count": 12,
      "outputs": []
    },
    {
      "cell_type": "code",
      "metadata": {
        "id": "DmQjjQvUkgk6",
        "colab_type": "code",
        "colab": {}
      },
      "source": [
        "train_dataset = SentiMixDataSet(train_data, train_label, tokenizer, MAX_LEN)\n",
        "val_dataset = SentiMixDataSet(val_data, val_label, tokenizer, MAX_LEN)\n",
        "test_dataset = SentiMixDataSet(test_data, test_label, tokenizer, MAX_LEN)"
      ],
      "execution_count": 13,
      "outputs": []
    },
    {
      "cell_type": "markdown",
      "metadata": {
        "id": "yCfXFyo48TUc",
        "colab_type": "text"
      },
      "source": [
        "### DataLoaders"
      ]
    },
    {
      "cell_type": "code",
      "metadata": {
        "id": "2y5QX1cLkJOT",
        "colab_type": "code",
        "colab": {}
      },
      "source": [
        "BATCH_SIZE = 16"
      ],
      "execution_count": 14,
      "outputs": []
    },
    {
      "cell_type": "code",
      "metadata": {
        "id": "6pT5I4IrhAu3",
        "colab_type": "code",
        "colab": {}
      },
      "source": [
        "train_data_loader = DataLoader(train_dataset, shuffle=True, batch_size=BATCH_SIZE)\n",
        "valid_data_loader = DataLoader(val_dataset, batch_size=BATCH_SIZE)\n",
        "test_data_loader = DataLoader(test_dataset, batch_size=BATCH_SIZE)"
      ],
      "execution_count": 15,
      "outputs": []
    },
    {
      "cell_type": "code",
      "metadata": {
        "id": "gAImtABcKs9y",
        "colab_type": "code",
        "colab": {}
      },
      "source": [
        "# sample\n",
        "sample = next(iter(train_data_loader))"
      ],
      "execution_count": 16,
      "outputs": []
    },
    {
      "cell_type": "code",
      "metadata": {
        "id": "sEhCZVtWKzSc",
        "colab_type": "code",
        "colab": {
          "base_uri": "https://localhost:8080/",
          "height": 35
        },
        "outputId": "546d6f9f-61ab-462a-ceb1-5530112ff45a"
      },
      "source": [
        "sample[\"input_ids\"].shape, sample[\"attention_mask\"].shape, sample[\"label\"].shape"
      ],
      "execution_count": 17,
      "outputs": [
        {
          "output_type": "execute_result",
          "data": {
            "text/plain": [
              "(torch.Size([16, 150]), torch.Size([16, 150]), torch.Size([16]))"
            ]
          },
          "metadata": {
            "tags": []
          },
          "execution_count": 17
        }
      ]
    },
    {
      "cell_type": "markdown",
      "metadata": {
        "id": "DTtLBV_I8VmT",
        "colab_type": "text"
      },
      "source": [
        "### XLM-RoBERTa with Ensemble (CNN + GRU Attention) Model"
      ]
    },
    {
      "cell_type": "code",
      "metadata": {
        "id": "qy72xb5uk7f0",
        "colab_type": "code",
        "colab": {}
      },
      "source": [
        "class XLMEnsembleModel(nn.Module):\n",
        "    def __init__(self, output_dim, n_filters, filter_sizes, hidden_dim, dropout=0.3):\n",
        "        super().__init__()\n",
        "\n",
        "        self.hidden_dim = hidden_dim\n",
        "\n",
        "        self.bert = XLMRobertaModel.from_pretrained(MODEL_NAME)\n",
        "        embedding_size = self.bert.config.to_dict()['hidden_size']\n",
        "        \n",
        "        self.conv_0 = nn.Conv2d(\n",
        "            in_channels=1,\n",
        "            out_channels=n_filters,\n",
        "            kernel_size=(filter_sizes[0], embedding_size)\n",
        "        )\n",
        "\n",
        "        self.conv_1 = nn.Conv2d(\n",
        "            in_channels=1,\n",
        "            out_channels=n_filters,\n",
        "            kernel_size=(filter_sizes[1], embedding_size)\n",
        "        )\n",
        "\n",
        "        self.conv_2 = nn.Conv2d(\n",
        "            in_channels=1,\n",
        "            out_channels=n_filters,\n",
        "            kernel_size=(filter_sizes[2], embedding_size)\n",
        "        )\n",
        "\n",
        "        self.gru = nn.GRU(embedding_size, hidden_dim, batch_first=True, bidirectional=True)\n",
        "\n",
        "        self.gru_out = nn.Linear(hidden_dim, output_dim)\n",
        "        self.cnn_out = nn.Linear(len(filter_sizes) * n_filters, output_dim)\n",
        "        \n",
        "        self.dropout = nn.Dropout(dropout)\n",
        "\n",
        "    def attention(self, outputs, hidden, mask=None):\n",
        "        # outputs => [batch_size, seq_len, hid_dim]\n",
        "        # hidden => [batch_size, hid_dim]\n",
        "        # mask => [batch_size, seq_len]\n",
        "\n",
        "        hidden = hidden.unsqueeze(2)\n",
        "        # hidden => [batch_size, hid_dim, 1]\n",
        "\n",
        "        attn_weights = torch.bmm(outputs, hidden)\n",
        "        # outputs      => [batch_size, seq_len, hid_dim]\n",
        "        # hidden       => [batch_size, hid_dim, 1]\n",
        "        # attn_weights => [batch_size, seq_len, 1]\n",
        "\n",
        "        attn_weights = attn_weights.squeeze(2)\n",
        "        # attn_weights => [batch_size, seq_len]\n",
        "\n",
        "        if mask is not None:\n",
        "            attn_weights = attn_weights.masked_fill(mask==0, -1e10)\n",
        "\n",
        "        soft_attn_weights = F.softmax(attn_weights, dim=1)\n",
        "        # soft_attn_weights => [batch_size, seq_len]\n",
        "\n",
        "        soft_attn_weights = soft_attn_weights.unsqueeze(2)\n",
        "        # soft_attn_weights => [batch_size, seq_len, 1]\n",
        "\n",
        "        weighted = torch.bmm(outputs.transpose(1, 2), soft_attn_weights)\n",
        "        # outputs.transpose(1, 2) => [batch_size, hid_dim, seq_len]\n",
        "        # soft_attn_weights       => [batch_size, seq_len, 1]\n",
        "        # weighted                => [batch_size, hid_dim, 1]\n",
        "\n",
        "        weighted = weighted.squeeze(2)\n",
        "        # weighted => [batch_size, hid_dim]\n",
        "\n",
        "        return weighted, soft_attn_weights.squeeze(2)\n",
        "    \n",
        "    def forward(self, input_ids, attention_mask):\n",
        "        # input_ids => [batch_size, seq_len]\n",
        "        # attention_mask => [batch_size, seq_len]\n",
        "\n",
        "        embeddings, _ = self.bert(\n",
        "            input_ids=input_ids,\n",
        "            attention_mask=attention_mask\n",
        "        )\n",
        "        embeddings = self.dropout(embeddings)\n",
        "        # embeddings => [batch_size, seq_len, emb_dim]\n",
        "\n",
        "        # CNN MODEL\n",
        "        cnn_embedded = embeddings.unsqueeze(1)\n",
        "        # cnn_embedded => [batch_size, 1, seq_len, emb_dim]\n",
        "\n",
        "        conved_0 = F.relu(self.conv_0(cnn_embedded).squeeze(3))\n",
        "        conved_1 = F.relu(self.conv_1(cnn_embedded).squeeze(3))\n",
        "        conved_2 = F.relu(self.conv_2(cnn_embedded).squeeze(3))\n",
        "        # conved_n => [batch_size, n_filters, seq_len - filter_size[n] + 1]\n",
        "\n",
        "        pooled_0 = F.max_pool1d(conved_0,  conved_0.shape[2]).squeeze(2)\n",
        "        pooled_1 = F.max_pool1d(conved_1,  conved_1.shape[2]).squeeze(2)\n",
        "        pooled_2 = F.max_pool1d(conved_2,  conved_2.shape[2]).squeeze(2)\n",
        "        # pooled_n => [batch_size, n_filters]\n",
        "\n",
        "        combined = torch.cat((pooled_0, pooled_1, pooled_2), dim=1)\n",
        "        combined = self.dropout(combined)\n",
        "        # combined => [batch_size, len(filter_sizes) * n_filters]\n",
        "\n",
        "        cnn_logits = self.cnn_out(combined)\n",
        "        # logits => [batch_size, output_dim]\n",
        "\n",
        "        # GRU-ATTENTION MODEL\n",
        "        outputs, (hidden) = self.gru(embeddings)\n",
        "        # outputs => [batch_size, seq_len, hid_dim * 2]\n",
        "        # hidden => [2, batch_size, hid_dim]\n",
        "\n",
        "        outputs = outputs[:, :, :self.hidden_dim] + outputs[:, :, self.hidden_dim:]\n",
        "        # outputs => [batch_size, seq_len, hid_dim]\n",
        "        \n",
        "        hidden = hidden[0, :, :] + hidden[1, :, :]\n",
        "        # hidden => [batch_size, hid_dim]\n",
        "\n",
        "        weighted, attn_scores = self.attention(outputs, hidden, attention_mask)\n",
        "        # weighted => [batch_size, hid_dim]\n",
        "        # attn_scores => [batch_size, seq_len]\n",
        "\n",
        "        gru_logits = self.gru_out(self.dropout(weighted))\n",
        "        # logits => [batch_size, output_dim]\n",
        "\n",
        "\n",
        "        return cnn_logits, gru_logits"
      ],
      "execution_count": 18,
      "outputs": []
    },
    {
      "cell_type": "code",
      "metadata": {
        "id": "IEGZN1PnoraP",
        "colab_type": "code",
        "colab": {
          "base_uri": "https://localhost:8080/",
          "height": 115,
          "referenced_widgets": [
            "433809472b2a4cac9326fb429ca0ff2e",
            "5adae45c6b774a258c6fdd9a92048486",
            "736e09008aba437599905837d079272d",
            "77c6b9d9b62c42249e26bcd9fa0c4b59",
            "6d5dc906c5eb4efc8feee737965d7806",
            "8fa0ff9fc53e4f02a904ff548ed2d4e9",
            "5fbaee41535d4f8eb406318de9f1a4a7",
            "13fdb8db96b2446ba2a4b20982fcba11",
            "c67d6e5220654ac6a8c63fde676ea602",
            "ce4576de897a4c0d835caf6444f17214",
            "c3ff8ac9629a48e79747c844b1e5b7fc",
            "8d011853a2084d369acb186ef360b4c4",
            "7281c25ebbd4453188bcd7e256ce9fb8",
            "38efa72e46e64b6dbd7ef8a75c1a6800",
            "826875cd8e6a4d1bae4b5605b416c6ef",
            "7deb46e0d1fe43868888da6928617ab7"
          ]
        },
        "outputId": "390e18ac-3d65-4e97-b60d-5326a19729e9"
      },
      "source": [
        "n_filters = 100\n",
        "hidden_dim = 100\n",
        "filter_sizes = [2,3,4]\n",
        "output_dim = 3\n",
        "model = XLMEnsembleModel(output_dim, n_filters, filter_sizes, hidden_dim)"
      ],
      "execution_count": 19,
      "outputs": [
        {
          "output_type": "display_data",
          "data": {
            "application/vnd.jupyter.widget-view+json": {
              "model_id": "433809472b2a4cac9326fb429ca0ff2e",
              "version_minor": 0,
              "version_major": 2
            },
            "text/plain": [
              "HBox(children=(FloatProgress(value=0.0, description='Downloading', max=512.0, style=ProgressStyle(description_…"
            ]
          },
          "metadata": {
            "tags": []
          }
        },
        {
          "output_type": "stream",
          "text": [
            "\n"
          ],
          "name": "stdout"
        },
        {
          "output_type": "display_data",
          "data": {
            "application/vnd.jupyter.widget-view+json": {
              "model_id": "c67d6e5220654ac6a8c63fde676ea602",
              "version_minor": 0,
              "version_major": 2
            },
            "text/plain": [
              "HBox(children=(FloatProgress(value=0.0, description='Downloading', max=1115590446.0, style=ProgressStyle(descr…"
            ]
          },
          "metadata": {
            "tags": []
          }
        },
        {
          "output_type": "stream",
          "text": [
            "\n"
          ],
          "name": "stdout"
        }
      ]
    },
    {
      "cell_type": "code",
      "metadata": {
        "id": "Qx-gtJZ2pBJF",
        "colab_type": "code",
        "colab": {}
      },
      "source": [
        "model = model.to(device)"
      ],
      "execution_count": 20,
      "outputs": []
    },
    {
      "cell_type": "code",
      "metadata": {
        "id": "y5bnyFXjkDhT",
        "colab_type": "code",
        "colab": {}
      },
      "source": [
        "torch.cuda.empty_cache()"
      ],
      "execution_count": 21,
      "outputs": []
    },
    {
      "cell_type": "code",
      "metadata": {
        "id": "1OnP9qivpEB8",
        "colab_type": "code",
        "colab": {
          "base_uri": "https://localhost:8080/",
          "height": 35
        },
        "outputId": "7c2bd841-1608-4f86-c066-d3938cee44c1"
      },
      "source": [
        "def count_parameters(model):\n",
        "    return sum(p.numel() for p in model.parameters() if p.requires_grad)\n",
        "\n",
        "print(f'The model has {count_parameters(model):,} trainable parameters')"
      ],
      "execution_count": 22,
      "outputs": [
        {
          "output_type": "stream",
          "text": [
            "The model has 279,258,354 trainable parameters\n"
          ],
          "name": "stdout"
        }
      ]
    },
    {
      "cell_type": "markdown",
      "metadata": {
        "id": "vLqv4v3P8d04",
        "colab_type": "text"
      },
      "source": [
        "### Loss & Optimizer"
      ]
    },
    {
      "cell_type": "code",
      "metadata": {
        "id": "G-VtXUd2pOId",
        "colab_type": "code",
        "colab": {}
      },
      "source": [
        "EPOCHS = 5\n",
        "\n",
        "no_decay = ['bias', 'LayerNorm.weight']\n",
        "optimizer_grouped_parameters = [\n",
        "    {'params': [p for n, p in model.named_parameters() if not any(nd in n for nd in no_decay)], 'weight_decay': 0.01},\n",
        "    {'params': [p for n, p in model.named_parameters() if any(nd in n for nd in no_decay)], 'weight_decay': 0.0}\n",
        "]\n",
        "optimizer = AdamW(optimizer_grouped_parameters, lr=1e-5)\n",
        "\n",
        "loss_fn = nn.CrossEntropyLoss().to(device)"
      ],
      "execution_count": 23,
      "outputs": []
    },
    {
      "cell_type": "markdown",
      "metadata": {
        "id": "dOAQV-EV8gn9",
        "colab_type": "text"
      },
      "source": [
        "### Training Method"
      ]
    },
    {
      "cell_type": "code",
      "metadata": {
        "id": "di9_xMiXq1zy",
        "colab_type": "code",
        "colab": {}
      },
      "source": [
        "def train(model, iterator, clip=2.0):\n",
        "    epoch_loss = 0\n",
        "    model.train()\n",
        "\n",
        "    for batch in iterator:\n",
        "        input_ids = batch[\"input_ids\"].to(device)\n",
        "        attention_mask = batch[\"attention_mask\"].to(device)\n",
        "        targets = batch[\"label\"].to(device)\n",
        "\n",
        "        cnn_preds, rnn_preds = model(\n",
        "            input_ids=input_ids,\n",
        "            attention_mask=attention_mask\n",
        "        )\n",
        "\n",
        "        optimizer.zero_grad()\n",
        "        cnn_loss = loss_fn(cnn_preds, targets)\n",
        "        rnn_loss = loss_fn(rnn_preds, targets)\n",
        "        loss = (1.5 * cnn_loss) + (0.5 * rnn_loss)\n",
        "        loss.backward()\n",
        "        torch.nn.utils.clip_grad_norm_(model.parameters(), clip)\n",
        "        optimizer.step()\n",
        "        epoch_loss += loss.item()\n",
        "    \n",
        "    return epoch_loss / len(iterator)"
      ],
      "execution_count": 24,
      "outputs": []
    },
    {
      "cell_type": "markdown",
      "metadata": {
        "id": "kUuWsO6i8i5B",
        "colab_type": "text"
      },
      "source": [
        "### Evaluation Method"
      ]
    },
    {
      "cell_type": "code",
      "metadata": {
        "id": "MJP8yQfJ4ygz",
        "colab_type": "code",
        "colab": {}
      },
      "source": [
        "def simple_accuracy(preds, labels):\n",
        "    \"\"\"Takes in two lists of predicted labels and actual labels and returns the accuracy in the form of a float. \"\"\"\n",
        "    return np.equal(preds, labels).mean()"
      ],
      "execution_count": 25,
      "outputs": []
    },
    {
      "cell_type": "code",
      "metadata": {
        "id": "E5Eue3S12lGh",
        "colab_type": "code",
        "colab": {}
      },
      "source": [
        "def evaluate(model, iterator):\n",
        "    model.eval()\n",
        "    epoch_loss = 0\n",
        "    preds = []\n",
        "    trgs = []\n",
        "\n",
        "    with torch.no_grad():\n",
        "        for batch in iterator:\n",
        "            input_ids = batch[\"input_ids\"].to(device)\n",
        "            attention_mask = batch[\"attention_mask\"].to(device)\n",
        "            targets = batch[\"label\"].to(device)\n",
        "\n",
        "            cnn_preds, rnn_preds = model(\n",
        "                input_ids=input_ids,\n",
        "                attention_mask=attention_mask\n",
        "            )\n",
        "\n",
        "            cnn_loss = loss_fn(cnn_preds, targets)\n",
        "            rnn_loss = loss_fn(rnn_preds, targets)\n",
        "            loss = (1.5 * cnn_loss) + (0.5 * rnn_loss)\n",
        "            epoch_loss += loss.item()\n",
        "\n",
        "            predictions = F.softmax(cnn_preds, dim=1) * F.softmax(rnn_preds, dim=1)\n",
        "            trgs.extend(targets.detach().cpu().numpy().tolist())\n",
        "            _, predicted = torch.max(predictions, 1)\n",
        "            preds.extend(predicted.detach().cpu().numpy().tolist())\n",
        "\n",
        "    return epoch_loss / len(iterator), simple_accuracy(preds, trgs)"
      ],
      "execution_count": 26,
      "outputs": []
    },
    {
      "cell_type": "code",
      "metadata": {
        "id": "0uLTjMTM3zQK",
        "colab_type": "code",
        "colab": {}
      },
      "source": [
        "def epoch_time(start_time, end_time):\n",
        "    elapsed_time = end_time - start_time\n",
        "    elapsed_mins = int(elapsed_time / 60)\n",
        "    elapsed_secs = int(elapsed_time - (elapsed_mins * 60))\n",
        "    return elapsed_mins, elapsed_secs"
      ],
      "execution_count": 27,
      "outputs": []
    },
    {
      "cell_type": "markdown",
      "metadata": {
        "id": "3uOZYyAX8lYc",
        "colab_type": "text"
      },
      "source": [
        "### Training Loop"
      ]
    },
    {
      "cell_type": "code",
      "metadata": {
        "id": "29dDAQCv3z3P",
        "colab_type": "code",
        "colab": {
          "base_uri": "https://localhost:8080/",
          "height": 190
        },
        "outputId": "c88f7f3c-abb6-4a2f-c5e1-a906c646edc2"
      },
      "source": [
        "best_valid_loss = float('inf')\n",
        "\n",
        "for epoch in range(EPOCHS):\n",
        "    start_time = time.time()\n",
        "    train_loss = train(model, train_data_loader)\n",
        "    val_loss, val_acc = evaluate(model, valid_data_loader)\n",
        "    end_time = time.time()\n",
        "    # scheduler.step(val_loss)\n",
        "    \n",
        "    epoch_mins, epoch_secs = epoch_time(start_time, end_time)\n",
        "    print(f\"Epoch: {epoch + 1:02} | Time: {epoch_mins}m {epoch_secs:.2f}s\")\n",
        "    print(f\"\\tTrain Loss: {train_loss:.3f} | Val Loss: {val_loss:.3f} | Val Acc: {val_acc:.3f}\")\n",
        "    \n",
        "    if val_loss < best_valid_loss:\n",
        "        best_valid_loss = val_loss\n",
        "        torch.save(model.state_dict(), 'xlm_roberta.pt')\n"
      ],
      "execution_count": 28,
      "outputs": [
        {
          "output_type": "stream",
          "text": [
            "Epoch: 01 | Time: 12m 7.00s\n",
            "\tTrain Loss: 1.922 | Val Loss: 1.755 | Val Acc: 0.596\n",
            "Epoch: 02 | Time: 12m 9.00s\n",
            "\tTrain Loss: 1.665 | Val Loss: 1.739 | Val Acc: 0.635\n",
            "Epoch: 03 | Time: 12m 11.00s\n",
            "\tTrain Loss: 1.526 | Val Loss: 1.673 | Val Acc: 0.638\n",
            "Epoch: 04 | Time: 12m 13.00s\n",
            "\tTrain Loss: 1.413 | Val Loss: 1.639 | Val Acc: 0.649\n",
            "Epoch: 05 | Time: 12m 12.00s\n",
            "\tTrain Loss: 1.261 | Val Loss: 1.657 | Val Acc: 0.642\n"
          ],
          "name": "stdout"
        }
      ]
    },
    {
      "cell_type": "markdown",
      "metadata": {
        "id": "mt2YQY8A8ncV",
        "colab_type": "text"
      },
      "source": [
        "### Test Data results"
      ]
    },
    {
      "cell_type": "code",
      "metadata": {
        "id": "zmEpM-NKLz5A",
        "colab_type": "code",
        "colab": {
          "base_uri": "https://localhost:8080/",
          "height": 35
        },
        "outputId": "5f0ec98f-7003-4885-b73b-f5027f6eaa5b"
      },
      "source": [
        "model.load_state_dict(torch.load('xlm_roberta.pt'))"
      ],
      "execution_count": 29,
      "outputs": [
        {
          "output_type": "execute_result",
          "data": {
            "text/plain": [
              "<All keys matched successfully>"
            ]
          },
          "metadata": {
            "tags": []
          },
          "execution_count": 29
        }
      ]
    },
    {
      "cell_type": "code",
      "metadata": {
        "id": "Ai-_jVYSPjN-",
        "colab_type": "code",
        "colab": {
          "base_uri": "https://localhost:8080/",
          "height": 190
        },
        "outputId": "75ce5302-a83a-4320-e355-eee3d13c7d8c"
      },
      "source": [
        "with torch.no_grad():\n",
        "    model.eval()\n",
        "    preds = []\n",
        "    trgs = []\n",
        "    for batch in test_data_loader:\n",
        "        input_ids = batch[\"input_ids\"].to(device)\n",
        "        attention_mask = batch[\"attention_mask\"].to(device)\n",
        "        targets = batch[\"label\"].to(device)\n",
        "\n",
        "        cnn_preds, rnn_preds = model(\n",
        "            input_ids=input_ids,\n",
        "            attention_mask=attention_mask\n",
        "        )\n",
        "\n",
        "        outputs = F.softmax(cnn_preds, dim=1) * F.softmax(rnn_preds, dim=1)\n",
        "        # get the predicted labels\n",
        "        _, predicted = torch.max(outputs, 1)\n",
        "        # Add data to lists\n",
        "        preds.extend(predicted.detach().cpu().numpy().tolist())\n",
        "        trgs.extend(targets.detach().cpu().numpy().tolist())\n",
        "\n",
        "print(metrics.classification_report(trgs, preds))"
      ],
      "execution_count": 30,
      "outputs": [
        {
          "output_type": "stream",
          "text": [
            "              precision    recall  f1-score   support\n",
            "\n",
            "           0       0.74      0.77      0.75       979\n",
            "           1       0.68      0.61      0.64      1211\n",
            "           2       0.71      0.77      0.74       941\n",
            "\n",
            "    accuracy                           0.71      3131\n",
            "   macro avg       0.71      0.72      0.71      3131\n",
            "weighted avg       0.71      0.71      0.71      3131\n",
            "\n"
          ],
          "name": "stdout"
        }
      ]
    },
    {
      "cell_type": "code",
      "metadata": {
        "id": "3zlVS3CORh0V",
        "colab_type": "code",
        "colab": {}
      },
      "source": [
        ""
      ],
      "execution_count": null,
      "outputs": []
    }
  ]
}