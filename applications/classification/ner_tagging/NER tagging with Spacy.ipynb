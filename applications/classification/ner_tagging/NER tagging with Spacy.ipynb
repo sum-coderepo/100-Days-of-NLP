{
  "nbformat": 4,
  "nbformat_minor": 0,
  "metadata": {
    "colab": {
      "name": "NER tagging with Spacy.ipynb",
      "provenance": [],
      "authorship_tag": "ABX9TyOf2QvRRRI7pLsI/bxGGMYV",
      "include_colab_link": true
    },
    "kernelspec": {
      "name": "python3",
      "display_name": "Python 3"
    }
  },
  "cells": [
    {
      "cell_type": "markdown",
      "metadata": {
        "id": "view-in-github",
        "colab_type": "text"
      },
      "source": [
        "<a href=\"https://colab.research.google.com/github/graviraja/100-Days-of-NLP/blob/applications%2Fclassification/applications/classification/ner_tagging/NER%20tagging%20with%20Spacy.ipynb\" target=\"_parent\"><img src=\"https://colab.research.google.com/assets/colab-badge.svg\" alt=\"Open In Colab\"/></a>"
      ]
    },
    {
      "cell_type": "markdown",
      "metadata": {
        "id": "EdFsIp6uHUrK",
        "colab_type": "text"
      },
      "source": [
        "# NER using Spacy and Custom Training"
      ]
    },
    {
      "cell_type": "markdown",
      "metadata": {
        "id": "11Hvx03FHSJG",
        "colab_type": "text"
      },
      "source": [
        "### Imports"
      ]
    },
    {
      "cell_type": "code",
      "metadata": {
        "id": "9pS3sNGa4QnU",
        "colab_type": "code",
        "colab": {}
      },
      "source": [
        "import random\n",
        "import spacy\n",
        "\n",
        "from spacy import displacy\n",
        "from spacy.util import minibatch, compounding"
      ],
      "execution_count": 1,
      "outputs": []
    },
    {
      "cell_type": "markdown",
      "metadata": {
        "id": "AexvzGYxHc-j",
        "colab_type": "text"
      },
      "source": [
        "Load the small english model"
      ]
    },
    {
      "cell_type": "code",
      "metadata": {
        "id": "_41iBA7P5JTD",
        "colab_type": "code",
        "colab": {}
      },
      "source": [
        "nlp = spacy.load(\"en_core_web_sm\")"
      ],
      "execution_count": 71,
      "outputs": []
    },
    {
      "cell_type": "markdown",
      "metadata": {
        "id": "O5DHLOoVHgd_",
        "colab_type": "text"
      },
      "source": [
        "The models comes with three pipelines:\n",
        "\n",
        "- tagger (Parts-of-Speech)\n",
        "- parser (Dependency Parsing)\n",
        "- ner (Named Entity Recognition)\n",
        "\n",
        "The focus of this notebook will be on `ner`"
      ]
    },
    {
      "cell_type": "code",
      "metadata": {
        "id": "OhbsnQfE5OZP",
        "colab_type": "code",
        "colab": {
          "base_uri": "https://localhost:8080/",
          "height": 35
        },
        "outputId": "bc0d7dd5-714d-477f-c974-9608aff50076"
      },
      "source": [
        "nlp.pipe_names"
      ],
      "execution_count": 73,
      "outputs": [
        {
          "output_type": "execute_result",
          "data": {
            "text/plain": [
              "['tagger', 'parser', 'ner']"
            ]
          },
          "metadata": {
            "tags": []
          },
          "execution_count": 73
        }
      ]
    },
    {
      "cell_type": "markdown",
      "metadata": {
        "id": "Tc61v8x5IJoK",
        "colab_type": "text"
      },
      "source": [
        "### Spacy NER"
      ]
    },
    {
      "cell_type": "markdown",
      "metadata": {
        "id": "qYO8iKPdIjsP",
        "colab_type": "text"
      },
      "source": [
        "Spacy provides ner tagging support for the following entities. Learn more about these [here](https://spacy.io/api/annotation#named-entities)\n",
        "\n",
        "|NER      | Description                 |\n",
        "|---------|-----------------------------|\n",
        "|PERSON|\tPeople, including fictional.|\n",
        "|NORP|\tNationalities or religious or political groups.|\n",
        "|FAC|\tBuildings, airports, highways, bridges, etc.|\n",
        "|ORG|\tCompanies, agencies, institutions, etc.|\n",
        "|GPE|\tCountries, cities, states.|\n",
        "|LOC|\tNon-GPE locations, mountain ranges, bodies of water.|\n",
        "|PRODUCT|\tObjects, vehicles, foods, etc. (Not services.)|\n",
        "|EVENT|\tNamed hurricanes, battles, wars, sports events, etc.|\n",
        "|WORK_OF_ART|\tTitles of books, songs, etc.|\n",
        "|LAW|\tNamed documents made into laws.|\n",
        "|LANGUAGE|\tAny named language.|\n",
        "|DATE|\tAbsolute or relative dates or periods.|\n",
        "|TIME|\tTimes smaller than a day.|\n",
        "|PERCENT|\tPercentage, including ”%“.|\n",
        "|MONEY|\tMonetary values, including unit.|\n",
        "|QUANTITY|\tMeasurements, as of weight or distance.|\n",
        "|ORDINAL|\t“first”, “second”, etc.|\n",
        "|CARDINAL|\tNumerals that do not fall under another type.|\n"
      ]
    },
    {
      "cell_type": "code",
      "metadata": {
        "id": "Zq0vH25U5SG0",
        "colab_type": "code",
        "colab": {}
      },
      "source": [
        "doc = nlp(\"Australia wants to force Facebook and Google to pay media companies for news\")"
      ],
      "execution_count": 74,
      "outputs": []
    },
    {
      "cell_type": "code",
      "metadata": {
        "id": "TSEN3_1w5Yne",
        "colab_type": "code",
        "colab": {
          "base_uri": "https://localhost:8080/",
          "height": 52
        },
        "outputId": "b3dd9402-b527-40a5-e4c0-56dcdd6e91bc"
      },
      "source": [
        "for ent in doc.ents:\n",
        "    print(ent.text, ent.start_char, ent.end_char, ent.label_)"
      ],
      "execution_count": 75,
      "outputs": [
        {
          "output_type": "stream",
          "text": [
            "Australia 0 9 GPE\n",
            "Facebook and Google 25 44 ORG\n"
          ],
          "name": "stdout"
        }
      ]
    },
    {
      "cell_type": "markdown",
      "metadata": {
        "id": "R7KbHbqvJz1C",
        "colab_type": "text"
      },
      "source": [
        "Visualization using [displacy](https://explosion.ai/demos/displacy-ent)"
      ]
    },
    {
      "cell_type": "code",
      "metadata": {
        "id": "p2fhJDAN5fG_",
        "colab_type": "code",
        "colab": {
          "base_uri": "https://localhost:8080/",
          "height": 52
        },
        "outputId": "bfa966bb-1d88-4e0c-b25d-71f1e2a36076"
      },
      "source": [
        "displacy.render(nlp(doc.text), style=\"ent\", jupyter=True)"
      ],
      "execution_count": 76,
      "outputs": [
        {
          "output_type": "display_data",
          "data": {
            "text/html": [
              "<span class=\"tex2jax_ignore\"><div class=\"entities\" style=\"line-height: 2.5; direction: ltr\">\n",
              "<mark class=\"entity\" style=\"background: #feca74; padding: 0.45em 0.6em; margin: 0 0.25em; line-height: 1; border-radius: 0.35em;\">\n",
              "    Australia\n",
              "    <span style=\"font-size: 0.8em; font-weight: bold; line-height: 1; border-radius: 0.35em; text-transform: uppercase; vertical-align: middle; margin-left: 0.5rem\">GPE</span>\n",
              "</mark>\n",
              " wants to force \n",
              "<mark class=\"entity\" style=\"background: #7aecec; padding: 0.45em 0.6em; margin: 0 0.25em; line-height: 1; border-radius: 0.35em;\">\n",
              "    Facebook and Google\n",
              "    <span style=\"font-size: 0.8em; font-weight: bold; line-height: 1; border-radius: 0.35em; text-transform: uppercase; vertical-align: middle; margin-left: 0.5rem\">ORG</span>\n",
              "</mark>\n",
              " to pay media companies for news</div></span>"
            ],
            "text/plain": [
              "<IPython.core.display.HTML object>"
            ]
          },
          "metadata": {
            "tags": []
          }
        }
      ]
    },
    {
      "cell_type": "code",
      "metadata": {
        "id": "8JXxj8ypKUuF",
        "colab_type": "code",
        "colab": {
          "base_uri": "https://localhost:8080/",
          "height": 52
        },
        "outputId": "daf84355-0a16-45b0-e529-1a6063456587"
      },
      "source": [
        "doc = nlp(\"A little less than a decade later, dozens of self-driving startups have cropped up while automakers around the world clamor\")\n",
        "displacy.render(nlp(doc.text), style=\"ent\", jupyter=True)"
      ],
      "execution_count": 79,
      "outputs": [
        {
          "output_type": "display_data",
          "data": {
            "text/html": [
              "<span class=\"tex2jax_ignore\"><div class=\"entities\" style=\"line-height: 2.5; direction: ltr\">A little \n",
              "<mark class=\"entity\" style=\"background: #bfe1d9; padding: 0.45em 0.6em; margin: 0 0.25em; line-height: 1; border-radius: 0.35em;\">\n",
              "    less than a decade later\n",
              "    <span style=\"font-size: 0.8em; font-weight: bold; line-height: 1; border-radius: 0.35em; text-transform: uppercase; vertical-align: middle; margin-left: 0.5rem\">DATE</span>\n",
              "</mark>\n",
              ", \n",
              "<mark class=\"entity\" style=\"background: #e4e7d2; padding: 0.45em 0.6em; margin: 0 0.25em; line-height: 1; border-radius: 0.35em;\">\n",
              "    dozens\n",
              "    <span style=\"font-size: 0.8em; font-weight: bold; line-height: 1; border-radius: 0.35em; text-transform: uppercase; vertical-align: middle; margin-left: 0.5rem\">CARDINAL</span>\n",
              "</mark>\n",
              " of self-driving startups have cropped up while automakers around the world clamor</div></span>"
            ],
            "text/plain": [
              "<IPython.core.display.HTML object>"
            ]
          },
          "metadata": {
            "tags": []
          }
        }
      ]
    },
    {
      "cell_type": "code",
      "metadata": {
        "id": "URGAEcAcKj1U",
        "colab_type": "code",
        "colab": {
          "base_uri": "https://localhost:8080/",
          "height": 52
        },
        "outputId": "9c97b30f-a16c-4505-be50-1e95885a6ea7"
      },
      "source": [
        "doc = nlp(\"I am working at Microsoft from 27/07/2017\")\n",
        "displacy.render(nlp(doc.text), style=\"ent\", jupyter=True)"
      ],
      "execution_count": 85,
      "outputs": [
        {
          "output_type": "display_data",
          "data": {
            "text/html": [
              "<span class=\"tex2jax_ignore\"><div class=\"entities\" style=\"line-height: 2.5; direction: ltr\">I am working at \n",
              "<mark class=\"entity\" style=\"background: #7aecec; padding: 0.45em 0.6em; margin: 0 0.25em; line-height: 1; border-radius: 0.35em;\">\n",
              "    Microsoft\n",
              "    <span style=\"font-size: 0.8em; font-weight: bold; line-height: 1; border-radius: 0.35em; text-transform: uppercase; vertical-align: middle; margin-left: 0.5rem\">ORG</span>\n",
              "</mark>\n",
              " from \n",
              "<mark class=\"entity\" style=\"background: #bfe1d9; padding: 0.45em 0.6em; margin: 0 0.25em; line-height: 1; border-radius: 0.35em;\">\n",
              "    27/07/2017\n",
              "    <span style=\"font-size: 0.8em; font-weight: bold; line-height: 1; border-radius: 0.35em; text-transform: uppercase; vertical-align: middle; margin-left: 0.5rem\">DATE</span>\n",
              "</mark>\n",
              "</div></span>"
            ],
            "text/plain": [
              "<IPython.core.display.HTML object>"
            ]
          },
          "metadata": {
            "tags": []
          }
        }
      ]
    },
    {
      "cell_type": "markdown",
      "metadata": {
        "id": "2g9X3naEKLr7",
        "colab_type": "text"
      },
      "source": [
        "### Custom data"
      ]
    },
    {
      "cell_type": "code",
      "metadata": {
        "id": "tg8uR4iI5udo",
        "colab_type": "code",
        "colab": {}
      },
      "source": [
        "doc = nlp(\"I do not have money to pay my credit card account\")"
      ],
      "execution_count": 86,
      "outputs": []
    },
    {
      "cell_type": "code",
      "metadata": {
        "id": "p-uvfrBE59cR",
        "colab_type": "code",
        "colab": {}
      },
      "source": [
        "for ent in doc.ents:\n",
        "    print(ent.text, ent.start_char, ent.end_char, ent.label_)"
      ],
      "execution_count": 87,
      "outputs": []
    },
    {
      "cell_type": "markdown",
      "metadata": {
        "id": "L00Us5yGK9HM",
        "colab_type": "text"
      },
      "source": [
        "Not able to predict any entity"
      ]
    },
    {
      "cell_type": "code",
      "metadata": {
        "id": "DckDU3B06B0x",
        "colab_type": "code",
        "colab": {}
      },
      "source": [
        "doc = nlp(\"what is the process to open a new saving account\")"
      ],
      "execution_count": 88,
      "outputs": []
    },
    {
      "cell_type": "code",
      "metadata": {
        "id": "-z7x5Ibb6Hm6",
        "colab_type": "code",
        "colab": {}
      },
      "source": [
        "for ent in doc.ents:\n",
        "    print(ent.text, ent.start_char, ent.end_char, ent.label_)"
      ],
      "execution_count": 89,
      "outputs": []
    },
    {
      "cell_type": "markdown",
      "metadata": {
        "id": "KfKoxjIuLBLG",
        "colab_type": "text"
      },
      "source": [
        "### Custom Training"
      ]
    },
    {
      "cell_type": "markdown",
      "metadata": {
        "id": "92wn1gf0LNjF",
        "colab_type": "text"
      },
      "source": [
        "Let's create 2 new entities called **`ACTIVITY`** and **`SERVICE`** in a specific domain data (bank).\n",
        "\n",
        "There are many tools available for creating data for training the NER model. Few of them are:\n",
        "\n",
        "- [prodigy](https://prodi.gy/)\n",
        "- [doccano](https://github.com/doccano/doccano)\n",
        "- [inception](https://inception-project.github.io/)"
      ]
    },
    {
      "cell_type": "code",
      "metadata": {
        "id": "jJ7TYMtn6MgT",
        "colab_type": "code",
        "colab": {}
      },
      "source": [
        "train = [\n",
        "    (\"Money transfer from my checking account is not working\", {\"entities\": [(6, 13, \"ACTIVITY\"), (23, 39, \"SERVICE\")]}),\n",
        "    (\"I want to check balance in my savings account\", {\"entities\": [(16, 23, \"ACTIVITY\"), (30, 45, \"SERVICE\")]}),\n",
        "    (\"I suspect a fraud in my credit card account\", {\"entities\": [(12, 17, \"ACTIVITY\"), (24, 35, \"SERVICE\")]}),\n",
        "    (\"I am here for opening a new savings account\", {\"entities\": [(14, 21, \"ACTIVITY\"), (28, 43, \"SERVICE\")]}),\n",
        "    (\"Your mortage is in delinquent status\", {\"entities\": [(20, 30, \"ACTIVITY\"), (5, 13, \"SERVICE\")]}),\n",
        "    (\"Your credit card is in past due status\", {\"entities\": [(23, 31, \"ACTIVITY\"), (5, 16, \"SERVICE\")]}),\n",
        "    (\"My loan account is still not approved and funded\", {\"entities\": [(25, 37, \"ACTIVITY\"), (3, 15, \"SERVICE\"), (42, 48, \"ACTIVITY\")]}),\n",
        "    (\"How do I open a new loan account\", {\"entities\": [(9, 13, \"ACTIVITY\"), (20, 32, \"SERVICE\")]}),\n",
        "    (\"what are the charges on Investment account\", {\"entities\": [(13, 20, \"ACTIVITY\"), (24, 42, \"SERVICE\")]}),\n",
        "    (\"Can you explain late charges on my credit card\", {\"entities\": [(21, 28, \"ACTIVITY\"), (35, 46, \"SERVICE\")]}),\n",
        "    (\"I want to open a new loan account\", {\"entities\": [(10, 14, \"ACTIVITY\"), (21, 33, \"SERVICE\")]}),\n",
        "    (\"Can you help updating payment on my credit card\", {\"entities\": [(22, 29, \"ACTIVITY\"), (36, 47, \"SERVICE\")]}),\n",
        "    (\"When is the payment due date on my card\", {\"entities\": [(12, 19, \"ACTIVITY\"), (35, 39, \"SERVICE\")]})\n",
        "]"
      ],
      "execution_count": 90,
      "outputs": []
    },
    {
      "cell_type": "code",
      "metadata": {
        "id": "RNe9Wefp_893",
        "colab_type": "code",
        "colab": {}
      },
      "source": [
        "# get the ner pipeline\n",
        "ner = nlp.get_pipe(\"ner\")"
      ],
      "execution_count": 91,
      "outputs": []
    },
    {
      "cell_type": "code",
      "metadata": {
        "id": "hkP92ezVAA0h",
        "colab_type": "code",
        "colab": {}
      },
      "source": [
        "# add the labels to ner pipeline\n",
        "for _, annotations in train:\n",
        "    for ent in annotations.get(\"entities\"):\n",
        "        ner.add_label(ent[2])"
      ],
      "execution_count": 92,
      "outputs": []
    },
    {
      "cell_type": "code",
      "metadata": {
        "id": "hRkw6BT1AJmM",
        "colab_type": "code",
        "colab": {}
      },
      "source": [
        "# disable other pipelines, since we are only training NER\n",
        "disable_pipes = [pipe for pipe in nlp.pipe_names if pipe != 'ner']"
      ],
      "execution_count": 93,
      "outputs": []
    },
    {
      "cell_type": "markdown",
      "metadata": {
        "id": "u1uqSqUqLlWM",
        "colab_type": "text"
      },
      "source": [
        "Training"
      ]
    },
    {
      "cell_type": "code",
      "metadata": {
        "id": "FZYeaV0BA8Vj",
        "colab_type": "code",
        "colab": {
          "base_uri": "https://localhost:8080/",
          "height": 1000
        },
        "outputId": "3b281ae9-ed94-42dc-9cd0-abd31895a6a5"
      },
      "source": [
        "with nlp.disable_pipes(*disable_pipes):\n",
        "    # resumes from the previous learning\n",
        "    optimizer = nlp.resume_training()\n",
        "    \n",
        "    # run for 100 iterations\n",
        "    for iteration in range(100):\n",
        "        # randomly shuffle the data\n",
        "        random.shuffle(train)\n",
        "        losses = {}\n",
        "\n",
        "        # create minibatches for training\n",
        "        batches = minibatch(train, size=compounding(1.0, 4.0, 1.001))\n",
        "        for batch in batches:\n",
        "            text, annotation = zip(*batch)\n",
        "            nlp.update(\n",
        "                text,\n",
        "                annotation,\n",
        "                drop=0.5,\n",
        "                losses=losses,\n",
        "                sgd=optimizer\n",
        "            )\n",
        "        print(f\"Losses: {losses}\")"
      ],
      "execution_count": 94,
      "outputs": [
        {
          "output_type": "stream",
          "text": [
            "Losses: {'ner': 101.85570331102822}\n",
            "Losses: {'ner': 106.18786608839305}\n",
            "Losses: {'ner': 104.9596626463599}\n",
            "Losses: {'ner': 108.4543282064842}\n",
            "Losses: {'ner': 95.47085125884041}\n",
            "Losses: {'ner': 95.4647522950545}\n",
            "Losses: {'ner': 90.36361821950413}\n",
            "Losses: {'ner': 94.79046963702422}\n",
            "Losses: {'ner': 87.54523835342843}\n",
            "Losses: {'ner': 88.80624604038894}\n",
            "Losses: {'ner': 85.0540884686634}\n",
            "Losses: {'ner': 88.80510039441288}\n",
            "Losses: {'ner': 87.75526690855622}\n",
            "Losses: {'ner': 83.14760943097644}\n",
            "Losses: {'ner': 86.08151522581466}\n",
            "Losses: {'ner': 87.79587774234824}\n",
            "Losses: {'ner': 88.09533671662211}\n",
            "Losses: {'ner': 80.36609265883453}\n",
            "Losses: {'ner': 83.99004088307265}\n",
            "Losses: {'ner': 83.48203520294919}\n",
            "Losses: {'ner': 80.71927871492517}\n",
            "Losses: {'ner': 83.37758408839}\n",
            "Losses: {'ner': 87.51363011309877}\n",
            "Losses: {'ner': 84.31884038745193}\n",
            "Losses: {'ner': 90.0542846408207}\n",
            "Losses: {'ner': 83.50976573883031}\n",
            "Losses: {'ner': 81.33262253063731}\n",
            "Losses: {'ner': 86.20648693013936}\n",
            "Losses: {'ner': 87.1482426408329}\n",
            "Losses: {'ner': 90.12914242835541}\n",
            "Losses: {'ner': 82.94278530974407}\n",
            "Losses: {'ner': 91.41955223221157}\n",
            "Losses: {'ner': 82.22734679825953}\n",
            "Losses: {'ner': 82.91104279360297}\n",
            "Losses: {'ner': 89.27242560562445}\n",
            "Losses: {'ner': 83.72780060560035}\n",
            "Losses: {'ner': 92.17252256255597}\n",
            "Losses: {'ner': 91.16808885382488}\n",
            "Losses: {'ner': 80.60813375705402}\n",
            "Losses: {'ner': 79.63085099823729}\n",
            "Losses: {'ner': 90.81336221168749}\n",
            "Losses: {'ner': 87.24759901710786}\n",
            "Losses: {'ner': 86.93465688776269}\n",
            "Losses: {'ner': 84.76756680570907}\n",
            "Losses: {'ner': 85.43676619754092}\n",
            "Losses: {'ner': 80.99898923047294}\n",
            "Losses: {'ner': 80.03637116469326}\n",
            "Losses: {'ner': 82.02590613870882}\n",
            "Losses: {'ner': 90.63868034010011}\n",
            "Losses: {'ner': 74.97573354614104}\n",
            "Losses: {'ner': 80.01533878950795}\n",
            "Losses: {'ner': 89.81008712769028}\n",
            "Losses: {'ner': 80.52722123423155}\n",
            "Losses: {'ner': 75.07791864709179}\n",
            "Losses: {'ner': 88.1821655692329}\n",
            "Losses: {'ner': 82.78267778776353}\n",
            "Losses: {'ner': 90.13215277711106}\n",
            "Losses: {'ner': 82.32627770678687}\n",
            "Losses: {'ner': 87.94821033682274}\n",
            "Losses: {'ner': 85.01892627167399}\n",
            "Losses: {'ner': 78.57015669143311}\n",
            "Losses: {'ner': 81.25216279773895}\n",
            "Losses: {'ner': 77.37194764203196}\n",
            "Losses: {'ner': 82.02501161211165}\n",
            "Losses: {'ner': 77.64202835953984}\n",
            "Losses: {'ner': 82.48924300198269}\n",
            "Losses: {'ner': 81.37246572842065}\n",
            "Losses: {'ner': 88.98843388520618}\n",
            "Losses: {'ner': 76.04950231257317}\n",
            "Losses: {'ner': 80.68406451055307}\n",
            "Losses: {'ner': 76.71511511274628}\n",
            "Losses: {'ner': 76.45579522085336}\n",
            "Losses: {'ner': 82.49175747044197}\n",
            "Losses: {'ner': 89.54461854444912}\n",
            "Losses: {'ner': 84.59913365400416}\n",
            "Losses: {'ner': 72.9211563738092}\n",
            "Losses: {'ner': 88.50514660901172}\n",
            "Losses: {'ner': 92.58028417970672}\n",
            "Losses: {'ner': 82.42419106200168}\n",
            "Losses: {'ner': 80.12888595882418}\n",
            "Losses: {'ner': 70.92524786953936}\n",
            "Losses: {'ner': 87.32170053784267}\n",
            "Losses: {'ner': 84.82223375184321}\n",
            "Losses: {'ner': 86.36612378642545}\n",
            "Losses: {'ner': 85.30525516256762}\n",
            "Losses: {'ner': 76.64075146046343}\n",
            "Losses: {'ner': 85.4827761243032}\n",
            "Losses: {'ner': 82.46138698536902}\n",
            "Losses: {'ner': 77.61861897715153}\n",
            "Losses: {'ner': 75.48940166673174}\n",
            "Losses: {'ner': 73.95040725139619}\n",
            "Losses: {'ner': 83.30693169741198}\n",
            "Losses: {'ner': 77.86784270640885}\n",
            "Losses: {'ner': 90.17735199220624}\n",
            "Losses: {'ner': 77.28732273772766}\n",
            "Losses: {'ner': 79.28397624286958}\n",
            "Losses: {'ner': 82.02895079288942}\n",
            "Losses: {'ner': 73.01105403411202}\n",
            "Losses: {'ner': 82.96642736655895}\n",
            "Losses: {'ner': 73.35951263436436}\n"
          ],
          "name": "stdout"
        }
      ]
    },
    {
      "cell_type": "code",
      "metadata": {
        "id": "4I3tlIwoCGns",
        "colab_type": "code",
        "colab": {
          "base_uri": "https://localhost:8080/",
          "height": 691
        },
        "outputId": "71484b85-0db3-458e-fefa-9ae03e44e550"
      },
      "source": [
        "for text, entities in train:\n",
        "    doc = nlp(text)\n",
        "    print(f\"Text: {text} | entites: {entities}\")\n",
        "    print(f\"\\tActual: {[(text[ent[0]: ent[1]], ent[2]) for ent in entities['entities']]}\")\n",
        "    print(f\"\\tPredicted: {[(ent.text, ent.label_) for ent in doc.ents]}\")"
      ],
      "execution_count": 95,
      "outputs": [
        {
          "output_type": "stream",
          "text": [
            "Text: Your credit card is in past due status | entites: {'entities': [(23, 31, 'ACTIVITY'), (5, 16, 'SERVICE')]}\n",
            "\tActual: [('past due', 'ACTIVITY'), ('credit card', 'SERVICE')]\n",
            "\tPredicted: [('credit card', 'SERVICE')]\n",
            "Text: How do I open a new loan account | entites: {'entities': [(9, 13, 'ACTIVITY'), (20, 32, 'SERVICE')]}\n",
            "\tActual: [('open', 'ACTIVITY'), ('loan account', 'SERVICE')]\n",
            "\tPredicted: [('open', 'ACTIVITY'), ('loan account', 'SERVICE')]\n",
            "Text: When is the payment due date on my card | entites: {'entities': [(12, 19, 'ACTIVITY'), (35, 39, 'SERVICE')]}\n",
            "\tActual: [('payment', 'ACTIVITY'), ('card', 'SERVICE')]\n",
            "\tPredicted: [('payment', 'ACTIVITY')]\n",
            "Text: I want to check balance in my savings account | entites: {'entities': [(16, 23, 'ACTIVITY'), (30, 45, 'SERVICE')]}\n",
            "\tActual: [('balance', 'ACTIVITY'), ('savings account', 'SERVICE')]\n",
            "\tPredicted: [('balance', 'ACTIVITY'), ('savings account', 'SERVICE')]\n",
            "Text: I am here for opening a new savings account | entites: {'entities': [(14, 21, 'ACTIVITY'), (28, 43, 'SERVICE')]}\n",
            "\tActual: [('opening', 'ACTIVITY'), ('savings account', 'SERVICE')]\n",
            "\tPredicted: [('opening', 'ACTIVITY'), ('savings account', 'SERVICE')]\n",
            "Text: Can you help updating payment on my credit card | entites: {'entities': [(22, 29, 'ACTIVITY'), (36, 47, 'SERVICE')]}\n",
            "\tActual: [('payment', 'ACTIVITY'), ('credit card', 'SERVICE')]\n",
            "\tPredicted: [('payment', 'ACTIVITY'), ('credit card', 'SERVICE')]\n",
            "Text: I suspect a fraud in my credit card account | entites: {'entities': [(12, 17, 'ACTIVITY'), (24, 35, 'SERVICE')]}\n",
            "\tActual: [('fraud', 'ACTIVITY'), ('credit card', 'SERVICE')]\n",
            "\tPredicted: [('fraud', 'ACTIVITY'), ('credit card', 'SERVICE')]\n",
            "Text: My loan account is still not approved and funded | entites: {'entities': [(25, 37, 'ACTIVITY'), (3, 15, 'SERVICE'), (42, 48, 'ACTIVITY')]}\n",
            "\tActual: [('not approved', 'ACTIVITY'), ('loan account', 'SERVICE'), ('funded', 'ACTIVITY')]\n",
            "\tPredicted: [('loan account', 'SERVICE')]\n",
            "Text: Can you explain late charges on my credit card | entites: {'entities': [(21, 28, 'ACTIVITY'), (35, 46, 'SERVICE')]}\n",
            "\tActual: [('charges', 'ACTIVITY'), ('credit card', 'SERVICE')]\n",
            "\tPredicted: [('charges', 'ACTIVITY'), ('credit card', 'SERVICE')]\n",
            "Text: what are the charges on Investment account | entites: {'entities': [(13, 20, 'ACTIVITY'), (24, 42, 'SERVICE')]}\n",
            "\tActual: [('charges', 'ACTIVITY'), ('Investment account', 'SERVICE')]\n",
            "\tPredicted: [('charges', 'ACTIVITY'), ('Investment account', 'SERVICE')]\n",
            "Text: Money transfer from my checking account is not working | entites: {'entities': [(6, 13, 'ACTIVITY'), (23, 39, 'SERVICE')]}\n",
            "\tActual: [('transfe', 'ACTIVITY'), ('checking account', 'SERVICE')]\n",
            "\tPredicted: [('checking account', 'SERVICE')]\n",
            "Text: I want to open a new loan account | entites: {'entities': [(10, 14, 'ACTIVITY'), (21, 33, 'SERVICE')]}\n",
            "\tActual: [('open', 'ACTIVITY'), ('loan account', 'SERVICE')]\n",
            "\tPredicted: [('open', 'ACTIVITY'), ('loan account', 'SERVICE')]\n",
            "Text: Your mortage is in delinquent status | entites: {'entities': [(20, 30, 'ACTIVITY'), (5, 13, 'SERVICE')]}\n",
            "\tActual: [('elinquent ', 'ACTIVITY'), ('mortage ', 'SERVICE')]\n",
            "\tPredicted: [('mortage is', 'SERVICE')]\n"
          ],
          "name": "stdout"
        }
      ]
    },
    {
      "cell_type": "markdown",
      "metadata": {
        "id": "60iAuylDMNIu",
        "colab_type": "text"
      },
      "source": [
        "As we can see from the results, the model is decent enough if not 100% with only small amount of training"
      ]
    },
    {
      "cell_type": "code",
      "metadata": {
        "id": "Afkx50YtEDIw",
        "colab_type": "code",
        "colab": {
          "base_uri": "https://localhost:8080/",
          "height": 466
        },
        "outputId": "0a7f4bdb-a474-4f9d-f27d-69bd5d2a4b2e"
      },
      "source": [
        "# visualize using displacy\n",
        "for text, _ in train:\n",
        "    doc = nlp(text)\n",
        "    displacy.render(nlp(doc.text), style=\"ent\", jupyter=True)"
      ],
      "execution_count": 96,
      "outputs": [
        {
          "output_type": "display_data",
          "data": {
            "text/html": [
              "<span class=\"tex2jax_ignore\"><div class=\"entities\" style=\"line-height: 2.5; direction: ltr\">Your \n",
              "<mark class=\"entity\" style=\"background: #ddd; padding: 0.45em 0.6em; margin: 0 0.25em; line-height: 1; border-radius: 0.35em;\">\n",
              "    credit card\n",
              "    <span style=\"font-size: 0.8em; font-weight: bold; line-height: 1; border-radius: 0.35em; text-transform: uppercase; vertical-align: middle; margin-left: 0.5rem\">SERVICE</span>\n",
              "</mark>\n",
              " is in past due status</div></span>"
            ],
            "text/plain": [
              "<IPython.core.display.HTML object>"
            ]
          },
          "metadata": {
            "tags": []
          }
        },
        {
          "output_type": "display_data",
          "data": {
            "text/html": [
              "<span class=\"tex2jax_ignore\"><div class=\"entities\" style=\"line-height: 2.5; direction: ltr\">How do I \n",
              "<mark class=\"entity\" style=\"background: #ddd; padding: 0.45em 0.6em; margin: 0 0.25em; line-height: 1; border-radius: 0.35em;\">\n",
              "    open\n",
              "    <span style=\"font-size: 0.8em; font-weight: bold; line-height: 1; border-radius: 0.35em; text-transform: uppercase; vertical-align: middle; margin-left: 0.5rem\">ACTIVITY</span>\n",
              "</mark>\n",
              " a new \n",
              "<mark class=\"entity\" style=\"background: #ddd; padding: 0.45em 0.6em; margin: 0 0.25em; line-height: 1; border-radius: 0.35em;\">\n",
              "    loan account\n",
              "    <span style=\"font-size: 0.8em; font-weight: bold; line-height: 1; border-radius: 0.35em; text-transform: uppercase; vertical-align: middle; margin-left: 0.5rem\">SERVICE</span>\n",
              "</mark>\n",
              "</div></span>"
            ],
            "text/plain": [
              "<IPython.core.display.HTML object>"
            ]
          },
          "metadata": {
            "tags": []
          }
        },
        {
          "output_type": "display_data",
          "data": {
            "text/html": [
              "<span class=\"tex2jax_ignore\"><div class=\"entities\" style=\"line-height: 2.5; direction: ltr\">When is the \n",
              "<mark class=\"entity\" style=\"background: #ddd; padding: 0.45em 0.6em; margin: 0 0.25em; line-height: 1; border-radius: 0.35em;\">\n",
              "    payment\n",
              "    <span style=\"font-size: 0.8em; font-weight: bold; line-height: 1; border-radius: 0.35em; text-transform: uppercase; vertical-align: middle; margin-left: 0.5rem\">ACTIVITY</span>\n",
              "</mark>\n",
              " due date on my card</div></span>"
            ],
            "text/plain": [
              "<IPython.core.display.HTML object>"
            ]
          },
          "metadata": {
            "tags": []
          }
        },
        {
          "output_type": "display_data",
          "data": {
            "text/html": [
              "<span class=\"tex2jax_ignore\"><div class=\"entities\" style=\"line-height: 2.5; direction: ltr\">I want to check \n",
              "<mark class=\"entity\" style=\"background: #ddd; padding: 0.45em 0.6em; margin: 0 0.25em; line-height: 1; border-radius: 0.35em;\">\n",
              "    balance\n",
              "    <span style=\"font-size: 0.8em; font-weight: bold; line-height: 1; border-radius: 0.35em; text-transform: uppercase; vertical-align: middle; margin-left: 0.5rem\">ACTIVITY</span>\n",
              "</mark>\n",
              " in my \n",
              "<mark class=\"entity\" style=\"background: #ddd; padding: 0.45em 0.6em; margin: 0 0.25em; line-height: 1; border-radius: 0.35em;\">\n",
              "    savings account\n",
              "    <span style=\"font-size: 0.8em; font-weight: bold; line-height: 1; border-radius: 0.35em; text-transform: uppercase; vertical-align: middle; margin-left: 0.5rem\">SERVICE</span>\n",
              "</mark>\n",
              "</div></span>"
            ],
            "text/plain": [
              "<IPython.core.display.HTML object>"
            ]
          },
          "metadata": {
            "tags": []
          }
        },
        {
          "output_type": "display_data",
          "data": {
            "text/html": [
              "<span class=\"tex2jax_ignore\"><div class=\"entities\" style=\"line-height: 2.5; direction: ltr\">I am here for \n",
              "<mark class=\"entity\" style=\"background: #ddd; padding: 0.45em 0.6em; margin: 0 0.25em; line-height: 1; border-radius: 0.35em;\">\n",
              "    opening\n",
              "    <span style=\"font-size: 0.8em; font-weight: bold; line-height: 1; border-radius: 0.35em; text-transform: uppercase; vertical-align: middle; margin-left: 0.5rem\">ACTIVITY</span>\n",
              "</mark>\n",
              " a new \n",
              "<mark class=\"entity\" style=\"background: #ddd; padding: 0.45em 0.6em; margin: 0 0.25em; line-height: 1; border-radius: 0.35em;\">\n",
              "    savings account\n",
              "    <span style=\"font-size: 0.8em; font-weight: bold; line-height: 1; border-radius: 0.35em; text-transform: uppercase; vertical-align: middle; margin-left: 0.5rem\">SERVICE</span>\n",
              "</mark>\n",
              "</div></span>"
            ],
            "text/plain": [
              "<IPython.core.display.HTML object>"
            ]
          },
          "metadata": {
            "tags": []
          }
        },
        {
          "output_type": "display_data",
          "data": {
            "text/html": [
              "<span class=\"tex2jax_ignore\"><div class=\"entities\" style=\"line-height: 2.5; direction: ltr\">Can you help updating \n",
              "<mark class=\"entity\" style=\"background: #ddd; padding: 0.45em 0.6em; margin: 0 0.25em; line-height: 1; border-radius: 0.35em;\">\n",
              "    payment\n",
              "    <span style=\"font-size: 0.8em; font-weight: bold; line-height: 1; border-radius: 0.35em; text-transform: uppercase; vertical-align: middle; margin-left: 0.5rem\">ACTIVITY</span>\n",
              "</mark>\n",
              " on my \n",
              "<mark class=\"entity\" style=\"background: #ddd; padding: 0.45em 0.6em; margin: 0 0.25em; line-height: 1; border-radius: 0.35em;\">\n",
              "    credit card\n",
              "    <span style=\"font-size: 0.8em; font-weight: bold; line-height: 1; border-radius: 0.35em; text-transform: uppercase; vertical-align: middle; margin-left: 0.5rem\">SERVICE</span>\n",
              "</mark>\n",
              "</div></span>"
            ],
            "text/plain": [
              "<IPython.core.display.HTML object>"
            ]
          },
          "metadata": {
            "tags": []
          }
        },
        {
          "output_type": "display_data",
          "data": {
            "text/html": [
              "<span class=\"tex2jax_ignore\"><div class=\"entities\" style=\"line-height: 2.5; direction: ltr\">I suspect a \n",
              "<mark class=\"entity\" style=\"background: #ddd; padding: 0.45em 0.6em; margin: 0 0.25em; line-height: 1; border-radius: 0.35em;\">\n",
              "    fraud\n",
              "    <span style=\"font-size: 0.8em; font-weight: bold; line-height: 1; border-radius: 0.35em; text-transform: uppercase; vertical-align: middle; margin-left: 0.5rem\">ACTIVITY</span>\n",
              "</mark>\n",
              " in my \n",
              "<mark class=\"entity\" style=\"background: #ddd; padding: 0.45em 0.6em; margin: 0 0.25em; line-height: 1; border-radius: 0.35em;\">\n",
              "    credit card\n",
              "    <span style=\"font-size: 0.8em; font-weight: bold; line-height: 1; border-radius: 0.35em; text-transform: uppercase; vertical-align: middle; margin-left: 0.5rem\">SERVICE</span>\n",
              "</mark>\n",
              " account</div></span>"
            ],
            "text/plain": [
              "<IPython.core.display.HTML object>"
            ]
          },
          "metadata": {
            "tags": []
          }
        },
        {
          "output_type": "display_data",
          "data": {
            "text/html": [
              "<span class=\"tex2jax_ignore\"><div class=\"entities\" style=\"line-height: 2.5; direction: ltr\">My \n",
              "<mark class=\"entity\" style=\"background: #ddd; padding: 0.45em 0.6em; margin: 0 0.25em; line-height: 1; border-radius: 0.35em;\">\n",
              "    loan account\n",
              "    <span style=\"font-size: 0.8em; font-weight: bold; line-height: 1; border-radius: 0.35em; text-transform: uppercase; vertical-align: middle; margin-left: 0.5rem\">SERVICE</span>\n",
              "</mark>\n",
              " is still not approved and funded</div></span>"
            ],
            "text/plain": [
              "<IPython.core.display.HTML object>"
            ]
          },
          "metadata": {
            "tags": []
          }
        },
        {
          "output_type": "display_data",
          "data": {
            "text/html": [
              "<span class=\"tex2jax_ignore\"><div class=\"entities\" style=\"line-height: 2.5; direction: ltr\">Can you explain late \n",
              "<mark class=\"entity\" style=\"background: #ddd; padding: 0.45em 0.6em; margin: 0 0.25em; line-height: 1; border-radius: 0.35em;\">\n",
              "    charges\n",
              "    <span style=\"font-size: 0.8em; font-weight: bold; line-height: 1; border-radius: 0.35em; text-transform: uppercase; vertical-align: middle; margin-left: 0.5rem\">ACTIVITY</span>\n",
              "</mark>\n",
              " on my \n",
              "<mark class=\"entity\" style=\"background: #ddd; padding: 0.45em 0.6em; margin: 0 0.25em; line-height: 1; border-radius: 0.35em;\">\n",
              "    credit card\n",
              "    <span style=\"font-size: 0.8em; font-weight: bold; line-height: 1; border-radius: 0.35em; text-transform: uppercase; vertical-align: middle; margin-left: 0.5rem\">SERVICE</span>\n",
              "</mark>\n",
              "</div></span>"
            ],
            "text/plain": [
              "<IPython.core.display.HTML object>"
            ]
          },
          "metadata": {
            "tags": []
          }
        },
        {
          "output_type": "display_data",
          "data": {
            "text/html": [
              "<span class=\"tex2jax_ignore\"><div class=\"entities\" style=\"line-height: 2.5; direction: ltr\">what are the \n",
              "<mark class=\"entity\" style=\"background: #ddd; padding: 0.45em 0.6em; margin: 0 0.25em; line-height: 1; border-radius: 0.35em;\">\n",
              "    charges\n",
              "    <span style=\"font-size: 0.8em; font-weight: bold; line-height: 1; border-radius: 0.35em; text-transform: uppercase; vertical-align: middle; margin-left: 0.5rem\">ACTIVITY</span>\n",
              "</mark>\n",
              " on \n",
              "<mark class=\"entity\" style=\"background: #ddd; padding: 0.45em 0.6em; margin: 0 0.25em; line-height: 1; border-radius: 0.35em;\">\n",
              "    Investment account\n",
              "    <span style=\"font-size: 0.8em; font-weight: bold; line-height: 1; border-radius: 0.35em; text-transform: uppercase; vertical-align: middle; margin-left: 0.5rem\">SERVICE</span>\n",
              "</mark>\n",
              "</div></span>"
            ],
            "text/plain": [
              "<IPython.core.display.HTML object>"
            ]
          },
          "metadata": {
            "tags": []
          }
        },
        {
          "output_type": "display_data",
          "data": {
            "text/html": [
              "<span class=\"tex2jax_ignore\"><div class=\"entities\" style=\"line-height: 2.5; direction: ltr\">Money transfer from my \n",
              "<mark class=\"entity\" style=\"background: #ddd; padding: 0.45em 0.6em; margin: 0 0.25em; line-height: 1; border-radius: 0.35em;\">\n",
              "    checking account\n",
              "    <span style=\"font-size: 0.8em; font-weight: bold; line-height: 1; border-radius: 0.35em; text-transform: uppercase; vertical-align: middle; margin-left: 0.5rem\">SERVICE</span>\n",
              "</mark>\n",
              " is not working</div></span>"
            ],
            "text/plain": [
              "<IPython.core.display.HTML object>"
            ]
          },
          "metadata": {
            "tags": []
          }
        },
        {
          "output_type": "display_data",
          "data": {
            "text/html": [
              "<span class=\"tex2jax_ignore\"><div class=\"entities\" style=\"line-height: 2.5; direction: ltr\">I want to \n",
              "<mark class=\"entity\" style=\"background: #ddd; padding: 0.45em 0.6em; margin: 0 0.25em; line-height: 1; border-radius: 0.35em;\">\n",
              "    open\n",
              "    <span style=\"font-size: 0.8em; font-weight: bold; line-height: 1; border-radius: 0.35em; text-transform: uppercase; vertical-align: middle; margin-left: 0.5rem\">ACTIVITY</span>\n",
              "</mark>\n",
              " a new \n",
              "<mark class=\"entity\" style=\"background: #ddd; padding: 0.45em 0.6em; margin: 0 0.25em; line-height: 1; border-radius: 0.35em;\">\n",
              "    loan account\n",
              "    <span style=\"font-size: 0.8em; font-weight: bold; line-height: 1; border-radius: 0.35em; text-transform: uppercase; vertical-align: middle; margin-left: 0.5rem\">SERVICE</span>\n",
              "</mark>\n",
              "</div></span>"
            ],
            "text/plain": [
              "<IPython.core.display.HTML object>"
            ]
          },
          "metadata": {
            "tags": []
          }
        },
        {
          "output_type": "display_data",
          "data": {
            "text/html": [
              "<span class=\"tex2jax_ignore\"><div class=\"entities\" style=\"line-height: 2.5; direction: ltr\">Your \n",
              "<mark class=\"entity\" style=\"background: #ddd; padding: 0.45em 0.6em; margin: 0 0.25em; line-height: 1; border-radius: 0.35em;\">\n",
              "    mortage is\n",
              "    <span style=\"font-size: 0.8em; font-weight: bold; line-height: 1; border-radius: 0.35em; text-transform: uppercase; vertical-align: middle; margin-left: 0.5rem\">SERVICE</span>\n",
              "</mark>\n",
              " in delinquent status</div></span>"
            ],
            "text/plain": [
              "<IPython.core.display.HTML object>"
            ]
          },
          "metadata": {
            "tags": []
          }
        }
      ]
    },
    {
      "cell_type": "markdown",
      "metadata": {
        "id": "gIow5pHAMhD7",
        "colab_type": "text"
      },
      "source": [
        "Let's see how it predicts on unseen data"
      ]
    },
    {
      "cell_type": "code",
      "metadata": {
        "id": "5kyx0N-wFuof",
        "colab_type": "code",
        "colab": {
          "base_uri": "https://localhost:8080/",
          "height": 52
        },
        "outputId": "02573b45-0076-4edb-b173-65e6bcd94055"
      },
      "source": [
        "doc = nlp(\"My credit card payment will be delayed\")\n",
        "displacy.render(nlp(doc.text), style=\"ent\", jupyter=True)"
      ],
      "execution_count": 97,
      "outputs": [
        {
          "output_type": "display_data",
          "data": {
            "text/html": [
              "<span class=\"tex2jax_ignore\"><div class=\"entities\" style=\"line-height: 2.5; direction: ltr\">My \n",
              "<mark class=\"entity\" style=\"background: #ddd; padding: 0.45em 0.6em; margin: 0 0.25em; line-height: 1; border-radius: 0.35em;\">\n",
              "    credit card\n",
              "    <span style=\"font-size: 0.8em; font-weight: bold; line-height: 1; border-radius: 0.35em; text-transform: uppercase; vertical-align: middle; margin-left: 0.5rem\">SERVICE</span>\n",
              "</mark>\n",
              " \n",
              "<mark class=\"entity\" style=\"background: #ddd; padding: 0.45em 0.6em; margin: 0 0.25em; line-height: 1; border-radius: 0.35em;\">\n",
              "    payment\n",
              "    <span style=\"font-size: 0.8em; font-weight: bold; line-height: 1; border-radius: 0.35em; text-transform: uppercase; vertical-align: middle; margin-left: 0.5rem\">ACTIVITY</span>\n",
              "</mark>\n",
              " will be delayed</div></span>"
            ],
            "text/plain": [
              "<IPython.core.display.HTML object>"
            ]
          },
          "metadata": {
            "tags": []
          }
        }
      ]
    },
    {
      "cell_type": "code",
      "metadata": {
        "id": "HuI-uKGFGPlN",
        "colab_type": "code",
        "colab": {
          "base_uri": "https://localhost:8080/",
          "height": 52
        },
        "outputId": "a734bdfe-7e5d-4666-e94a-8916aff09544"
      },
      "source": [
        "doc = nlp(\"what are the charges on credit card late payment in Bank of America\")\n",
        "displacy.render(nlp(doc.text), style=\"ent\", jupyter=True)"
      ],
      "execution_count": 98,
      "outputs": [
        {
          "output_type": "display_data",
          "data": {
            "text/html": [
              "<span class=\"tex2jax_ignore\"><div class=\"entities\" style=\"line-height: 2.5; direction: ltr\">what are the \n",
              "<mark class=\"entity\" style=\"background: #ddd; padding: 0.45em 0.6em; margin: 0 0.25em; line-height: 1; border-radius: 0.35em;\">\n",
              "    charges\n",
              "    <span style=\"font-size: 0.8em; font-weight: bold; line-height: 1; border-radius: 0.35em; text-transform: uppercase; vertical-align: middle; margin-left: 0.5rem\">ACTIVITY</span>\n",
              "</mark>\n",
              " on \n",
              "<mark class=\"entity\" style=\"background: #ddd; padding: 0.45em 0.6em; margin: 0 0.25em; line-height: 1; border-radius: 0.35em;\">\n",
              "    credit card\n",
              "    <span style=\"font-size: 0.8em; font-weight: bold; line-height: 1; border-radius: 0.35em; text-transform: uppercase; vertical-align: middle; margin-left: 0.5rem\">SERVICE</span>\n",
              "</mark>\n",
              " late \n",
              "<mark class=\"entity\" style=\"background: #ddd; padding: 0.45em 0.6em; margin: 0 0.25em; line-height: 1; border-radius: 0.35em;\">\n",
              "    payment\n",
              "    <span style=\"font-size: 0.8em; font-weight: bold; line-height: 1; border-radius: 0.35em; text-transform: uppercase; vertical-align: middle; margin-left: 0.5rem\">ACTIVITY</span>\n",
              "</mark>\n",
              " in Bank of America</div></span>"
            ],
            "text/plain": [
              "<IPython.core.display.HTML object>"
            ]
          },
          "metadata": {
            "tags": []
          }
        }
      ]
    },
    {
      "cell_type": "code",
      "metadata": {
        "id": "YC_B7xoJGgn-",
        "colab_type": "code",
        "colab": {
          "base_uri": "https://localhost:8080/",
          "height": 106
        },
        "outputId": "3916ecc9-5cde-415e-99d8-e4770d7e64d8"
      },
      "source": [
        "doc = nlp(\"Australia wants to force Facebook and Google to pay media companies for news\")\n",
        "displacy.render(nlp(doc.text), style=\"ent\", jupyter=True)"
      ],
      "execution_count": 99,
      "outputs": [
        {
          "output_type": "stream",
          "text": [
            "/usr/lib/python3.6/runpy.py:193: UserWarning: [W006] No entities to visualize found in Doc object. If this is surprising to you, make sure the Doc was processed using a model that supports named entity recognition, and check the `doc.ents` property manually if necessary.\n",
            "  \"__main__\", mod_spec)\n"
          ],
          "name": "stderr"
        },
        {
          "output_type": "display_data",
          "data": {
            "text/html": [
              "<span class=\"tex2jax_ignore\"><div class=\"entities\" style=\"line-height: 2.5; direction: ltr\">Australia wants to force Facebook and Google to pay media companies for news</div></span>"
            ],
            "text/plain": [
              "<IPython.core.display.HTML object>"
            ]
          },
          "metadata": {
            "tags": []
          }
        }
      ]
    },
    {
      "cell_type": "markdown",
      "metadata": {
        "id": "psUVrDGIMm4_",
        "colab_type": "text"
      },
      "source": [
        "As we can see that it is not able to predict the entities which were done prior to training. This is due to [pseudo-rehearsal-catastrophic-forgetting](https://explosion.ai/blog/pseudo-rehearsal-catastrophic-forgetting). In order to fix this, we need to train the model on complete data"
      ]
    }
  ]
}