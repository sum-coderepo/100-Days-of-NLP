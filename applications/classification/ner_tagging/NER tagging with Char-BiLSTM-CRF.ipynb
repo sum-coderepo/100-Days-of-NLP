{
  "nbformat": 4,
  "nbformat_minor": 0,
  "metadata": {
    "colab": {
      "name": "NER tagging with Char-BiLSTM-CRF.ipynb",
      "provenance": [],
      "collapsed_sections": [
        "2haF4Hn2kRNz",
        "vIFVl-O_kUJb",
        "RBVQHwTVk88N",
        "wwiiGscn29-V",
        "1Fpc9vWq3EY3",
        "zv1kwAoG3IzE",
        "TeoX6uxx3MVe",
        "5urAtI4W3OUf",
        "TIXBCe7S3c3y"
      ],
      "authorship_tag": "ABX9TyMKmQCgsgyfybE+fn/Qp2Ub",
      "include_colab_link": true
    },
    "kernelspec": {
      "name": "python3",
      "display_name": "Python 3"
    },
    "accelerator": "GPU"
  },
  "cells": [
    {
      "cell_type": "markdown",
      "metadata": {
        "id": "view-in-github",
        "colab_type": "text"
      },
      "source": [
        "<a href=\"https://colab.research.google.com/github/graviraja/100-Days-of-NLP/blob/applications%2Fclassification/NER%20tagging%20with%20Char-BiLSTM-CRF.ipynb\" target=\"_parent\"><img src=\"https://colab.research.google.com/assets/colab-badge.svg\" alt=\"Open In Colab\"/></a>"
      ]
    },
    {
      "cell_type": "markdown",
      "metadata": {
        "id": "AeK9dZJmkDQg",
        "colab_type": "text"
      },
      "source": [
        "### NER Dataset"
      ]
    },
    {
      "cell_type": "code",
      "metadata": {
        "id": "j5jkJpQvdgjT",
        "colab_type": "code",
        "colab": {
          "base_uri": "https://localhost:8080/",
          "height": 202
        },
        "outputId": "bcc697fe-0fca-44c4-c830-09d9ad6cc3a6"
      },
      "source": [
        "!pip install kaggle"
      ],
      "execution_count": 1,
      "outputs": [
        {
          "output_type": "stream",
          "text": [
            "Requirement already satisfied: kaggle in /usr/local/lib/python3.6/dist-packages (1.5.6)\n",
            "Requirement already satisfied: python-slugify in /usr/local/lib/python3.6/dist-packages (from kaggle) (4.0.1)\n",
            "Requirement already satisfied: urllib3<1.25,>=1.21.1 in /usr/local/lib/python3.6/dist-packages (from kaggle) (1.24.3)\n",
            "Requirement already satisfied: requests in /usr/local/lib/python3.6/dist-packages (from kaggle) (2.23.0)\n",
            "Requirement already satisfied: tqdm in /usr/local/lib/python3.6/dist-packages (from kaggle) (4.41.1)\n",
            "Requirement already satisfied: six>=1.10 in /usr/local/lib/python3.6/dist-packages (from kaggle) (1.15.0)\n",
            "Requirement already satisfied: certifi in /usr/local/lib/python3.6/dist-packages (from kaggle) (2020.6.20)\n",
            "Requirement already satisfied: python-dateutil in /usr/local/lib/python3.6/dist-packages (from kaggle) (2.8.1)\n",
            "Requirement already satisfied: text-unidecode>=1.3 in /usr/local/lib/python3.6/dist-packages (from python-slugify->kaggle) (1.3)\n",
            "Requirement already satisfied: chardet<4,>=3.0.2 in /usr/local/lib/python3.6/dist-packages (from requests->kaggle) (3.0.4)\n",
            "Requirement already satisfied: idna<3,>=2.5 in /usr/local/lib/python3.6/dist-packages (from requests->kaggle) (2.10)\n"
          ],
          "name": "stdout"
        }
      ]
    },
    {
      "cell_type": "code",
      "metadata": {
        "id": "s5eEi8pCZYYu",
        "colab_type": "code",
        "colab": {
          "resources": {
            "http://localhost:8080/nbextensions/google.colab/files.js": {
              "data": "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",
              "ok": true,
              "headers": [
                [
                  "content-type",
                  "application/javascript"
                ]
              ],
              "status": 200,
              "status_text": ""
            }
          },
          "base_uri": "https://localhost:8080/",
          "height": 90
        },
        "outputId": "fd7934a6-5d8d-499d-ec74-244a366eaa86"
      },
      "source": [
        "from google.colab import files\n",
        "files.upload()"
      ],
      "execution_count": 2,
      "outputs": [
        {
          "output_type": "display_data",
          "data": {
            "text/html": [
              "\n",
              "     <input type=\"file\" id=\"files-179c3d3f-768f-48df-b2ad-0da9fa9b49ca\" name=\"files[]\" multiple disabled\n",
              "        style=\"border:none\" />\n",
              "     <output id=\"result-179c3d3f-768f-48df-b2ad-0da9fa9b49ca\">\n",
              "      Upload widget is only available when the cell has been executed in the\n",
              "      current browser session. Please rerun this cell to enable.\n",
              "      </output>\n",
              "      <script src=\"/nbextensions/google.colab/files.js\"></script> "
            ],
            "text/plain": [
              "<IPython.core.display.HTML object>"
            ]
          },
          "metadata": {
            "tags": []
          }
        },
        {
          "output_type": "stream",
          "text": [
            "Saving kaggle.json to kaggle.json\n"
          ],
          "name": "stdout"
        },
        {
          "output_type": "execute_result",
          "data": {
            "text/plain": [
              "{'kaggle.json': b'{\"username\":\"ravirajag\",\"key\":\"7c9b32c3baf1bd5e404db6e4e281fc5c\"}'}"
            ]
          },
          "metadata": {
            "tags": []
          },
          "execution_count": 2
        }
      ]
    },
    {
      "cell_type": "code",
      "metadata": {
        "id": "SBOvFvrBdm1s",
        "colab_type": "code",
        "colab": {}
      },
      "source": [
        "!mkdir ~/.kaggle\n",
        "!cp kaggle.json ~/.kaggle\n",
        "!chmod 600 ~/.kaggle/kaggle.json"
      ],
      "execution_count": 3,
      "outputs": []
    },
    {
      "cell_type": "code",
      "metadata": {
        "id": "WKDfern7eAi2",
        "colab_type": "code",
        "colab": {
          "base_uri": "https://localhost:8080/",
          "height": 67
        },
        "outputId": "6d9d2206-27c8-4389-c7b8-003f344f1697"
      },
      "source": [
        "!kaggle datasets download -d abhinavwalia95/entity-annotated-corpus"
      ],
      "execution_count": 4,
      "outputs": [
        {
          "output_type": "stream",
          "text": [
            "Downloading entity-annotated-corpus.zip to /content\n",
            " 64% 17.0M/26.4M [00:00<00:00, 25.6MB/s]\n",
            "100% 26.4M/26.4M [00:00<00:00, 41.7MB/s]\n"
          ],
          "name": "stdout"
        }
      ]
    },
    {
      "cell_type": "code",
      "metadata": {
        "id": "u1LvqrEIeFvG",
        "colab_type": "code",
        "colab": {
          "base_uri": "https://localhost:8080/",
          "height": 67
        },
        "outputId": "183cd3a3-3f01-400c-b4ad-3c77f896afc4"
      },
      "source": [
        "!unzip entity-annotated-corpus.zip"
      ],
      "execution_count": 5,
      "outputs": [
        {
          "output_type": "stream",
          "text": [
            "Archive:  entity-annotated-corpus.zip\n",
            "  inflating: ner.csv                 \n",
            "  inflating: ner_dataset.csv         \n"
          ],
          "name": "stdout"
        }
      ]
    },
    {
      "cell_type": "markdown",
      "metadata": {
        "id": "ZuSoeUl3kFz2",
        "colab_type": "text"
      },
      "source": [
        "### Imports"
      ]
    },
    {
      "cell_type": "code",
      "metadata": {
        "id": "uD_gnl5YQHEH",
        "colab_type": "code",
        "colab": {}
      },
      "source": [
        "import os\n",
        "import time\n",
        "import pandas as pd\n",
        "\n",
        "import torch\n",
        "import torch.nn as nn\n",
        "import torch.optim as optim\n",
        "import torch.utils.data as data\n",
        "\n",
        "from itertools import chain\n",
        "from collections import Counter\n",
        "from sklearn import metrics\n",
        "from sklearn.preprocessing import MultiLabelBinarizer\n",
        "from sklearn.model_selection import train_test_split\n",
        "\n",
        "import matplotlib.pyplot as plt\n",
        "import seaborn as sns"
      ],
      "execution_count": 7,
      "outputs": []
    },
    {
      "cell_type": "code",
      "metadata": {
        "id": "5NemuvQdVpGx",
        "colab_type": "code",
        "colab": {
          "base_uri": "https://localhost:8080/",
          "height": 34
        },
        "outputId": "227fefaa-65f0-4e19-c66d-46aa8fa2c778"
      },
      "source": [
        "device = torch.device('cuda' if torch.cuda.is_available() else 'cpu')\n",
        "device"
      ],
      "execution_count": 8,
      "outputs": [
        {
          "output_type": "execute_result",
          "data": {
            "text/plain": [
              "device(type='cuda')"
            ]
          },
          "metadata": {
            "tags": []
          },
          "execution_count": 8
        }
      ]
    },
    {
      "cell_type": "markdown",
      "metadata": {
        "id": "WNeeukPGkLSC",
        "colab_type": "text"
      },
      "source": [
        "### Data Exploration"
      ]
    },
    {
      "cell_type": "code",
      "metadata": {
        "id": "hM1ADdqCeRcr",
        "colab_type": "code",
        "colab": {}
      },
      "source": [
        "datafile = 'ner_dataset.csv'"
      ],
      "execution_count": 9,
      "outputs": []
    },
    {
      "cell_type": "code",
      "metadata": {
        "id": "vXIfU9fBfB6b",
        "colab_type": "code",
        "colab": {}
      },
      "source": [
        "df = pd.read_csv(datafile, encoding=\"latin1\", error_bad_lines=False)\n",
        "df = df.fillna(method='ffill')"
      ],
      "execution_count": 10,
      "outputs": []
    },
    {
      "cell_type": "code",
      "metadata": {
        "id": "_T1WOTYVfRLE",
        "colab_type": "code",
        "colab": {
          "base_uri": "https://localhost:8080/",
          "height": 195
        },
        "outputId": "9095d23f-73fc-4ad9-fcc4-a960f9ad556a"
      },
      "source": [
        "df.head()"
      ],
      "execution_count": 11,
      "outputs": [
        {
          "output_type": "execute_result",
          "data": {
            "text/html": [
              "<div>\n",
              "<style scoped>\n",
              "    .dataframe tbody tr th:only-of-type {\n",
              "        vertical-align: middle;\n",
              "    }\n",
              "\n",
              "    .dataframe tbody tr th {\n",
              "        vertical-align: top;\n",
              "    }\n",
              "\n",
              "    .dataframe thead th {\n",
              "        text-align: right;\n",
              "    }\n",
              "</style>\n",
              "<table border=\"1\" class=\"dataframe\">\n",
              "  <thead>\n",
              "    <tr style=\"text-align: right;\">\n",
              "      <th></th>\n",
              "      <th>Sentence #</th>\n",
              "      <th>Word</th>\n",
              "      <th>POS</th>\n",
              "      <th>Tag</th>\n",
              "    </tr>\n",
              "  </thead>\n",
              "  <tbody>\n",
              "    <tr>\n",
              "      <th>0</th>\n",
              "      <td>Sentence: 1</td>\n",
              "      <td>Thousands</td>\n",
              "      <td>NNS</td>\n",
              "      <td>O</td>\n",
              "    </tr>\n",
              "    <tr>\n",
              "      <th>1</th>\n",
              "      <td>Sentence: 1</td>\n",
              "      <td>of</td>\n",
              "      <td>IN</td>\n",
              "      <td>O</td>\n",
              "    </tr>\n",
              "    <tr>\n",
              "      <th>2</th>\n",
              "      <td>Sentence: 1</td>\n",
              "      <td>demonstrators</td>\n",
              "      <td>NNS</td>\n",
              "      <td>O</td>\n",
              "    </tr>\n",
              "    <tr>\n",
              "      <th>3</th>\n",
              "      <td>Sentence: 1</td>\n",
              "      <td>have</td>\n",
              "      <td>VBP</td>\n",
              "      <td>O</td>\n",
              "    </tr>\n",
              "    <tr>\n",
              "      <th>4</th>\n",
              "      <td>Sentence: 1</td>\n",
              "      <td>marched</td>\n",
              "      <td>VBN</td>\n",
              "      <td>O</td>\n",
              "    </tr>\n",
              "  </tbody>\n",
              "</table>\n",
              "</div>"
            ],
            "text/plain": [
              "    Sentence #           Word  POS Tag\n",
              "0  Sentence: 1      Thousands  NNS   O\n",
              "1  Sentence: 1             of   IN   O\n",
              "2  Sentence: 1  demonstrators  NNS   O\n",
              "3  Sentence: 1           have  VBP   O\n",
              "4  Sentence: 1        marched  VBN   O"
            ]
          },
          "metadata": {
            "tags": []
          },
          "execution_count": 11
        }
      ]
    },
    {
      "cell_type": "code",
      "metadata": {
        "id": "GAzzVjPqf7Lb",
        "colab_type": "code",
        "colab": {
          "base_uri": "https://localhost:8080/",
          "height": 34
        },
        "outputId": "4d21ab03-9cb8-4c65-ba09-31a44216f4af"
      },
      "source": [
        "len(df)"
      ],
      "execution_count": 12,
      "outputs": [
        {
          "output_type": "execute_result",
          "data": {
            "text/plain": [
              "1048575"
            ]
          },
          "metadata": {
            "tags": []
          },
          "execution_count": 12
        }
      ]
    },
    {
      "cell_type": "code",
      "metadata": {
        "id": "9c16vzijfkwL",
        "colab_type": "code",
        "colab": {
          "base_uri": "https://localhost:8080/",
          "height": 302
        },
        "outputId": "f13b49ce-53a5-431e-c281-340bda9f5ec6"
      },
      "source": [
        "tags = list(df.Tag.unique())\n",
        "tags"
      ],
      "execution_count": 13,
      "outputs": [
        {
          "output_type": "execute_result",
          "data": {
            "text/plain": [
              "['O',\n",
              " 'B-geo',\n",
              " 'B-gpe',\n",
              " 'B-per',\n",
              " 'I-geo',\n",
              " 'B-org',\n",
              " 'I-org',\n",
              " 'B-tim',\n",
              " 'B-art',\n",
              " 'I-art',\n",
              " 'I-per',\n",
              " 'I-gpe',\n",
              " 'I-tim',\n",
              " 'B-nat',\n",
              " 'B-eve',\n",
              " 'I-eve',\n",
              " 'I-nat']"
            ]
          },
          "metadata": {
            "tags": []
          },
          "execution_count": 13
        }
      ]
    },
    {
      "cell_type": "code",
      "metadata": {
        "id": "0eKeAR8DftPW",
        "colab_type": "code",
        "colab": {
          "base_uri": "https://localhost:8080/",
          "height": 337
        },
        "outputId": "d68b5a2a-f6a3-4662-cbe6-b7b74d0ef236"
      },
      "source": [
        "plt.figure(figsize=(15, 5))\n",
        "sns.countplot(df.Tag.values)"
      ],
      "execution_count": 14,
      "outputs": [
        {
          "output_type": "execute_result",
          "data": {
            "text/plain": [
              "<matplotlib.axes._subplots.AxesSubplot at 0x7f20f3592048>"
            ]
          },
          "metadata": {
            "tags": []
          },
          "execution_count": 14
        },
        {
          "output_type": "display_data",
          "data": {
            "image/png": "[encoded data removed]",
            "text/plain": [
              "<Figure size 1080x360 with 1 Axes>"
            ]
          },
          "metadata": {
            "tags": [],
            "needs_background": "light"
          }
        }
      ]
    },
    {
      "cell_type": "code",
      "metadata": {
        "id": "wPDMLtKdhFrv",
        "colab_type": "code",
        "colab": {
          "base_uri": "https://localhost:8080/",
          "height": 34
        },
        "outputId": "1eadc6d9-44d0-47ea-dae9-7c9b6bbf682d"
      },
      "source": [
        "num_tags = len(tags)\n",
        "num_tags"
      ],
      "execution_count": 15,
      "outputs": [
        {
          "output_type": "execute_result",
          "data": {
            "text/plain": [
              "17"
            ]
          },
          "metadata": {
            "tags": []
          },
          "execution_count": 15
        }
      ]
    },
    {
      "cell_type": "markdown",
      "metadata": {
        "id": "2haF4Hn2kRNz",
        "colab_type": "text"
      },
      "source": [
        "### Sentences"
      ]
    },
    {
      "cell_type": "code",
      "metadata": {
        "id": "pSmI25jJhjLN",
        "colab_type": "code",
        "colab": {}
      },
      "source": [
        "agg_func = lambda s: [(w, t) for w, p, t in zip(s[\"Word\"].values.tolist(), s[\"POS\"].values.tolist(), s[\"Tag\"].values.tolist())]\n",
        "group = df.groupby(\"Sentence #\").apply(agg_func)\n",
        "lines = [s for s in group]"
      ],
      "execution_count": 16,
      "outputs": []
    },
    {
      "cell_type": "code",
      "metadata": {
        "id": "RknB-LoUiATn",
        "colab_type": "code",
        "colab": {
          "base_uri": "https://localhost:8080/",
          "height": 420
        },
        "outputId": "8d21c2d1-7f7d-4da0-a709-8822e93c797b"
      },
      "source": [
        "lines[0]"
      ],
      "execution_count": 17,
      "outputs": [
        {
          "output_type": "execute_result",
          "data": {
            "text/plain": [
              "[('Thousands', 'O'),\n",
              " ('of', 'O'),\n",
              " ('demonstrators', 'O'),\n",
              " ('have', 'O'),\n",
              " ('marched', 'O'),\n",
              " ('through', 'O'),\n",
              " ('London', 'B-geo'),\n",
              " ('to', 'O'),\n",
              " ('protest', 'O'),\n",
              " ('the', 'O'),\n",
              " ('war', 'O'),\n",
              " ('in', 'O'),\n",
              " ('Iraq', 'B-geo'),\n",
              " ('and', 'O'),\n",
              " ('demand', 'O'),\n",
              " ('the', 'O'),\n",
              " ('withdrawal', 'O'),\n",
              " ('of', 'O'),\n",
              " ('British', 'B-gpe'),\n",
              " ('troops', 'O'),\n",
              " ('from', 'O'),\n",
              " ('that', 'O'),\n",
              " ('country', 'O'),\n",
              " ('.', 'O')]"
            ]
          },
          "metadata": {
            "tags": []
          },
          "execution_count": 17
        }
      ]
    },
    {
      "cell_type": "code",
      "metadata": {
        "id": "zLJvFI3yqgi0",
        "colab_type": "code",
        "colab": {}
      },
      "source": [
        "sentences = [['<START>'] + [tokens[0] for tokens in line] + ['<END>'] for line in lines]\n",
        "tags = [['<START>'] + [tokens[1] for tokens in line] + ['<END>'] for line in lines]"
      ],
      "execution_count": 18,
      "outputs": []
    },
    {
      "cell_type": "code",
      "metadata": {
        "id": "9_Q6hAx4SU22",
        "colab_type": "code",
        "colab": {}
      },
      "source": [
        "chars = [[['<START']] + [['<START>'] + [ch for ch in word] + ['<END>'] for word in sent[1:-1]] + [['<END>']] for sent in sentences]"
      ],
      "execution_count": 19,
      "outputs": []
    },
    {
      "cell_type": "code",
      "metadata": {
        "id": "2A0xItc3iFhX",
        "colab_type": "code",
        "colab": {
          "base_uri": "https://localhost:8080/",
          "height": 34
        },
        "outputId": "1336bc8f-1040-4ac3-846a-1728b7a7cb09"
      },
      "source": [
        "len(sentences), len(tags), len(chars)"
      ],
      "execution_count": 20,
      "outputs": [
        {
          "output_type": "execute_result",
          "data": {
            "text/plain": [
              "(47959, 47959, 47959)"
            ]
          },
          "metadata": {
            "tags": []
          },
          "execution_count": 20
        }
      ]
    },
    {
      "cell_type": "code",
      "metadata": {
        "id": "u29TiWBiSQuP",
        "colab_type": "code",
        "colab": {
          "base_uri": "https://localhost:8080/",
          "height": 454
        },
        "outputId": "b787f0cf-4f6b-4a45-916a-421c9b9ea05e"
      },
      "source": [
        "sentences[0]"
      ],
      "execution_count": 21,
      "outputs": [
        {
          "output_type": "execute_result",
          "data": {
            "text/plain": [
              "['<START>',\n",
              " 'Thousands',\n",
              " 'of',\n",
              " 'demonstrators',\n",
              " 'have',\n",
              " 'marched',\n",
              " 'through',\n",
              " 'London',\n",
              " 'to',\n",
              " 'protest',\n",
              " 'the',\n",
              " 'war',\n",
              " 'in',\n",
              " 'Iraq',\n",
              " 'and',\n",
              " 'demand',\n",
              " 'the',\n",
              " 'withdrawal',\n",
              " 'of',\n",
              " 'British',\n",
              " 'troops',\n",
              " 'from',\n",
              " 'that',\n",
              " 'country',\n",
              " '.',\n",
              " '<END>']"
            ]
          },
          "metadata": {
            "tags": []
          },
          "execution_count": 21
        }
      ]
    },
    {
      "cell_type": "code",
      "metadata": {
        "id": "g1jcQSbGStyi",
        "colab_type": "code",
        "colab": {
          "base_uri": "https://localhost:8080/",
          "height": 689
        },
        "outputId": "46b0becf-2ac2-48db-e5ce-33528699aa6b"
      },
      "source": [
        "chars[0]"
      ],
      "execution_count": 22,
      "outputs": [
        {
          "output_type": "execute_result",
          "data": {
            "text/plain": [
              "[['<START'],\n",
              " ['<START>', 'T', 'h', 'o', 'u', 's', 'a', 'n', 'd', 's', '<END>'],\n",
              " ['<START>', 'o', 'f', '<END>'],\n",
              " ['<START>',\n",
              "  'd',\n",
              "  'e',\n",
              "  'm',\n",
              "  'o',\n",
              "  'n',\n",
              "  's',\n",
              "  't',\n",
              "  'r',\n",
              "  'a',\n",
              "  't',\n",
              "  'o',\n",
              "  'r',\n",
              "  's',\n",
              "  '<END>'],\n",
              " ['<START>', 'h', 'a', 'v', 'e', '<END>'],\n",
              " ['<START>', 'm', 'a', 'r', 'c', 'h', 'e', 'd', '<END>'],\n",
              " ['<START>', 't', 'h', 'r', 'o', 'u', 'g', 'h', '<END>'],\n",
              " ['<START>', 'L', 'o', 'n', 'd', 'o', 'n', '<END>'],\n",
              " ['<START>', 't', 'o', '<END>'],\n",
              " ['<START>', 'p', 'r', 'o', 't', 'e', 's', 't', '<END>'],\n",
              " ['<START>', 't', 'h', 'e', '<END>'],\n",
              " ['<START>', 'w', 'a', 'r', '<END>'],\n",
              " ['<START>', 'i', 'n', '<END>'],\n",
              " ['<START>', 'I', 'r', 'a', 'q', '<END>'],\n",
              " ['<START>', 'a', 'n', 'd', '<END>'],\n",
              " ['<START>', 'd', 'e', 'm', 'a', 'n', 'd', '<END>'],\n",
              " ['<START>', 't', 'h', 'e', '<END>'],\n",
              " ['<START>', 'w', 'i', 't', 'h', 'd', 'r', 'a', 'w', 'a', 'l', '<END>'],\n",
              " ['<START>', 'o', 'f', '<END>'],\n",
              " ['<START>', 'B', 'r', 'i', 't', 'i', 's', 'h', '<END>'],\n",
              " ['<START>', 't', 'r', 'o', 'o', 'p', 's', '<END>'],\n",
              " ['<START>', 'f', 'r', 'o', 'm', '<END>'],\n",
              " ['<START>', 't', 'h', 'a', 't', '<END>'],\n",
              " ['<START>', 'c', 'o', 'u', 'n', 't', 'r', 'y', '<END>'],\n",
              " ['<START>', '.', '<END>'],\n",
              " ['<END>']]"
            ]
          },
          "metadata": {
            "tags": []
          },
          "execution_count": 22
        }
      ]
    },
    {
      "cell_type": "code",
      "metadata": {
        "id": "tH_xnhJFkj1M",
        "colab_type": "code",
        "colab": {
          "base_uri": "https://localhost:8080/",
          "height": 337
        },
        "outputId": "aa7a888d-ff5f-49a5-9478-2f90cdb36274"
      },
      "source": [
        "sen_lengths = [len(sent) for sent in sentences]\n",
        "plt.figure(figsize=(15, 5))\n",
        "sns.countplot(sen_lengths)"
      ],
      "execution_count": 23,
      "outputs": [
        {
          "output_type": "execute_result",
          "data": {
            "text/plain": [
              "<matplotlib.axes._subplots.AxesSubplot at 0x7f20dfc60550>"
            ]
          },
          "metadata": {
            "tags": []
          },
          "execution_count": 23
        },
        {
          "output_type": "display_data",
          "data": {
            "image/png": "[encoded data removed]",
            "text/plain": [
              "<Figure size 1080x360 with 1 Axes>"
            ]
          },
          "metadata": {
            "tags": [],
            "needs_background": "light"
          }
        }
      ]
    },
    {
      "cell_type": "code",
      "metadata": {
        "id": "-4b87TebTsen",
        "colab_type": "code",
        "colab": {
          "base_uri": "https://localhost:8080/",
          "height": 337
        },
        "outputId": "52e2f376-ce68-40e1-8568-bd93984ebd60"
      },
      "source": [
        "char_lengths = [len(t) for char in chars for t in char]\n",
        "plt.figure(figsize=(15, 5))\n",
        "sns.countplot(char_lengths)"
      ],
      "execution_count": 24,
      "outputs": [
        {
          "output_type": "execute_result",
          "data": {
            "text/plain": [
              "<matplotlib.axes._subplots.AxesSubplot at 0x7f20f227ac50>"
            ]
          },
          "metadata": {
            "tags": []
          },
          "execution_count": 24
        },
        {
          "output_type": "display_data",
          "data": {
            "image/png": "[encoded data removed]",
            "text/plain": [
              "<Figure size 1080x360 with 1 Axes>"
            ]
          },
          "metadata": {
            "tags": [],
            "needs_background": "light"
          }
        }
      ]
    },
    {
      "cell_type": "code",
      "metadata": {
        "id": "q5HlzOzGmEDw",
        "colab_type": "code",
        "colab": {
          "base_uri": "https://localhost:8080/",
          "height": 34
        },
        "outputId": "2685ff2c-05ec-4b39-e806-58bcfa2d4165"
      },
      "source": [
        "train_sentences, valid_sentences, train_tags, valid_tags, train_chars, valid_chars = train_test_split(sentences, tags, chars, test_size=0.2, random_state=42)\n",
        "valid_sentences, test_sentences, valid_tags, test_tags, valid_chars, test_chars = train_test_split(valid_sentences, valid_tags, valid_chars, test_size=0.5, random_state=42)\n",
        "len(train_sentences), len(valid_sentences), len(test_sentences)"
      ],
      "execution_count": 25,
      "outputs": [
        {
          "output_type": "execute_result",
          "data": {
            "text/plain": [
              "(38367, 4796, 4796)"
            ]
          },
          "metadata": {
            "tags": []
          },
          "execution_count": 25
        }
      ]
    },
    {
      "cell_type": "markdown",
      "metadata": {
        "id": "vIFVl-O_kUJb",
        "colab_type": "text"
      },
      "source": [
        "### Vocabulary"
      ]
    },
    {
      "cell_type": "code",
      "metadata": {
        "id": "c9eJdmdhoamw",
        "colab_type": "code",
        "colab": {}
      },
      "source": [
        "class Vocab:\n",
        "    def __init__(self, word2id, id2word):\n",
        "        self.UNK = '<UNK>'\n",
        "        self.PAD = '<PAD>'\n",
        "        self.START = '<START>'\n",
        "        self.END = '<END>'\n",
        "        self.__word2id = word2id\n",
        "        self.__id2word = id2word\n",
        "\n",
        "    def get_word2id(self):\n",
        "        return self.__word2id\n",
        "\n",
        "    def get_id2word(self):\n",
        "        return self.__id2word\n",
        "\n",
        "    def __getitem__(self, item):\n",
        "        if self.UNK in self.__word2id:\n",
        "            return self.__word2id.get(item, self.__word2id[self.UNK])\n",
        "        return self.__word2id[item]\n",
        "\n",
        "    def __len__(self):\n",
        "        return len(self.__word2id)\n",
        "\n",
        "    def id2word(self, idx):\n",
        "        return self.__id2word[idx]"
      ],
      "execution_count": 26,
      "outputs": []
    },
    {
      "cell_type": "code",
      "metadata": {
        "id": "9YlwfEdHocqP",
        "colab_type": "code",
        "colab": {}
      },
      "source": [
        "def build_vocab(data, freq_cutoff=5, is_tags=False, is_chars=False):\n",
        "    if is_chars:\n",
        "        word_counts = Counter(chain(*chain(*train_chars[:10])))\n",
        "    else:\n",
        "        word_counts = Counter(chain(*data))\n",
        "    valid_words = [w for w, d in word_counts.items() if d >= freq_cutoff]\n",
        "    valid_words = sorted(valid_words, key=lambda x: word_counts[x], reverse=True)\n",
        "    valid_words += ['<PAD>']\n",
        "    word2id = {w: idx for idx, w in enumerate(valid_words)}\n",
        "    if not is_tags:\n",
        "        word2id['<UNK>'] = len(word2id)\n",
        "        valid_words += ['<UNK>']\n",
        "    return Vocab(word2id=word2id, id2word=valid_words)"
      ],
      "execution_count": 27,
      "outputs": []
    },
    {
      "cell_type": "code",
      "metadata": {
        "id": "yzicTNXdj8Rl",
        "colab_type": "code",
        "colab": {}
      },
      "source": [
        "words_vocab = build_vocab(train_sentences)\n",
        "tags_vocab = build_vocab(train_tags, is_tags=True)\n",
        "chars_vocab = build_vocab(train_chars, is_chars=True)"
      ],
      "execution_count": 28,
      "outputs": []
    },
    {
      "cell_type": "code",
      "metadata": {
        "id": "A2LrPT8HUvHB",
        "colab_type": "code",
        "colab": {
          "base_uri": "https://localhost:8080/",
          "height": 34
        },
        "outputId": "7be4a1aa-45d7-440d-e275-3854a3483a3f"
      },
      "source": [
        "len(words_vocab), len(tags_vocab), len(chars_vocab)"
      ],
      "execution_count": 29,
      "outputs": [
        {
          "output_type": "execute_result",
          "data": {
            "text/plain": [
              "(9620, 20, 34)"
            ]
          },
          "metadata": {
            "tags": []
          },
          "execution_count": 29
        }
      ]
    },
    {
      "cell_type": "markdown",
      "metadata": {
        "id": "RBVQHwTVk88N",
        "colab_type": "text"
      },
      "source": [
        "### NER Dataset "
      ]
    },
    {
      "cell_type": "code",
      "metadata": {
        "id": "r3RhXjbdk_Jf",
        "colab_type": "code",
        "colab": {}
      },
      "source": [
        "MAX_SEQ_LEN = 50\n",
        "MAX_WORD_LEN = 15"
      ],
      "execution_count": 30,
      "outputs": []
    },
    {
      "cell_type": "code",
      "metadata": {
        "id": "ToE09rDqx8Bf",
        "colab_type": "code",
        "colab": {}
      },
      "source": [
        "class NERDataset(data.Dataset):\n",
        "    def __init__(self, sentences, tags, chars, max_seq_len, max_word_len):\n",
        "        self.sentences = sentences\n",
        "        self.tags = tags\n",
        "        self.characters = chars\n",
        "        self.max_seq_len = max_seq_len\n",
        "        self.max_word_len = max_word_len\n",
        "    \n",
        "    def __len__(self):\n",
        "        return len(self.sentences)\n",
        "    \n",
        "    def __getitem__(self, item):\n",
        "        sentence = self.sentences[item]\n",
        "        tag = self.tags[item]\n",
        "        chars = self.characters[item]\n",
        "        seq_len = len(sentence)\n",
        "\n",
        "        # convert the sentences and tags into numerical format\n",
        "        word_tokens = [words_vocab[word] for word in sentence]\n",
        "        tag_tokens = [tags_vocab[t] for t in tag]\n",
        "\n",
        "        char_seq = []\n",
        "        for word in chars:\n",
        "            word_len = len(word)\n",
        "            # truncate the word if it is greater than max_word_len\n",
        "            if word_len > self.max_word_len:\n",
        "                word = word[:self.max_word_len]\n",
        "            # pad the word if it less\n",
        "            else:\n",
        "                pad_length = self.max_word_len - word_len\n",
        "                word = word + [chars_vocab.PAD] * pad_length\n",
        "            \n",
        "            # convert the chars into numerical format\n",
        "            char_ids = []\n",
        "            for each_char in word: \n",
        "                char_ids.append(chars_vocab[each_char])\n",
        "            char_seq.append(char_ids)\n",
        "        \n",
        "        return torch.LongTensor(word_tokens), torch.LongTensor(char_seq), torch.LongTensor(tag_tokens)"
      ],
      "execution_count": 31,
      "outputs": []
    },
    {
      "cell_type": "code",
      "metadata": {
        "id": "HPJmCn-VyQDj",
        "colab_type": "code",
        "colab": {}
      },
      "source": [
        "train_dataset = NERDataset(train_sentences, train_tags, train_chars, MAX_SEQ_LEN, MAX_WORD_LEN)\n",
        "valid_dataset = NERDataset(valid_sentences, valid_tags, valid_chars, MAX_SEQ_LEN, MAX_WORD_LEN)\n",
        "test_dataset = NERDataset(test_sentences, test_tags, test_chars, MAX_SEQ_LEN, MAX_WORD_LEN)"
      ],
      "execution_count": 32,
      "outputs": []
    },
    {
      "cell_type": "code",
      "metadata": {
        "id": "B1cFfg0IqFE5",
        "colab_type": "code",
        "colab": {
          "base_uri": "https://localhost:8080/",
          "height": 487
        },
        "outputId": "8728a1e6-2eb3-4a1c-8cfc-26604924b527"
      },
      "source": [
        "train_dataset[0]"
      ],
      "execution_count": 33,
      "outputs": [
        {
          "output_type": "execute_result",
          "data": {
            "text/plain": [
              "(tensor([   1,  150,  235,   11,   36,   72,   49, 3318,    8, 1977, 4171,  166,\n",
              "         9619, 9619, 7832,    4,  199,    7, 1385, 9619,   67, 1103,    3,    2]),\n",
              " tensor([[24, 32, 32, 32, 32, 32, 32, 32, 32, 32, 32, 32, 32, 32, 32],\n",
              "         [ 1, 28,  4, 14,  5, 11,  0, 32, 32, 32, 32, 32, 32, 32, 32],\n",
              "         [ 1, 33,  4,  6,  2,  3,  0, 32, 32, 32, 32, 32, 32, 32, 32],\n",
              "         [ 1, 29,  7,  0, 32, 32, 32, 32, 32, 32, 32, 32, 32, 32, 32],\n",
              "         [ 1, 16,  4, 21,  2,  6,  8, 15,  2,  8,  5,  0, 32, 32, 32],\n",
              "         [ 1, 33, 14,  2,  7, 10,  3, 19,  0, 32, 32, 32, 32, 32, 32],\n",
              "         [ 1,  3, 12,  7,  4,  0, 32, 32, 32, 32, 32, 32, 32, 32, 32],\n",
              "         [ 1, 14,  8, 21,  2,  9, 12,  2, 10,  0, 32, 32, 32, 32, 32],\n",
              "         [ 1,  3,  0, 32, 32, 32, 32, 32, 32, 32, 32, 32, 32, 32, 32],\n",
              "         [ 1,  7,  4, 33, 13,  3, 12, 12,  2, 10,  0, 32, 32, 32, 32],\n",
              "         [ 1, 33,  6,  2,  2,  8,  0, 32, 32, 32, 32, 32, 32, 32, 32],\n",
              "         [ 1, 33,  2, 23,  0, 32, 32, 32, 32, 32, 32, 32, 32, 32, 32],\n",
              "         [ 1, 33,  4, 26,  0, 32, 32, 32, 32, 32, 32, 32, 32, 32, 32],\n",
              "         [ 1, 33,  6,  2,  3,  5,  9,  4,  8,  0, 32, 32, 32, 32, 32],\n",
              "         [ 1, 33, 12,  3,  8,  0, 32, 32, 32, 32, 32, 32, 32, 32, 32],\n",
              "         [ 1, 25,  0, 32, 32, 32, 32, 32, 32, 32, 32, 32, 32, 32, 32],\n",
              "         [ 1,  2, 33, 18,  2, 13,  5,  2, 10,  0, 32, 32, 32, 32, 32],\n",
              "         [ 1,  5,  4,  0, 32, 32, 32, 32, 32, 32, 32, 32, 32, 32, 32],\n",
              "         [ 1, 13,  6,  2,  3,  5,  2,  0, 32, 32, 32, 32, 32, 32, 32],\n",
              "         [ 1, 33, 25, 33, 22, 25, 22, 22, 22,  0, 32, 32, 32, 32, 32],\n",
              "         [ 1,  8,  2, 23,  0, 32, 32, 32, 32, 32, 32, 32, 32, 32, 32],\n",
              "         [ 1, 33,  4, 26,  7,  0, 32, 32, 32, 32, 32, 32, 32, 32, 32],\n",
              "         [ 1, 20,  0, 32, 32, 32, 32, 32, 32, 32, 32, 32, 32, 32, 32],\n",
              "         [ 0, 32, 32, 32, 32, 32, 32, 32, 32, 32, 32, 32, 32, 32, 32]]),\n",
              " tensor([ 1,  3, 10,  0,  0,  4,  0,  0,  0,  0,  0,  0,  0,  0,  0,  0,  0,  0,\n",
              "          0,  0,  0,  0,  0,  2]))"
            ]
          },
          "metadata": {
            "tags": []
          },
          "execution_count": 33
        }
      ]
    },
    {
      "cell_type": "markdown",
      "metadata": {
        "id": "wwiiGscn29-V",
        "colab_type": "text"
      },
      "source": [
        "### DataLoaders"
      ]
    },
    {
      "cell_type": "code",
      "metadata": {
        "id": "uGPqxgEboFV1",
        "colab_type": "code",
        "colab": {}
      },
      "source": [
        "BATCH_SIZE = 64"
      ],
      "execution_count": 34,
      "outputs": []
    },
    {
      "cell_type": "code",
      "metadata": {
        "id": "QpHqwpKNqtcz",
        "colab_type": "code",
        "colab": {}
      },
      "source": [
        "def collate_fn(data):\n",
        "    data.sort(key=lambda x: len(x[0]), reverse=True)\n",
        "    sentences, words, tags = zip(*data)\n",
        "\n",
        "    # Merge questions (from tuple of 1D tensor to 2D tensor).\n",
        "    sent_lengths = [len(sent) for sent in sentences]\n",
        "    inputs = torch.zeros(len(sentences), max(sent_lengths)).long()\n",
        "    labels = torch.zeros(len(sentences), max(sent_lengths)).long()\n",
        "    chars = torch.zeros(len(sentences), max(sent_lengths), MAX_WORD_LEN).long()\n",
        "    for i, (sent, lab, ch) in enumerate(zip(sentences, tags, words)):\n",
        "        end = sent_lengths[i]\n",
        "        inputs[i, :end] = sent[:end]\n",
        "        labels[i, :end] = lab[:end]\n",
        "        chars[i, :end] = ch[:end]\n",
        "    return inputs, chars, labels, sent_lengths\n"
      ],
      "execution_count": 35,
      "outputs": []
    },
    {
      "cell_type": "code",
      "metadata": {
        "id": "f_hY3a7DyhKm",
        "colab_type": "code",
        "colab": {}
      },
      "source": [
        "train_data_loader = data.DataLoader(train_dataset, BATCH_SIZE, shuffle=True, collate_fn=collate_fn)\n",
        "valid_data_loader = data.DataLoader(valid_dataset, BATCH_SIZE, shuffle=False, collate_fn=collate_fn)\n",
        "test_data_loader = data.DataLoader(test_dataset, BATCH_SIZE, shuffle=False, collate_fn=collate_fn)"
      ],
      "execution_count": 36,
      "outputs": []
    },
    {
      "cell_type": "code",
      "metadata": {
        "id": "QQHLq_P4n3AT",
        "colab_type": "code",
        "colab": {}
      },
      "source": [
        "sample = next(iter(train_data_loader))"
      ],
      "execution_count": 37,
      "outputs": []
    },
    {
      "cell_type": "code",
      "metadata": {
        "id": "oWf2QvFsgT3d",
        "colab_type": "code",
        "colab": {
          "base_uri": "https://localhost:8080/",
          "height": 34
        },
        "outputId": "698830ec-4d34-4aca-a656-c1d87ef40d69"
      },
      "source": [
        "sample[0].shape, sample[1].shape, sample[2].shape, len(sample[3])"
      ],
      "execution_count": 38,
      "outputs": [
        {
          "output_type": "execute_result",
          "data": {
            "text/plain": [
              "(torch.Size([64, 42]), torch.Size([64, 42, 15]), torch.Size([64, 42]), 64)"
            ]
          },
          "metadata": {
            "tags": []
          },
          "execution_count": 38
        }
      ]
    },
    {
      "cell_type": "markdown",
      "metadata": {
        "id": "q08pzQGp3Ami",
        "colab_type": "text"
      },
      "source": [
        "### Charcter-BiLSTM-CRF Model"
      ]
    },
    {
      "cell_type": "code",
      "metadata": {
        "id": "kFzphEAGTxad",
        "colab_type": "code",
        "colab": {}
      },
      "source": [
        "class CharBiLSTMCRF(nn.Module):\n",
        "    def __init__(self, vocab_size, emb_dim, hid_dim, char_emb_dim, char_hid_dim, char_vocab_size, tag_vocab_size, sent_pad_token, tag_start_token, dropout=0.3):\n",
        "        super().__init__()\n",
        "        self.hid_dim = hid_dim\n",
        "        self.sent_pad_token = sent_pad_token\n",
        "        self.tag_start_token = tag_start_token\n",
        "        self.tag_vocab_size = tag_vocab_size\n",
        "\n",
        "        self.char_embedding = nn.Embedding(char_vocab_size, char_emb_dim, padding_idx=0)\n",
        "        self.char_lstm = nn.LSTM(char_emb_dim, char_hid_dim, bidirectional=True, batch_first=True)\n",
        "\n",
        "        self.embedding = nn.Embedding(vocab_size, emb_dim, padding_idx=0)\n",
        "        self.lstm = nn.LSTM(\n",
        "            emb_dim + char_hid_dim,\n",
        "            hid_dim,\n",
        "            bidirectional=True,\n",
        "            batch_first=True\n",
        "        )\n",
        "        self.emission = nn.Linear(hid_dim * 2, tag_vocab_size)\n",
        "        self.transition = nn.Parameter(torch.rand(tag_vocab_size, tag_vocab_size))\n",
        "\n",
        "        self.dropout = nn.Dropout(dropout)\n",
        "    \n",
        "    def forward(self, sentences, lengths, words, tags):\n",
        "        # sentences => [batch_size, seq_len]\n",
        "        # lengths => [batch_size]\n",
        "        # words => [batch_size, seq_len, word_len]\n",
        "        # tags => [batch_size, seq_len]\n",
        "\n",
        "        char_final_hidden = []\n",
        "        for word in words:\n",
        "            # word => [seq_len, word_len]\n",
        "            char_embed = self.char_embedding(word)\n",
        "            char_embed = self.dropout(char_embed)\n",
        "            # char_embed => [seq_len, word_len, char_emb_dim]\n",
        "\n",
        "            _, (char_hidden, _) = self.char_lstm(char_embed)\n",
        "            # char_hidden => [2, seq_len, char_hid_dim]\n",
        "\n",
        "            # add the final forward and backward hidden states\n",
        "            char_combined = char_hidden[-1, :, :] + char_hidden[-2, :, :]\n",
        "            # char_combined => [seq_len, char_hid_dim]\n",
        "\n",
        "            char_final_hidden.append(char_combined)\n",
        "        \n",
        "        char_encoding = torch.stack(char_final_hidden)\n",
        "        # char_encoding => [batch_size, seq_len, char_hid_dim]\n",
        "\n",
        "        mask = (sentences != self.sent_pad_token).to(device)\n",
        "        # mask => [batch_size, seq_len]\n",
        "\n",
        "        embed = self.embedding(sentences)\n",
        "        embed = self.dropout(embed)\n",
        "        # embed => [batch_size, seq_len, emb_dim]\n",
        "\n",
        "        embed_with_char = torch.cat((embed, char_encoding), dim=-1)\n",
        "        # embed_with_char => [batch_size, seq_len, emb_dim + char_hid_dim]\n",
        "\n",
        "        packed_input = nn.utils.rnn.pack_padded_sequence(embed_with_char, lengths, batch_first=True)\n",
        "        packed_output, _ = self.lstm(packed_input)\n",
        "        outputs, _ = nn.utils.rnn.pad_packed_sequence(packed_output, batch_first=True)\n",
        "        # outputs => [batch_size, seq_len, hid_dim * 2]\n",
        "\n",
        "        combined = torch.cat((outputs[:, :, :self.hid_dim], outputs[:, :, self.hid_dim:]), dim=-1)\n",
        "        combined = self.dropout(combined)\n",
        "        # combined => [batch_size, seq_len, hid_dim * 2]\n",
        "\n",
        "        emission_scores = self.emission(combined)\n",
        "        # emission_scores => [batch_size, seq_len, tag_size]\n",
        "\n",
        "        loss = self.vitebri_loss(tags, mask, emission_scores)\n",
        "        # loss => [batch_size]\n",
        "\n",
        "        return loss\n",
        "\n",
        "    def vitebri_loss(self, tags, mask, emit_scores):\n",
        "        # tags => [batch_size, seq_len]\n",
        "        # mask => [batch_size, seq_len]\n",
        "        # emit_scores => [batch_size, seq_len, tag_size]\n",
        "\n",
        "        batch_size, sent_len = tags.shape\n",
        "\n",
        "        # calculate the ground truth score\n",
        "        score = torch.gather(emit_scores, 2, tags.unsqueeze(2)).squeeze(2)\n",
        "        # emission scores of actual tags\n",
        "        # score => [batch_size, seq_len]\n",
        "\n",
        "        # add the transition scores to the emission scores\n",
        "        # ignore the start token tag score\n",
        "        score[:, 1:] += self.transition[tags[:, :-1], tags[:, 1:]]\n",
        "\n",
        "        # consider only the scores of actual tokens not the padded\n",
        "        gold_scores = (score * mask.type(torch.float)).sum(dim=1)\n",
        "        # gold_scores => [batch_size]\n",
        "\n",
        "        # calculate the scores of the partition (Z)\n",
        "        # tensor to hold the accumulated sequence scores at each time step\n",
        "        # at the inital time step score will be on dim=0\n",
        "        scores_upto_t = emit_scores[:, 0].unsqueeze(1)\n",
        "        # scores_upto_t => [batch_size, 1, tag_size]\n",
        "\n",
        "        for i in range(1, sent_len):\n",
        "            # get the current batch_size\n",
        "            batch_t = mask[:, i].sum()\n",
        "\n",
        "            # get the accumulated scores till now (only the current batch size)\n",
        "            scores_unpad = scores_upto_t[:batch_t]\n",
        "            # scores_unpad => [batch_t, 1, tag_size]\n",
        "\n",
        "            # add the transition scores for this time step\n",
        "            scores_with_trans = emit_scores[:batch_t, i].unsqueeze(1) + self.transition\n",
        "            # scores_with_trans => [batch_t, tag_size, tag_size]\n",
        "\n",
        "            # add to the accumulation\n",
        "            sum_scores = scores_unpad.transpose(1, 2) + scores_with_trans\n",
        "            # sum_scores => [batch_t, tag_size, tag_size]\n",
        "            \n",
        "            # apply the following to overcome the overflow problems\n",
        "            # since the exp(some_big_number) will cause issues \n",
        "            # log(Σ exp(z_k)) = max(z) + log(Σ exp(z_k - max(z)))\n",
        "            # log(Σ exp(z_k)) = log(Σ exp(z_k - c + c))\n",
        "            #                 = log(Σ exp(z_k - c) * exp(c))\n",
        "            #                 = log(Σ exp(z_k - c)) + log(exp(c))\n",
        "            #                 = log(Σ exp(z_k - c)) + c\n",
        "            # by taking c as max(z)\n",
        "            # log(Σ exp(z_k)) = max(z) + log(Σ exp(z_k - max(z))) [log_sum_exp]\n",
        "            # get the maximum score of the current time step\n",
        "            max_t = sum_scores.max(dim=1)[0].unsqueeze(1)\n",
        "            # max_t => [batch_t, 1, tag_size]\n",
        "\n",
        "            sum_scores = sum_scores - max_t\n",
        "            # sum_scores => [batch_t, tag_size, tag_size]\n",
        "\n",
        "            scores_t = max_t + torch.logsumexp(sum_scores, dim=1).unsqueeze(1)\n",
        "            # scores_t => [batch_t, 1, tag_size]\n",
        "\n",
        "            # update the accumulation scores\n",
        "            scores_upto_t = torch.cat((scores_t, scores_upto_t[batch_t:]), dim=0)\n",
        "            # scores_upto_t => [batch_size, 1, tag_size]\n",
        "        \n",
        "        final_scores = scores_upto_t.squeeze(1)\n",
        "        # final_scores => [batch_size, tag_size]\n",
        "\n",
        "        max_final_scores = final_scores.max(dim=-1)[0]\n",
        "        # max_final_scores => [batch_size]\n",
        "\n",
        "        predicted_scores = max_final_scores + torch.logsumexp(final_scores - max_final_scores.unsqueeze(1), dim=1)\n",
        "        # predicted_scores => [batch_size]\n",
        "\n",
        "        vitebri_loss = predicted_scores - gold_scores\n",
        "        # vitebri_loss => [batch_size]\n",
        "\n",
        "        return vitebri_loss\n",
        "    \n",
        "    def predict(self, sentences, lengths, words):\n",
        "        # sentences => [batch_size, seq_len]\n",
        "        # lengths => [batch_size]\n",
        "        # words => [batch_size, seq_len, word_len]\n",
        "\n",
        "        batch_size = sentences.size(0)\n",
        "\n",
        "        char_final_hidden = []\n",
        "        for word in words:\n",
        "            # word => [seq_len, word_len]\n",
        "            char_embed = self.char_embedding(word)\n",
        "            char_embed = self.dropout(char_embed)\n",
        "            # char_embed => [seq_len, word_len, char_emb_dim]\n",
        "\n",
        "            _, (char_hidden, _) = self.char_lstm(char_embed)\n",
        "            # char_hidden => [2, seq_len, char_hid_dim]\n",
        "\n",
        "            # add the final forward and backward hidden states\n",
        "            char_combined = char_hidden[-1, :, :] + char_hidden[-2, :, :]\n",
        "            # char_combined => [seq_len, char_hid_dim]\n",
        "\n",
        "            char_final_hidden.append(char_combined)\n",
        "        \n",
        "        char_encoding = torch.stack(char_final_hidden)\n",
        "        # char_encoding => [batch_size, seq_len, char_hid_dim]\n",
        "\n",
        "        mask = (sentences != self.sent_pad_token).to(device)\n",
        "        # mask => [batch_size, seq_len]\n",
        "\n",
        "        embed = self.embedding(sentences)\n",
        "        embed = self.dropout(embed)\n",
        "        # embed => [batch_size, seq_len, emb_dim]\n",
        "\n",
        "        embed_with_char = torch.cat((embed, char_encoding), dim=-1)\n",
        "        # embed_with_char => [batch_size, seq_len, emb_dim + char_hid_dim]\n",
        "\n",
        "        packed_inp = nn.utils.rnn.pack_padded_sequence(embed_with_char, lengths, batch_first=True)\n",
        "        packed_output, _ = self.lstm(packed_inp)\n",
        "        outputs, _ = nn.utils.rnn.pad_packed_sequence(packed_output, batch_first=True)\n",
        "        # outputs => [batch_size, seq_len, hid_dim * 2]\n",
        "\n",
        "        combined = torch.cat((outputs[:, :, :self.hid_dim], outputs[:, :, self.hid_dim:]), dim=-1)\n",
        "        combined = self.dropout(combined)\n",
        "        # combined => [batch_size, seq_len, hid_dim * 2]\n",
        "\n",
        "        emission_scores = self.emission(combined)\n",
        "        # emission_scores => [batch_size, seq_len, tag_size]\n",
        "\n",
        "        # to store the tags predicted at each time step\n",
        "        # since at the begining every tag is start tag create the list with start tags\n",
        "        tags = [[[self.tag_start_token] for _ in range(self.tag_vocab_size)]] * batch_size\n",
        "        # tags => [batch_size, tag_size, 1]\n",
        "\n",
        "        scores_upto_t = emission_scores[:, 0].unsqueeze(1)\n",
        "        # scores_upto_t => [batch_size, 1, tag_size]\n",
        "\n",
        "        for i in range(1, max(lengths)):\n",
        "            # get the current batch_size\n",
        "            batch_t = mask[:, i].sum()\n",
        "\n",
        "            # get the accumulated scores till now (only the current batch size)\n",
        "            scores_unpad = scores_upto_t[:batch_t]\n",
        "            # scores_unpad => [batch_t, 1, tag_size]\n",
        "\n",
        "            # add the transition scores for this time step\n",
        "            scores_with_trans = emission_scores[:batch_t, i].unsqueeze(1) + self.transition\n",
        "            # scores_with_trans => [batch_t, tag_size, tag_size]\n",
        "\n",
        "            # add to the accumulation\n",
        "            sum_scores = scores_unpad.transpose(1, 2) + scores_with_trans\n",
        "            # sum_scores => [batch_t, tag_size, tag_size]\n",
        "\n",
        "            max_scores_t, max_ids_t = torch.max(sum_scores, dim=1)\n",
        "            max_ids_t = max_ids_t.tolist()\n",
        "            # max_scores_t => [batch_t, tag_size]\n",
        "            # max_ids_t => [batch_t, tag_size]\n",
        "\n",
        "            # add the current time step predicted tags \n",
        "            tags[:batch_t] = [[tags[b][k] + [j] for j, k in enumerate(max_ids_t[b])] for b in range(batch_t)]\n",
        "            \n",
        "            # update the accumulation scores\n",
        "            scores_upto_t = torch.cat((max_scores_t.unsqueeze(1), scores_upto_t[batch_t:]), dim=0)\n",
        "            # scores_upto_t => [batch_size, tag_size]\n",
        "\n",
        "        scores = scores_upto_t.squeeze(1)\n",
        "        # scores => [batch_size, tag_size]\n",
        "\n",
        "        _, max_ids = torch.max(scores, dim=1)\n",
        "        max_ids = max_ids.tolist()\n",
        "        # max_ids => [batch_size]\n",
        "\n",
        "        # tags => [batch_size, tag_size, seq_len]\n",
        "        tags = [tags[b][k] for b, k in enumerate(max_ids)]\n",
        "        # tags => [batch_size, seq_len]\n",
        "\n",
        "        return tags\n",
        "\n"
      ],
      "execution_count": 39,
      "outputs": []
    },
    {
      "cell_type": "code",
      "metadata": {
        "id": "FEY0Z8WMVmZm",
        "colab_type": "code",
        "colab": {
          "base_uri": "https://localhost:8080/",
          "height": 151
        },
        "outputId": "82f63958-f5d1-46ed-f89f-9cc5e4b00084"
      },
      "source": [
        "vocab_size = len(words_vocab)\n",
        "sent_pad_token = words_vocab[words_vocab.PAD]\n",
        "tag_start_token = tags_vocab[tags_vocab.START]\n",
        "emb_dim = 50\n",
        "hid_dim = 200\n",
        "char_emb_dim = 20\n",
        "char_hid_dim = 50\n",
        "char_vocab_size = len(chars_vocab)\n",
        "tag_vocab_size = len(tags_vocab)\n",
        "model = CharBiLSTMCRF(\n",
        "    vocab_size,\n",
        "    emb_dim,\n",
        "    hid_dim,\n",
        "    char_emb_dim,\n",
        "    char_hid_dim,\n",
        "    char_vocab_size,\n",
        "    tag_vocab_size,\n",
        "    sent_pad_token,\n",
        "    tag_start_token\n",
        ")\n",
        "model.to(device)"
      ],
      "execution_count": 40,
      "outputs": [
        {
          "output_type": "execute_result",
          "data": {
            "text/plain": [
              "CharBiLSTMCRF(\n",
              "  (char_embedding): Embedding(34, 20, padding_idx=0)\n",
              "  (char_lstm): LSTM(20, 50, batch_first=True, bidirectional=True)\n",
              "  (embedding): Embedding(9620, 50, padding_idx=0)\n",
              "  (lstm): LSTM(100, 200, batch_first=True, bidirectional=True)\n",
              "  (emission): Linear(in_features=400, out_features=20, bias=True)\n",
              "  (dropout): Dropout(p=0.3, inplace=False)\n",
              ")"
            ]
          },
          "metadata": {
            "tags": []
          },
          "execution_count": 40
        }
      ]
    },
    {
      "cell_type": "code",
      "metadata": {
        "id": "Vuu7YjwQt3-v",
        "colab_type": "code",
        "colab": {
          "base_uri": "https://localhost:8080/",
          "height": 34
        },
        "outputId": "58829053-d142-435b-ec52-4ba9f961651d"
      },
      "source": [
        "def count_parameters(model):\n",
        "    return sum(p.numel() for p in model.parameters() if p.requires_grad)\n",
        "\n",
        "print(f'The model has {count_parameters(model):,} trainable parameters')"
      ],
      "execution_count": 41,
      "outputs": [
        {
          "output_type": "stream",
          "text": [
            "The model has 1,002,100 trainable parameters\n"
          ],
          "name": "stdout"
        }
      ]
    },
    {
      "cell_type": "markdown",
      "metadata": {
        "id": "1Fpc9vWq3EY3",
        "colab_type": "text"
      },
      "source": [
        "### Optimizer"
      ]
    },
    {
      "cell_type": "code",
      "metadata": {
        "id": "eKhNhP5_uFsr",
        "colab_type": "code",
        "colab": {}
      },
      "source": [
        "optimizer = optim.Adam(model.parameters(), lr=0.01)"
      ],
      "execution_count": 42,
      "outputs": []
    },
    {
      "cell_type": "markdown",
      "metadata": {
        "id": "zv1kwAoG3IzE",
        "colab_type": "text"
      },
      "source": [
        "### Training Method"
      ]
    },
    {
      "cell_type": "code",
      "metadata": {
        "id": "WJQZHAmGuP-y",
        "colab_type": "code",
        "colab": {}
      },
      "source": [
        "def train(model, iterator, optimizer, clip):\n",
        "    model.train()\n",
        "\n",
        "    epoch_loss = 0\n",
        "    total_sentences = 0\n",
        "\n",
        "    for batch in iterator:\n",
        "        sentences = batch[0].to(device)\n",
        "        words = batch[1].to(device)\n",
        "        tags = batch[2].to(device)\n",
        "        seq_lengths = batch[3]\n",
        "        # sentences => [batch_size, seq_len]\n",
        "        # words => [batch_size, seq_len, word_len]\n",
        "        # tags => [batch_size, seq_len]\n",
        "        # seq_lengths => [batch_size]\n",
        "\n",
        "        optimizer.zero_grad()\n",
        "\n",
        "        batch_loss = model(sentences, seq_lengths, words, tags)\n",
        "        # batch_loss => [batch_size]\n",
        "\n",
        "        loss = batch_loss.mean()\n",
        "\n",
        "        loss.backward()\n",
        "        torch.nn.utils.clip_grad_norm_(model.parameters(), clip)\n",
        "        optimizer.step()\n",
        "        \n",
        "        epoch_loss += batch_loss.sum().item()\n",
        "        total_sentences += len(sentences)\n",
        "\n",
        "    return epoch_loss / total_sentences\n"
      ],
      "execution_count": 43,
      "outputs": []
    },
    {
      "cell_type": "markdown",
      "metadata": {
        "id": "TeoX6uxx3MVe",
        "colab_type": "text"
      },
      "source": [
        "### Evaluation Method"
      ]
    },
    {
      "cell_type": "code",
      "metadata": {
        "id": "BK-UR_62uS0l",
        "colab_type": "code",
        "colab": {}
      },
      "source": [
        "def evaluate(model, iterator):\n",
        "    model.eval()\n",
        "    epoch_loss = 0\n",
        "    total_sentences = 0\n",
        "\n",
        "    with torch.no_grad():\n",
        "        for batch in iterator:\n",
        "            sentences = batch[0].to(device)\n",
        "            words = batch[1].to(device)\n",
        "            tags = batch[2].to(device)\n",
        "            seq_lengths = batch[3]\n",
        "            # sentences => [batch_size, seq_len]\n",
        "            # words => [batch_size, seq_len, word_len]\n",
        "            # tags => [batch_size, seq_len]\n",
        "            # seq_lengths => [batch_size]\n",
        "\n",
        "            batch_loss = model(sentences, seq_lengths, words, tags)\n",
        "            # batch_loss => [batch_size]\n",
        "\n",
        "            loss = batch_loss.mean()\n",
        "\n",
        "            epoch_loss += batch_loss.sum().item()\n",
        "            total_sentences += len(sentences)\n",
        "        \n",
        "    return epoch_loss / total_sentences\n"
      ],
      "execution_count": 44,
      "outputs": []
    },
    {
      "cell_type": "markdown",
      "metadata": {
        "id": "5urAtI4W3OUf",
        "colab_type": "text"
      },
      "source": [
        "### Training"
      ]
    },
    {
      "cell_type": "code",
      "metadata": {
        "id": "Y8_N8-U6uUtq",
        "colab_type": "code",
        "colab": {}
      },
      "source": [
        "def epoch_time(start_time, end_time):\n",
        "    elapsed_time = end_time - start_time\n",
        "    elapsed_mins = int(elapsed_time / 60)\n",
        "    elapsed_secs = int(elapsed_time - (elapsed_mins * 60))\n",
        "    return elapsed_mins, elapsed_secs\n"
      ],
      "execution_count": 45,
      "outputs": []
    },
    {
      "cell_type": "code",
      "metadata": {
        "id": "XL5kQHBluWkT",
        "colab_type": "code",
        "colab": {
          "base_uri": "https://localhost:8080/",
          "height": 353
        },
        "outputId": "8f85921e-8900-4769-e938-140a81004b11"
      },
      "source": [
        "N_EPOCHS = 10\n",
        "CLIP = 2\n",
        "best_valid_loss = float('inf')\n",
        "\n",
        "for epoch in range(N_EPOCHS):\n",
        "\n",
        "    start_time = time.time()\n",
        "    \n",
        "    train_loss = train(model, train_data_loader, optimizer, CLIP)\n",
        "    valid_loss = evaluate(model, valid_data_loader)\n",
        "    \n",
        "    end_time = time.time()\n",
        "\n",
        "    epoch_mins, epoch_secs = epoch_time(start_time, end_time)\n",
        "    \n",
        "    if valid_loss < best_valid_loss:\n",
        "        best_valid_loss = valid_loss\n",
        "        torch.save(model.state_dict(), 'model.pt')\n",
        "    \n",
        "    print(f'Epoch: {epoch+1:02} | Epoch Time: {epoch_mins}m {epoch_secs}s')\n",
        "    print(f'\\tTrain Loss: {train_loss:.3f} | Val. Loss: {valid_loss:.3f}')"
      ],
      "execution_count": 46,
      "outputs": [
        {
          "output_type": "stream",
          "text": [
            "Epoch: 01 | Epoch Time: 3m 38s\n",
            "\tTrain Loss: 9.352 | Val. Loss: 1.770\n",
            "Epoch: 02 | Epoch Time: 3m 42s\n",
            "\tTrain Loss: 1.744 | Val. Loss: 1.553\n",
            "Epoch: 03 | Epoch Time: 3m 41s\n",
            "\tTrain Loss: 1.559 | Val. Loss: 1.460\n",
            "Epoch: 04 | Epoch Time: 3m 43s\n",
            "\tTrain Loss: 1.481 | Val. Loss: 1.468\n",
            "Epoch: 05 | Epoch Time: 3m 41s\n",
            "\tTrain Loss: 1.419 | Val. Loss: 1.477\n",
            "Epoch: 06 | Epoch Time: 3m 41s\n",
            "\tTrain Loss: 1.380 | Val. Loss: 1.455\n",
            "Epoch: 07 | Epoch Time: 3m 41s\n",
            "\tTrain Loss: 1.346 | Val. Loss: 1.460\n",
            "Epoch: 08 | Epoch Time: 3m 44s\n",
            "\tTrain Loss: 1.329 | Val. Loss: 1.448\n",
            "Epoch: 09 | Epoch Time: 3m 47s\n",
            "\tTrain Loss: 1.302 | Val. Loss: 1.476\n",
            "Epoch: 10 | Epoch Time: 3m 47s\n",
            "\tTrain Loss: 1.277 | Val. Loss: 1.473\n"
          ],
          "name": "stdout"
        }
      ]
    },
    {
      "cell_type": "markdown",
      "metadata": {
        "id": "TIXBCe7S3c3y",
        "colab_type": "text"
      },
      "source": [
        "### Testing"
      ]
    },
    {
      "cell_type": "code",
      "metadata": {
        "id": "MqDAWdc8vVAf",
        "colab_type": "code",
        "colab": {
          "base_uri": "https://localhost:8080/",
          "height": 34
        },
        "outputId": "c5437f65-04f4-418f-b41e-7f27f4c23fbd"
      },
      "source": [
        "model.load_state_dict(torch.load('model.pt'))"
      ],
      "execution_count": 47,
      "outputs": [
        {
          "output_type": "execute_result",
          "data": {
            "text/plain": [
              "<All keys matched successfully>"
            ]
          },
          "metadata": {
            "tags": []
          },
          "execution_count": 47
        }
      ]
    },
    {
      "cell_type": "code",
      "metadata": {
        "id": "tKC73CrN3Ycb",
        "colab_type": "code",
        "colab": {
          "base_uri": "https://localhost:8080/",
          "height": 34
        },
        "outputId": "247f5a4b-01d0-4a57-fcf6-2e98d336397a"
      },
      "source": [
        "test_loss = evaluate(model, test_data_loader)\n",
        "print(f'Test Loss: {test_loss:.3f}')"
      ],
      "execution_count": 48,
      "outputs": [
        {
          "output_type": "stream",
          "text": [
            "Test Loss: 1.415\n"
          ],
          "name": "stdout"
        }
      ]
    },
    {
      "cell_type": "markdown",
      "metadata": {
        "id": "2cOPRvJ_K4wa",
        "colab_type": "text"
      },
      "source": [
        "### Metrics"
      ]
    },
    {
      "cell_type": "code",
      "metadata": {
        "id": "cRDAFlHzK6yp",
        "colab_type": "code",
        "colab": {}
      },
      "source": [
        "def cal_metrics(model, iterator):\n",
        "    model.eval()\n",
        "\n",
        "    fin_outputs = []\n",
        "    fin_targets = []\n",
        "\n",
        "    with torch.no_grad():\n",
        "        for batch in iterator:\n",
        "            sentences = batch[0].to(device)\n",
        "            words = batch[1].to(device)\n",
        "            tags = batch[2].to(device)\n",
        "            seq_lengths = batch[3]\n",
        "            # sentences => [batch_size, seq_len]\n",
        "            # words => [batch_size, seq_len, word_len]\n",
        "            # tags => [batch_size, seq_len]\n",
        "            # seq_lengths => [batch_size]\n",
        "\n",
        "            predictions = model.predict(sentences, seq_lengths, words)\n",
        "            # predictions => [batch_size, seq_len]\n",
        "\n",
        "            fin_outputs.extend(predictions)\n",
        "            fin_targets.extend(tags.detach().cpu().numpy().tolist())\n",
        "        \n",
        "    assert len(fin_outputs) == len(fin_targets)\n",
        "    mlb = MultiLabelBinarizer()\n",
        "    trans_trg = mlb.fit_transform(fin_targets)\n",
        "    trans_pred = mlb.transform(fin_outputs)\n",
        "\n",
        "    cf = metrics.classification_report(trans_trg, trans_pred)\n",
        "    print(cf)"
      ],
      "execution_count": 51,
      "outputs": []
    },
    {
      "cell_type": "code",
      "metadata": {
        "id": "W-DQzxmmK7_q",
        "colab_type": "code",
        "colab": {
          "base_uri": "https://localhost:8080/",
          "height": 470
        },
        "outputId": "4ce9d800-653d-4c0a-9f21-f5b1917460e8"
      },
      "source": [
        "cal_metrics(model, test_data_loader)"
      ],
      "execution_count": 52,
      "outputs": [
        {
          "output_type": "stream",
          "text": [
            "              precision    recall  f1-score   support\n",
            "\n",
            "           0       1.00      1.00      1.00      4796\n",
            "           1       1.00      1.00      1.00      4796\n",
            "           2       1.00      1.00      1.00      4796\n",
            "           3       0.93      0.95      0.94      2496\n",
            "           4       0.98      0.95      0.97      1688\n",
            "           5       0.87      0.81      0.84      1623\n",
            "           6       0.92      0.95      0.94      1071\n",
            "           7       0.93      0.91      0.92      1361\n",
            "           8       0.83      0.86      0.85       879\n",
            "           9       0.98      0.93      0.96      1303\n",
            "          10       0.87      0.83      0.85       595\n",
            "          11       0.88      0.81      0.85       395\n",
            "          12       0.25      0.05      0.08        42\n",
            "          13       0.67      0.45      0.54        31\n",
            "          14       0.20      0.04      0.07        25\n",
            "          15       0.38      0.31      0.34        16\n",
            "          16       0.85      0.73      0.79        15\n",
            "          17       0.80      0.33      0.47        12\n",
            "          18       1.00      0.50      0.67         4\n",
            "\n",
            "   micro avg       0.96      0.95      0.96     25944\n",
            "   macro avg       0.81      0.71      0.74     25944\n",
            "weighted avg       0.96      0.95      0.96     25944\n",
            " samples avg       0.97      0.96      0.96     25944\n",
            "\n"
          ],
          "name": "stdout"
        }
      ]
    },
    {
      "cell_type": "markdown",
      "metadata": {
        "id": "jEH5FeEBt4BY",
        "colab_type": "text"
      },
      "source": [
        "### Inference"
      ]
    },
    {
      "cell_type": "code",
      "metadata": {
        "id": "mWQOhx3g3lmd",
        "colab_type": "code",
        "colab": {}
      },
      "source": [
        "def inference(sentence):\n",
        "    if isinstance(sentence, str):\n",
        "        tokens = [words_vocab[words_vocab.START]] + sentence.split() + [words_vocab[words_vocab.END]]\n",
        "    else:\n",
        "        tokens = sentence\n",
        "    \n",
        "    chars = [['<START']] + [['<START>'] + [ch for ch in word] + ['<END>'] for word in tokens[1:-1]] + [['<END>']]\n",
        "\n",
        "    char_seq = []\n",
        "    for word in chars:\n",
        "        word_len = len(word)\n",
        "        # truncate the word if it is greater than max_word_len\n",
        "        if word_len > MAX_WORD_LEN:\n",
        "            word = word[:MAX_WORD_LEN]\n",
        "        # pad the word if it less\n",
        "        else:\n",
        "            pad_length = MAX_WORD_LEN - word_len\n",
        "            word = word + [chars_vocab.PAD] * pad_length\n",
        "        \n",
        "        # convert the chars into numerical format\n",
        "        char_ids = []\n",
        "        for each_char in word: \n",
        "            char_ids.append(chars_vocab[each_char])\n",
        "        char_seq.append(char_ids)\n",
        "\n",
        "    # numericalize\n",
        "    token_ids = [words_vocab[tok] for tok in tokens]\n",
        "    \n",
        "    # seq length\n",
        "    sent_length = [len(token_ids)]\n",
        "\n",
        "    # create tensors\n",
        "    sent_tensor = torch.LongTensor(token_ids).to(device)\n",
        "    sent_tensor = sent_tensor.unsqueeze(0)\n",
        "    # sent_tensor => [1, seq_len]\n",
        "\n",
        "    char_tensor = torch.LongTensor(char_seq).to(device)\n",
        "    char_tensor = char_tensor.unsqueeze(0)\n",
        "    # char_tensor => [1, seq_len, word_len]\n",
        "\n",
        "    model.eval()\n",
        "    with torch.no_grad():\n",
        "        predictions = model.predict(sent_tensor, sent_length, char_tensor)\n",
        "    \n",
        "    predictions = predictions[0]\n",
        "    predicted_tags = []\n",
        "    for i in predictions:\n",
        "        predicted_tags.append(tags_vocab.id2word(i))\n",
        "    \n",
        "    return tokens, predicted_tags\n"
      ],
      "execution_count": 53,
      "outputs": []
    },
    {
      "cell_type": "code",
      "metadata": {
        "id": "AUrgvPn1vj0W",
        "colab_type": "code",
        "colab": {
          "base_uri": "https://localhost:8080/",
          "height": 638
        },
        "outputId": "b853475e-6c5e-4bd6-81d2-ebd327926d28"
      },
      "source": [
        "sentence = test_sentences[0]\n",
        "actual_tags = test_tags[0]\n",
        "tokens, predicted_tag_ids = inference(sentence)\n",
        "\n",
        "print(\"Pred. Tag\\tActual Tag\\tCorrect?\\tToken\\n\")\n",
        "for token, pred_tag, actual_tag in zip(tokens, predicted_tag_ids, actual_tags):\n",
        "    correct = '✔' if pred_tag == actual_tag else '✘'\n",
        "    print(f\"{pred_tag}\\t\\t{actual_tag}\\t\\t{correct}\\t\\t{token}\")\n"
      ],
      "execution_count": 54,
      "outputs": [
        {
          "output_type": "stream",
          "text": [
            "Pred. Tag\tActual Tag\tCorrect?\tToken\n",
            "\n",
            "<START>\t\t<START>\t\t✔\t\t<START>\n",
            "O\t\tO\t\t✔\t\tThe\n",
            "O\t\tO\t\t✔\t\toffice\n",
            "O\t\tO\t\t✔\t\tof\n",
            "O\t\tO\t\t✔\t\tthe\n",
            "B-gpe\t\tB-gpe\t\t✔\t\tIsraeli\n",
            "O\t\tO\t\t✔\t\tprime\n",
            "O\t\tO\t\t✔\t\tminister\n",
            "O\t\tO\t\t✔\t\tsays\n",
            "O\t\tO\t\t✔\t\ta\n",
            "O\t\tO\t\t✔\t\tvisit\n",
            "O\t\tO\t\t✔\t\tto\n",
            "B-geo\t\tB-geo\t\t✔\t\tIsrael\n",
            "O\t\tO\t\t✔\t\tby\n",
            "O\t\tO\t\t✔\t\tthe\n",
            "O\t\tO\t\t✔\t\tforeign\n",
            "O\t\tO\t\t✔\t\tministers\n",
            "O\t\tO\t\t✔\t\tof\n",
            "B-geo\t\tB-gpe\t\t✘\t\tEgypt\n",
            "O\t\tO\t\t✔\t\tand\n",
            "B-gpe\t\tB-gpe\t\t✔\t\tJordan\n",
            "O\t\tO\t\t✔\t\twill\n",
            "O\t\tO\t\t✔\t\ttake\n",
            "O\t\tO\t\t✔\t\tplace\n",
            "B-tim\t\tB-tim\t\t✔\t\tJuly\n",
            "I-tim\t\tI-tim\t\t✔\t\t25\n",
            "O\t\tO\t\t✔\t\t,\n",
            "O\t\tO\t\t✔\t\tnot\n",
            "O\t\tO\t\t✔\t\tthis\n",
            "O\t\tO\t\t✔\t\tweek\n",
            "O\t\tO\t\t✔\t\tas\n",
            "O\t\tO\t\t✔\t\tpreviously\n",
            "O\t\tO\t\t✔\t\tplanned\n",
            "O\t\tO\t\t✔\t\t.\n",
            "<END>\t\t<END>\t\t✔\t\t<END>\n"
          ],
          "name": "stdout"
        }
      ]
    },
    {
      "cell_type": "code",
      "metadata": {
        "id": "7UDJLIFLzlsN",
        "colab_type": "code",
        "colab": {
          "base_uri": "https://localhost:8080/",
          "height": 622
        },
        "outputId": "72dbc65b-3f24-4c8a-9a4d-e4f59e5b0270"
      },
      "source": [
        "sentence = test_sentences[10]\n",
        "actual_tags = test_tags[10]\n",
        "tokens, predicted_tag_ids = inference(sentence)\n",
        "\n",
        "print(\"Pred. Tag\\tActual Tag\\tCorrect?\\tToken\\n\")\n",
        "for token, pred_tag, actual_tag in zip(tokens, predicted_tag_ids, actual_tags):\n",
        "    correct = '✔' if pred_tag == actual_tag else '✘'\n",
        "    print(f\"{pred_tag}\\t\\t{actual_tag}\\t\\t{correct}\\t\\t{token}\")"
      ],
      "execution_count": 55,
      "outputs": [
        {
          "output_type": "stream",
          "text": [
            "Pred. Tag\tActual Tag\tCorrect?\tToken\n",
            "\n",
            "<START>\t\t<START>\t\t✔\t\t<START>\n",
            "O\t\tO\t\t✔\t\tAn\n",
            "B-gpe\t\tB-gpe\t\t✔\t\tIraqi\n",
            "O\t\tO\t\t✔\t\tmilitant\n",
            "O\t\tO\t\t✔\t\tgroup\n",
            "O\t\tO\t\t✔\t\t(\n",
            "O\t\tO\t\t✔\t\tthe\n",
            "B-org\t\tB-org\t\t✔\t\tIslamic\n",
            "I-org\t\tI-org\t\t✔\t\tArmy\n",
            "O\t\tO\t\t✔\t\tof\n",
            "B-geo\t\tB-geo\t\t✔\t\tIraq\n",
            "O\t\tO\t\t✔\t\t)\n",
            "O\t\tO\t\t✔\t\tposted\n",
            "O\t\tO\t\t✔\t\ta\n",
            "O\t\tO\t\t✔\t\tvideo\n",
            "O\t\tO\t\t✔\t\ton\n",
            "O\t\tO\t\t✔\t\tthe\n",
            "O\t\tO\t\t✔\t\tInternet\n",
            "B-tim\t\tB-tim\t\t✔\t\ttoday\n",
            "O\t\tO\t\t✔\t\tthat\n",
            "O\t\tO\t\t✔\t\tshowed\n",
            "O\t\tO\t\t✔\t\ta\n",
            "O\t\tO\t\t✔\t\tblindfolded\n",
            "O\t\tO\t\t✔\t\tman\n",
            "O\t\tO\t\t✔\t\tbeing\n",
            "O\t\tO\t\t✔\t\tshot\n",
            "O\t\tO\t\t✔\t\tin\n",
            "O\t\tO\t\t✔\t\tthe\n",
            "O\t\tO\t\t✔\t\tback\n",
            "O\t\tO\t\t✔\t\tof\n",
            "O\t\tO\t\t✔\t\tthe\n",
            "O\t\tO\t\t✔\t\thead\n",
            "O\t\tO\t\t✔\t\t.\n",
            "<END>\t\t<END>\t\t✔\t\t<END>\n"
          ],
          "name": "stdout"
        }
      ]
    },
    {
      "cell_type": "code",
      "metadata": {
        "id": "4jyhMAl63I7t",
        "colab_type": "code",
        "colab": {
          "base_uri": "https://localhost:8080/",
          "height": 168
        },
        "outputId": "0e30f265-00b0-46ee-837d-b5f94afcd5c6"
      },
      "source": [
        "sentence = \"I like to live in New York\"\n",
        "tokens, predicted_tag_ids = inference(sentence)\n",
        "\n",
        "print(\"Pred. Tag\\tToken\\n\")\n",
        "for token, pred_tag in zip(tokens[1:-1], predicted_tag_ids[1:-1]):\n",
        "    print(f\"{pred_tag}\\t\\t{token}\")"
      ],
      "execution_count": 56,
      "outputs": [
        {
          "output_type": "stream",
          "text": [
            "Pred. Tag\tToken\n",
            "\n",
            "O\t\tI\n",
            "O\t\tlike\n",
            "O\t\tto\n",
            "O\t\tlive\n",
            "O\t\tin\n",
            "B-geo\t\tNew\n",
            "I-geo\t\tYork\n"
          ],
          "name": "stdout"
        }
      ]
    },
    {
      "cell_type": "code",
      "metadata": {
        "id": "srjLeOA53aRJ",
        "colab_type": "code",
        "colab": {
          "base_uri": "https://localhost:8080/",
          "height": 168
        },
        "outputId": "d8a84a44-2aa1-45cf-d159-953b7b7fe9ae"
      },
      "source": [
        "sentence = \"My dream is to work at Google\"\n",
        "tokens, predicted_tag_ids = inference(sentence)\n",
        "\n",
        "print(\"Pred. Tag\\tToken\\n\")\n",
        "for token, pred_tag in zip(tokens[1:-1], predicted_tag_ids[1:-1]):\n",
        "    print(f\"{pred_tag}\\t\\t{token}\")"
      ],
      "execution_count": 57,
      "outputs": [
        {
          "output_type": "stream",
          "text": [
            "Pred. Tag\tToken\n",
            "\n",
            "O\t\tMy\n",
            "O\t\tdream\n",
            "O\t\tis\n",
            "O\t\tto\n",
            "O\t\twork\n",
            "O\t\tat\n",
            "B-org\t\tGoogle\n"
          ],
          "name": "stdout"
        }
      ]
    },
    {
      "cell_type": "code",
      "metadata": {
        "id": "lFkVZrIf38D3",
        "colab_type": "code",
        "colab": {}
      },
      "source": [
        ""
      ],
      "execution_count": null,
      "outputs": []
    }
  ]
}