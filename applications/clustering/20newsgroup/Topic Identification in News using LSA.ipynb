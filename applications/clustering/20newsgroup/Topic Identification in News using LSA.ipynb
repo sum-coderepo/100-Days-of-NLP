{
  "nbformat": 4,
  "nbformat_minor": 0,
  "metadata": {
    "colab": {
      "name": "Topic Identification in News using SVD.ipynb",
      "provenance": [],
      "authorship_tag": "ABX9TyPv610LVLlCF0fpvU83VUXu",
      "include_colab_link": true
    },
    "kernelspec": {
      "name": "python3",
      "display_name": "Python 3"
    }
  },
  "cells": [
    {
      "cell_type": "markdown",
      "metadata": {
        "id": "view-in-github",
        "colab_type": "text"
      },
      "source": [
        "<a href=\"https://colab.research.google.com/github/graviraja/100-Days-of-NLP/blob/applications%2Fclustering/applications/clustering/20newsgroup/Topic%20Identification%20in%20News%20using%20SVD.ipynb\" target=\"_parent\"><img src=\"https://colab.research.google.com/assets/colab-badge.svg\" alt=\"Open In Colab\"/></a>"
      ]
    },
    {
      "cell_type": "markdown",
      "metadata": {
        "id": "BfCrr-g7xDE-",
        "colab_type": "text"
      },
      "source": [
        "### Imports"
      ]
    },
    {
      "cell_type": "code",
      "metadata": {
        "id": "cNMgIyN1sT0g",
        "colab_type": "code",
        "colab": {
          "base_uri": "https://localhost:8080/",
          "height": 68
        },
        "outputId": "fafc82cc-1b95-4417-f162-489a0212e51a"
      },
      "source": [
        "import nltk\n",
        "nltk.download(\"stopwords\")"
      ],
      "execution_count": 1,
      "outputs": [
        {
          "output_type": "stream",
          "text": [
            "[nltk_data] Downloading package stopwords to /root/nltk_data...\n",
            "[nltk_data]   Unzipping corpora/stopwords.zip.\n"
          ],
          "name": "stdout"
        },
        {
          "output_type": "execute_result",
          "data": {
            "text/plain": [
              "True"
            ]
          },
          "metadata": {
            "tags": []
          },
          "execution_count": 1
        }
      ]
    },
    {
      "cell_type": "code",
      "metadata": {
        "id": "yT1mTZnQrnVa",
        "colab_type": "code",
        "colab": {}
      },
      "source": [
        "import re\n",
        "import spacy\n",
        "import numpy as np\n",
        "import pandas as pd\n",
        "\n",
        "from nltk.corpus import stopwords\n",
        "\n",
        "from sklearn.datasets import fetch_20newsgroups\n",
        "from sklearn.feature_extraction.text import TfidfVectorizer\n",
        "from sklearn.decomposition import TruncatedSVD\n",
        "\n",
        "import scipy\n",
        "from scipy import linalg\n",
        "\n",
        "import gensim\n",
        "from gensim.utils import simple_preprocess\n",
        "\n",
        "import matplotlib.pyplot as plt\n",
        "import seaborn as sns"
      ],
      "execution_count": 50,
      "outputs": []
    },
    {
      "cell_type": "code",
      "metadata": {
        "id": "NaV41WGhuMB_",
        "colab_type": "code",
        "colab": {}
      },
      "source": [
        "import warnings\n",
        "warnings.filterwarnings(\"ignore\", category=DeprecationWarning)"
      ],
      "execution_count": 13,
      "outputs": []
    },
    {
      "cell_type": "code",
      "metadata": {
        "id": "znKZvB-ruSRR",
        "colab_type": "code",
        "colab": {}
      },
      "source": [
        "stop_words = stopwords.words('english')\n",
        "stop_words.extend(['from', 'subject', 're', 'edu', 'use'])\n",
        "\n",
        "nlp = spacy.load('en', disable=['parser', 'ner'])"
      ],
      "execution_count": 14,
      "outputs": []
    },
    {
      "cell_type": "markdown",
      "metadata": {
        "id": "DQ8-Mr2txFsv",
        "colab_type": "text"
      },
      "source": [
        "### 20 Newsgroup Dataset"
      ]
    },
    {
      "cell_type": "code",
      "metadata": {
        "id": "Xffcim4Ks5YU",
        "colab_type": "code",
        "colab": {
          "base_uri": "https://localhost:8080/",
          "height": 68
        },
        "outputId": "cd854290-6dc3-4b90-dfa0-a53b89f84e20"
      },
      "source": [
        "dataset = fetch_20newsgroups(shuffle=True, random_state=42, remove=('headers', 'footers', 'quotes'))\n",
        "\n",
        "documents = dataset.data\n",
        "len(documents)"
      ],
      "execution_count": 4,
      "outputs": [
        {
          "output_type": "stream",
          "text": [
            "Downloading 20news dataset. This may take a few minutes.\n",
            "Downloading dataset from https://ndownloader.figshare.com/files/5975967 (14 MB)\n"
          ],
          "name": "stderr"
        },
        {
          "output_type": "execute_result",
          "data": {
            "text/plain": [
              "11314"
            ]
          },
          "metadata": {
            "tags": []
          },
          "execution_count": 4
        }
      ]
    },
    {
      "cell_type": "code",
      "metadata": {
        "id": "DjG9pAlHtLnu",
        "colab_type": "code",
        "colab": {
          "base_uri": "https://localhost:8080/",
          "height": 357
        },
        "outputId": "8ca16496-24a5-401e-faf7-ba28cbc333fc"
      },
      "source": [
        "dataset.target_names"
      ],
      "execution_count": 5,
      "outputs": [
        {
          "output_type": "execute_result",
          "data": {
            "text/plain": [
              "['alt.atheism',\n",
              " 'comp.graphics',\n",
              " 'comp.os.ms-windows.misc',\n",
              " 'comp.sys.ibm.pc.hardware',\n",
              " 'comp.sys.mac.hardware',\n",
              " 'comp.windows.x',\n",
              " 'misc.forsale',\n",
              " 'rec.autos',\n",
              " 'rec.motorcycles',\n",
              " 'rec.sport.baseball',\n",
              " 'rec.sport.hockey',\n",
              " 'sci.crypt',\n",
              " 'sci.electronics',\n",
              " 'sci.med',\n",
              " 'sci.space',\n",
              " 'soc.religion.christian',\n",
              " 'talk.politics.guns',\n",
              " 'talk.politics.mideast',\n",
              " 'talk.politics.misc',\n",
              " 'talk.religion.misc']"
            ]
          },
          "metadata": {
            "tags": []
          },
          "execution_count": 5
        }
      ]
    },
    {
      "cell_type": "code",
      "metadata": {
        "id": "l9GNSnR5tRY3",
        "colab_type": "code",
        "colab": {
          "base_uri": "https://localhost:8080/",
          "height": 334
        },
        "outputId": "4cc3e1c8-c687-4ba4-ef7f-6b209c179c92"
      },
      "source": [
        "plt.figure(figsize=(20, 5))\n",
        "sns.countplot(dataset.target)"
      ],
      "execution_count": 11,
      "outputs": [
        {
          "output_type": "execute_result",
          "data": {
            "text/plain": [
              "<matplotlib.axes._subplots.AxesSubplot at 0x7f32f31b3ef0>"
            ]
          },
          "metadata": {
            "tags": []
          },
          "execution_count": 11
        },
        {
          "output_type": "display_data",
          "data": {
            "image/png": "[encoded data removed]",
            "text/plain": [
              "<Figure size 1440x360 with 1 Axes>"
            ]
          },
          "metadata": {
            "tags": [],
            "needs_background": "light"
          }
        }
      ]
    },
    {
      "cell_type": "markdown",
      "metadata": {
        "id": "Y_temCSmxKME",
        "colab_type": "text"
      },
      "source": [
        "### Tokenization"
      ]
    },
    {
      "cell_type": "code",
      "metadata": {
        "id": "nmxsIv9Gtaeb",
        "colab_type": "code",
        "colab": {}
      },
      "source": [
        "def sentence_to_tokens(sent):\n",
        "    # remove emails\n",
        "    sent = re.sub(r'\\S*@\\S*\\s?', '', sent)\n",
        "    # remove newline chars\n",
        "    sent = re.sub(r'\\s+', ' ', sent)\n",
        "    # remove single quotes\n",
        "    sent = re.sub(r\"\\'\", \"\", sent)\n",
        "    # converts to lower case tokens and removes tokens that are\n",
        "    # too small & too long. Also remove accent characters & punct\n",
        "    tokens = simple_preprocess(str(sent), deacc=True)\n",
        "    return tokens"
      ],
      "execution_count": 15,
      "outputs": []
    },
    {
      "cell_type": "code",
      "metadata": {
        "id": "0O4i_cKLt7R9",
        "colab_type": "code",
        "colab": {
          "base_uri": "https://localhost:8080/",
          "height": 51
        },
        "outputId": "7f5527c6-149e-4ee3-dc27-488f1e8f004a"
      },
      "source": [
        "%%time\n",
        "tokenized_data = [sentence_to_tokens(doc) for doc in documents]"
      ],
      "execution_count": 18,
      "outputs": [
        {
          "output_type": "stream",
          "text": [
            "CPU times: user 6.14 s, sys: 133 ms, total: 6.27 s\n",
            "Wall time: 6.28 s\n"
          ],
          "name": "stdout"
        }
      ]
    },
    {
      "cell_type": "code",
      "metadata": {
        "id": "9skapd9it-JS",
        "colab_type": "code",
        "colab": {
          "base_uri": "https://localhost:8080/",
          "height": 86
        },
        "outputId": "c172e4a6-36aa-4528-aba4-562a964d9cb8"
      },
      "source": [
        "\" \".join(tokenized_data[0])"
      ],
      "execution_count": 19,
      "outputs": [
        {
          "output_type": "execute_result",
          "data": {
            "application/vnd.google.colaboratory.intrinsic+json": {
              "type": "string"
            },
            "text/plain": [
              "'was wondering if anyone out there could enlighten me on this car saw the other day it was door sports car looked to be from the late early it was called bricklin the doors were really small in addition the front bumper was separate from the rest of the body this is all know if anyone can tellme model name engine specs years of production where this car is made history or whatever info you have on this funky looking car please mail'"
            ]
          },
          "metadata": {
            "tags": []
          },
          "execution_count": 19
        }
      ]
    },
    {
      "cell_type": "markdown",
      "metadata": {
        "id": "tMBWx5f3xMWs",
        "colab_type": "text"
      },
      "source": [
        "### Pre-processing"
      ]
    },
    {
      "cell_type": "code",
      "metadata": {
        "id": "03D54WaNuBR5",
        "colab_type": "code",
        "colab": {
          "base_uri": "https://localhost:8080/",
          "height": 51
        },
        "outputId": "ef1a23e1-5731-4684-f1e1-74c06dd44d55"
      },
      "source": [
        "%%time\n",
        "# create bigrams from the tokenized data\n",
        "bigram = gensim.models.Phrases(tokenized_data, threshold=50)\n",
        "# make a bigram model\n",
        "bigram_mod = gensim.models.phrases.Phraser(bigram)"
      ],
      "execution_count": 20,
      "outputs": [
        {
          "output_type": "stream",
          "text": [
            "CPU times: user 11 s, sys: 86.3 ms, total: 11.1 s\n",
            "Wall time: 11.1 s\n"
          ],
          "name": "stdout"
        }
      ]
    },
    {
      "cell_type": "code",
      "metadata": {
        "id": "KRSun9MkuGKN",
        "colab_type": "code",
        "colab": {}
      },
      "source": [
        "def process_words(texts, allowed_postags=[\"NOUN\", \"ADJ\", \"VERB\", \"ADV\"]):\n",
        "    # remove stopwords\n",
        "    stop_free = [[word for word in doc if word not in stop_words] for doc in texts]\n",
        "    # bigrams\n",
        "    bigram_data = [bigram_mod[doc] for doc in stop_free]\n",
        "\n",
        "    texts_out = []\n",
        "    for sent in bigram_data:\n",
        "        doc = nlp(\" \".join(sent))\n",
        "        texts_out.append([token.lemma_ for token in doc if token.pos_ in allowed_postags])\n",
        "    # remove stopwords\n",
        "    texts_out = [[word for word in simple_preprocess(str(doc)) if word not in stop_words] for doc in texts_out]  \n",
        "    # join words into sentence in-order to make it useful to tfidf processing\n",
        "    texts_out = [\" \".join(words) for words in texts_out]\n",
        "    return texts_out\n"
      ],
      "execution_count": 21,
      "outputs": []
    },
    {
      "cell_type": "code",
      "metadata": {
        "id": "XMwpxtckuVTB",
        "colab_type": "code",
        "colab": {
          "base_uri": "https://localhost:8080/",
          "height": 51
        },
        "outputId": "afd2cdf7-836b-4467-e14d-be763b5423be"
      },
      "source": [
        "%%time\n",
        "processed_data = process_words(tokenized_data)"
      ],
      "execution_count": 22,
      "outputs": [
        {
          "output_type": "stream",
          "text": [
            "CPU times: user 1min 34s, sys: 924 ms, total: 1min 35s\n",
            "Wall time: 1min 35s\n"
          ],
          "name": "stdout"
        }
      ]
    },
    {
      "cell_type": "code",
      "metadata": {
        "id": "XDNeAY68ueje",
        "colab_type": "code",
        "colab": {
          "base_uri": "https://localhost:8080/",
          "height": 52
        },
        "outputId": "137630f8-61c5-4bcc-b183-c2425848c977"
      },
      "source": [
        "processed_data[0]"
      ],
      "execution_count": 23,
      "outputs": [
        {
          "output_type": "execute_result",
          "data": {
            "application/vnd.google.colaboratory.intrinsic+json": {
              "type": "string"
            },
            "text/plain": [
              "'wonder could enlighten car see day door look late early call bricklin door really small addition separate rest body know tellme model name engine year production car make history info funky look car mail'"
            ]
          },
          "metadata": {
            "tags": []
          },
          "execution_count": 23
        }
      ]
    },
    {
      "cell_type": "markdown",
      "metadata": {
        "id": "kLfr7IdpxQbZ",
        "colab_type": "text"
      },
      "source": [
        "### Tfidf"
      ]
    },
    {
      "cell_type": "code",
      "metadata": {
        "id": "K5ILC2jhuf4z",
        "colab_type": "code",
        "colab": {}
      },
      "source": [
        "tfidf = TfidfVectorizer(analyzer='word', min_df=10, stop_words='english', lowercase=True, token_pattern='[a-zA-Z0-9]{3,}')\n",
        "\n",
        "data_vectorized = tfidf.fit_transform(processed_data)"
      ],
      "execution_count": 25,
      "outputs": []
    },
    {
      "cell_type": "code",
      "metadata": {
        "id": "1xtjJeVBuiJb",
        "colab_type": "code",
        "colab": {
          "base_uri": "https://localhost:8080/",
          "height": 34
        },
        "outputId": "b02c495d-0252-4d21-903b-8ca9bf85c1bd"
      },
      "source": [
        "# document-term matrix\n",
        "data_vectorized.shape"
      ],
      "execution_count": 26,
      "outputs": [
        {
          "output_type": "execute_result",
          "data": {
            "text/plain": [
              "(11314, 5369)"
            ]
          },
          "metadata": {
            "tags": []
          },
          "execution_count": 26
        }
      ]
    },
    {
      "cell_type": "markdown",
      "metadata": {
        "id": "-RM-bhVXyAEH",
        "colab_type": "text"
      },
      "source": [
        "### SVD - Scipy"
      ]
    },
    {
      "cell_type": "code",
      "metadata": {
        "id": "8uSlAA1Dwat6",
        "colab_type": "code",
        "colab": {
          "base_uri": "https://localhost:8080/",
          "height": 51
        },
        "outputId": "7492cff6-3629-46cd-e059-bbc8406efbf2"
      },
      "source": [
        "%%time\n",
        "U, s, Vh = scipy.sparse.linalg.svds(data_vectorized, k=20)"
      ],
      "execution_count": 56,
      "outputs": [
        {
          "output_type": "stream",
          "text": [
            "CPU times: user 422 ms, sys: 226 ms, total: 649 ms\n",
            "Wall time: 342 ms\n"
          ],
          "name": "stdout"
        }
      ]
    },
    {
      "cell_type": "code",
      "metadata": {
        "id": "IbvkKVpDycTd",
        "colab_type": "code",
        "colab": {
          "base_uri": "https://localhost:8080/",
          "height": 34
        },
        "outputId": "09ae78eb-026e-464e-baab-22dc3cdf34b2"
      },
      "source": [
        "U.shape"
      ],
      "execution_count": 57,
      "outputs": [
        {
          "output_type": "execute_result",
          "data": {
            "text/plain": [
              "(11314, 20)"
            ]
          },
          "metadata": {
            "tags": []
          },
          "execution_count": 57
        }
      ]
    },
    {
      "cell_type": "code",
      "metadata": {
        "id": "GKkjj9YFzERp",
        "colab_type": "code",
        "colab": {
          "base_uri": "https://localhost:8080/",
          "height": 85
        },
        "outputId": "3868ebed-0163-43fc-997d-e80f4b4ae335"
      },
      "source": [
        "s"
      ],
      "execution_count": 60,
      "outputs": [
        {
          "output_type": "execute_result",
          "data": {
            "text/plain": [
              "array([ 4.92891419,  4.96339719,  4.99226158,  5.04066519,  5.10180911,\n",
              "        5.2099983 ,  5.28255264,  5.39213767,  5.39934617,  5.44676326,\n",
              "        5.56493994,  5.72199803,  5.79020032,  5.95870598,  6.25719729,\n",
              "        6.57743219,  6.66125011,  6.96593609,  8.31975216, 14.27542397])"
            ]
          },
          "metadata": {
            "tags": []
          },
          "execution_count": 60
        }
      ]
    },
    {
      "cell_type": "code",
      "metadata": {
        "id": "Jpv5rDiyz8pn",
        "colab_type": "code",
        "colab": {
          "base_uri": "https://localhost:8080/",
          "height": 282
        },
        "outputId": "ab04c242-a4db-4153-8c48-5b56bcd81b34"
      },
      "source": [
        "plt.plot(s)"
      ],
      "execution_count": 61,
      "outputs": [
        {
          "output_type": "execute_result",
          "data": {
            "text/plain": [
              "[<matplotlib.lines.Line2D at 0x7f32e0298b38>]"
            ]
          },
          "metadata": {
            "tags": []
          },
          "execution_count": 61
        },
        {
          "output_type": "display_data",
          "data": {
            "image/png": "[encoded data removed]",
            "text/plain": [
              "<Figure size 432x288 with 1 Axes>"
            ]
          },
          "metadata": {
            "tags": [],
            "needs_background": "light"
          }
        }
      ]
    },
    {
      "cell_type": "code",
      "metadata": {
        "id": "K2s2V7g9zlIG",
        "colab_type": "code",
        "colab": {
          "base_uri": "https://localhost:8080/",
          "height": 34
        },
        "outputId": "f71e4701-b826-4f0a-b029-6def8ae58d1a"
      },
      "source": [
        "Vh.shape"
      ],
      "execution_count": 59,
      "outputs": [
        {
          "output_type": "execute_result",
          "data": {
            "text/plain": [
              "(20, 5369)"
            ]
          },
          "metadata": {
            "tags": []
          },
          "execution_count": 59
        }
      ]
    },
    {
      "cell_type": "code",
      "metadata": {
        "id": "sFvpqnck0QsD",
        "colab_type": "code",
        "colab": {}
      },
      "source": [
        "vocab = np.array(tfidf.get_feature_names())"
      ],
      "execution_count": 63,
      "outputs": []
    },
    {
      "cell_type": "code",
      "metadata": {
        "id": "qFckOndS0vCN",
        "colab_type": "code",
        "colab": {
          "base_uri": "https://localhost:8080/",
          "height": 357
        },
        "outputId": "8d283465-1431-4d56-ad25-d5c5ee291d7f"
      },
      "source": [
        "# top key words in each topic\n",
        "terms = tfidf.get_feature_names()\n",
        "\n",
        "for i, comp in enumerate(Vh):\n",
        "    terms_dis = zip(terms, comp)\n",
        "    sorted_terms = sorted(terms_dis, key=lambda x:x[1], reverse=True)\n",
        "    top_key_words = sorted_terms[:10]\n",
        "    t = \" \".join(w[0] for w in top_key_words)\n",
        "    print(f\"Topic {i}: {t}\")"
      ],
      "execution_count": 64,
      "outputs": [
        {
          "output_type": "stream",
          "text": [
            "Topic 0: car card question program thank run answer need monitor time\n",
            "Topic 1: driver make version believe problem offer car sale work include\n",
            "Topic 2: program driver work think version need say run available software\n",
            "Topic 3: soon surrender chastity shameful intellect driver need want think say\n",
            "Topic 4: problem know mail sell game think sale window people price\n",
            "Topic 5: post driver car question list address mail read article group\n",
            "Topic 6: problem file work thank try card monitor fix time help\n",
            "Topic 7: think say look good bit buy thing monitor program really\n",
            "Topic 8: think thank driver people file card make chip window key\n",
            "Topic 9: know think file card people want good let look monitor\n",
            "Topic 10: file say card driver know car sell look price buy\n",
            "Topic 11: car know key window bike think look chip driver ride\n",
            "Topic 12: car window sell price look sale include card buy good\n",
            "Topic 13: card driver know chip key window bit say video mode\n",
            "Topic 14: key chip clipper bit encryption phone government information send public\n",
            "Topic 15: thank know mail post advance file say address game send\n",
            "Topic 16: file window program run team game win problem player application\n",
            "Topic 17: game team player play year win good season score run\n",
            "Topic 18: say people think believe team make year government right law\n",
            "Topic 19: know say think people make good time thank work want\n"
          ],
          "name": "stdout"
        }
      ]
    },
    {
      "cell_type": "markdown",
      "metadata": {
        "id": "eJKh0hb-xR30",
        "colab_type": "text"
      },
      "source": [
        "### SVD - Scikit-learn"
      ]
    },
    {
      "cell_type": "code",
      "metadata": {
        "id": "yQVNMcZfuoDb",
        "colab_type": "code",
        "colab": {
          "base_uri": "https://localhost:8080/",
          "height": 51
        },
        "outputId": "4da93653-c013-4fff-b7d4-a0c1e6676f4b"
      },
      "source": [
        "%%time\n",
        "svd = TruncatedSVD(\n",
        "    n_components=20,\n",
        "    algorithm=\"randomized\",\n",
        "    n_iter=1000,\n",
        "    random_state=42\n",
        ")\n",
        "\n",
        "svd.fit(data_vectorized)"
      ],
      "execution_count": 39,
      "outputs": [
        {
          "output_type": "stream",
          "text": [
            "CPU times: user 59.9 s, sys: 44.2 s, total: 1min 44s\n",
            "Wall time: 52.8 s\n"
          ],
          "name": "stdout"
        }
      ]
    },
    {
      "cell_type": "code",
      "metadata": {
        "id": "LbpkRfCgvAtJ",
        "colab_type": "code",
        "colab": {
          "base_uri": "https://localhost:8080/",
          "height": 238
        },
        "outputId": "9e1a5ef5-1b7c-477e-f6cc-eeed06de0bd1"
      },
      "source": [
        "# topic-term matrix\n",
        "svd.components_"
      ],
      "execution_count": 40,
      "outputs": [
        {
          "output_type": "execute_result",
          "data": {
            "text/plain": [
              "array([[ 0.00255323,  0.00132199,  0.0015639 , ...,  0.00484884,\n",
              "         0.00404874,  0.00159009],\n",
              "       [-0.00378172,  0.00022909, -0.0020109 , ...,  0.00785711,\n",
              "        -0.00310692,  0.00196894],\n",
              "       [-0.0023384 ,  0.00073939, -0.0018754 , ..., -0.0003781 ,\n",
              "         0.00450433, -0.00043351],\n",
              "       ...,\n",
              "       [-0.000517  ,  0.00109829, -0.00086703, ...,  0.00563794,\n",
              "        -0.00077637,  0.00018139],\n",
              "       [-0.00121836,  0.00060692, -0.00030447, ..., -0.00184145,\n",
              "        -0.00617032, -0.00128298],\n",
              "       [ 0.00090353,  0.00055378, -0.00069902, ...,  0.00375503,\n",
              "         0.00023449,  0.00013991]])"
            ]
          },
          "metadata": {
            "tags": []
          },
          "execution_count": 40
        }
      ]
    },
    {
      "cell_type": "code",
      "metadata": {
        "id": "oKVgpXZuvelt",
        "colab_type": "code",
        "colab": {
          "base_uri": "https://localhost:8080/",
          "height": 34
        },
        "outputId": "a047574a-bba7-45e3-a8ae-86a4d72f7dae"
      },
      "source": [
        "svd.components_.shape"
      ],
      "execution_count": 41,
      "outputs": [
        {
          "output_type": "execute_result",
          "data": {
            "text/plain": [
              "(20, 5369)"
            ]
          },
          "metadata": {
            "tags": []
          },
          "execution_count": 41
        }
      ]
    },
    {
      "cell_type": "code",
      "metadata": {
        "id": "Hk1zHOUAvOpr",
        "colab_type": "code",
        "colab": {
          "base_uri": "https://localhost:8080/",
          "height": 357
        },
        "outputId": "7dba3b4d-44ba-4911-b9d3-becdd49a70af"
      },
      "source": [
        "# top key words in each topic\n",
        "terms = tfidf.get_feature_names()\n",
        "\n",
        "for i, comp in enumerate(svd.components_):\n",
        "    terms_dis = zip(terms, comp)\n",
        "    sorted_terms = sorted(terms_dis, key=lambda x:x[1], reverse=True)\n",
        "    top_key_words = sorted_terms[:10]\n",
        "    t = \" \".join(w[0] for w in top_key_words)\n",
        "    print(f\"Topic {i}: {t}\")"
      ],
      "execution_count": 42,
      "outputs": [
        {
          "output_type": "stream",
          "text": [
            "Topic 0: know say think people make good time thank work want\n",
            "Topic 1: thank window file card program driver mail drive problem run\n",
            "Topic 2: game team player play year win good season score run\n",
            "Topic 3: file window program run team game win problem player application\n",
            "Topic 4: thank know mail post advance file say address game send\n",
            "Topic 5: key chip clipper bit encryption phone government information send public\n",
            "Topic 6: card driver know chip key window bit say video mode\n",
            "Topic 7: drive key know say file chip scsi thank disk game\n",
            "Topic 8: car know key window bike think look chip driver ride\n",
            "Topic 9: file say card driver know car sell look price buy\n",
            "Topic 10: say window car thank key run game chip problem memory\n",
            "Topic 11: think thank driver people file card make chip window key\n",
            "Topic 12: think say look good bit buy thing monitor program really\n",
            "Topic 13: problem file work thank try card monitor fix time help\n",
            "Topic 14: post driver car question list address mail read article group\n",
            "Topic 15: look good driver surrender chastity shameful intellect soon need thank\n",
            "Topic 16: soon surrender chastity shameful intellect driver need want think say\n",
            "Topic 17: program driver work think version need say run available software\n",
            "Topic 18: driver make version believe problem offer car sale work include\n",
            "Topic 19: look work driver problem try make window post mail sale\n"
          ],
          "name": "stdout"
        }
      ]
    }
  ]
}