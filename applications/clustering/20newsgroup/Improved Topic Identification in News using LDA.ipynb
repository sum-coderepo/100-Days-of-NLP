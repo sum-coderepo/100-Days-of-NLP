{
  "nbformat": 4,
  "nbformat_minor": 0,
  "metadata": {
    "colab": {
      "name": "Improved Topic Identification in News using LDA",
      "provenance": [],
      "authorship_tag": "ABX9TyOo6pVomjEyUCLh+yBkMjQv",
      "include_colab_link": true
    },
    "kernelspec": {
      "name": "python3",
      "display_name": "Python 3"
    }
  },
  "cells": [
    {
      "cell_type": "markdown",
      "metadata": {
        "id": "view-in-github",
        "colab_type": "text"
      },
      "source": [
        "<a href=\"https://colab.research.google.com/github/graviraja/100-Days-of-NLP/blob/applications%2Fclustering/applications/clustering/20newsgroup/Improved%20Topic%20Identification%20in%20News%20using%20LDA.ipynb\" target=\"_parent\"><img src=\"https://colab.research.google.com/assets/colab-badge.svg\" alt=\"Open In Colab\"/></a>"
      ]
    },
    {
      "cell_type": "markdown",
      "metadata": {
        "id": "IDdt5JIwvTem",
        "colab_type": "text"
      },
      "source": [
        "### Installations"
      ]
    },
    {
      "cell_type": "code",
      "metadata": {
        "id": "taKc_gu77KV1",
        "colab_type": "code",
        "colab": {
          "base_uri": "https://localhost:8080/",
          "height": 86
        },
        "outputId": "4e2c1124-5a9b-4b4b-bee5-524c3cba26b6"
      },
      "source": [
        "!pip install pyldavis -q"
      ],
      "execution_count": 1,
      "outputs": [
        {
          "output_type": "stream",
          "text": [
            "\u001b[?25l\r\u001b[K     |▏                               | 10kB 17.3MB/s eta 0:00:01\r\u001b[K     |▍                               | 20kB 1.8MB/s eta 0:00:01\r\u001b[K     |▋                               | 30kB 2.4MB/s eta 0:00:01\r\u001b[K     |▉                               | 40kB 2.6MB/s eta 0:00:01\r\u001b[K     |█                               | 51kB 2.0MB/s eta 0:00:01\r\u001b[K     |█▏                              | 61kB 2.3MB/s eta 0:00:01\r\u001b[K     |█▍                              | 71kB 2.6MB/s eta 0:00:01\r\u001b[K     |█▋                              | 81kB 2.8MB/s eta 0:00:01\r\u001b[K     |█▉                              | 92kB 2.9MB/s eta 0:00:01\r\u001b[K     |██                              | 102kB 2.8MB/s eta 0:00:01\r\u001b[K     |██▎                             | 112kB 2.8MB/s eta 0:00:01\r\u001b[K     |██▍                             | 122kB 2.8MB/s eta 0:00:01\r\u001b[K     |██▋                             | 133kB 2.8MB/s eta 0:00:01\r\u001b[K     |██▉                             | 143kB 2.8MB/s eta 0:00:01\r\u001b[K     |███                             | 153kB 2.8MB/s eta 0:00:01\r\u001b[K     |███▎                            | 163kB 2.8MB/s eta 0:00:01\r\u001b[K     |███▌                            | 174kB 2.8MB/s eta 0:00:01\r\u001b[K     |███▋                            | 184kB 2.8MB/s eta 0:00:01\r\u001b[K     |███▉                            | 194kB 2.8MB/s eta 0:00:01\r\u001b[K     |████                            | 204kB 2.8MB/s eta 0:00:01\r\u001b[K     |████▎                           | 215kB 2.8MB/s eta 0:00:01\r\u001b[K     |████▌                           | 225kB 2.8MB/s eta 0:00:01\r\u001b[K     |████▊                           | 235kB 2.8MB/s eta 0:00:01\r\u001b[K     |████▉                           | 245kB 2.8MB/s eta 0:00:01\r\u001b[K     |█████                           | 256kB 2.8MB/s eta 0:00:01\r\u001b[K     |█████▎                          | 266kB 2.8MB/s eta 0:00:01\r\u001b[K     |█████▌                          | 276kB 2.8MB/s eta 0:00:01\r\u001b[K     |█████▊                          | 286kB 2.8MB/s eta 0:00:01\r\u001b[K     |█████▉                          | 296kB 2.8MB/s eta 0:00:01\r\u001b[K     |██████                          | 307kB 2.8MB/s eta 0:00:01\r\u001b[K     |██████▎                         | 317kB 2.8MB/s eta 0:00:01\r\u001b[K     |██████▌                         | 327kB 2.8MB/s eta 0:00:01\r\u001b[K     |██████▊                         | 337kB 2.8MB/s eta 0:00:01\r\u001b[K     |███████                         | 348kB 2.8MB/s eta 0:00:01\r\u001b[K     |███████                         | 358kB 2.8MB/s eta 0:00:01\r\u001b[K     |███████▎                        | 368kB 2.8MB/s eta 0:00:01\r\u001b[K     |███████▌                        | 378kB 2.8MB/s eta 0:00:01\r\u001b[K     |███████▊                        | 389kB 2.8MB/s eta 0:00:01\r\u001b[K     |████████                        | 399kB 2.8MB/s eta 0:00:01\r\u001b[K     |████████▏                       | 409kB 2.8MB/s eta 0:00:01\r\u001b[K     |████████▎                       | 419kB 2.8MB/s eta 0:00:01\r\u001b[K     |████████▌                       | 430kB 2.8MB/s eta 0:00:01\r\u001b[K     |████████▊                       | 440kB 2.8MB/s eta 0:00:01\r\u001b[K     |█████████                       | 450kB 2.8MB/s eta 0:00:01\r\u001b[K     |█████████▏                      | 460kB 2.8MB/s eta 0:00:01\r\u001b[K     |█████████▍                      | 471kB 2.8MB/s eta 0:00:01\r\u001b[K     |█████████▌                      | 481kB 2.8MB/s eta 0:00:01\r\u001b[K     |█████████▊                      | 491kB 2.8MB/s eta 0:00:01\r\u001b[K     |██████████                      | 501kB 2.8MB/s eta 0:00:01\r\u001b[K     |██████████▏                     | 512kB 2.8MB/s eta 0:00:01\r\u001b[K     |██████████▍                     | 522kB 2.8MB/s eta 0:00:01\r\u001b[K     |██████████▋                     | 532kB 2.8MB/s eta 0:00:01\r\u001b[K     |██████████▊                     | 542kB 2.8MB/s eta 0:00:01\r\u001b[K     |███████████                     | 552kB 2.8MB/s eta 0:00:01\r\u001b[K     |███████████▏                    | 563kB 2.8MB/s eta 0:00:01\r\u001b[K     |███████████▍                    | 573kB 2.8MB/s eta 0:00:01\r\u001b[K     |███████████▋                    | 583kB 2.8MB/s eta 0:00:01\r\u001b[K     |███████████▊                    | 593kB 2.8MB/s eta 0:00:01\r\u001b[K     |████████████                    | 604kB 2.8MB/s eta 0:00:01\r\u001b[K     |████████████▏                   | 614kB 2.8MB/s eta 0:00:01\r\u001b[K     |████████████▍                   | 624kB 2.8MB/s eta 0:00:01\r\u001b[K     |████████████▋                   | 634kB 2.8MB/s eta 0:00:01\r\u001b[K     |████████████▉                   | 645kB 2.8MB/s eta 0:00:01\r\u001b[K     |█████████████                   | 655kB 2.8MB/s eta 0:00:01\r\u001b[K     |█████████████▏                  | 665kB 2.8MB/s eta 0:00:01\r\u001b[K     |█████████████▍                  | 675kB 2.8MB/s eta 0:00:01\r\u001b[K     |█████████████▋                  | 686kB 2.8MB/s eta 0:00:01\r\u001b[K     |█████████████▉                  | 696kB 2.8MB/s eta 0:00:01\r\u001b[K     |██████████████                  | 706kB 2.8MB/s eta 0:00:01\r\u001b[K     |██████████████▏                 | 716kB 2.8MB/s eta 0:00:01\r\u001b[K     |██████████████▍                 | 727kB 2.8MB/s eta 0:00:01\r\u001b[K     |██████████████▋                 | 737kB 2.8MB/s eta 0:00:01\r\u001b[K     |██████████████▉                 | 747kB 2.8MB/s eta 0:00:01\r\u001b[K     |███████████████                 | 757kB 2.8MB/s eta 0:00:01\r\u001b[K     |███████████████▎                | 768kB 2.8MB/s eta 0:00:01\r\u001b[K     |███████████████▍                | 778kB 2.8MB/s eta 0:00:01\r\u001b[K     |███████████████▋                | 788kB 2.8MB/s eta 0:00:01\r\u001b[K     |███████████████▉                | 798kB 2.8MB/s eta 0:00:01\r\u001b[K     |████████████████                | 808kB 2.8MB/s eta 0:00:01\r\u001b[K     |████████████████▎               | 819kB 2.8MB/s eta 0:00:01\r\u001b[K     |████████████████▌               | 829kB 2.8MB/s eta 0:00:01\r\u001b[K     |████████████████▋               | 839kB 2.8MB/s eta 0:00:01\r\u001b[K     |████████████████▉               | 849kB 2.8MB/s eta 0:00:01\r\u001b[K     |█████████████████               | 860kB 2.8MB/s eta 0:00:01\r\u001b[K     |█████████████████▎              | 870kB 2.8MB/s eta 0:00:01\r\u001b[K     |█████████████████▌              | 880kB 2.8MB/s eta 0:00:01\r\u001b[K     |█████████████████▋              | 890kB 2.8MB/s eta 0:00:01\r\u001b[K     |█████████████████▉              | 901kB 2.8MB/s eta 0:00:01\r\u001b[K     |██████████████████              | 911kB 2.8MB/s eta 0:00:01\r\u001b[K     |██████████████████▎             | 921kB 2.8MB/s eta 0:00:01\r\u001b[K     |██████████████████▌             | 931kB 2.8MB/s eta 0:00:01\r\u001b[K     |██████████████████▊             | 942kB 2.8MB/s eta 0:00:01\r\u001b[K     |██████████████████▉             | 952kB 2.8MB/s eta 0:00:01\r\u001b[K     |███████████████████             | 962kB 2.8MB/s eta 0:00:01\r\u001b[K     |███████████████████▎            | 972kB 2.8MB/s eta 0:00:01\r\u001b[K     |███████████████████▌            | 983kB 2.8MB/s eta 0:00:01\r\u001b[K     |███████████████████▊            | 993kB 2.8MB/s eta 0:00:01\r\u001b[K     |████████████████████            | 1.0MB 2.8MB/s eta 0:00:01\r\u001b[K     |████████████████████            | 1.0MB 2.8MB/s eta 0:00:01\r\u001b[K     |████████████████████▎           | 1.0MB 2.8MB/s eta 0:00:01\r\u001b[K     |████████████████████▌           | 1.0MB 2.8MB/s eta 0:00:01\r\u001b[K     |████████████████████▊           | 1.0MB 2.8MB/s eta 0:00:01\r\u001b[K     |█████████████████████           | 1.1MB 2.8MB/s eta 0:00:01\r\u001b[K     |█████████████████████▏          | 1.1MB 2.8MB/s eta 0:00:01\r\u001b[K     |█████████████████████▎          | 1.1MB 2.8MB/s eta 0:00:01\r\u001b[K     |█████████████████████▌          | 1.1MB 2.8MB/s eta 0:00:01\r\u001b[K     |█████████████████████▊          | 1.1MB 2.8MB/s eta 0:00:01\r\u001b[K     |██████████████████████          | 1.1MB 2.8MB/s eta 0:00:01\r\u001b[K     |██████████████████████▏         | 1.1MB 2.8MB/s eta 0:00:01\r\u001b[K     |██████████████████████▍         | 1.1MB 2.8MB/s eta 0:00:01\r\u001b[K     |██████████████████████▌         | 1.1MB 2.8MB/s eta 0:00:01\r\u001b[K     |██████████████████████▊         | 1.1MB 2.8MB/s eta 0:00:01\r\u001b[K     |███████████████████████         | 1.2MB 2.8MB/s eta 0:00:01\r\u001b[K     |███████████████████████▏        | 1.2MB 2.8MB/s eta 0:00:01\r\u001b[K     |███████████████████████▍        | 1.2MB 2.8MB/s eta 0:00:01\r\u001b[K     |███████████████████████▌        | 1.2MB 2.8MB/s eta 0:00:01\r\u001b[K     |███████████████████████▊        | 1.2MB 2.8MB/s eta 0:00:01\r\u001b[K     |████████████████████████        | 1.2MB 2.8MB/s eta 0:00:01\r\u001b[K     |████████████████████████▏       | 1.2MB 2.8MB/s eta 0:00:01\r\u001b[K     |████████████████████████▍       | 1.2MB 2.8MB/s eta 0:00:01\r\u001b[K     |████████████████████████▋       | 1.2MB 2.8MB/s eta 0:00:01\r\u001b[K     |████████████████████████▊       | 1.2MB 2.8MB/s eta 0:00:01\r\u001b[K     |█████████████████████████       | 1.3MB 2.8MB/s eta 0:00:01\r\u001b[K     |█████████████████████████▏      | 1.3MB 2.8MB/s eta 0:00:01\r\u001b[K     |█████████████████████████▍      | 1.3MB 2.8MB/s eta 0:00:01\r\u001b[K     |█████████████████████████▋      | 1.3MB 2.8MB/s eta 0:00:01\r\u001b[K     |█████████████████████████▉      | 1.3MB 2.8MB/s eta 0:00:01\r\u001b[K     |██████████████████████████      | 1.3MB 2.8MB/s eta 0:00:01\r\u001b[K     |██████████████████████████▏     | 1.3MB 2.8MB/s eta 0:00:01\r\u001b[K     |██████████████████████████▍     | 1.3MB 2.8MB/s eta 0:00:01\r\u001b[K     |██████████████████████████▋     | 1.3MB 2.8MB/s eta 0:00:01\r\u001b[K     |██████████████████████████▉     | 1.4MB 2.8MB/s eta 0:00:01\r\u001b[K     |███████████████████████████     | 1.4MB 2.8MB/s eta 0:00:01\r\u001b[K     |███████████████████████████▏    | 1.4MB 2.8MB/s eta 0:00:01\r\u001b[K     |███████████████████████████▍    | 1.4MB 2.8MB/s eta 0:00:01\r\u001b[K     |███████████████████████████▋    | 1.4MB 2.8MB/s eta 0:00:01\r\u001b[K     |███████████████████████████▉    | 1.4MB 2.8MB/s eta 0:00:01\r\u001b[K     |████████████████████████████    | 1.4MB 2.8MB/s eta 0:00:01\r\u001b[K     |████████████████████████████▏   | 1.4MB 2.8MB/s eta 0:00:01\r\u001b[K     |████████████████████████████▍   | 1.4MB 2.8MB/s eta 0:00:01\r\u001b[K     |████████████████████████████▋   | 1.4MB 2.8MB/s eta 0:00:01\r\u001b[K     |████████████████████████████▉   | 1.5MB 2.8MB/s eta 0:00:01\r\u001b[K     |█████████████████████████████   | 1.5MB 2.8MB/s eta 0:00:01\r\u001b[K     |█████████████████████████████▎  | 1.5MB 2.8MB/s eta 0:00:01\r\u001b[K     |█████████████████████████████▍  | 1.5MB 2.8MB/s eta 0:00:01\r\u001b[K     |█████████████████████████████▋  | 1.5MB 2.8MB/s eta 0:00:01\r\u001b[K     |█████████████████████████████▉  | 1.5MB 2.8MB/s eta 0:00:01\r\u001b[K     |██████████████████████████████  | 1.5MB 2.8MB/s eta 0:00:01\r\u001b[K     |██████████████████████████████▎ | 1.5MB 2.8MB/s eta 0:00:01\r\u001b[K     |██████████████████████████████▌ | 1.5MB 2.8MB/s eta 0:00:01\r\u001b[K     |██████████████████████████████▋ | 1.5MB 2.8MB/s eta 0:00:01\r\u001b[K     |██████████████████████████████▉ | 1.6MB 2.8MB/s eta 0:00:01\r\u001b[K     |███████████████████████████████ | 1.6MB 2.8MB/s eta 0:00:01\r\u001b[K     |███████████████████████████████▎| 1.6MB 2.8MB/s eta 0:00:01\r\u001b[K     |███████████████████████████████▌| 1.6MB 2.8MB/s eta 0:00:01\r\u001b[K     |███████████████████████████████▊| 1.6MB 2.8MB/s eta 0:00:01\r\u001b[K     |███████████████████████████████▉| 1.6MB 2.8MB/s eta 0:00:01\r\u001b[K     |████████████████████████████████| 1.6MB 2.8MB/s \n",
            "\u001b[?25h\u001b[?25l\r\u001b[K     |▋                               | 10kB 5.7MB/s eta 0:00:01\r\u001b[K     |█▏                              | 20kB 6.8MB/s eta 0:00:01\r\u001b[K     |█▉                              | 30kB 9.4MB/s eta 0:00:01\r\u001b[K     |██▍                             | 40kB 10.6MB/s eta 0:00:01\r\u001b[K     |███                             | 51kB 10.8MB/s eta 0:00:01\r\u001b[K     |███▋                            | 61kB 12.5MB/s eta 0:00:01\r\u001b[K     |████▏                           | 71kB 12.3MB/s eta 0:00:01\r\u001b[K     |████▉                           | 81kB 13.6MB/s eta 0:00:01\r\u001b[K     |█████▍                          | 92kB 13.8MB/s eta 0:00:01\r\u001b[K     |██████                          | 102kB 12.6MB/s eta 0:00:01\r\u001b[K     |██████▋                         | 112kB 12.6MB/s eta 0:00:01\r\u001b[K     |███████▏                        | 122kB 12.6MB/s eta 0:00:01\r\u001b[K     |███████▊                        | 133kB 12.6MB/s eta 0:00:01\r\u001b[K     |████████▍                       | 143kB 12.6MB/s eta 0:00:01\r\u001b[K     |█████████                       | 153kB 12.6MB/s eta 0:00:01\r\u001b[K     |█████████▋                      | 163kB 12.6MB/s eta 0:00:01\r\u001b[K     |██████████▏                     | 174kB 12.6MB/s eta 0:00:01\r\u001b[K     |██████████▊                     | 184kB 12.6MB/s eta 0:00:01\r\u001b[K     |███████████▍                    | 194kB 12.6MB/s eta 0:00:01\r\u001b[K     |████████████                    | 204kB 12.6MB/s eta 0:00:01\r\u001b[K     |████████████▌                   | 215kB 12.6MB/s eta 0:00:01\r\u001b[K     |█████████████▏                  | 225kB 12.6MB/s eta 0:00:01\r\u001b[K     |█████████████▊                  | 235kB 12.6MB/s eta 0:00:01\r\u001b[K     |██████████████▍                 | 245kB 12.6MB/s eta 0:00:01\r\u001b[K     |███████████████                 | 256kB 12.6MB/s eta 0:00:01\r\u001b[K     |███████████████▌                | 266kB 79kB/s eta 0:00:04\r\u001b[K     |████████████████▏               | 276kB 79kB/s eta 0:00:04\r\u001b[K     |████████████████▊               | 286kB 79kB/s eta 0:00:04\r\u001b[K     |█████████████████▎              | 296kB 79kB/s eta 0:00:04\r\u001b[K     |██████████████████              | 307kB 79kB/s eta 0:00:04\r\u001b[K     |██████████████████▌             | 317kB 79kB/s eta 0:00:03\r\u001b[K     |███████████████████▏            | 327kB 79kB/s eta 0:00:03\r\u001b[K     |███████████████████▊            | 337kB 79kB/s eta 0:00:03\r\u001b[K     |████████████████████▎           | 348kB 79kB/s eta 0:00:03\r\u001b[K     |█████████████████████           | 358kB 79kB/s eta 0:00:03\r\u001b[K     |█████████████████████▌          | 368kB 79kB/s eta 0:00:03\r\u001b[K     |██████████████████████          | 378kB 79kB/s eta 0:00:03\r\u001b[K     |██████████████████████▊         | 389kB 79kB/s eta 0:00:02\r\u001b[K     |███████████████████████▎        | 399kB 79kB/s eta 0:00:02\r\u001b[K     |████████████████████████        | 409kB 79kB/s eta 0:00:02\r\u001b[K     |████████████████████████▌       | 419kB 79kB/s eta 0:00:02\r\u001b[K     |█████████████████████████       | 430kB 79kB/s eta 0:00:02\r\u001b[K     |█████████████████████████▊      | 440kB 79kB/s eta 0:00:02\r\u001b[K     |██████████████████████████▎     | 450kB 79kB/s eta 0:00:02\r\u001b[K     |██████████████████████████▉     | 460kB 79kB/s eta 0:00:02\r\u001b[K     |███████████████████████████▌    | 471kB 79kB/s eta 0:00:01\r\u001b[K     |████████████████████████████    | 481kB 79kB/s eta 0:00:01\r\u001b[K     |████████████████████████████▊   | 491kB 79kB/s eta 0:00:01\r\u001b[K     |█████████████████████████████▎  | 501kB 79kB/s eta 0:00:01\r\u001b[K     |█████████████████████████████▉  | 512kB 79kB/s eta 0:00:01\r\u001b[K     |██████████████████████████████▌ | 522kB 79kB/s eta 0:00:01\r\u001b[K     |███████████████████████████████ | 532kB 79kB/s eta 0:00:01\r\u001b[K     |███████████████████████████████▋| 542kB 79kB/s eta 0:00:01\r\u001b[K     |████████████████████████████████| 552kB 79kB/s \n",
            "\u001b[?25h  Building wheel for pyldavis (setup.py) ... \u001b[?25l\u001b[?25hdone\n",
            "  Building wheel for funcy (setup.py) ... \u001b[?25l\u001b[?25hdone\n"
          ],
          "name": "stdout"
        }
      ]
    },
    {
      "cell_type": "code",
      "metadata": {
        "id": "g3u4ctt6m6It",
        "colab_type": "code",
        "colab": {
          "base_uri": "https://localhost:8080/",
          "height": 69
        },
        "outputId": "e4730629-4af1-4692-d92d-4e9e00560a67"
      },
      "source": [
        "import nltk\n",
        "nltk.download('stopwords')"
      ],
      "execution_count": 2,
      "outputs": [
        {
          "output_type": "stream",
          "text": [
            "[nltk_data] Downloading package stopwords to /root/nltk_data...\n",
            "[nltk_data]   Unzipping corpora/stopwords.zip.\n"
          ],
          "name": "stdout"
        },
        {
          "output_type": "execute_result",
          "data": {
            "text/plain": [
              "True"
            ]
          },
          "metadata": {
            "tags": []
          },
          "execution_count": 2
        }
      ]
    },
    {
      "cell_type": "markdown",
      "metadata": {
        "id": "_s3hofPNvXWI",
        "colab_type": "text"
      },
      "source": [
        "### Imports"
      ]
    },
    {
      "cell_type": "code",
      "metadata": {
        "id": "dV30sqIm0zF5",
        "colab_type": "code",
        "colab": {}
      },
      "source": [
        "import re\n",
        "import spacy\n",
        "import numpy as np\n",
        "import pandas as pd\n",
        "\n",
        "from nltk.corpus import stopwords\n",
        "\n",
        "from sklearn.decomposition import LatentDirichletAllocation\n",
        "from sklearn.feature_extraction.text import TfidfVectorizer\n",
        "from sklearn.model_selection import GridSearchCV\n",
        "\n",
        "import gensim\n",
        "import gensim.corpora as corpora\n",
        "from gensim.utils import simple_preprocess\n",
        "from gensim.models import CoherenceModel\n",
        "\n",
        "import scipy.sparse\n",
        "from pprint import pprint\n",
        "\n",
        "import pyLDAvis\n",
        "import pyLDAvis.gensim\n",
        "import pyLDAvis.sklearn\n",
        "\n",
        "import matplotlib.pyplot as plt\n",
        "import matplotlib.colors as mcolors\n",
        "import seaborn as sns\n",
        "\n",
        "from wordcloud import WordCloud, STOPWORDS"
      ],
      "execution_count": 69,
      "outputs": []
    },
    {
      "cell_type": "code",
      "metadata": {
        "id": "-tx9BrKND_5i",
        "colab_type": "code",
        "colab": {}
      },
      "source": [
        "import warnings\n",
        "warnings.filterwarnings(\"ignore\",category=DeprecationWarning)\n",
        "np.random.seed(42)"
      ],
      "execution_count": 4,
      "outputs": []
    },
    {
      "cell_type": "code",
      "metadata": {
        "id": "VpH0JT1s1OOS",
        "colab_type": "code",
        "colab": {}
      },
      "source": [
        "stop_words = stopwords.words('english')\n",
        "stop_words.extend(['from', 'subject', 're', 'edu', 'use'])\n",
        "\n",
        "nlp = spacy.load('en', disable=['parser', 'ner'])"
      ],
      "execution_count": 5,
      "outputs": []
    },
    {
      "cell_type": "markdown",
      "metadata": {
        "id": "u1iXsMyova6z",
        "colab_type": "text"
      },
      "source": [
        "### 20 Newsgroup Dataset"
      ]
    },
    {
      "cell_type": "code",
      "metadata": {
        "id": "3w6tncKm1eoH",
        "colab_type": "code",
        "colab": {
          "base_uri": "https://localhost:8080/",
          "height": 198
        },
        "outputId": "42cb21f7-9213-4247-d4f1-7cf9af71dc3d"
      },
      "source": [
        "df = pd.read_json('https://raw.githubusercontent.com/selva86/datasets/master/newsgroups.json')\n",
        "df.head()"
      ],
      "execution_count": 6,
      "outputs": [
        {
          "output_type": "execute_result",
          "data": {
            "text/html": [
              "<div>\n",
              "<style scoped>\n",
              "    .dataframe tbody tr th:only-of-type {\n",
              "        vertical-align: middle;\n",
              "    }\n",
              "\n",
              "    .dataframe tbody tr th {\n",
              "        vertical-align: top;\n",
              "    }\n",
              "\n",
              "    .dataframe thead th {\n",
              "        text-align: right;\n",
              "    }\n",
              "</style>\n",
              "<table border=\"1\" class=\"dataframe\">\n",
              "  <thead>\n",
              "    <tr style=\"text-align: right;\">\n",
              "      <th></th>\n",
              "      <th>content</th>\n",
              "      <th>target</th>\n",
              "      <th>target_names</th>\n",
              "    </tr>\n",
              "  </thead>\n",
              "  <tbody>\n",
              "    <tr>\n",
              "      <th>0</th>\n",
              "      <td>From: lerxst@wam.umd.edu (where's my thing)\\nS...</td>\n",
              "      <td>7</td>\n",
              "      <td>rec.autos</td>\n",
              "    </tr>\n",
              "    <tr>\n",
              "      <th>1</th>\n",
              "      <td>From: guykuo@carson.u.washington.edu (Guy Kuo)...</td>\n",
              "      <td>4</td>\n",
              "      <td>comp.sys.mac.hardware</td>\n",
              "    </tr>\n",
              "    <tr>\n",
              "      <th>2</th>\n",
              "      <td>From: twillis@ec.ecn.purdue.edu (Thomas E Will...</td>\n",
              "      <td>4</td>\n",
              "      <td>comp.sys.mac.hardware</td>\n",
              "    </tr>\n",
              "    <tr>\n",
              "      <th>3</th>\n",
              "      <td>From: jgreen@amber (Joe Green)\\nSubject: Re: W...</td>\n",
              "      <td>1</td>\n",
              "      <td>comp.graphics</td>\n",
              "    </tr>\n",
              "    <tr>\n",
              "      <th>4</th>\n",
              "      <td>From: jcm@head-cfa.harvard.edu (Jonathan McDow...</td>\n",
              "      <td>14</td>\n",
              "      <td>sci.space</td>\n",
              "    </tr>\n",
              "  </tbody>\n",
              "</table>\n",
              "</div>"
            ],
            "text/plain": [
              "                                             content  ...           target_names\n",
              "0  From: lerxst@wam.umd.edu (where's my thing)\\nS...  ...              rec.autos\n",
              "1  From: guykuo@carson.u.washington.edu (Guy Kuo)...  ...  comp.sys.mac.hardware\n",
              "2  From: twillis@ec.ecn.purdue.edu (Thomas E Will...  ...  comp.sys.mac.hardware\n",
              "3  From: jgreen@amber (Joe Green)\\nSubject: Re: W...  ...          comp.graphics\n",
              "4  From: jcm@head-cfa.harvard.edu (Jonathan McDow...  ...              sci.space\n",
              "\n",
              "[5 rows x 3 columns]"
            ]
          },
          "metadata": {
            "tags": []
          },
          "execution_count": 6
        }
      ]
    },
    {
      "cell_type": "code",
      "metadata": {
        "id": "6WQgwR6j28BA",
        "colab_type": "code",
        "colab": {
          "base_uri": "https://localhost:8080/",
          "height": 138
        },
        "outputId": "ca6c2504-5f67-427b-ba64-dea0826ad4c2"
      },
      "source": [
        "df.target_names.unique()"
      ],
      "execution_count": 7,
      "outputs": [
        {
          "output_type": "execute_result",
          "data": {
            "text/plain": [
              "array(['rec.autos', 'comp.sys.mac.hardware', 'comp.graphics', 'sci.space',\n",
              "       'talk.politics.guns', 'sci.med', 'comp.sys.ibm.pc.hardware',\n",
              "       'comp.os.ms-windows.misc', 'rec.motorcycles', 'talk.religion.misc',\n",
              "       'misc.forsale', 'alt.atheism', 'sci.electronics', 'comp.windows.x',\n",
              "       'rec.sport.hockey', 'rec.sport.baseball', 'soc.religion.christian',\n",
              "       'talk.politics.mideast', 'talk.politics.misc', 'sci.crypt'],\n",
              "      dtype=object)"
            ]
          },
          "metadata": {
            "tags": []
          },
          "execution_count": 7
        }
      ]
    },
    {
      "cell_type": "code",
      "metadata": {
        "id": "Nft-m9eY2_dF",
        "colab_type": "code",
        "colab": {
          "base_uri": "https://localhost:8080/",
          "height": 35
        },
        "outputId": "da8552d3-8d74-4c5e-e06b-cf9212a20501"
      },
      "source": [
        "len(df)"
      ],
      "execution_count": 8,
      "outputs": [
        {
          "output_type": "execute_result",
          "data": {
            "text/plain": [
              "11314"
            ]
          },
          "metadata": {
            "tags": []
          },
          "execution_count": 8
        }
      ]
    },
    {
      "cell_type": "code",
      "metadata": {
        "id": "s4k1wUlC3AqO",
        "colab_type": "code",
        "colab": {
          "base_uri": "https://localhost:8080/",
          "height": 267
        },
        "outputId": "83ec170d-fc41-4c02-db80-f871b077b610"
      },
      "source": [
        "plt.figure(figsize=(20, 5))\n",
        "sns.countplot(df.target_names.values)"
      ],
      "execution_count": null,
      "outputs": [
        {
          "output_type": "execute_result",
          "data": {
            "text/plain": [
              "<matplotlib.axes._subplots.AxesSubplot at 0x7f6d49ccb9b0>"
            ]
          },
          "metadata": {
            "tags": []
          },
          "execution_count": 42
        },
        {
          "output_type": "display_data",
          "data": {
            "image/png": "[encoded data removed]",
            "text/plain": [
              "<Figure size 1440x360 with 1 Axes>"
            ]
          },
          "metadata": {
            "tags": [],
            "needs_background": "light"
          }
        }
      ]
    },
    {
      "cell_type": "code",
      "metadata": {
        "id": "rVwruQNI-o0Z",
        "colab_type": "code",
        "colab": {}
      },
      "source": [
        "data = df.content.values"
      ],
      "execution_count": 9,
      "outputs": []
    },
    {
      "cell_type": "markdown",
      "metadata": {
        "id": "CbjTL26Jvgt2",
        "colab_type": "text"
      },
      "source": [
        "### Tokenization"
      ]
    },
    {
      "cell_type": "code",
      "metadata": {
        "id": "HutTZn6U3MUg",
        "colab_type": "code",
        "colab": {}
      },
      "source": [
        "def sentence_to_tokens(sent):\n",
        "    # remove emails\n",
        "    sent = re.sub(r'\\S*@\\S*\\s?', '', sent)\n",
        "    # remove newline chars\n",
        "    sent = re.sub(r'\\s+', ' ', sent)\n",
        "    # remove single quotes\n",
        "    sent = re.sub(r\"\\'\", \"\", sent)\n",
        "    # converts to lower case tokens and removes tokens that are\n",
        "    # too small & too long. Also remove accent characters & punct\n",
        "    tokens = simple_preprocess(str(sent), deacc=True)\n",
        "    return tokens"
      ],
      "execution_count": 10,
      "outputs": []
    },
    {
      "cell_type": "code",
      "metadata": {
        "id": "AbsulGID-VGW",
        "colab_type": "code",
        "colab": {
          "base_uri": "https://localhost:8080/",
          "height": 52
        },
        "outputId": "0c12e36a-e582-4cbd-ab23-07c6ee13edf3"
      },
      "source": [
        "%%time\n",
        "tokenized_data = [sentence_to_tokens(doc) for doc in data]"
      ],
      "execution_count": 11,
      "outputs": [
        {
          "output_type": "stream",
          "text": [
            "CPU times: user 8.94 s, sys: 223 ms, total: 9.16 s\n",
            "Wall time: 9.17 s\n"
          ],
          "name": "stdout"
        }
      ]
    },
    {
      "cell_type": "code",
      "metadata": {
        "id": "ul_QYi4G-nDe",
        "colab_type": "code",
        "colab": {
          "base_uri": "https://localhost:8080/",
          "height": 1000
        },
        "outputId": "5bd4bfea-0a9b-43af-f2c5-61af901c4eb2"
      },
      "source": [
        "tokenized_data[0]"
      ],
      "execution_count": 12,
      "outputs": [
        {
          "output_type": "execute_result",
          "data": {
            "text/plain": [
              "['from',\n",
              " 'wheres',\n",
              " 'my',\n",
              " 'thing',\n",
              " 'subject',\n",
              " 'what',\n",
              " 'car',\n",
              " 'is',\n",
              " 'this',\n",
              " 'nntp',\n",
              " 'posting',\n",
              " 'host',\n",
              " 'rac',\n",
              " 'wam',\n",
              " 'umd',\n",
              " 'edu',\n",
              " 'organization',\n",
              " 'university',\n",
              " 'of',\n",
              " 'maryland',\n",
              " 'college',\n",
              " 'park',\n",
              " 'lines',\n",
              " 'was',\n",
              " 'wondering',\n",
              " 'if',\n",
              " 'anyone',\n",
              " 'out',\n",
              " 'there',\n",
              " 'could',\n",
              " 'enlighten',\n",
              " 'me',\n",
              " 'on',\n",
              " 'this',\n",
              " 'car',\n",
              " 'saw',\n",
              " 'the',\n",
              " 'other',\n",
              " 'day',\n",
              " 'it',\n",
              " 'was',\n",
              " 'door',\n",
              " 'sports',\n",
              " 'car',\n",
              " 'looked',\n",
              " 'to',\n",
              " 'be',\n",
              " 'from',\n",
              " 'the',\n",
              " 'late',\n",
              " 'early',\n",
              " 'it',\n",
              " 'was',\n",
              " 'called',\n",
              " 'bricklin',\n",
              " 'the',\n",
              " 'doors',\n",
              " 'were',\n",
              " 'really',\n",
              " 'small',\n",
              " 'in',\n",
              " 'addition',\n",
              " 'the',\n",
              " 'front',\n",
              " 'bumper',\n",
              " 'was',\n",
              " 'separate',\n",
              " 'from',\n",
              " 'the',\n",
              " 'rest',\n",
              " 'of',\n",
              " 'the',\n",
              " 'body',\n",
              " 'this',\n",
              " 'is',\n",
              " 'all',\n",
              " 'know',\n",
              " 'if',\n",
              " 'anyone',\n",
              " 'can',\n",
              " 'tellme',\n",
              " 'model',\n",
              " 'name',\n",
              " 'engine',\n",
              " 'specs',\n",
              " 'years',\n",
              " 'of',\n",
              " 'production',\n",
              " 'where',\n",
              " 'this',\n",
              " 'car',\n",
              " 'is',\n",
              " 'made',\n",
              " 'history',\n",
              " 'or',\n",
              " 'whatever',\n",
              " 'info',\n",
              " 'you',\n",
              " 'have',\n",
              " 'on',\n",
              " 'this',\n",
              " 'funky',\n",
              " 'looking',\n",
              " 'car',\n",
              " 'please',\n",
              " 'mail',\n",
              " 'thanks',\n",
              " 'il',\n",
              " 'brought',\n",
              " 'to',\n",
              " 'you',\n",
              " 'by',\n",
              " 'your',\n",
              " 'neighborhood',\n",
              " 'lerxst']"
            ]
          },
          "metadata": {
            "tags": []
          },
          "execution_count": 12
        }
      ]
    },
    {
      "cell_type": "markdown",
      "metadata": {
        "id": "OqwicbDCvklY",
        "colab_type": "text"
      },
      "source": [
        "### Pre-processing"
      ]
    },
    {
      "cell_type": "code",
      "metadata": {
        "id": "l2vXk4N1_N1j",
        "colab_type": "code",
        "colab": {
          "base_uri": "https://localhost:8080/",
          "height": 52
        },
        "outputId": "b4e00cf0-51d8-4704-ca1f-c35ee8c2cac3"
      },
      "source": [
        "%%time\n",
        "# create bigrams from the tokenized data\n",
        "bigram = gensim.models.Phrases(tokenized_data, threshold=50)\n",
        "# make a bigram model\n",
        "bigram_mod = gensim.models.phrases.Phraser(bigram)"
      ],
      "execution_count": 13,
      "outputs": [
        {
          "output_type": "stream",
          "text": [
            "CPU times: user 14 s, sys: 129 ms, total: 14.1 s\n",
            "Wall time: 14.1 s\n"
          ],
          "name": "stdout"
        }
      ]
    },
    {
      "cell_type": "code",
      "metadata": {
        "id": "MZys9iXU_sgH",
        "colab_type": "code",
        "colab": {}
      },
      "source": [
        "def process_words(texts, allowed_postags=[\"NOUN\", \"ADJ\", \"VERB\", \"ADV\"]):\n",
        "    # remove stopwords\n",
        "    stop_free = [[word for word in doc if word not in stop_words] for doc in texts]\n",
        "    # bigrams\n",
        "    bigram_data = [bigram_mod[doc] for doc in stop_free]\n",
        "\n",
        "    texts_out = []\n",
        "    for sent in bigram_data:\n",
        "        doc = nlp(\" \".join(sent))\n",
        "        texts_out.append([token.lemma_ for token in doc if token.pos_ in allowed_postags])\n",
        "    # remove stopwords\n",
        "    texts_out = [[word for word in simple_preprocess(str(doc)) if word not in stop_words] for doc in texts_out]  \n",
        "    # join words into sentence in-order to make it useful to tfidf processing\n",
        "    texts_out = [\" \".join(words) for words in texts_out]\n",
        "    return texts_out"
      ],
      "execution_count": 20,
      "outputs": []
    },
    {
      "cell_type": "code",
      "metadata": {
        "id": "TEWQcb0eBCn4",
        "colab_type": "code",
        "colab": {
          "base_uri": "https://localhost:8080/",
          "height": 52
        },
        "outputId": "86f97c2a-86da-4bb7-94b7-888b38598a58"
      },
      "source": [
        "%%time\n",
        "processed_data = process_words(tokenized_data)"
      ],
      "execution_count": 21,
      "outputs": [
        {
          "output_type": "stream",
          "text": [
            "CPU times: user 1min 39s, sys: 1.66 s, total: 1min 41s\n",
            "Wall time: 1min 41s\n"
          ],
          "name": "stdout"
        }
      ]
    },
    {
      "cell_type": "code",
      "metadata": {
        "id": "QsQB-5mXBGCt",
        "colab_type": "code",
        "colab": {
          "base_uri": "https://localhost:8080/",
          "height": 53
        },
        "outputId": "7ab1232c-e4c0-45f9-a6e7-6c42996a2be2"
      },
      "source": [
        "processed_data[0]"
      ],
      "execution_count": 22,
      "outputs": [
        {
          "output_type": "execute_result",
          "data": {
            "application/vnd.google.colaboratory.intrinsic": {
              "type": "string"
            },
            "text/plain": [
              "'thing car nntp_posting host_rac park line wonder could enlighten car see day door look late early call bricklin door really small addition separate rest body know tellme model name engine year production car make history info funky look car mail thank bring neighborhood lerxst'"
            ]
          },
          "metadata": {
            "tags": []
          },
          "execution_count": 22
        }
      ]
    },
    {
      "cell_type": "markdown",
      "metadata": {
        "id": "zeZZoSDFvokV",
        "colab_type": "text"
      },
      "source": [
        "### Tfidf"
      ]
    },
    {
      "cell_type": "code",
      "metadata": {
        "id": "X9UK98lSBkPI",
        "colab_type": "code",
        "colab": {}
      },
      "source": [
        "tfidf = TfidfVectorizer(analyzer='word', min_df=10, stop_words='english', lowercase=True, token_pattern='[a-zA-Z0-9]{3,}')\n",
        "\n",
        "data_vectorized = tfidf.fit_transform(processed_data)"
      ],
      "execution_count": 83,
      "outputs": []
    },
    {
      "cell_type": "markdown",
      "metadata": {
        "id": "WiwgnPAlvrua",
        "colab_type": "text"
      },
      "source": [
        "### LDA Model"
      ]
    },
    {
      "cell_type": "code",
      "metadata": {
        "id": "mFMwzamCB7Vj",
        "colab_type": "code",
        "colab": {
          "base_uri": "https://localhost:8080/",
          "height": 52
        },
        "outputId": "e9dc7883-9e5f-47f2-b980-ad98c41b95ce"
      },
      "source": [
        "%%time\n",
        "lda_model = LatentDirichletAllocation(\n",
        "    n_components=20,\n",
        "    max_iter=10,\n",
        "    n_jobs=-1,\n",
        "    random_state=42\n",
        ")\n",
        "\n",
        "lda_output = lda_model.fit_transform(data_vectorized)"
      ],
      "execution_count": 84,
      "outputs": [
        {
          "output_type": "stream",
          "text": [
            "CPU times: user 1.31 s, sys: 252 ms, total: 1.57 s\n",
            "Wall time: 43.6 s\n"
          ],
          "name": "stdout"
        }
      ]
    },
    {
      "cell_type": "code",
      "metadata": {
        "id": "j4PbmHUpOiqU",
        "colab_type": "code",
        "colab": {
          "base_uri": "https://localhost:8080/",
          "height": 52
        },
        "outputId": "c742d265-417e-4e69-bcda-6d7fd832abbe"
      },
      "source": [
        "# higher the better\n",
        "print(f\"Log Likelihood: {lda_model.score(data_vectorized)}\")\n",
        "\n",
        "# lower the better\n",
        "print(f\"preplexity: {lda_model.perplexity(data_vectorized)}\")"
      ],
      "execution_count": 85,
      "outputs": [
        {
          "output_type": "stream",
          "text": [
            "Log Likelihood: -614818.8527289848\n",
            "preplexity: 17764.162720178756\n"
          ],
          "name": "stdout"
        }
      ]
    },
    {
      "cell_type": "markdown",
      "metadata": {
        "id": "2U2i_IXkXDV4",
        "colab_type": "text"
      },
      "source": [
        "### Grid Search"
      ]
    },
    {
      "cell_type": "code",
      "metadata": {
        "id": "6k5Tr9aKXE0j",
        "colab_type": "code",
        "colab": {}
      },
      "source": [
        "search_params = {\n",
        "    \"n_components\": [10, 15, 20, 25],\n",
        "    \"learning_decay\": [.5, .7, .9]\n",
        "}"
      ],
      "execution_count": 86,
      "outputs": []
    },
    {
      "cell_type": "code",
      "metadata": {
        "id": "EiHatGr5XPue",
        "colab_type": "code",
        "colab": {
          "base_uri": "https://localhost:8080/",
          "height": 52
        },
        "outputId": "6c12d60b-0432-4850-9b69-7d0721f0f69e"
      },
      "source": [
        "%%time\n",
        "\n",
        "lda = LatentDirichletAllocation()\n",
        "\n",
        "model = GridSearchCV(lda, param_grid=search_params)\n",
        "\n",
        "model.fit(data_vectorized)"
      ],
      "execution_count": 87,
      "outputs": [
        {
          "output_type": "stream",
          "text": [
            "CPU times: user 30min 9s, sys: 15min 35s, total: 45min 44s\n",
            "Wall time: 27min 3s\n"
          ],
          "name": "stdout"
        }
      ]
    },
    {
      "cell_type": "markdown",
      "metadata": {
        "id": "P8uy7cpMXuFx",
        "colab_type": "text"
      },
      "source": [
        "### Best LDA Model"
      ]
    },
    {
      "cell_type": "code",
      "metadata": {
        "id": "5IRuz8_vXwAR",
        "colab_type": "code",
        "colab": {
          "base_uri": "https://localhost:8080/",
          "height": 52
        },
        "outputId": "24b56e13-56b4-4b8a-c792-47b65350c874"
      },
      "source": [
        "best_lda_model = model.best_estimator_\n",
        "\n",
        "print(f\"Best Log likelihood Score: {model.best_score_}\")\n",
        "\n",
        "print(f\"Best Perplexity: {best_lda_model.perplexity(data_vectorized)}\")"
      ],
      "execution_count": 112,
      "outputs": [
        {
          "output_type": "stream",
          "text": [
            "Best Log likelihood Score: -134938.04082723527\n",
            "Best Perplexity: 9366.99450246799\n"
          ],
          "name": "stdout"
        }
      ]
    },
    {
      "cell_type": "code",
      "metadata": {
        "id": "N5Wa_AB-YC0w",
        "colab_type": "code",
        "colab": {
          "base_uri": "https://localhost:8080/",
          "height": 35
        },
        "outputId": "d0f5087d-30c9-4dd6-8840-d6a3abf000df"
      },
      "source": [
        "model.best_params_"
      ],
      "execution_count": 113,
      "outputs": [
        {
          "output_type": "execute_result",
          "data": {
            "text/plain": [
              "{'learning_decay': 0.9, 'n_components': 10}"
            ]
          },
          "metadata": {
            "tags": []
          },
          "execution_count": 113
        }
      ]
    },
    {
      "cell_type": "markdown",
      "metadata": {
        "id": "SnJ6huiCvweu",
        "colab_type": "text"
      },
      "source": [
        "### Visualization of Topics"
      ]
    },
    {
      "cell_type": "code",
      "metadata": {
        "id": "2B2pBxTrIoRG",
        "colab_type": "code",
        "colab": {
          "base_uri": "https://localhost:8080/",
          "height": 862
        },
        "outputId": "0ba1b4ef-a68b-4897-eaf4-8cf65a4abcfa"
      },
      "source": [
        "# Visualize the topics\n",
        "pyLDAvis.enable_notebook()\n",
        "vis = pyLDAvis.sklearn.prepare(best_lda_model, data_vectorized, tfidf, mds='tsne')\n",
        "vis"
      ],
      "execution_count": 91,
      "outputs": [
        {
          "output_type": "execute_result",
          "data": {
            "text/html": [
              "\n",
              "<link rel=\"stylesheet\" type=\"text/css\" href=\"https://cdn.rawgit.com/bmabey/pyLDAvis/files/ldavis.v1.0.0.css\">\n",
              "\n",
              "\n",
              "<div id=\"ldavis_el1201398987046530727806513658\"></div>\n",
              "<script type=\"text/javascript\">\n",
              "\n",
              "var ldavis_el1201398987046530727806513658_data = {\"mdsDat\": {\"x\": [32.42095184326172, 0.648955225944519, 71.01968383789062, 3.7859814167022705, -42.666500091552734, -3.6216893196105957, -3.632401704788208, -36.58440017700195, 44.391380310058594, 40.235809326171875], \"y\": [8.115229606628418, 71.70709991455078, 9.971006393432617, 33.18513488769531, -9.22206974029541, -43.52651596069336, -4.171707630157471, 35.804412841796875, 50.61538314819336, -31.591665267944336], \"topics\": [1, 2, 3, 4, 5, 6, 7, 8, 9, 10], \"cluster\": [1, 1, 1, 1, 1, 1, 1, 1, 1, 1], \"Freq\": [21.224661842004384, 20.22191458057119, 19.92931111047423, 19.599572246424625, 5.666369350047946, 4.175068989708085, 4.048839966754615, 1.7345508931220104, 1.7317704942155534, 1.667940526677357]}, \"tinfo\": {\"Term\": [\"key\", \"sale\", \"window\", \"game\", \"chip\", \"team\", \"clipper\", \"car\", \"line\", \"file\", \"win\", \"thank\", \"government\", \"encryption\", \"player\", \"phone\", \"bike\", \"offer\", \"card\", \"drive\", \"baseball\", \"run\", \"trade\", \"sell\", \"lose\", \"hit\", \"host\", \"driver\", \"software\", \"season\", \"scsi\", \"font\", \"motif\", \"meg\", \"directory\", \"widget\", \"icon\", \"mouse\", \"window\", \"screen\", \"gateway\", \"motherboard\", \"floppy\", \"ide\", \"vga\", \"fpu\", \"animation\", \"interface\", \"format\", \"client\", \"lciii\", \"processor\", \"download\", \"polygon\", \"graphic\", \"postscript\", \"cpu\", \"shareware\", \"desktop\", \"port\", \"disk\", \"controller\", \"file\", \"server\", \"software\", \"upgrade\", \"card\", \"video\", \"monitor\", \"color\", \"ram\", \"printer\", \"display\", \"memory\", \"version\", \"driver\", \"package\", \"application\", \"program\", \"machine\", \"apple\", \"thank\", \"image\", \"advance\", \"drive\", \"help\", \"problem\", \"mail\", \"computer\", \"run\", \"line\", \"need\", \"host\", \"work\", \"know\", \"look\", \"try\", \"write\", \"want\", \"bit\", \"nntp\", \"article\", \"sin\", \"atheist\", \"religion\", \"scripture\", \"church\", \"belief\", \"atheism\", \"morality\", \"marriage\", \"christian\", \"god\", \"worship\", \"christianity\", \"teaching\", \"revelation\", \"resurrection\", \"biblical\", \"islamic\", \"catholic\", \"interpretation\", \"salvation\", \"believer\", \"doctrine\", \"theist\", \"prayer\", \"faith\", \"racist\", \"marry\", \"reject\", \"arrogance\", \"religious\", \"moral\", \"existence\", \"objective\", \"truth\", \"evidence\", \"argument\", \"human\", \"law\", \"statement\", \"believe\", \"claim\", \"people\", \"word\", \"jewish\", \"say\", \"life\", \"exist\", \"true\", \"accept\", \"mean\", \"fact\", \"think\", \"write\", \"right\", \"reason\", \"article\", \"make\", \"know\", \"state\", \"question\", \"group\", \"thing\", \"line\", \"time\", \"man\", \"come\", \"organization\", \"read\", \"way\", \"bike\", \"armenian\", \"motorcycle\", \"rider\", \"ride\", \"turkish\", \"mph\", \"batf\", \"tire\", \"brake\", \"weapon\", \"village\", \"survivor\", \"lebanese\", \"biker\", \"civilian\", \"gang\", \"accident\", \"passenger\", \"officer\", \"serdar\", \"argic\", \"highway\", \"saturn\", \"helmet\", \"stove\", \"dod\", \"troop\", \"convertible\", \"lane\", \"car\", \"gun\", \"compound\", \"engine\", \"soldier\", \"road\", \"cop\", \"mile\", \"kill\", \"insurance\", \"dog\", \"rear\", \"shoot\", \"dealer\", \"arm\", \"article\", \"write\", \"attack\", \"people\", \"say\", \"light\", \"thing\", \"think\", \"make\", \"right\", \"time\", \"line\", \"child\", \"happen\", \"know\", \"good\", \"want\", \"year\", \"organization\", \"drive\", \"leave\", \"way\", \"day\", \"government\", \"come\", \"look\", \"host\", \"really\", \"hockey\", \"playoff\", \"espn\", \"spacecraft\", \"penguin\", \"pen\", \"diet\", \"shuttle\", \"chastity\", \"islander\", \"shameful\", \"shark\", \"satellite\", \"bruin\", \"player\", \"lunar\", \"msg\", \"moon\", \"golf\", \"gordon\", \"intellect\", \"puck\", \"ice\", \"goalie\", \"pool\", \"senator\", \"mission\", \"nhl\", \"funding\", \"launch\", \"leafs\", \"team\", \"coach\", \"devil\", \"play\", \"orbit\", \"game\", \"season\", \"food\", \"score\", \"stat\", \"goal\", \"space\", \"wing\", \"year\", \"doctor\", \"fan\", \"baseball\", \"disease\", \"write\", \"good\", \"article\", \"line\", \"science\", \"think\", \"host\", \"know\", \"cost\", \"time\", \"win\", \"make\", \"organization\", \"say\", \"look\", \"come\", \"nntp\", \"hear\", \"lot\", \"post\", \"reply\", \"want\", \"thank\", \"work\", \"people\", \"really\", \"encryption\", \"clipper\", \"encrypt\", \"escrow\", \"wiretap\", \"rsa\", \"patent\", \"cryptography\", \"tap\", \"crypto\", \"pgp\", \"gehrel\", \"privacy\", \"cipher\", \"cryptosystem\", \"countersteere\", \"cellular\", \"nist\", \"classify\", \"secure\", \"ham\", \"escrowe\", \"den\", \"mykotronx\", \"decrypt\", \"observatory\", \"skipjack\", \"ciphertext\", \"trader\", \"agn\", \"key\", \"eff\", \"comet\", \"announcement\", \"security\", \"secret\", \"algorithm\", \"chip\", \"proposal\", \"trust\", \"phone\", \"agency\", \"government\", \"warrant\", \"communication\", \"public\", \"device\", \"private\", \"number\", \"bit\", \"write\", \"line\", \"organization\", \"point\", \"make\", \"code\", \"message\", \"article\", \"information\", \"amp\", \"volt\", \"syqu\", \"voltage\", \"stereo\", \"pinout\", \"obo\", \"ohm\", \"transformer\", \"amplifier\", \"wizard\", \"eos\", \"impedance\", \"redraw\", \"circuitry\", \"forsale\", \"wingate\", \"ultrix\", \"capacitor\", \"coil\", \"bis\", \"views\", \"diode\", \"expresse\", \"gxxor\", \"texture\", \"meddle\", \"inputs\", \"hood\", \"afair\", \"dsp\", \"audio\", \"analog\", \"relay\", \"speaker\", \"sale\", \"battery\", \"wiring\", \"shipping\", \"signal\", \"wire\", \"circuit\", \"input\", \"output\", \"channel\", \"offer\", \"noise\", \"cable\", \"band\", \"oil\", \"ground\", \"sell\", \"box\", \"line\", \"power\", \"current\", \"sound\", \"manual\", \"interested\", \"price\", \"unit\", \"thank\", \"include\", \"host\", \"build\", \"need\", \"make\", \"high\", \"cardinal\", \"lyme\", \"rbi\", \"yeast\", \"alomar\", \"hitter\", \"oriole\", \"phillie\", \"mining\", \"runs\", \"oral\", \"promiscuous\", \"quack\", \"dodger\", \"rbis\", \"sinus\", \"heterosexual\", \"pitching\", \"edward\", \"candida\", \"padre\", \"wate\", \"jay\", \"rockie\", \"fractal\", \"gay\", \"sherri\", \"nichol\", \"obp\", \"sunrise\", \"prophecy\", \"offense\", \"pitcher\", \"cub\", \"loser\", \"dyer\", \"batting\", \"met\", \"pitch\", \"homosexual\", \"baseball\", \"talent\", \"win\", \"brave\", \"lose\", \"game\", \"hit\", \"tiger\", \"team\", \"fan\", \"sexual\", \"score\", \"season\", \"write\", \"line\", \"article\", \"week\", \"run\", \"man\", \"year\", \"good\", \"host\", \"think\", \"organization\", \"say\", \"captain\", \"wheelie\", \"bake\", \"outbreak\", \"mercury\", \"micro\", \"wallpaper\", \"ini\", \"allocation\", \"pds\", \"logo\", \"uniform\", \"denning\", \"retard\", \"theres\", \"bmp\", \"emergence\", \"norton\", \"loan\", \"eugenic\", \"resume\", \"heh\", \"invert\", \"hypothesize\", \"rusnews\", \"oft\", \"shaft\", \"stripe\", \"snake\", \"boast\", \"consulting\", \"sudbury\", \"trade\", \"hal\", \"whaler\", \"vinyl\", \"lsd\", \"bobby\", \"derek\", \"cocaine\", \"popup\", \"mozumder\", \"thigh\", \"diff\", \"reporting\", \"nickname\", \"thruster\", \"squid\", \"ointment\", \"narrative\", \"instinctive\", \"coreldraw\", \"tread\", \"dale\", \"dominance\", \"ghost\", \"lens\", \"cigarette\", \"trunk\", \"hughe\", \"ocean\", \"copper\", \"tad\", \"sysop\", \"secretary\", \"prism\", \"accurately\", \"gatech\", \"mom\", \"blind\", \"storm\", \"needle\", \"jagr\", \"abstinence\", \"kermit\", \"manuscript\", \"pregnancy\", \"passion\", \"parish\", \"masse\", \"palm\", \"qwk\", \"illiterate\", \"chant\", \"molitor\", \"andrew\", \"frog\", \"obesity\", \"gripe\", \"ala\", \"vertex\", \"faculty\", \"embarrassed\", \"weary\", \"ascension\", \"subsidiary\", \"dope\", \"tobias\", \"changer\", \"substitution\", \"copyright\", \"activate\", \"birthday\", \"donation\", \"substantiate\", \"greeting\", \"participation\", \"cent\", \"glutamate\"], \"Freq\": [87.0, 76.0, 126.0, 98.0, 74.0, 80.0, 41.0, 105.0, 336.0, 110.0, 64.0, 172.0, 79.0, 32.0, 69.0, 60.0, 61.0, 54.0, 95.0, 111.0, 35.0, 113.0, 33.0, 69.0, 49.0, 46.0, 183.0, 78.0, 73.0, 39.0, 35.41139288897767, 26.756407403669904, 24.791067033319138, 21.117776594924173, 18.819918262944952, 14.750999235166057, 14.235740949648116, 26.525163989591192, 118.35526738774742, 39.475752570483166, 13.882590213034401, 11.802709145094406, 11.732292624319532, 13.077564780845128, 11.487498631421865, 12.204211586644925, 11.909717969295277, 16.32419104607907, 32.25723575589422, 18.11439736448646, 10.06374622594804, 13.051299538679894, 10.04460124178564, 11.057850506281248, 42.925815270966034, 9.843414007853355, 13.583072954799228, 9.365454272180918, 10.401253778882799, 25.32771440158319, 48.51928530768343, 16.84441651487601, 95.40844064364917, 35.47031745142385, 62.470916382206475, 20.23904774261503, 80.63121253144547, 37.75741261701287, 47.26082047448713, 46.43749181677291, 19.783121789485026, 26.472885395542303, 39.22141974544727, 42.394344836936355, 50.10057752754315, 62.39407750845367, 35.2100916615998, 40.22918876157857, 74.25228931511057, 45.88372896563095, 28.17312736648574, 113.89336053598684, 39.9026096453934, 39.27315531850917, 68.40943513456605, 70.79616864300253, 78.00825226071561, 65.04414218322383, 47.47779649353657, 63.7942823378192, 121.21522519101923, 68.76179397248256, 75.1294744372356, 65.5191756695897, 78.89910703570224, 58.55631895632199, 52.2607940431094, 64.17160979195951, 53.09841721681737, 43.81587631623262, 44.19592980942994, 44.78743547269529, 23.0014156057116, 28.601469069532566, 41.70016539121798, 15.573946949155282, 29.6026703439394, 25.49292129508599, 14.199193637620825, 12.636700089875038, 12.332979431112495, 30.83724690096342, 21.468341446451074, 12.073664664418143, 9.824080424971509, 8.589307636073299, 8.452343967550847, 9.338871440124754, 8.359071822509083, 11.489542764778719, 7.631973643381824, 11.736171625118414, 7.001289212542139, 6.822843484165406, 7.443895105467947, 6.726523823112473, 10.577939239728154, 29.612567911157, 6.495041873044506, 9.398542025000456, 10.934429843385173, 6.345211741983385, 20.38361776133971, 22.278977844038018, 15.692400410004117, 18.63864349280328, 28.17642583268704, 32.048500213241745, 29.02337280613918, 27.772267269025946, 43.125347277036646, 23.559734813889474, 55.05704340199777, 37.162940903010764, 85.85124578338451, 35.87538810042044, 23.088764235999307, 82.41290648260431, 31.336082605199216, 28.41681909390501, 34.31700789174048, 23.64313095521983, 39.54733721919506, 32.0625268900605, 58.735392108569805, 75.37214254412665, 40.49072479452966, 30.659126838651407, 55.05289107192288, 46.72092378389345, 49.77613141653807, 32.15512609607607, 36.60020639981389, 32.70409594486368, 36.05389394130352, 43.813419181670405, 34.758716807642216, 30.933711686642745, 33.228103867523615, 32.99394397299405, 31.56957470785161, 30.90723747264144, 59.982051614049304, 20.46008969474026, 21.89976208293196, 13.05812773148671, 34.32892766697753, 18.61154207328968, 10.99485056031449, 11.274303823227884, 14.635627568679405, 11.681318301124561, 26.900251334537714, 11.13890503304002, 10.327166355949705, 7.890600914918857, 7.690012883420121, 12.197259658074431, 7.3122934853444574, 13.96523908153166, 6.335691614838732, 11.992422052897137, 6.118141982935478, 6.114394314166539, 7.164062844126073, 6.905045957609738, 13.803320301118747, 6.003402134204523, 8.390241125097617, 9.359077025118376, 5.738791553802651, 5.593568794100421, 90.49702123279629, 53.60877123182077, 13.086604729234823, 26.80645171029259, 13.005413040024939, 24.202004131013727, 16.29896683709687, 18.63222857302418, 44.22564282200287, 17.480036605938015, 16.77206934834977, 12.065620289484789, 18.662517958732515, 17.724129450183476, 16.41104090338806, 65.67198007846241, 71.04467922399928, 19.873298916464258, 51.18351475267081, 50.82923613789796, 21.154028307539033, 35.73003979248012, 43.55377425356592, 41.97192508399771, 33.83519748118757, 38.64417518318119, 52.31573859702909, 22.478924870250513, 25.28756115533263, 37.56209925561034, 33.80121675341534, 31.814485907239863, 29.60581634423038, 32.3418459641238, 28.43207683286572, 24.195021184490585, 28.051738803339227, 25.25313976758971, 25.265371156158942, 26.950432735800224, 27.055269962605795, 26.96122036192432, 25.74319603862621, 27.32370158041796, 23.204247629403092, 11.767690174671406, 10.365887650629727, 10.070025540494541, 13.721694883787364, 8.565161173429733, 8.678240362854154, 10.96545014861764, 10.40384830367131, 10.873763702473216, 8.071189364054172, 12.537831209896051, 7.821306121206069, 61.66049436247105, 8.320216117213622, 13.189465612619161, 10.418888096265206, 7.093402161494731, 11.58006272321323, 11.169700134440841, 6.217059406319823, 11.333534865594226, 5.708326534682888, 7.247443395598667, 5.211781393669643, 12.971211395820971, 5.078620452700487, 6.255195101989703, 18.24552880971551, 13.571303666526513, 63.999053093836935, 10.096079667857973, 12.349205187257285, 50.85115781201926, 15.51466181070657, 67.9822561422775, 29.046141724727836, 19.4449640620094, 23.953411986809865, 16.959751340689785, 20.291987846976077, 31.977297613087377, 14.741696661836603, 57.397690453178, 17.832600725472023, 22.249798553548104, 21.002564313773032, 13.944411156639529, 67.34406007830404, 47.470926286211395, 58.37626591338195, 68.41297463233305, 23.165686466849674, 46.9338260424171, 43.5123648278131, 47.90000094505491, 24.26961814259713, 40.03917492624714, 24.85147921341756, 37.774221536403736, 35.64850018659618, 37.07308869703951, 31.11506932831871, 28.98364265961729, 28.010596365484588, 25.622900494518216, 25.333655367530035, 26.66933252818265, 26.429112478540624, 27.283421917487868, 27.225486689339835, 26.801048366874355, 27.023859578776758, 25.35038618315011, 31.590209233492523, 38.99710136358746, 16.343173442553965, 14.709730220988249, 8.874062475356132, 7.02958136451367, 7.967913546138962, 7.999499032083897, 16.97556677419357, 5.3538120337086195, 5.297577367528212, 4.953948021190181, 13.148360963360167, 4.215532494377725, 4.147763847531702, 5.1021361472494196, 4.563392011666964, 3.6534123424350713, 6.342385258200063, 16.53612254607927, 3.4381765746895763, 3.3502804144761407, 3.936387313841784, 3.2329690734418124, 3.183361616751128, 3.216429774985102, 3.80167586779177, 3.0132292919520554, 2.9825166483424663, 2.944936110843848, 63.37864583139469, 4.287773880495464, 4.834055468974951, 11.39314239003539, 15.173202267777874, 12.85073873793698, 10.311142727500938, 34.18681377839552, 10.492096308674162, 11.419309813258836, 22.384413941529985, 7.707306657204725, 22.20833405154447, 7.5024140979276295, 8.01439203977876, 12.00068096466026, 10.319759578115494, 8.514778290527703, 12.57030475185382, 11.611181483283003, 16.459027308866638, 15.581039378529132, 11.824755977373819, 10.754374482577111, 11.134246580334404, 8.776489832644538, 9.47658990664902, 10.602003800322784, 9.530136119151274, 9.55548322728813, 7.119462664375575, 6.308506904333461, 11.100552542279216, 7.204876175984712, 4.6502977417606335, 4.539478557028873, 4.451762561733861, 4.725170912411981, 3.970534893943994, 3.332404880418512, 3.3224210086547394, 3.3201620448126556, 2.9798893697107536, 2.885785760058331, 2.6808013732960987, 2.600357565127477, 2.6676167673005047, 5.401279945623688, 2.4602263442303416, 3.3795640866981724, 5.095674212650097, 2.3918744905113316, 4.666749268296866, 2.315868275971033, 2.478536742811683, 2.2437584332575002, 2.2477365269363516, 2.312687486642869, 2.2171267308777436, 3.8767735089922004, 10.754931302124835, 5.676667492435326, 4.240369437927124, 6.982730560934508, 36.75160190435685, 13.039474303858256, 4.07211592851092, 11.371758147979419, 10.577197568920337, 10.168590068132703, 9.041784623726679, 10.065487086762598, 10.592317374960864, 5.932996934785034, 14.748414279952938, 7.189694792817407, 9.1579678583615, 6.1518871673753885, 7.588430878014229, 8.51227157621951, 12.63073440466276, 8.640953635647513, 20.365481064300834, 10.408768930761669, 9.086189193330183, 8.969874497857035, 7.836917884063582, 9.462849756568403, 9.540376686760542, 7.533003951585721, 9.76032759524303, 8.731397903199142, 9.485104754300815, 8.159433147191399, 8.393953843529141, 8.108564809412844, 7.773896562491935, 5.560691922122758, 4.855228201528696, 4.849563676091648, 4.6886161093526635, 4.623484558789419, 7.648224522430651, 4.294555958551658, 9.463646278052678, 4.198133008559539, 4.246956950112478, 3.7179226596428028, 3.8986761553311613, 3.297147447478151, 5.908982502087432, 3.2103213480693267, 3.0616260389221055, 3.9196948668061538, 7.534950516167665, 5.241810443551485, 2.477274561806586, 3.3520328464128846, 2.440562879157427, 2.908188683280468, 6.380743810571099, 3.2140048786628763, 9.003156208983514, 2.249467719098688, 2.1960822576698247, 2.128295056098387, 3.0018658067356707, 5.57759284965993, 8.456504868975042, 8.930682118053111, 7.271108529740523, 4.310936186026202, 4.013626244575457, 3.6597420405302397, 6.238985076735709, 8.800559609450566, 9.232044234101542, 13.059230754616198, 5.599981560702288, 16.804727849332576, 7.063318152007798, 13.707080887220728, 18.08096733377567, 12.065526669850396, 5.041473649047968, 12.948608570465193, 9.358221995694805, 6.005835237338381, 7.866906217793315, 8.271150649140123, 13.959824429881007, 13.660038247650492, 12.184336910746916, 7.8266111782958685, 9.852045923733154, 8.627050867648762, 9.431511068037446, 9.048891922282673, 8.89289323236968, 8.974905795426594, 8.56150606434755, 8.148844640058728, 13.141453366250177, 5.215261915248497, 4.275451080398932, 4.173912604590784, 3.4965477137010357, 3.333321448236988, 5.4437576520986495, 2.7055871623520935, 3.9917037140764977, 2.443103674049939, 5.58736912581891, 9.247102823591671, 2.151922406284885, 4.208843363286994, 2.3281908617881837, 4.540738737518533, 2.21022143300859, 3.098312828041148, 4.199644786356994, 2.240826968343053, 3.2918473612123784, 2.654007757587852, 2.0514112316519624, 1.5179185787565943, 2.2184202051777575, 1.4411539316133486, 5.173428654613231, 2.0682294941724497, 2.063033002010473, 1.0266271494128534, 2.6978268190371364, 2.0316638122121704, 5.683593251730687, 2.06761220021416, 2.0628564821543356, 5.608472919684908, 3.4487351448744206, 3.9121526741697714, 3.1326677758684216, 5.087205002615455, 2.9937548667759963, 3.238974196948509, 2.584571868935223, 3.5902782954621695, 3.671834255325646, 5.735473735404038, 3.1646500807751767, 4.259027582396661, 2.144800884367251, 2.285550992946457, 3.53274342741781, 2.6396382388904485, 2.2893404411722122, 3.3174263094326206, 2.69372010703031, 2.4980017924848665, 2.430784232930703, 4.31503559696065, 3.6094860985094597, 2.3271777858104232, 1.669665523190371, 3.049635653673289, 3.2507755920166646, 1.620205295434769, 1.5667629862450085, 3.501608791965094, 2.2909537763258543, 2.4627774123400576, 3.1301026822544773, 2.6996813535242072, 2.446890336580545, 7.12940073885619, 5.446848370295618, 4.014093509423977, 3.452217620381616, 3.507832679571325, 3.383520166363036, 3.616613657709537, 2.445072987487024, 3.28763969649969, 1.712227009503854, 3.248782024090841, 1.9073174669075075, 2.577128300039622, 2.7078606149670588, 3.386349799407949, 2.3191870688049967, 2.2598474317175534, 2.217727747338544, 2.301847488392806, 2.056365560849205, 2.0588428641708814, 1.5332421465232102, 2.1304183040976223, 1.5499556670083754, 2.2326789715706723, 1.755670448712397, 1.556477488964501, 1.8789167418492774, 1.3491758675394272, 4.735199069358365, 3.504146757069523, 2.7081070673317047, 1.9538497293712924, 1.811182306849427, 2.2886210395684654, 1.8864461011755609, 1.9391788124668723, 1.9106931589840173], \"Total\": [87.0, 76.0, 126.0, 98.0, 74.0, 80.0, 41.0, 105.0, 336.0, 110.0, 64.0, 172.0, 79.0, 32.0, 69.0, 60.0, 61.0, 54.0, 95.0, 111.0, 35.0, 113.0, 33.0, 69.0, 49.0, 46.0, 183.0, 78.0, 73.0, 39.0, 36.50354739215053, 27.77242403370178, 25.91712487597859, 22.18714963435039, 19.912783799702552, 15.672918415491655, 15.16348382265411, 28.319554803674308, 126.72279768155941, 42.34490105528122, 14.942617727120435, 12.721063712503623, 12.650664789759547, 14.114092250484891, 12.405853495719608, 13.215525662336939, 12.926607125463814, 17.718704318810577, 35.037631835675334, 19.765246077059505, 10.98217248224578, 14.243517121858991, 10.966021525475687, 12.083371376168403, 46.90817988852845, 10.763352999418336, 14.902270807573327, 10.283806861011792, 11.451046821268058, 27.966397556023495, 53.576377610341794, 18.660914382228476, 110.81119677617485, 40.06455472683691, 73.08107336753352, 22.59137453333826, 95.61421288840403, 43.8609701106246, 56.2819758849133, 55.235802225851515, 22.177962678391346, 30.48016386462332, 46.82960055997771, 51.25964817077523, 61.60389799051859, 78.47822839874132, 42.08042972161581, 49.16939890706246, 98.85492201359234, 57.78953910238115, 33.13059788398892, 172.19890070540208, 50.81048986814469, 50.95784303136223, 111.18099678643556, 120.91637865175016, 140.71012628564415, 110.37466535427936, 69.4299417192516, 113.782317749475, 336.96494893237906, 145.4923601890138, 183.72697653286284, 150.38158886281133, 234.08264995572725, 141.9658584432971, 126.78001838917257, 313.715434885124, 154.50012952963075, 84.28964225747386, 111.98834869417539, 251.58518955240527, 23.98992870234971, 29.833152703470798, 43.9858723904666, 16.48800729527727, 31.407793518865017, 27.09815458044452, 15.113254688698563, 13.559469197141803, 13.24937248969024, 33.14252229017517, 23.286673895822837, 13.184230759667692, 10.738146128570387, 9.505404201267108, 9.366404375717014, 10.349791038906016, 9.273262740044132, 12.830948207864395, 8.546038853786202, 13.222758584707758, 7.9153627674492375, 7.7370319507998, 8.442324797458873, 7.640583205083072, 12.04926804680621, 33.76448451849311, 7.409186409701411, 10.730301279770948, 12.488587196200912, 7.259269809689987, 23.562301022574932, 25.893429510807017, 18.150114452258336, 21.82784463798594, 33.800142017557405, 40.88788510467275, 37.71184357239989, 39.135517400038424, 68.5700004048748, 33.37414775260876, 100.32547497038478, 61.04723453476548, 189.1491162812972, 62.82923368796957, 34.40927869934741, 214.64123334135664, 56.28240138070377, 49.64424206201354, 67.56302642217958, 38.15115474295382, 94.9218408618623, 65.40328326725897, 198.88410563988307, 313.715434885124, 118.64705314596897, 64.53904572376915, 251.58518955240527, 183.9305639431914, 234.08264995572725, 76.96888694362295, 119.55723134677794, 85.20486556550568, 128.7988688725049, 336.96494893237906, 161.1723171687318, 69.4458883464899, 126.41236170610986, 169.45204393171727, 98.37006632685319, 115.38728686404528, 61.50603536464328, 21.37524034015655, 23.300321641835996, 13.973277444585376, 36.97467254333152, 20.158988228175367, 11.910251845548746, 12.257712071255233, 15.926719301626617, 12.74538297329544, 29.605361068375448, 12.265940705200414, 11.419055830094118, 8.805746515080513, 8.605799108782394, 13.833872944326899, 8.324046516477152, 15.978360681713658, 7.250839398185493, 13.742953666011818, 7.034813292631339, 7.031018414398311, 8.252157022470541, 7.95500936083896, 15.905154754446134, 6.918544689492328, 9.67697380215642, 10.832563187474205, 6.653958963559686, 6.508727058269744, 105.60859733674933, 63.427745835664695, 15.282481490388715, 32.00908142941152, 15.222571946434407, 29.296341552525817, 19.469387039548657, 23.936162461329747, 63.240564737692154, 22.383328978871923, 21.452225627127774, 14.811568522297133, 26.185565366239953, 25.391222242391787, 24.089135304832546, 251.58518955240527, 313.715434885124, 33.79128377317647, 189.1491162812972, 214.64123334135664, 40.13370352779859, 128.7988688725049, 198.88410563988307, 183.9305639431914, 118.64705314596897, 161.1723171687318, 336.96494893237906, 48.7474206881587, 70.00388085950438, 234.08264995572725, 171.63913449997372, 154.50012952963075, 124.35275190129994, 169.45204393171727, 111.18099678643556, 64.59837125762667, 115.38728686404528, 78.83109949561913, 79.005280214055, 126.41236170610986, 141.9658584432971, 183.72697653286284, 102.87252341615071, 28.34273325921254, 24.12142340072072, 12.689695541933638, 11.282907587514531, 10.999403768957233, 15.049321662870137, 9.482246657641872, 9.622165964845275, 12.169462039067389, 11.548777670538719, 12.102296299128755, 8.988242635596931, 13.968955851464576, 8.7407380863382, 69.08654525309049, 9.423878179825042, 15.001356368233502, 11.855431000792858, 8.109492420315876, 13.262743111846273, 12.792916178388586, 7.134068333455714, 13.102334147349373, 6.625317170181904, 8.494418257957502, 6.141218092218361, 15.285279333093879, 5.99563663888408, 7.408100307796627, 21.678906732513965, 16.164846319014785, 80.28043077022454, 12.160280784477111, 15.046198492023573, 69.406011193557, 19.327775714279685, 98.53737955431404, 39.00915370443518, 25.52430306823857, 33.162340193591916, 22.660904912386815, 28.451518539674968, 52.422212587224706, 19.16852585806914, 124.35275190129994, 25.509869131829934, 37.86753864662429, 35.6353392222729, 18.612528198461117, 313.715434885124, 171.63913449997372, 251.58518955240527, 336.96494893237906, 47.823523569692206, 198.88410563988307, 183.72697653286284, 234.08264995572725, 55.320779000068725, 161.1723171687318, 64.65770669573065, 183.9305639431914, 169.45204393171727, 214.64123334135664, 141.9658584432971, 126.41236170610986, 111.98834869417539, 83.10948630737062, 80.92877948588793, 117.42490112389693, 118.22800753419924, 154.50012952963075, 172.19890070540208, 150.38158886281133, 189.1491162812972, 102.87252341615071, 32.939407183772026, 41.00464406537769, 17.25775903142457, 15.623985906300668, 9.78825645644758, 7.943769914758479, 9.05672880372501, 9.125258594022139, 19.809822305792792, 6.268003329916119, 6.214869531130625, 5.86813118938653, 15.714402551484541, 5.129720594570389, 5.061954583636809, 6.338965611252359, 5.682686329809602, 4.567607930505903, 7.969712593023615, 20.843229239881335, 4.35341948719126, 4.264463569912069, 5.046598421517554, 4.147153144916318, 4.09759086421469, 4.164789639278708, 4.935612061588628, 3.9274140535984348, 3.9026007465412613, 3.8591217036067276, 87.18547186896524, 5.674096350511142, 6.5116475559288105, 16.607018908908906, 23.980121833269408, 20.09742463906751, 16.81688780880121, 74.79461968624082, 18.231967935795737, 22.597648095292424, 60.78219562200826, 14.392161590593137, 79.005280214055, 15.336486712121301, 17.885310476359077, 46.87750360046748, 40.10972260040285, 26.24930157143584, 93.0994371743397, 84.28964225747386, 313.715434885124, 336.96494893237906, 169.45204393171727, 99.29077266203133, 183.9305639431914, 33.62532316698795, 67.88788212016631, 251.58518955240527, 86.2076396733439, 10.47215359089433, 8.036599632072408, 7.225219081016387, 12.765667954258408, 8.595661344423199, 5.567576162658073, 5.456152730273162, 5.368651965965206, 5.740992558273953, 4.8872357768645465, 4.259867762234181, 4.278528944659716, 4.319579738653918, 3.8968743152535206, 3.803027912302304, 3.5975818270449396, 3.517074943008814, 3.615088721587908, 7.409139578201329, 3.377063743964751, 4.642866193477114, 7.005483443507752, 3.30854861642536, 6.500303450585436, 3.232565882650557, 3.477149883391988, 3.1609121873107977, 3.166858533993006, 3.2599474124628762, 3.1339197594332533, 5.527910113222562, 16.71936413503079, 8.594269918350609, 6.277147154651616, 11.311086808886687, 76.99610299246702, 23.659266807600446, 6.221677900015226, 22.180470034393014, 20.267818641465507, 20.564692947389137, 17.69471162826825, 22.869192399915434, 27.39361121462994, 11.613020485486054, 54.22703969222893, 16.123218582450342, 26.51954752177664, 12.912513724549894, 21.230939576320274, 27.42320929198757, 69.61030790156086, 31.85149076623544, 336.96494893237906, 66.37446003598217, 45.863332433232735, 46.10253954853158, 29.617239920798877, 59.49415493888941, 66.15928142361517, 27.600085760871067, 172.19890070540208, 83.19365254259067, 183.72697653286284, 54.358433462345445, 145.4923601890138, 183.9305639431914, 64.91092529382817, 6.559155535869595, 5.772228316399023, 5.766542888486454, 5.605619760634624, 5.540465805193305, 9.18914173805827, 5.2115387579453, 11.552247779117188, 5.142680569259203, 5.216812942340666, 4.720397135399592, 4.955820729866547, 4.214627634156625, 7.558553085151107, 4.127471310479111, 3.9788093661103816, 5.131033431884189, 10.115621655978801, 7.121708823786862, 3.394273667481304, 4.593017331826749, 3.357532353960334, 4.026466063695079, 8.91252080835742, 4.490422964318897, 12.602512088896576, 3.166473555511827, 3.1130884898775024, 3.0452756616069867, 4.297429593368614, 8.084639925694301, 12.600040149404789, 14.089738489263038, 11.269199275079504, 6.432309069120783, 5.96729801891816, 5.398515527101127, 10.728676760748705, 17.11842325364394, 19.87360382018166, 35.6353392222729, 10.170705823116828, 64.65770669573065, 15.535641898395912, 49.154052071923864, 98.53737955431404, 46.105160227870904, 8.771325784341263, 80.28043077022454, 37.86753864662429, 13.804820557688355, 33.162340193591916, 39.00915370443518, 313.715434885124, 336.96494893237906, 251.58518955240527, 40.958382256414474, 113.782317749475, 69.4458883464899, 124.35275190129994, 171.63913449997372, 183.72697653286284, 198.88410563988307, 169.45204393171727, 214.64123334135664, 14.896190465901846, 6.0953642317345835, 5.157450979767415, 5.054625738335256, 4.476018409220494, 4.296956201913324, 7.16841971008341, 3.588003965119081, 5.330886464579298, 3.325811512677419, 7.662519095358047, 12.843166258457602, 3.0398732895429355, 5.998005042933562, 3.4045809939718223, 6.730060970977256, 3.294698630216214, 4.689139885890534, 6.389181356478282, 3.532891878438865, 5.537238865258842, 4.693023092480859, 3.6634580990597416, 2.7684355607038684, 4.066032730226653, 2.6911752422504893, 9.84959091755974, 3.9560394045536897, 4.119139769878177, 2.084477486328521, 5.564889210182349, 4.57668236716858, 33.50075296132724, 5.198277574842858, 5.919051827676702, 6.486581308042975, 4.327216445452065, 4.951328366107167, 4.010510709964128, 6.5513976050356035, 3.874109091513899, 4.286678194215497, 3.4651983526274694, 4.876503791932446, 4.995943386901824, 8.03268967845522, 4.470789709257906, 6.018529587211446, 3.065890002991168, 3.2928910302724037, 5.093158017755321, 3.8333826552662287, 3.4109667914131285, 5.071138521412614, 4.138190888418274, 4.057068411067492, 3.9839252517034405, 7.106640440475497, 6.064017569890866, 4.09717163163842, 2.940921867421189, 5.383316046135224, 5.760954095192223, 2.986990843423778, 2.90464810352206, 6.978025329085405, 4.620704153336341, 5.1629074760416085, 8.130199021078756, 9.754144194806647, 7.255844834305213, 8.007969314330655, 6.32311126991065, 4.8905969521707595, 4.497458790642664, 4.730745803867764, 4.753596282785588, 5.188005901315829, 3.6191719256876795, 4.924018680011685, 2.6029854574415308, 4.95536677868438, 2.9550112253861145, 4.205933635319585, 4.486660653884766, 5.61470680085924, 3.8621834920497116, 3.79007509334604, 3.7899141649473442, 3.9460956803614726, 3.5543868321484107, 3.601850260381322, 2.685836818722813, 3.745474506333931, 2.7480920378039744, 3.969518299770115, 3.258125251737867, 2.973985240875562, 3.661624362214151, 2.6562865538968237, 9.465057351639759, 7.056792186298516, 5.946839398996731, 3.981408848907658, 3.7005507070027104, 9.205668455491274, 4.352185613384749, 5.46882892704633, 5.329004662213963], \"Category\": [\"Default\", \"Default\", \"Default\", \"Default\", \"Default\", \"Default\", \"Default\", \"Default\", \"Default\", \"Default\", \"Default\", \"Default\", \"Default\", \"Default\", \"Default\", \"Default\", \"Default\", \"Default\", \"Default\", \"Default\", \"Default\", \"Default\", \"Default\", \"Default\", \"Default\", \"Default\", \"Default\", \"Default\", \"Default\", \"Default\", \"Topic1\", \"Topic1\", \"Topic1\", \"Topic1\", \"Topic1\", \"Topic1\", \"Topic1\", \"Topic1\", \"Topic1\", \"Topic1\", \"Topic1\", \"Topic1\", \"Topic1\", \"Topic1\", \"Topic1\", \"Topic1\", \"Topic1\", \"Topic1\", \"Topic1\", \"Topic1\", \"Topic1\", \"Topic1\", \"Topic1\", \"Topic1\", \"Topic1\", \"Topic1\", \"Topic1\", \"Topic1\", \"Topic1\", \"Topic1\", \"Topic1\", \"Topic1\", \"Topic1\", \"Topic1\", \"Topic1\", \"Topic1\", \"Topic1\", \"Topic1\", \"Topic1\", \"Topic1\", \"Topic1\", \"Topic1\", \"Topic1\", \"Topic1\", \"Topic1\", \"Topic1\", \"Topic1\", \"Topic1\", \"Topic1\", \"Topic1\", \"Topic1\", \"Topic1\", \"Topic1\", \"Topic1\", \"Topic1\", \"Topic1\", \"Topic1\", \"Topic1\", \"Topic1\", \"Topic1\", \"Topic1\", \"Topic1\", \"Topic1\", \"Topic1\", \"Topic1\", \"Topic1\", \"Topic1\", \"Topic1\", \"Topic1\", \"Topic1\", \"Topic1\", \"Topic1\", \"Topic2\", \"Topic2\", \"Topic2\", \"Topic2\", \"Topic2\", \"Topic2\", \"Topic2\", \"Topic2\", \"Topic2\", \"Topic2\", \"Topic2\", \"Topic2\", \"Topic2\", \"Topic2\", \"Topic2\", \"Topic2\", \"Topic2\", \"Topic2\", \"Topic2\", \"Topic2\", \"Topic2\", \"Topic2\", \"Topic2\", \"Topic2\", \"Topic2\", \"Topic2\", \"Topic2\", \"Topic2\", \"Topic2\", \"Topic2\", \"Topic2\", \"Topic2\", \"Topic2\", \"Topic2\", \"Topic2\", \"Topic2\", \"Topic2\", \"Topic2\", \"Topic2\", \"Topic2\", \"Topic2\", \"Topic2\", \"Topic2\", \"Topic2\", \"Topic2\", \"Topic2\", \"Topic2\", \"Topic2\", \"Topic2\", \"Topic2\", \"Topic2\", \"Topic2\", \"Topic2\", \"Topic2\", \"Topic2\", \"Topic2\", \"Topic2\", \"Topic2\", \"Topic2\", \"Topic2\", \"Topic2\", \"Topic2\", \"Topic2\", \"Topic2\", \"Topic2\", \"Topic2\", \"Topic2\", \"Topic2\", \"Topic2\", \"Topic2\", \"Topic3\", \"Topic3\", \"Topic3\", \"Topic3\", \"Topic3\", \"Topic3\", \"Topic3\", \"Topic3\", \"Topic3\", \"Topic3\", \"Topic3\", \"Topic3\", \"Topic3\", \"Topic3\", \"Topic3\", \"Topic3\", \"Topic3\", \"Topic3\", \"Topic3\", \"Topic3\", \"Topic3\", \"Topic3\", \"Topic3\", \"Topic3\", \"Topic3\", \"Topic3\", \"Topic3\", \"Topic3\", \"Topic3\", \"Topic3\", \"Topic3\", \"Topic3\", \"Topic3\", \"Topic3\", \"Topic3\", \"Topic3\", \"Topic3\", \"Topic3\", \"Topic3\", \"Topic3\", \"Topic3\", \"Topic3\", \"Topic3\", \"Topic3\", \"Topic3\", \"Topic3\", \"Topic3\", \"Topic3\", \"Topic3\", \"Topic3\", \"Topic3\", \"Topic3\", \"Topic3\", \"Topic3\", \"Topic3\", \"Topic3\", \"Topic3\", \"Topic3\", \"Topic3\", \"Topic3\", \"Topic3\", \"Topic3\", \"Topic3\", \"Topic3\", \"Topic3\", \"Topic3\", \"Topic3\", \"Topic3\", \"Topic3\", \"Topic3\", \"Topic3\", \"Topic3\", \"Topic3\", \"Topic4\", \"Topic4\", \"Topic4\", \"Topic4\", \"Topic4\", \"Topic4\", \"Topic4\", \"Topic4\", \"Topic4\", \"Topic4\", \"Topic4\", \"Topic4\", \"Topic4\", \"Topic4\", \"Topic4\", \"Topic4\", \"Topic4\", \"Topic4\", \"Topic4\", \"Topic4\", \"Topic4\", \"Topic4\", \"Topic4\", \"Topic4\", \"Topic4\", \"Topic4\", \"Topic4\", \"Topic4\", \"Topic4\", \"Topic4\", \"Topic4\", \"Topic4\", \"Topic4\", \"Topic4\", \"Topic4\", \"Topic4\", \"Topic4\", \"Topic4\", \"Topic4\", \"Topic4\", \"Topic4\", \"Topic4\", \"Topic4\", \"Topic4\", \"Topic4\", \"Topic4\", \"Topic4\", \"Topic4\", \"Topic4\", \"Topic4\", \"Topic4\", \"Topic4\", \"Topic4\", \"Topic4\", \"Topic4\", \"Topic4\", \"Topic4\", \"Topic4\", \"Topic4\", \"Topic4\", \"Topic4\", \"Topic4\", \"Topic4\", \"Topic4\", \"Topic4\", \"Topic4\", \"Topic4\", \"Topic4\", \"Topic4\", \"Topic4\", \"Topic4\", \"Topic4\", \"Topic4\", \"Topic4\", \"Topic4\", \"Topic5\", \"Topic5\", \"Topic5\", \"Topic5\", \"Topic5\", \"Topic5\", \"Topic5\", \"Topic5\", \"Topic5\", \"Topic5\", \"Topic5\", \"Topic5\", \"Topic5\", \"Topic5\", \"Topic5\", \"Topic5\", \"Topic5\", \"Topic5\", \"Topic5\", \"Topic5\", \"Topic5\", \"Topic5\", \"Topic5\", \"Topic5\", \"Topic5\", \"Topic5\", \"Topic5\", \"Topic5\", \"Topic5\", \"Topic5\", \"Topic5\", \"Topic5\", \"Topic5\", \"Topic5\", \"Topic5\", \"Topic5\", \"Topic5\", \"Topic5\", \"Topic5\", \"Topic5\", \"Topic5\", \"Topic5\", \"Topic5\", \"Topic5\", \"Topic5\", \"Topic5\", \"Topic5\", \"Topic5\", \"Topic5\", \"Topic5\", \"Topic5\", \"Topic5\", \"Topic5\", \"Topic5\", \"Topic5\", \"Topic5\", \"Topic5\", \"Topic5\", \"Topic5\", \"Topic6\", \"Topic6\", \"Topic6\", \"Topic6\", \"Topic6\", \"Topic6\", \"Topic6\", \"Topic6\", \"Topic6\", \"Topic6\", \"Topic6\", \"Topic6\", \"Topic6\", \"Topic6\", \"Topic6\", \"Topic6\", \"Topic6\", \"Topic6\", \"Topic6\", \"Topic6\", \"Topic6\", \"Topic6\", \"Topic6\", \"Topic6\", \"Topic6\", \"Topic6\", \"Topic6\", \"Topic6\", \"Topic6\", \"Topic6\", \"Topic6\", \"Topic6\", \"Topic6\", \"Topic6\", \"Topic6\", \"Topic6\", \"Topic6\", \"Topic6\", \"Topic6\", \"Topic6\", \"Topic6\", \"Topic6\", \"Topic6\", \"Topic6\", \"Topic6\", \"Topic6\", \"Topic6\", \"Topic6\", \"Topic6\", \"Topic6\", \"Topic6\", \"Topic6\", \"Topic6\", \"Topic6\", \"Topic6\", \"Topic6\", \"Topic6\", \"Topic6\", \"Topic6\", \"Topic6\", \"Topic6\", \"Topic6\", \"Topic6\", \"Topic6\", \"Topic6\", \"Topic6\", \"Topic6\", \"Topic6\", \"Topic7\", \"Topic7\", \"Topic7\", \"Topic7\", \"Topic7\", \"Topic7\", \"Topic7\", \"Topic7\", \"Topic7\", \"Topic7\", \"Topic7\", \"Topic7\", \"Topic7\", \"Topic7\", \"Topic7\", \"Topic7\", \"Topic7\", \"Topic7\", \"Topic7\", \"Topic7\", \"Topic7\", \"Topic7\", \"Topic7\", \"Topic7\", \"Topic7\", \"Topic7\", \"Topic7\", \"Topic7\", \"Topic7\", \"Topic7\", \"Topic7\", \"Topic7\", \"Topic7\", \"Topic7\", \"Topic7\", \"Topic7\", \"Topic7\", \"Topic7\", \"Topic7\", \"Topic7\", \"Topic7\", \"Topic7\", \"Topic7\", \"Topic7\", \"Topic7\", \"Topic7\", \"Topic7\", \"Topic7\", \"Topic7\", \"Topic7\", \"Topic7\", \"Topic7\", \"Topic7\", \"Topic7\", \"Topic7\", \"Topic7\", \"Topic7\", \"Topic7\", \"Topic7\", \"Topic7\", \"Topic7\", \"Topic7\", \"Topic7\", \"Topic7\", \"Topic7\", \"Topic8\", \"Topic8\", \"Topic8\", \"Topic8\", \"Topic8\", \"Topic8\", \"Topic8\", \"Topic8\", \"Topic8\", \"Topic8\", \"Topic8\", \"Topic8\", \"Topic8\", \"Topic8\", \"Topic8\", \"Topic8\", \"Topic8\", \"Topic8\", \"Topic8\", \"Topic8\", \"Topic8\", \"Topic8\", \"Topic8\", \"Topic8\", \"Topic8\", \"Topic8\", \"Topic8\", \"Topic8\", \"Topic8\", \"Topic8\", \"Topic8\", \"Topic8\", \"Topic8\", \"Topic8\", \"Topic8\", \"Topic9\", \"Topic9\", \"Topic9\", \"Topic9\", \"Topic9\", \"Topic9\", \"Topic9\", \"Topic9\", \"Topic9\", \"Topic9\", \"Topic9\", \"Topic9\", \"Topic9\", \"Topic9\", \"Topic9\", \"Topic9\", \"Topic9\", \"Topic9\", \"Topic9\", \"Topic9\", \"Topic9\", \"Topic9\", \"Topic9\", \"Topic9\", \"Topic9\", \"Topic9\", \"Topic9\", \"Topic9\", \"Topic9\", \"Topic9\", \"Topic9\", \"Topic9\", \"Topic9\", \"Topic9\", \"Topic9\", \"Topic9\", \"Topic10\", \"Topic10\", \"Topic10\", \"Topic10\", \"Topic10\", \"Topic10\", \"Topic10\", \"Topic10\", \"Topic10\", \"Topic10\", \"Topic10\", \"Topic10\", \"Topic10\", \"Topic10\", \"Topic10\", \"Topic10\", \"Topic10\", \"Topic10\", \"Topic10\", \"Topic10\", \"Topic10\", \"Topic10\", \"Topic10\", \"Topic10\", \"Topic10\", \"Topic10\", \"Topic10\", \"Topic10\", \"Topic10\", \"Topic10\", \"Topic10\", \"Topic10\", \"Topic10\", \"Topic10\", \"Topic10\", \"Topic10\", \"Topic10\", \"Topic10\"], \"logprob\": [30.0, 29.0, 28.0, 27.0, 26.0, 25.0, 24.0, 23.0, 22.0, 21.0, 20.0, 19.0, 18.0, 17.0, 16.0, 15.0, 14.0, 13.0, 12.0, 11.0, 10.0, 9.0, 8.0, 7.0, 6.0, 5.0, 4.0, 3.0, 2.0, 1.0, -5.9312, -6.2115, -6.2877, -6.4481, -6.5633, -6.8069, -6.8425, -6.2201, -4.7245, -5.8225, -6.8676, -7.0299, -7.0359, -6.9273, -7.057, -6.9965, -7.0209, -6.7056, -6.0245, -6.6015, -7.1893, -6.9293, -7.1912, -7.0951, -5.7388, -7.2114, -6.8894, -7.2612, -7.1563, -6.2663, -5.6163, -6.6742, -4.9401, -5.9295, -5.3635, -6.4906, -5.1083, -5.8671, -5.6426, -5.6601, -6.5134, -6.2221, -5.829, -5.7512, -5.5842, -5.3648, -5.9369, -5.8036, -5.1908, -5.6721, -6.1599, -4.763, -5.8118, -5.8277, -5.2727, -5.2384, -5.1414, -5.3232, -5.638, -5.3426, -4.7007, -5.2676, -5.179, -5.3159, -5.1301, -5.4282, -5.542, -5.3367, -5.5261, -5.7182, -5.7096, -5.6963, -6.3143, -6.0964, -5.7193, -6.7042, -6.062, -6.2114, -6.7967, -6.9132, -6.9376, -6.0211, -6.3833, -6.9588, -7.165, -7.2993, -7.3154, -7.2156, -7.3265, -7.0084, -7.4175, -6.9872, -7.5037, -7.5296, -7.4424, -7.5438, -7.0911, -6.0616, -7.5788, -7.2093, -7.0579, -7.6021, -6.4351, -6.3462, -6.6967, -6.5246, -6.1113, -5.9826, -6.0817, -6.1258, -5.6857, -6.2903, -5.4415, -5.8345, -4.9972, -5.8698, -6.3105, -5.0381, -6.0051, -6.1029, -5.9142, -6.2868, -5.7723, -5.9821, -5.3768, -5.1274, -5.7488, -6.0269, -5.4415, -5.6056, -5.5423, -5.9793, -5.8498, -5.9623, -5.8648, -5.6699, -5.9014, -6.018, -5.9464, -5.9535, -5.9976, -6.0188, -5.3412, -6.4168, -6.3488, -6.8658, -5.8993, -6.5115, -7.0378, -7.0127, -6.7518, -6.9773, -6.1431, -7.0248, -7.1005, -7.3696, -7.3953, -6.934, -7.4457, -6.7987, -7.5891, -6.951, -7.624, -7.6246, -7.4662, -7.503, -6.8104, -7.6429, -7.3082, -7.1989, -7.688, -7.7136, -4.9299, -5.4535, -6.8637, -6.1466, -6.8699, -6.2488, -6.6442, -6.5104, -5.646, -6.5742, -6.6155, -6.9449, -6.5087, -6.5603, -6.6373, -5.2506, -5.172, -6.4459, -5.4998, -5.5068, -6.3834, -5.8593, -5.6613, -5.6983, -5.9138, -5.7809, -5.478, -6.3227, -6.2049, -5.8093, -5.9148, -5.9753, -6.0473, -5.9589, -6.0877, -6.2491, -6.1012, -6.2063, -6.2058, -6.1413, -6.1374, -6.1409, -6.1871, -6.1108, -6.2742, -6.9532, -7.0801, -7.109, -6.7996, -7.2709, -7.2578, -7.0238, -7.0764, -7.0322, -7.3303, -6.8898, -7.3617, -5.2969, -7.2999, -6.8392, -7.075, -7.4594, -6.9693, -7.0054, -7.5913, -6.9908, -7.6767, -7.4379, -7.7677, -6.8558, -7.7935, -7.5852, -6.5147, -6.8106, -5.2597, -7.1064, -6.905, -5.4897, -6.6768, -5.1993, -6.0497, -6.451, -6.2425, -6.5877, -6.4084, -5.9536, -6.7279, -5.3686, -6.5375, -6.3162, -6.3739, -6.7835, -5.2088, -5.5585, -5.3517, -5.193, -6.2759, -5.5698, -5.6455, -5.5495, -6.2294, -5.7287, -6.2057, -5.7869, -5.8449, -5.8057, -5.9809, -6.0518, -6.086, -6.1751, -6.1864, -6.1351, -6.1441, -6.1123, -6.1144, -6.1301, -6.1219, -6.1858, -4.7248, -4.5141, -5.3838, -5.4891, -5.9945, -6.2275, -6.1022, -6.0982, -5.3458, -6.4998, -6.5104, -6.5774, -5.6013, -6.7388, -6.755, -6.548, -6.6596, -6.882, -6.3304, -5.3721, -6.9427, -6.9686, -6.8074, -7.0042, -7.0197, -7.0093, -6.8422, -7.0746, -7.0848, -7.0975, -4.0285, -6.7218, -6.6019, -5.7446, -5.4581, -5.6242, -5.8444, -4.6458, -5.827, -5.7423, -5.0693, -6.1354, -5.0771, -6.1624, -6.0964, -5.6927, -5.8436, -6.0358, -5.6463, -5.7256, -5.3767, -5.4316, -5.7074, -5.8023, -5.7676, -6.0055, -5.9288, -5.8166, -5.9232, -5.6151, -5.9094, -6.0303, -5.4652, -5.8974, -6.3353, -6.3594, -6.3789, -6.3193, -6.4933, -6.6685, -6.6715, -6.6722, -6.7803, -6.8124, -6.8861, -6.9166, -6.891, -6.1856, -6.9719, -6.6545, -6.2438, -7.0001, -6.3317, -7.0324, -6.9645, -7.064, -7.0623, -7.0338, -7.076, -6.5172, -5.4968, -6.1358, -6.4275, -5.9288, -4.268, -5.3042, -6.468, -5.4411, -5.5135, -5.5529, -5.6703, -5.5631, -5.5121, -6.0917, -5.1811, -5.8996, -5.6576, -6.0554, -5.8456, -5.7307, -5.3361, -5.7157, -4.8584, -5.5296, -5.6654, -5.6783, -5.8134, -5.6248, -5.6167, -5.8529, -5.5939, -5.7053, -5.6225, -5.773, -5.7447, -5.7793, -5.8214, -6.1258, -6.2614, -6.2626, -6.2964, -6.3104, -5.807, -6.3842, -5.594, -6.4069, -6.3953, -6.5283, -6.4809, -6.6484, -6.065, -6.6751, -6.7226, -6.4755, -5.8219, -6.1848, -6.9343, -6.6319, -6.9493, -6.774, -5.9882, -6.674, -5.6439, -7.0308, -7.0548, -7.0862, -6.7423, -6.1227, -5.7066, -5.652, -5.8576, -6.3803, -6.4518, -6.5441, -6.0107, -5.6667, -5.6188, -5.272, -6.1187, -5.0198, -5.8866, -5.2236, -4.9466, -5.3511, -6.2238, -5.2805, -5.6052, -6.0488, -5.7788, -5.7287, -5.2053, -5.227, -5.3413, -5.784, -5.5538, -5.6866, -5.5974, -5.6389, -5.6562, -5.6471, -5.6942, -5.7436, -4.418, -5.3422, -5.5409, -5.565, -5.742, -5.7898, -5.2993, -5.9985, -5.6096, -6.1005, -5.2733, -4.7695, -6.2275, -5.5566, -6.1487, -5.4807, -6.2007, -5.863, -5.5588, -6.187, -5.8024, -6.0177, -6.2753, -6.5765, -6.197, -6.6284, -5.3503, -6.2671, -6.2696, -6.9675, -6.0014, -6.285, -5.2562, -6.2674, -6.2697, -5.2679, -5.7542, -5.6281, -5.8503, -5.3655, -5.8957, -5.817, -6.0427, -5.714, -5.6915, -5.2455, -5.8402, -5.5432, -6.2292, -6.1656, -5.7301, -6.0216, -6.1639, -5.793, -6.0013, -6.0767, -6.104, -5.5301, -5.7086, -6.1476, -6.4796, -5.8772, -5.8133, -6.5097, -6.5432, -5.739, -6.1632, -6.0909, -5.8511, -5.9991, -6.0974, -4.9904, -5.2596, -5.5648, -5.7156, -5.6997, -5.7357, -5.6691, -6.0606, -5.7645, -6.4169, -5.7764, -6.309, -6.008, -5.9585, -5.7349, -6.1134, -6.1394, -6.1582, -6.1209, -6.2337, -6.2325, -6.5273, -6.1983, -6.5164, -6.1515, -6.3918, -6.5122, -6.324, -6.6552, -5.3996, -5.7007, -5.9584, -6.2849, -6.3607, -6.1267, -6.32, -6.2924, -6.3072], \"loglift\": [30.0, 29.0, 28.0, 27.0, 26.0, 25.0, 24.0, 23.0, 22.0, 21.0, 20.0, 19.0, 18.0, 17.0, 16.0, 15.0, 14.0, 13.0, 12.0, 11.0, 10.0, 9.0, 8.0, 7.0, 6.0, 5.0, 4.0, 3.0, 2.0, 1.0, 1.5196, 1.5127, 1.5056, 1.5006, 1.4936, 1.4894, 1.4869, 1.4845, 1.4817, 1.4798, 1.4764, 1.4751, 1.4746, 1.4737, 1.4731, 1.4704, 1.4681, 1.468, 1.4673, 1.4628, 1.4627, 1.4626, 1.4622, 1.4613, 1.4613, 1.4607, 1.4573, 1.4565, 1.4539, 1.4509, 1.4509, 1.4476, 1.4003, 1.4282, 1.3931, 1.4401, 1.3796, 1.4002, 1.3753, 1.3765, 1.4357, 1.4091, 1.3727, 1.3601, 1.3433, 1.3207, 1.3718, 1.3493, 1.2638, 1.3193, 1.3879, 1.1366, 1.3083, 1.2895, 1.0644, 1.0147, 0.9601, 1.0212, 1.17, 0.9714, 0.5276, 0.8005, 0.6558, 0.7192, 0.4625, 0.6644, 0.6638, -0.0369, 0.482, 0.8957, 0.6202, -0.1758, 1.5563, 1.5562, 1.545, 1.5414, 1.5392, 1.5373, 1.536, 1.5279, 1.5267, 1.5263, 1.5171, 1.5104, 1.5094, 1.4971, 1.4957, 1.4956, 1.4946, 1.488, 1.4853, 1.4791, 1.4757, 1.4727, 1.4725, 1.471, 1.4682, 1.4672, 1.4667, 1.4659, 1.4655, 1.4638, 1.4535, 1.4481, 1.4529, 1.4405, 1.4164, 1.3548, 1.3365, 1.2554, 1.1347, 1.2502, 0.9984, 1.1021, 0.8085, 1.038, 1.1994, 0.6412, 1.0128, 1.0405, 0.921, 1.1199, 0.7228, 0.8855, 0.3787, 0.1724, 0.5233, 0.8541, 0.0789, 0.228, 0.0503, 0.7256, 0.4147, 0.6408, 0.3252, -0.4416, 0.0644, 0.7897, 0.2623, -0.0378, 0.4619, 0.2811, 1.5879, 1.5692, 1.551, 1.5452, 1.5387, 1.5331, 1.533, 1.5293, 1.5284, 1.5258, 1.5172, 1.5166, 1.5125, 1.5032, 1.5005, 1.4871, 1.4834, 1.4783, 1.4781, 1.4767, 1.4734, 1.4733, 1.4716, 1.4714, 1.4712, 1.4711, 1.4703, 1.4668, 1.465, 1.4615, 1.4586, 1.4448, 1.4579, 1.4356, 1.4556, 1.422, 1.4352, 1.3625, 1.2553, 1.3657, 1.3669, 1.4079, 1.2743, 1.2535, 1.2292, 0.2699, 0.1278, 1.0822, 0.3059, 0.1725, 0.9726, 0.3307, 0.0943, 0.1354, 0.3583, 0.1849, -0.2497, 0.8389, 0.5947, -0.2167, -0.0119, 0.0327, 0.1778, -0.0432, 0.2493, 0.6309, 0.1987, 0.4746, 0.4729, 0.0674, -0.0447, -0.3061, 0.2277, 1.593, 1.5909, 1.5542, 1.5449, 1.5414, 1.5373, 1.5279, 1.5264, 1.5255, 1.5253, 1.5226, 1.522, 1.5216, 1.5185, 1.5159, 1.5051, 1.5009, 1.5005, 1.4958, 1.494, 1.494, 1.4921, 1.4846, 1.4807, 1.4709, 1.4656, 1.4655, 1.4637, 1.4605, 1.4572, 1.4548, 1.403, 1.4436, 1.4321, 1.3186, 1.4099, 1.2585, 1.3348, 1.3576, 1.3044, 1.3399, 1.2917, 1.1354, 1.3671, 0.8565, 1.2716, 1.0979, 1.101, 1.3409, 0.091, 0.3444, 0.1688, 0.0352, 0.9048, 0.1857, 0.1893, 0.0431, 0.8057, 0.237, 0.6735, 0.0467, 0.0708, -0.1264, 0.1118, 0.1568, 0.2439, 0.453, 0.4682, 0.1474, 0.1315, -0.1043, -0.2148, -0.0951, -0.3162, 0.229, 2.8288, 2.8204, 2.8162, 2.8103, 2.7726, 2.7484, 2.7425, 2.739, 2.7162, 2.713, 2.7109, 2.7013, 2.6923, 2.6743, 2.6714, 2.6536, 2.6513, 2.6473, 2.6422, 2.6391, 2.6346, 2.6293, 2.6222, 2.6216, 2.6182, 2.6122, 2.6096, 2.6057, 2.6017, 2.6003, 2.5517, 2.5905, 2.5727, 2.4938, 2.4129, 2.4234, 2.3815, 2.0877, 2.3181, 2.1881, 1.8717, 2.2461, 1.6016, 2.1556, 2.0679, 1.508, 1.5131, 1.7448, 0.8683, 0.8883, -0.077, -0.2033, 0.2082, 0.6479, 0.0661, 1.5274, 0.9016, -0.2961, 0.6683, 3.0844, 3.0549, 3.0404, 3.0363, 2.9995, 2.996, 2.9921, 2.9888, 2.9813, 2.9683, 2.9305, 2.9231, 2.9129, 2.9078, 2.9, 2.8819, 2.8741, 2.8721, 2.86, 2.8593, 2.8585, 2.8577, 2.8516, 2.8447, 2.8425, 2.8375, 2.8333, 2.8332, 2.8327, 2.83, 2.8212, 2.7348, 2.7613, 2.7838, 2.6937, 2.4365, 2.5803, 2.7522, 2.508, 2.5257, 2.4718, 2.5046, 2.3554, 2.2259, 2.5044, 1.874, 2.3684, 2.1128, 2.4346, 2.1472, 2.0062, 1.4693, 1.8715, 0.3699, 1.3234, 1.5571, 1.539, 1.8465, 1.3375, 1.2395, 1.8775, 0.3057, 0.9218, 0.2123, 1.2796, 0.3234, 0.0544, 1.0538, 3.0416, 3.0337, 3.0336, 3.0281, 3.0258, 3.0232, 3.0132, 3.0073, 3.0038, 3.0011, 2.968, 2.9668, 2.9612, 2.9605, 2.9554, 2.9447, 2.9374, 2.9122, 2.9003, 2.8918, 2.8918, 2.8878, 2.8814, 2.8726, 2.8723, 2.8704, 2.8648, 2.8578, 2.8485, 2.848, 2.8355, 2.808, 2.7508, 2.7686, 2.8066, 2.8101, 2.818, 2.6646, 2.5414, 2.44, 2.2029, 2.61, 1.8593, 2.4185, 1.9297, 1.5112, 1.8662, 2.653, 1.3822, 1.8089, 2.3745, 1.768, 1.6557, 0.0944, 0.0012, 0.1791, 1.5517, 0.7601, 1.1211, 0.6277, 0.264, 0.1785, 0.1084, 0.2214, -0.0644, 3.9291, 3.8985, 3.8669, 3.863, 3.8075, 3.8005, 3.7792, 3.7721, 3.7651, 3.746, 3.7386, 3.7259, 3.709, 3.7002, 3.6744, 3.6609, 3.6552, 3.64, 3.6348, 3.5991, 3.5344, 3.4844, 3.4745, 3.4535, 3.4485, 3.4299, 3.4105, 3.4059, 3.363, 3.3462, 3.3304, 3.2423, 2.2804, 3.1325, 3.0003, 3.9106, 3.8291, 3.8205, 3.809, 3.8031, 3.7982, 3.7758, 3.7628, 3.7498, 3.7481, 3.7192, 3.7105, 3.7102, 3.6987, 3.6909, 3.6902, 3.6829, 3.6573, 3.6316, 3.6267, 3.5711, 3.562, 3.5571, 3.5372, 3.4904, 3.4899, 3.4877, 3.4838, 3.4443, 3.4387, 3.3665, 3.3544, 3.3158, 3.1015, 2.7715, 2.969, 3.9774, 3.9444, 3.8961, 3.8291, 3.7945, 3.7536, 3.7328, 3.7014, 3.6896, 3.6747, 3.6714, 3.6558, 3.6038, 3.5886, 3.5879, 3.5836, 3.5765, 3.5577, 3.5546, 3.5463, 3.5343, 3.533, 3.5294, 3.5209, 3.5181, 3.4753, 3.4461, 3.4264, 3.4161, 3.401, 3.3935, 3.307, 3.3817, 3.3791, 2.7017, 3.2576, 3.0568, 3.0679]}, \"token.table\": {\"Topic\": [10, 1, 2, 3, 4, 6, 3, 7, 1, 9, 1, 4, 6, 10, 1, 2, 3, 4, 5, 6, 7, 6, 3, 4, 5, 5, 2, 10, 4, 5, 7, 4, 8, 7, 6, 6, 1, 6, 3, 10, 1, 1, 2, 3, 4, 5, 1, 2, 3, 4, 5, 1, 2, 4, 5, 6, 3, 1, 2, 3, 4, 2, 3, 4, 3, 2, 1, 2, 3, 4, 5, 6, 7, 10, 2, 2, 2, 3, 4, 5, 1, 6, 8, 2, 3, 4, 5, 6, 8, 3, 4, 7, 3, 1, 3, 6, 4, 7, 2, 3, 1, 2, 3, 4, 5, 7, 2, 2, 3, 4, 3, 2, 4, 10, 6, 1, 2, 3, 4, 5, 6, 7, 2, 3, 5, 8, 9, 7, 8, 8, 9, 1, 2, 3, 4, 5, 6, 3, 3, 4, 7, 4, 1, 2, 3, 4, 5, 6, 1, 3, 4, 6, 7, 1, 6, 4, 8, 2, 3, 4, 5, 6, 1, 2, 3, 4, 6, 7, 2, 5, 2, 4, 10, 2, 10, 1, 3, 4, 5, 6, 3, 10, 4, 1, 2, 3, 4, 1, 3, 4, 5, 6, 1, 2, 3, 2, 2, 3, 2, 4, 9, 5, 5, 1, 4, 5, 6, 6, 3, 5, 1, 2, 3, 4, 5, 7, 2, 5, 1, 2, 1, 5, 4, 7, 9, 1, 2, 3, 4, 5, 6, 1, 2, 3, 4, 6, 1, 2, 3, 4, 5, 6, 7, 4, 5, 1, 3, 4, 5, 3, 7, 1, 2, 3, 4, 5, 6, 7, 5, 7, 8, 1, 6, 3, 3, 5, 1, 9, 1, 2, 10, 9, 1, 2, 3, 4, 5, 6, 5, 1, 5, 5, 5, 4, 7, 10, 1, 2, 3, 4, 5, 6, 3, 9, 1, 2, 3, 4, 5, 6, 7, 1, 3, 5, 5, 5, 8, 9, 1, 1, 3, 4, 5, 6, 2, 3, 4, 8, 4, 9, 6, 1, 2, 4, 7, 1, 4, 5, 6, 1, 2, 3, 4, 6, 2, 3, 4, 7, 2, 3, 2, 7, 3, 4, 2, 9, 3, 10, 10, 1, 1, 2, 3, 4, 6, 7, 1, 3, 4, 4, 6, 2, 7, 4, 7, 4, 5, 10, 8, 5, 2, 5, 1, 3, 4, 6, 5, 5, 4, 3, 8, 2, 3, 4, 7, 1, 2, 3, 4, 5, 7, 1, 2, 4, 3, 6, 1, 2, 3, 4, 5, 7, 4, 10, 2, 3, 4, 7, 1, 3, 4, 6, 7, 1, 2, 3, 4, 5, 1, 1, 2, 3, 4, 1, 4, 6, 1, 7, 4, 10, 4, 1, 2, 3, 4, 7, 3, 7, 9, 1, 3, 4, 7, 5, 8, 9, 7, 10, 2, 4, 4, 2, 3, 7, 4, 1, 2, 3, 4, 5, 6, 7, 4, 7, 1, 2, 3, 4, 5, 1, 7, 1, 7, 10, 4, 10, 2, 3, 4, 5, 6, 1, 2, 3, 4, 5, 6, 7, 1, 2, 3, 4, 5, 6, 2, 4, 7, 8, 5, 1, 2, 3, 4, 5, 6, 7, 1, 2, 3, 4, 5, 6, 7, 4, 8, 3, 4, 1, 2, 3, 4, 5, 6, 7, 7, 1, 2, 3, 4, 5, 6, 7, 3, 1, 2, 3, 4, 5, 7, 4, 7, 4, 2, 7, 6, 1, 2, 3, 4, 5, 6, 7, 8, 4, 9, 1, 2, 3, 4, 8, 3, 4, 1, 1, 10, 1, 2, 3, 4, 5, 6, 6, 1, 2, 3, 4, 5, 6, 7, 1, 2, 3, 4, 5, 6, 7, 8, 1, 3, 4, 5, 6, 6, 5, 9, 3, 4, 4, 1, 2, 3, 4, 5, 6, 1, 6, 1, 2, 8, 2, 3, 4, 10, 7, 2, 3, 4, 7, 10, 1, 2, 3, 4, 5, 6, 1, 2, 3, 4, 1, 2, 3, 4, 5, 6, 7, 3, 1, 3, 4, 5, 1, 2, 3, 4, 5, 1, 4, 7, 1, 2, 3, 4, 5, 6, 7, 3, 6, 9, 1, 2, 3, 4, 5, 6, 1, 2, 3, 4, 6, 1, 2, 3, 4, 5, 6, 7, 8, 1, 5, 8, 4, 8, 1, 2, 3, 4, 5, 6, 7, 1, 2, 3, 4, 5, 7, 4, 7, 1, 2, 3, 4, 5, 6, 7, 9, 4, 7, 1, 2, 3, 4, 6, 1, 2, 3, 4, 5, 6, 7, 1, 2, 3, 4, 5, 6, 7, 1, 2, 3, 4, 5, 7, 1, 3, 6, 10, 2, 2, 10, 1, 2, 3, 4, 5, 7, 6, 1, 1, 2, 3, 4, 6, 7, 8, 1, 2, 3, 4, 5, 7, 4, 7, 8, 3, 4, 6, 7, 3, 4, 7, 10, 3, 7, 9, 1, 4, 5, 6, 4, 2, 3, 2, 1, 1, 1, 3, 1, 3, 9, 3, 2, 4, 5, 9, 1, 2, 3, 4, 5, 6, 7, 10, 4, 7, 7, 8, 9, 5, 1, 2, 3, 4, 5, 6, 7, 1, 3, 4, 5, 6, 4, 8, 1, 2, 3, 4, 5, 6, 7, 3, 10, 2, 3, 4, 6, 7, 5, 9, 3, 4, 7, 1, 2, 3, 4, 5, 6, 3, 8, 6, 3, 4, 6, 9, 7, 4, 5, 1, 2, 3, 4, 5, 6, 7, 7, 8, 1, 4, 6, 1, 4, 6, 7, 10, 10, 2, 4, 10, 3, 4, 10, 5, 8, 4, 4, 1, 2, 3, 4, 5, 7, 5, 7, 8, 1, 2, 3, 4, 5, 6, 6, 1, 4, 6, 7, 4, 7, 4, 7, 1, 2, 3, 4, 5, 6, 7, 3, 4, 6, 7, 4, 1, 2, 3, 4, 5, 6, 7, 1, 4, 9, 1, 4, 6, 1, 2, 3, 4, 5, 6, 7, 1, 1, 2, 3, 4, 5, 6, 7, 2, 3, 2, 10, 1, 2, 3, 4, 6, 1, 6, 3, 7, 9, 2, 5, 1, 2, 3, 4, 5, 1, 2, 3, 4, 5, 6, 7, 1, 1, 2, 3, 4, 5, 6, 7, 3, 7, 2, 4, 5, 1, 2, 3, 4, 5, 4, 7, 1, 2, 3, 4, 5, 6, 7, 4, 10, 2, 1, 7, 7, 7, 1, 2, 3, 4, 5, 6, 7, 1, 2, 3, 4, 5, 6, 7, 3, 4, 6, 1, 2, 3, 4, 5, 7, 6, 2, 4, 5, 6, 7, 2, 3, 2, 3, 1, 2, 3, 4, 5, 6, 7, 2, 9, 2, 4, 8, 2, 3, 8, 2, 3, 4, 3, 1, 2, 3, 4, 5, 6, 7, 3, 4, 7, 4, 7, 5, 1, 2, 3, 4, 5, 6, 7, 7, 5, 8, 1, 3, 4, 5, 6, 2, 4, 3, 1, 2, 3, 4, 5, 6, 7, 1, 2, 3, 4, 6, 2, 4, 7, 1, 3, 4, 2, 1, 4, 7, 8, 1, 2, 4, 5, 7, 9, 2, 3, 5, 1, 2, 3, 4, 5, 1, 2, 3, 4, 5, 6, 4, 3, 1, 2, 4, 5, 2, 3, 7, 3, 8, 4, 1, 4, 7, 1, 3, 4, 6, 2, 3, 4, 5, 4, 1, 3, 4, 5, 6, 2, 7, 5, 7, 8, 1, 2, 3, 4, 5, 6, 8, 2, 3, 1, 2, 3, 4, 5, 6, 1, 2, 3, 4, 5, 6, 4, 2, 4, 6, 7, 9, 1, 2, 4, 7, 1, 2, 3, 4, 5, 1, 2, 3, 4, 5, 4, 6, 3, 4, 9, 3, 3, 8, 9, 4, 10, 4, 10, 1, 10, 2, 7, 8, 7, 3, 6, 9, 3, 9, 4, 7, 3, 5, 7, 2, 1, 3, 4, 7, 6, 1, 2, 3, 4, 5, 6, 7, 2, 8, 9, 1, 2, 3, 4, 5, 6, 7, 1, 2, 3, 4, 5, 6, 7, 5, 9, 2, 6, 7, 9, 1, 2, 3, 4, 5, 6, 7, 3, 5, 10, 1, 2, 3, 4, 5, 6, 8, 5, 6, 9, 3, 4, 1, 2, 3, 4, 5, 7, 3, 9, 2, 3, 4, 5, 2, 3, 4, 5, 1, 2, 3, 4, 5, 6, 7, 2, 3, 6, 3, 8, 1, 2, 3, 4, 5, 6, 1, 4, 1, 2, 3, 4, 5, 6, 7, 4, 10, 1, 1, 3, 4, 6, 8, 3, 6, 3, 9, 6, 1, 6, 8, 9, 1, 2, 3, 4, 5, 6, 7, 1, 2, 3, 4, 5, 7, 1, 2, 3, 4, 5, 6, 7, 3, 4, 5, 3, 10, 1, 2, 3, 4, 6, 7, 4, 8, 8, 1, 1, 2, 3, 4, 7, 1, 3, 4, 5, 2, 3, 4, 7, 6, 1, 3, 4, 6, 7, 5, 5, 6, 6, 1, 2, 3, 4, 5, 7, 1, 2, 3, 4, 5, 6, 10, 2, 1, 2, 3, 4, 5, 6, 7, 1, 2, 3, 4, 5, 6, 7, 7], \"Freq\": [0.8178960644517116, 0.15726915844161038, 0.6290766337664415, 0.07863457922080519, 0.10484610562774026, 0.026211526406935064, 0.8761850028846964, 0.0625846430631926, 0.21641723140356398, 0.43283446280712795, 0.1417074463297364, 0.1417074463297364, 0.1417074463297364, 0.5668297853189456, 0.7653385167028611, 0.019624064530842596, 0.03924812906168519, 0.09812032265421297, 0.019624064530842596, 0.03924812906168519, 0.019624064530842596, 0.6381784326098016, 0.2084467980098855, 0.13896453200659034, 0.5558581280263614, 0.7773789557339448, 0.2534150413475016, 0.5068300826950032, 0.11892806937519612, 0.5946403468759806, 0.23785613875039224, 0.1875860622139357, 0.7503442488557428, 0.9024511973908936, 0.9549134199764915, 0.818458568938992, 0.23271319367449367, 0.698139581023481, 0.17810369008885132, 0.534311070266554, 0.9283178395946982, 0.06021550318483384, 0.12043100636966768, 0.06021550318483384, 0.06021550318483384, 0.6623705350331722, 0.8451401963238221, 0.060367156880273005, 0.030183578440136503, 0.030183578440136503, 0.030183578440136503, 0.813514114248295, 0.020337852856207376, 0.0813514114248295, 0.020337852856207376, 0.04067570571241475, 0.8533614401738782, 0.07955060574645588, 0.7689891888824067, 0.07955060574645588, 0.053033737164303915, 0.08302498095889635, 0.6641998476711708, 0.1660499619177927, 0.9356619940514559, 0.8265294109871686, 0.1788658548623606, 0.21861382260955184, 0.2623365871314622, 0.2305382129337092, 0.043722764521910366, 0.015899187098876496, 0.04769756129662949, 0.7277776626427034, 0.92633918294707, 0.9720729246502375, 0.20715401187440538, 0.5918686053554439, 0.059186860535544394, 0.11837372107108879, 0.29905443530139325, 0.6579197576630651, 0.7755769304821173, 0.07744425456824504, 0.23233276370473513, 0.07744425456824504, 0.07744425456824504, 0.46466552740947026, 0.07744425456824504, 0.02806203116974897, 0.5893026545647283, 0.3648064052067366, 0.8973942230047472, 0.16906694668640432, 0.2113336833580054, 0.549467576730814, 0.1852361070334785, 0.740944428133914, 0.9225720491697741, 0.036902881966790965, 0.08970802283923124, 0.5482156951286354, 0.14951337139871873, 0.119610697118975, 0.039870232372991664, 0.04983779046623958, 0.9047397043870795, 0.862695280427472, 0.9755140230431919, 0.016258567050719864, 0.9296057110879844, 0.16815655054829734, 0.3363131010965947, 0.504469651644892, 0.6461525865670605, 0.5220095710644516, 0.11863853887828445, 0.11863853887828445, 0.07118312332697067, 0.14236624665394135, 0.011863853887828445, 0.02372770777565689, 0.20504105332632364, 0.20504105332632364, 0.10252052666316182, 0.10252052666316182, 0.30756157998948547, 0.14858706396753377, 0.7429353198376689, 0.47973653184489057, 0.8078640122882579, 0.37674845702106813, 0.06279140950351135, 0.1255828190070227, 0.1255828190070227, 0.031395704751755675, 0.2825613427658011, 0.9415174126303468, 0.12873623201925788, 0.38620869605777364, 0.4505768120674026, 0.9152545152341339, 0.34953177988768686, 0.07358563787109197, 0.16556768520995693, 0.2023605041455029, 0.055189228403318975, 0.14717127574218394, 0.5279124762028402, 0.037708034014488585, 0.07541606802897717, 0.33937230613039726, 0.589227680478718, 0.1349684385677026, 0.674842192838513, 0.06713125763859236, 0.8727063493017007, 0.009468926064904976, 0.8522033458414479, 0.07575140851923981, 0.009468926064904976, 0.047344630324524885, 0.8471543879625827, 0.020917392295372414, 0.05229348073843103, 0.06275217688611724, 0.010458696147686207, 0.9147519017026231, 0.9361062050935695, 0.8798655617804484, 0.18285450383252194, 0.3657090076650439, 0.3657090076650439, 0.2731028366315842, 0.5462056732631684, 0.08611024162488988, 0.08611024162488988, 0.2583307248746696, 0.08611024162488988, 0.5166614497493393, 0.23775933875951794, 0.7132780162785538, 0.9039019115789106, 0.04102781176452732, 0.43079202352753687, 0.4513059294098005, 0.04102781176452732, 0.40109836945288707, 0.013369945648429568, 0.026739891296859136, 0.45457815204660534, 0.09358961953900698, 0.030172718637544425, 0.9353542777638773, 0.030172718637544425, 0.9312594446255074, 0.9551769366409191, 0.03183923122136397, 0.14071346487498546, 0.14071346487498546, 0.5628538594999418, 0.7797695656628638, 0.7638614006718478, 0.16954218090829687, 0.2260562412110625, 0.05651406030276562, 0.5086265427248906, 0.7888451174116781, 0.8674360425524258, 0.07228633687936882, 0.09828455040961914, 0.606088060859318, 0.1801883424176351, 0.08190379200801595, 0.01638075840160319, 0.03276151680320638, 0.1254750391971929, 0.7528502351831575, 0.9106893954076123, 0.0505938553004229, 0.024387481535154965, 0.9511117798710436, 0.8223494323227503, 0.08223494323227502, 0.7631959318354984, 0.5650503314315644, 0.08921847338393123, 0.029739491127977073, 0.029739491127977073, 0.26765542015179367, 0.5922304556952052, 0.8327931911247056, 0.018104199807058817, 0.036208399614117634, 0.07241679922823527, 0.018104199807058817, 0.1977654689983668, 0.26105041907784415, 0.21358670651823614, 0.2294079440381055, 0.023731856279804016, 0.023731856279804016, 0.03955309379967336, 0.15357096516833238, 0.7678548258416619, 0.22364722185210184, 0.05591180546302546, 0.22364722185210184, 0.4472944437042037, 0.850647194186089, 0.06543439955277608, 0.6769413719235169, 0.014403007913266317, 0.028806015826532635, 0.10082105539286422, 0.07201503956633158, 0.07201503956633158, 0.014403007913266317, 0.17969809680491955, 0.17969809680491955, 0.5390942904147586, 0.910995016202945, 0.053587942129585, 0.9017188162504334, 0.8218029652139944, 0.1027253706517493, 0.1857591104497603, 0.5572773313492809, 0.21130352682474904, 0.21130352682474904, 0.5282588170618726, 0.7825986262755837, 0.21691668513896184, 0.03615278085649364, 0.23499307556720866, 0.4338333702779237, 0.03615278085649364, 0.05422917128474046, 0.7887722235193155, 0.9394541396258352, 0.7977021926800592, 0.8766874842583329, 0.7902085911498167, 0.17747489871997937, 0.6211621455199278, 0.08873744935998969, 0.2616469271496887, 0.15262737417065173, 0.10901955297903695, 0.2180391059580739, 0.06541173178742217, 0.19623519536226652, 0.19719437672182547, 0.5915831301654764, 0.10148279107085882, 0.21565093102557498, 0.3171337220964338, 0.30444837321257645, 0.012685348883857353, 0.012685348883857353, 0.038056046651572056, 0.23630213397064165, 0.7089064019119249, 0.03938368899510694, 0.7321375167539951, 0.7926130961688779, 0.657922159742623, 0.748034406826664, 0.8732826051699462, 0.5734270523169611, 0.024931610970302658, 0.049863221940605315, 0.24931610970302656, 0.07479483291090797, 0.06646197047912994, 0.06646197047912994, 0.7975436457495592, 0.06646197047912994, 0.9491421521656767, 0.820259794859073, 0.6044946687713632, 0.9541609144716277, 0.10745450476552454, 0.7521815333586718, 0.10745450476552454, 0.9145821756815, 0.03732988472169388, 0.01866494236084694, 0.01866494236084694, 0.8328065909947313, 0.04270803030742212, 0.02135401515371106, 0.02135401515371106, 0.04270803030742212, 0.07840102940804586, 0.07840102940804586, 0.7056092646724128, 0.11760154411206879, 0.8291554954278695, 0.8267047285192896, 0.1323004533717591, 0.7938027202305546, 0.792458567958672, 0.13984562963976566, 0.24165149142799125, 0.7249544742839737, 0.2511673726435708, 0.5023347452871416, 0.6138499429796967, 0.9119077485639184, 0.611615311658154, 0.01798868563700453, 0.2518415989180634, 0.026983028455506795, 0.06296039972951585, 0.008994342818502265, 0.7900280277095857, 0.1783934256118419, 0.012742387543702995, 0.1809001918479166, 0.7236007673916665, 0.16758003317911963, 0.6703201327164785, 0.14041573795602963, 0.7020786897801482, 0.1762395169602498, 0.7049580678409992, 0.7446468773002572, 0.6070357943083706, 0.9271192146596599, 0.03035877344182021, 0.9714807501382468, 0.062482267865465874, 0.8435106161837893, 0.062482267865465874, 0.7011755766533908, 0.9600623099609279, 0.7034882467202923, 0.9456491655253264, 0.2830542327386158, 0.5661084654772316, 0.7826279084398762, 0.12228561069373066, 0.04891424427749226, 0.02445712213874613, 0.24171987528805647, 0.5640130423387985, 0.040286645881342745, 0.12085993764402823, 0.020143322940671372, 0.020143322940671372, 0.05509607130194017, 0.8815371408310427, 0.05509607130194017, 0.15383897191906282, 0.7691948595953141, 0.06115900915332807, 0.4892720732266246, 0.21405653203664823, 0.15289752288332017, 0.06115900915332807, 0.015289752288332018, 0.27763508411205623, 0.5552701682241125, 0.8885075672803099, 0.029616918909343662, 0.059233837818687324, 0.029616918909343662, 0.02640784259394016, 0.05281568518788032, 0.5809725370666835, 0.07922352778182047, 0.23767058334546143, 0.8573140870582641, 0.027073076433418865, 0.03609743524455849, 0.027073076433418865, 0.04512179405569811, 0.9485667511887401, 0.9721873743262582, 0.15671338760185155, 0.03917834690046289, 0.7443885911087949, 0.9133037343984414, 0.028540741699951293, 0.8338934718447267, 0.90802290477169, 0.6680885127833469, 0.2589208933388317, 0.5178417866776635, 0.8099242384292937, 0.08118746445444473, 0.020296866113611183, 0.010148433056805592, 0.6900934478627802, 0.18267179502250064, 0.840937155522107, 0.387378625179895, 0.387378625179895, 0.936917497032022, 0.15869851866772633, 0.07934925933386316, 0.7141433340047685, 0.8520600236482978, 0.24648339605811107, 0.49296679211622213, 0.5629569103723835, 0.37530460691492235, 0.24603256203139617, 0.7029501772325605, 0.9056170211750428, 0.9018033272569244, 0.04294301558366306, 0.04294301558366306, 0.8631859600070186, 0.2272209080616517, 0.1689591367637923, 0.198090022412722, 0.2738303250999392, 0.040783239908501585, 0.040783239908501585, 0.05243559416807347, 0.9047902005492068, 0.07539918337910057, 0.012657381852081583, 0.3164345463020396, 0.3164345463020396, 0.06328690926040792, 0.2784624007457948, 0.9166844695783174, 0.04263648695713104, 0.5431436102847533, 0.10862872205695068, 0.21725744411390135, 0.2638582185446128, 0.5277164370892256, 0.18232731066457947, 0.2917236970633272, 0.1458618485316636, 0.0729309242658318, 0.3281891591962431, 0.2699376361590237, 0.3873018257933818, 0.11736418963435813, 0.12910060859779393, 0.023472837926871624, 0.011736418963435812, 0.058682094817179065, 0.015765970977289743, 0.09459582586373846, 0.8513624327736462, 0.031531941954579486, 0.015765970977289743, 0.6187035539582231, 0.19237141256933163, 0.19237141256933163, 0.19237141256933163, 0.38474282513866326, 0.6891134678903963, 0.14284922317477927, 0.2142738347621689, 0.3571230579369482, 0.17141906780973512, 0.05713968926991171, 0.014284922317477928, 0.04285476695243378, 0.21658177423247602, 0.16845249106970356, 0.24064641581386226, 0.3128403405580209, 0.012032320790693113, 0.024064641581386225, 0.024064641581386225, 0.21308226707901687, 0.6392468012370506, 0.8802177794646376, 0.0628726985331884, 0.5871826529347712, 0.08270178210348891, 0.10751231673453558, 0.16540356420697783, 0.01654035642069778, 0.03308071284139556, 0.00827017821034889, 0.7795700521349249, 0.2310859062954418, 0.1078400896045395, 0.18486872503635343, 0.29270881464089293, 0.030811454172725575, 0.1232458166909023, 0.030811454172725575, 0.8482630639406242, 0.04337909227763589, 0.021689546138817944, 0.2602745536658153, 0.39041183049872297, 0.021689546138817944, 0.2602745536658153, 0.10882409135755773, 0.8705927308604618, 0.9526251315660921, 0.5031800014975136, 0.4528620013477622, 0.6135068290837884, 0.40821441366605693, 0.07075716503544986, 0.1469571889197805, 0.23948578935075338, 0.032657153093284555, 0.04898572963992683, 0.04898572963992683, 0.005442858848880759, 0.24407081028238728, 0.48814162056477456, 0.02555223659823182, 0.7154626247504909, 0.15331341958939093, 0.07665670979469547, 0.7224296741411256, 0.07632227882100702, 0.8395450670310771, 0.9232706786737309, 0.9210652565738603, 0.6768163798561109, 0.7872390150892393, 0.07872390150892393, 0.019680975377230982, 0.09840487688615492, 0.019680975377230982, 0.019680975377230982, 0.694512008461006, 0.3966648775650976, 0.1442417736600355, 0.12020147805002958, 0.19232236488004734, 0.03606044341500887, 0.10818133024502662, 0.012020147805002959, 0.45239610025025556, 0.09279920005133448, 0.04639960002566724, 0.25519780014116983, 0.11599900006416809, 0.02319980001283362, 0.01159990000641681, 0.8361194773374321, 0.43726948573999397, 0.0437269485739994, 0.0437269485739994, 0.0437269485739994, 0.43726948573999397, 0.631540682519296, 0.19634183673742062, 0.7853673469496825, 0.7594938186382661, 0.13402832093616462, 0.8598508617278829, 0.3697842254016001, 0.1512753649370182, 0.06723349552756365, 0.23531723434647278, 0.016808373881890912, 0.1512753649370182, 0.9030005643817894, 0.05643753527386184, 0.07562718426671641, 0.907526211200597, 0.5459322710728743, 0.8573021901263569, 0.07793656273875972, 0.865892502676738, 0.7907499625687677, 0.7450702309525755, 0.6684243573067461, 0.11624771431421671, 0.17437157147132507, 0.029061928578554178, 0.6670433548477973, 0.14910741114687381, 0.01146980085745183, 0.04587920342980732, 0.04587920342980732, 0.7225974540194654, 0.01146980085745183, 0.015812635515634284, 0.23718953273451424, 0.6957559626879084, 0.03162527103126857, 0.3374876353071939, 0.21359976918176826, 0.16233582457814388, 0.20505577841449754, 0.03844795845271829, 0.02135997691817683, 0.025631972301812193, 0.9218392392682415, 0.046127787362090666, 0.046127787362090666, 0.830300172517632, 0.046127787362090666, 0.014583637072997707, 0.6270963941389014, 0.2187545560949656, 0.04375091121899312, 0.08750182243798624, 0.9105666493734642, 0.8660769006836603, 0.12372527152623719, 0.12384213168618392, 0.1857631975292759, 0.3715263950585518, 0.23220399691159485, 0.03096053292154598, 0.03096053292154598, 0.03096053292154598, 0.9084976482458801, 0.25100872552074655, 0.5020174510414931, 0.05330262971026215, 0.5507938403393755, 0.2487456053145567, 0.1066052594205243, 0.01776754323675405, 0.01776754323675405, 0.14950028212183566, 0.07475014106091783, 0.5232509874264248, 0.12458356843486305, 0.09966685474789044, 0.3590877935030621, 0.13057737945565895, 0.15431872117486967, 0.2018014046132911, 0.047482683438421436, 0.059353354298026795, 0.041547348008618756, 0.0029676677149013397, 0.1565145742789183, 0.1565145742789183, 0.6260582971156732, 0.13050538439842843, 0.7830323063905705, 0.4155928801963701, 0.08452736546366849, 0.19018657229325409, 0.2183623607811436, 0.014087894243944748, 0.04226368273183424, 0.028175788487889496, 0.18309782450551373, 0.12206521633700916, 0.14240941905984403, 0.24413043267401832, 0.02034420272283486, 0.28481883811968806, 0.15546516643620914, 0.6218606657448366, 0.23477433022838498, 0.13592198065853867, 0.1977046991396926, 0.3089135924057697, 0.037069631088692365, 0.024713087392461575, 0.07413926217738473, 0.6932863280164829, 0.8489074081121583, 0.866216602311952, 0.7959918129560688, 0.01730416984687106, 0.05191250954061318, 0.08652084923435531, 0.03460833969374212, 0.5889032577481774, 0.08154045107282457, 0.04530025059601364, 0.1902610525032573, 0.01812010023840546, 0.0634203508344191, 0.00906005011920273, 0.1739786977975204, 0.2555312123901081, 0.22834704085924554, 0.2065997036345555, 0.05980517736789764, 0.0434946744493801, 0.032621005837035075, 0.028799401197394128, 0.446390718559609, 0.18719610778306184, 0.18719610778306184, 0.014399700598697064, 0.12959730538827358, 0.6077541340156885, 0.10129235566928142, 0.2701129484514171, 0.8455326423858325, 0.9057032708030198, 0.8387462537484424, 0.6092584522837108, 0.17909471461620444, 0.4213993285087163, 0.1685597314034865, 0.1685597314034865, 0.05267491606358954, 0.010534983212717907, 0.6327287445784869, 0.9464938194443674, 0.8193579452608406, 0.03901704501242098, 0.05852556751863147, 0.05852556751863147, 0.01950852250621049, 0.01950852250621049, 0.6702385302571745, 0.3829844029303813, 0.1325715240912858, 0.14730169343476202, 0.16203186277823822, 0.1325715240912858, 0.014730169343476202, 0.37283255793800785, 0.5592488369070118, 0.6981686242610937, 0.793778034833094, 0.12533337392101485, 0.08355558261400989, 0.7778044827264462, 0.06542242233250643, 0.8504914903225836, 0.22288291385134107, 0.6686487415540232, 0.24599643807177426, 0.24599643807177426, 0.36899465710766144, 0.8350808453510357, 0.035535355121320666, 0.035535355121320666, 0.07107071024264133, 0.8434952722791123, 0.8496363909932427, 0.07723967190847661, 0.9587395945219055, 0.9433173413167576, 0.9646131706210733, 0.04291786248154139, 0.9441929745939106, 0.9534048182317081, 0.03531128956413734, 0.6998425970132868, 0.9235740891668099, 0.06666063890846398, 0.8665883058100317, 0.7233878024681759, 0.607369020600281, 0.47425170579650977, 0.08935177065731344, 0.15121068880468427, 0.15808390193216992, 0.054985705019885193, 0.054985705019885193, 0.013746426254971298, 0.874129223681359, 0.833939796747024, 0.6424488113663285, 0.12449130241918067, 0.12449130241918067, 0.7469478145150841, 0.875731906253382, 0.39289801584768325, 0.053577002161047715, 0.17859000720349238, 0.25002601008488934, 0.044647501800873096, 0.026788501080523858, 0.06250650252122233, 0.062022355827171576, 0.2480894233086863, 0.062022355827171576, 0.062022355827171576, 0.434156490790201, 0.21325872640502083, 0.6397761792150625, 0.3222361048630343, 0.15037684893608266, 0.15037684893608266, 0.19334166291782057, 0.1396356454406482, 0.021482406990868952, 0.021482406990868952, 0.2638470149986282, 0.5276940299972565, 0.8704478300590073, 0.045813043687316174, 0.09162608737463235, 0.9163966346209071, 0.6567549943720378, 0.7203244965139618, 0.6800588693482508, 0.23809447941653714, 0.07936482647217905, 0.6349186117774324, 0.3688196905734119, 0.09220492264335298, 0.05532295358601179, 0.18440984528670595, 0.036881969057341195, 0.27661476793005896, 0.8731747404255332, 0.3715848690565956, 0.7450659914924952, 0.5652128563063731, 0.04710107135886442, 0.37680857087091535, 0.6523391243810913, 0.8473863290024625, 0.8278241757627046, 0.15521703295550712, 0.24195636150910899, 0.19474536414147794, 0.18884398947052408, 0.2124494881543396, 0.07081649605144653, 0.03540824802572327, 0.0531123720385849, 0.767527631623532, 0.7913543370111914, 0.5475729316034478, 0.07300972421379304, 0.4015534831758617, 0.8317405556821407, 0.11882007938316295, 0.023764015876632592, 0.6531653994013628, 0.7683485108540699, 0.552612597872089, 0.22976961205987895, 0.22976961205987895, 0.4595392241197579, 0.8274904008357277, 0.19275228652811882, 0.7710091461124753, 0.8833211387217005, 0.6013569898283007, 0.9302744876894329, 0.9091401870547045, 0.06344200933063805, 0.4546677335362394, 0.2696285396552117, 0.14274452099393561, 0.04229467288709204, 0.02114733644354602, 0.8045221182769362, 0.7790691623035609, 0.08656324025595122, 0.34549591019374487, 0.04935655859910641, 0.04935655859910641, 0.09871311719821282, 0.36194809639344705, 0.09871311719821282, 0.8980568660264002, 0.0584165951024218, 0.3504995706145308, 0.0584165951024218, 0.5257493559217962, 0.28389455226923943, 0.6387627426057887, 0.19771399801394385, 0.7908559920557754, 0.04322392179596241, 0.04322392179596241, 0.05763189572794988, 0.7348066705313611, 0.01440797393198747, 0.01440797393198747, 0.07203986965993736, 0.014474598437895784, 0.8974251031495386, 0.014474598437895784, 0.07237299218947892, 0.9535092360806862, 0.15107143995200253, 0.30214287990400507, 0.17121429861226953, 0.23164287459307054, 0.11078572263146852, 0.010071429330133502, 0.020142858660267004, 0.9103419614905575, 0.8240705587392588, 0.7743715856043898, 0.8939299368078752, 0.03575719747231501, 0.03575719747231501, 0.2980628441242708, 0.22141811277802972, 0.15328946269248211, 0.22993419403872317, 0.04258040630346725, 0.017032162521386902, 0.034064325042773805, 0.9290785130377506, 0.16572639527367614, 0.15066035933970556, 0.3013207186794111, 0.16572639527367614, 0.015066035933970557, 0.15066035933970556, 0.030132071867941115, 0.9129185239526371, 0.08299259308660337, 0.21036704434100661, 0.6311011330230198, 0.45345111607109556, 0.015115037202369853, 0.2569556324402875, 0.12092029761895882, 0.15115037202369852, 0.8530137867853392, 0.09842466770600068, 0.14330701779368116, 0.2866140355873623, 0.5732280711747246, 0.1272717809950121, 0.8272665764675787, 0.11428875514404399, 0.11428875514404399, 0.15238500685872533, 0.2666737620027693, 0.342866265432132, 0.5543311065023037, 0.11370894492354947, 0.14213618115443682, 0.13502937209671498, 0.007106809057721842, 0.035534045288609206, 0.007106809057721842, 0.9126959225575956, 0.7485717300937748, 0.05057917095228208, 0.030347502571369245, 0.13150584447593341, 0.02023166838091283, 0.010115834190456415, 0.8071316978626292, 0.24738269340155455, 0.7421480802046636, 0.16454614282805696, 0.16454614282805696, 0.5484871427601898, 0.12799316386677567, 0.3413151036447351, 0.21332193977795944, 0.04266438795559189, 0.25598632773355134, 0.841034837283879, 0.7118066553939634, 0.29274682598229346, 0.3094752160384245, 0.13382712044904843, 0.16728390056131054, 0.05854936519645869, 0.02509258508419658, 0.016728390056131054, 0.2018014093934524, 0.6054042281803572, 0.8098055128082274, 0.9017960887582609, 0.04508980443791304, 0.8670706342933924, 0.7268372750122797, 0.28463943398151925, 0.32530221026459344, 0.1524854110615282, 0.17281679920306528, 0.04066277628307418, 0.010165694070768545, 0.02033138814153709, 0.184694604244704, 0.23329844746699452, 0.2527399847559107, 0.2430192161114526, 0.029162305933374315, 0.01944153728891621, 0.03888307457783242, 0.8101775299446081, 0.06751479416205067, 0.06751479416205067, 0.10846147353898608, 0.48032938281550974, 0.13945046597869637, 0.18593395463826184, 0.04648348865956546, 0.030988992439710306, 0.769847769597575, 0.880804195637618, 0.08007310869432892, 0.15930803840705887, 0.6372321536282355, 0.15930803840705887, 0.954852040381561, 0.022734572390037167, 0.8488135339939038, 0.08488135339939037, 0.3552457736196803, 0.11841525787322676, 0.2029975849255316, 0.21991405033599257, 0.02537469811569145, 0.04229116352615242, 0.02537469811569145, 0.20016239627970212, 0.8006495851188085, 0.1805954238806807, 0.1805954238806807, 0.5417862716420422, 0.8695827738133068, 0.1667221005721113, 0.6668884022884451, 0.8541164441651161, 0.9195483735563734, 0.02704554039871687, 0.9303472325340166, 0.1264253902837841, 0.3371343740900909, 0.2865642179765773, 0.15171046834054092, 0.04214179676126136, 0.025285078056756817, 0.025285078056756817, 0.8192149165441038, 0.10240186456801298, 0.03413395485600433, 0.22440340314544527, 0.6732102094363358, 0.8811936996053877, 0.5624775559671292, 0.02636613543595918, 0.1318306771797959, 0.1406193889917823, 0.01757742362397279, 0.03515484724794558, 0.08788711811986394, 0.7667516631725902, 0.2459399779460843, 0.4918799558921686, 0.24676573568741372, 0.09091369209536294, 0.16883971389138833, 0.012987670299337565, 0.4805438010754899, 0.8843561824843288, 0.9306350552061494, 0.8799486817023379, 0.12113236396965099, 0.3820328402119762, 0.23760579086354616, 0.17238067180296487, 0.03727149660604646, 0.009317874151511614, 0.03727149660604646, 0.08364084662584272, 0.3763838098162922, 0.02091021165646068, 0.48093486809859565, 0.02091021165646068, 0.030154687339985546, 0.7237124961596532, 0.24123749871988437, 0.9210081740204221, 0.023615594205651846, 0.023615594205651846, 0.9704022877636006, 0.9588109238809529, 0.7434152563197705, 0.2050800707089022, 0.025635008838612774, 0.04975761909593599, 0.19903047638374396, 0.04975761909593599, 0.6468490482471679, 0.04975761909593599, 0.6885515658763897, 0.09595442131266346, 0.09595442131266346, 0.8156125811576395, 0.04170120598022257, 0.1251036179406677, 0.1251036179406677, 0.04170120598022257, 0.6255180897033386, 0.28731377008535747, 0.014365688504267874, 0.22985101606828598, 0.22985101606828598, 0.057462754017071495, 0.18675395055548236, 0.814170727194265, 0.8529011006283193, 0.8735901406775286, 0.024959718305072248, 0.024959718305072248, 0.049919436610144495, 0.4346307853062533, 0.07243846421770889, 0.4346307853062533, 0.406108236725735, 0.5076352959071687, 0.9089184174735411, 0.8751622936561566, 0.8900516290377936, 0.6316174649614975, 0.31559295132816423, 0.09016941466518978, 0.09016941466518978, 0.4959317806585438, 0.03818897877566019, 0.7255905967375436, 0.19094489387830094, 0.03818897877566019, 0.9353403415490475, 0.14801790232434597, 0.14801790232434597, 0.09867860154956398, 0.04933930077478199, 0.5427323085226019, 0.9587356546727563, 0.7539944048469833, 0.810436466660331, 0.2427691352725268, 0.4855382705450536, 0.8483728706089815, 0.013683433396919057, 0.04105030019075717, 0.05473373358767623, 0.013683433396919057, 0.013683433396919057, 0.013683433396919057, 0.06569192141241485, 0.853994978361393, 0.2819801279344939, 0.10845389535942074, 0.17352623257507316, 0.17352623257507316, 0.04338155814376829, 0.19521701164695732, 0.1716829480446863, 0.019075883116076258, 0.09537941558038128, 0.6104282597144403, 0.07630353246430503, 0.019075883116076258, 0.8862963666445186, 0.0884088343495285, 0.176817668699057, 0.6188618404466995, 0.16615354057988907, 0.6646141623195563, 0.04412886439735175, 0.04412886439735175, 0.7501906947549798, 0.13238659319205526, 0.11693036442883979, 0.415752406858097, 0.2728375170006262, 0.14291488985747086, 0.0389767881429466, 0.08988993583410676, 0.7191194866728541, 0.11985324777880901, 0.05992662388940451, 0.029963311944702253, 0.11633776156721118, 0.8143643309704782, 0.27563985251505324, 0.13781992625752662, 0.27563985251505324, 0.8672344068417474, 0.2527780686028878, 0.5055561372057756, 0.2527780686028878, 0.251919735464606, 0.503839470929212, 0.2702300493025693, 0.5404600986051386, 0.37646540751899704, 0.37646540751899704, 0.21849888626172284, 0.21849888626172284, 0.4369977725234457, 0.6980917161806015, 0.875729145105474, 0.8304246463286434, 0.6695701811082689, 0.3471647173285221, 0.5207470759927831, 0.39328637260439353, 0.5899295589065904, 0.10096001716356434, 0.8581601458902969, 0.05048000858178217, 0.9468298043338613, 0.012456335752135663, 0.024912671504271327, 0.7972054881366825, 0.16193236477776363, 0.5751837185830436, 0.6620251321756765, 0.029036190007705107, 0.058072380015410215, 0.1567954260416076, 0.011614476003082044, 0.058072380015410215, 0.017421714004623064, 0.916160430704176, 0.5874438010260926, 0.8657513061915387, 0.19410108348658664, 0.2795055602206848, 0.2795055602206848, 0.1630449101287328, 0.038820216697317333, 0.023292130018390398, 0.015528086678926932, 0.16089772431559712, 0.29665517920688217, 0.22123437093394605, 0.23631853258853325, 0.030168323309174457, 0.01005610776972482, 0.04525248496376169, 0.2236741303061618, 0.6710223909184854, 0.11400785064730111, 0.11400785064730111, 0.5700392532365055, 0.22801570129460222, 0.21715888072365672, 0.21715888072365672, 0.24197703852064606, 0.24818157796989337, 0.02481815779698934, 0.018613618347742004, 0.031022697246236672, 0.9418135471545624, 0.33624914685373253, 0.6724982937074651, 0.05970015068941196, 0.02985007534470598, 0.08955022603411794, 0.47760120551529567, 0.02985007534470598, 0.11940030137882392, 0.17910045206823588, 0.7687181433198862, 0.870929538620281, 0.5863440256981864, 0.8308282946742267, 0.09231425496380297, 0.1776119371121102, 0.5032338218176456, 0.10360696331539763, 0.14800994759342517, 0.029601989518685038, 0.014800994759342519, 0.32981434782287317, 0.6596286956457463, 0.26551435683476854, 0.13275717841738427, 0.0885047856115895, 0.4867763208637423, 0.828398886177918, 0.05917134901270843, 0.05917134901270843, 0.029585674506354215, 0.4101592716320427, 0.21296731411663755, 0.16564124431294033, 0.1419782094110917, 0.031550713202464824, 0.023663034901848616, 0.007887678300616206, 0.04960566416732871, 0.9425076191792454, 0.8298551518487397, 0.23358725875127653, 0.7007617762538296, 0.25362240033050815, 0.03623177147578688, 0.18115885737893442, 0.1449270859031475, 0.10869531442736065, 0.289854171806295, 0.8852936314470751, 0.044264681572353755, 0.811636952059356, 0.08116369520593561, 0.032465478082374245, 0.016232739041187123, 0.016232739041187123, 0.016232739041187123, 0.016232739041187123, 0.28134247824555464, 0.5626849564911093, 0.8866782123289889, 0.8663739060982403, 0.04559862663674949, 0.04559862663674949, 0.022799313318374745, 0.022799313318374745, 0.14274532344041696, 0.7137266172020847, 0.896792204069298, 0.9249864782486202, 0.8710151457669295, 0.07833510973206985, 0.8616862070527683, 0.6975038017049676, 0.1395007603409935, 0.3430417835982164, 0.19417459448955646, 0.2071195674555269, 0.1747571350406008, 0.032362432414926076, 0.032362432414926076, 0.012944972965970431, 0.06520398177045612, 0.06520398177045612, 0.32601990885228066, 0.06520398177045612, 0.521631854163649, 0.5956755703756439, 0.19932871831105345, 0.26866044641924597, 0.24266104837867378, 0.17332932027048126, 0.05199879608114438, 0.017332932027048126, 0.043332330067620314, 0.9119969838449798, 0.03377766606833259, 0.03377766606833259, 0.2669888683820731, 0.5339777367641462, 0.19532021430722216, 0.09766010715361108, 0.21973524109562492, 0.2929803214608332, 0.02441502678840277, 0.19532021430722216, 0.5068379340711966, 0.3378919560474644, 0.8202955245837916, 0.9570648938728272, 0.2783890880124355, 0.046398181335405915, 0.015466060445135306, 0.38665151112838264, 0.2629230275673002, 0.9311663107100993, 0.047347439527632165, 0.007891239921272027, 0.007891239921272027, 0.05216885259744907, 0.05216885259744907, 0.7825327889617361, 0.10433770519489814, 0.8529815396636209, 0.19450813149669877, 0.04862703287417469, 0.09725406574834938, 0.4862703287417469, 0.09725406574834938, 0.9194691659382962, 0.1607283462870286, 0.6429133851481144, 0.7042472131638622, 0.1750777361797787, 0.5729816820429121, 0.09549694700715201, 0.09549694700715201, 0.015916157834525334, 0.015916157834525334, 0.4388835129292978, 0.1263452537220706, 0.1662437548974613, 0.17954325528925819, 0.03989850117539071, 0.05319800156718761, 0.006649750195898451, 0.9101782438994916, 0.20400653867552118, 0.23907016251037638, 0.2263197538431563, 0.21356934517593623, 0.051001634668880295, 0.01593801083402509, 0.04462643033527026, 0.05629147640862803, 0.13670787127809664, 0.24124918460840586, 0.4583734507559711, 0.016083278973893722, 0.016083278973893722, 0.07237475538252175, 0.8919620333709434], \"Term\": [\"abstinence\", \"accept\", \"accept\", \"accept\", \"accept\", \"accept\", \"accident\", \"accident\", \"accurately\", \"accurately\", \"activate\", \"activate\", \"activate\", \"activate\", \"advance\", \"advance\", \"advance\", \"advance\", \"advance\", \"advance\", \"advance\", \"afair\", \"agency\", \"agency\", \"agency\", \"agn\", \"ala\", \"ala\", \"algorithm\", \"algorithm\", \"algorithm\", \"allocation\", \"allocation\", \"alomar\", \"amp\", \"amplifier\", \"analog\", \"analog\", \"andrew\", \"andrew\", \"animation\", \"announcement\", \"announcement\", \"announcement\", \"announcement\", \"announcement\", \"apple\", \"apple\", \"apple\", \"apple\", \"apple\", \"application\", \"application\", \"application\", \"application\", \"application\", \"argic\", \"argument\", \"argument\", \"argument\", \"argument\", \"arm\", \"arm\", \"arm\", \"armenian\", \"arrogance\", \"article\", \"article\", \"article\", \"article\", \"article\", \"article\", \"article\", \"ascension\", \"atheism\", \"atheist\", \"attack\", \"attack\", \"attack\", \"attack\", \"audio\", \"audio\", \"bake\", \"band\", \"band\", \"band\", \"band\", \"band\", \"band\", \"baseball\", \"baseball\", \"baseball\", \"batf\", \"battery\", \"battery\", \"battery\", \"batting\", \"batting\", \"belief\", \"belief\", \"believe\", \"believe\", \"believe\", \"believe\", \"believe\", \"believe\", \"believer\", \"biblical\", \"bike\", \"bike\", \"biker\", \"birthday\", \"birthday\", \"birthday\", \"bis\", \"bit\", \"bit\", \"bit\", \"bit\", \"bit\", \"bit\", \"bit\", \"blind\", \"blind\", \"blind\", \"blind\", \"blind\", \"bmp\", \"bmp\", \"boast\", \"bobby\", \"box\", \"box\", \"box\", \"box\", \"box\", \"box\", \"brake\", \"brave\", \"brave\", \"brave\", \"bruin\", \"build\", \"build\", \"build\", \"build\", \"build\", \"build\", \"cable\", \"cable\", \"cable\", \"cable\", \"candida\", \"capacitor\", \"capacitor\", \"captain\", \"captain\", \"car\", \"car\", \"car\", \"car\", \"car\", \"card\", \"card\", \"card\", \"card\", \"card\", \"cardinal\", \"catholic\", \"cellular\", \"cent\", \"cent\", \"cent\", \"changer\", \"changer\", \"channel\", \"channel\", \"channel\", \"channel\", \"channel\", \"chant\", \"chant\", \"chastity\", \"child\", \"child\", \"child\", \"child\", \"chip\", \"chip\", \"chip\", \"chip\", \"chip\", \"christian\", \"christian\", \"christian\", \"christianity\", \"church\", \"church\", \"cigarette\", \"cigarette\", \"cigarette\", \"cipher\", \"ciphertext\", \"circuit\", \"circuit\", \"circuit\", \"circuit\", \"circuitry\", \"civilian\", \"civilian\", \"claim\", \"claim\", \"claim\", \"claim\", \"claim\", \"claim\", \"classify\", \"classify\", \"client\", \"client\", \"clipper\", \"clipper\", \"coach\", \"coach\", \"cocaine\", \"code\", \"code\", \"code\", \"code\", \"code\", \"coil\", \"color\", \"color\", \"color\", \"color\", \"color\", \"come\", \"come\", \"come\", \"come\", \"come\", \"come\", \"come\", \"comet\", \"comet\", \"communication\", \"communication\", \"communication\", \"communication\", \"compound\", \"compound\", \"computer\", \"computer\", \"computer\", \"computer\", \"computer\", \"computer\", \"computer\", \"consulting\", \"consulting\", \"consulting\", \"controller\", \"controller\", \"convertible\", \"cop\", \"cop\", \"copper\", \"copper\", \"copyright\", \"copyright\", \"copyright\", \"coreldraw\", \"cost\", \"cost\", \"cost\", \"cost\", \"cost\", \"cost\", \"countersteere\", \"cpu\", \"crypto\", \"cryptography\", \"cryptosystem\", \"cub\", \"cub\", \"cub\", \"current\", \"current\", \"current\", \"current\", \"current\", \"current\", \"dale\", \"dale\", \"day\", \"day\", \"day\", \"day\", \"day\", \"day\", \"day\", \"dealer\", \"dealer\", \"dealer\", \"decrypt\", \"den\", \"denning\", \"derek\", \"desktop\", \"device\", \"device\", \"device\", \"device\", \"device\", \"devil\", \"devil\", \"devil\", \"devil\", \"diet\", \"diff\", \"diode\", \"directory\", \"disease\", \"disease\", \"disease\", \"disk\", \"disk\", \"disk\", \"disk\", \"display\", \"display\", \"display\", \"display\", \"display\", \"doctor\", \"doctor\", \"doctor\", \"doctor\", \"doctrine\", \"dod\", \"dodger\", \"dodger\", \"dog\", \"dog\", \"dominance\", \"dominance\", \"donation\", \"donation\", \"dope\", \"download\", \"drive\", \"drive\", \"drive\", \"drive\", \"drive\", \"drive\", \"driver\", \"driver\", \"driver\", \"dsp\", \"dsp\", \"dyer\", \"dyer\", \"edward\", \"edward\", \"eff\", \"eff\", \"embarrassed\", \"emergence\", \"encrypt\", \"encryption\", \"encryption\", \"engine\", \"engine\", \"engine\", \"eos\", \"escrow\", \"escrowe\", \"espn\", \"eugenic\", \"eugenic\", \"evidence\", \"evidence\", \"evidence\", \"evidence\", \"exist\", \"exist\", \"exist\", \"exist\", \"exist\", \"exist\", \"existence\", \"existence\", \"existence\", \"expresse\", \"expresse\", \"fact\", \"fact\", \"fact\", \"fact\", \"fact\", \"fact\", \"faculty\", \"faculty\", \"faith\", \"faith\", \"faith\", \"faith\", \"fan\", \"fan\", \"fan\", \"fan\", \"fan\", \"file\", \"file\", \"file\", \"file\", \"file\", \"floppy\", \"font\", \"food\", \"food\", \"food\", \"format\", \"format\", \"forsale\", \"fpu\", \"fractal\", \"frog\", \"frog\", \"funding\", \"game\", \"game\", \"game\", \"game\", \"game\", \"gang\", \"gatech\", \"gatech\", \"gateway\", \"gay\", \"gay\", \"gay\", \"gehrel\", \"ghost\", \"ghost\", \"glutamate\", \"glutamate\", \"goal\", \"goal\", \"goalie\", \"god\", \"god\", \"god\", \"golf\", \"good\", \"good\", \"good\", \"good\", \"good\", \"good\", \"good\", \"gordon\", \"gordon\", \"government\", \"government\", \"government\", \"government\", \"government\", \"graphic\", \"graphic\", \"greeting\", \"greeting\", \"greeting\", \"gripe\", \"gripe\", \"ground\", \"ground\", \"ground\", \"ground\", \"ground\", \"group\", \"group\", \"group\", \"group\", \"group\", \"group\", \"group\", \"gun\", \"gun\", \"gun\", \"gun\", \"gun\", \"gxxor\", \"hal\", \"hal\", \"hal\", \"hal\", \"ham\", \"happen\", \"happen\", \"happen\", \"happen\", \"happen\", \"happen\", \"happen\", \"hear\", \"hear\", \"hear\", \"hear\", \"hear\", \"hear\", \"hear\", \"heh\", \"heh\", \"helmet\", \"helmet\", \"help\", \"help\", \"help\", \"help\", \"help\", \"help\", \"help\", \"heterosexual\", \"high\", \"high\", \"high\", \"high\", \"high\", \"high\", \"high\", \"highway\", \"hit\", \"hit\", \"hit\", \"hit\", \"hit\", \"hit\", \"hitter\", \"hitter\", \"hockey\", \"homosexual\", \"homosexual\", \"hood\", \"host\", \"host\", \"host\", \"host\", \"host\", \"host\", \"host\", \"host\", \"hughe\", \"hughe\", \"human\", \"human\", \"human\", \"human\", \"hypothesize\", \"ice\", \"ice\", \"icon\", \"ide\", \"illiterate\", \"image\", \"image\", \"image\", \"image\", \"image\", \"image\", \"impedance\", \"include\", \"include\", \"include\", \"include\", \"include\", \"include\", \"include\", \"information\", \"information\", \"information\", \"information\", \"information\", \"information\", \"information\", \"ini\", \"input\", \"input\", \"input\", \"input\", \"input\", \"inputs\", \"instinctive\", \"instinctive\", \"insurance\", \"insurance\", \"intellect\", \"interested\", \"interested\", \"interested\", \"interested\", \"interested\", \"interested\", \"interface\", \"interface\", \"interpretation\", \"interpretation\", \"invert\", \"islamic\", \"islamic\", \"islander\", \"jagr\", \"jay\", \"jewish\", \"jewish\", \"jewish\", \"jewish\", \"kermit\", \"key\", \"key\", \"key\", \"key\", \"key\", \"key\", \"kill\", \"kill\", \"kill\", \"kill\", \"know\", \"know\", \"know\", \"know\", \"know\", \"know\", \"know\", \"lane\", \"launch\", \"launch\", \"launch\", \"launch\", \"law\", \"law\", \"law\", \"law\", \"law\", \"lciii\", \"leafs\", \"leafs\", \"leave\", \"leave\", \"leave\", \"leave\", \"leave\", \"leave\", \"leave\", \"lebanese\", \"lens\", \"lens\", \"life\", \"life\", \"life\", \"life\", \"life\", \"life\", \"light\", \"light\", \"light\", \"light\", \"light\", \"line\", \"line\", \"line\", \"line\", \"line\", \"line\", \"line\", \"line\", \"loan\", \"loan\", \"loan\", \"logo\", \"logo\", \"look\", \"look\", \"look\", \"look\", \"look\", \"look\", \"look\", \"lose\", \"lose\", \"lose\", \"lose\", \"lose\", \"lose\", \"loser\", \"loser\", \"lot\", \"lot\", \"lot\", \"lot\", \"lot\", \"lot\", \"lot\", \"lsd\", \"lunar\", \"lyme\", \"machine\", \"machine\", \"machine\", \"machine\", \"machine\", \"mail\", \"mail\", \"mail\", \"mail\", \"mail\", \"mail\", \"mail\", \"make\", \"make\", \"make\", \"make\", \"make\", \"make\", \"make\", \"man\", \"man\", \"man\", \"man\", \"man\", \"man\", \"manual\", \"manual\", \"manual\", \"manuscript\", \"marriage\", \"marry\", \"masse\", \"mean\", \"mean\", \"mean\", \"mean\", \"mean\", \"mean\", \"meddle\", \"meg\", \"memory\", \"memory\", \"memory\", \"memory\", \"memory\", \"memory\", \"mercury\", \"message\", \"message\", \"message\", \"message\", \"message\", \"message\", \"met\", \"met\", \"micro\", \"mile\", \"mile\", \"mile\", \"mining\", \"mission\", \"mission\", \"molitor\", \"molitor\", \"mom\", \"mom\", \"mom\", \"monitor\", \"monitor\", \"monitor\", \"monitor\", \"moon\", \"moral\", \"moral\", \"morality\", \"motherboard\", \"motif\", \"motorcycle\", \"motorcycle\", \"mouse\", \"mouse\", \"mozumder\", \"mph\", \"msg\", \"msg\", \"mykotronx\", \"narrative\", \"need\", \"need\", \"need\", \"need\", \"need\", \"need\", \"need\", \"needle\", \"nhl\", \"nichol\", \"nickname\", \"nickname\", \"nickname\", \"nist\", \"nntp\", \"nntp\", \"nntp\", \"nntp\", \"nntp\", \"nntp\", \"nntp\", \"noise\", \"noise\", \"noise\", \"noise\", \"noise\", \"norton\", \"norton\", \"number\", \"number\", \"number\", \"number\", \"number\", \"number\", \"number\", \"obesity\", \"obesity\", \"objective\", \"objective\", \"objective\", \"obo\", \"obp\", \"observatory\", \"ocean\", \"offense\", \"offense\", \"offense\", \"offer\", \"offer\", \"offer\", \"offer\", \"offer\", \"offer\", \"officer\", \"oft\", \"ohm\", \"oil\", \"oil\", \"oil\", \"ointment\", \"oral\", \"orbit\", \"orbit\", \"organization\", \"organization\", \"organization\", \"organization\", \"organization\", \"organization\", \"organization\", \"oriole\", \"outbreak\", \"output\", \"output\", \"output\", \"package\", \"package\", \"package\", \"padre\", \"palm\", \"parish\", \"participation\", \"participation\", \"participation\", \"passenger\", \"passion\", \"passion\", \"patent\", \"pds\", \"pen\", \"penguin\", \"people\", \"people\", \"people\", \"people\", \"people\", \"people\", \"pgp\", \"phillie\", \"phillie\", \"phone\", \"phone\", \"phone\", \"phone\", \"phone\", \"phone\", \"pinout\", \"pitch\", \"pitch\", \"pitch\", \"pitch\", \"pitcher\", \"pitcher\", \"pitching\", \"pitching\", \"play\", \"play\", \"play\", \"play\", \"play\", \"play\", \"play\", \"player\", \"player\", \"player\", \"player\", \"playoff\", \"point\", \"point\", \"point\", \"point\", \"point\", \"point\", \"point\", \"polygon\", \"pool\", \"popup\", \"port\", \"port\", \"port\", \"post\", \"post\", \"post\", \"post\", \"post\", \"post\", \"post\", \"postscript\", \"power\", \"power\", \"power\", \"power\", \"power\", \"power\", \"power\", \"prayer\", \"prayer\", \"pregnancy\", \"pregnancy\", \"price\", \"price\", \"price\", \"price\", \"price\", \"printer\", \"printer\", \"prism\", \"prism\", \"prism\", \"privacy\", \"privacy\", \"private\", \"private\", \"private\", \"private\", \"private\", \"problem\", \"problem\", \"problem\", \"problem\", \"problem\", \"problem\", \"problem\", \"processor\", \"program\", \"program\", \"program\", \"program\", \"program\", \"program\", \"promiscuous\", \"prophecy\", \"prophecy\", \"proposal\", \"proposal\", \"proposal\", \"public\", \"public\", \"public\", \"public\", \"public\", \"puck\", \"quack\", \"question\", \"question\", \"question\", \"question\", \"question\", \"question\", \"question\", \"qwk\", \"qwk\", \"racist\", \"ram\", \"ram\", \"rbi\", \"rbis\", \"read\", \"read\", \"read\", \"read\", \"read\", \"read\", \"read\", \"really\", \"really\", \"really\", \"really\", \"really\", \"really\", \"really\", \"rear\", \"rear\", \"rear\", \"reason\", \"reason\", \"reason\", \"reason\", \"reason\", \"reason\", \"redraw\", \"reject\", \"reject\", \"relay\", \"relay\", \"relay\", \"religion\", \"religion\", \"religious\", \"religious\", \"reply\", \"reply\", \"reply\", \"reply\", \"reply\", \"reply\", \"reply\", \"reporting\", \"reporting\", \"resume\", \"resume\", \"resume\", \"resurrection\", \"retard\", \"retard\", \"revelation\", \"ride\", \"ride\", \"rider\", \"right\", \"right\", \"right\", \"right\", \"right\", \"right\", \"right\", \"road\", \"road\", \"road\", \"rockie\", \"rockie\", \"rsa\", \"run\", \"run\", \"run\", \"run\", \"run\", \"run\", \"run\", \"runs\", \"rusnews\", \"rusnews\", \"sale\", \"sale\", \"sale\", \"sale\", \"sale\", \"salvation\", \"satellite\", \"saturn\", \"say\", \"say\", \"say\", \"say\", \"say\", \"say\", \"say\", \"science\", \"science\", \"science\", \"science\", \"science\", \"score\", \"score\", \"score\", \"screen\", \"screen\", \"screen\", \"scripture\", \"scsi\", \"season\", \"season\", \"season\", \"secret\", \"secret\", \"secret\", \"secret\", \"secret\", \"secretary\", \"secure\", \"secure\", \"secure\", \"security\", \"security\", \"security\", \"security\", \"security\", \"sell\", \"sell\", \"sell\", \"sell\", \"sell\", \"sell\", \"senator\", \"serdar\", \"server\", \"server\", \"server\", \"server\", \"sexual\", \"sexual\", \"sexual\", \"shaft\", \"shaft\", \"shameful\", \"shareware\", \"shark\", \"sherri\", \"shipping\", \"shipping\", \"shipping\", \"shipping\", \"shoot\", \"shoot\", \"shoot\", \"shoot\", \"shuttle\", \"signal\", \"signal\", \"signal\", \"signal\", \"signal\", \"sin\", \"sinus\", \"skipjack\", \"snake\", \"snake\", \"software\", \"software\", \"software\", \"software\", \"software\", \"software\", \"software\", \"soldier\", \"soldier\", \"sound\", \"sound\", \"sound\", \"sound\", \"sound\", \"sound\", \"space\", \"space\", \"space\", \"space\", \"space\", \"space\", \"spacecraft\", \"speaker\", \"speaker\", \"speaker\", \"squid\", \"squid\", \"stat\", \"stat\", \"stat\", \"stat\", \"state\", \"state\", \"state\", \"state\", \"state\", \"statement\", \"statement\", \"statement\", \"statement\", \"statement\", \"stereo\", \"stereo\", \"storm\", \"storm\", \"storm\", \"stove\", \"stripe\", \"stripe\", \"stripe\", \"subsidiary\", \"subsidiary\", \"substantiate\", \"substantiate\", \"substitution\", \"substitution\", \"sudbury\", \"sudbury\", \"sudbury\", \"sunrise\", \"survivor\", \"syqu\", \"sysop\", \"tad\", \"tad\", \"talent\", \"talent\", \"tap\", \"tap\", \"tap\", \"teaching\", \"team\", \"team\", \"team\", \"team\", \"texture\", \"thank\", \"thank\", \"thank\", \"thank\", \"thank\", \"thank\", \"thank\", \"theist\", \"theres\", \"thigh\", \"thing\", \"thing\", \"thing\", \"thing\", \"thing\", \"thing\", \"thing\", \"think\", \"think\", \"think\", \"think\", \"think\", \"think\", \"think\", \"thruster\", \"thruster\", \"tiger\", \"tiger\", \"tiger\", \"tiger\", \"time\", \"time\", \"time\", \"time\", \"time\", \"time\", \"time\", \"tire\", \"tobias\", \"tobias\", \"trade\", \"trade\", \"trade\", \"trade\", \"trade\", \"trade\", \"trade\", \"trader\", \"transformer\", \"tread\", \"troop\", \"troop\", \"true\", \"true\", \"true\", \"true\", \"true\", \"true\", \"trunk\", \"trunk\", \"trust\", \"trust\", \"trust\", \"trust\", \"truth\", \"truth\", \"truth\", \"truth\", \"try\", \"try\", \"try\", \"try\", \"try\", \"try\", \"try\", \"turkish\", \"turkish\", \"ultrix\", \"uniform\", \"uniform\", \"unit\", \"unit\", \"unit\", \"unit\", \"unit\", \"unit\", \"upgrade\", \"upgrade\", \"version\", \"version\", \"version\", \"version\", \"version\", \"version\", \"version\", \"vertex\", \"vertex\", \"vga\", \"video\", \"video\", \"video\", \"video\", \"video\", \"views\", \"views\", \"village\", \"vinyl\", \"volt\", \"voltage\", \"voltage\", \"wallpaper\", \"wallpaper\", \"want\", \"want\", \"want\", \"want\", \"want\", \"want\", \"want\", \"warrant\", \"warrant\", \"warrant\", \"warrant\", \"warrant\", \"wate\", \"way\", \"way\", \"way\", \"way\", \"way\", \"way\", \"way\", \"weapon\", \"weapon\", \"weapon\", \"weary\", \"weary\", \"week\", \"week\", \"week\", \"week\", \"week\", \"week\", \"whaler\", \"whaler\", \"wheelie\", \"widget\", \"win\", \"win\", \"win\", \"win\", \"win\", \"window\", \"window\", \"window\", \"window\", \"wing\", \"wing\", \"wing\", \"wing\", \"wingate\", \"wire\", \"wire\", \"wire\", \"wire\", \"wire\", \"wiretap\", \"wiring\", \"wiring\", \"wizard\", \"word\", \"word\", \"word\", \"word\", \"word\", \"word\", \"work\", \"work\", \"work\", \"work\", \"work\", \"work\", \"work\", \"worship\", \"write\", \"write\", \"write\", \"write\", \"write\", \"write\", \"write\", \"year\", \"year\", \"year\", \"year\", \"year\", \"year\", \"year\", \"yeast\"]}, \"R\": 30, \"lambda.step\": 0.01, \"plot.opts\": {\"xlab\": \"PC1\", \"ylab\": \"PC2\"}, \"topic.order\": [10, 4, 8, 1, 9, 2, 5, 7, 6, 3]};\n",
              "\n",
              "function LDAvis_load_lib(url, callback){\n",
              "  var s = document.createElement('script');\n",
              "  s.src = url;\n",
              "  s.async = true;\n",
              "  s.onreadystatechange = s.onload = callback;\n",
              "  s.onerror = function(){console.warn(\"failed to load library \" + url);};\n",
              "  document.getElementsByTagName(\"head\")[0].appendChild(s);\n",
              "}\n",
              "\n",
              "if(typeof(LDAvis) !== \"undefined\"){\n",
              "   // already loaded: just create the visualization\n",
              "   !function(LDAvis){\n",
              "       new LDAvis(\"#\" + \"ldavis_el1201398987046530727806513658\", ldavis_el1201398987046530727806513658_data);\n",
              "   }(LDAvis);\n",
              "}else if(typeof define === \"function\" && define.amd){\n",
              "   // require.js is available: use it to load d3/LDAvis\n",
              "   require.config({paths: {d3: \"https://cdnjs.cloudflare.com/ajax/libs/d3/3.5.5/d3.min\"}});\n",
              "   require([\"d3\"], function(d3){\n",
              "      window.d3 = d3;\n",
              "      LDAvis_load_lib(\"https://cdn.rawgit.com/bmabey/pyLDAvis/files/ldavis.v1.0.0.js\", function(){\n",
              "        new LDAvis(\"#\" + \"ldavis_el1201398987046530727806513658\", ldavis_el1201398987046530727806513658_data);\n",
              "      });\n",
              "    });\n",
              "}else{\n",
              "    // require.js not available: dynamically load d3 & LDAvis\n",
              "    LDAvis_load_lib(\"https://cdnjs.cloudflare.com/ajax/libs/d3/3.5.5/d3.min.js\", function(){\n",
              "         LDAvis_load_lib(\"https://cdn.rawgit.com/bmabey/pyLDAvis/files/ldavis.v1.0.0.js\", function(){\n",
              "                 new LDAvis(\"#\" + \"ldavis_el1201398987046530727806513658\", ldavis_el1201398987046530727806513658_data);\n",
              "            })\n",
              "         });\n",
              "}\n",
              "</script>"
            ],
            "text/plain": [
              "PreparedData(topic_coordinates=               x          y  topics  cluster       Freq\n",
              "topic                                                  \n",
              "9      32.420952   8.115230       1        1  21.224662\n",
              "3       0.648955  71.707100       2        1  20.221915\n",
              "7      71.019684   9.971006       3        1  19.929311\n",
              "0       3.785981  33.185135       4        1  19.599572\n",
              "8     -42.666500  -9.222070       5        1   5.666369\n",
              "1      -3.621689 -43.526516       6        1   4.175069\n",
              "4      -3.632402  -4.171708       7        1   4.048840\n",
              "6     -36.584400  35.804413       8        1   1.734551\n",
              "5      44.391380  50.615383       9        1   1.731770\n",
              "2      40.235809 -31.591665      10        1   1.667941, topic_info=               Term        Freq       Total Category  logprob  loglift\n",
              "3294            key   87.000000   87.000000  Default  30.0000  30.0000\n",
              "5206           sale   76.000000   76.000000  Default  29.0000  29.0000\n",
              "6578         window  126.000000  126.000000  Default  28.0000  28.0000\n",
              "2526           game   98.000000   98.000000  Default  27.0000  27.0000\n",
              "953            chip   74.000000   74.000000  Default  26.0000  26.0000\n",
              "...             ...         ...         ...      ...      ...      ...\n",
              "5802   substantiate    1.811182    3.700551  Topic10  -6.3607   3.3791\n",
              "2655       greeting    2.288621    9.205668  Topic10  -6.1267   2.7017\n",
              "4240  participation    1.886446    4.352186  Topic10  -6.3200   3.2576\n",
              "886            cent    1.939179    5.468829  Topic10  -6.2924   3.0568\n",
              "2599      glutamate    1.910693    5.329005  Topic10  -6.3072   3.0679\n",
              "\n",
              "[621 rows x 6 columns], token_table=      Topic      Freq        Term\n",
              "term                             \n",
              "19       10  0.817896  abstinence\n",
              "31        1  0.157269      accept\n",
              "31        2  0.629077      accept\n",
              "31        3  0.078635      accept\n",
              "31        4  0.104846      accept\n",
              "...     ...       ...         ...\n",
              "6660      4  0.458373        year\n",
              "6660      5  0.016083        year\n",
              "6660      6  0.016083        year\n",
              "6660      7  0.072375        year\n",
              "6663      7  0.891962       yeast\n",
              "\n",
              "[1447 rows x 3 columns], R=30, lambda_step=0.01, plot_opts={'xlab': 'PC1', 'ylab': 'PC2'}, topic_order=[10, 4, 8, 1, 9, 2, 5, 7, 6, 3])"
            ]
          },
          "metadata": {
            "tags": []
          },
          "execution_count": 91
        }
      ]
    },
    {
      "cell_type": "markdown",
      "metadata": {
        "id": "2ADdBltWah0E",
        "colab_type": "text"
      },
      "source": [
        "### Topic's keyword distribution"
      ]
    },
    {
      "cell_type": "code",
      "metadata": {
        "id": "MQRQF3mganiU",
        "colab_type": "code",
        "colab": {
          "base_uri": "https://localhost:8080/",
          "height": 247
        },
        "outputId": "75842c0e-a5dc-43cf-84ca-ae1ea019e2cd"
      },
      "source": [
        "topicnames = [\"Topic\" + str(i) for i in range(best_lda_model.n_components)]\n",
        "\n",
        "# topic keyword matrix\n",
        "df_topic_keywords = pd.DataFrame(best_lda_model.components_)\n",
        "\n",
        "# columns are the words\n",
        "df_topic_keywords.columns = tfidf.get_feature_names()\n",
        "\n",
        "# rows are the topics\n",
        "df_topic_keywords.index = topicnames\n",
        "\n",
        "df_topic_keywords.head()"
      ],
      "execution_count": 94,
      "outputs": [
        {
          "output_type": "execute_result",
          "data": {
            "text/html": [
              "<div>\n",
              "<style scoped>\n",
              "    .dataframe tbody tr th:only-of-type {\n",
              "        vertical-align: middle;\n",
              "    }\n",
              "\n",
              "    .dataframe tbody tr th {\n",
              "        vertical-align: top;\n",
              "    }\n",
              "\n",
              "    .dataframe thead th {\n",
              "        text-align: right;\n",
              "    }\n",
              "</style>\n",
              "<table border=\"1\" class=\"dataframe\">\n",
              "  <thead>\n",
              "    <tr style=\"text-align: right;\">\n",
              "      <th></th>\n",
              "      <th>aaa</th>\n",
              "      <th>aaron</th>\n",
              "      <th>abandon</th>\n",
              "      <th>abbreviation</th>\n",
              "      <th>abide</th>\n",
              "      <th>ability</th>\n",
              "      <th>able</th>\n",
              "      <th>abolish</th>\n",
              "      <th>abomination</th>\n",
              "      <th>abort</th>\n",
              "      <th>abortion</th>\n",
              "      <th>abridge</th>\n",
              "      <th>abroad</th>\n",
              "      <th>abs</th>\n",
              "      <th>absence</th>\n",
              "      <th>absent</th>\n",
              "      <th>absolute</th>\n",
              "      <th>absolutely</th>\n",
              "      <th>absorb</th>\n",
              "      <th>abstinence</th>\n",
              "      <th>abstract</th>\n",
              "      <th>absurd</th>\n",
              "      <th>absurdity</th>\n",
              "      <th>abundant</th>\n",
              "      <th>abuse</th>\n",
              "      <th>abusive</th>\n",
              "      <th>academia</th>\n",
              "      <th>academic</th>\n",
              "      <th>accelerate</th>\n",
              "      <th>acceleration</th>\n",
              "      <th>accelerator</th>\n",
              "      <th>accept</th>\n",
              "      <th>acceptable</th>\n",
              "      <th>acceptance</th>\n",
              "      <th>access</th>\n",
              "      <th>accessible</th>\n",
              "      <th>accessory</th>\n",
              "      <th>accident</th>\n",
              "      <th>accidental</th>\n",
              "      <th>accidentally</th>\n",
              "      <th>...</th>\n",
              "      <th>wreck</th>\n",
              "      <th>wrist</th>\n",
              "      <th>write</th>\n",
              "      <th>writer</th>\n",
              "      <th>writing</th>\n",
              "      <th>wrong</th>\n",
              "      <th>wrongful</th>\n",
              "      <th>wwii</th>\n",
              "      <th>xaw</th>\n",
              "      <th>ximage</th>\n",
              "      <th>xlib</th>\n",
              "      <th>xor</th>\n",
              "      <th>xputimage</th>\n",
              "      <th>xserver</th>\n",
              "      <th>xview</th>\n",
              "      <th>xwindow</th>\n",
              "      <th>xxdate</th>\n",
              "      <th>yank</th>\n",
              "      <th>yard</th>\n",
              "      <th>yea</th>\n",
              "      <th>year</th>\n",
              "      <th>yearly</th>\n",
              "      <th>years</th>\n",
              "      <th>yeast</th>\n",
              "      <th>yell</th>\n",
              "      <th>yellow</th>\n",
              "      <th>yesterday</th>\n",
              "      <th>yield</th>\n",
              "      <th>young</th>\n",
              "      <th>youngster</th>\n",
              "      <th>yourselfer</th>\n",
              "      <th>youth</th>\n",
              "      <th>ysu</th>\n",
              "      <th>yup</th>\n",
              "      <th>zinc</th>\n",
              "      <th>zionism</th>\n",
              "      <th>zionist</th>\n",
              "      <th>zip</th>\n",
              "      <th>zone</th>\n",
              "      <th>zoom</th>\n",
              "    </tr>\n",
              "  </thead>\n",
              "  <tbody>\n",
              "    <tr>\n",
              "      <th>Topic0</th>\n",
              "      <td>1.037152</td>\n",
              "      <td>0.658276</td>\n",
              "      <td>0.886788</td>\n",
              "      <td>1.050146</td>\n",
              "      <td>0.100000</td>\n",
              "      <td>4.538552</td>\n",
              "      <td>15.757559</td>\n",
              "      <td>0.100173</td>\n",
              "      <td>0.100175</td>\n",
              "      <td>0.100045</td>\n",
              "      <td>1.323026</td>\n",
              "      <td>0.100048</td>\n",
              "      <td>0.10001</td>\n",
              "      <td>0.242367</td>\n",
              "      <td>0.100327</td>\n",
              "      <td>0.947405</td>\n",
              "      <td>1.297948</td>\n",
              "      <td>4.620009</td>\n",
              "      <td>1.258422</td>\n",
              "      <td>0.100035</td>\n",
              "      <td>1.790189</td>\n",
              "      <td>2.870439</td>\n",
              "      <td>0.928604</td>\n",
              "      <td>0.100007</td>\n",
              "      <td>0.100148</td>\n",
              "      <td>0.109532</td>\n",
              "      <td>0.100156</td>\n",
              "      <td>0.874582</td>\n",
              "      <td>0.606446</td>\n",
              "      <td>3.810870</td>\n",
              "      <td>0.790557</td>\n",
              "      <td>4.097218</td>\n",
              "      <td>0.830402</td>\n",
              "      <td>1.600077</td>\n",
              "      <td>2.869542</td>\n",
              "      <td>0.101013</td>\n",
              "      <td>0.100024</td>\n",
              "      <td>0.100211</td>\n",
              "      <td>0.378732</td>\n",
              "      <td>0.100006</td>\n",
              "      <td>...</td>\n",
              "      <td>0.100132</td>\n",
              "      <td>1.590176</td>\n",
              "      <td>76.411650</td>\n",
              "      <td>2.604536</td>\n",
              "      <td>0.100491</td>\n",
              "      <td>9.082246</td>\n",
              "      <td>0.100000</td>\n",
              "      <td>0.100003</td>\n",
              "      <td>0.100007</td>\n",
              "      <td>0.417998</td>\n",
              "      <td>0.100000</td>\n",
              "      <td>0.100004</td>\n",
              "      <td>2.110277</td>\n",
              "      <td>0.1</td>\n",
              "      <td>0.100002</td>\n",
              "      <td>0.100000</td>\n",
              "      <td>2.189750</td>\n",
              "      <td>2.602344</td>\n",
              "      <td>2.501892</td>\n",
              "      <td>0.580849</td>\n",
              "      <td>65.126044</td>\n",
              "      <td>0.100832</td>\n",
              "      <td>5.047384</td>\n",
              "      <td>0.100023</td>\n",
              "      <td>0.752272</td>\n",
              "      <td>2.264979</td>\n",
              "      <td>6.457405</td>\n",
              "      <td>1.594343</td>\n",
              "      <td>9.481675</td>\n",
              "      <td>1.377965</td>\n",
              "      <td>0.100046</td>\n",
              "      <td>0.126346</td>\n",
              "      <td>0.100002</td>\n",
              "      <td>0.993116</td>\n",
              "      <td>0.116352</td>\n",
              "      <td>0.100000</td>\n",
              "      <td>0.100000</td>\n",
              "      <td>0.100016</td>\n",
              "      <td>2.491403</td>\n",
              "      <td>0.100857</td>\n",
              "    </tr>\n",
              "    <tr>\n",
              "      <th>Topic1</th>\n",
              "      <td>0.100320</td>\n",
              "      <td>0.100000</td>\n",
              "      <td>0.100006</td>\n",
              "      <td>1.012255</td>\n",
              "      <td>0.100000</td>\n",
              "      <td>0.100003</td>\n",
              "      <td>0.448317</td>\n",
              "      <td>0.100000</td>\n",
              "      <td>0.100000</td>\n",
              "      <td>0.100007</td>\n",
              "      <td>0.100000</td>\n",
              "      <td>0.100003</td>\n",
              "      <td>0.10000</td>\n",
              "      <td>1.046931</td>\n",
              "      <td>0.100000</td>\n",
              "      <td>0.100000</td>\n",
              "      <td>0.100012</td>\n",
              "      <td>0.100629</td>\n",
              "      <td>0.100000</td>\n",
              "      <td>0.100000</td>\n",
              "      <td>0.100002</td>\n",
              "      <td>0.100319</td>\n",
              "      <td>0.100000</td>\n",
              "      <td>0.100000</td>\n",
              "      <td>0.100031</td>\n",
              "      <td>0.100000</td>\n",
              "      <td>0.100000</td>\n",
              "      <td>0.100026</td>\n",
              "      <td>1.040636</td>\n",
              "      <td>0.100017</td>\n",
              "      <td>0.100003</td>\n",
              "      <td>0.967537</td>\n",
              "      <td>0.100023</td>\n",
              "      <td>0.100000</td>\n",
              "      <td>0.898988</td>\n",
              "      <td>0.100143</td>\n",
              "      <td>2.016639</td>\n",
              "      <td>0.476314</td>\n",
              "      <td>0.100201</td>\n",
              "      <td>0.100034</td>\n",
              "      <td>...</td>\n",
              "      <td>0.100007</td>\n",
              "      <td>0.100010</td>\n",
              "      <td>5.519261</td>\n",
              "      <td>0.166943</td>\n",
              "      <td>0.100001</td>\n",
              "      <td>1.138284</td>\n",
              "      <td>0.100000</td>\n",
              "      <td>0.100000</td>\n",
              "      <td>2.454211</td>\n",
              "      <td>2.925215</td>\n",
              "      <td>0.100049</td>\n",
              "      <td>0.100003</td>\n",
              "      <td>2.016543</td>\n",
              "      <td>0.1</td>\n",
              "      <td>0.100003</td>\n",
              "      <td>2.804196</td>\n",
              "      <td>0.255497</td>\n",
              "      <td>0.100000</td>\n",
              "      <td>0.100043</td>\n",
              "      <td>0.222709</td>\n",
              "      <td>2.069438</td>\n",
              "      <td>0.100000</td>\n",
              "      <td>0.100185</td>\n",
              "      <td>0.100000</td>\n",
              "      <td>0.100011</td>\n",
              "      <td>1.964773</td>\n",
              "      <td>0.100015</td>\n",
              "      <td>0.476917</td>\n",
              "      <td>0.100006</td>\n",
              "      <td>0.100000</td>\n",
              "      <td>1.285586</td>\n",
              "      <td>0.100000</td>\n",
              "      <td>0.100002</td>\n",
              "      <td>0.100021</td>\n",
              "      <td>0.100054</td>\n",
              "      <td>0.100000</td>\n",
              "      <td>0.100000</td>\n",
              "      <td>0.425740</td>\n",
              "      <td>0.100000</td>\n",
              "      <td>0.483675</td>\n",
              "    </tr>\n",
              "    <tr>\n",
              "      <th>Topic2</th>\n",
              "      <td>0.100000</td>\n",
              "      <td>0.100000</td>\n",
              "      <td>0.100005</td>\n",
              "      <td>0.100000</td>\n",
              "      <td>0.100000</td>\n",
              "      <td>0.100002</td>\n",
              "      <td>0.100006</td>\n",
              "      <td>0.100000</td>\n",
              "      <td>0.100000</td>\n",
              "      <td>0.100000</td>\n",
              "      <td>0.100014</td>\n",
              "      <td>0.100000</td>\n",
              "      <td>0.10000</td>\n",
              "      <td>0.100000</td>\n",
              "      <td>0.100000</td>\n",
              "      <td>0.100000</td>\n",
              "      <td>0.100000</td>\n",
              "      <td>0.100001</td>\n",
              "      <td>0.100000</td>\n",
              "      <td>3.109366</td>\n",
              "      <td>0.100000</td>\n",
              "      <td>0.100001</td>\n",
              "      <td>0.100015</td>\n",
              "      <td>0.100000</td>\n",
              "      <td>0.100014</td>\n",
              "      <td>0.100002</td>\n",
              "      <td>0.100001</td>\n",
              "      <td>0.100000</td>\n",
              "      <td>0.100000</td>\n",
              "      <td>0.100000</td>\n",
              "      <td>0.100000</td>\n",
              "      <td>0.100063</td>\n",
              "      <td>0.100000</td>\n",
              "      <td>0.100010</td>\n",
              "      <td>0.100001</td>\n",
              "      <td>0.100000</td>\n",
              "      <td>0.100000</td>\n",
              "      <td>0.100000</td>\n",
              "      <td>0.144744</td>\n",
              "      <td>0.100000</td>\n",
              "      <td>...</td>\n",
              "      <td>0.432913</td>\n",
              "      <td>0.100000</td>\n",
              "      <td>0.177186</td>\n",
              "      <td>0.100000</td>\n",
              "      <td>0.100006</td>\n",
              "      <td>0.100004</td>\n",
              "      <td>0.100000</td>\n",
              "      <td>0.100000</td>\n",
              "      <td>0.100000</td>\n",
              "      <td>0.100000</td>\n",
              "      <td>0.100000</td>\n",
              "      <td>0.100000</td>\n",
              "      <td>0.100000</td>\n",
              "      <td>0.1</td>\n",
              "      <td>0.100000</td>\n",
              "      <td>0.907959</td>\n",
              "      <td>0.100000</td>\n",
              "      <td>0.100000</td>\n",
              "      <td>0.100000</td>\n",
              "      <td>0.100000</td>\n",
              "      <td>0.100004</td>\n",
              "      <td>0.100000</td>\n",
              "      <td>0.100000</td>\n",
              "      <td>0.100000</td>\n",
              "      <td>0.100000</td>\n",
              "      <td>0.100000</td>\n",
              "      <td>0.100000</td>\n",
              "      <td>0.100000</td>\n",
              "      <td>0.100000</td>\n",
              "      <td>0.100000</td>\n",
              "      <td>0.100000</td>\n",
              "      <td>0.100002</td>\n",
              "      <td>0.100000</td>\n",
              "      <td>0.100000</td>\n",
              "      <td>0.100013</td>\n",
              "      <td>0.100000</td>\n",
              "      <td>0.100000</td>\n",
              "      <td>0.100000</td>\n",
              "      <td>0.100000</td>\n",
              "      <td>0.100000</td>\n",
              "    </tr>\n",
              "    <tr>\n",
              "      <th>Topic3</th>\n",
              "      <td>0.103632</td>\n",
              "      <td>1.376530</td>\n",
              "      <td>1.676865</td>\n",
              "      <td>0.100804</td>\n",
              "      <td>0.100139</td>\n",
              "      <td>5.836542</td>\n",
              "      <td>9.586604</td>\n",
              "      <td>0.103965</td>\n",
              "      <td>1.196036</td>\n",
              "      <td>0.100009</td>\n",
              "      <td>7.392333</td>\n",
              "      <td>0.100158</td>\n",
              "      <td>0.16344</td>\n",
              "      <td>0.100032</td>\n",
              "      <td>2.721259</td>\n",
              "      <td>0.956199</td>\n",
              "      <td>11.248083</td>\n",
              "      <td>5.682379</td>\n",
              "      <td>0.168835</td>\n",
              "      <td>0.100487</td>\n",
              "      <td>1.164499</td>\n",
              "      <td>3.088893</td>\n",
              "      <td>1.582831</td>\n",
              "      <td>0.977828</td>\n",
              "      <td>5.988851</td>\n",
              "      <td>0.881626</td>\n",
              "      <td>0.259435</td>\n",
              "      <td>1.222041</td>\n",
              "      <td>0.100018</td>\n",
              "      <td>0.100001</td>\n",
              "      <td>0.100009</td>\n",
              "      <td>25.961151</td>\n",
              "      <td>3.591759</td>\n",
              "      <td>1.214104</td>\n",
              "      <td>2.620046</td>\n",
              "      <td>0.293823</td>\n",
              "      <td>0.100004</td>\n",
              "      <td>0.100040</td>\n",
              "      <td>0.100481</td>\n",
              "      <td>0.100019</td>\n",
              "      <td>...</td>\n",
              "      <td>0.100167</td>\n",
              "      <td>0.100000</td>\n",
              "      <td>82.761779</td>\n",
              "      <td>5.252241</td>\n",
              "      <td>6.050084</td>\n",
              "      <td>24.887887</td>\n",
              "      <td>0.388949</td>\n",
              "      <td>1.502056</td>\n",
              "      <td>0.100001</td>\n",
              "      <td>0.100001</td>\n",
              "      <td>0.100000</td>\n",
              "      <td>0.100040</td>\n",
              "      <td>0.100000</td>\n",
              "      <td>0.1</td>\n",
              "      <td>0.100000</td>\n",
              "      <td>0.100002</td>\n",
              "      <td>0.100003</td>\n",
              "      <td>0.100000</td>\n",
              "      <td>0.100006</td>\n",
              "      <td>0.773614</td>\n",
              "      <td>18.322979</td>\n",
              "      <td>0.100007</td>\n",
              "      <td>2.687325</td>\n",
              "      <td>0.100014</td>\n",
              "      <td>2.201476</td>\n",
              "      <td>0.100079</td>\n",
              "      <td>0.100043</td>\n",
              "      <td>0.100066</td>\n",
              "      <td>5.570229</td>\n",
              "      <td>0.173495</td>\n",
              "      <td>0.100403</td>\n",
              "      <td>0.100105</td>\n",
              "      <td>0.100000</td>\n",
              "      <td>0.404389</td>\n",
              "      <td>0.100684</td>\n",
              "      <td>6.482925</td>\n",
              "      <td>2.534011</td>\n",
              "      <td>0.100341</td>\n",
              "      <td>0.100045</td>\n",
              "      <td>0.100001</td>\n",
              "    </tr>\n",
              "    <tr>\n",
              "      <th>Topic4</th>\n",
              "      <td>1.434790</td>\n",
              "      <td>0.100000</td>\n",
              "      <td>0.100002</td>\n",
              "      <td>0.100004</td>\n",
              "      <td>0.100002</td>\n",
              "      <td>0.707565</td>\n",
              "      <td>0.110377</td>\n",
              "      <td>1.320790</td>\n",
              "      <td>0.100003</td>\n",
              "      <td>0.100000</td>\n",
              "      <td>0.153473</td>\n",
              "      <td>0.100000</td>\n",
              "      <td>0.10000</td>\n",
              "      <td>0.100070</td>\n",
              "      <td>0.100041</td>\n",
              "      <td>0.100019</td>\n",
              "      <td>0.100004</td>\n",
              "      <td>0.100012</td>\n",
              "      <td>0.100003</td>\n",
              "      <td>0.100001</td>\n",
              "      <td>0.100070</td>\n",
              "      <td>0.100012</td>\n",
              "      <td>0.100002</td>\n",
              "      <td>0.100009</td>\n",
              "      <td>0.285200</td>\n",
              "      <td>0.100010</td>\n",
              "      <td>0.483935</td>\n",
              "      <td>1.936966</td>\n",
              "      <td>0.100001</td>\n",
              "      <td>0.100000</td>\n",
              "      <td>0.100000</td>\n",
              "      <td>0.171095</td>\n",
              "      <td>0.100009</td>\n",
              "      <td>0.100010</td>\n",
              "      <td>0.142757</td>\n",
              "      <td>0.100354</td>\n",
              "      <td>0.100000</td>\n",
              "      <td>0.757243</td>\n",
              "      <td>0.100001</td>\n",
              "      <td>0.100000</td>\n",
              "      <td>...</td>\n",
              "      <td>0.200085</td>\n",
              "      <td>1.098327</td>\n",
              "      <td>15.835570</td>\n",
              "      <td>0.762012</td>\n",
              "      <td>0.302856</td>\n",
              "      <td>3.048823</td>\n",
              "      <td>0.100000</td>\n",
              "      <td>0.100008</td>\n",
              "      <td>0.100014</td>\n",
              "      <td>0.100003</td>\n",
              "      <td>0.100000</td>\n",
              "      <td>0.100000</td>\n",
              "      <td>0.100005</td>\n",
              "      <td>0.1</td>\n",
              "      <td>0.100000</td>\n",
              "      <td>0.100000</td>\n",
              "      <td>0.261380</td>\n",
              "      <td>0.100021</td>\n",
              "      <td>0.100004</td>\n",
              "      <td>0.100001</td>\n",
              "      <td>10.698799</td>\n",
              "      <td>0.101023</td>\n",
              "      <td>0.372369</td>\n",
              "      <td>5.318613</td>\n",
              "      <td>0.100019</td>\n",
              "      <td>0.100038</td>\n",
              "      <td>3.028649</td>\n",
              "      <td>0.497224</td>\n",
              "      <td>3.886323</td>\n",
              "      <td>0.240134</td>\n",
              "      <td>0.100001</td>\n",
              "      <td>0.613530</td>\n",
              "      <td>0.100000</td>\n",
              "      <td>0.100009</td>\n",
              "      <td>0.102944</td>\n",
              "      <td>0.100000</td>\n",
              "      <td>0.100000</td>\n",
              "      <td>0.100004</td>\n",
              "      <td>0.260833</td>\n",
              "      <td>0.100327</td>\n",
              "    </tr>\n",
              "  </tbody>\n",
              "</table>\n",
              "<p>5 rows × 6680 columns</p>\n",
              "</div>"
            ],
            "text/plain": [
              "             aaa     aaron   abandon  ...       zip      zone      zoom\n",
              "Topic0  1.037152  0.658276  0.886788  ...  0.100016  2.491403  0.100857\n",
              "Topic1  0.100320  0.100000  0.100006  ...  0.425740  0.100000  0.483675\n",
              "Topic2  0.100000  0.100000  0.100005  ...  0.100000  0.100000  0.100000\n",
              "Topic3  0.103632  1.376530  1.676865  ...  0.100341  0.100045  0.100001\n",
              "Topic4  1.434790  0.100000  0.100002  ...  0.100004  0.260833  0.100327\n",
              "\n",
              "[5 rows x 6680 columns]"
            ]
          },
          "metadata": {
            "tags": []
          },
          "execution_count": 94
        }
      ]
    },
    {
      "cell_type": "markdown",
      "metadata": {
        "id": "lK0bqbRqcagL",
        "colab_type": "text"
      },
      "source": [
        "### Top 15 keywords in each topic"
      ]
    },
    {
      "cell_type": "code",
      "metadata": {
        "id": "KTUqqRHicX7f",
        "colab_type": "code",
        "colab": {
          "base_uri": "https://localhost:8080/",
          "height": 348
        },
        "outputId": "06d7bc08-9b26-420e-8045-0d93adff2e72"
      },
      "source": [
        "def top_words(vectorizer=tfidf, lda_model=lda_model, n_words=15):\n",
        "    keywords = np.array(vectorizer.get_feature_names())\n",
        "    topic_keywords = []\n",
        "    for topic_weights in lda_model.components_:\n",
        "        top_keyword_locs = (-topic_weights).argsort()[:n_words]\n",
        "        topic_keywords.append(keywords.take(top_keyword_locs))\n",
        "    return topic_keywords\n",
        "\n",
        "topic_keywords = top_words(vectorizer=tfidf, lda_model=best_lda_model, n_words=15)        \n",
        "\n",
        "# Topic - Keywords Dataframe\n",
        "df_topic_top_keywords = pd.DataFrame(topic_keywords)\n",
        "df_topic_top_keywords.columns = ['Word '+str(i) for i in range(df_topic_top_keywords.shape[1])]\n",
        "df_topic_top_keywords.index = ['Topic '+str(i) for i in range(df_topic_top_keywords.shape[0])]\n",
        "df_topic_top_keywords"
      ],
      "execution_count": 114,
      "outputs": [
        {
          "output_type": "execute_result",
          "data": {
            "text/html": [
              "<div>\n",
              "<style scoped>\n",
              "    .dataframe tbody tr th:only-of-type {\n",
              "        vertical-align: middle;\n",
              "    }\n",
              "\n",
              "    .dataframe tbody tr th {\n",
              "        vertical-align: top;\n",
              "    }\n",
              "\n",
              "    .dataframe thead th {\n",
              "        text-align: right;\n",
              "    }\n",
              "</style>\n",
              "<table border=\"1\" class=\"dataframe\">\n",
              "  <thead>\n",
              "    <tr style=\"text-align: right;\">\n",
              "      <th></th>\n",
              "      <th>Word 0</th>\n",
              "      <th>Word 1</th>\n",
              "      <th>Word 2</th>\n",
              "      <th>Word 3</th>\n",
              "      <th>Word 4</th>\n",
              "      <th>Word 5</th>\n",
              "      <th>Word 6</th>\n",
              "      <th>Word 7</th>\n",
              "      <th>Word 8</th>\n",
              "      <th>Word 9</th>\n",
              "      <th>Word 10</th>\n",
              "      <th>Word 11</th>\n",
              "      <th>Word 12</th>\n",
              "      <th>Word 13</th>\n",
              "      <th>Word 14</th>\n",
              "    </tr>\n",
              "  </thead>\n",
              "  <tbody>\n",
              "    <tr>\n",
              "      <th>Topic 0</th>\n",
              "      <td>line</td>\n",
              "      <td>game</td>\n",
              "      <td>write</td>\n",
              "      <td>team</td>\n",
              "      <td>player</td>\n",
              "      <td>article</td>\n",
              "      <td>year</td>\n",
              "      <td>play</td>\n",
              "      <td>know</td>\n",
              "      <td>good</td>\n",
              "      <td>think</td>\n",
              "      <td>host</td>\n",
              "      <td>time</td>\n",
              "      <td>make</td>\n",
              "      <td>say</td>\n",
              "    </tr>\n",
              "    <tr>\n",
              "      <th>Topic 1</th>\n",
              "      <td>sale</td>\n",
              "      <td>line</td>\n",
              "      <td>offer</td>\n",
              "      <td>battery</td>\n",
              "      <td>sell</td>\n",
              "      <td>shipping</td>\n",
              "      <td>voltage</td>\n",
              "      <td>audio</td>\n",
              "      <td>output</td>\n",
              "      <td>signal</td>\n",
              "      <td>power</td>\n",
              "      <td>wire</td>\n",
              "      <td>input</td>\n",
              "      <td>thank</td>\n",
              "      <td>amp</td>\n",
              "    </tr>\n",
              "    <tr>\n",
              "      <th>Topic 2</th>\n",
              "      <td>needle</td>\n",
              "      <td>jagr</td>\n",
              "      <td>copyright</td>\n",
              "      <td>abstinence</td>\n",
              "      <td>passion</td>\n",
              "      <td>manuscript</td>\n",
              "      <td>activate</td>\n",
              "      <td>kermit</td>\n",
              "      <td>andrew</td>\n",
              "      <td>pregnancy</td>\n",
              "      <td>masse</td>\n",
              "      <td>qwk</td>\n",
              "      <td>birthday</td>\n",
              "      <td>molitor</td>\n",
              "      <td>chant</td>\n",
              "    </tr>\n",
              "    <tr>\n",
              "      <th>Topic 3</th>\n",
              "      <td>people</td>\n",
              "      <td>say</td>\n",
              "      <td>write</td>\n",
              "      <td>think</td>\n",
              "      <td>believe</td>\n",
              "      <td>article</td>\n",
              "      <td>know</td>\n",
              "      <td>make</td>\n",
              "      <td>line</td>\n",
              "      <td>law</td>\n",
              "      <td>religion</td>\n",
              "      <td>right</td>\n",
              "      <td>mean</td>\n",
              "      <td>claim</td>\n",
              "      <td>question</td>\n",
              "    </tr>\n",
              "    <tr>\n",
              "      <th>Topic 4</th>\n",
              "      <td>game</td>\n",
              "      <td>win</td>\n",
              "      <td>write</td>\n",
              "      <td>lose</td>\n",
              "      <td>line</td>\n",
              "      <td>baseball</td>\n",
              "      <td>team</td>\n",
              "      <td>article</td>\n",
              "      <td>hit</td>\n",
              "      <td>run</td>\n",
              "      <td>phillie</td>\n",
              "      <td>year</td>\n",
              "      <td>fan</td>\n",
              "      <td>homosexual</td>\n",
              "      <td>good</td>\n",
              "    </tr>\n",
              "    <tr>\n",
              "      <th>Topic 5</th>\n",
              "      <td>nickname</td>\n",
              "      <td>vinyl</td>\n",
              "      <td>cocaine</td>\n",
              "      <td>cigarette</td>\n",
              "      <td>squid</td>\n",
              "      <td>bobby</td>\n",
              "      <td>reporting</td>\n",
              "      <td>trunk</td>\n",
              "      <td>diff</td>\n",
              "      <td>instinctive</td>\n",
              "      <td>prism</td>\n",
              "      <td>lsd</td>\n",
              "      <td>dale</td>\n",
              "      <td>tad</td>\n",
              "      <td>mozumder</td>\n",
              "    </tr>\n",
              "    <tr>\n",
              "      <th>Topic 6</th>\n",
              "      <td>captain</td>\n",
              "      <td>uniform</td>\n",
              "      <td>trade</td>\n",
              "      <td>logo</td>\n",
              "      <td>wallpaper</td>\n",
              "      <td>wheelie</td>\n",
              "      <td>shaft</td>\n",
              "      <td>bmp</td>\n",
              "      <td>bake</td>\n",
              "      <td>retard</td>\n",
              "      <td>loan</td>\n",
              "      <td>outbreak</td>\n",
              "      <td>allocation</td>\n",
              "      <td>mercury</td>\n",
              "      <td>micro</td>\n",
              "    </tr>\n",
              "    <tr>\n",
              "      <th>Topic 7</th>\n",
              "      <td>car</td>\n",
              "      <td>write</td>\n",
              "      <td>article</td>\n",
              "      <td>bike</td>\n",
              "      <td>gun</td>\n",
              "      <td>line</td>\n",
              "      <td>people</td>\n",
              "      <td>say</td>\n",
              "      <td>kill</td>\n",
              "      <td>think</td>\n",
              "      <td>make</td>\n",
              "      <td>time</td>\n",
              "      <td>know</td>\n",
              "      <td>thing</td>\n",
              "      <td>ride</td>\n",
              "    </tr>\n",
              "    <tr>\n",
              "      <th>Topic 8</th>\n",
              "      <td>key</td>\n",
              "      <td>clipper</td>\n",
              "      <td>chip</td>\n",
              "      <td>encryption</td>\n",
              "      <td>phone</td>\n",
              "      <td>government</td>\n",
              "      <td>tap</td>\n",
              "      <td>secure</td>\n",
              "      <td>write</td>\n",
              "      <td>encrypt</td>\n",
              "      <td>line</td>\n",
              "      <td>security</td>\n",
              "      <td>escrow</td>\n",
              "      <td>privacy</td>\n",
              "      <td>secret</td>\n",
              "    </tr>\n",
              "    <tr>\n",
              "      <th>Topic 9</th>\n",
              "      <td>line</td>\n",
              "      <td>window</td>\n",
              "      <td>thank</td>\n",
              "      <td>file</td>\n",
              "      <td>card</td>\n",
              "      <td>know</td>\n",
              "      <td>problem</td>\n",
              "      <td>host</td>\n",
              "      <td>program</td>\n",
              "      <td>help</td>\n",
              "      <td>need</td>\n",
              "      <td>drive</td>\n",
              "      <td>work</td>\n",
              "      <td>mail</td>\n",
              "      <td>write</td>\n",
              "    </tr>\n",
              "  </tbody>\n",
              "</table>\n",
              "</div>"
            ],
            "text/plain": [
              "           Word 0   Word 1     Word 2  ...     Word 12     Word 13   Word 14\n",
              "Topic 0      line     game      write  ...        time        make       say\n",
              "Topic 1      sale     line      offer  ...       input       thank       amp\n",
              "Topic 2    needle     jagr  copyright  ...    birthday     molitor     chant\n",
              "Topic 3    people      say      write  ...        mean       claim  question\n",
              "Topic 4      game      win      write  ...         fan  homosexual      good\n",
              "Topic 5  nickname    vinyl    cocaine  ...        dale         tad  mozumder\n",
              "Topic 6   captain  uniform      trade  ...  allocation     mercury     micro\n",
              "Topic 7       car    write    article  ...        know       thing      ride\n",
              "Topic 8       key  clipper       chip  ...      escrow     privacy    secret\n",
              "Topic 9      line   window      thank  ...        work        mail     write\n",
              "\n",
              "[10 rows x 15 columns]"
            ]
          },
          "metadata": {
            "tags": []
          },
          "execution_count": 114
        }
      ]
    },
    {
      "cell_type": "markdown",
      "metadata": {
        "id": "HDDI7wapdhED",
        "colab_type": "text"
      },
      "source": [
        "### Predicting topic of a sentence"
      ]
    },
    {
      "cell_type": "code",
      "metadata": {
        "id": "IkLjr9GHgWl3",
        "colab_type": "code",
        "colab": {
          "base_uri": "https://localhost:8080/",
          "height": 155
        },
        "outputId": "145b9a80-f2bc-42fb-f75c-e6ea05a0f104"
      },
      "source": [
        "best_lda_model"
      ],
      "execution_count": 115,
      "outputs": [
        {
          "output_type": "execute_result",
          "data": {
            "text/plain": [
              "LatentDirichletAllocation(batch_size=128, doc_topic_prior=None,\n",
              "                          evaluate_every=-1, learning_decay=0.9,\n",
              "                          learning_method='batch', learning_offset=10.0,\n",
              "                          max_doc_update_iter=100, max_iter=10,\n",
              "                          mean_change_tol=0.001, n_components=10, n_jobs=None,\n",
              "                          perp_tol=0.1, random_state=None,\n",
              "                          topic_word_prior=None, total_samples=1000000.0,\n",
              "                          verbose=0)"
            ]
          },
          "metadata": {
            "tags": []
          },
          "execution_count": 115
        }
      ]
    },
    {
      "cell_type": "code",
      "metadata": {
        "id": "snulUqXckF0b",
        "colab_type": "code",
        "colab": {}
      },
      "source": [
        "def predict_topic(text):\n",
        "    tokens = [sentence_to_tokens(text)]\n",
        "    processed_tokens = process_words(tokens)\n",
        "    tfidf_tokens = tfidf.transform(processed_tokens)\n",
        "\n",
        "    topic_scores = best_lda_model.transform(tfidf_tokens)\n",
        "    topic = np.argmax(topic_scores)\n",
        "    topic_score = topic_scores[0][topic]\n",
        "    topic_keywords = df_topic_top_keywords.iloc[topic, :].values.tolist()\n",
        "    return topic, topic_score, topic_keywords"
      ],
      "execution_count": 124,
      "outputs": []
    },
    {
      "cell_type": "code",
      "metadata": {
        "id": "w5d40C26fICr",
        "colab_type": "code",
        "colab": {
          "base_uri": "https://localhost:8080/",
          "height": 69
        },
        "outputId": "4f5da634-3b88-4700-8144-75c35b24951a"
      },
      "source": [
        "# Predict the topic\n",
        "mytext = \"I believe in christianity and like the bible\"\n",
        "topic, prob_scores, words = predict_topic(text = mytext)\n",
        "print(topic)\n",
        "print(prob_scores)\n",
        "print(words)\n"
      ],
      "execution_count": 126,
      "outputs": [
        {
          "output_type": "stream",
          "text": [
            "3\n",
            "0.5499716895590633\n",
            "['people', 'say', 'write', 'think', 'believe', 'article', 'know', 'make', 'line', 'law', 'religion', 'right', 'mean', 'claim', 'question']\n"
          ],
          "name": "stdout"
        }
      ]
    },
    {
      "cell_type": "code",
      "metadata": {
        "id": "PXNbhbulfJyM",
        "colab_type": "code",
        "colab": {}
      },
      "source": [
        ""
      ],
      "execution_count": null,
      "outputs": []
    }
  ]
}