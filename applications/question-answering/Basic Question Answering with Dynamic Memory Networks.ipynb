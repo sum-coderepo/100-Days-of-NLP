{
  "nbformat": 4,
  "nbformat_minor": 0,
  "metadata": {
    "colab": {
      "name": "Basic Question Answering with Dynamic Memory Networks.ipynb",
      "provenance": [],
      "authorship_tag": "ABX9TyO1OeeQdvdN9agNgk2w3KYJ",
      "include_colab_link": true
    },
    "kernelspec": {
      "name": "python3",
      "display_name": "Python 3"
    },
    "accelerator": "GPU"
  },
  "cells": [
    {
      "cell_type": "markdown",
      "metadata": {
        "id": "view-in-github",
        "colab_type": "text"
      },
      "source": [
        "<a href=\"https://colab.research.google.com/github/graviraja/100-Days-of-NLP/blob/applications%2Fquestion-answering/applications/question-answering/Basic%20Question%20Answering%20with%20Dynamic%20Memory%20Networks.ipynb\" target=\"_parent\"><img src=\"https://colab.research.google.com/assets/colab-badge.svg\" alt=\"Open In Colab\"/></a>"
      ]
    },
    {
      "cell_type": "markdown",
      "metadata": {
        "id": "ODJ4ElTacSPE",
        "colab_type": "text"
      },
      "source": [
        "### bAbI dataset"
      ]
    },
    {
      "cell_type": "code",
      "metadata": {
        "id": "R6bw4dtcQzXq",
        "colab_type": "code",
        "colab": {
          "base_uri": "https://localhost:8080/",
          "height": 202
        },
        "outputId": "d1db090b-0b95-4bcb-d5a4-1045eeb8a965"
      },
      "source": [
        "!wget http://www.thespermwhale.com/jaseweston/babi/tasks_1-20_v1-2.tar.gz"
      ],
      "execution_count": 1,
      "outputs": [
        {
          "output_type": "stream",
          "text": [
            "--2020-07-30 18:26:15--  http://www.thespermwhale.com/jaseweston/babi/tasks_1-20_v1-2.tar.gz\n",
            "Resolving www.thespermwhale.com (www.thespermwhale.com)... 69.65.3.213\n",
            "Connecting to www.thespermwhale.com (www.thespermwhale.com)|69.65.3.213|:80... connected.\n",
            "HTTP request sent, awaiting response... 200 OK\n",
            "Length: 15719851 (15M) [application/x-gzip]\n",
            "Saving to: ‘tasks_1-20_v1-2.tar.gz’\n",
            "\n",
            "tasks_1-20_v1-2.tar 100%[===================>]  14.99M  8.15MB/s    in 1.8s    \n",
            "\n",
            "2020-07-30 18:26:17 (8.15 MB/s) - ‘tasks_1-20_v1-2.tar.gz’ saved [15719851/15719851]\n",
            "\n"
          ],
          "name": "stdout"
        }
      ]
    },
    {
      "cell_type": "code",
      "metadata": {
        "id": "WbWgmQqLTHnI",
        "colab_type": "code",
        "colab": {}
      },
      "source": [
        "!tar -xzf tasks_1-20_v1-2.tar.gz"
      ],
      "execution_count": 2,
      "outputs": []
    },
    {
      "cell_type": "code",
      "metadata": {
        "id": "K0acS-01TSlz",
        "colab_type": "code",
        "colab": {
          "base_uri": "https://localhost:8080/",
          "height": 353
        },
        "outputId": "9b15919d-feb7-4d2c-e3a9-bde206dc9529"
      },
      "source": [
        "!ls tasks_1-20_v1-2/en-10k/"
      ],
      "execution_count": 3,
      "outputs": [
        {
          "output_type": "stream",
          "text": [
            "qa10_indefinite-knowledge_test.txt   qa1_single-supporting-fact_test.txt\n",
            "qa10_indefinite-knowledge_train.txt  qa1_single-supporting-fact_train.txt\n",
            "qa11_basic-coreference_test.txt      qa20_agents-motivations_test.txt\n",
            "qa11_basic-coreference_train.txt     qa20_agents-motivations_train.txt\n",
            "qa12_conjunction_test.txt\t     qa2_two-supporting-facts_test.txt\n",
            "qa12_conjunction_train.txt\t     qa2_two-supporting-facts_train.txt\n",
            "qa13_compound-coreference_test.txt   qa3_three-supporting-facts_test.txt\n",
            "qa13_compound-coreference_train.txt  qa3_three-supporting-facts_train.txt\n",
            "qa14_time-reasoning_test.txt\t     qa4_two-arg-relations_test.txt\n",
            "qa14_time-reasoning_train.txt\t     qa4_two-arg-relations_train.txt\n",
            "qa15_basic-deduction_test.txt\t     qa5_three-arg-relations_test.txt\n",
            "qa15_basic-deduction_train.txt\t     qa5_three-arg-relations_train.txt\n",
            "qa16_basic-induction_test.txt\t     qa6_yes-no-questions_test.txt\n",
            "qa16_basic-induction_train.txt\t     qa6_yes-no-questions_train.txt\n",
            "qa17_positional-reasoning_test.txt   qa7_counting_test.txt\n",
            "qa17_positional-reasoning_train.txt  qa7_counting_train.txt\n",
            "qa18_size-reasoning_test.txt\t     qa8_lists-sets_test.txt\n",
            "qa18_size-reasoning_train.txt\t     qa8_lists-sets_train.txt\n",
            "qa19_path-finding_test.txt\t     qa9_simple-negation_test.txt\n",
            "qa19_path-finding_train.txt\t     qa9_simple-negation_train.txt\n"
          ],
          "name": "stdout"
        }
      ]
    },
    {
      "cell_type": "code",
      "metadata": {
        "id": "4E2aYy1tTVBG",
        "colab_type": "code",
        "colab": {}
      },
      "source": [
        "train_file = 'tasks_1-20_v1-2/en-10k/qa5_three-arg-relations_train.txt'\n",
        "test_file = 'tasks_1-20_v1-2/en-10k/qa5_three-arg-relations_test.txt'"
      ],
      "execution_count": 4,
      "outputs": []
    },
    {
      "cell_type": "markdown",
      "metadata": {
        "id": "9cPWpd0ndBjp",
        "colab_type": "text"
      },
      "source": [
        "### Imports"
      ]
    },
    {
      "cell_type": "code",
      "metadata": {
        "id": "CHf-DBHydBP7",
        "colab_type": "code",
        "colab": {}
      },
      "source": [
        "import os\n",
        "import re\n",
        "\n",
        "import time\n",
        "import nltk\n",
        "import random\n",
        "import pickle\n",
        "import unicodedata\n",
        "import numpy as np\n",
        "\n",
        "from collections import Counter\n",
        "from copy import deepcopy\n",
        "\n",
        "import torch\n",
        "import torch.nn as nn\n",
        "import torch.optim as optim\n",
        "import torch.nn.functional as F\n",
        "from torch.utils import data\n",
        "from torch.autograd import Variable\n",
        "\n",
        "from sklearn.model_selection import train_test_split"
      ],
      "execution_count": 5,
      "outputs": []
    },
    {
      "cell_type": "code",
      "metadata": {
        "id": "K-3FAzIxdchj",
        "colab_type": "code",
        "colab": {}
      },
      "source": [
        "device = torch.device('cuda' if torch.cuda.is_available() else 'cpu')"
      ],
      "execution_count": 6,
      "outputs": []
    },
    {
      "cell_type": "markdown",
      "metadata": {
        "id": "hKQpD-ducZio",
        "colab_type": "text"
      },
      "source": [
        "### Data Exploration"
      ]
    },
    {
      "cell_type": "code",
      "metadata": {
        "id": "0hSKvQgUUB8w",
        "colab_type": "code",
        "colab": {}
      },
      "source": [
        "with open(train_file) as f:\n",
        "    train_file_data = f.readlines()"
      ],
      "execution_count": 7,
      "outputs": []
    },
    {
      "cell_type": "code",
      "metadata": {
        "id": "fhMfqa9RUHuj",
        "colab_type": "code",
        "colab": {}
      },
      "source": [
        "train_file_data = [d[:-1] for d in train_file_data]"
      ],
      "execution_count": 8,
      "outputs": []
    },
    {
      "cell_type": "code",
      "metadata": {
        "id": "bgvLWjhDULWI",
        "colab_type": "code",
        "colab": {
          "base_uri": "https://localhost:8080/",
          "height": 521
        },
        "outputId": "5e05e769-46ee-40e5-a0f6-aa43ae6d4ba0"
      },
      "source": [
        "train_file_data[:30]"
      ],
      "execution_count": 9,
      "outputs": [
        {
          "output_type": "execute_result",
          "data": {
            "text/plain": [
              "['1 Bill travelled to the office.',\n",
              " '2 Bill picked up the football there.',\n",
              " '3 Bill went to the bedroom.',\n",
              " '4 Bill gave the football to Fred.',\n",
              " '5 What did Bill give to Fred? \\tfootball\\t4',\n",
              " '6 Fred handed the football to Bill.',\n",
              " '7 Jeff went back to the office.',\n",
              " '8 Who received the football? \\tBill\\t6',\n",
              " '9 Bill travelled to the office.',\n",
              " '10 Bill got the milk there.',\n",
              " '11 Who received the football? \\tBill\\t6',\n",
              " '12 Fred travelled to the garden.',\n",
              " '13 Fred went to the hallway.',\n",
              " '14 Bill journeyed to the bedroom.',\n",
              " '15 Jeff moved to the hallway.',\n",
              " '16 Jeff journeyed to the bathroom.',\n",
              " '17 Bill journeyed to the office.',\n",
              " '18 Fred travelled to the bathroom.',\n",
              " '19 Mary journeyed to the kitchen.',\n",
              " '20 Jeff took the apple there.',\n",
              " '21 Jeff gave the apple to Fred.',\n",
              " '22 Who did Jeff give the apple to? \\tFred\\t21',\n",
              " '23 Bill went back to the bathroom.',\n",
              " '24 Bill left the milk.',\n",
              " '25 Who received the apple? \\tFred\\t21',\n",
              " '1 Mary travelled to the garden.',\n",
              " '2 Mary journeyed to the kitchen.',\n",
              " '3 Bill went back to the office.',\n",
              " '4 Bill journeyed to the hallway.',\n",
              " '5 Jeff went back to the bedroom.']"
            ]
          },
          "metadata": {
            "tags": []
          },
          "execution_count": 9
        }
      ]
    },
    {
      "cell_type": "code",
      "metadata": {
        "id": "GUW_prgcUVhB",
        "colab_type": "code",
        "colab": {}
      },
      "source": [
        "def load_data(data):\n",
        "    qa_data = []\n",
        "    fact = []\n",
        "    qa = []\n",
        "\n",
        "    for d in data:\n",
        "        index = d.split()[0]\n",
        "        if index == \"1\":\n",
        "            fact = []\n",
        "            qa = []\n",
        "        if '?' in d:\n",
        "            temp = d.split('\\t')\n",
        "            q = temp[0].strip().replace('?', '').split()[1:] + ['?']\n",
        "            a = temp[1].split() + ['</s>']\n",
        "            stemp = deepcopy(fact)\n",
        "            qa_data.append([stemp, q, a])\n",
        "        else:\n",
        "            tokens = d.replace('.', '').split()[1:] + ['</s>']\n",
        "            fact.append(tokens)\n",
        "    return qa_data"
      ],
      "execution_count": 10,
      "outputs": []
    },
    {
      "cell_type": "code",
      "metadata": {
        "id": "jf7xruC7ci3t",
        "colab_type": "code",
        "colab": {}
      },
      "source": [
        "train_data = load_data(train_file_data)"
      ],
      "execution_count": 30,
      "outputs": []
    },
    {
      "cell_type": "code",
      "metadata": {
        "id": "crnN-Mq2d2H9",
        "colab_type": "code",
        "colab": {
          "base_uri": "https://localhost:8080/",
          "height": 34
        },
        "outputId": "a144ee24-3bfd-4f71-d5d4-da8f90c5765a"
      },
      "source": [
        "len(train_data)"
      ],
      "execution_count": 31,
      "outputs": [
        {
          "output_type": "execute_result",
          "data": {
            "text/plain": [
              "10000"
            ]
          },
          "metadata": {
            "tags": []
          },
          "execution_count": 31
        }
      ]
    },
    {
      "cell_type": "code",
      "metadata": {
        "id": "nbtgKkmHc_mM",
        "colab_type": "code",
        "colab": {
          "base_uri": "https://localhost:8080/",
          "height": 252
        },
        "outputId": "df8cf2e2-f066-4a93-b8fe-fd00961d079f"
      },
      "source": [
        "train_data[0], train_data[1]"
      ],
      "execution_count": 32,
      "outputs": [
        {
          "output_type": "execute_result",
          "data": {
            "text/plain": [
              "([[['Bill', 'travelled', 'to', 'the', 'office', '</s>'],\n",
              "   ['Bill', 'picked', 'up', 'the', 'football', 'there', '</s>'],\n",
              "   ['Bill', 'went', 'to', 'the', 'bedroom', '</s>'],\n",
              "   ['Bill', 'gave', 'the', 'football', 'to', 'Fred', '</s>']],\n",
              "  ['What', 'did', 'Bill', 'give', 'to', 'Fred', '?'],\n",
              "  ['football', '</s>']],\n",
              " [[['Bill', 'travelled', 'to', 'the', 'office', '</s>'],\n",
              "   ['Bill', 'picked', 'up', 'the', 'football', 'there', '</s>'],\n",
              "   ['Bill', 'went', 'to', 'the', 'bedroom', '</s>'],\n",
              "   ['Bill', 'gave', 'the', 'football', 'to', 'Fred', '</s>'],\n",
              "   ['Fred', 'handed', 'the', 'football', 'to', 'Bill', '</s>'],\n",
              "   ['Jeff', 'went', 'back', 'to', 'the', 'office', '</s>']],\n",
              "  ['Who', 'received', 'the', 'football', '?'],\n",
              "  ['Bill', '</s>']])"
            ]
          },
          "metadata": {
            "tags": []
          },
          "execution_count": 32
        }
      ]
    },
    {
      "cell_type": "code",
      "metadata": {
        "id": "Zxb52Uw4dmj-",
        "colab_type": "code",
        "colab": {
          "base_uri": "https://localhost:8080/",
          "height": 34
        },
        "outputId": "9b6eeec8-10dc-4529-afc1-502ccfd733bf"
      },
      "source": [
        "len(train_data[0])"
      ],
      "execution_count": 33,
      "outputs": [
        {
          "output_type": "execute_result",
          "data": {
            "text/plain": [
              "3"
            ]
          },
          "metadata": {
            "tags": []
          },
          "execution_count": 33
        }
      ]
    },
    {
      "cell_type": "code",
      "metadata": {
        "id": "Ect-47EcI50m",
        "colab_type": "code",
        "colab": {
          "base_uri": "https://localhost:8080/",
          "height": 34
        },
        "outputId": "146cf790-d34b-43ed-d333-eccf74097f7e"
      },
      "source": [
        "train_data, eval_data = train_test_split(train_data, test_size=0.2, random_state=42)\n",
        "len(train_data), len(eval_data)"
      ],
      "execution_count": 34,
      "outputs": [
        {
          "output_type": "execute_result",
          "data": {
            "text/plain": [
              "(8000, 2000)"
            ]
          },
          "metadata": {
            "tags": []
          },
          "execution_count": 34
        }
      ]
    },
    {
      "cell_type": "markdown",
      "metadata": {
        "id": "5r9YThFVicVV",
        "colab_type": "text"
      },
      "source": [
        "### Vocabulary"
      ]
    },
    {
      "cell_type": "code",
      "metadata": {
        "id": "eQKRNYzDhY7x",
        "colab_type": "code",
        "colab": {}
      },
      "source": [
        "PAD_TOKEN = 0\n",
        "START_TOKEN = 1\n",
        "END_TOKEN = 2\n",
        "UNK_TOKEN = 3"
      ],
      "execution_count": 35,
      "outputs": []
    },
    {
      "cell_type": "code",
      "metadata": {
        "id": "H_NWqkr-hApG",
        "colab_type": "code",
        "colab": {}
      },
      "source": [
        "class Vocab(object):\n",
        "    def __init__(self):\n",
        "        self.word2id = {\n",
        "            \"<s>\": START_TOKEN,\n",
        "            \"</s>\": END_TOKEN,\n",
        "            \"<pad>\": PAD_TOKEN,\n",
        "            \"<unk>\": UNK_TOKEN\n",
        "        }\n",
        "\n",
        "        self.id2word = dict((id, word) for word, id in self.word2id.items())\n",
        "        self.length = 4\n",
        "    \n",
        "    def add_word(self, word):\n",
        "        if word not in self.word2id:\n",
        "            self.word2id[word] = self.length\n",
        "            self.id2word[self.length] = word\n",
        "            self.length += 1\n",
        "    \n",
        "    def __len__(self):\n",
        "        return self.length\n",
        "    \n",
        "    def __call__(self, word):\n",
        "        if not word in self.word2id:\n",
        "            return self.word2id['<unk>']\n",
        "        return self.word2id[word]"
      ],
      "execution_count": 36,
      "outputs": []
    },
    {
      "cell_type": "code",
      "metadata": {
        "id": "Df7fGwlWfFcE",
        "colab_type": "code",
        "colab": {}
      },
      "source": [
        "def build_vocab(data, min_count=5):\n",
        "    facts, questions, answers = list(zip(*data))\n",
        "    vocab = Vocab()\n",
        "    counter = Counter()\n",
        "\n",
        "    for fact in facts:\n",
        "        for f in fact:\n",
        "            counter.update(f)\n",
        "    \n",
        "    for q in questions:\n",
        "        counter.update(q)\n",
        "    \n",
        "    for a in answers:\n",
        "        counter.update(a)\n",
        "    \n",
        "    for word, count in counter.most_common():\n",
        "        if count >= min_count:\n",
        "            vocab.add_word(word)\n",
        "    \n",
        "    vocab_file = 'vocab.pkl'\n",
        "    print(\"saving vocabulary...\")\n",
        "    with open(vocab_file, 'wb') as f:\n",
        "        pickle.dump(vocab, f)"
      ],
      "execution_count": 37,
      "outputs": []
    },
    {
      "cell_type": "code",
      "metadata": {
        "id": "qOyBIwOViGIl",
        "colab_type": "code",
        "colab": {}
      },
      "source": [
        "def load_vocab():\n",
        "    with open('vocab.pkl', 'rb') as f:\n",
        "        vocab = pickle.load(f)\n",
        "    return vocab"
      ],
      "execution_count": 38,
      "outputs": []
    },
    {
      "cell_type": "code",
      "metadata": {
        "id": "XA5SDp2_iYfZ",
        "colab_type": "code",
        "colab": {
          "base_uri": "https://localhost:8080/",
          "height": 34
        },
        "outputId": "54385a20-fb97-483f-bd3e-b54867ed4573"
      },
      "source": [
        "build_vocab(train_data)"
      ],
      "execution_count": 39,
      "outputs": [
        {
          "output_type": "stream",
          "text": [
            "saving vocabulary...\n"
          ],
          "name": "stdout"
        }
      ]
    },
    {
      "cell_type": "code",
      "metadata": {
        "id": "XA6zguQ5igRZ",
        "colab_type": "code",
        "colab": {}
      },
      "source": [
        "vocab = load_vocab()"
      ],
      "execution_count": 40,
      "outputs": []
    },
    {
      "cell_type": "code",
      "metadata": {
        "id": "qI-QwBMzipm-",
        "colab_type": "code",
        "colab": {
          "base_uri": "https://localhost:8080/",
          "height": 34
        },
        "outputId": "6a924054-6017-4e87-9aed-690fcf22db3f"
      },
      "source": [
        "len(vocab)"
      ],
      "execution_count": 41,
      "outputs": [
        {
          "output_type": "execute_result",
          "data": {
            "text/plain": [
              "44"
            ]
          },
          "metadata": {
            "tags": []
          },
          "execution_count": 41
        }
      ]
    },
    {
      "cell_type": "code",
      "metadata": {
        "id": "tmQaXM-tis2l",
        "colab_type": "code",
        "colab": {
          "base_uri": "https://localhost:8080/",
          "height": 756
        },
        "outputId": "0d6fe38c-80d1-44fc-a063-25c952225313"
      },
      "source": [
        "list(vocab.word2id.keys())"
      ],
      "execution_count": 42,
      "outputs": [
        {
          "output_type": "execute_result",
          "data": {
            "text/plain": [
              "['<s>',\n",
              " '</s>',\n",
              " '<pad>',\n",
              " '<unk>',\n",
              " 'the',\n",
              " 'to',\n",
              " 'Mary',\n",
              " 'Fred',\n",
              " 'Bill',\n",
              " 'Jeff',\n",
              " 'went',\n",
              " 'there',\n",
              " 'apple',\n",
              " 'football',\n",
              " 'milk',\n",
              " 'moved',\n",
              " 'travelled',\n",
              " 'journeyed',\n",
              " 'back',\n",
              " 'garden',\n",
              " 'office',\n",
              " 'hallway',\n",
              " 'kitchen',\n",
              " 'bathroom',\n",
              " 'bedroom',\n",
              " 'gave',\n",
              " '?',\n",
              " 'took',\n",
              " 'passed',\n",
              " 'grabbed',\n",
              " 'got',\n",
              " 'picked',\n",
              " 'up',\n",
              " 'handed',\n",
              " 'Who',\n",
              " 'left',\n",
              " 'dropped',\n",
              " 'put',\n",
              " 'down',\n",
              " 'discarded',\n",
              " 'did',\n",
              " 'give',\n",
              " 'What',\n",
              " 'received']"
            ]
          },
          "metadata": {
            "tags": []
          },
          "execution_count": 42
        }
      ]
    },
    {
      "cell_type": "markdown",
      "metadata": {
        "id": "wnFKPlkVlzGs",
        "colab_type": "text"
      },
      "source": [
        "### Dataset"
      ]
    },
    {
      "cell_type": "code",
      "metadata": {
        "id": "nSI4MMg4_mbh",
        "colab_type": "code",
        "colab": {}
      },
      "source": [
        "def get_batch(data, batch_size=64):\n",
        "    start_idx = 0\n",
        "    end_idx = batch_size\n",
        "    while end_idx < len(data):\n",
        "        batch = data[start_idx: end_idx]\n",
        "        start_idx = end_idx\n",
        "        end_idx = end_idx + batch_size\n",
        "        yield batch\n",
        "    \n",
        "    if end_idx >= len(data):\n",
        "        batch = data[start_idx:]\n",
        "        yield batch"
      ],
      "execution_count": 57,
      "outputs": []
    },
    {
      "cell_type": "code",
      "metadata": {
        "id": "tPeB95E8ixFm",
        "colab_type": "code",
        "colab": {}
      },
      "source": [
        "def prepare_seq(seq):\n",
        "    idxs = [vocab(tok) for tok in seq]\n",
        "    return torch.LongTensor(idxs)"
      ],
      "execution_count": 44,
      "outputs": []
    },
    {
      "cell_type": "code",
      "metadata": {
        "id": "gyIct5p9Cv32",
        "colab_type": "code",
        "colab": {}
      },
      "source": [
        "flatten = lambda l: [item for sublist in l for item in sublist]"
      ],
      "execution_count": 45,
      "outputs": []
    },
    {
      "cell_type": "code",
      "metadata": {
        "id": "R2EcJ3c8CWq-",
        "colab_type": "code",
        "colab": {}
      },
      "source": [
        "def pad_batch(batch):\n",
        "    fact, ques, ans = list(zip(*batch))\n",
        "\n",
        "    max_facts = max([len(f) for f in fact])\n",
        "    max_fact_len = max([f.size(1) for f in flatten(fact)])\n",
        "    max_ques_len = max([q.size(1) for q in ques])\n",
        "    max_ans_len = max([a.size(1) for a in ans])\n",
        "\n",
        "    facts, questions, answers = [], [], []\n",
        "\n",
        "    for i in range(len(batch)):\n",
        "        fact_t = []\n",
        "        fact_l = []\n",
        "        for j in range(len(fact[i])):\n",
        "            if fact[i][j].size(1) < max_ques_len:\n",
        "                fact_l.append(fact[i][j].size(1))\n",
        "                fact_t.append(torch.cat([fact[i][j], Variable(torch.LongTensor([[vocab('<pad>')] * (max_fact_len - fact[i][j].size(1))])).view(1, -1)], 1))\n",
        "            else:\n",
        "                fact_t.append(fact[i][j])\n",
        "                fact_l.append(fact[i][j].size(1))\n",
        "        \n",
        "        while len(fact_t) < max_facts:\n",
        "            fact_t.append(Variable(torch.LongTensor([vocab('<pad>')] * max_fact_len)).view(1, -1))\n",
        "\n",
        "        fact_t = torch.cat(fact_t)\n",
        "        facts.append(fact_t.unsqueeze(0))\n",
        "\n",
        "        # padding question\n",
        "        if ques[i].size(1) < max_ques_len:\n",
        "            questions.append(torch.cat([ques[i], Variable(torch.LongTensor([[vocab('<pad>')] * (max_ques_len - ques[i].size(1))])).view(1, -1)], 1))\n",
        "        else:\n",
        "            questions.append(ques[i])\n",
        "        \n",
        "        # padding answer\n",
        "        if ans[i].size(1) < max_ans_len:\n",
        "            answers.append(torch.cat([ans[i], Variable(torch.LongTensor([[vocab('<pad>')] * (max_ans_len - ans[i].size(1))])).view(1, -1)], 1))\n",
        "        else:\n",
        "            answers.append(ans[i])\n",
        "\n",
        "    facts = torch.cat(facts).to(device)\n",
        "    fact_masks = facts == 0\n",
        "    fact_masks.to(device)\n",
        "    questions = torch.cat(questions).to(device)\n",
        "    answers = torch.cat(answers).to(device)\n",
        "    question_masks = questions == 0\n",
        "    question_masks = question_masks.to(device)\n",
        "    \n",
        "    return facts, fact_masks, questions, question_masks, answers\n"
      ],
      "execution_count": 67,
      "outputs": []
    },
    {
      "cell_type": "code",
      "metadata": {
        "id": "1BbnBM7KIuDG",
        "colab_type": "code",
        "colab": {}
      },
      "source": [
        "for t in train_data:\n",
        "    for i, fact in enumerate(t[0]):\n",
        "        t[0][i] = prepare_seq(fact).view(1, -1)\n",
        "    t[1] = prepare_seq(t[1]).view(1, -1)\n",
        "    t[2] = prepare_seq(t[2]).view(1, -1)"
      ],
      "execution_count": 47,
      "outputs": []
    },
    {
      "cell_type": "code",
      "metadata": {
        "id": "jcPNaVs3JwBG",
        "colab_type": "code",
        "colab": {}
      },
      "source": [
        "for t in eval_data:\n",
        "    for i, fact in enumerate(t[0]):\n",
        "        t[0][i] = prepare_seq(fact).view(1, -1)\n",
        "    t[1] = prepare_seq(t[1]).view(1, -1)\n",
        "    t[2] = prepare_seq(t[2]).view(1, -1)"
      ],
      "execution_count": 48,
      "outputs": []
    },
    {
      "cell_type": "code",
      "metadata": {
        "id": "Uoz-VF0lKUfO",
        "colab_type": "code",
        "colab": {}
      },
      "source": [
        "sample_batch = get_batch(train_data)"
      ],
      "execution_count": 59,
      "outputs": []
    },
    {
      "cell_type": "code",
      "metadata": {
        "id": "j4LwgpihKXID",
        "colab_type": "code",
        "colab": {}
      },
      "source": [
        ""
      ],
      "execution_count": 61,
      "outputs": []
    },
    {
      "cell_type": "markdown",
      "metadata": {
        "id": "WSBOXztP3xoU",
        "colab_type": "text"
      },
      "source": [
        "### Model"
      ]
    },
    {
      "cell_type": "code",
      "metadata": {
        "id": "5R32EurN9dc2",
        "colab_type": "code",
        "colab": {}
      },
      "source": [
        "class DMN(nn.Module):\n",
        "    def __init__(self, input_size, hidden_size, output_size, dropout=0.2):\n",
        "        super().__init__()\n",
        "\n",
        "        self.hidden_size = hidden_size\n",
        "        self.embed = nn.Embedding(input_size, hidden_size, padding_idx=0)\n",
        "        self.input_gru = nn.GRU(hidden_size, hidden_size, batch_first=True)\n",
        "        self.question_gru = nn.GRU(hidden_size, hidden_size, batch_first=True)\n",
        "\n",
        "        self.gate = nn.Sequential(\n",
        "            nn.Linear(hidden_size * 4, hidden_size),\n",
        "            nn.Tanh(),\n",
        "            nn.Linear(hidden_size, 1),\n",
        "            nn.Sigmoid()\n",
        "        )\n",
        "\n",
        "        self.attention_grucell = nn.GRUCell(hidden_size, hidden_size)\n",
        "        self.memory_grucell = nn.GRUCell(hidden_size, hidden_size)\n",
        "        self.answer_grucell = nn.GRUCell(hidden_size * 2, hidden_size)\n",
        "        self.answer_fc = nn.Linear(hidden_size, output_size)\n",
        "\n",
        "        self.dropout = nn.Dropout(dropout)\n",
        "    \n",
        "    def init_hidden(self, inputs):\n",
        "        # inputs => [num_inp, max_inp_size]\n",
        "        hidden = Variable(torch.zeros(1, inputs.size(0), self.hidden_size)).to(device)\n",
        "        # hidden => [1, num_inp, hid_dim]\n",
        "\n",
        "        return hidden\n",
        "    \n",
        "    def forward(self, facts, facts_masks, questions, question_masks, num_decode, episodes=3, is_training=False):\n",
        "        # facts => [batch_size, num_facts, max_fact_length]\n",
        "        # questions => [batch_size, max_ques_length]\n",
        "\n",
        "        # Input Module\n",
        "        fact_reps = []\n",
        "        for fact, fact_mask in zip(facts, facts_masks):\n",
        "            f_embeds = self.embed(fact)\n",
        "            f_embeds = self.dropout(f_embeds)\n",
        "            # f_embeds => [num_facts, max_fact_length, hid_dim]\n",
        "            \n",
        "            hidden = self.init_hidden(fact)\n",
        "            # hidden => [1, num_facts, hid_dim]\n",
        "\n",
        "            outputs, hidden = self.input_gru(f_embeds, hidden)\n",
        "            # outputs => [num_facts, max_fact_length, hid_dim]\n",
        "            \n",
        "            fact_rep = []\n",
        "            for i, o in enumerate(outputs):\n",
        "                fact_length = fact_mask[i].data.tolist().count(0)\n",
        "                # get the final hidden state of the fact\n",
        "                # since the facts are padded, get the original length from mask\n",
        "                fact_rep.append(o[fact_length - 1])     # neglect the </s> input\n",
        "            \n",
        "            # fact_rep => [num_facts], each => [hid_dim]\n",
        "            fact_rep = torch.cat(fact_rep)\n",
        "            # fact_rep => [num_facts, hid_dim]\n",
        "            \n",
        "            # add extra dimension, so that it can used to merge later on for the batch\n",
        "            fact_rep = fact_rep.view(fact.size(0), -1).unsqueeze(0)\n",
        "            # fact_rep => [1, num_facts, hid_dim]\n",
        "\n",
        "            fact_reps.append(fact_rep)\n",
        "        \n",
        "        encoded_facts = torch.cat(fact_reps)\n",
        "        # encoded_facts => [batch_size, num_facts, hid_dim]\n",
        "\n",
        "        # Question Module\n",
        "        q_embeds = self.embed(questions)\n",
        "        q_embeds = self.dropout(q_embeds)\n",
        "        # q_embeds => [batch_size, max_ques_len, hid_dim]\n",
        "\n",
        "        hidden = self.init_hidden(questions)\n",
        "        q_outputs, hidden = self.question_gru(q_embeds, hidden)\n",
        "        # q_outputs => [batch_size, max_ques_len, hid_dim]\n",
        "        # hidden => [1, batch_size, hid_dim]\n",
        "\n",
        "        if is_training:\n",
        "            q_rep = []\n",
        "            for i, o in enumerate(q_outputs):\n",
        "                q_length = question_masks[i].data.tolist().count(0)\n",
        "                q_rep.append(o[q_length - 1])   # neglect the </s> input\n",
        "            q_rep = torch.cat(q_rep)\n",
        "            # q_rep => [batch_size, hid_dim]\n",
        "\n",
        "            encoded_question = q_rep.view(questions.size(0), -1)\n",
        "            # encoded_question => [batch_size, hid_dim]\n",
        "        else:\n",
        "            encoded_question = hidden.squeeze(0)\n",
        "            # encoded_question => [batch_size, hid_dim]\n",
        "\n",
        "        # Episodic Memory Module\n",
        "        memory = encoded_question\n",
        "        # encoded_facts => [batch_size, num_facts, hid_dim]\n",
        "        num_facts = encoded_facts.size(1)\n",
        "        batch_size = encoded_facts.size(0)\n",
        "\n",
        "        for t in range(episodes):\n",
        "            hidden = self.init_hidden(encoded_facts.transpose(0, 1)[0]).squeeze(0)\n",
        "            # hidden => [batch_size, hid_dim]\n",
        "\n",
        "            for each_fact in range(num_facts):\n",
        "                z = torch.cat(\n",
        "                    [\n",
        "                        encoded_facts.transpose(0, 1)[t] * encoded_question,            # element wise product => [batch_size, hid_dim]\n",
        "                        encoded_facts.transpose(0, 1)[t] * memory,                      # element wise product => [batch_size, hid_dim]\n",
        "                        torch.abs(encoded_facts.transpose(0, 1)[t] - encoded_question), # element wise diff => [batch_size, hid_dim]\n",
        "                        torch.abs(encoded_facts.transpose(0, 1)[t] - memory)            # element wise diff => [batch_size, hid_dim]\n",
        "                    ], dim=1\n",
        "                )\n",
        "                # z => [batch_size, hid_dim * 4]\n",
        "\n",
        "                g_t = self.gate(z)\n",
        "                # g_t => [batch_size, 1]\n",
        "                hidden = g_t * self.attention_grucell(encoded_facts.transpose(0, 1)[t], hidden) + (1 - g_t) * hidden\n",
        "            \n",
        "            e = hidden\n",
        "            memory = self.memory_grucell(e, memory)\n",
        "\n",
        "\n",
        "        # Answer Module\n",
        "        answer_hidden = memory\n",
        "        start_decode = Variable(torch.LongTensor([[vocab('<s>')] * memory.size(0)])).transpose(0, 1)\n",
        "        start_decode = start_decode.to(device)\n",
        "        y_t_1 = self.embed(start_decode).squeeze(1)\n",
        "        # y_t_1 => [batch_size, hid_dim]\n",
        "\n",
        "        decodes = []\n",
        "        for t in range(num_decode):\n",
        "            answer_hidden = self.answer_grucell(torch.cat([y_t_1, encoded_question], 1), answer_hidden)\n",
        "            decodes.append(F.log_softmax(self.answer_fc(answer_hidden), 1))\n",
        "        return torch.cat(decodes, 1).view(batch_size * num_decode, -1)\n"
      ],
      "execution_count": 83,
      "outputs": []
    },
    {
      "cell_type": "code",
      "metadata": {
        "id": "c7pM3v4M1-2l",
        "colab_type": "code",
        "colab": {}
      },
      "source": [
        "HIDDEN_SIZE = 80\n",
        "NUM_EPISODE = 3\n",
        "\n",
        "model = DMN(len(vocab), HIDDEN_SIZE, len(vocab)).to(device)"
      ],
      "execution_count": 90,
      "outputs": []
    },
    {
      "cell_type": "markdown",
      "metadata": {
        "id": "JuBbWibL30Ol",
        "colab_type": "text"
      },
      "source": [
        "### Optimizer & Criterion"
      ]
    },
    {
      "cell_type": "code",
      "metadata": {
        "id": "lxFrthZg2P0r",
        "colab_type": "code",
        "colab": {}
      },
      "source": [
        "criterion = nn.CrossEntropyLoss(ignore_index=0)\n",
        "optimizer = optim.Adam(model.parameters(), lr=1e-3)"
      ],
      "execution_count": 91,
      "outputs": []
    },
    {
      "cell_type": "code",
      "metadata": {
        "id": "QfU694CP57X5",
        "colab_type": "code",
        "colab": {}
      },
      "source": [
        "def train(model, dataset):\n",
        "    model.train()\n",
        "\n",
        "    epoch_loss = 0\n",
        "    total = 0\n",
        "    for i, batch in enumerate(get_batch(dataset)):\n",
        "        facts, fact_masks, questions, question_masks, answers = pad_batch(batch)\n",
        "\n",
        "        model.zero_grad()\n",
        "        predictions = model(facts, fact_masks, questions, question_masks, answers.size(1), NUM_EPISODE, True)\n",
        "        loss = criterion(predictions, answers.view(-1))\n",
        "        \n",
        "        epoch_loss += loss.item()\n",
        "        total += 1\n",
        "\n",
        "        loss.backward()\n",
        "        optimizer.step()\n",
        "    \n",
        "    return epoch_loss / total"
      ],
      "execution_count": 92,
      "outputs": []
    },
    {
      "cell_type": "code",
      "metadata": {
        "id": "nQS8qhwK8JcL",
        "colab_type": "code",
        "colab": {}
      },
      "source": [
        "def evaluate(model, dataset):\n",
        "    model.eval()\n",
        "\n",
        "    epoch_loss = 0\n",
        "    total = 0\n",
        "    with torch.no_grad():\n",
        "        for i, batch in enumerate(get_batch(dataset)):\n",
        "            facts, fact_masks, questions, question_masks, answers = pad_batch(batch)\n",
        "\n",
        "            predictions = model(facts, fact_masks, questions, question_masks, answers.size(1), NUM_EPISODE, False)\n",
        "            loss = criterion(predictions, answers.view(-1))\n",
        "            \n",
        "            epoch_loss += loss.item()\n",
        "            total += 1\n",
        "    \n",
        "    return epoch_loss / total"
      ],
      "execution_count": 93,
      "outputs": []
    },
    {
      "cell_type": "code",
      "metadata": {
        "id": "ikS5qX7U7NWI",
        "colab_type": "code",
        "colab": {}
      },
      "source": [
        "def epoch_time(start_time, end_time):\n",
        "    elapsed_time = end_time - start_time\n",
        "    elapsed_mins = int(elapsed_time / 60)\n",
        "    elapsed_secs = int(elapsed_time - (elapsed_mins * 60))\n",
        "    return elapsed_mins, elapsed_secs"
      ],
      "execution_count": 94,
      "outputs": []
    },
    {
      "cell_type": "code",
      "metadata": {
        "id": "z-Tl7zHt2Zy7",
        "colab_type": "code",
        "colab": {
          "base_uri": "https://localhost:8080/",
          "height": 353
        },
        "outputId": "7115e014-dab6-4d72-f51e-2be6f3e769ba"
      },
      "source": [
        "n_epochs = 10\n",
        "\n",
        "best_loss = float('inf')\n",
        "no_improvement = 0\n",
        "patience = 3\n",
        "\n",
        "for epoch in range(n_epochs):\n",
        "    start_time = time.time()\n",
        "    train_loss = train(model, train_data)\n",
        "    eval_loss = evaluate(model, eval_data)\n",
        "    end_time = time.time()\n",
        "    \n",
        "    epoch_mins, epoch_secs = epoch_time(start_time, end_time)\n",
        "\n",
        "    print(f'Epoch: {epoch+1:02} | Time: {epoch_mins}m {epoch_secs}s')\n",
        "    print(f'\\tTrain Loss: {train_loss:.3f} | Val. Loss: {eval_loss:.3f}')\n",
        "\n",
        "    if eval_loss < best_loss:\n",
        "        best_loss = eval_loss\n",
        "        no_improvement = 0\n",
        "        torch.save(model.state_dict(), 'model.pt')\n",
        "    else:\n",
        "        no_improvement += 1\n",
        "    \n",
        "    if no_improvement == patience:\n",
        "        break"
      ],
      "execution_count": 95,
      "outputs": [
        {
          "output_type": "stream",
          "text": [
            "Epoch: 01 | Time: 1m 43s\n",
            "\tTrain Loss: 1.168 | Val. Loss: 0.679\n",
            "Epoch: 02 | Time: 1m 43s\n",
            "\tTrain Loss: 0.660 | Val. Loss: 0.653\n",
            "Epoch: 03 | Time: 1m 44s\n",
            "\tTrain Loss: 0.645 | Val. Loss: 0.641\n",
            "Epoch: 04 | Time: 1m 44s\n",
            "\tTrain Loss: 0.628 | Val. Loss: 0.621\n",
            "Epoch: 05 | Time: 1m 44s\n",
            "\tTrain Loss: 0.612 | Val. Loss: 0.612\n",
            "Epoch: 06 | Time: 1m 44s\n",
            "\tTrain Loss: 0.605 | Val. Loss: 0.607\n",
            "Epoch: 07 | Time: 1m 42s\n",
            "\tTrain Loss: 0.602 | Val. Loss: 0.606\n",
            "Epoch: 08 | Time: 1m 42s\n",
            "\tTrain Loss: 0.600 | Val. Loss: 0.605\n",
            "Epoch: 09 | Time: 1m 42s\n",
            "\tTrain Loss: 0.599 | Val. Loss: 0.604\n",
            "Epoch: 10 | Time: 1m 43s\n",
            "\tTrain Loss: 0.598 | Val. Loss: 0.603\n"
          ],
          "name": "stdout"
        }
      ]
    },
    {
      "cell_type": "code",
      "metadata": {
        "id": "-JX3ulUnPCXm",
        "colab_type": "code",
        "colab": {}
      },
      "source": [
        ""
      ],
      "execution_count": null,
      "outputs": []
    }
  ]
}