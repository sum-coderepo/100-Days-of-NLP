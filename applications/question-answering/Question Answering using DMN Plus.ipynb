{
  "nbformat": 4,
  "nbformat_minor": 0,
  "metadata": {
    "colab": {
      "name": "Question Answering using DMN Plus.ipynb",
      "provenance": [],
      "collapsed_sections": [
        "DeYz88i9GOIR",
        "sK1jyHFgGLVF",
        "SCPUS66yGBqg",
        "iWqBPhTOF9Np",
        "nQVKc17NF4yR",
        "B7FB0LlYFzHl"
      ],
      "authorship_tag": "ABX9TyNtjlySjrlgA0/q99/UgqaF",
      "include_colab_link": true
    },
    "kernelspec": {
      "name": "python3",
      "display_name": "Python 3"
    },
    "accelerator": "GPU"
  },
  "cells": [
    {
      "cell_type": "markdown",
      "metadata": {
        "id": "view-in-github",
        "colab_type": "text"
      },
      "source": [
        "<a href=\"https://colab.research.google.com/github/graviraja/100-Days-of-NLP/blob/applications%2Fquestion-answering/applications/question-answering/Question%20Answering%20using%20DMN%20Plus.ipynb\" target=\"_parent\"><img src=\"https://colab.research.google.com/assets/colab-badge.svg\" alt=\"Open In Colab\"/></a>"
      ]
    },
    {
      "cell_type": "markdown",
      "metadata": {
        "id": "EtKajrYZO_FA",
        "colab_type": "text"
      },
      "source": [
        "### bAbI Dataset"
      ]
    },
    {
      "cell_type": "code",
      "metadata": {
        "id": "7YjRJuCZMbUW",
        "colab_type": "code",
        "colab": {
          "base_uri": "https://localhost:8080/",
          "height": 202
        },
        "outputId": "f2e4c56a-93c4-4e6a-a51a-fb5b8a3b4cc4"
      },
      "source": [
        "!wget http://www.thespermwhale.com/jaseweston/babi/tasks_1-20_v1-2.tar.gz"
      ],
      "execution_count": 1,
      "outputs": [
        {
          "output_type": "stream",
          "text": [
            "--2020-07-31 18:19:37--  http://www.thespermwhale.com/jaseweston/babi/tasks_1-20_v1-2.tar.gz\n",
            "Resolving www.thespermwhale.com (www.thespermwhale.com)... 69.65.3.213\n",
            "Connecting to www.thespermwhale.com (www.thespermwhale.com)|69.65.3.213|:80... connected.\n",
            "HTTP request sent, awaiting response... 200 OK\n",
            "Length: 15719851 (15M) [application/x-gzip]\n",
            "Saving to: ‘tasks_1-20_v1-2.tar.gz’\n",
            "\n",
            "tasks_1-20_v1-2.tar 100%[===================>]  14.99M  6.40MB/s    in 2.3s    \n",
            "\n",
            "2020-07-31 18:19:40 (6.40 MB/s) - ‘tasks_1-20_v1-2.tar.gz’ saved [15719851/15719851]\n",
            "\n"
          ],
          "name": "stdout"
        }
      ]
    },
    {
      "cell_type": "code",
      "metadata": {
        "id": "e8NTv-ZdMbAd",
        "colab_type": "code",
        "colab": {}
      },
      "source": [
        "!tar -xzf tasks_1-20_v1-2.tar.gz"
      ],
      "execution_count": 2,
      "outputs": []
    },
    {
      "cell_type": "code",
      "metadata": {
        "id": "vBNiCDF_MeI8",
        "colab_type": "code",
        "colab": {
          "base_uri": "https://localhost:8080/",
          "height": 353
        },
        "outputId": "4b671e92-610d-4eb4-a9a4-887e56174969"
      },
      "source": [
        "!ls tasks_1-20_v1-2/en-10k/"
      ],
      "execution_count": 3,
      "outputs": [
        {
          "output_type": "stream",
          "text": [
            "qa10_indefinite-knowledge_test.txt   qa1_single-supporting-fact_test.txt\n",
            "qa10_indefinite-knowledge_train.txt  qa1_single-supporting-fact_train.txt\n",
            "qa11_basic-coreference_test.txt      qa20_agents-motivations_test.txt\n",
            "qa11_basic-coreference_train.txt     qa20_agents-motivations_train.txt\n",
            "qa12_conjunction_test.txt\t     qa2_two-supporting-facts_test.txt\n",
            "qa12_conjunction_train.txt\t     qa2_two-supporting-facts_train.txt\n",
            "qa13_compound-coreference_test.txt   qa3_three-supporting-facts_test.txt\n",
            "qa13_compound-coreference_train.txt  qa3_three-supporting-facts_train.txt\n",
            "qa14_time-reasoning_test.txt\t     qa4_two-arg-relations_test.txt\n",
            "qa14_time-reasoning_train.txt\t     qa4_two-arg-relations_train.txt\n",
            "qa15_basic-deduction_test.txt\t     qa5_three-arg-relations_test.txt\n",
            "qa15_basic-deduction_train.txt\t     qa5_three-arg-relations_train.txt\n",
            "qa16_basic-induction_test.txt\t     qa6_yes-no-questions_test.txt\n",
            "qa16_basic-induction_train.txt\t     qa6_yes-no-questions_train.txt\n",
            "qa17_positional-reasoning_test.txt   qa7_counting_test.txt\n",
            "qa17_positional-reasoning_train.txt  qa7_counting_train.txt\n",
            "qa18_size-reasoning_test.txt\t     qa8_lists-sets_test.txt\n",
            "qa18_size-reasoning_train.txt\t     qa8_lists-sets_train.txt\n",
            "qa19_path-finding_test.txt\t     qa9_simple-negation_test.txt\n",
            "qa19_path-finding_train.txt\t     qa9_simple-negation_train.txt\n"
          ],
          "name": "stdout"
        }
      ]
    },
    {
      "cell_type": "code",
      "metadata": {
        "id": "RBC5nZO9Mfe-",
        "colab_type": "code",
        "colab": {}
      },
      "source": [
        "train_file = 'tasks_1-20_v1-2/en-10k/qa5_three-arg-relations_train.txt'\n",
        "test_file = 'tasks_1-20_v1-2/en-10k/qa5_three-arg-relations_test.txt'"
      ],
      "execution_count": 4,
      "outputs": []
    },
    {
      "cell_type": "markdown",
      "metadata": {
        "id": "UJ5Sdm7XPChS",
        "colab_type": "text"
      },
      "source": [
        "### Imports"
      ]
    },
    {
      "cell_type": "code",
      "metadata": {
        "id": "OSSsqzcGG_vM",
        "colab_type": "code",
        "colab": {}
      },
      "source": [
        "import re\n",
        "import os\n",
        "import time\n",
        "import nltk\n",
        "import random\n",
        "import pickle\n",
        "import numpy as np\n",
        "\n",
        "from collections import Counter\n",
        "from copy import deepcopy\n",
        "\n",
        "import torch\n",
        "import torch.nn as nn\n",
        "import torch.optim as optim\n",
        "import torch.nn.init as init\n",
        "import torch.nn.functional as F\n",
        "from torch.autograd import Variable\n",
        "\n",
        "from sklearn.model_selection import train_test_split\n"
      ],
      "execution_count": 48,
      "outputs": []
    },
    {
      "cell_type": "code",
      "metadata": {
        "id": "_aRyb0OeMYDO",
        "colab_type": "code",
        "colab": {}
      },
      "source": [
        "device = torch.device('cuda' if torch.cuda.is_available() else 'cpu')"
      ],
      "execution_count": 6,
      "outputs": []
    },
    {
      "cell_type": "code",
      "metadata": {
        "id": "xxLxPIWYMZcY",
        "colab_type": "code",
        "colab": {}
      },
      "source": [
        "with open(train_file) as f:\n",
        "    train_file_data = f.readlines()"
      ],
      "execution_count": 7,
      "outputs": []
    },
    {
      "cell_type": "code",
      "metadata": {
        "id": "NX41yQGjNVHN",
        "colab_type": "code",
        "colab": {}
      },
      "source": [
        "train_file_data = [d[:-1] for d in train_file_data]"
      ],
      "execution_count": 8,
      "outputs": []
    },
    {
      "cell_type": "code",
      "metadata": {
        "id": "Qco2UMlVNWnM",
        "colab_type": "code",
        "colab": {
          "base_uri": "https://localhost:8080/",
          "height": 521
        },
        "outputId": "ce9a545f-7cc2-4af0-f650-cbac019aa2e9"
      },
      "source": [
        "train_file_data[:30]"
      ],
      "execution_count": 9,
      "outputs": [
        {
          "output_type": "execute_result",
          "data": {
            "text/plain": [
              "['1 Bill travelled to the office.',\n",
              " '2 Bill picked up the football there.',\n",
              " '3 Bill went to the bedroom.',\n",
              " '4 Bill gave the football to Fred.',\n",
              " '5 What did Bill give to Fred? \\tfootball\\t4',\n",
              " '6 Fred handed the football to Bill.',\n",
              " '7 Jeff went back to the office.',\n",
              " '8 Who received the football? \\tBill\\t6',\n",
              " '9 Bill travelled to the office.',\n",
              " '10 Bill got the milk there.',\n",
              " '11 Who received the football? \\tBill\\t6',\n",
              " '12 Fred travelled to the garden.',\n",
              " '13 Fred went to the hallway.',\n",
              " '14 Bill journeyed to the bedroom.',\n",
              " '15 Jeff moved to the hallway.',\n",
              " '16 Jeff journeyed to the bathroom.',\n",
              " '17 Bill journeyed to the office.',\n",
              " '18 Fred travelled to the bathroom.',\n",
              " '19 Mary journeyed to the kitchen.',\n",
              " '20 Jeff took the apple there.',\n",
              " '21 Jeff gave the apple to Fred.',\n",
              " '22 Who did Jeff give the apple to? \\tFred\\t21',\n",
              " '23 Bill went back to the bathroom.',\n",
              " '24 Bill left the milk.',\n",
              " '25 Who received the apple? \\tFred\\t21',\n",
              " '1 Mary travelled to the garden.',\n",
              " '2 Mary journeyed to the kitchen.',\n",
              " '3 Bill went back to the office.',\n",
              " '4 Bill journeyed to the hallway.',\n",
              " '5 Jeff went back to the bedroom.']"
            ]
          },
          "metadata": {
            "tags": []
          },
          "execution_count": 9
        }
      ]
    },
    {
      "cell_type": "code",
      "metadata": {
        "id": "28YNSEPmNYIl",
        "colab_type": "code",
        "colab": {}
      },
      "source": [
        "def load_data(data):\n",
        "    qa_data = []\n",
        "    fact = []\n",
        "    qa = []\n",
        "\n",
        "    for d in data:\n",
        "        index = d.split()[0]\n",
        "        if index == \"1\":\n",
        "            fact = []\n",
        "            qa = []\n",
        "        if '?' in d:\n",
        "            temp = d.split('\\t')\n",
        "            q = temp[0].strip().replace('?', '').split()[1:] + ['?']\n",
        "            a = temp[1].split()\n",
        "            stemp = deepcopy(fact)\n",
        "            qa_data.append([stemp, q, a])\n",
        "        else:\n",
        "            tokens = d.replace('.', '').split()[1:] + ['</s>']\n",
        "            fact.append(tokens)\n",
        "    return qa_data"
      ],
      "execution_count": 10,
      "outputs": []
    },
    {
      "cell_type": "code",
      "metadata": {
        "id": "ZyHtWUbcNbpB",
        "colab_type": "code",
        "colab": {}
      },
      "source": [
        "train_data = load_data(train_file_data)"
      ],
      "execution_count": 11,
      "outputs": []
    },
    {
      "cell_type": "code",
      "metadata": {
        "id": "ZCYPji0INdRw",
        "colab_type": "code",
        "colab": {
          "base_uri": "https://localhost:8080/",
          "height": 34
        },
        "outputId": "902fabc4-c772-4e18-c5cc-2d1e7d734b76"
      },
      "source": [
        "len(train_data)"
      ],
      "execution_count": 12,
      "outputs": [
        {
          "output_type": "execute_result",
          "data": {
            "text/plain": [
              "10000"
            ]
          },
          "metadata": {
            "tags": []
          },
          "execution_count": 12
        }
      ]
    },
    {
      "cell_type": "code",
      "metadata": {
        "id": "HxVJTrhRNecU",
        "colab_type": "code",
        "colab": {
          "base_uri": "https://localhost:8080/",
          "height": 252
        },
        "outputId": "66ff4082-df29-4e39-ce75-91715d58c17e"
      },
      "source": [
        "train_data[0], train_data[1]"
      ],
      "execution_count": 13,
      "outputs": [
        {
          "output_type": "execute_result",
          "data": {
            "text/plain": [
              "([[['Bill', 'travelled', 'to', 'the', 'office', '</s>'],\n",
              "   ['Bill', 'picked', 'up', 'the', 'football', 'there', '</s>'],\n",
              "   ['Bill', 'went', 'to', 'the', 'bedroom', '</s>'],\n",
              "   ['Bill', 'gave', 'the', 'football', 'to', 'Fred', '</s>']],\n",
              "  ['What', 'did', 'Bill', 'give', 'to', 'Fred', '?'],\n",
              "  ['football']],\n",
              " [[['Bill', 'travelled', 'to', 'the', 'office', '</s>'],\n",
              "   ['Bill', 'picked', 'up', 'the', 'football', 'there', '</s>'],\n",
              "   ['Bill', 'went', 'to', 'the', 'bedroom', '</s>'],\n",
              "   ['Bill', 'gave', 'the', 'football', 'to', 'Fred', '</s>'],\n",
              "   ['Fred', 'handed', 'the', 'football', 'to', 'Bill', '</s>'],\n",
              "   ['Jeff', 'went', 'back', 'to', 'the', 'office', '</s>']],\n",
              "  ['Who', 'received', 'the', 'football', '?'],\n",
              "  ['Bill']])"
            ]
          },
          "metadata": {
            "tags": []
          },
          "execution_count": 13
        }
      ]
    },
    {
      "cell_type": "code",
      "metadata": {
        "id": "kcqG-50jNf_g",
        "colab_type": "code",
        "colab": {
          "base_uri": "https://localhost:8080/",
          "height": 34
        },
        "outputId": "7a314183-e8f3-4230-e34d-dc5e2ef3a3e7"
      },
      "source": [
        "train_data, eval_data = train_test_split(train_data, test_size=0.2, random_state=42)\n",
        "len(train_data), len(eval_data)"
      ],
      "execution_count": 14,
      "outputs": [
        {
          "output_type": "execute_result",
          "data": {
            "text/plain": [
              "(8000, 2000)"
            ]
          },
          "metadata": {
            "tags": []
          },
          "execution_count": 14
        }
      ]
    },
    {
      "cell_type": "markdown",
      "metadata": {
        "id": "aSCFo0EdU6fC",
        "colab_type": "text"
      },
      "source": [
        "### Vocabulary"
      ]
    },
    {
      "cell_type": "code",
      "metadata": {
        "id": "hPGcHE6SNjYx",
        "colab_type": "code",
        "colab": {}
      },
      "source": [
        "PAD_TOKEN = 0\n",
        "START_TOKEN = 1\n",
        "END_TOKEN = 2\n",
        "UNK_TOKEN = 3"
      ],
      "execution_count": 15,
      "outputs": []
    },
    {
      "cell_type": "code",
      "metadata": {
        "id": "0tYlbTiENlJw",
        "colab_type": "code",
        "colab": {}
      },
      "source": [
        "class Vocab(object):\n",
        "    def __init__(self):\n",
        "        self.word2id = {\n",
        "            \"<s>\": START_TOKEN,\n",
        "            \"</s>\": END_TOKEN,\n",
        "            \"<pad>\": PAD_TOKEN,\n",
        "            \"<unk>\": UNK_TOKEN\n",
        "        }\n",
        "\n",
        "        self.id2word = dict((id, word) for word, id in self.word2id.items())\n",
        "        self.length = 4\n",
        "    \n",
        "    def add_word(self, word):\n",
        "        if word not in self.word2id:\n",
        "            self.word2id[word] = self.length\n",
        "            self.id2word[self.length] = word\n",
        "            self.length += 1\n",
        "    \n",
        "    def __len__(self):\n",
        "        return self.length\n",
        "    \n",
        "    def __call__(self, word):\n",
        "        if not word in self.word2id:\n",
        "            return self.word2id['<unk>']\n",
        "        return self.word2id[word]"
      ],
      "execution_count": 16,
      "outputs": []
    },
    {
      "cell_type": "code",
      "metadata": {
        "id": "SMBjID5LNniR",
        "colab_type": "code",
        "colab": {}
      },
      "source": [
        "def build_vocab(data, min_count=5):\n",
        "    facts, questions, answers = list(zip(*data))\n",
        "    vocab = Vocab()\n",
        "    counter = Counter()\n",
        "\n",
        "    for fact in facts:\n",
        "        for f in fact:\n",
        "            counter.update(f)\n",
        "    \n",
        "    for q in questions:\n",
        "        counter.update(q)\n",
        "    \n",
        "    for a in answers:\n",
        "        counter.update(a)\n",
        "    \n",
        "    for word, count in counter.most_common():\n",
        "        if count >= min_count:\n",
        "            vocab.add_word(word)\n",
        "    \n",
        "    vocab_file = 'vocab.pkl'\n",
        "    print(\"saving vocabulary...\")\n",
        "    with open(vocab_file, 'wb') as f:\n",
        "        pickle.dump(vocab, f)"
      ],
      "execution_count": 17,
      "outputs": []
    },
    {
      "cell_type": "code",
      "metadata": {
        "id": "mL6DsUkhNpt8",
        "colab_type": "code",
        "colab": {}
      },
      "source": [
        "def load_vocab():\n",
        "    with open('vocab.pkl', 'rb') as f:\n",
        "        vocab = pickle.load(f)\n",
        "    return vocab"
      ],
      "execution_count": 18,
      "outputs": []
    },
    {
      "cell_type": "code",
      "metadata": {
        "id": "ugtojAp3NtJx",
        "colab_type": "code",
        "colab": {
          "base_uri": "https://localhost:8080/",
          "height": 34
        },
        "outputId": "ac894dc6-8b58-4582-b572-96ae7a6ac329"
      },
      "source": [
        "build_vocab(train_data)"
      ],
      "execution_count": 19,
      "outputs": [
        {
          "output_type": "stream",
          "text": [
            "saving vocabulary...\n"
          ],
          "name": "stdout"
        }
      ]
    },
    {
      "cell_type": "code",
      "metadata": {
        "id": "1CCPHZzRNuxD",
        "colab_type": "code",
        "colab": {
          "base_uri": "https://localhost:8080/",
          "height": 34
        },
        "outputId": "112fed03-a10c-46b0-866e-3ef0ae8b8b80"
      },
      "source": [
        "vocab = load_vocab()\n",
        "len(vocab)"
      ],
      "execution_count": 20,
      "outputs": [
        {
          "output_type": "execute_result",
          "data": {
            "text/plain": [
              "44"
            ]
          },
          "metadata": {
            "tags": []
          },
          "execution_count": 20
        }
      ]
    },
    {
      "cell_type": "code",
      "metadata": {
        "id": "rGMDDhISNxrz",
        "colab_type": "code",
        "colab": {
          "base_uri": "https://localhost:8080/",
          "height": 756
        },
        "outputId": "9550d538-3327-4142-be55-80fa25f631d3"
      },
      "source": [
        "list(vocab.word2id.keys())"
      ],
      "execution_count": 21,
      "outputs": [
        {
          "output_type": "execute_result",
          "data": {
            "text/plain": [
              "['<s>',\n",
              " '</s>',\n",
              " '<pad>',\n",
              " '<unk>',\n",
              " 'the',\n",
              " 'to',\n",
              " 'Mary',\n",
              " 'Fred',\n",
              " 'Bill',\n",
              " 'Jeff',\n",
              " 'went',\n",
              " 'there',\n",
              " 'apple',\n",
              " 'football',\n",
              " 'milk',\n",
              " 'moved',\n",
              " 'travelled',\n",
              " 'journeyed',\n",
              " 'back',\n",
              " 'garden',\n",
              " 'office',\n",
              " 'hallway',\n",
              " 'kitchen',\n",
              " 'bathroom',\n",
              " 'bedroom',\n",
              " 'gave',\n",
              " '?',\n",
              " 'took',\n",
              " 'passed',\n",
              " 'grabbed',\n",
              " 'got',\n",
              " 'picked',\n",
              " 'up',\n",
              " 'handed',\n",
              " 'Who',\n",
              " 'left',\n",
              " 'dropped',\n",
              " 'put',\n",
              " 'down',\n",
              " 'discarded',\n",
              " 'did',\n",
              " 'give',\n",
              " 'What',\n",
              " 'received']"
            ]
          },
          "metadata": {
            "tags": []
          },
          "execution_count": 21
        }
      ]
    },
    {
      "cell_type": "markdown",
      "metadata": {
        "id": "R4fcsw5PU_ei",
        "colab_type": "text"
      },
      "source": [
        "### Dataset Creation"
      ]
    },
    {
      "cell_type": "code",
      "metadata": {
        "id": "x9OgsPlSNzlq",
        "colab_type": "code",
        "colab": {}
      },
      "source": [
        "def get_batch(data, batch_size=64):\n",
        "    start_idx = 0\n",
        "    end_idx = batch_size\n",
        "    while end_idx < len(data):\n",
        "        batch = data[start_idx: end_idx]\n",
        "        start_idx = end_idx\n",
        "        end_idx = end_idx + batch_size\n",
        "        yield batch\n",
        "    \n",
        "    if end_idx >= len(data):\n",
        "        batch = data[start_idx:]\n",
        "        yield batch"
      ],
      "execution_count": 22,
      "outputs": []
    },
    {
      "cell_type": "code",
      "metadata": {
        "id": "J3Ft0VOVN1kO",
        "colab_type": "code",
        "colab": {}
      },
      "source": [
        "def prepare_seq(seq):\n",
        "    idxs = [vocab(tok) for tok in seq]\n",
        "    return torch.LongTensor(idxs)"
      ],
      "execution_count": 23,
      "outputs": []
    },
    {
      "cell_type": "code",
      "metadata": {
        "id": "WnlhC9ZVN3ax",
        "colab_type": "code",
        "colab": {}
      },
      "source": [
        "flatten = lambda l: [item for sublist in l for item in sublist]"
      ],
      "execution_count": 24,
      "outputs": []
    },
    {
      "cell_type": "code",
      "metadata": {
        "id": "F8to0Xw6N48y",
        "colab_type": "code",
        "colab": {}
      },
      "source": [
        "def pad_batch(batch):\n",
        "    fact, ques, ans = list(zip(*batch))\n",
        "\n",
        "    max_facts = max([len(f) for f in fact])\n",
        "    max_fact_len = max([f.size(1) for f in flatten(fact)])\n",
        "    max_ques_len = max([q.size(1) for q in ques])\n",
        "    max_ans_len = max([a.size(1) for a in ans])\n",
        "\n",
        "    facts, questions, answers = [], [], []\n",
        "\n",
        "    for i in range(len(batch)):\n",
        "        fact_t = []\n",
        "        fact_l = []\n",
        "        for j in range(len(fact[i])):\n",
        "            if fact[i][j].size(1) < max_ques_len:\n",
        "                fact_l.append(fact[i][j].size(1))\n",
        "                fact_t.append(torch.cat([fact[i][j], Variable(torch.LongTensor([[vocab('<pad>')] * (max_fact_len - fact[i][j].size(1))])).view(1, -1)], 1))\n",
        "            else:\n",
        "                fact_t.append(fact[i][j])\n",
        "                fact_l.append(fact[i][j].size(1))\n",
        "        \n",
        "        while len(fact_t) < max_facts:\n",
        "            fact_t.append(Variable(torch.LongTensor([vocab('<pad>')] * max_fact_len)).view(1, -1))\n",
        "\n",
        "        fact_t = torch.cat(fact_t)\n",
        "        facts.append(fact_t.unsqueeze(0))\n",
        "\n",
        "        # padding question\n",
        "        if ques[i].size(1) < max_ques_len:\n",
        "            questions.append(torch.cat([ques[i], Variable(torch.LongTensor([[vocab('<pad>')] * (max_ques_len - ques[i].size(1))])).view(1, -1)], 1))\n",
        "        else:\n",
        "            questions.append(ques[i])\n",
        "        \n",
        "        # padding answer\n",
        "        if ans[i].size(1) < max_ans_len:\n",
        "            answers.append(torch.cat([ans[i], Variable(torch.LongTensor([[vocab('<pad>')] * (max_ans_len - ans[i].size(1))])).view(1, -1)], 1))\n",
        "        else:\n",
        "            answers.append(ans[i])\n",
        "\n",
        "    facts = torch.cat(facts).to(device)\n",
        "    questions = torch.cat(questions).to(device)\n",
        "    answers = torch.cat(answers).to(device)\n",
        "    \n",
        "    return facts, questions, answers"
      ],
      "execution_count": 25,
      "outputs": []
    },
    {
      "cell_type": "code",
      "metadata": {
        "id": "12kwRgpCOZsd",
        "colab_type": "code",
        "colab": {}
      },
      "source": [
        "for t in train_data:\n",
        "    for i, fact in enumerate(t[0]):\n",
        "        t[0][i] = prepare_seq(fact).view(1, -1)\n",
        "    t[1] = prepare_seq(t[1]).view(1, -1)\n",
        "    t[2] = prepare_seq(t[2]).view(1, -1)"
      ],
      "execution_count": 26,
      "outputs": []
    },
    {
      "cell_type": "code",
      "metadata": {
        "id": "19h7mq60OaOB",
        "colab_type": "code",
        "colab": {}
      },
      "source": [
        "for t in eval_data:\n",
        "    for i, fact in enumerate(t[0]):\n",
        "        t[0][i] = prepare_seq(fact).view(1, -1)\n",
        "    t[1] = prepare_seq(t[1]).view(1, -1)\n",
        "    t[2] = prepare_seq(t[2]).view(1, -1)"
      ],
      "execution_count": 27,
      "outputs": []
    },
    {
      "cell_type": "markdown",
      "metadata": {
        "id": "DeYz88i9GOIR",
        "colab_type": "text"
      },
      "source": [
        "### Question Module"
      ]
    },
    {
      "cell_type": "code",
      "metadata": {
        "id": "QJD37DLPSqSO",
        "colab_type": "code",
        "colab": {}
      },
      "source": [
        "class QuestionModule(nn.Module):\n",
        "    def __init__(self, hidden_size, embedding, dropout=0.3):\n",
        "        super().__init__()\n",
        "\n",
        "        self.embedding = embedding\n",
        "        self.gru = nn.GRU(hidden_size, hidden_size, batch_first=True)\n",
        "        self.dropout = nn.Dropout(dropout)\n",
        "\n",
        "    def forward(self, questions):\n",
        "        # questions => [batch_size, max_ques_len]\n",
        "        \n",
        "        embed = self.embedding(questions)\n",
        "        embed = self.dropout(embed)\n",
        "        # embed => [batch_size, max_ques_len, hid_dim]\n",
        "\n",
        "        output, hidden = self.gru(embed)\n",
        "        # output => [batch_size, max_ques_len, hid_dim]\n",
        "        # hidden => [1, batch_size, hid_dim]\n",
        "\n",
        "        question_rep = hidden.transpose(0, 1)\n",
        "        # question_rep => [batch_size, 1, hid_dim]\n",
        "\n",
        "        return question_rep"
      ],
      "execution_count": 28,
      "outputs": []
    },
    {
      "cell_type": "markdown",
      "metadata": {
        "id": "sK1jyHFgGLVF",
        "colab_type": "text"
      },
      "source": [
        "### Input Module"
      ]
    },
    {
      "cell_type": "code",
      "metadata": {
        "id": "4oifVEM8UL3g",
        "colab_type": "code",
        "colab": {}
      },
      "source": [
        "class InputModule(nn.Module):\n",
        "    def __init__(self, hidden_size, embedding, dropout=0.3):\n",
        "        super().__init__()\n",
        "\n",
        "        self.hidden_size = hidden_size\n",
        "        self.embedding = embedding\n",
        "        # input fusion layer for exchaning information between sentences\n",
        "        self.gru = nn.GRU(hidden_size, hidden_size, bidirectional=True, batch_first=True)\n",
        "\n",
        "        self.dropout = nn.Dropout(dropout)\n",
        "    \n",
        "    def positional_encoder(self, embedded):\n",
        "        # embedded => [batch_size, num_sentences, num_tokens, hid_dim]\n",
        "\n",
        "        batch_size, num_sentences, num_tokens, emb_length = embedded.size()\n",
        "        l = []\n",
        "        M = num_tokens - 1\n",
        "        D = emb_length\n",
        "        for j in range(num_tokens):\n",
        "            x = []\n",
        "            for d in range(emb_length):\n",
        "                x.append((1 - j / M) - (d/D)*(1 - 2*j/M))\n",
        "            l.append(x)\n",
        "        \n",
        "        l = Variable(torch.FloatTensor(l)).to(device)\n",
        "        # l => [num_tokens, emb_length]\n",
        "        l = l.unsqueeze(0)\n",
        "        l = l.unsqueeze(1)\n",
        "        # l => [1, 1, num_tokens, emb_length]\n",
        "\n",
        "        mat = embedded * l\n",
        "        # mat => [batch_size, num_sentences, num_tokens, hid_dim]\n",
        "        encoded_facts = torch.sum(mat, dim=2).squeeze(2)\n",
        "        # encoded_facts => [batch_size, num_sentences, hid_dim]\n",
        "\n",
        "        return encoded_facts\n",
        "\n",
        "    def forward(self, facts):\n",
        "        # facts => [batch_size, num_sentences, num_tokens]\n",
        "\n",
        "        batch_size, num_sentences, num_tokens = facts.size()\n",
        "\n",
        "        facts = facts.view(batch_size, -1)\n",
        "        embed = self.embedding(facts)\n",
        "        embed = embed.view(batch_size, num_sentences, num_tokens, -1)\n",
        "        # embed => [batch_size, num_sentences, num_tokens, hid_dim]\n",
        "\n",
        "        positional_encoded = self.positional_encoder(embed)\n",
        "        positional_encoded = self.dropout(positional_encoded)\n",
        "        # positional_encoded => [batch_size, num_sentences, hid_dim]\n",
        "\n",
        "        outputs, hidden = self.gru(positional_encoded)\n",
        "        # outputs => [batch_size, num_sentences, hid_dim * 2]\n",
        "        # hidden => [2, batch_size, hid_dim]\n",
        "\n",
        "        # combine the forward and backward gru outputs of each sentence\n",
        "        combined = outputs[:, :, :self.hidden_size] + outputs[:, :, self.hidden_size:]\n",
        "        # combined => [batch_size, num_sentences, hid_dim]\n",
        "\n",
        "        return combined"
      ],
      "execution_count": 66,
      "outputs": []
    },
    {
      "cell_type": "markdown",
      "metadata": {
        "id": "SCPUS66yGBqg",
        "colab_type": "text"
      },
      "source": [
        "### Episodic Memory Module"
      ]
    },
    {
      "cell_type": "markdown",
      "metadata": {
        "id": "iWqBPhTOF9Np",
        "colab_type": "text"
      },
      "source": [
        "#### Attention Cell"
      ]
    },
    {
      "cell_type": "code",
      "metadata": {
        "id": "ByazBMKDhNcw",
        "colab_type": "code",
        "colab": {}
      },
      "source": [
        "class AttentionGRUCell(nn.Module):\n",
        "    def __init__(self, input_size, hidden_size):\n",
        "        super().__init__()\n",
        "\n",
        "        self.input_size = input_size\n",
        "        self.hidden_size = hidden_size\n",
        "\n",
        "        self.Wr = nn.Linear(input_size, hidden_size)\n",
        "        self.Ur = nn.Linear(hidden_size, hidden_size)\n",
        "        self.W = nn.Linear(input_size, hidden_size)\n",
        "        self.U = nn.Linear(hidden_size, hidden_size)\n",
        "    \n",
        "    def forward(self, fact, hidden, gate):\n",
        "        # fact => [batch_size, hid_dim]\n",
        "        # hidden => [batch_size, hid_dim]\n",
        "        # gate => [batch_size]\n",
        "\n",
        "        r = F.sigmoid(self.Wr(fact) + self.Ur(hidden))\n",
        "        h_tilda = F.tanh(self.W(fact) + r * self.U(hidden))\n",
        "        \n",
        "        gate = gate.unsqueeze(1).expand_as(h_tilda)\n",
        "        # gate => [batch_size, hid_dim]\n",
        "        \n",
        "        hidden = gate * h_tilda + (1 - gate) * hidden\n",
        "        return hidden "
      ],
      "execution_count": 81,
      "outputs": []
    },
    {
      "cell_type": "markdown",
      "metadata": {
        "id": "nQVKc17NF4yR",
        "colab_type": "text"
      },
      "source": [
        "#### Attention GRU"
      ]
    },
    {
      "cell_type": "code",
      "metadata": {
        "id": "Mf9p6t5zfhmP",
        "colab_type": "code",
        "colab": {}
      },
      "source": [
        "class AttentionGRU(nn.Module):\n",
        "    def __init__(self, input_size, hidden_size):\n",
        "        super().__init__()\n",
        "\n",
        "        self.input_size = input_size\n",
        "        self.hidden_size = hidden_size\n",
        "        self.attn_gru = AttentionGRUCell(input_size, hidden_size)\n",
        "    \n",
        "    def forward(self, facts, gates):\n",
        "        # facts => [batch_size, num_sentences, hid_dim]\n",
        "        # gates => [batch_size, num_sentences]\n",
        "\n",
        "        num_sentences = facts.size(1)\n",
        "        init_hidden = Variable(torch.zeros(self.hidden_size)).to(device)\n",
        "        # init_hidden => [hid_dim]\n",
        "\n",
        "        for sent in range(num_sentences):\n",
        "            fact = facts[:, sent, :]\n",
        "            gate = gates[:, sent]\n",
        "\n",
        "            if sent == 0:\n",
        "                hidden = init_hidden.unsqueeze(0).expand_as(fact)\n",
        "                # hidden => [batch_size, hid_dim]\n",
        "            hidden = self.attn_gru(fact, hidden, gate)\n",
        "        context = hidden\n",
        "        return context"
      ],
      "execution_count": 82,
      "outputs": []
    },
    {
      "cell_type": "markdown",
      "metadata": {
        "id": "B7FB0LlYFzHl",
        "colab_type": "text"
      },
      "source": [
        "#### Memory Module"
      ]
    },
    {
      "cell_type": "code",
      "metadata": {
        "id": "eeraR55TY3Mw",
        "colab_type": "code",
        "colab": {}
      },
      "source": [
        "class MemoryModule(nn.Module):\n",
        "    def __init__(self, hidden_size):\n",
        "        super().__init__()\n",
        "        self.hidden_size = hidden_size\n",
        "        self.gru = AttentionGRU(hidden_size, hidden_size)\n",
        "        self.W1 = nn.Linear(4 * hidden_size, hidden_size)\n",
        "        self.W2 = nn.Linear(hidden_size, 1)\n",
        "        self.W_mem = nn.Linear(3 * hidden_size, hidden_size)\n",
        "    \n",
        "    def gate_matrix(self, facts, questions, prev_mem):\n",
        "        # facts => [batch_size, num_sentences, hid_dim]\n",
        "        # questions => [batch_size, 1, hid_dim]\n",
        "        # prev_mem => [batch_size, 1, hid_dim]\n",
        "\n",
        "        batch_size = facts.size(0)\n",
        "        questions = questions.expand_as(facts)\n",
        "        prev_mem = prev_mem.expand_as(facts)\n",
        "\n",
        "        z = torch.cat(\n",
        "            [\n",
        "             facts * questions,\n",
        "             facts * prev_mem,\n",
        "             torch.abs(facts - questions),\n",
        "             torch.abs(facts - prev_mem)\n",
        "            ],\n",
        "            dim=2\n",
        "        )\n",
        "        # z => [batch_size, num_sentences, 4 * hid_dim]\n",
        "        z = z.view(-1, 4 * self.hidden_size)\n",
        "        z = self.W2(F.tanh(self.W1(z)))\n",
        "        z = z.view(batch_size, -1)\n",
        "        gates = F.softmax(z)\n",
        "\n",
        "        return gates\n",
        "\n",
        "    def forward(self, facts, questions, prev_mem):\n",
        "        # facts => [batch_size, num_sentences, hid_dim]\n",
        "        # questions => [batch_size, 1, hid_dim]\n",
        "        # prev_mem => [batch_size, 1, hid_dim]\n",
        "        gates = self.gate_matrix(facts, questions, prev_mem)\n",
        "        context = self.gru(facts, gates)\n",
        "\n",
        "        concat = torch.cat([prev_mem.squeeze(1), context, questions.squeeze(1)], dim=1)\n",
        "        next_memory = F.relu(self.W_mem(concat))\n",
        "        next_memory = next_memory.unsqueeze(1)\n",
        "\n",
        "        return next_memory"
      ],
      "execution_count": 83,
      "outputs": []
    },
    {
      "cell_type": "markdown",
      "metadata": {
        "id": "r0A1VQ--F2KP",
        "colab_type": "text"
      },
      "source": [
        "### Answer Module"
      ]
    },
    {
      "cell_type": "code",
      "metadata": {
        "id": "d1byRe5eZbZK",
        "colab_type": "code",
        "colab": {}
      },
      "source": [
        "class AnswerModule(nn.Module):\n",
        "    def __init__(self, vocab_size, hidden_size, dropout=0.3):\n",
        "        super().__init__()\n",
        "\n",
        "        self.W = nn.Linear(2 * hidden_size, vocab_size)\n",
        "        self.dropout = nn.Dropout(dropout)\n",
        "    \n",
        "    def forward(self, memory, questions):\n",
        "        # memory => [batch_size, 1, hid_dim]\n",
        "        # questions => [batch_size, 1, hid_dim]\n",
        "        combined = torch.cat([memory, questions], dim=2).squeeze(1)\n",
        "        out = self.W(combined)\n",
        "        # out => [batch_size, vocab_size]\n",
        "\n",
        "        return out"
      ],
      "execution_count": 84,
      "outputs": []
    },
    {
      "cell_type": "markdown",
      "metadata": {
        "id": "rKZb4tCyGSFD",
        "colab_type": "text"
      },
      "source": [
        "### DMN+"
      ]
    },
    {
      "cell_type": "code",
      "metadata": {
        "id": "0ImZ0PGTZhr3",
        "colab_type": "code",
        "colab": {}
      },
      "source": [
        "class DMNPlus(nn.Module):\n",
        "    def __init__(self, hidden_size, vocab_size, num_episodes=3):\n",
        "        super().__init__()\n",
        "\n",
        "        self.num_episodes = num_episodes\n",
        "        self.word_embedding = nn.Embedding(vocab_size, hidden_size, padding_idx=0)\n",
        "\n",
        "        self.input_module = InputModule(hidden_size, self.word_embedding)\n",
        "        self.question_module = QuestionModule(hidden_size, self.word_embedding)\n",
        "        self.episodic_memory_module = MemoryModule(hidden_size)\n",
        "        self.answer_module = AnswerModule(vocab_size, hidden_size)\n",
        "\n",
        "    def forward(self, context, questions):\n",
        "        # context => [batch_size, num_sentences, num_tokens]\n",
        "        # questions => [batch_size, num_tokens]c\n",
        "\n",
        "        encoded_facts = self.input_module(context)\n",
        "        encoded_ques = self.question_module(questions)\n",
        "\n",
        "        memory = encoded_ques\n",
        "        for episode in range(self.num_episodes):\n",
        "            memory = self.episodic_memory_module(encoded_facts, encoded_ques, memory)\n",
        "        \n",
        "        preds = self.answer_module(memory, encoded_ques)\n",
        "        return preds"
      ],
      "execution_count": 85,
      "outputs": []
    },
    {
      "cell_type": "code",
      "metadata": {
        "id": "PmKs1vebOfmF",
        "colab_type": "code",
        "colab": {}
      },
      "source": [
        "HIDDEN_SIZE = 80\n",
        "NUM_EPISODES = 3\n",
        "\n",
        "model = DMNPlus(HIDDEN_SIZE, len(vocab), NUM_EPISODES).to(device)"
      ],
      "execution_count": 86,
      "outputs": []
    },
    {
      "cell_type": "code",
      "metadata": {
        "id": "GncGPycaOpaa",
        "colab_type": "code",
        "colab": {}
      },
      "source": [
        "criterion = nn.CrossEntropyLoss(ignore_index=0)\n",
        "optimizer = optim.Adam(model.parameters(), lr=1e-3)"
      ],
      "execution_count": 87,
      "outputs": []
    },
    {
      "cell_type": "code",
      "metadata": {
        "id": "PfYCeWyJOq_D",
        "colab_type": "code",
        "colab": {}
      },
      "source": [
        "def train(model, dataset):\n",
        "    model.train()\n",
        "\n",
        "    epoch_loss = 0\n",
        "    total = 0\n",
        "    for i, batch in enumerate(get_batch(dataset)):\n",
        "        facts, questions, answers = pad_batch(batch)\n",
        "\n",
        "        model.zero_grad()\n",
        "        predictions = model(facts, questions)\n",
        "        loss = criterion(predictions, answers.view(-1))\n",
        "        \n",
        "        epoch_loss += loss.item()\n",
        "        total += 1\n",
        "\n",
        "        loss.backward()\n",
        "        optimizer.step()\n",
        "    \n",
        "    return epoch_loss / total\n"
      ],
      "execution_count": 88,
      "outputs": []
    },
    {
      "cell_type": "code",
      "metadata": {
        "id": "QfHu59RqOzqM",
        "colab_type": "code",
        "colab": {}
      },
      "source": [
        "def evaluate(model, dataset):\n",
        "    model.eval()\n",
        "\n",
        "    epoch_loss = 0\n",
        "    total = 0\n",
        "    with torch.no_grad():\n",
        "        for i, batch in enumerate(get_batch(dataset)):\n",
        "            facts, questions, answers = pad_batch(batch)\n",
        "\n",
        "            predictions = model(facts, questions)\n",
        "            loss = criterion(predictions, answers.view(-1))\n",
        "            \n",
        "            epoch_loss += loss.item()\n",
        "            total += 1\n",
        "    \n",
        "    return epoch_loss / total"
      ],
      "execution_count": 89,
      "outputs": []
    },
    {
      "cell_type": "code",
      "metadata": {
        "id": "rdZUArT0O5a0",
        "colab_type": "code",
        "colab": {}
      },
      "source": [
        "def epoch_time(start_time, end_time):\n",
        "    elapsed_time = end_time - start_time\n",
        "    elapsed_mins = int(elapsed_time / 60)\n",
        "    elapsed_secs = int(elapsed_time - (elapsed_mins * 60))\n",
        "    return elapsed_mins, elapsed_secs"
      ],
      "execution_count": 90,
      "outputs": []
    },
    {
      "cell_type": "code",
      "metadata": {
        "id": "pAL4MIP-O7MM",
        "colab_type": "code",
        "colab": {
          "base_uri": "https://localhost:8080/",
          "height": 457
        },
        "outputId": "a2d4421a-26ea-41bc-e99a-96bea807163b"
      },
      "source": [
        "n_epochs = 10\n",
        "\n",
        "best_loss = float('inf')\n",
        "no_improvement = 0\n",
        "patience = 3\n",
        "\n",
        "for epoch in range(n_epochs):\n",
        "    start_time = time.time()\n",
        "    train_loss = train(model, train_data)\n",
        "    eval_loss = evaluate(model, eval_data)\n",
        "    end_time = time.time()\n",
        "    \n",
        "    epoch_mins, epoch_secs = epoch_time(start_time, end_time)\n",
        "\n",
        "    print(f'Epoch: {epoch+1:02} | Time: {epoch_mins}m {epoch_secs}s')\n",
        "    print(f'\\tTrain Loss: {train_loss:.3f} | Val. Loss: {eval_loss:.3f}')\n",
        "\n",
        "    if eval_loss < best_loss:\n",
        "        best_loss = eval_loss\n",
        "        no_improvement = 0\n",
        "        torch.save(model.state_dict(), 'model.pt')\n",
        "    else:\n",
        "        no_improvement += 1\n",
        "    \n",
        "    if no_improvement == patience:\n",
        "        break"
      ],
      "execution_count": 91,
      "outputs": [
        {
          "output_type": "stream",
          "text": [
            "/usr/local/lib/python3.6/dist-packages/torch/nn/functional.py:1614: UserWarning: nn.functional.tanh is deprecated. Use torch.tanh instead.\n",
            "  warnings.warn(\"nn.functional.tanh is deprecated. Use torch.tanh instead.\")\n",
            "/usr/local/lib/python3.6/dist-packages/ipykernel_launcher.py:32: UserWarning: Implicit dimension choice for softmax has been deprecated. Change the call to include dim=X as an argument.\n",
            "/usr/local/lib/python3.6/dist-packages/torch/nn/functional.py:1625: UserWarning: nn.functional.sigmoid is deprecated. Use torch.sigmoid instead.\n",
            "  warnings.warn(\"nn.functional.sigmoid is deprecated. Use torch.sigmoid instead.\")\n"
          ],
          "name": "stderr"
        },
        {
          "output_type": "stream",
          "text": [
            "Epoch: 01 | Time: 0m 53s\n",
            "\tTrain Loss: 1.644 | Val. Loss: 1.289\n",
            "Epoch: 02 | Time: 0m 52s\n",
            "\tTrain Loss: 1.258 | Val. Loss: 1.238\n",
            "Epoch: 03 | Time: 0m 51s\n",
            "\tTrain Loss: 1.065 | Val. Loss: 0.748\n",
            "Epoch: 04 | Time: 0m 51s\n",
            "\tTrain Loss: 0.535 | Val. Loss: 0.497\n",
            "Epoch: 05 | Time: 0m 52s\n",
            "\tTrain Loss: 0.375 | Val. Loss: 0.349\n",
            "Epoch: 06 | Time: 0m 51s\n",
            "\tTrain Loss: 0.308 | Val. Loss: 0.334\n",
            "Epoch: 07 | Time: 0m 53s\n",
            "\tTrain Loss: 0.295 | Val. Loss: 0.324\n",
            "Epoch: 08 | Time: 0m 51s\n",
            "\tTrain Loss: 0.286 | Val. Loss: 0.312\n",
            "Epoch: 09 | Time: 0m 52s\n",
            "\tTrain Loss: 0.270 | Val. Loss: 0.320\n",
            "Epoch: 10 | Time: 0m 51s\n",
            "\tTrain Loss: 0.268 | Val. Loss: 0.316\n"
          ],
          "name": "stdout"
        }
      ]
    },
    {
      "cell_type": "code",
      "metadata": {
        "id": "SjxiA0V4RrEH",
        "colab_type": "code",
        "colab": {}
      },
      "source": [
        ""
      ],
      "execution_count": null,
      "outputs": []
    }
  ]
}